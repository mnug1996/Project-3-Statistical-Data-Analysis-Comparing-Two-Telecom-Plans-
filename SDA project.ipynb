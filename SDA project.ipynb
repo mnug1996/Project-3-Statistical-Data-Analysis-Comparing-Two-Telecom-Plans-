{
 "cells": [
  {
   "cell_type": "markdown",
   "metadata": {},
   "source": [
    "Hi Ted Mathew. I'm Svetlana and will review your project. I've added all my comments to new cells with different coloring. Please don't delete my comments.\n",
    "\n",
    "\n",
    "The first time I see a mistake, I'll just point it out and let you find it and fix it yourself. In a real job, your boss will do the same, and I'm trying to prepare you to work as an Data Analyst. But if you can't handle this task yet, I'll give you a more accurate hint at the next check.\n",
    "\n",
    "<div class=\"alert alert-success\" role=\"alert\">\n",
    "Reviewer's comment v. 1:\n",
    "    \n",
    "If you did something great I'm using green color for my comment\n",
    "</div>\n",
    "\n",
    "<div class=\"alert alert-warning\" role=\"alert\">\n",
    "Reviewer's comment v. 1:\n",
    "    \n",
    "If I want to give you advice or think that something can be improved, then I'll use yellow. This is an optional recommendation.\n",
    "</div>\n",
    "\n",
    "<div class=\"alert alert-danger\" role=\"alert\">\n",
    "Reviewer's comment v. 1:\n",
    "    \n",
    "If the topic requires some extra work so I can accept it then the color will be red\n",
    "</div>\n",
    "\n",
    "## Review v. 1<a class=\"tocSkip\">\n",
    "\n",
    "Thank you! Your project has been received. You've done a lot of work.  Regrettably, your project is not quite ready for review. This is because there are still some things that need to be completed. Please continue the project. Every issue with our code is a chance for us to learn something new. Good luck!\n",
    "    \n",
    "## Review v. 2<a class=\"tocSkip\">\n",
    "    \n",
    "Thank you for submitting your project. You've put a lot of work into this! Sorry, but your project is not quite ready for review. This is because there are still some things that need to be completed (please see project description). Could you please continue the project?  You're almost there! \n",
    "    \n",
    "## Review v. 3<a class=\"tocSkip\">\n",
    "    \n",
    "Thanks for sending in your project with corrections. It's clear you've put a lot of effort into it. There's still a minor issue with this part statistical tests and general conclusion. Here are a few more pointers to help you put the final touches on your project. Keep working, you've got this!\n",
    "    \n",
    "## Review v. 4<a class=\"tocSkip\">\n",
    "    \n",
    "You've worked hard and now your project is perfect! Your project has been accepted and you can go to the next sprint! Keep up the good work, and good luck on the next sprint!"
   ]
  },
  {
   "cell_type": "markdown",
   "metadata": {},
   "source": [
    "<div class=\"alert alert-success\" role=\"alert\">\n",
    "Reviewer's comment v. 1:\n",
    "    \n",
    "Please formulate a goal of the project.\n",
    "</div>"
   ]
  },
  {
   "cell_type": "code",
   "execution_count": 1,
   "metadata": {},
   "outputs": [
    {
     "data": {
      "text/html": [
       "<div>\n",
       "<style scoped>\n",
       "    .dataframe tbody tr th:only-of-type {\n",
       "        vertical-align: middle;\n",
       "    }\n",
       "\n",
       "    .dataframe tbody tr th {\n",
       "        vertical-align: top;\n",
       "    }\n",
       "\n",
       "    .dataframe thead th {\n",
       "        text-align: right;\n",
       "    }\n",
       "</style>\n",
       "<table border=\"1\" class=\"dataframe\">\n",
       "  <thead>\n",
       "    <tr style=\"text-align: right;\">\n",
       "      <th></th>\n",
       "      <th>id</th>\n",
       "      <th>user_id</th>\n",
       "      <th>call_date</th>\n",
       "      <th>duration</th>\n",
       "    </tr>\n",
       "  </thead>\n",
       "  <tbody>\n",
       "    <tr>\n",
       "      <td>0</td>\n",
       "      <td>1000_93</td>\n",
       "      <td>1000</td>\n",
       "      <td>2018-12-27</td>\n",
       "      <td>8.52</td>\n",
       "    </tr>\n",
       "    <tr>\n",
       "      <td>1</td>\n",
       "      <td>1000_145</td>\n",
       "      <td>1000</td>\n",
       "      <td>2018-12-27</td>\n",
       "      <td>13.66</td>\n",
       "    </tr>\n",
       "    <tr>\n",
       "      <td>2</td>\n",
       "      <td>1000_247</td>\n",
       "      <td>1000</td>\n",
       "      <td>2018-12-27</td>\n",
       "      <td>14.48</td>\n",
       "    </tr>\n",
       "    <tr>\n",
       "      <td>3</td>\n",
       "      <td>1000_309</td>\n",
       "      <td>1000</td>\n",
       "      <td>2018-12-28</td>\n",
       "      <td>5.76</td>\n",
       "    </tr>\n",
       "    <tr>\n",
       "      <td>4</td>\n",
       "      <td>1000_380</td>\n",
       "      <td>1000</td>\n",
       "      <td>2018-12-30</td>\n",
       "      <td>4.22</td>\n",
       "    </tr>\n",
       "  </tbody>\n",
       "</table>\n",
       "</div>"
      ],
      "text/plain": [
       "         id  user_id   call_date  duration\n",
       "0   1000_93     1000  2018-12-27      8.52\n",
       "1  1000_145     1000  2018-12-27     13.66\n",
       "2  1000_247     1000  2018-12-27     14.48\n",
       "3  1000_309     1000  2018-12-28      5.76\n",
       "4  1000_380     1000  2018-12-30      4.22"
      ]
     },
     "metadata": {},
     "output_type": "display_data"
    },
    {
     "data": {
      "text/html": [
       "<div>\n",
       "<style scoped>\n",
       "    .dataframe tbody tr th:only-of-type {\n",
       "        vertical-align: middle;\n",
       "    }\n",
       "\n",
       "    .dataframe tbody tr th {\n",
       "        vertical-align: top;\n",
       "    }\n",
       "\n",
       "    .dataframe thead th {\n",
       "        text-align: right;\n",
       "    }\n",
       "</style>\n",
       "<table border=\"1\" class=\"dataframe\">\n",
       "  <thead>\n",
       "    <tr style=\"text-align: right;\">\n",
       "      <th></th>\n",
       "      <th>id</th>\n",
       "      <th>user_id</th>\n",
       "      <th>session_date</th>\n",
       "      <th>mb_used</th>\n",
       "    </tr>\n",
       "  </thead>\n",
       "  <tbody>\n",
       "    <tr>\n",
       "      <td>0</td>\n",
       "      <td>1000_13</td>\n",
       "      <td>1000</td>\n",
       "      <td>2018-12-29</td>\n",
       "      <td>89.86</td>\n",
       "    </tr>\n",
       "    <tr>\n",
       "      <td>1</td>\n",
       "      <td>1000_204</td>\n",
       "      <td>1000</td>\n",
       "      <td>2018-12-31</td>\n",
       "      <td>0.00</td>\n",
       "    </tr>\n",
       "    <tr>\n",
       "      <td>2</td>\n",
       "      <td>1000_379</td>\n",
       "      <td>1000</td>\n",
       "      <td>2018-12-28</td>\n",
       "      <td>660.40</td>\n",
       "    </tr>\n",
       "    <tr>\n",
       "      <td>3</td>\n",
       "      <td>1000_413</td>\n",
       "      <td>1000</td>\n",
       "      <td>2018-12-26</td>\n",
       "      <td>270.99</td>\n",
       "    </tr>\n",
       "    <tr>\n",
       "      <td>4</td>\n",
       "      <td>1000_442</td>\n",
       "      <td>1000</td>\n",
       "      <td>2018-12-27</td>\n",
       "      <td>880.22</td>\n",
       "    </tr>\n",
       "  </tbody>\n",
       "</table>\n",
       "</div>"
      ],
      "text/plain": [
       "         id  user_id session_date  mb_used\n",
       "0   1000_13     1000   2018-12-29    89.86\n",
       "1  1000_204     1000   2018-12-31     0.00\n",
       "2  1000_379     1000   2018-12-28   660.40\n",
       "3  1000_413     1000   2018-12-26   270.99\n",
       "4  1000_442     1000   2018-12-27   880.22"
      ]
     },
     "metadata": {},
     "output_type": "display_data"
    },
    {
     "data": {
      "text/html": [
       "<div>\n",
       "<style scoped>\n",
       "    .dataframe tbody tr th:only-of-type {\n",
       "        vertical-align: middle;\n",
       "    }\n",
       "\n",
       "    .dataframe tbody tr th {\n",
       "        vertical-align: top;\n",
       "    }\n",
       "\n",
       "    .dataframe thead th {\n",
       "        text-align: right;\n",
       "    }\n",
       "</style>\n",
       "<table border=\"1\" class=\"dataframe\">\n",
       "  <thead>\n",
       "    <tr style=\"text-align: right;\">\n",
       "      <th></th>\n",
       "      <th>id</th>\n",
       "      <th>user_id</th>\n",
       "      <th>message_date</th>\n",
       "    </tr>\n",
       "  </thead>\n",
       "  <tbody>\n",
       "    <tr>\n",
       "      <td>0</td>\n",
       "      <td>1000_125</td>\n",
       "      <td>1000</td>\n",
       "      <td>2018-12-27</td>\n",
       "    </tr>\n",
       "    <tr>\n",
       "      <td>1</td>\n",
       "      <td>1000_160</td>\n",
       "      <td>1000</td>\n",
       "      <td>2018-12-31</td>\n",
       "    </tr>\n",
       "    <tr>\n",
       "      <td>2</td>\n",
       "      <td>1000_223</td>\n",
       "      <td>1000</td>\n",
       "      <td>2018-12-31</td>\n",
       "    </tr>\n",
       "    <tr>\n",
       "      <td>3</td>\n",
       "      <td>1000_251</td>\n",
       "      <td>1000</td>\n",
       "      <td>2018-12-27</td>\n",
       "    </tr>\n",
       "    <tr>\n",
       "      <td>4</td>\n",
       "      <td>1000_255</td>\n",
       "      <td>1000</td>\n",
       "      <td>2018-12-26</td>\n",
       "    </tr>\n",
       "  </tbody>\n",
       "</table>\n",
       "</div>"
      ],
      "text/plain": [
       "         id  user_id message_date\n",
       "0  1000_125     1000   2018-12-27\n",
       "1  1000_160     1000   2018-12-31\n",
       "2  1000_223     1000   2018-12-31\n",
       "3  1000_251     1000   2018-12-27\n",
       "4  1000_255     1000   2018-12-26"
      ]
     },
     "metadata": {},
     "output_type": "display_data"
    },
    {
     "data": {
      "text/html": [
       "<div>\n",
       "<style scoped>\n",
       "    .dataframe tbody tr th:only-of-type {\n",
       "        vertical-align: middle;\n",
       "    }\n",
       "\n",
       "    .dataframe tbody tr th {\n",
       "        vertical-align: top;\n",
       "    }\n",
       "\n",
       "    .dataframe thead th {\n",
       "        text-align: right;\n",
       "    }\n",
       "</style>\n",
       "<table border=\"1\" class=\"dataframe\">\n",
       "  <thead>\n",
       "    <tr style=\"text-align: right;\">\n",
       "      <th></th>\n",
       "      <th>messages_included</th>\n",
       "      <th>mb_per_month_included</th>\n",
       "      <th>minutes_included</th>\n",
       "      <th>usd_monthly_pay</th>\n",
       "      <th>usd_per_gb</th>\n",
       "      <th>usd_per_message</th>\n",
       "      <th>usd_per_minute</th>\n",
       "      <th>plan_name</th>\n",
       "    </tr>\n",
       "  </thead>\n",
       "  <tbody>\n",
       "    <tr>\n",
       "      <td>0</td>\n",
       "      <td>50</td>\n",
       "      <td>15360</td>\n",
       "      <td>500</td>\n",
       "      <td>20</td>\n",
       "      <td>10</td>\n",
       "      <td>0.03</td>\n",
       "      <td>0.03</td>\n",
       "      <td>surf</td>\n",
       "    </tr>\n",
       "    <tr>\n",
       "      <td>1</td>\n",
       "      <td>1000</td>\n",
       "      <td>30720</td>\n",
       "      <td>3000</td>\n",
       "      <td>70</td>\n",
       "      <td>7</td>\n",
       "      <td>0.01</td>\n",
       "      <td>0.01</td>\n",
       "      <td>ultimate</td>\n",
       "    </tr>\n",
       "  </tbody>\n",
       "</table>\n",
       "</div>"
      ],
      "text/plain": [
       "   messages_included  mb_per_month_included  minutes_included  \\\n",
       "0                 50                  15360               500   \n",
       "1               1000                  30720              3000   \n",
       "\n",
       "   usd_monthly_pay  usd_per_gb  usd_per_message  usd_per_minute plan_name  \n",
       "0               20          10             0.03            0.03      surf  \n",
       "1               70           7             0.01            0.01  ultimate  "
      ]
     },
     "metadata": {},
     "output_type": "display_data"
    },
    {
     "data": {
      "text/html": [
       "<div>\n",
       "<style scoped>\n",
       "    .dataframe tbody tr th:only-of-type {\n",
       "        vertical-align: middle;\n",
       "    }\n",
       "\n",
       "    .dataframe tbody tr th {\n",
       "        vertical-align: top;\n",
       "    }\n",
       "\n",
       "    .dataframe thead th {\n",
       "        text-align: right;\n",
       "    }\n",
       "</style>\n",
       "<table border=\"1\" class=\"dataframe\">\n",
       "  <thead>\n",
       "    <tr style=\"text-align: right;\">\n",
       "      <th></th>\n",
       "      <th>user_id</th>\n",
       "      <th>first_name</th>\n",
       "      <th>last_name</th>\n",
       "      <th>age</th>\n",
       "      <th>city</th>\n",
       "      <th>reg_date</th>\n",
       "      <th>plan</th>\n",
       "      <th>churn_date</th>\n",
       "    </tr>\n",
       "  </thead>\n",
       "  <tbody>\n",
       "    <tr>\n",
       "      <td>0</td>\n",
       "      <td>1000</td>\n",
       "      <td>Anamaria</td>\n",
       "      <td>Bauer</td>\n",
       "      <td>45</td>\n",
       "      <td>Atlanta-Sandy Springs-Roswell, GA MSA</td>\n",
       "      <td>2018-12-24</td>\n",
       "      <td>ultimate</td>\n",
       "      <td>NaN</td>\n",
       "    </tr>\n",
       "    <tr>\n",
       "      <td>1</td>\n",
       "      <td>1001</td>\n",
       "      <td>Mickey</td>\n",
       "      <td>Wilkerson</td>\n",
       "      <td>28</td>\n",
       "      <td>Seattle-Tacoma-Bellevue, WA MSA</td>\n",
       "      <td>2018-08-13</td>\n",
       "      <td>surf</td>\n",
       "      <td>NaN</td>\n",
       "    </tr>\n",
       "    <tr>\n",
       "      <td>2</td>\n",
       "      <td>1002</td>\n",
       "      <td>Carlee</td>\n",
       "      <td>Hoffman</td>\n",
       "      <td>36</td>\n",
       "      <td>Las Vegas-Henderson-Paradise, NV MSA</td>\n",
       "      <td>2018-10-21</td>\n",
       "      <td>surf</td>\n",
       "      <td>NaN</td>\n",
       "    </tr>\n",
       "    <tr>\n",
       "      <td>3</td>\n",
       "      <td>1003</td>\n",
       "      <td>Reynaldo</td>\n",
       "      <td>Jenkins</td>\n",
       "      <td>52</td>\n",
       "      <td>Tulsa, OK MSA</td>\n",
       "      <td>2018-01-28</td>\n",
       "      <td>surf</td>\n",
       "      <td>NaN</td>\n",
       "    </tr>\n",
       "    <tr>\n",
       "      <td>4</td>\n",
       "      <td>1004</td>\n",
       "      <td>Leonila</td>\n",
       "      <td>Thompson</td>\n",
       "      <td>40</td>\n",
       "      <td>Seattle-Tacoma-Bellevue, WA MSA</td>\n",
       "      <td>2018-05-23</td>\n",
       "      <td>surf</td>\n",
       "      <td>NaN</td>\n",
       "    </tr>\n",
       "  </tbody>\n",
       "</table>\n",
       "</div>"
      ],
      "text/plain": [
       "   user_id first_name  last_name  age                                   city  \\\n",
       "0     1000   Anamaria      Bauer   45  Atlanta-Sandy Springs-Roswell, GA MSA   \n",
       "1     1001     Mickey  Wilkerson   28        Seattle-Tacoma-Bellevue, WA MSA   \n",
       "2     1002     Carlee    Hoffman   36   Las Vegas-Henderson-Paradise, NV MSA   \n",
       "3     1003   Reynaldo    Jenkins   52                          Tulsa, OK MSA   \n",
       "4     1004    Leonila   Thompson   40        Seattle-Tacoma-Bellevue, WA MSA   \n",
       "\n",
       "     reg_date      plan churn_date  \n",
       "0  2018-12-24  ultimate        NaN  \n",
       "1  2018-08-13      surf        NaN  \n",
       "2  2018-10-21      surf        NaN  \n",
       "3  2018-01-28      surf        NaN  \n",
       "4  2018-05-23      surf        NaN  "
      ]
     },
     "metadata": {},
     "output_type": "display_data"
    }
   ],
   "source": [
    "import pandas as pd\n",
    "#read the files\n",
    "calls = pd.read_csv('/datasets/megaline_calls.csv')\n",
    "internet = pd.read_csv('/datasets/megaline_internet.csv')\n",
    "messages = pd.read_csv('/datasets/megaline_messages.csv')\n",
    "plans = pd.read_csv('/datasets/megaline_plans.csv')\n",
    "users = pd.read_csv('/datasets/megaline_users.csv')\n",
    "\n",
    "display(calls.head(), internet.head(), messages.head(), plans.head(), users.head())"
   ]
  },
  {
   "cell_type": "markdown",
   "metadata": {},
   "source": [
    "<div class=\"alert alert-success\" role=\"alert\">\n",
    "Reviewer's comment v. 1:\n",
    "    \n",
    "Well done for using try-except for the path to the file.\n",
    "</div>"
   ]
  },
  {
   "cell_type": "code",
   "execution_count": 2,
   "metadata": {
    "scrolled": true
   },
   "outputs": [
    {
     "name": "stdout",
     "output_type": "stream",
     "text": [
      "<class 'pandas.core.frame.DataFrame'>\n",
      "RangeIndex: 137735 entries, 0 to 137734\n",
      "Data columns (total 4 columns):\n",
      "id           137735 non-null object\n",
      "user_id      137735 non-null int64\n",
      "call_date    137735 non-null object\n",
      "duration     137735 non-null float64\n",
      "dtypes: float64(1), int64(1), object(2)\n",
      "memory usage: 4.2+ MB\n",
      "<class 'pandas.core.frame.DataFrame'>\n",
      "RangeIndex: 104825 entries, 0 to 104824\n",
      "Data columns (total 4 columns):\n",
      "id              104825 non-null object\n",
      "user_id         104825 non-null int64\n",
      "session_date    104825 non-null object\n",
      "mb_used         104825 non-null float64\n",
      "dtypes: float64(1), int64(1), object(2)\n",
      "memory usage: 3.2+ MB\n",
      "<class 'pandas.core.frame.DataFrame'>\n",
      "RangeIndex: 76051 entries, 0 to 76050\n",
      "Data columns (total 3 columns):\n",
      "id              76051 non-null object\n",
      "user_id         76051 non-null int64\n",
      "message_date    76051 non-null object\n",
      "dtypes: int64(1), object(2)\n",
      "memory usage: 1.7+ MB\n",
      "<class 'pandas.core.frame.DataFrame'>\n",
      "RangeIndex: 2 entries, 0 to 1\n",
      "Data columns (total 8 columns):\n",
      "messages_included        2 non-null int64\n",
      "mb_per_month_included    2 non-null int64\n",
      "minutes_included         2 non-null int64\n",
      "usd_monthly_pay          2 non-null int64\n",
      "usd_per_gb               2 non-null int64\n",
      "usd_per_message          2 non-null float64\n",
      "usd_per_minute           2 non-null float64\n",
      "plan_name                2 non-null object\n",
      "dtypes: float64(2), int64(5), object(1)\n",
      "memory usage: 256.0+ bytes\n",
      "<class 'pandas.core.frame.DataFrame'>\n",
      "RangeIndex: 500 entries, 0 to 499\n",
      "Data columns (total 8 columns):\n",
      "user_id       500 non-null int64\n",
      "first_name    500 non-null object\n",
      "last_name     500 non-null object\n",
      "age           500 non-null int64\n",
      "city          500 non-null object\n",
      "reg_date      500 non-null object\n",
      "plan          500 non-null object\n",
      "churn_date    34 non-null object\n",
      "dtypes: int64(2), object(6)\n",
      "memory usage: 31.4+ KB\n"
     ]
    },
    {
     "data": {
      "text/plain": [
       "None"
      ]
     },
     "metadata": {},
     "output_type": "display_data"
    },
    {
     "data": {
      "text/plain": [
       "None"
      ]
     },
     "metadata": {},
     "output_type": "display_data"
    },
    {
     "data": {
      "text/plain": [
       "None"
      ]
     },
     "metadata": {},
     "output_type": "display_data"
    },
    {
     "data": {
      "text/plain": [
       "None"
      ]
     },
     "metadata": {},
     "output_type": "display_data"
    },
    {
     "data": {
      "text/plain": [
       "None"
      ]
     },
     "metadata": {},
     "output_type": "display_data"
    }
   ],
   "source": [
    "display(calls.info(), internet.info(), messages.info(), plans.info(), users.info())\n",
    "#info method displays that there are 0 null values and there seem to be no apparent errors"
   ]
  },
  {
   "cell_type": "markdown",
   "metadata": {},
   "source": [
    "<div class=\"alert alert-success\" role=\"alert\">\n",
    "Reviewer's comment v. 3:\n",
    "    \n",
    "Ok :)\n",
    "</div>"
   ]
  },
  {
   "cell_type": "code",
   "execution_count": 3,
   "metadata": {
    "scrolled": true
   },
   "outputs": [
    {
     "data": {
      "text/plain": [
       "id           0\n",
       "user_id      0\n",
       "call_date    0\n",
       "duration     0\n",
       "dtype: int64"
      ]
     },
     "metadata": {},
     "output_type": "display_data"
    },
    {
     "data": {
      "text/plain": [
       "id              0\n",
       "user_id         0\n",
       "session_date    0\n",
       "mb_used         0\n",
       "dtype: int64"
      ]
     },
     "metadata": {},
     "output_type": "display_data"
    },
    {
     "data": {
      "text/plain": [
       "id              0\n",
       "user_id         0\n",
       "message_date    0\n",
       "dtype: int64"
      ]
     },
     "metadata": {},
     "output_type": "display_data"
    },
    {
     "data": {
      "text/plain": [
       "messages_included        0\n",
       "mb_per_month_included    0\n",
       "minutes_included         0\n",
       "usd_monthly_pay          0\n",
       "usd_per_gb               0\n",
       "usd_per_message          0\n",
       "usd_per_minute           0\n",
       "plan_name                0\n",
       "dtype: int64"
      ]
     },
     "metadata": {},
     "output_type": "display_data"
    },
    {
     "data": {
      "text/plain": [
       "user_id         0\n",
       "first_name      0\n",
       "last_name       0\n",
       "age             0\n",
       "city            0\n",
       "reg_date        0\n",
       "plan            0\n",
       "churn_date    466\n",
       "dtype: int64"
      ]
     },
     "metadata": {},
     "output_type": "display_data"
    }
   ],
   "source": [
    "display(calls.isnull().sum(), internet.isnull().sum(), messages.isnull().sum(), plans.isnull().sum(), users.isnull().sum())\n",
    "#no missing values"
   ]
  },
  {
   "cell_type": "code",
   "execution_count": 4,
   "metadata": {
    "scrolled": true
   },
   "outputs": [
    {
     "data": {
      "text/plain": [
       "0"
      ]
     },
     "metadata": {},
     "output_type": "display_data"
    },
    {
     "data": {
      "text/plain": [
       "(None, 0, 0, 0, 0)"
      ]
     },
     "execution_count": 4,
     "metadata": {},
     "output_type": "execute_result"
    }
   ],
   "source": [
    "display(calls.duplicated().sum()), internet.duplicated().sum(), messages.duplicated().sum(), plans.duplicated().sum(), users.duplicated().sum()\n",
    "#no duplicate rows"
   ]
  },
  {
   "cell_type": "markdown",
   "metadata": {},
   "source": [
    "<div class=\"alert alert-success\" role=\"alert\">\n",
    "Reviewer's comment v. 3:\n",
    "    \n",
    "You correctly noted that we don't have problem with duplicates in our data.\n",
    "</div>"
   ]
  },
  {
   "cell_type": "markdown",
   "metadata": {},
   "source": [
    "**Conclusion 1.1:**\n",
    "\n",
    "1) There are 5 separate dataframes that need to be merged in order to calculate monthly revenue\n",
    "\n",
    "2) There are no missing values (all columns are non-null)\n",
    "\n",
    "3) There are no duplicate rows in any of the dataframes\n",
    "\n",
    "4) All datatypes are acceptable except for the date, which will be converted to datetime for streamlined calculations\n",
    "\n",
    "5) mb will be converted to gb after intermediary calculations (mb_used_monthly, mb_topay) are calculated to accomodate for usd/gb fees\n"
   ]
  },
  {
   "cell_type": "markdown",
   "metadata": {},
   "source": [
    "<div class=\"alert alert-danger\" role=\"alert\">\n",
    "Reviewer's comment v. 1:\n",
    "    \n",
    "Could you please make a conclusion about data correctness?\n",
    "</div>"
   ]
  },
  {
   "cell_type": "markdown",
   "metadata": {},
   "source": [
    "<div class=\"alert alert-success\" role=\"alert\">\n",
    "Reviewer's comment v. 2:\n",
    "    \n",
    "Yes, you correctly noted that we don't have a missing values (besides one column) and duplicates.\n",
    "</div>"
   ]
  },
  {
   "cell_type": "markdown",
   "metadata": {},
   "source": [
    "# Step 2. Prepare the data"
   ]
  },
  {
   "cell_type": "markdown",
   "metadata": {},
   "source": [
    "**Next, calculate totals for 1)calls made/month, 2)minutes used/month, 3)texts sent/month, 4)volume of data/month, and 5)monthly revenue of each user**"
   ]
  },
  {
   "cell_type": "code",
   "execution_count": 5,
   "metadata": {
    "scrolled": false
   },
   "outputs": [
    {
     "data": {
      "text/html": [
       "<div>\n",
       "<style scoped>\n",
       "    .dataframe tbody tr th:only-of-type {\n",
       "        vertical-align: middle;\n",
       "    }\n",
       "\n",
       "    .dataframe tbody tr th {\n",
       "        vertical-align: top;\n",
       "    }\n",
       "\n",
       "    .dataframe thead th {\n",
       "        text-align: right;\n",
       "    }\n",
       "</style>\n",
       "<table border=\"1\" class=\"dataframe\">\n",
       "  <thead>\n",
       "    <tr style=\"text-align: right;\">\n",
       "      <th></th>\n",
       "      <th>id</th>\n",
       "      <th>user_id</th>\n",
       "      <th>call_date</th>\n",
       "      <th>duration</th>\n",
       "    </tr>\n",
       "  </thead>\n",
       "  <tbody>\n",
       "    <tr>\n",
       "      <td>0</td>\n",
       "      <td>1000_93</td>\n",
       "      <td>1000</td>\n",
       "      <td>2018-12-27</td>\n",
       "      <td>9.0</td>\n",
       "    </tr>\n",
       "    <tr>\n",
       "      <td>1</td>\n",
       "      <td>1000_145</td>\n",
       "      <td>1000</td>\n",
       "      <td>2018-12-27</td>\n",
       "      <td>14.0</td>\n",
       "    </tr>\n",
       "    <tr>\n",
       "      <td>2</td>\n",
       "      <td>1000_247</td>\n",
       "      <td>1000</td>\n",
       "      <td>2018-12-27</td>\n",
       "      <td>15.0</td>\n",
       "    </tr>\n",
       "    <tr>\n",
       "      <td>3</td>\n",
       "      <td>1000_309</td>\n",
       "      <td>1000</td>\n",
       "      <td>2018-12-28</td>\n",
       "      <td>6.0</td>\n",
       "    </tr>\n",
       "    <tr>\n",
       "      <td>4</td>\n",
       "      <td>1000_380</td>\n",
       "      <td>1000</td>\n",
       "      <td>2018-12-30</td>\n",
       "      <td>5.0</td>\n",
       "    </tr>\n",
       "    <tr>\n",
       "      <td>5</td>\n",
       "      <td>1000_388</td>\n",
       "      <td>1000</td>\n",
       "      <td>2018-12-31</td>\n",
       "      <td>3.0</td>\n",
       "    </tr>\n",
       "    <tr>\n",
       "      <td>6</td>\n",
       "      <td>1000_510</td>\n",
       "      <td>1000</td>\n",
       "      <td>2018-12-27</td>\n",
       "      <td>6.0</td>\n",
       "    </tr>\n",
       "    <tr>\n",
       "      <td>7</td>\n",
       "      <td>1000_521</td>\n",
       "      <td>1000</td>\n",
       "      <td>2018-12-28</td>\n",
       "      <td>15.0</td>\n",
       "    </tr>\n",
       "    <tr>\n",
       "      <td>8</td>\n",
       "      <td>1000_530</td>\n",
       "      <td>1000</td>\n",
       "      <td>2018-12-28</td>\n",
       "      <td>6.0</td>\n",
       "    </tr>\n",
       "    <tr>\n",
       "      <td>9</td>\n",
       "      <td>1000_544</td>\n",
       "      <td>1000</td>\n",
       "      <td>2018-12-26</td>\n",
       "      <td>5.0</td>\n",
       "    </tr>\n",
       "    <tr>\n",
       "      <td>10</td>\n",
       "      <td>1000_693</td>\n",
       "      <td>1000</td>\n",
       "      <td>2018-12-31</td>\n",
       "      <td>5.0</td>\n",
       "    </tr>\n",
       "    <tr>\n",
       "      <td>11</td>\n",
       "      <td>1000_705</td>\n",
       "      <td>1000</td>\n",
       "      <td>2018-12-31</td>\n",
       "      <td>13.0</td>\n",
       "    </tr>\n",
       "    <tr>\n",
       "      <td>12</td>\n",
       "      <td>1000_735</td>\n",
       "      <td>1000</td>\n",
       "      <td>2018-12-29</td>\n",
       "      <td>2.0</td>\n",
       "    </tr>\n",
       "    <tr>\n",
       "      <td>13</td>\n",
       "      <td>1000_778</td>\n",
       "      <td>1000</td>\n",
       "      <td>2018-12-28</td>\n",
       "      <td>4.0</td>\n",
       "    </tr>\n",
       "    <tr>\n",
       "      <td>14</td>\n",
       "      <td>1000_826</td>\n",
       "      <td>1000</td>\n",
       "      <td>2018-12-26</td>\n",
       "      <td>10.0</td>\n",
       "    </tr>\n",
       "    <tr>\n",
       "      <td>15</td>\n",
       "      <td>1000_842</td>\n",
       "      <td>1000</td>\n",
       "      <td>2018-12-27</td>\n",
       "      <td>6.0</td>\n",
       "    </tr>\n",
       "    <tr>\n",
       "      <td>16</td>\n",
       "      <td>1001_0</td>\n",
       "      <td>1001</td>\n",
       "      <td>2018-09-06</td>\n",
       "      <td>11.0</td>\n",
       "    </tr>\n",
       "    <tr>\n",
       "      <td>17</td>\n",
       "      <td>1001_1</td>\n",
       "      <td>1001</td>\n",
       "      <td>2018-10-12</td>\n",
       "      <td>1.0</td>\n",
       "    </tr>\n",
       "    <tr>\n",
       "      <td>18</td>\n",
       "      <td>1001_2</td>\n",
       "      <td>1001</td>\n",
       "      <td>2018-10-17</td>\n",
       "      <td>16.0</td>\n",
       "    </tr>\n",
       "    <tr>\n",
       "      <td>19</td>\n",
       "      <td>1001_4</td>\n",
       "      <td>1001</td>\n",
       "      <td>2018-12-05</td>\n",
       "      <td>0.0</td>\n",
       "    </tr>\n",
       "    <tr>\n",
       "      <td>20</td>\n",
       "      <td>1001_5</td>\n",
       "      <td>1001</td>\n",
       "      <td>2018-12-13</td>\n",
       "      <td>7.0</td>\n",
       "    </tr>\n",
       "    <tr>\n",
       "      <td>21</td>\n",
       "      <td>1001_6</td>\n",
       "      <td>1001</td>\n",
       "      <td>2018-12-04</td>\n",
       "      <td>8.0</td>\n",
       "    </tr>\n",
       "    <tr>\n",
       "      <td>22</td>\n",
       "      <td>1001_8</td>\n",
       "      <td>1001</td>\n",
       "      <td>2018-11-17</td>\n",
       "      <td>3.0</td>\n",
       "    </tr>\n",
       "    <tr>\n",
       "      <td>23</td>\n",
       "      <td>1001_9</td>\n",
       "      <td>1001</td>\n",
       "      <td>2018-11-19</td>\n",
       "      <td>3.0</td>\n",
       "    </tr>\n",
       "    <tr>\n",
       "      <td>24</td>\n",
       "      <td>1001_11</td>\n",
       "      <td>1001</td>\n",
       "      <td>2018-11-09</td>\n",
       "      <td>1.0</td>\n",
       "    </tr>\n",
       "    <tr>\n",
       "      <td>25</td>\n",
       "      <td>1001_13</td>\n",
       "      <td>1001</td>\n",
       "      <td>2018-12-24</td>\n",
       "      <td>0.0</td>\n",
       "    </tr>\n",
       "    <tr>\n",
       "      <td>26</td>\n",
       "      <td>1001_19</td>\n",
       "      <td>1001</td>\n",
       "      <td>2018-11-15</td>\n",
       "      <td>30.0</td>\n",
       "    </tr>\n",
       "    <tr>\n",
       "      <td>27</td>\n",
       "      <td>1001_20</td>\n",
       "      <td>1001</td>\n",
       "      <td>2018-09-21</td>\n",
       "      <td>6.0</td>\n",
       "    </tr>\n",
       "    <tr>\n",
       "      <td>28</td>\n",
       "      <td>1001_23</td>\n",
       "      <td>1001</td>\n",
       "      <td>2018-10-27</td>\n",
       "      <td>1.0</td>\n",
       "    </tr>\n",
       "    <tr>\n",
       "      <td>29</td>\n",
       "      <td>1001_26</td>\n",
       "      <td>1001</td>\n",
       "      <td>2018-10-28</td>\n",
       "      <td>6.0</td>\n",
       "    </tr>\n",
       "  </tbody>\n",
       "</table>\n",
       "</div>"
      ],
      "text/plain": [
       "          id  user_id   call_date  duration\n",
       "0    1000_93     1000  2018-12-27       9.0\n",
       "1   1000_145     1000  2018-12-27      14.0\n",
       "2   1000_247     1000  2018-12-27      15.0\n",
       "3   1000_309     1000  2018-12-28       6.0\n",
       "4   1000_380     1000  2018-12-30       5.0\n",
       "5   1000_388     1000  2018-12-31       3.0\n",
       "6   1000_510     1000  2018-12-27       6.0\n",
       "7   1000_521     1000  2018-12-28      15.0\n",
       "8   1000_530     1000  2018-12-28       6.0\n",
       "9   1000_544     1000  2018-12-26       5.0\n",
       "10  1000_693     1000  2018-12-31       5.0\n",
       "11  1000_705     1000  2018-12-31      13.0\n",
       "12  1000_735     1000  2018-12-29       2.0\n",
       "13  1000_778     1000  2018-12-28       4.0\n",
       "14  1000_826     1000  2018-12-26      10.0\n",
       "15  1000_842     1000  2018-12-27       6.0\n",
       "16    1001_0     1001  2018-09-06      11.0\n",
       "17    1001_1     1001  2018-10-12       1.0\n",
       "18    1001_2     1001  2018-10-17      16.0\n",
       "19    1001_4     1001  2018-12-05       0.0\n",
       "20    1001_5     1001  2018-12-13       7.0\n",
       "21    1001_6     1001  2018-12-04       8.0\n",
       "22    1001_8     1001  2018-11-17       3.0\n",
       "23    1001_9     1001  2018-11-19       3.0\n",
       "24   1001_11     1001  2018-11-09       1.0\n",
       "25   1001_13     1001  2018-12-24       0.0\n",
       "26   1001_19     1001  2018-11-15      30.0\n",
       "27   1001_20     1001  2018-09-21       6.0\n",
       "28   1001_23     1001  2018-10-27       1.0\n",
       "29   1001_26     1001  2018-10-28       6.0"
      ]
     },
     "execution_count": 5,
     "metadata": {},
     "output_type": "execute_result"
    }
   ],
   "source": [
    "#duration needs to be rounded up since megaline charges 1 minute for 1 second\n",
    "import numpy as np\n",
    "\n",
    "calls['duration'] = calls['duration'].apply(np.ceil)\n",
    "calls.head(30)"
   ]
  },
  {
   "cell_type": "code",
   "execution_count": 6,
   "metadata": {
    "scrolled": true
   },
   "outputs": [
    {
     "name": "stdout",
     "output_type": "stream",
     "text": [
      "<class 'pandas.core.frame.DataFrame'>\n",
      "RangeIndex: 137735 entries, 0 to 137734\n",
      "Data columns (total 4 columns):\n",
      "id           137735 non-null object\n",
      "user_id      137735 non-null int64\n",
      "call_date    137735 non-null datetime64[ns]\n",
      "duration     137735 non-null float64\n",
      "dtypes: datetime64[ns](1), float64(1), int64(1), object(1)\n",
      "memory usage: 4.2+ MB\n"
     ]
    }
   ],
   "source": [
    "#calls/month\n",
    "#first, convert 'call_date' to datetime\n",
    "calls['call_date'] = pd.to_datetime(calls['call_date'])\n",
    "calls.info()"
   ]
  },
  {
   "cell_type": "code",
   "execution_count": 7,
   "metadata": {
    "scrolled": true
   },
   "outputs": [
    {
     "data": {
      "text/html": [
       "<div>\n",
       "<style scoped>\n",
       "    .dataframe tbody tr th:only-of-type {\n",
       "        vertical-align: middle;\n",
       "    }\n",
       "\n",
       "    .dataframe tbody tr th {\n",
       "        vertical-align: top;\n",
       "    }\n",
       "\n",
       "    .dataframe thead th {\n",
       "        text-align: right;\n",
       "    }\n",
       "</style>\n",
       "<table border=\"1\" class=\"dataframe\">\n",
       "  <thead>\n",
       "    <tr style=\"text-align: right;\">\n",
       "      <th></th>\n",
       "      <th>id</th>\n",
       "      <th>user_id</th>\n",
       "      <th>call_date</th>\n",
       "      <th>duration</th>\n",
       "      <th>month</th>\n",
       "    </tr>\n",
       "  </thead>\n",
       "  <tbody>\n",
       "    <tr>\n",
       "      <td>0</td>\n",
       "      <td>1000_93</td>\n",
       "      <td>1000</td>\n",
       "      <td>2018-12-27</td>\n",
       "      <td>9.0</td>\n",
       "      <td>12</td>\n",
       "    </tr>\n",
       "    <tr>\n",
       "      <td>1</td>\n",
       "      <td>1000_145</td>\n",
       "      <td>1000</td>\n",
       "      <td>2018-12-27</td>\n",
       "      <td>14.0</td>\n",
       "      <td>12</td>\n",
       "    </tr>\n",
       "    <tr>\n",
       "      <td>2</td>\n",
       "      <td>1000_247</td>\n",
       "      <td>1000</td>\n",
       "      <td>2018-12-27</td>\n",
       "      <td>15.0</td>\n",
       "      <td>12</td>\n",
       "    </tr>\n",
       "    <tr>\n",
       "      <td>3</td>\n",
       "      <td>1000_309</td>\n",
       "      <td>1000</td>\n",
       "      <td>2018-12-28</td>\n",
       "      <td>6.0</td>\n",
       "      <td>12</td>\n",
       "    </tr>\n",
       "    <tr>\n",
       "      <td>4</td>\n",
       "      <td>1000_380</td>\n",
       "      <td>1000</td>\n",
       "      <td>2018-12-30</td>\n",
       "      <td>5.0</td>\n",
       "      <td>12</td>\n",
       "    </tr>\n",
       "    <tr>\n",
       "      <td>5</td>\n",
       "      <td>1000_388</td>\n",
       "      <td>1000</td>\n",
       "      <td>2018-12-31</td>\n",
       "      <td>3.0</td>\n",
       "      <td>12</td>\n",
       "    </tr>\n",
       "    <tr>\n",
       "      <td>6</td>\n",
       "      <td>1000_510</td>\n",
       "      <td>1000</td>\n",
       "      <td>2018-12-27</td>\n",
       "      <td>6.0</td>\n",
       "      <td>12</td>\n",
       "    </tr>\n",
       "    <tr>\n",
       "      <td>7</td>\n",
       "      <td>1000_521</td>\n",
       "      <td>1000</td>\n",
       "      <td>2018-12-28</td>\n",
       "      <td>15.0</td>\n",
       "      <td>12</td>\n",
       "    </tr>\n",
       "    <tr>\n",
       "      <td>8</td>\n",
       "      <td>1000_530</td>\n",
       "      <td>1000</td>\n",
       "      <td>2018-12-28</td>\n",
       "      <td>6.0</td>\n",
       "      <td>12</td>\n",
       "    </tr>\n",
       "    <tr>\n",
       "      <td>9</td>\n",
       "      <td>1000_544</td>\n",
       "      <td>1000</td>\n",
       "      <td>2018-12-26</td>\n",
       "      <td>5.0</td>\n",
       "      <td>12</td>\n",
       "    </tr>\n",
       "    <tr>\n",
       "      <td>10</td>\n",
       "      <td>1000_693</td>\n",
       "      <td>1000</td>\n",
       "      <td>2018-12-31</td>\n",
       "      <td>5.0</td>\n",
       "      <td>12</td>\n",
       "    </tr>\n",
       "    <tr>\n",
       "      <td>11</td>\n",
       "      <td>1000_705</td>\n",
       "      <td>1000</td>\n",
       "      <td>2018-12-31</td>\n",
       "      <td>13.0</td>\n",
       "      <td>12</td>\n",
       "    </tr>\n",
       "    <tr>\n",
       "      <td>12</td>\n",
       "      <td>1000_735</td>\n",
       "      <td>1000</td>\n",
       "      <td>2018-12-29</td>\n",
       "      <td>2.0</td>\n",
       "      <td>12</td>\n",
       "    </tr>\n",
       "    <tr>\n",
       "      <td>13</td>\n",
       "      <td>1000_778</td>\n",
       "      <td>1000</td>\n",
       "      <td>2018-12-28</td>\n",
       "      <td>4.0</td>\n",
       "      <td>12</td>\n",
       "    </tr>\n",
       "    <tr>\n",
       "      <td>14</td>\n",
       "      <td>1000_826</td>\n",
       "      <td>1000</td>\n",
       "      <td>2018-12-26</td>\n",
       "      <td>10.0</td>\n",
       "      <td>12</td>\n",
       "    </tr>\n",
       "    <tr>\n",
       "      <td>15</td>\n",
       "      <td>1000_842</td>\n",
       "      <td>1000</td>\n",
       "      <td>2018-12-27</td>\n",
       "      <td>6.0</td>\n",
       "      <td>12</td>\n",
       "    </tr>\n",
       "    <tr>\n",
       "      <td>16</td>\n",
       "      <td>1001_0</td>\n",
       "      <td>1001</td>\n",
       "      <td>2018-09-06</td>\n",
       "      <td>11.0</td>\n",
       "      <td>9</td>\n",
       "    </tr>\n",
       "    <tr>\n",
       "      <td>17</td>\n",
       "      <td>1001_1</td>\n",
       "      <td>1001</td>\n",
       "      <td>2018-10-12</td>\n",
       "      <td>1.0</td>\n",
       "      <td>10</td>\n",
       "    </tr>\n",
       "    <tr>\n",
       "      <td>18</td>\n",
       "      <td>1001_2</td>\n",
       "      <td>1001</td>\n",
       "      <td>2018-10-17</td>\n",
       "      <td>16.0</td>\n",
       "      <td>10</td>\n",
       "    </tr>\n",
       "    <tr>\n",
       "      <td>19</td>\n",
       "      <td>1001_4</td>\n",
       "      <td>1001</td>\n",
       "      <td>2018-12-05</td>\n",
       "      <td>0.0</td>\n",
       "      <td>12</td>\n",
       "    </tr>\n",
       "  </tbody>\n",
       "</table>\n",
       "</div>"
      ],
      "text/plain": [
       "          id  user_id  call_date  duration  month\n",
       "0    1000_93     1000 2018-12-27       9.0     12\n",
       "1   1000_145     1000 2018-12-27      14.0     12\n",
       "2   1000_247     1000 2018-12-27      15.0     12\n",
       "3   1000_309     1000 2018-12-28       6.0     12\n",
       "4   1000_380     1000 2018-12-30       5.0     12\n",
       "5   1000_388     1000 2018-12-31       3.0     12\n",
       "6   1000_510     1000 2018-12-27       6.0     12\n",
       "7   1000_521     1000 2018-12-28      15.0     12\n",
       "8   1000_530     1000 2018-12-28       6.0     12\n",
       "9   1000_544     1000 2018-12-26       5.0     12\n",
       "10  1000_693     1000 2018-12-31       5.0     12\n",
       "11  1000_705     1000 2018-12-31      13.0     12\n",
       "12  1000_735     1000 2018-12-29       2.0     12\n",
       "13  1000_778     1000 2018-12-28       4.0     12\n",
       "14  1000_826     1000 2018-12-26      10.0     12\n",
       "15  1000_842     1000 2018-12-27       6.0     12\n",
       "16    1001_0     1001 2018-09-06      11.0      9\n",
       "17    1001_1     1001 2018-10-12       1.0     10\n",
       "18    1001_2     1001 2018-10-17      16.0     10\n",
       "19    1001_4     1001 2018-12-05       0.0     12"
      ]
     },
     "execution_count": 7,
     "metadata": {},
     "output_type": "execute_result"
    }
   ],
   "source": [
    "#calls/month\n",
    "#create a month column\n",
    "calls['month'] = calls['call_date'].dt.month\n",
    "calls.head(20)"
   ]
  },
  {
   "cell_type": "code",
   "execution_count": 8,
   "metadata": {},
   "outputs": [
    {
     "data": {
      "text/plain": [
       "500"
      ]
     },
     "metadata": {},
     "output_type": "display_data"
    },
    {
     "data": {
      "text/plain": [
       "402"
      ]
     },
     "metadata": {},
     "output_type": "display_data"
    },
    {
     "data": {
      "text/plain": [
       "481"
      ]
     },
     "metadata": {},
     "output_type": "display_data"
    },
    {
     "data": {
      "text/plain": [
       "489"
      ]
     },
     "metadata": {},
     "output_type": "display_data"
    }
   ],
   "source": [
    "display(len(users['user_id'].unique()),\n",
    "            len(messages['user_id'].unique()),\n",
    "                len(calls['user_id'].unique()),\n",
    "                    len(internet['user_id'].unique()))\n",
    "#This shows that some users utilized only certain parts of the megaline plan"
   ]
  },
  {
   "cell_type": "code",
   "execution_count": 9,
   "metadata": {
    "scrolled": true
   },
   "outputs": [
    {
     "data": {
      "text/html": [
       "<div>\n",
       "<style scoped>\n",
       "    .dataframe tbody tr th:only-of-type {\n",
       "        vertical-align: middle;\n",
       "    }\n",
       "\n",
       "    .dataframe tbody tr th {\n",
       "        vertical-align: top;\n",
       "    }\n",
       "\n",
       "    .dataframe thead th {\n",
       "        text-align: right;\n",
       "    }\n",
       "</style>\n",
       "<table border=\"1\" class=\"dataframe\">\n",
       "  <thead>\n",
       "    <tr style=\"text-align: right;\">\n",
       "      <th></th>\n",
       "      <th>user_id</th>\n",
       "      <th>month</th>\n",
       "      <th>call_count</th>\n",
       "    </tr>\n",
       "  </thead>\n",
       "  <tbody>\n",
       "    <tr>\n",
       "      <td>0</td>\n",
       "      <td>1000</td>\n",
       "      <td>12</td>\n",
       "      <td>16</td>\n",
       "    </tr>\n",
       "    <tr>\n",
       "      <td>1</td>\n",
       "      <td>1001</td>\n",
       "      <td>8</td>\n",
       "      <td>27</td>\n",
       "    </tr>\n",
       "    <tr>\n",
       "      <td>2</td>\n",
       "      <td>1001</td>\n",
       "      <td>9</td>\n",
       "      <td>49</td>\n",
       "    </tr>\n",
       "    <tr>\n",
       "      <td>3</td>\n",
       "      <td>1001</td>\n",
       "      <td>10</td>\n",
       "      <td>65</td>\n",
       "    </tr>\n",
       "    <tr>\n",
       "      <td>4</td>\n",
       "      <td>1001</td>\n",
       "      <td>11</td>\n",
       "      <td>64</td>\n",
       "    </tr>\n",
       "    <tr>\n",
       "      <td>...</td>\n",
       "      <td>...</td>\n",
       "      <td>...</td>\n",
       "      <td>...</td>\n",
       "    </tr>\n",
       "    <tr>\n",
       "      <td>2253</td>\n",
       "      <td>1498</td>\n",
       "      <td>12</td>\n",
       "      <td>39</td>\n",
       "    </tr>\n",
       "    <tr>\n",
       "      <td>2254</td>\n",
       "      <td>1499</td>\n",
       "      <td>9</td>\n",
       "      <td>41</td>\n",
       "    </tr>\n",
       "    <tr>\n",
       "      <td>2255</td>\n",
       "      <td>1499</td>\n",
       "      <td>10</td>\n",
       "      <td>53</td>\n",
       "    </tr>\n",
       "    <tr>\n",
       "      <td>2256</td>\n",
       "      <td>1499</td>\n",
       "      <td>11</td>\n",
       "      <td>45</td>\n",
       "    </tr>\n",
       "    <tr>\n",
       "      <td>2257</td>\n",
       "      <td>1499</td>\n",
       "      <td>12</td>\n",
       "      <td>65</td>\n",
       "    </tr>\n",
       "  </tbody>\n",
       "</table>\n",
       "<p>2258 rows × 3 columns</p>\n",
       "</div>"
      ],
      "text/plain": [
       "      user_id  month  call_count\n",
       "0        1000     12          16\n",
       "1        1001      8          27\n",
       "2        1001      9          49\n",
       "3        1001     10          65\n",
       "4        1001     11          64\n",
       "...       ...    ...         ...\n",
       "2253     1498     12          39\n",
       "2254     1499      9          41\n",
       "2255     1499     10          53\n",
       "2256     1499     11          45\n",
       "2257     1499     12          65\n",
       "\n",
       "[2258 rows x 3 columns]"
      ]
     },
     "execution_count": 9,
     "metadata": {},
     "output_type": "execute_result"
    }
   ],
   "source": [
    "calls_per_month = calls.groupby(['user_id', 'month']).size().reset_index(name='call_count')\n",
    "calls_per_month"
   ]
  },
  {
   "cell_type": "code",
   "execution_count": 10,
   "metadata": {
    "scrolled": true
   },
   "outputs": [
    {
     "data": {
      "text/html": [
       "<div>\n",
       "<style scoped>\n",
       "    .dataframe tbody tr th:only-of-type {\n",
       "        vertical-align: middle;\n",
       "    }\n",
       "\n",
       "    .dataframe tbody tr th {\n",
       "        vertical-align: top;\n",
       "    }\n",
       "\n",
       "    .dataframe thead th {\n",
       "        text-align: right;\n",
       "    }\n",
       "</style>\n",
       "<table border=\"1\" class=\"dataframe\">\n",
       "  <thead>\n",
       "    <tr style=\"text-align: right;\">\n",
       "      <th></th>\n",
       "      <th>id</th>\n",
       "      <th>user_id</th>\n",
       "      <th>call_date</th>\n",
       "      <th>duration</th>\n",
       "      <th>month</th>\n",
       "      <th>call_count</th>\n",
       "    </tr>\n",
       "  </thead>\n",
       "  <tbody>\n",
       "    <tr>\n",
       "      <td>0</td>\n",
       "      <td>1000_93</td>\n",
       "      <td>1000</td>\n",
       "      <td>2018-12-27</td>\n",
       "      <td>9.0</td>\n",
       "      <td>12</td>\n",
       "      <td>16</td>\n",
       "    </tr>\n",
       "    <tr>\n",
       "      <td>1</td>\n",
       "      <td>1000_145</td>\n",
       "      <td>1000</td>\n",
       "      <td>2018-12-27</td>\n",
       "      <td>14.0</td>\n",
       "      <td>12</td>\n",
       "      <td>16</td>\n",
       "    </tr>\n",
       "    <tr>\n",
       "      <td>2</td>\n",
       "      <td>1000_247</td>\n",
       "      <td>1000</td>\n",
       "      <td>2018-12-27</td>\n",
       "      <td>15.0</td>\n",
       "      <td>12</td>\n",
       "      <td>16</td>\n",
       "    </tr>\n",
       "    <tr>\n",
       "      <td>3</td>\n",
       "      <td>1000_309</td>\n",
       "      <td>1000</td>\n",
       "      <td>2018-12-28</td>\n",
       "      <td>6.0</td>\n",
       "      <td>12</td>\n",
       "      <td>16</td>\n",
       "    </tr>\n",
       "    <tr>\n",
       "      <td>4</td>\n",
       "      <td>1000_380</td>\n",
       "      <td>1000</td>\n",
       "      <td>2018-12-30</td>\n",
       "      <td>5.0</td>\n",
       "      <td>12</td>\n",
       "      <td>16</td>\n",
       "    </tr>\n",
       "    <tr>\n",
       "      <td>5</td>\n",
       "      <td>1000_388</td>\n",
       "      <td>1000</td>\n",
       "      <td>2018-12-31</td>\n",
       "      <td>3.0</td>\n",
       "      <td>12</td>\n",
       "      <td>16</td>\n",
       "    </tr>\n",
       "    <tr>\n",
       "      <td>6</td>\n",
       "      <td>1000_510</td>\n",
       "      <td>1000</td>\n",
       "      <td>2018-12-27</td>\n",
       "      <td>6.0</td>\n",
       "      <td>12</td>\n",
       "      <td>16</td>\n",
       "    </tr>\n",
       "    <tr>\n",
       "      <td>7</td>\n",
       "      <td>1000_521</td>\n",
       "      <td>1000</td>\n",
       "      <td>2018-12-28</td>\n",
       "      <td>15.0</td>\n",
       "      <td>12</td>\n",
       "      <td>16</td>\n",
       "    </tr>\n",
       "    <tr>\n",
       "      <td>8</td>\n",
       "      <td>1000_530</td>\n",
       "      <td>1000</td>\n",
       "      <td>2018-12-28</td>\n",
       "      <td>6.0</td>\n",
       "      <td>12</td>\n",
       "      <td>16</td>\n",
       "    </tr>\n",
       "    <tr>\n",
       "      <td>9</td>\n",
       "      <td>1000_544</td>\n",
       "      <td>1000</td>\n",
       "      <td>2018-12-26</td>\n",
       "      <td>5.0</td>\n",
       "      <td>12</td>\n",
       "      <td>16</td>\n",
       "    </tr>\n",
       "    <tr>\n",
       "      <td>10</td>\n",
       "      <td>1000_693</td>\n",
       "      <td>1000</td>\n",
       "      <td>2018-12-31</td>\n",
       "      <td>5.0</td>\n",
       "      <td>12</td>\n",
       "      <td>16</td>\n",
       "    </tr>\n",
       "    <tr>\n",
       "      <td>11</td>\n",
       "      <td>1000_705</td>\n",
       "      <td>1000</td>\n",
       "      <td>2018-12-31</td>\n",
       "      <td>13.0</td>\n",
       "      <td>12</td>\n",
       "      <td>16</td>\n",
       "    </tr>\n",
       "    <tr>\n",
       "      <td>12</td>\n",
       "      <td>1000_735</td>\n",
       "      <td>1000</td>\n",
       "      <td>2018-12-29</td>\n",
       "      <td>2.0</td>\n",
       "      <td>12</td>\n",
       "      <td>16</td>\n",
       "    </tr>\n",
       "    <tr>\n",
       "      <td>13</td>\n",
       "      <td>1000_778</td>\n",
       "      <td>1000</td>\n",
       "      <td>2018-12-28</td>\n",
       "      <td>4.0</td>\n",
       "      <td>12</td>\n",
       "      <td>16</td>\n",
       "    </tr>\n",
       "    <tr>\n",
       "      <td>14</td>\n",
       "      <td>1000_826</td>\n",
       "      <td>1000</td>\n",
       "      <td>2018-12-26</td>\n",
       "      <td>10.0</td>\n",
       "      <td>12</td>\n",
       "      <td>16</td>\n",
       "    </tr>\n",
       "    <tr>\n",
       "      <td>15</td>\n",
       "      <td>1000_842</td>\n",
       "      <td>1000</td>\n",
       "      <td>2018-12-27</td>\n",
       "      <td>6.0</td>\n",
       "      <td>12</td>\n",
       "      <td>16</td>\n",
       "    </tr>\n",
       "    <tr>\n",
       "      <td>16</td>\n",
       "      <td>1001_0</td>\n",
       "      <td>1001</td>\n",
       "      <td>2018-09-06</td>\n",
       "      <td>11.0</td>\n",
       "      <td>9</td>\n",
       "      <td>49</td>\n",
       "    </tr>\n",
       "    <tr>\n",
       "      <td>17</td>\n",
       "      <td>1001_20</td>\n",
       "      <td>1001</td>\n",
       "      <td>2018-09-21</td>\n",
       "      <td>6.0</td>\n",
       "      <td>9</td>\n",
       "      <td>49</td>\n",
       "    </tr>\n",
       "    <tr>\n",
       "      <td>18</td>\n",
       "      <td>1001_29</td>\n",
       "      <td>1001</td>\n",
       "      <td>2018-09-30</td>\n",
       "      <td>15.0</td>\n",
       "      <td>9</td>\n",
       "      <td>49</td>\n",
       "    </tr>\n",
       "    <tr>\n",
       "      <td>19</td>\n",
       "      <td>1001_40</td>\n",
       "      <td>1001</td>\n",
       "      <td>2018-09-30</td>\n",
       "      <td>19.0</td>\n",
       "      <td>9</td>\n",
       "      <td>49</td>\n",
       "    </tr>\n",
       "  </tbody>\n",
       "</table>\n",
       "</div>"
      ],
      "text/plain": [
       "          id  user_id  call_date  duration  month  call_count\n",
       "0    1000_93     1000 2018-12-27       9.0     12          16\n",
       "1   1000_145     1000 2018-12-27      14.0     12          16\n",
       "2   1000_247     1000 2018-12-27      15.0     12          16\n",
       "3   1000_309     1000 2018-12-28       6.0     12          16\n",
       "4   1000_380     1000 2018-12-30       5.0     12          16\n",
       "5   1000_388     1000 2018-12-31       3.0     12          16\n",
       "6   1000_510     1000 2018-12-27       6.0     12          16\n",
       "7   1000_521     1000 2018-12-28      15.0     12          16\n",
       "8   1000_530     1000 2018-12-28       6.0     12          16\n",
       "9   1000_544     1000 2018-12-26       5.0     12          16\n",
       "10  1000_693     1000 2018-12-31       5.0     12          16\n",
       "11  1000_705     1000 2018-12-31      13.0     12          16\n",
       "12  1000_735     1000 2018-12-29       2.0     12          16\n",
       "13  1000_778     1000 2018-12-28       4.0     12          16\n",
       "14  1000_826     1000 2018-12-26      10.0     12          16\n",
       "15  1000_842     1000 2018-12-27       6.0     12          16\n",
       "16    1001_0     1001 2018-09-06      11.0      9          49\n",
       "17   1001_20     1001 2018-09-21       6.0      9          49\n",
       "18   1001_29     1001 2018-09-30      15.0      9          49\n",
       "19   1001_40     1001 2018-09-30      19.0      9          49"
      ]
     },
     "execution_count": 10,
     "metadata": {},
     "output_type": "execute_result"
    }
   ],
   "source": [
    "calls = calls.merge(calls_per_month, on=(['user_id', 'month']), how='outer')\n",
    "calls.head(20)\n",
    "#calls/month for each user successfully logged"
   ]
  },
  {
   "cell_type": "code",
   "execution_count": 11,
   "metadata": {
    "scrolled": true
   },
   "outputs": [
    {
     "data": {
      "text/html": [
       "<div>\n",
       "<style scoped>\n",
       "    .dataframe tbody tr th:only-of-type {\n",
       "        vertical-align: middle;\n",
       "    }\n",
       "\n",
       "    .dataframe tbody tr th {\n",
       "        vertical-align: top;\n",
       "    }\n",
       "\n",
       "    .dataframe thead th {\n",
       "        text-align: right;\n",
       "    }\n",
       "</style>\n",
       "<table border=\"1\" class=\"dataframe\">\n",
       "  <thead>\n",
       "    <tr style=\"text-align: right;\">\n",
       "      <th></th>\n",
       "      <th></th>\n",
       "      <th>duration_total</th>\n",
       "    </tr>\n",
       "    <tr>\n",
       "      <th>user_id</th>\n",
       "      <th>month</th>\n",
       "      <th></th>\n",
       "    </tr>\n",
       "  </thead>\n",
       "  <tbody>\n",
       "    <tr>\n",
       "      <td>1000</td>\n",
       "      <td>12</td>\n",
       "      <td>124.0</td>\n",
       "    </tr>\n",
       "    <tr>\n",
       "      <td rowspan=\"4\" valign=\"top\">1001</td>\n",
       "      <td>8</td>\n",
       "      <td>182.0</td>\n",
       "    </tr>\n",
       "    <tr>\n",
       "      <td>9</td>\n",
       "      <td>315.0</td>\n",
       "    </tr>\n",
       "    <tr>\n",
       "      <td>10</td>\n",
       "      <td>393.0</td>\n",
       "    </tr>\n",
       "    <tr>\n",
       "      <td>11</td>\n",
       "      <td>426.0</td>\n",
       "    </tr>\n",
       "    <tr>\n",
       "      <td>...</td>\n",
       "      <td>...</td>\n",
       "      <td>...</td>\n",
       "    </tr>\n",
       "    <tr>\n",
       "      <td>1498</td>\n",
       "      <td>12</td>\n",
       "      <td>339.0</td>\n",
       "    </tr>\n",
       "    <tr>\n",
       "      <td rowspan=\"4\" valign=\"top\">1499</td>\n",
       "      <td>9</td>\n",
       "      <td>346.0</td>\n",
       "    </tr>\n",
       "    <tr>\n",
       "      <td>10</td>\n",
       "      <td>385.0</td>\n",
       "    </tr>\n",
       "    <tr>\n",
       "      <td>11</td>\n",
       "      <td>308.0</td>\n",
       "    </tr>\n",
       "    <tr>\n",
       "      <td>12</td>\n",
       "      <td>496.0</td>\n",
       "    </tr>\n",
       "  </tbody>\n",
       "</table>\n",
       "<p>2258 rows × 1 columns</p>\n",
       "</div>"
      ],
      "text/plain": [
       "               duration_total\n",
       "user_id month                \n",
       "1000    12              124.0\n",
       "1001    8               182.0\n",
       "        9               315.0\n",
       "        10              393.0\n",
       "        11              426.0\n",
       "...                       ...\n",
       "1498    12              339.0\n",
       "1499    9               346.0\n",
       "        10              385.0\n",
       "        11              308.0\n",
       "        12              496.0\n",
       "\n",
       "[2258 rows x 1 columns]"
      ]
     },
     "execution_count": 11,
     "metadata": {},
     "output_type": "execute_result"
    }
   ],
   "source": [
    "minutes_per_month = calls.groupby(['user_id', 'month']).agg({'duration': 'sum'})\n",
    "minutes_per_month.columns = ['duration_total']\n",
    "minutes_per_month"
   ]
  },
  {
   "cell_type": "code",
   "execution_count": 12,
   "metadata": {
    "scrolled": true
   },
   "outputs": [
    {
     "data": {
      "text/html": [
       "<div>\n",
       "<style scoped>\n",
       "    .dataframe tbody tr th:only-of-type {\n",
       "        vertical-align: middle;\n",
       "    }\n",
       "\n",
       "    .dataframe tbody tr th {\n",
       "        vertical-align: top;\n",
       "    }\n",
       "\n",
       "    .dataframe thead th {\n",
       "        text-align: right;\n",
       "    }\n",
       "</style>\n",
       "<table border=\"1\" class=\"dataframe\">\n",
       "  <thead>\n",
       "    <tr style=\"text-align: right;\">\n",
       "      <th></th>\n",
       "      <th>user_id</th>\n",
       "      <th>month</th>\n",
       "      <th>call_count</th>\n",
       "      <th>duration_total</th>\n",
       "    </tr>\n",
       "  </thead>\n",
       "  <tbody>\n",
       "    <tr>\n",
       "      <td>0</td>\n",
       "      <td>1000</td>\n",
       "      <td>12</td>\n",
       "      <td>16</td>\n",
       "      <td>124.0</td>\n",
       "    </tr>\n",
       "    <tr>\n",
       "      <td>16</td>\n",
       "      <td>1001</td>\n",
       "      <td>9</td>\n",
       "      <td>49</td>\n",
       "      <td>315.0</td>\n",
       "    </tr>\n",
       "    <tr>\n",
       "      <td>65</td>\n",
       "      <td>1001</td>\n",
       "      <td>10</td>\n",
       "      <td>65</td>\n",
       "      <td>393.0</td>\n",
       "    </tr>\n",
       "    <tr>\n",
       "      <td>130</td>\n",
       "      <td>1001</td>\n",
       "      <td>12</td>\n",
       "      <td>56</td>\n",
       "      <td>412.0</td>\n",
       "    </tr>\n",
       "    <tr>\n",
       "      <td>186</td>\n",
       "      <td>1001</td>\n",
       "      <td>11</td>\n",
       "      <td>64</td>\n",
       "      <td>426.0</td>\n",
       "    </tr>\n",
       "    <tr>\n",
       "      <td>250</td>\n",
       "      <td>1001</td>\n",
       "      <td>8</td>\n",
       "      <td>27</td>\n",
       "      <td>182.0</td>\n",
       "    </tr>\n",
       "    <tr>\n",
       "      <td>277</td>\n",
       "      <td>1002</td>\n",
       "      <td>11</td>\n",
       "      <td>55</td>\n",
       "      <td>386.0</td>\n",
       "    </tr>\n",
       "    <tr>\n",
       "      <td>332</td>\n",
       "      <td>1002</td>\n",
       "      <td>12</td>\n",
       "      <td>47</td>\n",
       "      <td>384.0</td>\n",
       "    </tr>\n",
       "    <tr>\n",
       "      <td>379</td>\n",
       "      <td>1002</td>\n",
       "      <td>10</td>\n",
       "      <td>11</td>\n",
       "      <td>59.0</td>\n",
       "    </tr>\n",
       "    <tr>\n",
       "      <td>390</td>\n",
       "      <td>1003</td>\n",
       "      <td>12</td>\n",
       "      <td>149</td>\n",
       "      <td>1104.0</td>\n",
       "    </tr>\n",
       "    <tr>\n",
       "      <td>539</td>\n",
       "      <td>1004</td>\n",
       "      <td>11</td>\n",
       "      <td>54</td>\n",
       "      <td>476.0</td>\n",
       "    </tr>\n",
       "    <tr>\n",
       "      <td>593</td>\n",
       "      <td>1004</td>\n",
       "      <td>8</td>\n",
       "      <td>49</td>\n",
       "      <td>354.0</td>\n",
       "    </tr>\n",
       "    <tr>\n",
       "      <td>642</td>\n",
       "      <td>1004</td>\n",
       "      <td>7</td>\n",
       "      <td>49</td>\n",
       "      <td>381.0</td>\n",
       "    </tr>\n",
       "    <tr>\n",
       "      <td>691</td>\n",
       "      <td>1004</td>\n",
       "      <td>6</td>\n",
       "      <td>44</td>\n",
       "      <td>275.0</td>\n",
       "    </tr>\n",
       "    <tr>\n",
       "      <td>735</td>\n",
       "      <td>1004</td>\n",
       "      <td>9</td>\n",
       "      <td>42</td>\n",
       "      <td>301.0</td>\n",
       "    </tr>\n",
       "    <tr>\n",
       "      <td>777</td>\n",
       "      <td>1004</td>\n",
       "      <td>12</td>\n",
       "      <td>50</td>\n",
       "      <td>427.0</td>\n",
       "    </tr>\n",
       "    <tr>\n",
       "      <td>827</td>\n",
       "      <td>1004</td>\n",
       "      <td>10</td>\n",
       "      <td>61</td>\n",
       "      <td>365.0</td>\n",
       "    </tr>\n",
       "    <tr>\n",
       "      <td>888</td>\n",
       "      <td>1004</td>\n",
       "      <td>5</td>\n",
       "      <td>21</td>\n",
       "      <td>193.0</td>\n",
       "    </tr>\n",
       "    <tr>\n",
       "      <td>909</td>\n",
       "      <td>1005</td>\n",
       "      <td>12</td>\n",
       "      <td>59</td>\n",
       "      <td>496.0</td>\n",
       "    </tr>\n",
       "    <tr>\n",
       "      <td>968</td>\n",
       "      <td>1006</td>\n",
       "      <td>12</td>\n",
       "      <td>9</td>\n",
       "      <td>59.0</td>\n",
       "    </tr>\n",
       "  </tbody>\n",
       "</table>\n",
       "</div>"
      ],
      "text/plain": [
       "     user_id  month  call_count  duration_total\n",
       "0       1000     12          16           124.0\n",
       "16      1001      9          49           315.0\n",
       "65      1001     10          65           393.0\n",
       "130     1001     12          56           412.0\n",
       "186     1001     11          64           426.0\n",
       "250     1001      8          27           182.0\n",
       "277     1002     11          55           386.0\n",
       "332     1002     12          47           384.0\n",
       "379     1002     10          11            59.0\n",
       "390     1003     12         149          1104.0\n",
       "539     1004     11          54           476.0\n",
       "593     1004      8          49           354.0\n",
       "642     1004      7          49           381.0\n",
       "691     1004      6          44           275.0\n",
       "735     1004      9          42           301.0\n",
       "777     1004     12          50           427.0\n",
       "827     1004     10          61           365.0\n",
       "888     1004      5          21           193.0\n",
       "909     1005     12          59           496.0\n",
       "968     1006     12           9            59.0"
      ]
     },
     "execution_count": 12,
     "metadata": {},
     "output_type": "execute_result"
    }
   ],
   "source": [
    "#Now that totals have been calculated, individual sessions are not required anymore\n",
    "calls = calls.merge(minutes_per_month, on=['user_id', 'month'], how='outer')\n",
    "calls = calls.drop(['id', 'call_date', 'duration'], axis=1)\n",
    "calls = calls.drop_duplicates()\n",
    "calls.head(20)\n",
    "#minutes/month for each user successfully logged into 'calls' dataframe"
   ]
  },
  {
   "cell_type": "code",
   "execution_count": 13,
   "metadata": {
    "scrolled": true
   },
   "outputs": [
    {
     "data": {
      "text/html": [
       "<div>\n",
       "<style scoped>\n",
       "    .dataframe tbody tr th:only-of-type {\n",
       "        vertical-align: middle;\n",
       "    }\n",
       "\n",
       "    .dataframe tbody tr th {\n",
       "        vertical-align: top;\n",
       "    }\n",
       "\n",
       "    .dataframe thead th {\n",
       "        text-align: right;\n",
       "    }\n",
       "</style>\n",
       "<table border=\"1\" class=\"dataframe\">\n",
       "  <thead>\n",
       "    <tr style=\"text-align: right;\">\n",
       "      <th></th>\n",
       "      <th>id</th>\n",
       "      <th>user_id</th>\n",
       "      <th>message_date</th>\n",
       "      <th>month</th>\n",
       "    </tr>\n",
       "  </thead>\n",
       "  <tbody>\n",
       "    <tr>\n",
       "      <td>0</td>\n",
       "      <td>1000_125</td>\n",
       "      <td>1000</td>\n",
       "      <td>2018-12-27</td>\n",
       "      <td>12</td>\n",
       "    </tr>\n",
       "    <tr>\n",
       "      <td>1</td>\n",
       "      <td>1000_160</td>\n",
       "      <td>1000</td>\n",
       "      <td>2018-12-31</td>\n",
       "      <td>12</td>\n",
       "    </tr>\n",
       "    <tr>\n",
       "      <td>2</td>\n",
       "      <td>1000_223</td>\n",
       "      <td>1000</td>\n",
       "      <td>2018-12-31</td>\n",
       "      <td>12</td>\n",
       "    </tr>\n",
       "    <tr>\n",
       "      <td>3</td>\n",
       "      <td>1000_251</td>\n",
       "      <td>1000</td>\n",
       "      <td>2018-12-27</td>\n",
       "      <td>12</td>\n",
       "    </tr>\n",
       "    <tr>\n",
       "      <td>4</td>\n",
       "      <td>1000_255</td>\n",
       "      <td>1000</td>\n",
       "      <td>2018-12-26</td>\n",
       "      <td>12</td>\n",
       "    </tr>\n",
       "    <tr>\n",
       "      <td>5</td>\n",
       "      <td>1000_346</td>\n",
       "      <td>1000</td>\n",
       "      <td>2018-12-29</td>\n",
       "      <td>12</td>\n",
       "    </tr>\n",
       "    <tr>\n",
       "      <td>6</td>\n",
       "      <td>1000_386</td>\n",
       "      <td>1000</td>\n",
       "      <td>2018-12-30</td>\n",
       "      <td>12</td>\n",
       "    </tr>\n",
       "    <tr>\n",
       "      <td>7</td>\n",
       "      <td>1000_413</td>\n",
       "      <td>1000</td>\n",
       "      <td>2018-12-31</td>\n",
       "      <td>12</td>\n",
       "    </tr>\n",
       "    <tr>\n",
       "      <td>8</td>\n",
       "      <td>1000_502</td>\n",
       "      <td>1000</td>\n",
       "      <td>2018-12-27</td>\n",
       "      <td>12</td>\n",
       "    </tr>\n",
       "    <tr>\n",
       "      <td>9</td>\n",
       "      <td>1000_525</td>\n",
       "      <td>1000</td>\n",
       "      <td>2018-12-28</td>\n",
       "      <td>12</td>\n",
       "    </tr>\n",
       "    <tr>\n",
       "      <td>10</td>\n",
       "      <td>1000_567</td>\n",
       "      <td>1000</td>\n",
       "      <td>2018-12-25</td>\n",
       "      <td>12</td>\n",
       "    </tr>\n",
       "    <tr>\n",
       "      <td>11</td>\n",
       "      <td>1001_1</td>\n",
       "      <td>1001</td>\n",
       "      <td>2018-11-14</td>\n",
       "      <td>11</td>\n",
       "    </tr>\n",
       "    <tr>\n",
       "      <td>12</td>\n",
       "      <td>1001_2</td>\n",
       "      <td>1001</td>\n",
       "      <td>2018-08-17</td>\n",
       "      <td>8</td>\n",
       "    </tr>\n",
       "    <tr>\n",
       "      <td>13</td>\n",
       "      <td>1001_5</td>\n",
       "      <td>1001</td>\n",
       "      <td>2018-12-05</td>\n",
       "      <td>12</td>\n",
       "    </tr>\n",
       "    <tr>\n",
       "      <td>14</td>\n",
       "      <td>1001_7</td>\n",
       "      <td>1001</td>\n",
       "      <td>2018-11-28</td>\n",
       "      <td>11</td>\n",
       "    </tr>\n",
       "    <tr>\n",
       "      <td>15</td>\n",
       "      <td>1001_9</td>\n",
       "      <td>1001</td>\n",
       "      <td>2018-10-23</td>\n",
       "      <td>10</td>\n",
       "    </tr>\n",
       "    <tr>\n",
       "      <td>16</td>\n",
       "      <td>1001_10</td>\n",
       "      <td>1001</td>\n",
       "      <td>2018-09-01</td>\n",
       "      <td>9</td>\n",
       "    </tr>\n",
       "    <tr>\n",
       "      <td>17</td>\n",
       "      <td>1001_11</td>\n",
       "      <td>1001</td>\n",
       "      <td>2018-11-18</td>\n",
       "      <td>11</td>\n",
       "    </tr>\n",
       "    <tr>\n",
       "      <td>18</td>\n",
       "      <td>1001_17</td>\n",
       "      <td>1001</td>\n",
       "      <td>2018-12-11</td>\n",
       "      <td>12</td>\n",
       "    </tr>\n",
       "    <tr>\n",
       "      <td>19</td>\n",
       "      <td>1001_18</td>\n",
       "      <td>1001</td>\n",
       "      <td>2018-10-01</td>\n",
       "      <td>10</td>\n",
       "    </tr>\n",
       "  </tbody>\n",
       "</table>\n",
       "</div>"
      ],
      "text/plain": [
       "          id  user_id message_date  month\n",
       "0   1000_125     1000   2018-12-27     12\n",
       "1   1000_160     1000   2018-12-31     12\n",
       "2   1000_223     1000   2018-12-31     12\n",
       "3   1000_251     1000   2018-12-27     12\n",
       "4   1000_255     1000   2018-12-26     12\n",
       "5   1000_346     1000   2018-12-29     12\n",
       "6   1000_386     1000   2018-12-30     12\n",
       "7   1000_413     1000   2018-12-31     12\n",
       "8   1000_502     1000   2018-12-27     12\n",
       "9   1000_525     1000   2018-12-28     12\n",
       "10  1000_567     1000   2018-12-25     12\n",
       "11    1001_1     1001   2018-11-14     11\n",
       "12    1001_2     1001   2018-08-17      8\n",
       "13    1001_5     1001   2018-12-05     12\n",
       "14    1001_7     1001   2018-11-28     11\n",
       "15    1001_9     1001   2018-10-23     10\n",
       "16   1001_10     1001   2018-09-01      9\n",
       "17   1001_11     1001   2018-11-18     11\n",
       "18   1001_17     1001   2018-12-11     12\n",
       "19   1001_18     1001   2018-10-01     10"
      ]
     },
     "execution_count": 13,
     "metadata": {},
     "output_type": "execute_result"
    }
   ],
   "source": [
    "#messages/month -- same process used for minutes/month\n",
    "messages['message_date'] = pd.to_datetime(messages['message_date'])\n",
    "messages['month'] = messages['message_date'].dt.month\n",
    "messages.head(20)"
   ]
  },
  {
   "cell_type": "code",
   "execution_count": 14,
   "metadata": {
    "scrolled": true
   },
   "outputs": [
    {
     "data": {
      "text/html": [
       "<div>\n",
       "<style scoped>\n",
       "    .dataframe tbody tr th:only-of-type {\n",
       "        vertical-align: middle;\n",
       "    }\n",
       "\n",
       "    .dataframe tbody tr th {\n",
       "        vertical-align: top;\n",
       "    }\n",
       "\n",
       "    .dataframe thead th {\n",
       "        text-align: right;\n",
       "    }\n",
       "</style>\n",
       "<table border=\"1\" class=\"dataframe\">\n",
       "  <thead>\n",
       "    <tr style=\"text-align: right;\">\n",
       "      <th></th>\n",
       "      <th>user_id</th>\n",
       "      <th>month</th>\n",
       "      <th>message_count</th>\n",
       "    </tr>\n",
       "  </thead>\n",
       "  <tbody>\n",
       "    <tr>\n",
       "      <td>0</td>\n",
       "      <td>1000</td>\n",
       "      <td>12</td>\n",
       "      <td>11</td>\n",
       "    </tr>\n",
       "    <tr>\n",
       "      <td>1</td>\n",
       "      <td>1001</td>\n",
       "      <td>8</td>\n",
       "      <td>30</td>\n",
       "    </tr>\n",
       "    <tr>\n",
       "      <td>2</td>\n",
       "      <td>1001</td>\n",
       "      <td>9</td>\n",
       "      <td>44</td>\n",
       "    </tr>\n",
       "    <tr>\n",
       "      <td>3</td>\n",
       "      <td>1001</td>\n",
       "      <td>10</td>\n",
       "      <td>53</td>\n",
       "    </tr>\n",
       "    <tr>\n",
       "      <td>4</td>\n",
       "      <td>1001</td>\n",
       "      <td>11</td>\n",
       "      <td>36</td>\n",
       "    </tr>\n",
       "    <tr>\n",
       "      <td>5</td>\n",
       "      <td>1001</td>\n",
       "      <td>12</td>\n",
       "      <td>44</td>\n",
       "    </tr>\n",
       "    <tr>\n",
       "      <td>6</td>\n",
       "      <td>1002</td>\n",
       "      <td>10</td>\n",
       "      <td>15</td>\n",
       "    </tr>\n",
       "    <tr>\n",
       "      <td>7</td>\n",
       "      <td>1002</td>\n",
       "      <td>11</td>\n",
       "      <td>32</td>\n",
       "    </tr>\n",
       "    <tr>\n",
       "      <td>8</td>\n",
       "      <td>1002</td>\n",
       "      <td>12</td>\n",
       "      <td>41</td>\n",
       "    </tr>\n",
       "    <tr>\n",
       "      <td>9</td>\n",
       "      <td>1003</td>\n",
       "      <td>12</td>\n",
       "      <td>50</td>\n",
       "    </tr>\n",
       "    <tr>\n",
       "      <td>10</td>\n",
       "      <td>1004</td>\n",
       "      <td>5</td>\n",
       "      <td>7</td>\n",
       "    </tr>\n",
       "    <tr>\n",
       "      <td>11</td>\n",
       "      <td>1004</td>\n",
       "      <td>6</td>\n",
       "      <td>18</td>\n",
       "    </tr>\n",
       "    <tr>\n",
       "      <td>12</td>\n",
       "      <td>1004</td>\n",
       "      <td>7</td>\n",
       "      <td>26</td>\n",
       "    </tr>\n",
       "    <tr>\n",
       "      <td>13</td>\n",
       "      <td>1004</td>\n",
       "      <td>8</td>\n",
       "      <td>25</td>\n",
       "    </tr>\n",
       "    <tr>\n",
       "      <td>14</td>\n",
       "      <td>1004</td>\n",
       "      <td>9</td>\n",
       "      <td>21</td>\n",
       "    </tr>\n",
       "    <tr>\n",
       "      <td>15</td>\n",
       "      <td>1004</td>\n",
       "      <td>10</td>\n",
       "      <td>24</td>\n",
       "    </tr>\n",
       "    <tr>\n",
       "      <td>16</td>\n",
       "      <td>1004</td>\n",
       "      <td>11</td>\n",
       "      <td>25</td>\n",
       "    </tr>\n",
       "    <tr>\n",
       "      <td>17</td>\n",
       "      <td>1004</td>\n",
       "      <td>12</td>\n",
       "      <td>31</td>\n",
       "    </tr>\n",
       "    <tr>\n",
       "      <td>18</td>\n",
       "      <td>1005</td>\n",
       "      <td>12</td>\n",
       "      <td>11</td>\n",
       "    </tr>\n",
       "    <tr>\n",
       "      <td>19</td>\n",
       "      <td>1006</td>\n",
       "      <td>11</td>\n",
       "      <td>15</td>\n",
       "    </tr>\n",
       "  </tbody>\n",
       "</table>\n",
       "</div>"
      ],
      "text/plain": [
       "    user_id  month  message_count\n",
       "0      1000     12             11\n",
       "1      1001      8             30\n",
       "2      1001      9             44\n",
       "3      1001     10             53\n",
       "4      1001     11             36\n",
       "5      1001     12             44\n",
       "6      1002     10             15\n",
       "7      1002     11             32\n",
       "8      1002     12             41\n",
       "9      1003     12             50\n",
       "10     1004      5              7\n",
       "11     1004      6             18\n",
       "12     1004      7             26\n",
       "13     1004      8             25\n",
       "14     1004      9             21\n",
       "15     1004     10             24\n",
       "16     1004     11             25\n",
       "17     1004     12             31\n",
       "18     1005     12             11\n",
       "19     1006     11             15"
      ]
     },
     "execution_count": 14,
     "metadata": {},
     "output_type": "execute_result"
    }
   ],
   "source": [
    "messages_per_month = messages.groupby(['user_id', 'month']).size().reset_index(name='message_count')\n",
    "messages_per_month.head(20)"
   ]
  },
  {
   "cell_type": "code",
   "execution_count": 15,
   "metadata": {
    "scrolled": true
   },
   "outputs": [
    {
     "data": {
      "text/html": [
       "<div>\n",
       "<style scoped>\n",
       "    .dataframe tbody tr th:only-of-type {\n",
       "        vertical-align: middle;\n",
       "    }\n",
       "\n",
       "    .dataframe tbody tr th {\n",
       "        vertical-align: top;\n",
       "    }\n",
       "\n",
       "    .dataframe thead th {\n",
       "        text-align: right;\n",
       "    }\n",
       "</style>\n",
       "<table border=\"1\" class=\"dataframe\">\n",
       "  <thead>\n",
       "    <tr style=\"text-align: right;\">\n",
       "      <th></th>\n",
       "      <th>user_id</th>\n",
       "      <th>month</th>\n",
       "      <th>message_count</th>\n",
       "    </tr>\n",
       "  </thead>\n",
       "  <tbody>\n",
       "    <tr>\n",
       "      <td>0</td>\n",
       "      <td>1000</td>\n",
       "      <td>12</td>\n",
       "      <td>11</td>\n",
       "    </tr>\n",
       "    <tr>\n",
       "      <td>11</td>\n",
       "      <td>1001</td>\n",
       "      <td>11</td>\n",
       "      <td>36</td>\n",
       "    </tr>\n",
       "    <tr>\n",
       "      <td>47</td>\n",
       "      <td>1001</td>\n",
       "      <td>8</td>\n",
       "      <td>30</td>\n",
       "    </tr>\n",
       "    <tr>\n",
       "      <td>77</td>\n",
       "      <td>1001</td>\n",
       "      <td>12</td>\n",
       "      <td>44</td>\n",
       "    </tr>\n",
       "    <tr>\n",
       "      <td>121</td>\n",
       "      <td>1001</td>\n",
       "      <td>10</td>\n",
       "      <td>53</td>\n",
       "    </tr>\n",
       "    <tr>\n",
       "      <td>174</td>\n",
       "      <td>1001</td>\n",
       "      <td>9</td>\n",
       "      <td>44</td>\n",
       "    </tr>\n",
       "    <tr>\n",
       "      <td>218</td>\n",
       "      <td>1002</td>\n",
       "      <td>10</td>\n",
       "      <td>15</td>\n",
       "    </tr>\n",
       "    <tr>\n",
       "      <td>233</td>\n",
       "      <td>1002</td>\n",
       "      <td>11</td>\n",
       "      <td>32</td>\n",
       "    </tr>\n",
       "    <tr>\n",
       "      <td>265</td>\n",
       "      <td>1002</td>\n",
       "      <td>12</td>\n",
       "      <td>41</td>\n",
       "    </tr>\n",
       "    <tr>\n",
       "      <td>306</td>\n",
       "      <td>1003</td>\n",
       "      <td>12</td>\n",
       "      <td>50</td>\n",
       "    </tr>\n",
       "    <tr>\n",
       "      <td>356</td>\n",
       "      <td>1004</td>\n",
       "      <td>9</td>\n",
       "      <td>21</td>\n",
       "    </tr>\n",
       "    <tr>\n",
       "      <td>377</td>\n",
       "      <td>1004</td>\n",
       "      <td>12</td>\n",
       "      <td>31</td>\n",
       "    </tr>\n",
       "    <tr>\n",
       "      <td>408</td>\n",
       "      <td>1004</td>\n",
       "      <td>8</td>\n",
       "      <td>25</td>\n",
       "    </tr>\n",
       "    <tr>\n",
       "      <td>433</td>\n",
       "      <td>1004</td>\n",
       "      <td>6</td>\n",
       "      <td>18</td>\n",
       "    </tr>\n",
       "    <tr>\n",
       "      <td>451</td>\n",
       "      <td>1004</td>\n",
       "      <td>11</td>\n",
       "      <td>25</td>\n",
       "    </tr>\n",
       "    <tr>\n",
       "      <td>476</td>\n",
       "      <td>1004</td>\n",
       "      <td>10</td>\n",
       "      <td>24</td>\n",
       "    </tr>\n",
       "    <tr>\n",
       "      <td>500</td>\n",
       "      <td>1004</td>\n",
       "      <td>7</td>\n",
       "      <td>26</td>\n",
       "    </tr>\n",
       "    <tr>\n",
       "      <td>526</td>\n",
       "      <td>1004</td>\n",
       "      <td>5</td>\n",
       "      <td>7</td>\n",
       "    </tr>\n",
       "    <tr>\n",
       "      <td>533</td>\n",
       "      <td>1005</td>\n",
       "      <td>12</td>\n",
       "      <td>11</td>\n",
       "    </tr>\n",
       "    <tr>\n",
       "      <td>544</td>\n",
       "      <td>1006</td>\n",
       "      <td>12</td>\n",
       "      <td>139</td>\n",
       "    </tr>\n",
       "  </tbody>\n",
       "</table>\n",
       "</div>"
      ],
      "text/plain": [
       "     user_id  month  message_count\n",
       "0       1000     12             11\n",
       "11      1001     11             36\n",
       "47      1001      8             30\n",
       "77      1001     12             44\n",
       "121     1001     10             53\n",
       "174     1001      9             44\n",
       "218     1002     10             15\n",
       "233     1002     11             32\n",
       "265     1002     12             41\n",
       "306     1003     12             50\n",
       "356     1004      9             21\n",
       "377     1004     12             31\n",
       "408     1004      8             25\n",
       "433     1004      6             18\n",
       "451     1004     11             25\n",
       "476     1004     10             24\n",
       "500     1004      7             26\n",
       "526     1004      5              7\n",
       "533     1005     12             11\n",
       "544     1006     12            139"
      ]
     },
     "execution_count": 15,
     "metadata": {},
     "output_type": "execute_result"
    }
   ],
   "source": [
    "#Now that totals have been calculated, the individual sessions are not needed\n",
    "messages = messages.merge(messages_per_month, on=['user_id', 'month'], how='outer')\n",
    "messages = messages.drop(['id', 'message_date'], axis=1)\n",
    "messages.columns = ['user_id', 'month', 'message_count']\n",
    "messages = messages.drop_duplicates()\n",
    "messages.head(20)\n",
    "#messages/month for each user successfully merged with messages dataframe"
   ]
  },
  {
   "cell_type": "code",
   "execution_count": 16,
   "metadata": {
    "scrolled": false
   },
   "outputs": [
    {
     "data": {
      "text/html": [
       "<div>\n",
       "<style scoped>\n",
       "    .dataframe tbody tr th:only-of-type {\n",
       "        vertical-align: middle;\n",
       "    }\n",
       "\n",
       "    .dataframe tbody tr th {\n",
       "        vertical-align: top;\n",
       "    }\n",
       "\n",
       "    .dataframe thead th {\n",
       "        text-align: right;\n",
       "    }\n",
       "</style>\n",
       "<table border=\"1\" class=\"dataframe\">\n",
       "  <thead>\n",
       "    <tr style=\"text-align: right;\">\n",
       "      <th></th>\n",
       "      <th>user_id</th>\n",
       "      <th>month</th>\n",
       "      <th>mb_used</th>\n",
       "    </tr>\n",
       "  </thead>\n",
       "  <tbody>\n",
       "    <tr>\n",
       "      <td>0</td>\n",
       "      <td>1000</td>\n",
       "      <td>12</td>\n",
       "      <td>1901.47</td>\n",
       "    </tr>\n",
       "    <tr>\n",
       "      <td>1</td>\n",
       "      <td>1001</td>\n",
       "      <td>8</td>\n",
       "      <td>6919.15</td>\n",
       "    </tr>\n",
       "    <tr>\n",
       "      <td>2</td>\n",
       "      <td>1001</td>\n",
       "      <td>9</td>\n",
       "      <td>13314.82</td>\n",
       "    </tr>\n",
       "    <tr>\n",
       "      <td>3</td>\n",
       "      <td>1001</td>\n",
       "      <td>10</td>\n",
       "      <td>22330.49</td>\n",
       "    </tr>\n",
       "    <tr>\n",
       "      <td>4</td>\n",
       "      <td>1001</td>\n",
       "      <td>11</td>\n",
       "      <td>18504.30</td>\n",
       "    </tr>\n",
       "    <tr>\n",
       "      <td>5</td>\n",
       "      <td>1001</td>\n",
       "      <td>12</td>\n",
       "      <td>19369.18</td>\n",
       "    </tr>\n",
       "    <tr>\n",
       "      <td>6</td>\n",
       "      <td>1002</td>\n",
       "      <td>10</td>\n",
       "      <td>6552.01</td>\n",
       "    </tr>\n",
       "    <tr>\n",
       "      <td>7</td>\n",
       "      <td>1002</td>\n",
       "      <td>11</td>\n",
       "      <td>19345.08</td>\n",
       "    </tr>\n",
       "    <tr>\n",
       "      <td>8</td>\n",
       "      <td>1002</td>\n",
       "      <td>12</td>\n",
       "      <td>14396.24</td>\n",
       "    </tr>\n",
       "    <tr>\n",
       "      <td>9</td>\n",
       "      <td>1003</td>\n",
       "      <td>12</td>\n",
       "      <td>27044.14</td>\n",
       "    </tr>\n",
       "    <tr>\n",
       "      <td>10</td>\n",
       "      <td>1004</td>\n",
       "      <td>5</td>\n",
       "      <td>6547.21</td>\n",
       "    </tr>\n",
       "    <tr>\n",
       "      <td>11</td>\n",
       "      <td>1004</td>\n",
       "      <td>6</td>\n",
       "      <td>20672.82</td>\n",
       "    </tr>\n",
       "    <tr>\n",
       "      <td>12</td>\n",
       "      <td>1004</td>\n",
       "      <td>7</td>\n",
       "      <td>24516.62</td>\n",
       "    </tr>\n",
       "    <tr>\n",
       "      <td>13</td>\n",
       "      <td>1004</td>\n",
       "      <td>8</td>\n",
       "      <td>27981.74</td>\n",
       "    </tr>\n",
       "    <tr>\n",
       "      <td>14</td>\n",
       "      <td>1004</td>\n",
       "      <td>9</td>\n",
       "      <td>18852.72</td>\n",
       "    </tr>\n",
       "    <tr>\n",
       "      <td>15</td>\n",
       "      <td>1004</td>\n",
       "      <td>10</td>\n",
       "      <td>14541.63</td>\n",
       "    </tr>\n",
       "    <tr>\n",
       "      <td>16</td>\n",
       "      <td>1004</td>\n",
       "      <td>11</td>\n",
       "      <td>21850.78</td>\n",
       "    </tr>\n",
       "    <tr>\n",
       "      <td>17</td>\n",
       "      <td>1004</td>\n",
       "      <td>12</td>\n",
       "      <td>21389.29</td>\n",
       "    </tr>\n",
       "    <tr>\n",
       "      <td>18</td>\n",
       "      <td>1005</td>\n",
       "      <td>12</td>\n",
       "      <td>17140.17</td>\n",
       "    </tr>\n",
       "    <tr>\n",
       "      <td>19</td>\n",
       "      <td>1006</td>\n",
       "      <td>11</td>\n",
       "      <td>2068.37</td>\n",
       "    </tr>\n",
       "  </tbody>\n",
       "</table>\n",
       "</div>"
      ],
      "text/plain": [
       "    user_id  month   mb_used\n",
       "0      1000     12   1901.47\n",
       "1      1001      8   6919.15\n",
       "2      1001      9  13314.82\n",
       "3      1001     10  22330.49\n",
       "4      1001     11  18504.30\n",
       "5      1001     12  19369.18\n",
       "6      1002     10   6552.01\n",
       "7      1002     11  19345.08\n",
       "8      1002     12  14396.24\n",
       "9      1003     12  27044.14\n",
       "10     1004      5   6547.21\n",
       "11     1004      6  20672.82\n",
       "12     1004      7  24516.62\n",
       "13     1004      8  27981.74\n",
       "14     1004      9  18852.72\n",
       "15     1004     10  14541.63\n",
       "16     1004     11  21850.78\n",
       "17     1004     12  21389.29\n",
       "18     1005     12  17140.17\n",
       "19     1006     11   2068.37"
      ]
     },
     "execution_count": 16,
     "metadata": {},
     "output_type": "execute_result"
    }
   ],
   "source": [
    "#volume of data/month for each user:\n",
    "internet['session_date'] = pd.to_datetime(internet['session_date'])\n",
    "internet['month'] = internet['session_date'].dt.month\n",
    "internet = internet.drop(['id', 'session_date'], axis=1)\n",
    "internet = internet.groupby(['user_id', 'month']).sum().reset_index()\n",
    "internet.head(20)"
   ]
  },
  {
   "cell_type": "code",
   "execution_count": 17,
   "metadata": {},
   "outputs": [
    {
     "data": {
      "text/html": [
       "<div>\n",
       "<style scoped>\n",
       "    .dataframe tbody tr th:only-of-type {\n",
       "        vertical-align: middle;\n",
       "    }\n",
       "\n",
       "    .dataframe tbody tr th {\n",
       "        vertical-align: top;\n",
       "    }\n",
       "\n",
       "    .dataframe thead th {\n",
       "        text-align: right;\n",
       "    }\n",
       "</style>\n",
       "<table border=\"1\" class=\"dataframe\">\n",
       "  <thead>\n",
       "    <tr style=\"text-align: right;\">\n",
       "      <th></th>\n",
       "      <th>user_id</th>\n",
       "      <th>city</th>\n",
       "      <th>plan</th>\n",
       "    </tr>\n",
       "  </thead>\n",
       "  <tbody>\n",
       "    <tr>\n",
       "      <td>0</td>\n",
       "      <td>1000</td>\n",
       "      <td>Atlanta-Sandy Springs-Roswell, GA MSA</td>\n",
       "      <td>ultimate</td>\n",
       "    </tr>\n",
       "    <tr>\n",
       "      <td>1</td>\n",
       "      <td>1001</td>\n",
       "      <td>Seattle-Tacoma-Bellevue, WA MSA</td>\n",
       "      <td>surf</td>\n",
       "    </tr>\n",
       "    <tr>\n",
       "      <td>2</td>\n",
       "      <td>1002</td>\n",
       "      <td>Las Vegas-Henderson-Paradise, NV MSA</td>\n",
       "      <td>surf</td>\n",
       "    </tr>\n",
       "    <tr>\n",
       "      <td>3</td>\n",
       "      <td>1003</td>\n",
       "      <td>Tulsa, OK MSA</td>\n",
       "      <td>surf</td>\n",
       "    </tr>\n",
       "    <tr>\n",
       "      <td>4</td>\n",
       "      <td>1004</td>\n",
       "      <td>Seattle-Tacoma-Bellevue, WA MSA</td>\n",
       "      <td>surf</td>\n",
       "    </tr>\n",
       "    <tr>\n",
       "      <td>5</td>\n",
       "      <td>1005</td>\n",
       "      <td>Dallas-Fort Worth-Arlington, TX MSA</td>\n",
       "      <td>surf</td>\n",
       "    </tr>\n",
       "    <tr>\n",
       "      <td>6</td>\n",
       "      <td>1006</td>\n",
       "      <td>San Francisco-Oakland-Berkeley, CA MSA</td>\n",
       "      <td>ultimate</td>\n",
       "    </tr>\n",
       "    <tr>\n",
       "      <td>7</td>\n",
       "      <td>1007</td>\n",
       "      <td>Grand Rapids-Kentwood, MI MSA</td>\n",
       "      <td>surf</td>\n",
       "    </tr>\n",
       "    <tr>\n",
       "      <td>8</td>\n",
       "      <td>1008</td>\n",
       "      <td>Orlando-Kissimmee-Sanford, FL MSA</td>\n",
       "      <td>ultimate</td>\n",
       "    </tr>\n",
       "    <tr>\n",
       "      <td>9</td>\n",
       "      <td>1009</td>\n",
       "      <td>San Jose-Sunnyvale-Santa Clara, CA MSA</td>\n",
       "      <td>surf</td>\n",
       "    </tr>\n",
       "  </tbody>\n",
       "</table>\n",
       "</div>"
      ],
      "text/plain": [
       "   user_id                                    city      plan\n",
       "0     1000   Atlanta-Sandy Springs-Roswell, GA MSA  ultimate\n",
       "1     1001         Seattle-Tacoma-Bellevue, WA MSA      surf\n",
       "2     1002    Las Vegas-Henderson-Paradise, NV MSA      surf\n",
       "3     1003                           Tulsa, OK MSA      surf\n",
       "4     1004         Seattle-Tacoma-Bellevue, WA MSA      surf\n",
       "5     1005     Dallas-Fort Worth-Arlington, TX MSA      surf\n",
       "6     1006  San Francisco-Oakland-Berkeley, CA MSA  ultimate\n",
       "7     1007           Grand Rapids-Kentwood, MI MSA      surf\n",
       "8     1008       Orlando-Kissimmee-Sanford, FL MSA  ultimate\n",
       "9     1009  San Jose-Sunnyvale-Santa Clara, CA MSA      surf"
      ]
     },
     "execution_count": 17,
     "metadata": {},
     "output_type": "execute_result"
    }
   ],
   "source": [
    "#format megaline_users dataframe to be merged to calc revenue\n",
    "users = users.drop(['first_name', 'last_name', 'age', 'reg_date', 'churn_date'], axis=1)\n",
    "users.head(10)"
   ]
  },
  {
   "cell_type": "markdown",
   "metadata": {},
   "source": [
    "# Step 3: Analyze the data"
   ]
  },
  {
   "cell_type": "markdown",
   "metadata": {},
   "source": [
    "**This is where we begin to create the customer_behaviors df to find outliers and analyze boxplots**"
   ]
  },
  {
   "cell_type": "code",
   "execution_count": 18,
   "metadata": {
    "scrolled": true
   },
   "outputs": [
    {
     "data": {
      "text/html": [
       "<div>\n",
       "<style scoped>\n",
       "    .dataframe tbody tr th:only-of-type {\n",
       "        vertical-align: middle;\n",
       "    }\n",
       "\n",
       "    .dataframe tbody tr th {\n",
       "        vertical-align: top;\n",
       "    }\n",
       "\n",
       "    .dataframe thead th {\n",
       "        text-align: right;\n",
       "    }\n",
       "</style>\n",
       "<table border=\"1\" class=\"dataframe\">\n",
       "  <thead>\n",
       "    <tr style=\"text-align: right;\">\n",
       "      <th></th>\n",
       "      <th>user_id</th>\n",
       "      <th>month</th>\n",
       "      <th>call_count</th>\n",
       "      <th>duration_total</th>\n",
       "      <th>message_count</th>\n",
       "      <th>mb_used</th>\n",
       "    </tr>\n",
       "  </thead>\n",
       "  <tbody>\n",
       "    <tr>\n",
       "      <td>0</td>\n",
       "      <td>1000</td>\n",
       "      <td>12</td>\n",
       "      <td>16.0</td>\n",
       "      <td>124.0</td>\n",
       "      <td>11.0</td>\n",
       "      <td>1901.47</td>\n",
       "    </tr>\n",
       "    <tr>\n",
       "      <td>1</td>\n",
       "      <td>1001</td>\n",
       "      <td>9</td>\n",
       "      <td>49.0</td>\n",
       "      <td>315.0</td>\n",
       "      <td>44.0</td>\n",
       "      <td>13314.82</td>\n",
       "    </tr>\n",
       "    <tr>\n",
       "      <td>2</td>\n",
       "      <td>1001</td>\n",
       "      <td>10</td>\n",
       "      <td>65.0</td>\n",
       "      <td>393.0</td>\n",
       "      <td>53.0</td>\n",
       "      <td>22330.49</td>\n",
       "    </tr>\n",
       "    <tr>\n",
       "      <td>3</td>\n",
       "      <td>1001</td>\n",
       "      <td>12</td>\n",
       "      <td>56.0</td>\n",
       "      <td>412.0</td>\n",
       "      <td>44.0</td>\n",
       "      <td>19369.18</td>\n",
       "    </tr>\n",
       "    <tr>\n",
       "      <td>4</td>\n",
       "      <td>1001</td>\n",
       "      <td>11</td>\n",
       "      <td>64.0</td>\n",
       "      <td>426.0</td>\n",
       "      <td>36.0</td>\n",
       "      <td>18504.30</td>\n",
       "    </tr>\n",
       "    <tr>\n",
       "      <td>5</td>\n",
       "      <td>1001</td>\n",
       "      <td>8</td>\n",
       "      <td>27.0</td>\n",
       "      <td>182.0</td>\n",
       "      <td>30.0</td>\n",
       "      <td>6919.15</td>\n",
       "    </tr>\n",
       "    <tr>\n",
       "      <td>6</td>\n",
       "      <td>1002</td>\n",
       "      <td>11</td>\n",
       "      <td>55.0</td>\n",
       "      <td>386.0</td>\n",
       "      <td>32.0</td>\n",
       "      <td>19345.08</td>\n",
       "    </tr>\n",
       "    <tr>\n",
       "      <td>7</td>\n",
       "      <td>1002</td>\n",
       "      <td>12</td>\n",
       "      <td>47.0</td>\n",
       "      <td>384.0</td>\n",
       "      <td>41.0</td>\n",
       "      <td>14396.24</td>\n",
       "    </tr>\n",
       "    <tr>\n",
       "      <td>8</td>\n",
       "      <td>1002</td>\n",
       "      <td>10</td>\n",
       "      <td>11.0</td>\n",
       "      <td>59.0</td>\n",
       "      <td>15.0</td>\n",
       "      <td>6552.01</td>\n",
       "    </tr>\n",
       "    <tr>\n",
       "      <td>9</td>\n",
       "      <td>1003</td>\n",
       "      <td>12</td>\n",
       "      <td>149.0</td>\n",
       "      <td>1104.0</td>\n",
       "      <td>50.0</td>\n",
       "      <td>27044.14</td>\n",
       "    </tr>\n",
       "    <tr>\n",
       "      <td>10</td>\n",
       "      <td>1004</td>\n",
       "      <td>11</td>\n",
       "      <td>54.0</td>\n",
       "      <td>476.0</td>\n",
       "      <td>25.0</td>\n",
       "      <td>21850.78</td>\n",
       "    </tr>\n",
       "    <tr>\n",
       "      <td>11</td>\n",
       "      <td>1004</td>\n",
       "      <td>8</td>\n",
       "      <td>49.0</td>\n",
       "      <td>354.0</td>\n",
       "      <td>25.0</td>\n",
       "      <td>27981.74</td>\n",
       "    </tr>\n",
       "    <tr>\n",
       "      <td>12</td>\n",
       "      <td>1004</td>\n",
       "      <td>7</td>\n",
       "      <td>49.0</td>\n",
       "      <td>381.0</td>\n",
       "      <td>26.0</td>\n",
       "      <td>24516.62</td>\n",
       "    </tr>\n",
       "    <tr>\n",
       "      <td>13</td>\n",
       "      <td>1004</td>\n",
       "      <td>6</td>\n",
       "      <td>44.0</td>\n",
       "      <td>275.0</td>\n",
       "      <td>18.0</td>\n",
       "      <td>20672.82</td>\n",
       "    </tr>\n",
       "    <tr>\n",
       "      <td>14</td>\n",
       "      <td>1004</td>\n",
       "      <td>9</td>\n",
       "      <td>42.0</td>\n",
       "      <td>301.0</td>\n",
       "      <td>21.0</td>\n",
       "      <td>18852.72</td>\n",
       "    </tr>\n",
       "    <tr>\n",
       "      <td>15</td>\n",
       "      <td>1004</td>\n",
       "      <td>12</td>\n",
       "      <td>50.0</td>\n",
       "      <td>427.0</td>\n",
       "      <td>31.0</td>\n",
       "      <td>21389.29</td>\n",
       "    </tr>\n",
       "    <tr>\n",
       "      <td>16</td>\n",
       "      <td>1004</td>\n",
       "      <td>10</td>\n",
       "      <td>61.0</td>\n",
       "      <td>365.0</td>\n",
       "      <td>24.0</td>\n",
       "      <td>14541.63</td>\n",
       "    </tr>\n",
       "    <tr>\n",
       "      <td>17</td>\n",
       "      <td>1004</td>\n",
       "      <td>5</td>\n",
       "      <td>21.0</td>\n",
       "      <td>193.0</td>\n",
       "      <td>7.0</td>\n",
       "      <td>6547.21</td>\n",
       "    </tr>\n",
       "    <tr>\n",
       "      <td>18</td>\n",
       "      <td>1005</td>\n",
       "      <td>12</td>\n",
       "      <td>59.0</td>\n",
       "      <td>496.0</td>\n",
       "      <td>11.0</td>\n",
       "      <td>17140.17</td>\n",
       "    </tr>\n",
       "    <tr>\n",
       "      <td>19</td>\n",
       "      <td>1006</td>\n",
       "      <td>12</td>\n",
       "      <td>9.0</td>\n",
       "      <td>59.0</td>\n",
       "      <td>139.0</td>\n",
       "      <td>32118.82</td>\n",
       "    </tr>\n",
       "  </tbody>\n",
       "</table>\n",
       "</div>"
      ],
      "text/plain": [
       "    user_id  month  call_count  duration_total  message_count   mb_used\n",
       "0      1000     12        16.0           124.0           11.0   1901.47\n",
       "1      1001      9        49.0           315.0           44.0  13314.82\n",
       "2      1001     10        65.0           393.0           53.0  22330.49\n",
       "3      1001     12        56.0           412.0           44.0  19369.18\n",
       "4      1001     11        64.0           426.0           36.0  18504.30\n",
       "5      1001      8        27.0           182.0           30.0   6919.15\n",
       "6      1002     11        55.0           386.0           32.0  19345.08\n",
       "7      1002     12        47.0           384.0           41.0  14396.24\n",
       "8      1002     10        11.0            59.0           15.0   6552.01\n",
       "9      1003     12       149.0          1104.0           50.0  27044.14\n",
       "10     1004     11        54.0           476.0           25.0  21850.78\n",
       "11     1004      8        49.0           354.0           25.0  27981.74\n",
       "12     1004      7        49.0           381.0           26.0  24516.62\n",
       "13     1004      6        44.0           275.0           18.0  20672.82\n",
       "14     1004      9        42.0           301.0           21.0  18852.72\n",
       "15     1004     12        50.0           427.0           31.0  21389.29\n",
       "16     1004     10        61.0           365.0           24.0  14541.63\n",
       "17     1004      5        21.0           193.0            7.0   6547.21\n",
       "18     1005     12        59.0           496.0           11.0  17140.17\n",
       "19     1006     12         9.0            59.0          139.0  32118.82"
      ]
     },
     "execution_count": 18,
     "metadata": {},
     "output_type": "execute_result"
    }
   ],
   "source": [
    "#create the customer behaviors df: 'user_id', 'call_count', 'duration_total', 'message_count', \n",
    "#'mb_used_monthly'\n",
    "customer_behaviors = calls.merge(messages, on=['user_id', 'month'], how='outer')\n",
    "customer_behaviors = customer_behaviors.merge(internet, on=['user_id', 'month'], how='outer')\n",
    "customer_behaviors.head(20)"
   ]
  },
  {
   "cell_type": "code",
   "execution_count": 19,
   "metadata": {
    "scrolled": false
   },
   "outputs": [
    {
     "data": {
      "image/png": "[encoded data removed]",
      "text/plain": [
       "<Figure size 432x288 with 1 Axes>"
      ]
     },
     "metadata": {
      "needs_background": "light"
     },
     "output_type": "display_data"
    },
    {
     "data": {
      "image/png": "[encoded data removed]",
      "text/plain": [
       "<Figure size 432x288 with 1 Axes>"
      ]
     },
     "metadata": {
      "needs_background": "light"
     },
     "output_type": "display_data"
    },
    {
     "data": {
      "image/png": "[encoded data removed]",
      "text/plain": [
       "<Figure size 432x288 with 1 Axes>"
      ]
     },
     "metadata": {
      "needs_background": "light"
     },
     "output_type": "display_data"
    },
    {
     "data": {
      "image/png": "[encoded data removed]",
      "text/plain": [
       "<Figure size 432x288 with 1 Axes>"
      ]
     },
     "metadata": {
      "needs_background": "light"
     },
     "output_type": "display_data"
    }
   ],
   "source": [
    "#DUPLICATE CODE -- use this code, but for customer behaviors instead of revenue\n",
    "#using boxplots to get a general understanding of the distribution\n",
    "import matplotlib.pyplot as plt\n",
    "\n",
    "customer_behaviors['call_count'].plot.box(by=None)\n",
    "plt.show()\n",
    "customer_behaviors['duration_total'].plot.box(by=None)\n",
    "plt.show()\n",
    "customer_behaviors['message_count'].plot.box(by=None)\n",
    "plt.show()\n",
    "customer_behaviors['mb_used'].plot.box(by=None)\n",
    "plt.show()\n",
    "#There are some outliers in each of the customer behavior parameters that effect the accurate \n",
    "#representation of the data -- remove outliers is the next step"
   ]
  },
  {
   "cell_type": "markdown",
   "metadata": {},
   "source": [
    "**Conclusion 3.2**\n",
    "1) All graphs have outliers, specifically in past the maximum whisker in each boxplot\n",
    "\n",
    "2) Between message count and call count, message count had the highest range of outliers\n",
    "\n",
    "3) Call count's peak was 150 calls with outliers transcending this amount up to 200 calls\n",
    "\n",
    "4) Duration had a peak of 1000 minutes with outliers up to 1400 minutes\n",
    "\n",
    "5) Messages had a low median of 25 compared to its' peak of 125. Outliers populated mostly around 125 to 175 with a few exception that peak at 260\n",
    "\n",
    "6) Mbs visually had the tightest IQR range with a peak at 35000. Outliers were found between 35000 and 70000"
   ]
  },
  {
   "cell_type": "markdown",
   "metadata": {},
   "source": [
    "<div class=\"alert alert-success\" role=\"alert\">\n",
    "Reviewer's comment v. 3:\n",
    "    \n",
    "Well done that you plotted boxplots and described an outliers in details.\n",
    "</div>"
   ]
  },
  {
   "cell_type": "code",
   "execution_count": 20,
   "metadata": {},
   "outputs": [
    {
     "name": "stdout",
     "output_type": "stream",
     "text": [
      "<class 'pandas.core.frame.DataFrame'>\n",
      "Int64Index: 2293 entries, 0 to 2292\n",
      "Data columns (total 6 columns):\n",
      "user_id           2293 non-null int64\n",
      "month             2293 non-null int64\n",
      "call_count        2258 non-null float64\n",
      "duration_total    2258 non-null float64\n",
      "message_count     1806 non-null float64\n",
      "mb_used           2277 non-null float64\n",
      "dtypes: float64(4), int64(2)\n",
      "memory usage: 125.4 KB\n"
     ]
    },
    {
     "data": {
      "text/plain": [
       "user_id            246.00\n",
       "month                3.00\n",
       "call_count          41.00\n",
       "duration_total     299.75\n",
       "message_count       42.00\n",
       "mb_used           8693.80\n",
       "dtype: float64"
      ]
     },
     "metadata": {},
     "output_type": "display_data"
    },
    {
     "data": {
      "text/plain": [
       "None"
      ]
     },
     "metadata": {},
     "output_type": "display_data"
    }
   ],
   "source": [
    "#DUPLICATE CODE\n",
    "#Process of removing outliers\n",
    "\n",
    "Q1 = customer_behaviors.quantile(0.25)\n",
    "Q3 = customer_behaviors.quantile(0.75)\n",
    "IQR = Q3 - Q1\n",
    "\n",
    "display(IQR, customer_behaviors.info())"
   ]
  },
  {
   "cell_type": "code",
   "execution_count": 21,
   "metadata": {},
   "outputs": [
    {
     "name": "stdout",
     "output_type": "stream",
     "text": [
      "<class 'pandas.core.frame.DataFrame'>\n",
      "Int64Index: 2077 entries, 0 to 2292\n",
      "Data columns (total 6 columns):\n",
      "user_id           2077 non-null int64\n",
      "month             2077 non-null int64\n",
      "call_count        2047 non-null float64\n",
      "duration_total    2047 non-null float64\n",
      "message_count     1621 non-null float64\n",
      "mb_used           2068 non-null float64\n",
      "dtypes: float64(4), int64(2)\n",
      "memory usage: 113.6 KB\n"
     ]
    }
   ],
   "source": [
    "#DUPLICATE CODE\n",
    "customer_behaviors = customer_behaviors[~((customer_behaviors < (Q1 - 1.5 * IQR)) |\n",
    "                                          (customer_behaviors > (Q3 + 1.5 * IQR)))\n",
    "                                        .any(axis=1)]\n",
    "customer_behaviors.info()\n",
    "#outliers have been removed"
   ]
  },
  {
   "cell_type": "code",
   "execution_count": 22,
   "metadata": {
    "scrolled": true
   },
   "outputs": [
    {
     "data": {
      "image/png": "[encoded data removed]",
      "text/plain": [
       "<Figure size 432x288 with 1 Axes>"
      ]
     },
     "metadata": {
      "needs_background": "light"
     },
     "output_type": "display_data"
    },
    {
     "data": {
      "image/png": "[encoded data removed]",
      "text/plain": [
       "<Figure size 432x288 with 1 Axes>"
      ]
     },
     "metadata": {
      "needs_background": "light"
     },
     "output_type": "display_data"
    },
    {
     "data": {
      "image/png": "[encoded data removed]",
      "text/plain": [
       "<Figure size 432x288 with 1 Axes>"
      ]
     },
     "metadata": {
      "needs_background": "light"
     },
     "output_type": "display_data"
    },
    {
     "data": {
      "image/png": "[encoded data removed]",
      "text/plain": [
       "<Figure size 432x288 with 1 Axes>"
      ]
     },
     "metadata": {
      "needs_background": "light"
     },
     "output_type": "display_data"
    },
    {
     "data": {
      "text/plain": [
       "user_id            248.0000\n",
       "month                3.0000\n",
       "call_count          39.0000\n",
       "duration_total     287.5000\n",
       "message_count       38.0000\n",
       "mb_used           8206.1525\n",
       "dtype: float64"
      ]
     },
     "metadata": {},
     "output_type": "display_data"
    }
   ],
   "source": [
    "#DUPLICATE CODE\n",
    "#new boxplots\n",
    "customer_behaviors['call_count'].plot.box(by=None)\n",
    "plt.show()\n",
    "customer_behaviors['duration_total'].plot.box(by=None)\n",
    "plt.show()\n",
    "customer_behaviors['message_count'].plot.box(by=None)\n",
    "plt.show()\n",
    "customer_behaviors['mb_used'].plot.box(by=None)\n",
    "plt.show()\n",
    "\n",
    "Q1 = customer_behaviors.quantile(0.25)\n",
    "Q3 = customer_behaviors.quantile(0.75)\n",
    "IQR = Q3 - Q1\n",
    "\n",
    "display(IQR)\n",
    "#the data is now more readable and represented more accurately"
   ]
  },
  {
   "cell_type": "markdown",
   "metadata": {},
   "source": [
    "**Conclusion 3.3**\n",
    "\n",
    "1) The outliers for each graph are now grouped in a much tighter spectrum in each graph\n",
    "\n",
    "2) The distributions for each graph, especially mbs, is much more visible\n",
    "\n",
    "3) IQR has shrinked for each parameter: calls: 41 - 39, duration: 299.75 - 287.50, messages: 42 - 38, mbs: 8693.80 - 8206.15"
   ]
  },
  {
   "cell_type": "markdown",
   "metadata": {},
   "source": [
    "<div class=\"alert alert-success\" role=\"alert\">\n",
    "Reviewer's comment v. 3:\n",
    "    \n",
    "👍👍👍\n",
    "</div>"
   ]
  },
  {
   "cell_type": "markdown",
   "metadata": {},
   "source": [
    "# Step 4: Calculate Monthly Revenue"
   ]
  },
  {
   "cell_type": "code",
   "execution_count": 23,
   "metadata": {
    "scrolled": true
   },
   "outputs": [
    {
     "name": "stdout",
     "output_type": "stream",
     "text": [
      "<class 'pandas.core.frame.DataFrame'>\n",
      "Int64Index: 2077 entries, 0 to 2292\n",
      "Data columns (total 6 columns):\n",
      "user_id           2077 non-null int64\n",
      "month             2077 non-null int64\n",
      "call_count        2047 non-null float64\n",
      "duration_total    2047 non-null float64\n",
      "message_count     1621 non-null float64\n",
      "mb_used           2068 non-null float64\n",
      "dtypes: float64(4), int64(2)\n",
      "memory usage: 113.6 KB\n"
     ]
    },
    {
     "data": {
      "text/plain": [
       "None"
      ]
     },
     "metadata": {},
     "output_type": "display_data"
    },
    {
     "data": {
      "text/html": [
       "<div>\n",
       "<style scoped>\n",
       "    .dataframe tbody tr th:only-of-type {\n",
       "        vertical-align: middle;\n",
       "    }\n",
       "\n",
       "    .dataframe tbody tr th {\n",
       "        vertical-align: top;\n",
       "    }\n",
       "\n",
       "    .dataframe thead th {\n",
       "        text-align: right;\n",
       "    }\n",
       "</style>\n",
       "<table border=\"1\" class=\"dataframe\">\n",
       "  <thead>\n",
       "    <tr style=\"text-align: right;\">\n",
       "      <th></th>\n",
       "      <th>user_id</th>\n",
       "      <th>month</th>\n",
       "      <th>call_count</th>\n",
       "      <th>duration_total</th>\n",
       "      <th>message_count</th>\n",
       "      <th>mb_used</th>\n",
       "    </tr>\n",
       "  </thead>\n",
       "  <tbody>\n",
       "    <tr>\n",
       "      <td>0</td>\n",
       "      <td>1000</td>\n",
       "      <td>12</td>\n",
       "      <td>16.0</td>\n",
       "      <td>124.0</td>\n",
       "      <td>11.0</td>\n",
       "      <td>1901.47</td>\n",
       "    </tr>\n",
       "    <tr>\n",
       "      <td>1</td>\n",
       "      <td>1001</td>\n",
       "      <td>9</td>\n",
       "      <td>49.0</td>\n",
       "      <td>315.0</td>\n",
       "      <td>44.0</td>\n",
       "      <td>13314.82</td>\n",
       "    </tr>\n",
       "    <tr>\n",
       "      <td>2</td>\n",
       "      <td>1001</td>\n",
       "      <td>10</td>\n",
       "      <td>65.0</td>\n",
       "      <td>393.0</td>\n",
       "      <td>53.0</td>\n",
       "      <td>22330.49</td>\n",
       "    </tr>\n",
       "    <tr>\n",
       "      <td>3</td>\n",
       "      <td>1001</td>\n",
       "      <td>12</td>\n",
       "      <td>56.0</td>\n",
       "      <td>412.0</td>\n",
       "      <td>44.0</td>\n",
       "      <td>19369.18</td>\n",
       "    </tr>\n",
       "    <tr>\n",
       "      <td>4</td>\n",
       "      <td>1001</td>\n",
       "      <td>11</td>\n",
       "      <td>64.0</td>\n",
       "      <td>426.0</td>\n",
       "      <td>36.0</td>\n",
       "      <td>18504.30</td>\n",
       "    </tr>\n",
       "    <tr>\n",
       "      <td>5</td>\n",
       "      <td>1001</td>\n",
       "      <td>8</td>\n",
       "      <td>27.0</td>\n",
       "      <td>182.0</td>\n",
       "      <td>30.0</td>\n",
       "      <td>6919.15</td>\n",
       "    </tr>\n",
       "    <tr>\n",
       "      <td>6</td>\n",
       "      <td>1002</td>\n",
       "      <td>11</td>\n",
       "      <td>55.0</td>\n",
       "      <td>386.0</td>\n",
       "      <td>32.0</td>\n",
       "      <td>19345.08</td>\n",
       "    </tr>\n",
       "    <tr>\n",
       "      <td>7</td>\n",
       "      <td>1002</td>\n",
       "      <td>12</td>\n",
       "      <td>47.0</td>\n",
       "      <td>384.0</td>\n",
       "      <td>41.0</td>\n",
       "      <td>14396.24</td>\n",
       "    </tr>\n",
       "    <tr>\n",
       "      <td>8</td>\n",
       "      <td>1002</td>\n",
       "      <td>10</td>\n",
       "      <td>11.0</td>\n",
       "      <td>59.0</td>\n",
       "      <td>15.0</td>\n",
       "      <td>6552.01</td>\n",
       "    </tr>\n",
       "    <tr>\n",
       "      <td>10</td>\n",
       "      <td>1004</td>\n",
       "      <td>11</td>\n",
       "      <td>54.0</td>\n",
       "      <td>476.0</td>\n",
       "      <td>25.0</td>\n",
       "      <td>21850.78</td>\n",
       "    </tr>\n",
       "    <tr>\n",
       "      <td>11</td>\n",
       "      <td>1004</td>\n",
       "      <td>8</td>\n",
       "      <td>49.0</td>\n",
       "      <td>354.0</td>\n",
       "      <td>25.0</td>\n",
       "      <td>27981.74</td>\n",
       "    </tr>\n",
       "    <tr>\n",
       "      <td>12</td>\n",
       "      <td>1004</td>\n",
       "      <td>7</td>\n",
       "      <td>49.0</td>\n",
       "      <td>381.0</td>\n",
       "      <td>26.0</td>\n",
       "      <td>24516.62</td>\n",
       "    </tr>\n",
       "    <tr>\n",
       "      <td>13</td>\n",
       "      <td>1004</td>\n",
       "      <td>6</td>\n",
       "      <td>44.0</td>\n",
       "      <td>275.0</td>\n",
       "      <td>18.0</td>\n",
       "      <td>20672.82</td>\n",
       "    </tr>\n",
       "    <tr>\n",
       "      <td>14</td>\n",
       "      <td>1004</td>\n",
       "      <td>9</td>\n",
       "      <td>42.0</td>\n",
       "      <td>301.0</td>\n",
       "      <td>21.0</td>\n",
       "      <td>18852.72</td>\n",
       "    </tr>\n",
       "    <tr>\n",
       "      <td>15</td>\n",
       "      <td>1004</td>\n",
       "      <td>12</td>\n",
       "      <td>50.0</td>\n",
       "      <td>427.0</td>\n",
       "      <td>31.0</td>\n",
       "      <td>21389.29</td>\n",
       "    </tr>\n",
       "  </tbody>\n",
       "</table>\n",
       "</div>"
      ],
      "text/plain": [
       "    user_id  month  call_count  duration_total  message_count   mb_used\n",
       "0      1000     12        16.0           124.0           11.0   1901.47\n",
       "1      1001      9        49.0           315.0           44.0  13314.82\n",
       "2      1001     10        65.0           393.0           53.0  22330.49\n",
       "3      1001     12        56.0           412.0           44.0  19369.18\n",
       "4      1001     11        64.0           426.0           36.0  18504.30\n",
       "5      1001      8        27.0           182.0           30.0   6919.15\n",
       "6      1002     11        55.0           386.0           32.0  19345.08\n",
       "7      1002     12        47.0           384.0           41.0  14396.24\n",
       "8      1002     10        11.0            59.0           15.0   6552.01\n",
       "10     1004     11        54.0           476.0           25.0  21850.78\n",
       "11     1004      8        49.0           354.0           25.0  27981.74\n",
       "12     1004      7        49.0           381.0           26.0  24516.62\n",
       "13     1004      6        44.0           275.0           18.0  20672.82\n",
       "14     1004      9        42.0           301.0           21.0  18852.72\n",
       "15     1004     12        50.0           427.0           31.0  21389.29"
      ]
     },
     "metadata": {},
     "output_type": "display_data"
    }
   ],
   "source": [
    "display(customer_behaviors.info(), customer_behaviors.head(15))"
   ]
  },
  {
   "cell_type": "code",
   "execution_count": 24,
   "metadata": {},
   "outputs": [
    {
     "data": {
      "text/html": [
       "<div>\n",
       "<style scoped>\n",
       "    .dataframe tbody tr th:only-of-type {\n",
       "        vertical-align: middle;\n",
       "    }\n",
       "\n",
       "    .dataframe tbody tr th {\n",
       "        vertical-align: top;\n",
       "    }\n",
       "\n",
       "    .dataframe thead th {\n",
       "        text-align: right;\n",
       "    }\n",
       "</style>\n",
       "<table border=\"1\" class=\"dataframe\">\n",
       "  <thead>\n",
       "    <tr style=\"text-align: right;\">\n",
       "      <th></th>\n",
       "      <th>user_id</th>\n",
       "      <th>month</th>\n",
       "      <th>call_count</th>\n",
       "      <th>duration_total</th>\n",
       "      <th>message_count</th>\n",
       "      <th>mb_used</th>\n",
       "      <th>city</th>\n",
       "      <th>plan</th>\n",
       "    </tr>\n",
       "  </thead>\n",
       "  <tbody>\n",
       "    <tr>\n",
       "      <td>0</td>\n",
       "      <td>1000</td>\n",
       "      <td>12.0</td>\n",
       "      <td>16.0</td>\n",
       "      <td>124.0</td>\n",
       "      <td>11.0</td>\n",
       "      <td>1901.47</td>\n",
       "      <td>Atlanta-Sandy Springs-Roswell, GA MSA</td>\n",
       "      <td>ultimate</td>\n",
       "    </tr>\n",
       "    <tr>\n",
       "      <td>1</td>\n",
       "      <td>1001</td>\n",
       "      <td>9.0</td>\n",
       "      <td>49.0</td>\n",
       "      <td>315.0</td>\n",
       "      <td>44.0</td>\n",
       "      <td>13314.82</td>\n",
       "      <td>Seattle-Tacoma-Bellevue, WA MSA</td>\n",
       "      <td>surf</td>\n",
       "    </tr>\n",
       "    <tr>\n",
       "      <td>2</td>\n",
       "      <td>1001</td>\n",
       "      <td>10.0</td>\n",
       "      <td>65.0</td>\n",
       "      <td>393.0</td>\n",
       "      <td>53.0</td>\n",
       "      <td>22330.49</td>\n",
       "      <td>Seattle-Tacoma-Bellevue, WA MSA</td>\n",
       "      <td>surf</td>\n",
       "    </tr>\n",
       "    <tr>\n",
       "      <td>3</td>\n",
       "      <td>1001</td>\n",
       "      <td>12.0</td>\n",
       "      <td>56.0</td>\n",
       "      <td>412.0</td>\n",
       "      <td>44.0</td>\n",
       "      <td>19369.18</td>\n",
       "      <td>Seattle-Tacoma-Bellevue, WA MSA</td>\n",
       "      <td>surf</td>\n",
       "    </tr>\n",
       "    <tr>\n",
       "      <td>4</td>\n",
       "      <td>1001</td>\n",
       "      <td>11.0</td>\n",
       "      <td>64.0</td>\n",
       "      <td>426.0</td>\n",
       "      <td>36.0</td>\n",
       "      <td>18504.30</td>\n",
       "      <td>Seattle-Tacoma-Bellevue, WA MSA</td>\n",
       "      <td>surf</td>\n",
       "    </tr>\n",
       "    <tr>\n",
       "      <td>5</td>\n",
       "      <td>1001</td>\n",
       "      <td>8.0</td>\n",
       "      <td>27.0</td>\n",
       "      <td>182.0</td>\n",
       "      <td>30.0</td>\n",
       "      <td>6919.15</td>\n",
       "      <td>Seattle-Tacoma-Bellevue, WA MSA</td>\n",
       "      <td>surf</td>\n",
       "    </tr>\n",
       "    <tr>\n",
       "      <td>6</td>\n",
       "      <td>1002</td>\n",
       "      <td>11.0</td>\n",
       "      <td>55.0</td>\n",
       "      <td>386.0</td>\n",
       "      <td>32.0</td>\n",
       "      <td>19345.08</td>\n",
       "      <td>Las Vegas-Henderson-Paradise, NV MSA</td>\n",
       "      <td>surf</td>\n",
       "    </tr>\n",
       "    <tr>\n",
       "      <td>7</td>\n",
       "      <td>1002</td>\n",
       "      <td>12.0</td>\n",
       "      <td>47.0</td>\n",
       "      <td>384.0</td>\n",
       "      <td>41.0</td>\n",
       "      <td>14396.24</td>\n",
       "      <td>Las Vegas-Henderson-Paradise, NV MSA</td>\n",
       "      <td>surf</td>\n",
       "    </tr>\n",
       "    <tr>\n",
       "      <td>8</td>\n",
       "      <td>1002</td>\n",
       "      <td>10.0</td>\n",
       "      <td>11.0</td>\n",
       "      <td>59.0</td>\n",
       "      <td>15.0</td>\n",
       "      <td>6552.01</td>\n",
       "      <td>Las Vegas-Henderson-Paradise, NV MSA</td>\n",
       "      <td>surf</td>\n",
       "    </tr>\n",
       "    <tr>\n",
       "      <td>9</td>\n",
       "      <td>1004</td>\n",
       "      <td>11.0</td>\n",
       "      <td>54.0</td>\n",
       "      <td>476.0</td>\n",
       "      <td>25.0</td>\n",
       "      <td>21850.78</td>\n",
       "      <td>Seattle-Tacoma-Bellevue, WA MSA</td>\n",
       "      <td>surf</td>\n",
       "    </tr>\n",
       "  </tbody>\n",
       "</table>\n",
       "</div>"
      ],
      "text/plain": [
       "   user_id  month  call_count  duration_total  message_count   mb_used  \\\n",
       "0     1000   12.0        16.0           124.0           11.0   1901.47   \n",
       "1     1001    9.0        49.0           315.0           44.0  13314.82   \n",
       "2     1001   10.0        65.0           393.0           53.0  22330.49   \n",
       "3     1001   12.0        56.0           412.0           44.0  19369.18   \n",
       "4     1001   11.0        64.0           426.0           36.0  18504.30   \n",
       "5     1001    8.0        27.0           182.0           30.0   6919.15   \n",
       "6     1002   11.0        55.0           386.0           32.0  19345.08   \n",
       "7     1002   12.0        47.0           384.0           41.0  14396.24   \n",
       "8     1002   10.0        11.0            59.0           15.0   6552.01   \n",
       "9     1004   11.0        54.0           476.0           25.0  21850.78   \n",
       "\n",
       "                                    city      plan  \n",
       "0  Atlanta-Sandy Springs-Roswell, GA MSA  ultimate  \n",
       "1        Seattle-Tacoma-Bellevue, WA MSA      surf  \n",
       "2        Seattle-Tacoma-Bellevue, WA MSA      surf  \n",
       "3        Seattle-Tacoma-Bellevue, WA MSA      surf  \n",
       "4        Seattle-Tacoma-Bellevue, WA MSA      surf  \n",
       "5        Seattle-Tacoma-Bellevue, WA MSA      surf  \n",
       "6   Las Vegas-Henderson-Paradise, NV MSA      surf  \n",
       "7   Las Vegas-Henderson-Paradise, NV MSA      surf  \n",
       "8   Las Vegas-Henderson-Paradise, NV MSA      surf  \n",
       "9        Seattle-Tacoma-Bellevue, WA MSA      surf  "
      ]
     },
     "metadata": {},
     "output_type": "display_data"
    },
    {
     "data": {
      "text/plain": [
       "surf        1448\n",
       "ultimate     643\n",
       "Name: plan, dtype: int64"
      ]
     },
     "metadata": {},
     "output_type": "display_data"
    }
   ],
   "source": [
    "#merge users with revenue\n",
    "revenue = customer_behaviors.merge(users, on='user_id', how='outer')\n",
    "display(revenue.head(10), revenue['plan'].value_counts())"
   ]
  },
  {
   "cell_type": "code",
   "execution_count": 25,
   "metadata": {
    "scrolled": true
   },
   "outputs": [
    {
     "data": {
      "text/html": [
       "<div>\n",
       "<style scoped>\n",
       "    .dataframe tbody tr th:only-of-type {\n",
       "        vertical-align: middle;\n",
       "    }\n",
       "\n",
       "    .dataframe tbody tr th {\n",
       "        vertical-align: top;\n",
       "    }\n",
       "\n",
       "    .dataframe thead th {\n",
       "        text-align: right;\n",
       "    }\n",
       "</style>\n",
       "<table border=\"1\" class=\"dataframe\">\n",
       "  <thead>\n",
       "    <tr style=\"text-align: right;\">\n",
       "      <th></th>\n",
       "      <th>user_id</th>\n",
       "      <th>month</th>\n",
       "      <th>call_count</th>\n",
       "      <th>duration_total</th>\n",
       "      <th>message_count</th>\n",
       "      <th>mb_used</th>\n",
       "      <th>city</th>\n",
       "      <th>plan</th>\n",
       "      <th>messages_included</th>\n",
       "      <th>mb_per_month_included</th>\n",
       "      <th>minutes_included</th>\n",
       "      <th>usd_monthly_pay</th>\n",
       "      <th>usd_per_gb</th>\n",
       "      <th>usd_per_message</th>\n",
       "      <th>usd_per_minute</th>\n",
       "    </tr>\n",
       "  </thead>\n",
       "  <tbody>\n",
       "    <tr>\n",
       "      <td>0</td>\n",
       "      <td>1000</td>\n",
       "      <td>12.0</td>\n",
       "      <td>16.0</td>\n",
       "      <td>124.0</td>\n",
       "      <td>11.0</td>\n",
       "      <td>1901.47</td>\n",
       "      <td>Atlanta-Sandy Springs-Roswell, GA MSA</td>\n",
       "      <td>ultimate</td>\n",
       "      <td>1000</td>\n",
       "      <td>30720</td>\n",
       "      <td>3000</td>\n",
       "      <td>70</td>\n",
       "      <td>7</td>\n",
       "      <td>0.01</td>\n",
       "      <td>0.01</td>\n",
       "    </tr>\n",
       "    <tr>\n",
       "      <td>645</td>\n",
       "      <td>1001</td>\n",
       "      <td>12.0</td>\n",
       "      <td>56.0</td>\n",
       "      <td>412.0</td>\n",
       "      <td>44.0</td>\n",
       "      <td>19369.18</td>\n",
       "      <td>Seattle-Tacoma-Bellevue, WA MSA</td>\n",
       "      <td>surf</td>\n",
       "      <td>50</td>\n",
       "      <td>15360</td>\n",
       "      <td>500</td>\n",
       "      <td>20</td>\n",
       "      <td>10</td>\n",
       "      <td>0.03</td>\n",
       "      <td>0.03</td>\n",
       "    </tr>\n",
       "    <tr>\n",
       "      <td>646</td>\n",
       "      <td>1001</td>\n",
       "      <td>11.0</td>\n",
       "      <td>64.0</td>\n",
       "      <td>426.0</td>\n",
       "      <td>36.0</td>\n",
       "      <td>18504.30</td>\n",
       "      <td>Seattle-Tacoma-Bellevue, WA MSA</td>\n",
       "      <td>surf</td>\n",
       "      <td>50</td>\n",
       "      <td>15360</td>\n",
       "      <td>500</td>\n",
       "      <td>20</td>\n",
       "      <td>10</td>\n",
       "      <td>0.03</td>\n",
       "      <td>0.03</td>\n",
       "    </tr>\n",
       "    <tr>\n",
       "      <td>647</td>\n",
       "      <td>1001</td>\n",
       "      <td>8.0</td>\n",
       "      <td>27.0</td>\n",
       "      <td>182.0</td>\n",
       "      <td>30.0</td>\n",
       "      <td>6919.15</td>\n",
       "      <td>Seattle-Tacoma-Bellevue, WA MSA</td>\n",
       "      <td>surf</td>\n",
       "      <td>50</td>\n",
       "      <td>15360</td>\n",
       "      <td>500</td>\n",
       "      <td>20</td>\n",
       "      <td>10</td>\n",
       "      <td>0.03</td>\n",
       "      <td>0.03</td>\n",
       "    </tr>\n",
       "    <tr>\n",
       "      <td>644</td>\n",
       "      <td>1001</td>\n",
       "      <td>10.0</td>\n",
       "      <td>65.0</td>\n",
       "      <td>393.0</td>\n",
       "      <td>53.0</td>\n",
       "      <td>22330.49</td>\n",
       "      <td>Seattle-Tacoma-Bellevue, WA MSA</td>\n",
       "      <td>surf</td>\n",
       "      <td>50</td>\n",
       "      <td>15360</td>\n",
       "      <td>500</td>\n",
       "      <td>20</td>\n",
       "      <td>10</td>\n",
       "      <td>0.03</td>\n",
       "      <td>0.03</td>\n",
       "    </tr>\n",
       "    <tr>\n",
       "      <td>643</td>\n",
       "      <td>1001</td>\n",
       "      <td>9.0</td>\n",
       "      <td>49.0</td>\n",
       "      <td>315.0</td>\n",
       "      <td>44.0</td>\n",
       "      <td>13314.82</td>\n",
       "      <td>Seattle-Tacoma-Bellevue, WA MSA</td>\n",
       "      <td>surf</td>\n",
       "      <td>50</td>\n",
       "      <td>15360</td>\n",
       "      <td>500</td>\n",
       "      <td>20</td>\n",
       "      <td>10</td>\n",
       "      <td>0.03</td>\n",
       "      <td>0.03</td>\n",
       "    </tr>\n",
       "    <tr>\n",
       "      <td>650</td>\n",
       "      <td>1002</td>\n",
       "      <td>10.0</td>\n",
       "      <td>11.0</td>\n",
       "      <td>59.0</td>\n",
       "      <td>15.0</td>\n",
       "      <td>6552.01</td>\n",
       "      <td>Las Vegas-Henderson-Paradise, NV MSA</td>\n",
       "      <td>surf</td>\n",
       "      <td>50</td>\n",
       "      <td>15360</td>\n",
       "      <td>500</td>\n",
       "      <td>20</td>\n",
       "      <td>10</td>\n",
       "      <td>0.03</td>\n",
       "      <td>0.03</td>\n",
       "    </tr>\n",
       "    <tr>\n",
       "      <td>649</td>\n",
       "      <td>1002</td>\n",
       "      <td>12.0</td>\n",
       "      <td>47.0</td>\n",
       "      <td>384.0</td>\n",
       "      <td>41.0</td>\n",
       "      <td>14396.24</td>\n",
       "      <td>Las Vegas-Henderson-Paradise, NV MSA</td>\n",
       "      <td>surf</td>\n",
       "      <td>50</td>\n",
       "      <td>15360</td>\n",
       "      <td>500</td>\n",
       "      <td>20</td>\n",
       "      <td>10</td>\n",
       "      <td>0.03</td>\n",
       "      <td>0.03</td>\n",
       "    </tr>\n",
       "    <tr>\n",
       "      <td>648</td>\n",
       "      <td>1002</td>\n",
       "      <td>11.0</td>\n",
       "      <td>55.0</td>\n",
       "      <td>386.0</td>\n",
       "      <td>32.0</td>\n",
       "      <td>19345.08</td>\n",
       "      <td>Las Vegas-Henderson-Paradise, NV MSA</td>\n",
       "      <td>surf</td>\n",
       "      <td>50</td>\n",
       "      <td>15360</td>\n",
       "      <td>500</td>\n",
       "      <td>20</td>\n",
       "      <td>10</td>\n",
       "      <td>0.03</td>\n",
       "      <td>0.03</td>\n",
       "    </tr>\n",
       "    <tr>\n",
       "      <td>2084</td>\n",
       "      <td>1003</td>\n",
       "      <td>NaN</td>\n",
       "      <td>NaN</td>\n",
       "      <td>NaN</td>\n",
       "      <td>NaN</td>\n",
       "      <td>NaN</td>\n",
       "      <td>Tulsa, OK MSA</td>\n",
       "      <td>surf</td>\n",
       "      <td>50</td>\n",
       "      <td>15360</td>\n",
       "      <td>500</td>\n",
       "      <td>20</td>\n",
       "      <td>10</td>\n",
       "      <td>0.03</td>\n",
       "      <td>0.03</td>\n",
       "    </tr>\n",
       "  </tbody>\n",
       "</table>\n",
       "</div>"
      ],
      "text/plain": [
       "      user_id  month  call_count  duration_total  message_count   mb_used  \\\n",
       "0        1000   12.0        16.0           124.0           11.0   1901.47   \n",
       "645      1001   12.0        56.0           412.0           44.0  19369.18   \n",
       "646      1001   11.0        64.0           426.0           36.0  18504.30   \n",
       "647      1001    8.0        27.0           182.0           30.0   6919.15   \n",
       "644      1001   10.0        65.0           393.0           53.0  22330.49   \n",
       "643      1001    9.0        49.0           315.0           44.0  13314.82   \n",
       "650      1002   10.0        11.0            59.0           15.0   6552.01   \n",
       "649      1002   12.0        47.0           384.0           41.0  14396.24   \n",
       "648      1002   11.0        55.0           386.0           32.0  19345.08   \n",
       "2084     1003    NaN         NaN             NaN            NaN       NaN   \n",
       "\n",
       "                                       city      plan  messages_included  \\\n",
       "0     Atlanta-Sandy Springs-Roswell, GA MSA  ultimate               1000   \n",
       "645         Seattle-Tacoma-Bellevue, WA MSA      surf                 50   \n",
       "646         Seattle-Tacoma-Bellevue, WA MSA      surf                 50   \n",
       "647         Seattle-Tacoma-Bellevue, WA MSA      surf                 50   \n",
       "644         Seattle-Tacoma-Bellevue, WA MSA      surf                 50   \n",
       "643         Seattle-Tacoma-Bellevue, WA MSA      surf                 50   \n",
       "650    Las Vegas-Henderson-Paradise, NV MSA      surf                 50   \n",
       "649    Las Vegas-Henderson-Paradise, NV MSA      surf                 50   \n",
       "648    Las Vegas-Henderson-Paradise, NV MSA      surf                 50   \n",
       "2084                          Tulsa, OK MSA      surf                 50   \n",
       "\n",
       "      mb_per_month_included  minutes_included  usd_monthly_pay  usd_per_gb  \\\n",
       "0                     30720              3000               70           7   \n",
       "645                   15360               500               20          10   \n",
       "646                   15360               500               20          10   \n",
       "647                   15360               500               20          10   \n",
       "644                   15360               500               20          10   \n",
       "643                   15360               500               20          10   \n",
       "650                   15360               500               20          10   \n",
       "649                   15360               500               20          10   \n",
       "648                   15360               500               20          10   \n",
       "2084                  15360               500               20          10   \n",
       "\n",
       "      usd_per_message  usd_per_minute  \n",
       "0                0.01            0.01  \n",
       "645              0.03            0.03  \n",
       "646              0.03            0.03  \n",
       "647              0.03            0.03  \n",
       "644              0.03            0.03  \n",
       "643              0.03            0.03  \n",
       "650              0.03            0.03  \n",
       "649              0.03            0.03  \n",
       "648              0.03            0.03  \n",
       "2084             0.03            0.03  "
      ]
     },
     "metadata": {},
     "output_type": "display_data"
    },
    {
     "data": {
      "text/plain": [
       "surf        1448\n",
       "ultimate     643\n",
       "Name: plan, dtype: int64"
      ]
     },
     "metadata": {},
     "output_type": "display_data"
    }
   ],
   "source": [
    "#merge plan with revenue\n",
    "plans = plans.rename(columns={'plan_name': 'plan'})\n",
    "revenue = revenue.merge(plans, on='plan', how='outer')\n",
    "revenue = revenue.sort_values(by='user_id')\n",
    "display(revenue.head(10), revenue['plan'].value_counts())\n",
    "#all tables succseffully merged"
   ]
  },
  {
   "cell_type": "code",
   "execution_count": 26,
   "metadata": {
    "scrolled": true
   },
   "outputs": [
    {
     "data": {
      "text/html": [
       "<div>\n",
       "<style scoped>\n",
       "    .dataframe tbody tr th:only-of-type {\n",
       "        vertical-align: middle;\n",
       "    }\n",
       "\n",
       "    .dataframe tbody tr th {\n",
       "        vertical-align: top;\n",
       "    }\n",
       "\n",
       "    .dataframe thead th {\n",
       "        text-align: right;\n",
       "    }\n",
       "</style>\n",
       "<table border=\"1\" class=\"dataframe\">\n",
       "  <thead>\n",
       "    <tr style=\"text-align: right;\">\n",
       "      <th></th>\n",
       "      <th>user_id</th>\n",
       "      <th>month</th>\n",
       "      <th>call_count</th>\n",
       "      <th>duration_total</th>\n",
       "      <th>message_count</th>\n",
       "      <th>mb_used</th>\n",
       "      <th>city</th>\n",
       "      <th>plan</th>\n",
       "      <th>messages_included</th>\n",
       "      <th>mb_per_month_included</th>\n",
       "      <th>minutes_included</th>\n",
       "      <th>usd_monthly_pay</th>\n",
       "      <th>usd_per_gb</th>\n",
       "      <th>usd_per_message</th>\n",
       "      <th>usd_per_minute</th>\n",
       "      <th>minutes_topay</th>\n",
       "    </tr>\n",
       "  </thead>\n",
       "  <tbody>\n",
       "    <tr>\n",
       "      <td>0</td>\n",
       "      <td>1000</td>\n",
       "      <td>12.0</td>\n",
       "      <td>16.0</td>\n",
       "      <td>124.0</td>\n",
       "      <td>11.0</td>\n",
       "      <td>1901.47</td>\n",
       "      <td>Atlanta-Sandy Springs-Roswell, GA MSA</td>\n",
       "      <td>ultimate</td>\n",
       "      <td>1000</td>\n",
       "      <td>30720</td>\n",
       "      <td>3000</td>\n",
       "      <td>70</td>\n",
       "      <td>7</td>\n",
       "      <td>0.01</td>\n",
       "      <td>0.01</td>\n",
       "      <td>0.0</td>\n",
       "    </tr>\n",
       "    <tr>\n",
       "      <td>645</td>\n",
       "      <td>1001</td>\n",
       "      <td>12.0</td>\n",
       "      <td>56.0</td>\n",
       "      <td>412.0</td>\n",
       "      <td>44.0</td>\n",
       "      <td>19369.18</td>\n",
       "      <td>Seattle-Tacoma-Bellevue, WA MSA</td>\n",
       "      <td>surf</td>\n",
       "      <td>50</td>\n",
       "      <td>15360</td>\n",
       "      <td>500</td>\n",
       "      <td>20</td>\n",
       "      <td>10</td>\n",
       "      <td>0.03</td>\n",
       "      <td>0.03</td>\n",
       "      <td>0.0</td>\n",
       "    </tr>\n",
       "    <tr>\n",
       "      <td>646</td>\n",
       "      <td>1001</td>\n",
       "      <td>11.0</td>\n",
       "      <td>64.0</td>\n",
       "      <td>426.0</td>\n",
       "      <td>36.0</td>\n",
       "      <td>18504.30</td>\n",
       "      <td>Seattle-Tacoma-Bellevue, WA MSA</td>\n",
       "      <td>surf</td>\n",
       "      <td>50</td>\n",
       "      <td>15360</td>\n",
       "      <td>500</td>\n",
       "      <td>20</td>\n",
       "      <td>10</td>\n",
       "      <td>0.03</td>\n",
       "      <td>0.03</td>\n",
       "      <td>0.0</td>\n",
       "    </tr>\n",
       "    <tr>\n",
       "      <td>647</td>\n",
       "      <td>1001</td>\n",
       "      <td>8.0</td>\n",
       "      <td>27.0</td>\n",
       "      <td>182.0</td>\n",
       "      <td>30.0</td>\n",
       "      <td>6919.15</td>\n",
       "      <td>Seattle-Tacoma-Bellevue, WA MSA</td>\n",
       "      <td>surf</td>\n",
       "      <td>50</td>\n",
       "      <td>15360</td>\n",
       "      <td>500</td>\n",
       "      <td>20</td>\n",
       "      <td>10</td>\n",
       "      <td>0.03</td>\n",
       "      <td>0.03</td>\n",
       "      <td>0.0</td>\n",
       "    </tr>\n",
       "    <tr>\n",
       "      <td>644</td>\n",
       "      <td>1001</td>\n",
       "      <td>10.0</td>\n",
       "      <td>65.0</td>\n",
       "      <td>393.0</td>\n",
       "      <td>53.0</td>\n",
       "      <td>22330.49</td>\n",
       "      <td>Seattle-Tacoma-Bellevue, WA MSA</td>\n",
       "      <td>surf</td>\n",
       "      <td>50</td>\n",
       "      <td>15360</td>\n",
       "      <td>500</td>\n",
       "      <td>20</td>\n",
       "      <td>10</td>\n",
       "      <td>0.03</td>\n",
       "      <td>0.03</td>\n",
       "      <td>0.0</td>\n",
       "    </tr>\n",
       "    <tr>\n",
       "      <td>643</td>\n",
       "      <td>1001</td>\n",
       "      <td>9.0</td>\n",
       "      <td>49.0</td>\n",
       "      <td>315.0</td>\n",
       "      <td>44.0</td>\n",
       "      <td>13314.82</td>\n",
       "      <td>Seattle-Tacoma-Bellevue, WA MSA</td>\n",
       "      <td>surf</td>\n",
       "      <td>50</td>\n",
       "      <td>15360</td>\n",
       "      <td>500</td>\n",
       "      <td>20</td>\n",
       "      <td>10</td>\n",
       "      <td>0.03</td>\n",
       "      <td>0.03</td>\n",
       "      <td>0.0</td>\n",
       "    </tr>\n",
       "    <tr>\n",
       "      <td>650</td>\n",
       "      <td>1002</td>\n",
       "      <td>10.0</td>\n",
       "      <td>11.0</td>\n",
       "      <td>59.0</td>\n",
       "      <td>15.0</td>\n",
       "      <td>6552.01</td>\n",
       "      <td>Las Vegas-Henderson-Paradise, NV MSA</td>\n",
       "      <td>surf</td>\n",
       "      <td>50</td>\n",
       "      <td>15360</td>\n",
       "      <td>500</td>\n",
       "      <td>20</td>\n",
       "      <td>10</td>\n",
       "      <td>0.03</td>\n",
       "      <td>0.03</td>\n",
       "      <td>0.0</td>\n",
       "    </tr>\n",
       "    <tr>\n",
       "      <td>649</td>\n",
       "      <td>1002</td>\n",
       "      <td>12.0</td>\n",
       "      <td>47.0</td>\n",
       "      <td>384.0</td>\n",
       "      <td>41.0</td>\n",
       "      <td>14396.24</td>\n",
       "      <td>Las Vegas-Henderson-Paradise, NV MSA</td>\n",
       "      <td>surf</td>\n",
       "      <td>50</td>\n",
       "      <td>15360</td>\n",
       "      <td>500</td>\n",
       "      <td>20</td>\n",
       "      <td>10</td>\n",
       "      <td>0.03</td>\n",
       "      <td>0.03</td>\n",
       "      <td>0.0</td>\n",
       "    </tr>\n",
       "    <tr>\n",
       "      <td>648</td>\n",
       "      <td>1002</td>\n",
       "      <td>11.0</td>\n",
       "      <td>55.0</td>\n",
       "      <td>386.0</td>\n",
       "      <td>32.0</td>\n",
       "      <td>19345.08</td>\n",
       "      <td>Las Vegas-Henderson-Paradise, NV MSA</td>\n",
       "      <td>surf</td>\n",
       "      <td>50</td>\n",
       "      <td>15360</td>\n",
       "      <td>500</td>\n",
       "      <td>20</td>\n",
       "      <td>10</td>\n",
       "      <td>0.03</td>\n",
       "      <td>0.03</td>\n",
       "      <td>0.0</td>\n",
       "    </tr>\n",
       "    <tr>\n",
       "      <td>2084</td>\n",
       "      <td>1003</td>\n",
       "      <td>NaN</td>\n",
       "      <td>NaN</td>\n",
       "      <td>NaN</td>\n",
       "      <td>NaN</td>\n",
       "      <td>NaN</td>\n",
       "      <td>Tulsa, OK MSA</td>\n",
       "      <td>surf</td>\n",
       "      <td>50</td>\n",
       "      <td>15360</td>\n",
       "      <td>500</td>\n",
       "      <td>20</td>\n",
       "      <td>10</td>\n",
       "      <td>0.03</td>\n",
       "      <td>0.03</td>\n",
       "      <td>0.0</td>\n",
       "    </tr>\n",
       "    <tr>\n",
       "      <td>652</td>\n",
       "      <td>1004</td>\n",
       "      <td>8.0</td>\n",
       "      <td>49.0</td>\n",
       "      <td>354.0</td>\n",
       "      <td>25.0</td>\n",
       "      <td>27981.74</td>\n",
       "      <td>Seattle-Tacoma-Bellevue, WA MSA</td>\n",
       "      <td>surf</td>\n",
       "      <td>50</td>\n",
       "      <td>15360</td>\n",
       "      <td>500</td>\n",
       "      <td>20</td>\n",
       "      <td>10</td>\n",
       "      <td>0.03</td>\n",
       "      <td>0.03</td>\n",
       "      <td>0.0</td>\n",
       "    </tr>\n",
       "    <tr>\n",
       "      <td>651</td>\n",
       "      <td>1004</td>\n",
       "      <td>11.0</td>\n",
       "      <td>54.0</td>\n",
       "      <td>476.0</td>\n",
       "      <td>25.0</td>\n",
       "      <td>21850.78</td>\n",
       "      <td>Seattle-Tacoma-Bellevue, WA MSA</td>\n",
       "      <td>surf</td>\n",
       "      <td>50</td>\n",
       "      <td>15360</td>\n",
       "      <td>500</td>\n",
       "      <td>20</td>\n",
       "      <td>10</td>\n",
       "      <td>0.03</td>\n",
       "      <td>0.03</td>\n",
       "      <td>0.0</td>\n",
       "    </tr>\n",
       "    <tr>\n",
       "      <td>655</td>\n",
       "      <td>1004</td>\n",
       "      <td>9.0</td>\n",
       "      <td>42.0</td>\n",
       "      <td>301.0</td>\n",
       "      <td>21.0</td>\n",
       "      <td>18852.72</td>\n",
       "      <td>Seattle-Tacoma-Bellevue, WA MSA</td>\n",
       "      <td>surf</td>\n",
       "      <td>50</td>\n",
       "      <td>15360</td>\n",
       "      <td>500</td>\n",
       "      <td>20</td>\n",
       "      <td>10</td>\n",
       "      <td>0.03</td>\n",
       "      <td>0.03</td>\n",
       "      <td>0.0</td>\n",
       "    </tr>\n",
       "    <tr>\n",
       "      <td>653</td>\n",
       "      <td>1004</td>\n",
       "      <td>7.0</td>\n",
       "      <td>49.0</td>\n",
       "      <td>381.0</td>\n",
       "      <td>26.0</td>\n",
       "      <td>24516.62</td>\n",
       "      <td>Seattle-Tacoma-Bellevue, WA MSA</td>\n",
       "      <td>surf</td>\n",
       "      <td>50</td>\n",
       "      <td>15360</td>\n",
       "      <td>500</td>\n",
       "      <td>20</td>\n",
       "      <td>10</td>\n",
       "      <td>0.03</td>\n",
       "      <td>0.03</td>\n",
       "      <td>0.0</td>\n",
       "    </tr>\n",
       "    <tr>\n",
       "      <td>656</td>\n",
       "      <td>1004</td>\n",
       "      <td>12.0</td>\n",
       "      <td>50.0</td>\n",
       "      <td>427.0</td>\n",
       "      <td>31.0</td>\n",
       "      <td>21389.29</td>\n",
       "      <td>Seattle-Tacoma-Bellevue, WA MSA</td>\n",
       "      <td>surf</td>\n",
       "      <td>50</td>\n",
       "      <td>15360</td>\n",
       "      <td>500</td>\n",
       "      <td>20</td>\n",
       "      <td>10</td>\n",
       "      <td>0.03</td>\n",
       "      <td>0.03</td>\n",
       "      <td>0.0</td>\n",
       "    </tr>\n",
       "    <tr>\n",
       "      <td>657</td>\n",
       "      <td>1004</td>\n",
       "      <td>10.0</td>\n",
       "      <td>61.0</td>\n",
       "      <td>365.0</td>\n",
       "      <td>24.0</td>\n",
       "      <td>14541.63</td>\n",
       "      <td>Seattle-Tacoma-Bellevue, WA MSA</td>\n",
       "      <td>surf</td>\n",
       "      <td>50</td>\n",
       "      <td>15360</td>\n",
       "      <td>500</td>\n",
       "      <td>20</td>\n",
       "      <td>10</td>\n",
       "      <td>0.03</td>\n",
       "      <td>0.03</td>\n",
       "      <td>0.0</td>\n",
       "    </tr>\n",
       "    <tr>\n",
       "      <td>658</td>\n",
       "      <td>1004</td>\n",
       "      <td>5.0</td>\n",
       "      <td>21.0</td>\n",
       "      <td>193.0</td>\n",
       "      <td>7.0</td>\n",
       "      <td>6547.21</td>\n",
       "      <td>Seattle-Tacoma-Bellevue, WA MSA</td>\n",
       "      <td>surf</td>\n",
       "      <td>50</td>\n",
       "      <td>15360</td>\n",
       "      <td>500</td>\n",
       "      <td>20</td>\n",
       "      <td>10</td>\n",
       "      <td>0.03</td>\n",
       "      <td>0.03</td>\n",
       "      <td>0.0</td>\n",
       "    </tr>\n",
       "    <tr>\n",
       "      <td>654</td>\n",
       "      <td>1004</td>\n",
       "      <td>6.0</td>\n",
       "      <td>44.0</td>\n",
       "      <td>275.0</td>\n",
       "      <td>18.0</td>\n",
       "      <td>20672.82</td>\n",
       "      <td>Seattle-Tacoma-Bellevue, WA MSA</td>\n",
       "      <td>surf</td>\n",
       "      <td>50</td>\n",
       "      <td>15360</td>\n",
       "      <td>500</td>\n",
       "      <td>20</td>\n",
       "      <td>10</td>\n",
       "      <td>0.03</td>\n",
       "      <td>0.03</td>\n",
       "      <td>0.0</td>\n",
       "    </tr>\n",
       "    <tr>\n",
       "      <td>659</td>\n",
       "      <td>1005</td>\n",
       "      <td>12.0</td>\n",
       "      <td>59.0</td>\n",
       "      <td>496.0</td>\n",
       "      <td>11.0</td>\n",
       "      <td>17140.17</td>\n",
       "      <td>Dallas-Fort Worth-Arlington, TX MSA</td>\n",
       "      <td>surf</td>\n",
       "      <td>50</td>\n",
       "      <td>15360</td>\n",
       "      <td>500</td>\n",
       "      <td>20</td>\n",
       "      <td>10</td>\n",
       "      <td>0.03</td>\n",
       "      <td>0.03</td>\n",
       "      <td>0.0</td>\n",
       "    </tr>\n",
       "    <tr>\n",
       "      <td>1</td>\n",
       "      <td>1006</td>\n",
       "      <td>11.0</td>\n",
       "      <td>2.0</td>\n",
       "      <td>10.0</td>\n",
       "      <td>15.0</td>\n",
       "      <td>2068.37</td>\n",
       "      <td>San Francisco-Oakland-Berkeley, CA MSA</td>\n",
       "      <td>ultimate</td>\n",
       "      <td>1000</td>\n",
       "      <td>30720</td>\n",
       "      <td>3000</td>\n",
       "      <td>70</td>\n",
       "      <td>7</td>\n",
       "      <td>0.01</td>\n",
       "      <td>0.01</td>\n",
       "      <td>0.0</td>\n",
       "    </tr>\n",
       "    <tr>\n",
       "      <td>660</td>\n",
       "      <td>1007</td>\n",
       "      <td>11.0</td>\n",
       "      <td>80.0</td>\n",
       "      <td>524.0</td>\n",
       "      <td>48.0</td>\n",
       "      <td>24334.00</td>\n",
       "      <td>Grand Rapids-Kentwood, MI MSA</td>\n",
       "      <td>surf</td>\n",
       "      <td>50</td>\n",
       "      <td>15360</td>\n",
       "      <td>500</td>\n",
       "      <td>20</td>\n",
       "      <td>10</td>\n",
       "      <td>0.03</td>\n",
       "      <td>0.03</td>\n",
       "      <td>24.0</td>\n",
       "    </tr>\n",
       "    <tr>\n",
       "      <td>661</td>\n",
       "      <td>1007</td>\n",
       "      <td>9.0</td>\n",
       "      <td>63.0</td>\n",
       "      <td>399.0</td>\n",
       "      <td>47.0</td>\n",
       "      <td>28123.95</td>\n",
       "      <td>Grand Rapids-Kentwood, MI MSA</td>\n",
       "      <td>surf</td>\n",
       "      <td>50</td>\n",
       "      <td>15360</td>\n",
       "      <td>500</td>\n",
       "      <td>20</td>\n",
       "      <td>10</td>\n",
       "      <td>0.03</td>\n",
       "      <td>0.03</td>\n",
       "      <td>0.0</td>\n",
       "    </tr>\n",
       "    <tr>\n",
       "      <td>662</td>\n",
       "      <td>1007</td>\n",
       "      <td>12.0</td>\n",
       "      <td>87.0</td>\n",
       "      <td>617.0</td>\n",
       "      <td>50.0</td>\n",
       "      <td>29069.28</td>\n",
       "      <td>Grand Rapids-Kentwood, MI MSA</td>\n",
       "      <td>surf</td>\n",
       "      <td>50</td>\n",
       "      <td>15360</td>\n",
       "      <td>500</td>\n",
       "      <td>20</td>\n",
       "      <td>10</td>\n",
       "      <td>0.03</td>\n",
       "      <td>0.03</td>\n",
       "      <td>117.0</td>\n",
       "    </tr>\n",
       "    <tr>\n",
       "      <td>663</td>\n",
       "      <td>1007</td>\n",
       "      <td>8.0</td>\n",
       "      <td>70.0</td>\n",
       "      <td>456.0</td>\n",
       "      <td>51.0</td>\n",
       "      <td>24439.88</td>\n",
       "      <td>Grand Rapids-Kentwood, MI MSA</td>\n",
       "      <td>surf</td>\n",
       "      <td>50</td>\n",
       "      <td>15360</td>\n",
       "      <td>500</td>\n",
       "      <td>20</td>\n",
       "      <td>10</td>\n",
       "      <td>0.03</td>\n",
       "      <td>0.03</td>\n",
       "      <td>0.0</td>\n",
       "    </tr>\n",
       "    <tr>\n",
       "      <td>2</td>\n",
       "      <td>1008</td>\n",
       "      <td>12.0</td>\n",
       "      <td>85.0</td>\n",
       "      <td>634.0</td>\n",
       "      <td>26.0</td>\n",
       "      <td>14689.33</td>\n",
       "      <td>Orlando-Kissimmee-Sanford, FL MSA</td>\n",
       "      <td>ultimate</td>\n",
       "      <td>1000</td>\n",
       "      <td>30720</td>\n",
       "      <td>3000</td>\n",
       "      <td>70</td>\n",
       "      <td>7</td>\n",
       "      <td>0.01</td>\n",
       "      <td>0.01</td>\n",
       "      <td>0.0</td>\n",
       "    </tr>\n",
       "    <tr>\n",
       "      <td>4</td>\n",
       "      <td>1008</td>\n",
       "      <td>10.0</td>\n",
       "      <td>71.0</td>\n",
       "      <td>476.0</td>\n",
       "      <td>21.0</td>\n",
       "      <td>17106.99</td>\n",
       "      <td>Orlando-Kissimmee-Sanford, FL MSA</td>\n",
       "      <td>ultimate</td>\n",
       "      <td>1000</td>\n",
       "      <td>30720</td>\n",
       "      <td>3000</td>\n",
       "      <td>70</td>\n",
       "      <td>7</td>\n",
       "      <td>0.01</td>\n",
       "      <td>0.01</td>\n",
       "      <td>0.0</td>\n",
       "    </tr>\n",
       "    <tr>\n",
       "      <td>3</td>\n",
       "      <td>1008</td>\n",
       "      <td>11.0</td>\n",
       "      <td>63.0</td>\n",
       "      <td>446.0</td>\n",
       "      <td>37.0</td>\n",
       "      <td>23676.72</td>\n",
       "      <td>Orlando-Kissimmee-Sanford, FL MSA</td>\n",
       "      <td>ultimate</td>\n",
       "      <td>1000</td>\n",
       "      <td>30720</td>\n",
       "      <td>3000</td>\n",
       "      <td>70</td>\n",
       "      <td>7</td>\n",
       "      <td>0.01</td>\n",
       "      <td>0.01</td>\n",
       "      <td>0.0</td>\n",
       "    </tr>\n",
       "    <tr>\n",
       "      <td>671</td>\n",
       "      <td>1009</td>\n",
       "      <td>8.0</td>\n",
       "      <td>109.0</td>\n",
       "      <td>731.0</td>\n",
       "      <td>NaN</td>\n",
       "      <td>24557.52</td>\n",
       "      <td>San Jose-Sunnyvale-Santa Clara, CA MSA</td>\n",
       "      <td>surf</td>\n",
       "      <td>50</td>\n",
       "      <td>15360</td>\n",
       "      <td>500</td>\n",
       "      <td>20</td>\n",
       "      <td>10</td>\n",
       "      <td>0.03</td>\n",
       "      <td>0.03</td>\n",
       "      <td>231.0</td>\n",
       "    </tr>\n",
       "    <tr>\n",
       "      <td>665</td>\n",
       "      <td>1009</td>\n",
       "      <td>5.0</td>\n",
       "      <td>71.0</td>\n",
       "      <td>534.0</td>\n",
       "      <td>NaN</td>\n",
       "      <td>20389.40</td>\n",
       "      <td>San Jose-Sunnyvale-Santa Clara, CA MSA</td>\n",
       "      <td>surf</td>\n",
       "      <td>50</td>\n",
       "      <td>15360</td>\n",
       "      <td>500</td>\n",
       "      <td>20</td>\n",
       "      <td>10</td>\n",
       "      <td>0.03</td>\n",
       "      <td>0.03</td>\n",
       "      <td>34.0</td>\n",
       "    </tr>\n",
       "    <tr>\n",
       "      <td>666</td>\n",
       "      <td>1009</td>\n",
       "      <td>9.0</td>\n",
       "      <td>116.0</td>\n",
       "      <td>776.0</td>\n",
       "      <td>NaN</td>\n",
       "      <td>20962.40</td>\n",
       "      <td>San Jose-Sunnyvale-Santa Clara, CA MSA</td>\n",
       "      <td>surf</td>\n",
       "      <td>50</td>\n",
       "      <td>15360</td>\n",
       "      <td>500</td>\n",
       "      <td>20</td>\n",
       "      <td>10</td>\n",
       "      <td>0.03</td>\n",
       "      <td>0.03</td>\n",
       "      <td>276.0</td>\n",
       "    </tr>\n",
       "  </tbody>\n",
       "</table>\n",
       "</div>"
      ],
      "text/plain": [
       "      user_id  month  call_count  duration_total  message_count   mb_used  \\\n",
       "0        1000   12.0        16.0           124.0           11.0   1901.47   \n",
       "645      1001   12.0        56.0           412.0           44.0  19369.18   \n",
       "646      1001   11.0        64.0           426.0           36.0  18504.30   \n",
       "647      1001    8.0        27.0           182.0           30.0   6919.15   \n",
       "644      1001   10.0        65.0           393.0           53.0  22330.49   \n",
       "643      1001    9.0        49.0           315.0           44.0  13314.82   \n",
       "650      1002   10.0        11.0            59.0           15.0   6552.01   \n",
       "649      1002   12.0        47.0           384.0           41.0  14396.24   \n",
       "648      1002   11.0        55.0           386.0           32.0  19345.08   \n",
       "2084     1003    NaN         NaN             NaN            NaN       NaN   \n",
       "652      1004    8.0        49.0           354.0           25.0  27981.74   \n",
       "651      1004   11.0        54.0           476.0           25.0  21850.78   \n",
       "655      1004    9.0        42.0           301.0           21.0  18852.72   \n",
       "653      1004    7.0        49.0           381.0           26.0  24516.62   \n",
       "656      1004   12.0        50.0           427.0           31.0  21389.29   \n",
       "657      1004   10.0        61.0           365.0           24.0  14541.63   \n",
       "658      1004    5.0        21.0           193.0            7.0   6547.21   \n",
       "654      1004    6.0        44.0           275.0           18.0  20672.82   \n",
       "659      1005   12.0        59.0           496.0           11.0  17140.17   \n",
       "1        1006   11.0         2.0            10.0           15.0   2068.37   \n",
       "660      1007   11.0        80.0           524.0           48.0  24334.00   \n",
       "661      1007    9.0        63.0           399.0           47.0  28123.95   \n",
       "662      1007   12.0        87.0           617.0           50.0  29069.28   \n",
       "663      1007    8.0        70.0           456.0           51.0  24439.88   \n",
       "2        1008   12.0        85.0           634.0           26.0  14689.33   \n",
       "4        1008   10.0        71.0           476.0           21.0  17106.99   \n",
       "3        1008   11.0        63.0           446.0           37.0  23676.72   \n",
       "671      1009    8.0       109.0           731.0            NaN  24557.52   \n",
       "665      1009    5.0        71.0           534.0            NaN  20389.40   \n",
       "666      1009    9.0       116.0           776.0            NaN  20962.40   \n",
       "\n",
       "                                        city      plan  messages_included  \\\n",
       "0      Atlanta-Sandy Springs-Roswell, GA MSA  ultimate               1000   \n",
       "645          Seattle-Tacoma-Bellevue, WA MSA      surf                 50   \n",
       "646          Seattle-Tacoma-Bellevue, WA MSA      surf                 50   \n",
       "647          Seattle-Tacoma-Bellevue, WA MSA      surf                 50   \n",
       "644          Seattle-Tacoma-Bellevue, WA MSA      surf                 50   \n",
       "643          Seattle-Tacoma-Bellevue, WA MSA      surf                 50   \n",
       "650     Las Vegas-Henderson-Paradise, NV MSA      surf                 50   \n",
       "649     Las Vegas-Henderson-Paradise, NV MSA      surf                 50   \n",
       "648     Las Vegas-Henderson-Paradise, NV MSA      surf                 50   \n",
       "2084                           Tulsa, OK MSA      surf                 50   \n",
       "652          Seattle-Tacoma-Bellevue, WA MSA      surf                 50   \n",
       "651          Seattle-Tacoma-Bellevue, WA MSA      surf                 50   \n",
       "655          Seattle-Tacoma-Bellevue, WA MSA      surf                 50   \n",
       "653          Seattle-Tacoma-Bellevue, WA MSA      surf                 50   \n",
       "656          Seattle-Tacoma-Bellevue, WA MSA      surf                 50   \n",
       "657          Seattle-Tacoma-Bellevue, WA MSA      surf                 50   \n",
       "658          Seattle-Tacoma-Bellevue, WA MSA      surf                 50   \n",
       "654          Seattle-Tacoma-Bellevue, WA MSA      surf                 50   \n",
       "659      Dallas-Fort Worth-Arlington, TX MSA      surf                 50   \n",
       "1     San Francisco-Oakland-Berkeley, CA MSA  ultimate               1000   \n",
       "660            Grand Rapids-Kentwood, MI MSA      surf                 50   \n",
       "661            Grand Rapids-Kentwood, MI MSA      surf                 50   \n",
       "662            Grand Rapids-Kentwood, MI MSA      surf                 50   \n",
       "663            Grand Rapids-Kentwood, MI MSA      surf                 50   \n",
       "2          Orlando-Kissimmee-Sanford, FL MSA  ultimate               1000   \n",
       "4          Orlando-Kissimmee-Sanford, FL MSA  ultimate               1000   \n",
       "3          Orlando-Kissimmee-Sanford, FL MSA  ultimate               1000   \n",
       "671   San Jose-Sunnyvale-Santa Clara, CA MSA      surf                 50   \n",
       "665   San Jose-Sunnyvale-Santa Clara, CA MSA      surf                 50   \n",
       "666   San Jose-Sunnyvale-Santa Clara, CA MSA      surf                 50   \n",
       "\n",
       "      mb_per_month_included  minutes_included  usd_monthly_pay  usd_per_gb  \\\n",
       "0                     30720              3000               70           7   \n",
       "645                   15360               500               20          10   \n",
       "646                   15360               500               20          10   \n",
       "647                   15360               500               20          10   \n",
       "644                   15360               500               20          10   \n",
       "643                   15360               500               20          10   \n",
       "650                   15360               500               20          10   \n",
       "649                   15360               500               20          10   \n",
       "648                   15360               500               20          10   \n",
       "2084                  15360               500               20          10   \n",
       "652                   15360               500               20          10   \n",
       "651                   15360               500               20          10   \n",
       "655                   15360               500               20          10   \n",
       "653                   15360               500               20          10   \n",
       "656                   15360               500               20          10   \n",
       "657                   15360               500               20          10   \n",
       "658                   15360               500               20          10   \n",
       "654                   15360               500               20          10   \n",
       "659                   15360               500               20          10   \n",
       "1                     30720              3000               70           7   \n",
       "660                   15360               500               20          10   \n",
       "661                   15360               500               20          10   \n",
       "662                   15360               500               20          10   \n",
       "663                   15360               500               20          10   \n",
       "2                     30720              3000               70           7   \n",
       "4                     30720              3000               70           7   \n",
       "3                     30720              3000               70           7   \n",
       "671                   15360               500               20          10   \n",
       "665                   15360               500               20          10   \n",
       "666                   15360               500               20          10   \n",
       "\n",
       "      usd_per_message  usd_per_minute  minutes_topay  \n",
       "0                0.01            0.01            0.0  \n",
       "645              0.03            0.03            0.0  \n",
       "646              0.03            0.03            0.0  \n",
       "647              0.03            0.03            0.0  \n",
       "644              0.03            0.03            0.0  \n",
       "643              0.03            0.03            0.0  \n",
       "650              0.03            0.03            0.0  \n",
       "649              0.03            0.03            0.0  \n",
       "648              0.03            0.03            0.0  \n",
       "2084             0.03            0.03            0.0  \n",
       "652              0.03            0.03            0.0  \n",
       "651              0.03            0.03            0.0  \n",
       "655              0.03            0.03            0.0  \n",
       "653              0.03            0.03            0.0  \n",
       "656              0.03            0.03            0.0  \n",
       "657              0.03            0.03            0.0  \n",
       "658              0.03            0.03            0.0  \n",
       "654              0.03            0.03            0.0  \n",
       "659              0.03            0.03            0.0  \n",
       "1                0.01            0.01            0.0  \n",
       "660              0.03            0.03           24.0  \n",
       "661              0.03            0.03            0.0  \n",
       "662              0.03            0.03          117.0  \n",
       "663              0.03            0.03            0.0  \n",
       "2                0.01            0.01            0.0  \n",
       "4                0.01            0.01            0.0  \n",
       "3                0.01            0.01            0.0  \n",
       "671              0.03            0.03          231.0  \n",
       "665              0.03            0.03           34.0  \n",
       "666              0.03            0.03          276.0  "
      ]
     },
     "execution_count": 26,
     "metadata": {},
     "output_type": "execute_result"
    }
   ],
   "source": [
    "#calculate monthly revenue/user\n",
    "\n",
    "#first need to find how many minutes are to be payed for per month\n",
    "import numpy as np\n",
    "\n",
    "revenue['minutes_topay'] = np.where(\n",
    "    (revenue['duration_total'] - revenue['minutes_included']) > 0.\n",
    "    , revenue['duration_total'] - revenue['minutes_included'], 0.)\n",
    "\n",
    "#reads as: where the difference of (df['a'] - df['b']) is strictly positive., return\n",
    "#df['a'] - df['b'], otherwise return 0.\n",
    "\n",
    "revenue.head(30)\n",
    "    "
   ]
  },
  {
   "cell_type": "code",
   "execution_count": 27,
   "metadata": {
    "scrolled": true
   },
   "outputs": [
    {
     "data": {
      "text/html": [
       "<div>\n",
       "<style scoped>\n",
       "    .dataframe tbody tr th:only-of-type {\n",
       "        vertical-align: middle;\n",
       "    }\n",
       "\n",
       "    .dataframe tbody tr th {\n",
       "        vertical-align: top;\n",
       "    }\n",
       "\n",
       "    .dataframe thead th {\n",
       "        text-align: right;\n",
       "    }\n",
       "</style>\n",
       "<table border=\"1\" class=\"dataframe\">\n",
       "  <thead>\n",
       "    <tr style=\"text-align: right;\">\n",
       "      <th></th>\n",
       "      <th>user_id</th>\n",
       "      <th>month</th>\n",
       "      <th>call_count</th>\n",
       "      <th>duration_total</th>\n",
       "      <th>message_count</th>\n",
       "      <th>mb_used</th>\n",
       "      <th>city</th>\n",
       "      <th>plan</th>\n",
       "      <th>messages_included</th>\n",
       "      <th>mb_per_month_included</th>\n",
       "      <th>minutes_included</th>\n",
       "      <th>usd_monthly_pay</th>\n",
       "      <th>usd_per_gb</th>\n",
       "      <th>usd_per_message</th>\n",
       "      <th>usd_per_minute</th>\n",
       "      <th>minutes_topay</th>\n",
       "      <th>rev_min_monthly</th>\n",
       "    </tr>\n",
       "  </thead>\n",
       "  <tbody>\n",
       "    <tr>\n",
       "      <td>0</td>\n",
       "      <td>1000</td>\n",
       "      <td>12.0</td>\n",
       "      <td>16.0</td>\n",
       "      <td>124.0</td>\n",
       "      <td>11.0</td>\n",
       "      <td>1901.47</td>\n",
       "      <td>Atlanta-Sandy Springs-Roswell, GA MSA</td>\n",
       "      <td>ultimate</td>\n",
       "      <td>1000</td>\n",
       "      <td>30720</td>\n",
       "      <td>3000</td>\n",
       "      <td>70</td>\n",
       "      <td>7</td>\n",
       "      <td>0.01</td>\n",
       "      <td>0.01</td>\n",
       "      <td>0.0</td>\n",
       "      <td>0.00</td>\n",
       "    </tr>\n",
       "    <tr>\n",
       "      <td>645</td>\n",
       "      <td>1001</td>\n",
       "      <td>12.0</td>\n",
       "      <td>56.0</td>\n",
       "      <td>412.0</td>\n",
       "      <td>44.0</td>\n",
       "      <td>19369.18</td>\n",
       "      <td>Seattle-Tacoma-Bellevue, WA MSA</td>\n",
       "      <td>surf</td>\n",
       "      <td>50</td>\n",
       "      <td>15360</td>\n",
       "      <td>500</td>\n",
       "      <td>20</td>\n",
       "      <td>10</td>\n",
       "      <td>0.03</td>\n",
       "      <td>0.03</td>\n",
       "      <td>0.0</td>\n",
       "      <td>0.00</td>\n",
       "    </tr>\n",
       "    <tr>\n",
       "      <td>646</td>\n",
       "      <td>1001</td>\n",
       "      <td>11.0</td>\n",
       "      <td>64.0</td>\n",
       "      <td>426.0</td>\n",
       "      <td>36.0</td>\n",
       "      <td>18504.30</td>\n",
       "      <td>Seattle-Tacoma-Bellevue, WA MSA</td>\n",
       "      <td>surf</td>\n",
       "      <td>50</td>\n",
       "      <td>15360</td>\n",
       "      <td>500</td>\n",
       "      <td>20</td>\n",
       "      <td>10</td>\n",
       "      <td>0.03</td>\n",
       "      <td>0.03</td>\n",
       "      <td>0.0</td>\n",
       "      <td>0.00</td>\n",
       "    </tr>\n",
       "    <tr>\n",
       "      <td>647</td>\n",
       "      <td>1001</td>\n",
       "      <td>8.0</td>\n",
       "      <td>27.0</td>\n",
       "      <td>182.0</td>\n",
       "      <td>30.0</td>\n",
       "      <td>6919.15</td>\n",
       "      <td>Seattle-Tacoma-Bellevue, WA MSA</td>\n",
       "      <td>surf</td>\n",
       "      <td>50</td>\n",
       "      <td>15360</td>\n",
       "      <td>500</td>\n",
       "      <td>20</td>\n",
       "      <td>10</td>\n",
       "      <td>0.03</td>\n",
       "      <td>0.03</td>\n",
       "      <td>0.0</td>\n",
       "      <td>0.00</td>\n",
       "    </tr>\n",
       "    <tr>\n",
       "      <td>644</td>\n",
       "      <td>1001</td>\n",
       "      <td>10.0</td>\n",
       "      <td>65.0</td>\n",
       "      <td>393.0</td>\n",
       "      <td>53.0</td>\n",
       "      <td>22330.49</td>\n",
       "      <td>Seattle-Tacoma-Bellevue, WA MSA</td>\n",
       "      <td>surf</td>\n",
       "      <td>50</td>\n",
       "      <td>15360</td>\n",
       "      <td>500</td>\n",
       "      <td>20</td>\n",
       "      <td>10</td>\n",
       "      <td>0.03</td>\n",
       "      <td>0.03</td>\n",
       "      <td>0.0</td>\n",
       "      <td>0.00</td>\n",
       "    </tr>\n",
       "    <tr>\n",
       "      <td>643</td>\n",
       "      <td>1001</td>\n",
       "      <td>9.0</td>\n",
       "      <td>49.0</td>\n",
       "      <td>315.0</td>\n",
       "      <td>44.0</td>\n",
       "      <td>13314.82</td>\n",
       "      <td>Seattle-Tacoma-Bellevue, WA MSA</td>\n",
       "      <td>surf</td>\n",
       "      <td>50</td>\n",
       "      <td>15360</td>\n",
       "      <td>500</td>\n",
       "      <td>20</td>\n",
       "      <td>10</td>\n",
       "      <td>0.03</td>\n",
       "      <td>0.03</td>\n",
       "      <td>0.0</td>\n",
       "      <td>0.00</td>\n",
       "    </tr>\n",
       "    <tr>\n",
       "      <td>650</td>\n",
       "      <td>1002</td>\n",
       "      <td>10.0</td>\n",
       "      <td>11.0</td>\n",
       "      <td>59.0</td>\n",
       "      <td>15.0</td>\n",
       "      <td>6552.01</td>\n",
       "      <td>Las Vegas-Henderson-Paradise, NV MSA</td>\n",
       "      <td>surf</td>\n",
       "      <td>50</td>\n",
       "      <td>15360</td>\n",
       "      <td>500</td>\n",
       "      <td>20</td>\n",
       "      <td>10</td>\n",
       "      <td>0.03</td>\n",
       "      <td>0.03</td>\n",
       "      <td>0.0</td>\n",
       "      <td>0.00</td>\n",
       "    </tr>\n",
       "    <tr>\n",
       "      <td>649</td>\n",
       "      <td>1002</td>\n",
       "      <td>12.0</td>\n",
       "      <td>47.0</td>\n",
       "      <td>384.0</td>\n",
       "      <td>41.0</td>\n",
       "      <td>14396.24</td>\n",
       "      <td>Las Vegas-Henderson-Paradise, NV MSA</td>\n",
       "      <td>surf</td>\n",
       "      <td>50</td>\n",
       "      <td>15360</td>\n",
       "      <td>500</td>\n",
       "      <td>20</td>\n",
       "      <td>10</td>\n",
       "      <td>0.03</td>\n",
       "      <td>0.03</td>\n",
       "      <td>0.0</td>\n",
       "      <td>0.00</td>\n",
       "    </tr>\n",
       "    <tr>\n",
       "      <td>648</td>\n",
       "      <td>1002</td>\n",
       "      <td>11.0</td>\n",
       "      <td>55.0</td>\n",
       "      <td>386.0</td>\n",
       "      <td>32.0</td>\n",
       "      <td>19345.08</td>\n",
       "      <td>Las Vegas-Henderson-Paradise, NV MSA</td>\n",
       "      <td>surf</td>\n",
       "      <td>50</td>\n",
       "      <td>15360</td>\n",
       "      <td>500</td>\n",
       "      <td>20</td>\n",
       "      <td>10</td>\n",
       "      <td>0.03</td>\n",
       "      <td>0.03</td>\n",
       "      <td>0.0</td>\n",
       "      <td>0.00</td>\n",
       "    </tr>\n",
       "    <tr>\n",
       "      <td>2084</td>\n",
       "      <td>1003</td>\n",
       "      <td>NaN</td>\n",
       "      <td>NaN</td>\n",
       "      <td>NaN</td>\n",
       "      <td>NaN</td>\n",
       "      <td>NaN</td>\n",
       "      <td>Tulsa, OK MSA</td>\n",
       "      <td>surf</td>\n",
       "      <td>50</td>\n",
       "      <td>15360</td>\n",
       "      <td>500</td>\n",
       "      <td>20</td>\n",
       "      <td>10</td>\n",
       "      <td>0.03</td>\n",
       "      <td>0.03</td>\n",
       "      <td>0.0</td>\n",
       "      <td>0.00</td>\n",
       "    </tr>\n",
       "    <tr>\n",
       "      <td>652</td>\n",
       "      <td>1004</td>\n",
       "      <td>8.0</td>\n",
       "      <td>49.0</td>\n",
       "      <td>354.0</td>\n",
       "      <td>25.0</td>\n",
       "      <td>27981.74</td>\n",
       "      <td>Seattle-Tacoma-Bellevue, WA MSA</td>\n",
       "      <td>surf</td>\n",
       "      <td>50</td>\n",
       "      <td>15360</td>\n",
       "      <td>500</td>\n",
       "      <td>20</td>\n",
       "      <td>10</td>\n",
       "      <td>0.03</td>\n",
       "      <td>0.03</td>\n",
       "      <td>0.0</td>\n",
       "      <td>0.00</td>\n",
       "    </tr>\n",
       "    <tr>\n",
       "      <td>651</td>\n",
       "      <td>1004</td>\n",
       "      <td>11.0</td>\n",
       "      <td>54.0</td>\n",
       "      <td>476.0</td>\n",
       "      <td>25.0</td>\n",
       "      <td>21850.78</td>\n",
       "      <td>Seattle-Tacoma-Bellevue, WA MSA</td>\n",
       "      <td>surf</td>\n",
       "      <td>50</td>\n",
       "      <td>15360</td>\n",
       "      <td>500</td>\n",
       "      <td>20</td>\n",
       "      <td>10</td>\n",
       "      <td>0.03</td>\n",
       "      <td>0.03</td>\n",
       "      <td>0.0</td>\n",
       "      <td>0.00</td>\n",
       "    </tr>\n",
       "    <tr>\n",
       "      <td>655</td>\n",
       "      <td>1004</td>\n",
       "      <td>9.0</td>\n",
       "      <td>42.0</td>\n",
       "      <td>301.0</td>\n",
       "      <td>21.0</td>\n",
       "      <td>18852.72</td>\n",
       "      <td>Seattle-Tacoma-Bellevue, WA MSA</td>\n",
       "      <td>surf</td>\n",
       "      <td>50</td>\n",
       "      <td>15360</td>\n",
       "      <td>500</td>\n",
       "      <td>20</td>\n",
       "      <td>10</td>\n",
       "      <td>0.03</td>\n",
       "      <td>0.03</td>\n",
       "      <td>0.0</td>\n",
       "      <td>0.00</td>\n",
       "    </tr>\n",
       "    <tr>\n",
       "      <td>653</td>\n",
       "      <td>1004</td>\n",
       "      <td>7.0</td>\n",
       "      <td>49.0</td>\n",
       "      <td>381.0</td>\n",
       "      <td>26.0</td>\n",
       "      <td>24516.62</td>\n",
       "      <td>Seattle-Tacoma-Bellevue, WA MSA</td>\n",
       "      <td>surf</td>\n",
       "      <td>50</td>\n",
       "      <td>15360</td>\n",
       "      <td>500</td>\n",
       "      <td>20</td>\n",
       "      <td>10</td>\n",
       "      <td>0.03</td>\n",
       "      <td>0.03</td>\n",
       "      <td>0.0</td>\n",
       "      <td>0.00</td>\n",
       "    </tr>\n",
       "    <tr>\n",
       "      <td>656</td>\n",
       "      <td>1004</td>\n",
       "      <td>12.0</td>\n",
       "      <td>50.0</td>\n",
       "      <td>427.0</td>\n",
       "      <td>31.0</td>\n",
       "      <td>21389.29</td>\n",
       "      <td>Seattle-Tacoma-Bellevue, WA MSA</td>\n",
       "      <td>surf</td>\n",
       "      <td>50</td>\n",
       "      <td>15360</td>\n",
       "      <td>500</td>\n",
       "      <td>20</td>\n",
       "      <td>10</td>\n",
       "      <td>0.03</td>\n",
       "      <td>0.03</td>\n",
       "      <td>0.0</td>\n",
       "      <td>0.00</td>\n",
       "    </tr>\n",
       "    <tr>\n",
       "      <td>657</td>\n",
       "      <td>1004</td>\n",
       "      <td>10.0</td>\n",
       "      <td>61.0</td>\n",
       "      <td>365.0</td>\n",
       "      <td>24.0</td>\n",
       "      <td>14541.63</td>\n",
       "      <td>Seattle-Tacoma-Bellevue, WA MSA</td>\n",
       "      <td>surf</td>\n",
       "      <td>50</td>\n",
       "      <td>15360</td>\n",
       "      <td>500</td>\n",
       "      <td>20</td>\n",
       "      <td>10</td>\n",
       "      <td>0.03</td>\n",
       "      <td>0.03</td>\n",
       "      <td>0.0</td>\n",
       "      <td>0.00</td>\n",
       "    </tr>\n",
       "    <tr>\n",
       "      <td>658</td>\n",
       "      <td>1004</td>\n",
       "      <td>5.0</td>\n",
       "      <td>21.0</td>\n",
       "      <td>193.0</td>\n",
       "      <td>7.0</td>\n",
       "      <td>6547.21</td>\n",
       "      <td>Seattle-Tacoma-Bellevue, WA MSA</td>\n",
       "      <td>surf</td>\n",
       "      <td>50</td>\n",
       "      <td>15360</td>\n",
       "      <td>500</td>\n",
       "      <td>20</td>\n",
       "      <td>10</td>\n",
       "      <td>0.03</td>\n",
       "      <td>0.03</td>\n",
       "      <td>0.0</td>\n",
       "      <td>0.00</td>\n",
       "    </tr>\n",
       "    <tr>\n",
       "      <td>654</td>\n",
       "      <td>1004</td>\n",
       "      <td>6.0</td>\n",
       "      <td>44.0</td>\n",
       "      <td>275.0</td>\n",
       "      <td>18.0</td>\n",
       "      <td>20672.82</td>\n",
       "      <td>Seattle-Tacoma-Bellevue, WA MSA</td>\n",
       "      <td>surf</td>\n",
       "      <td>50</td>\n",
       "      <td>15360</td>\n",
       "      <td>500</td>\n",
       "      <td>20</td>\n",
       "      <td>10</td>\n",
       "      <td>0.03</td>\n",
       "      <td>0.03</td>\n",
       "      <td>0.0</td>\n",
       "      <td>0.00</td>\n",
       "    </tr>\n",
       "    <tr>\n",
       "      <td>659</td>\n",
       "      <td>1005</td>\n",
       "      <td>12.0</td>\n",
       "      <td>59.0</td>\n",
       "      <td>496.0</td>\n",
       "      <td>11.0</td>\n",
       "      <td>17140.17</td>\n",
       "      <td>Dallas-Fort Worth-Arlington, TX MSA</td>\n",
       "      <td>surf</td>\n",
       "      <td>50</td>\n",
       "      <td>15360</td>\n",
       "      <td>500</td>\n",
       "      <td>20</td>\n",
       "      <td>10</td>\n",
       "      <td>0.03</td>\n",
       "      <td>0.03</td>\n",
       "      <td>0.0</td>\n",
       "      <td>0.00</td>\n",
       "    </tr>\n",
       "    <tr>\n",
       "      <td>1</td>\n",
       "      <td>1006</td>\n",
       "      <td>11.0</td>\n",
       "      <td>2.0</td>\n",
       "      <td>10.0</td>\n",
       "      <td>15.0</td>\n",
       "      <td>2068.37</td>\n",
       "      <td>San Francisco-Oakland-Berkeley, CA MSA</td>\n",
       "      <td>ultimate</td>\n",
       "      <td>1000</td>\n",
       "      <td>30720</td>\n",
       "      <td>3000</td>\n",
       "      <td>70</td>\n",
       "      <td>7</td>\n",
       "      <td>0.01</td>\n",
       "      <td>0.01</td>\n",
       "      <td>0.0</td>\n",
       "      <td>0.00</td>\n",
       "    </tr>\n",
       "    <tr>\n",
       "      <td>660</td>\n",
       "      <td>1007</td>\n",
       "      <td>11.0</td>\n",
       "      <td>80.0</td>\n",
       "      <td>524.0</td>\n",
       "      <td>48.0</td>\n",
       "      <td>24334.00</td>\n",
       "      <td>Grand Rapids-Kentwood, MI MSA</td>\n",
       "      <td>surf</td>\n",
       "      <td>50</td>\n",
       "      <td>15360</td>\n",
       "      <td>500</td>\n",
       "      <td>20</td>\n",
       "      <td>10</td>\n",
       "      <td>0.03</td>\n",
       "      <td>0.03</td>\n",
       "      <td>24.0</td>\n",
       "      <td>0.72</td>\n",
       "    </tr>\n",
       "    <tr>\n",
       "      <td>661</td>\n",
       "      <td>1007</td>\n",
       "      <td>9.0</td>\n",
       "      <td>63.0</td>\n",
       "      <td>399.0</td>\n",
       "      <td>47.0</td>\n",
       "      <td>28123.95</td>\n",
       "      <td>Grand Rapids-Kentwood, MI MSA</td>\n",
       "      <td>surf</td>\n",
       "      <td>50</td>\n",
       "      <td>15360</td>\n",
       "      <td>500</td>\n",
       "      <td>20</td>\n",
       "      <td>10</td>\n",
       "      <td>0.03</td>\n",
       "      <td>0.03</td>\n",
       "      <td>0.0</td>\n",
       "      <td>0.00</td>\n",
       "    </tr>\n",
       "    <tr>\n",
       "      <td>662</td>\n",
       "      <td>1007</td>\n",
       "      <td>12.0</td>\n",
       "      <td>87.0</td>\n",
       "      <td>617.0</td>\n",
       "      <td>50.0</td>\n",
       "      <td>29069.28</td>\n",
       "      <td>Grand Rapids-Kentwood, MI MSA</td>\n",
       "      <td>surf</td>\n",
       "      <td>50</td>\n",
       "      <td>15360</td>\n",
       "      <td>500</td>\n",
       "      <td>20</td>\n",
       "      <td>10</td>\n",
       "      <td>0.03</td>\n",
       "      <td>0.03</td>\n",
       "      <td>117.0</td>\n",
       "      <td>3.51</td>\n",
       "    </tr>\n",
       "    <tr>\n",
       "      <td>663</td>\n",
       "      <td>1007</td>\n",
       "      <td>8.0</td>\n",
       "      <td>70.0</td>\n",
       "      <td>456.0</td>\n",
       "      <td>51.0</td>\n",
       "      <td>24439.88</td>\n",
       "      <td>Grand Rapids-Kentwood, MI MSA</td>\n",
       "      <td>surf</td>\n",
       "      <td>50</td>\n",
       "      <td>15360</td>\n",
       "      <td>500</td>\n",
       "      <td>20</td>\n",
       "      <td>10</td>\n",
       "      <td>0.03</td>\n",
       "      <td>0.03</td>\n",
       "      <td>0.0</td>\n",
       "      <td>0.00</td>\n",
       "    </tr>\n",
       "    <tr>\n",
       "      <td>2</td>\n",
       "      <td>1008</td>\n",
       "      <td>12.0</td>\n",
       "      <td>85.0</td>\n",
       "      <td>634.0</td>\n",
       "      <td>26.0</td>\n",
       "      <td>14689.33</td>\n",
       "      <td>Orlando-Kissimmee-Sanford, FL MSA</td>\n",
       "      <td>ultimate</td>\n",
       "      <td>1000</td>\n",
       "      <td>30720</td>\n",
       "      <td>3000</td>\n",
       "      <td>70</td>\n",
       "      <td>7</td>\n",
       "      <td>0.01</td>\n",
       "      <td>0.01</td>\n",
       "      <td>0.0</td>\n",
       "      <td>0.00</td>\n",
       "    </tr>\n",
       "    <tr>\n",
       "      <td>4</td>\n",
       "      <td>1008</td>\n",
       "      <td>10.0</td>\n",
       "      <td>71.0</td>\n",
       "      <td>476.0</td>\n",
       "      <td>21.0</td>\n",
       "      <td>17106.99</td>\n",
       "      <td>Orlando-Kissimmee-Sanford, FL MSA</td>\n",
       "      <td>ultimate</td>\n",
       "      <td>1000</td>\n",
       "      <td>30720</td>\n",
       "      <td>3000</td>\n",
       "      <td>70</td>\n",
       "      <td>7</td>\n",
       "      <td>0.01</td>\n",
       "      <td>0.01</td>\n",
       "      <td>0.0</td>\n",
       "      <td>0.00</td>\n",
       "    </tr>\n",
       "    <tr>\n",
       "      <td>3</td>\n",
       "      <td>1008</td>\n",
       "      <td>11.0</td>\n",
       "      <td>63.0</td>\n",
       "      <td>446.0</td>\n",
       "      <td>37.0</td>\n",
       "      <td>23676.72</td>\n",
       "      <td>Orlando-Kissimmee-Sanford, FL MSA</td>\n",
       "      <td>ultimate</td>\n",
       "      <td>1000</td>\n",
       "      <td>30720</td>\n",
       "      <td>3000</td>\n",
       "      <td>70</td>\n",
       "      <td>7</td>\n",
       "      <td>0.01</td>\n",
       "      <td>0.01</td>\n",
       "      <td>0.0</td>\n",
       "      <td>0.00</td>\n",
       "    </tr>\n",
       "    <tr>\n",
       "      <td>671</td>\n",
       "      <td>1009</td>\n",
       "      <td>8.0</td>\n",
       "      <td>109.0</td>\n",
       "      <td>731.0</td>\n",
       "      <td>NaN</td>\n",
       "      <td>24557.52</td>\n",
       "      <td>San Jose-Sunnyvale-Santa Clara, CA MSA</td>\n",
       "      <td>surf</td>\n",
       "      <td>50</td>\n",
       "      <td>15360</td>\n",
       "      <td>500</td>\n",
       "      <td>20</td>\n",
       "      <td>10</td>\n",
       "      <td>0.03</td>\n",
       "      <td>0.03</td>\n",
       "      <td>231.0</td>\n",
       "      <td>6.93</td>\n",
       "    </tr>\n",
       "    <tr>\n",
       "      <td>665</td>\n",
       "      <td>1009</td>\n",
       "      <td>5.0</td>\n",
       "      <td>71.0</td>\n",
       "      <td>534.0</td>\n",
       "      <td>NaN</td>\n",
       "      <td>20389.40</td>\n",
       "      <td>San Jose-Sunnyvale-Santa Clara, CA MSA</td>\n",
       "      <td>surf</td>\n",
       "      <td>50</td>\n",
       "      <td>15360</td>\n",
       "      <td>500</td>\n",
       "      <td>20</td>\n",
       "      <td>10</td>\n",
       "      <td>0.03</td>\n",
       "      <td>0.03</td>\n",
       "      <td>34.0</td>\n",
       "      <td>1.02</td>\n",
       "    </tr>\n",
       "    <tr>\n",
       "      <td>666</td>\n",
       "      <td>1009</td>\n",
       "      <td>9.0</td>\n",
       "      <td>116.0</td>\n",
       "      <td>776.0</td>\n",
       "      <td>NaN</td>\n",
       "      <td>20962.40</td>\n",
       "      <td>San Jose-Sunnyvale-Santa Clara, CA MSA</td>\n",
       "      <td>surf</td>\n",
       "      <td>50</td>\n",
       "      <td>15360</td>\n",
       "      <td>500</td>\n",
       "      <td>20</td>\n",
       "      <td>10</td>\n",
       "      <td>0.03</td>\n",
       "      <td>0.03</td>\n",
       "      <td>276.0</td>\n",
       "      <td>8.28</td>\n",
       "    </tr>\n",
       "  </tbody>\n",
       "</table>\n",
       "</div>"
      ],
      "text/plain": [
       "      user_id  month  call_count  duration_total  message_count   mb_used  \\\n",
       "0        1000   12.0        16.0           124.0           11.0   1901.47   \n",
       "645      1001   12.0        56.0           412.0           44.0  19369.18   \n",
       "646      1001   11.0        64.0           426.0           36.0  18504.30   \n",
       "647      1001    8.0        27.0           182.0           30.0   6919.15   \n",
       "644      1001   10.0        65.0           393.0           53.0  22330.49   \n",
       "643      1001    9.0        49.0           315.0           44.0  13314.82   \n",
       "650      1002   10.0        11.0            59.0           15.0   6552.01   \n",
       "649      1002   12.0        47.0           384.0           41.0  14396.24   \n",
       "648      1002   11.0        55.0           386.0           32.0  19345.08   \n",
       "2084     1003    NaN         NaN             NaN            NaN       NaN   \n",
       "652      1004    8.0        49.0           354.0           25.0  27981.74   \n",
       "651      1004   11.0        54.0           476.0           25.0  21850.78   \n",
       "655      1004    9.0        42.0           301.0           21.0  18852.72   \n",
       "653      1004    7.0        49.0           381.0           26.0  24516.62   \n",
       "656      1004   12.0        50.0           427.0           31.0  21389.29   \n",
       "657      1004   10.0        61.0           365.0           24.0  14541.63   \n",
       "658      1004    5.0        21.0           193.0            7.0   6547.21   \n",
       "654      1004    6.0        44.0           275.0           18.0  20672.82   \n",
       "659      1005   12.0        59.0           496.0           11.0  17140.17   \n",
       "1        1006   11.0         2.0            10.0           15.0   2068.37   \n",
       "660      1007   11.0        80.0           524.0           48.0  24334.00   \n",
       "661      1007    9.0        63.0           399.0           47.0  28123.95   \n",
       "662      1007   12.0        87.0           617.0           50.0  29069.28   \n",
       "663      1007    8.0        70.0           456.0           51.0  24439.88   \n",
       "2        1008   12.0        85.0           634.0           26.0  14689.33   \n",
       "4        1008   10.0        71.0           476.0           21.0  17106.99   \n",
       "3        1008   11.0        63.0           446.0           37.0  23676.72   \n",
       "671      1009    8.0       109.0           731.0            NaN  24557.52   \n",
       "665      1009    5.0        71.0           534.0            NaN  20389.40   \n",
       "666      1009    9.0       116.0           776.0            NaN  20962.40   \n",
       "\n",
       "                                        city      plan  messages_included  \\\n",
       "0      Atlanta-Sandy Springs-Roswell, GA MSA  ultimate               1000   \n",
       "645          Seattle-Tacoma-Bellevue, WA MSA      surf                 50   \n",
       "646          Seattle-Tacoma-Bellevue, WA MSA      surf                 50   \n",
       "647          Seattle-Tacoma-Bellevue, WA MSA      surf                 50   \n",
       "644          Seattle-Tacoma-Bellevue, WA MSA      surf                 50   \n",
       "643          Seattle-Tacoma-Bellevue, WA MSA      surf                 50   \n",
       "650     Las Vegas-Henderson-Paradise, NV MSA      surf                 50   \n",
       "649     Las Vegas-Henderson-Paradise, NV MSA      surf                 50   \n",
       "648     Las Vegas-Henderson-Paradise, NV MSA      surf                 50   \n",
       "2084                           Tulsa, OK MSA      surf                 50   \n",
       "652          Seattle-Tacoma-Bellevue, WA MSA      surf                 50   \n",
       "651          Seattle-Tacoma-Bellevue, WA MSA      surf                 50   \n",
       "655          Seattle-Tacoma-Bellevue, WA MSA      surf                 50   \n",
       "653          Seattle-Tacoma-Bellevue, WA MSA      surf                 50   \n",
       "656          Seattle-Tacoma-Bellevue, WA MSA      surf                 50   \n",
       "657          Seattle-Tacoma-Bellevue, WA MSA      surf                 50   \n",
       "658          Seattle-Tacoma-Bellevue, WA MSA      surf                 50   \n",
       "654          Seattle-Tacoma-Bellevue, WA MSA      surf                 50   \n",
       "659      Dallas-Fort Worth-Arlington, TX MSA      surf                 50   \n",
       "1     San Francisco-Oakland-Berkeley, CA MSA  ultimate               1000   \n",
       "660            Grand Rapids-Kentwood, MI MSA      surf                 50   \n",
       "661            Grand Rapids-Kentwood, MI MSA      surf                 50   \n",
       "662            Grand Rapids-Kentwood, MI MSA      surf                 50   \n",
       "663            Grand Rapids-Kentwood, MI MSA      surf                 50   \n",
       "2          Orlando-Kissimmee-Sanford, FL MSA  ultimate               1000   \n",
       "4          Orlando-Kissimmee-Sanford, FL MSA  ultimate               1000   \n",
       "3          Orlando-Kissimmee-Sanford, FL MSA  ultimate               1000   \n",
       "671   San Jose-Sunnyvale-Santa Clara, CA MSA      surf                 50   \n",
       "665   San Jose-Sunnyvale-Santa Clara, CA MSA      surf                 50   \n",
       "666   San Jose-Sunnyvale-Santa Clara, CA MSA      surf                 50   \n",
       "\n",
       "      mb_per_month_included  minutes_included  usd_monthly_pay  usd_per_gb  \\\n",
       "0                     30720              3000               70           7   \n",
       "645                   15360               500               20          10   \n",
       "646                   15360               500               20          10   \n",
       "647                   15360               500               20          10   \n",
       "644                   15360               500               20          10   \n",
       "643                   15360               500               20          10   \n",
       "650                   15360               500               20          10   \n",
       "649                   15360               500               20          10   \n",
       "648                   15360               500               20          10   \n",
       "2084                  15360               500               20          10   \n",
       "652                   15360               500               20          10   \n",
       "651                   15360               500               20          10   \n",
       "655                   15360               500               20          10   \n",
       "653                   15360               500               20          10   \n",
       "656                   15360               500               20          10   \n",
       "657                   15360               500               20          10   \n",
       "658                   15360               500               20          10   \n",
       "654                   15360               500               20          10   \n",
       "659                   15360               500               20          10   \n",
       "1                     30720              3000               70           7   \n",
       "660                   15360               500               20          10   \n",
       "661                   15360               500               20          10   \n",
       "662                   15360               500               20          10   \n",
       "663                   15360               500               20          10   \n",
       "2                     30720              3000               70           7   \n",
       "4                     30720              3000               70           7   \n",
       "3                     30720              3000               70           7   \n",
       "671                   15360               500               20          10   \n",
       "665                   15360               500               20          10   \n",
       "666                   15360               500               20          10   \n",
       "\n",
       "      usd_per_message  usd_per_minute  minutes_topay  rev_min_monthly  \n",
       "0                0.01            0.01            0.0             0.00  \n",
       "645              0.03            0.03            0.0             0.00  \n",
       "646              0.03            0.03            0.0             0.00  \n",
       "647              0.03            0.03            0.0             0.00  \n",
       "644              0.03            0.03            0.0             0.00  \n",
       "643              0.03            0.03            0.0             0.00  \n",
       "650              0.03            0.03            0.0             0.00  \n",
       "649              0.03            0.03            0.0             0.00  \n",
       "648              0.03            0.03            0.0             0.00  \n",
       "2084             0.03            0.03            0.0             0.00  \n",
       "652              0.03            0.03            0.0             0.00  \n",
       "651              0.03            0.03            0.0             0.00  \n",
       "655              0.03            0.03            0.0             0.00  \n",
       "653              0.03            0.03            0.0             0.00  \n",
       "656              0.03            0.03            0.0             0.00  \n",
       "657              0.03            0.03            0.0             0.00  \n",
       "658              0.03            0.03            0.0             0.00  \n",
       "654              0.03            0.03            0.0             0.00  \n",
       "659              0.03            0.03            0.0             0.00  \n",
       "1                0.01            0.01            0.0             0.00  \n",
       "660              0.03            0.03           24.0             0.72  \n",
       "661              0.03            0.03            0.0             0.00  \n",
       "662              0.03            0.03          117.0             3.51  \n",
       "663              0.03            0.03            0.0             0.00  \n",
       "2                0.01            0.01            0.0             0.00  \n",
       "4                0.01            0.01            0.0             0.00  \n",
       "3                0.01            0.01            0.0             0.00  \n",
       "671              0.03            0.03          231.0             6.93  \n",
       "665              0.03            0.03           34.0             1.02  \n",
       "666              0.03            0.03          276.0             8.28  "
      ]
     },
     "execution_count": 27,
     "metadata": {},
     "output_type": "execute_result"
    }
   ],
   "source": [
    "#revenue from minute fees\n",
    "revenue['rev_min_monthly'] = np.where(\n",
    "    revenue['minutes_topay'] > 0.\n",
    "    , revenue['minutes_topay'] * revenue['usd_per_minute'], 0.)\n",
    "\n",
    "revenue.head(30)\n",
    "#next, do the same process for text and data"
   ]
  },
  {
   "cell_type": "code",
   "execution_count": 28,
   "metadata": {
    "scrolled": true
   },
   "outputs": [
    {
     "data": {
      "text/html": [
       "<div>\n",
       "<style scoped>\n",
       "    .dataframe tbody tr th:only-of-type {\n",
       "        vertical-align: middle;\n",
       "    }\n",
       "\n",
       "    .dataframe tbody tr th {\n",
       "        vertical-align: top;\n",
       "    }\n",
       "\n",
       "    .dataframe thead th {\n",
       "        text-align: right;\n",
       "    }\n",
       "</style>\n",
       "<table border=\"1\" class=\"dataframe\">\n",
       "  <thead>\n",
       "    <tr style=\"text-align: right;\">\n",
       "      <th></th>\n",
       "      <th>user_id</th>\n",
       "      <th>month</th>\n",
       "      <th>call_count</th>\n",
       "      <th>duration_total</th>\n",
       "      <th>message_count</th>\n",
       "      <th>mb_used</th>\n",
       "      <th>city</th>\n",
       "      <th>plan</th>\n",
       "      <th>messages_included</th>\n",
       "      <th>mb_per_month_included</th>\n",
       "      <th>minutes_included</th>\n",
       "      <th>usd_monthly_pay</th>\n",
       "      <th>usd_per_gb</th>\n",
       "      <th>usd_per_message</th>\n",
       "      <th>usd_per_minute</th>\n",
       "      <th>minutes_topay</th>\n",
       "      <th>rev_min_monthly</th>\n",
       "      <th>messages_topay</th>\n",
       "      <th>rev_mess_monthly</th>\n",
       "    </tr>\n",
       "  </thead>\n",
       "  <tbody>\n",
       "    <tr>\n",
       "      <td>0</td>\n",
       "      <td>1000</td>\n",
       "      <td>12.0</td>\n",
       "      <td>16.0</td>\n",
       "      <td>124.0</td>\n",
       "      <td>11.0</td>\n",
       "      <td>1901.47</td>\n",
       "      <td>Atlanta-Sandy Springs-Roswell, GA MSA</td>\n",
       "      <td>ultimate</td>\n",
       "      <td>1000</td>\n",
       "      <td>30720</td>\n",
       "      <td>3000</td>\n",
       "      <td>70</td>\n",
       "      <td>7</td>\n",
       "      <td>0.01</td>\n",
       "      <td>0.01</td>\n",
       "      <td>0.0</td>\n",
       "      <td>0.00</td>\n",
       "      <td>0.0</td>\n",
       "      <td>0.00</td>\n",
       "    </tr>\n",
       "    <tr>\n",
       "      <td>645</td>\n",
       "      <td>1001</td>\n",
       "      <td>12.0</td>\n",
       "      <td>56.0</td>\n",
       "      <td>412.0</td>\n",
       "      <td>44.0</td>\n",
       "      <td>19369.18</td>\n",
       "      <td>Seattle-Tacoma-Bellevue, WA MSA</td>\n",
       "      <td>surf</td>\n",
       "      <td>50</td>\n",
       "      <td>15360</td>\n",
       "      <td>500</td>\n",
       "      <td>20</td>\n",
       "      <td>10</td>\n",
       "      <td>0.03</td>\n",
       "      <td>0.03</td>\n",
       "      <td>0.0</td>\n",
       "      <td>0.00</td>\n",
       "      <td>0.0</td>\n",
       "      <td>0.00</td>\n",
       "    </tr>\n",
       "    <tr>\n",
       "      <td>646</td>\n",
       "      <td>1001</td>\n",
       "      <td>11.0</td>\n",
       "      <td>64.0</td>\n",
       "      <td>426.0</td>\n",
       "      <td>36.0</td>\n",
       "      <td>18504.30</td>\n",
       "      <td>Seattle-Tacoma-Bellevue, WA MSA</td>\n",
       "      <td>surf</td>\n",
       "      <td>50</td>\n",
       "      <td>15360</td>\n",
       "      <td>500</td>\n",
       "      <td>20</td>\n",
       "      <td>10</td>\n",
       "      <td>0.03</td>\n",
       "      <td>0.03</td>\n",
       "      <td>0.0</td>\n",
       "      <td>0.00</td>\n",
       "      <td>0.0</td>\n",
       "      <td>0.00</td>\n",
       "    </tr>\n",
       "    <tr>\n",
       "      <td>647</td>\n",
       "      <td>1001</td>\n",
       "      <td>8.0</td>\n",
       "      <td>27.0</td>\n",
       "      <td>182.0</td>\n",
       "      <td>30.0</td>\n",
       "      <td>6919.15</td>\n",
       "      <td>Seattle-Tacoma-Bellevue, WA MSA</td>\n",
       "      <td>surf</td>\n",
       "      <td>50</td>\n",
       "      <td>15360</td>\n",
       "      <td>500</td>\n",
       "      <td>20</td>\n",
       "      <td>10</td>\n",
       "      <td>0.03</td>\n",
       "      <td>0.03</td>\n",
       "      <td>0.0</td>\n",
       "      <td>0.00</td>\n",
       "      <td>0.0</td>\n",
       "      <td>0.00</td>\n",
       "    </tr>\n",
       "    <tr>\n",
       "      <td>644</td>\n",
       "      <td>1001</td>\n",
       "      <td>10.0</td>\n",
       "      <td>65.0</td>\n",
       "      <td>393.0</td>\n",
       "      <td>53.0</td>\n",
       "      <td>22330.49</td>\n",
       "      <td>Seattle-Tacoma-Bellevue, WA MSA</td>\n",
       "      <td>surf</td>\n",
       "      <td>50</td>\n",
       "      <td>15360</td>\n",
       "      <td>500</td>\n",
       "      <td>20</td>\n",
       "      <td>10</td>\n",
       "      <td>0.03</td>\n",
       "      <td>0.03</td>\n",
       "      <td>0.0</td>\n",
       "      <td>0.00</td>\n",
       "      <td>3.0</td>\n",
       "      <td>0.09</td>\n",
       "    </tr>\n",
       "    <tr>\n",
       "      <td>643</td>\n",
       "      <td>1001</td>\n",
       "      <td>9.0</td>\n",
       "      <td>49.0</td>\n",
       "      <td>315.0</td>\n",
       "      <td>44.0</td>\n",
       "      <td>13314.82</td>\n",
       "      <td>Seattle-Tacoma-Bellevue, WA MSA</td>\n",
       "      <td>surf</td>\n",
       "      <td>50</td>\n",
       "      <td>15360</td>\n",
       "      <td>500</td>\n",
       "      <td>20</td>\n",
       "      <td>10</td>\n",
       "      <td>0.03</td>\n",
       "      <td>0.03</td>\n",
       "      <td>0.0</td>\n",
       "      <td>0.00</td>\n",
       "      <td>0.0</td>\n",
       "      <td>0.00</td>\n",
       "    </tr>\n",
       "    <tr>\n",
       "      <td>650</td>\n",
       "      <td>1002</td>\n",
       "      <td>10.0</td>\n",
       "      <td>11.0</td>\n",
       "      <td>59.0</td>\n",
       "      <td>15.0</td>\n",
       "      <td>6552.01</td>\n",
       "      <td>Las Vegas-Henderson-Paradise, NV MSA</td>\n",
       "      <td>surf</td>\n",
       "      <td>50</td>\n",
       "      <td>15360</td>\n",
       "      <td>500</td>\n",
       "      <td>20</td>\n",
       "      <td>10</td>\n",
       "      <td>0.03</td>\n",
       "      <td>0.03</td>\n",
       "      <td>0.0</td>\n",
       "      <td>0.00</td>\n",
       "      <td>0.0</td>\n",
       "      <td>0.00</td>\n",
       "    </tr>\n",
       "    <tr>\n",
       "      <td>649</td>\n",
       "      <td>1002</td>\n",
       "      <td>12.0</td>\n",
       "      <td>47.0</td>\n",
       "      <td>384.0</td>\n",
       "      <td>41.0</td>\n",
       "      <td>14396.24</td>\n",
       "      <td>Las Vegas-Henderson-Paradise, NV MSA</td>\n",
       "      <td>surf</td>\n",
       "      <td>50</td>\n",
       "      <td>15360</td>\n",
       "      <td>500</td>\n",
       "      <td>20</td>\n",
       "      <td>10</td>\n",
       "      <td>0.03</td>\n",
       "      <td>0.03</td>\n",
       "      <td>0.0</td>\n",
       "      <td>0.00</td>\n",
       "      <td>0.0</td>\n",
       "      <td>0.00</td>\n",
       "    </tr>\n",
       "    <tr>\n",
       "      <td>648</td>\n",
       "      <td>1002</td>\n",
       "      <td>11.0</td>\n",
       "      <td>55.0</td>\n",
       "      <td>386.0</td>\n",
       "      <td>32.0</td>\n",
       "      <td>19345.08</td>\n",
       "      <td>Las Vegas-Henderson-Paradise, NV MSA</td>\n",
       "      <td>surf</td>\n",
       "      <td>50</td>\n",
       "      <td>15360</td>\n",
       "      <td>500</td>\n",
       "      <td>20</td>\n",
       "      <td>10</td>\n",
       "      <td>0.03</td>\n",
       "      <td>0.03</td>\n",
       "      <td>0.0</td>\n",
       "      <td>0.00</td>\n",
       "      <td>0.0</td>\n",
       "      <td>0.00</td>\n",
       "    </tr>\n",
       "    <tr>\n",
       "      <td>2084</td>\n",
       "      <td>1003</td>\n",
       "      <td>NaN</td>\n",
       "      <td>NaN</td>\n",
       "      <td>NaN</td>\n",
       "      <td>NaN</td>\n",
       "      <td>NaN</td>\n",
       "      <td>Tulsa, OK MSA</td>\n",
       "      <td>surf</td>\n",
       "      <td>50</td>\n",
       "      <td>15360</td>\n",
       "      <td>500</td>\n",
       "      <td>20</td>\n",
       "      <td>10</td>\n",
       "      <td>0.03</td>\n",
       "      <td>0.03</td>\n",
       "      <td>0.0</td>\n",
       "      <td>0.00</td>\n",
       "      <td>0.0</td>\n",
       "      <td>0.00</td>\n",
       "    </tr>\n",
       "    <tr>\n",
       "      <td>652</td>\n",
       "      <td>1004</td>\n",
       "      <td>8.0</td>\n",
       "      <td>49.0</td>\n",
       "      <td>354.0</td>\n",
       "      <td>25.0</td>\n",
       "      <td>27981.74</td>\n",
       "      <td>Seattle-Tacoma-Bellevue, WA MSA</td>\n",
       "      <td>surf</td>\n",
       "      <td>50</td>\n",
       "      <td>15360</td>\n",
       "      <td>500</td>\n",
       "      <td>20</td>\n",
       "      <td>10</td>\n",
       "      <td>0.03</td>\n",
       "      <td>0.03</td>\n",
       "      <td>0.0</td>\n",
       "      <td>0.00</td>\n",
       "      <td>0.0</td>\n",
       "      <td>0.00</td>\n",
       "    </tr>\n",
       "    <tr>\n",
       "      <td>651</td>\n",
       "      <td>1004</td>\n",
       "      <td>11.0</td>\n",
       "      <td>54.0</td>\n",
       "      <td>476.0</td>\n",
       "      <td>25.0</td>\n",
       "      <td>21850.78</td>\n",
       "      <td>Seattle-Tacoma-Bellevue, WA MSA</td>\n",
       "      <td>surf</td>\n",
       "      <td>50</td>\n",
       "      <td>15360</td>\n",
       "      <td>500</td>\n",
       "      <td>20</td>\n",
       "      <td>10</td>\n",
       "      <td>0.03</td>\n",
       "      <td>0.03</td>\n",
       "      <td>0.0</td>\n",
       "      <td>0.00</td>\n",
       "      <td>0.0</td>\n",
       "      <td>0.00</td>\n",
       "    </tr>\n",
       "    <tr>\n",
       "      <td>655</td>\n",
       "      <td>1004</td>\n",
       "      <td>9.0</td>\n",
       "      <td>42.0</td>\n",
       "      <td>301.0</td>\n",
       "      <td>21.0</td>\n",
       "      <td>18852.72</td>\n",
       "      <td>Seattle-Tacoma-Bellevue, WA MSA</td>\n",
       "      <td>surf</td>\n",
       "      <td>50</td>\n",
       "      <td>15360</td>\n",
       "      <td>500</td>\n",
       "      <td>20</td>\n",
       "      <td>10</td>\n",
       "      <td>0.03</td>\n",
       "      <td>0.03</td>\n",
       "      <td>0.0</td>\n",
       "      <td>0.00</td>\n",
       "      <td>0.0</td>\n",
       "      <td>0.00</td>\n",
       "    </tr>\n",
       "    <tr>\n",
       "      <td>653</td>\n",
       "      <td>1004</td>\n",
       "      <td>7.0</td>\n",
       "      <td>49.0</td>\n",
       "      <td>381.0</td>\n",
       "      <td>26.0</td>\n",
       "      <td>24516.62</td>\n",
       "      <td>Seattle-Tacoma-Bellevue, WA MSA</td>\n",
       "      <td>surf</td>\n",
       "      <td>50</td>\n",
       "      <td>15360</td>\n",
       "      <td>500</td>\n",
       "      <td>20</td>\n",
       "      <td>10</td>\n",
       "      <td>0.03</td>\n",
       "      <td>0.03</td>\n",
       "      <td>0.0</td>\n",
       "      <td>0.00</td>\n",
       "      <td>0.0</td>\n",
       "      <td>0.00</td>\n",
       "    </tr>\n",
       "    <tr>\n",
       "      <td>656</td>\n",
       "      <td>1004</td>\n",
       "      <td>12.0</td>\n",
       "      <td>50.0</td>\n",
       "      <td>427.0</td>\n",
       "      <td>31.0</td>\n",
       "      <td>21389.29</td>\n",
       "      <td>Seattle-Tacoma-Bellevue, WA MSA</td>\n",
       "      <td>surf</td>\n",
       "      <td>50</td>\n",
       "      <td>15360</td>\n",
       "      <td>500</td>\n",
       "      <td>20</td>\n",
       "      <td>10</td>\n",
       "      <td>0.03</td>\n",
       "      <td>0.03</td>\n",
       "      <td>0.0</td>\n",
       "      <td>0.00</td>\n",
       "      <td>0.0</td>\n",
       "      <td>0.00</td>\n",
       "    </tr>\n",
       "    <tr>\n",
       "      <td>657</td>\n",
       "      <td>1004</td>\n",
       "      <td>10.0</td>\n",
       "      <td>61.0</td>\n",
       "      <td>365.0</td>\n",
       "      <td>24.0</td>\n",
       "      <td>14541.63</td>\n",
       "      <td>Seattle-Tacoma-Bellevue, WA MSA</td>\n",
       "      <td>surf</td>\n",
       "      <td>50</td>\n",
       "      <td>15360</td>\n",
       "      <td>500</td>\n",
       "      <td>20</td>\n",
       "      <td>10</td>\n",
       "      <td>0.03</td>\n",
       "      <td>0.03</td>\n",
       "      <td>0.0</td>\n",
       "      <td>0.00</td>\n",
       "      <td>0.0</td>\n",
       "      <td>0.00</td>\n",
       "    </tr>\n",
       "    <tr>\n",
       "      <td>658</td>\n",
       "      <td>1004</td>\n",
       "      <td>5.0</td>\n",
       "      <td>21.0</td>\n",
       "      <td>193.0</td>\n",
       "      <td>7.0</td>\n",
       "      <td>6547.21</td>\n",
       "      <td>Seattle-Tacoma-Bellevue, WA MSA</td>\n",
       "      <td>surf</td>\n",
       "      <td>50</td>\n",
       "      <td>15360</td>\n",
       "      <td>500</td>\n",
       "      <td>20</td>\n",
       "      <td>10</td>\n",
       "      <td>0.03</td>\n",
       "      <td>0.03</td>\n",
       "      <td>0.0</td>\n",
       "      <td>0.00</td>\n",
       "      <td>0.0</td>\n",
       "      <td>0.00</td>\n",
       "    </tr>\n",
       "    <tr>\n",
       "      <td>654</td>\n",
       "      <td>1004</td>\n",
       "      <td>6.0</td>\n",
       "      <td>44.0</td>\n",
       "      <td>275.0</td>\n",
       "      <td>18.0</td>\n",
       "      <td>20672.82</td>\n",
       "      <td>Seattle-Tacoma-Bellevue, WA MSA</td>\n",
       "      <td>surf</td>\n",
       "      <td>50</td>\n",
       "      <td>15360</td>\n",
       "      <td>500</td>\n",
       "      <td>20</td>\n",
       "      <td>10</td>\n",
       "      <td>0.03</td>\n",
       "      <td>0.03</td>\n",
       "      <td>0.0</td>\n",
       "      <td>0.00</td>\n",
       "      <td>0.0</td>\n",
       "      <td>0.00</td>\n",
       "    </tr>\n",
       "    <tr>\n",
       "      <td>659</td>\n",
       "      <td>1005</td>\n",
       "      <td>12.0</td>\n",
       "      <td>59.0</td>\n",
       "      <td>496.0</td>\n",
       "      <td>11.0</td>\n",
       "      <td>17140.17</td>\n",
       "      <td>Dallas-Fort Worth-Arlington, TX MSA</td>\n",
       "      <td>surf</td>\n",
       "      <td>50</td>\n",
       "      <td>15360</td>\n",
       "      <td>500</td>\n",
       "      <td>20</td>\n",
       "      <td>10</td>\n",
       "      <td>0.03</td>\n",
       "      <td>0.03</td>\n",
       "      <td>0.0</td>\n",
       "      <td>0.00</td>\n",
       "      <td>0.0</td>\n",
       "      <td>0.00</td>\n",
       "    </tr>\n",
       "    <tr>\n",
       "      <td>1</td>\n",
       "      <td>1006</td>\n",
       "      <td>11.0</td>\n",
       "      <td>2.0</td>\n",
       "      <td>10.0</td>\n",
       "      <td>15.0</td>\n",
       "      <td>2068.37</td>\n",
       "      <td>San Francisco-Oakland-Berkeley, CA MSA</td>\n",
       "      <td>ultimate</td>\n",
       "      <td>1000</td>\n",
       "      <td>30720</td>\n",
       "      <td>3000</td>\n",
       "      <td>70</td>\n",
       "      <td>7</td>\n",
       "      <td>0.01</td>\n",
       "      <td>0.01</td>\n",
       "      <td>0.0</td>\n",
       "      <td>0.00</td>\n",
       "      <td>0.0</td>\n",
       "      <td>0.00</td>\n",
       "    </tr>\n",
       "    <tr>\n",
       "      <td>660</td>\n",
       "      <td>1007</td>\n",
       "      <td>11.0</td>\n",
       "      <td>80.0</td>\n",
       "      <td>524.0</td>\n",
       "      <td>48.0</td>\n",
       "      <td>24334.00</td>\n",
       "      <td>Grand Rapids-Kentwood, MI MSA</td>\n",
       "      <td>surf</td>\n",
       "      <td>50</td>\n",
       "      <td>15360</td>\n",
       "      <td>500</td>\n",
       "      <td>20</td>\n",
       "      <td>10</td>\n",
       "      <td>0.03</td>\n",
       "      <td>0.03</td>\n",
       "      <td>24.0</td>\n",
       "      <td>0.72</td>\n",
       "      <td>0.0</td>\n",
       "      <td>0.00</td>\n",
       "    </tr>\n",
       "    <tr>\n",
       "      <td>661</td>\n",
       "      <td>1007</td>\n",
       "      <td>9.0</td>\n",
       "      <td>63.0</td>\n",
       "      <td>399.0</td>\n",
       "      <td>47.0</td>\n",
       "      <td>28123.95</td>\n",
       "      <td>Grand Rapids-Kentwood, MI MSA</td>\n",
       "      <td>surf</td>\n",
       "      <td>50</td>\n",
       "      <td>15360</td>\n",
       "      <td>500</td>\n",
       "      <td>20</td>\n",
       "      <td>10</td>\n",
       "      <td>0.03</td>\n",
       "      <td>0.03</td>\n",
       "      <td>0.0</td>\n",
       "      <td>0.00</td>\n",
       "      <td>0.0</td>\n",
       "      <td>0.00</td>\n",
       "    </tr>\n",
       "    <tr>\n",
       "      <td>662</td>\n",
       "      <td>1007</td>\n",
       "      <td>12.0</td>\n",
       "      <td>87.0</td>\n",
       "      <td>617.0</td>\n",
       "      <td>50.0</td>\n",
       "      <td>29069.28</td>\n",
       "      <td>Grand Rapids-Kentwood, MI MSA</td>\n",
       "      <td>surf</td>\n",
       "      <td>50</td>\n",
       "      <td>15360</td>\n",
       "      <td>500</td>\n",
       "      <td>20</td>\n",
       "      <td>10</td>\n",
       "      <td>0.03</td>\n",
       "      <td>0.03</td>\n",
       "      <td>117.0</td>\n",
       "      <td>3.51</td>\n",
       "      <td>0.0</td>\n",
       "      <td>0.00</td>\n",
       "    </tr>\n",
       "    <tr>\n",
       "      <td>663</td>\n",
       "      <td>1007</td>\n",
       "      <td>8.0</td>\n",
       "      <td>70.0</td>\n",
       "      <td>456.0</td>\n",
       "      <td>51.0</td>\n",
       "      <td>24439.88</td>\n",
       "      <td>Grand Rapids-Kentwood, MI MSA</td>\n",
       "      <td>surf</td>\n",
       "      <td>50</td>\n",
       "      <td>15360</td>\n",
       "      <td>500</td>\n",
       "      <td>20</td>\n",
       "      <td>10</td>\n",
       "      <td>0.03</td>\n",
       "      <td>0.03</td>\n",
       "      <td>0.0</td>\n",
       "      <td>0.00</td>\n",
       "      <td>1.0</td>\n",
       "      <td>0.03</td>\n",
       "    </tr>\n",
       "    <tr>\n",
       "      <td>2</td>\n",
       "      <td>1008</td>\n",
       "      <td>12.0</td>\n",
       "      <td>85.0</td>\n",
       "      <td>634.0</td>\n",
       "      <td>26.0</td>\n",
       "      <td>14689.33</td>\n",
       "      <td>Orlando-Kissimmee-Sanford, FL MSA</td>\n",
       "      <td>ultimate</td>\n",
       "      <td>1000</td>\n",
       "      <td>30720</td>\n",
       "      <td>3000</td>\n",
       "      <td>70</td>\n",
       "      <td>7</td>\n",
       "      <td>0.01</td>\n",
       "      <td>0.01</td>\n",
       "      <td>0.0</td>\n",
       "      <td>0.00</td>\n",
       "      <td>0.0</td>\n",
       "      <td>0.00</td>\n",
       "    </tr>\n",
       "    <tr>\n",
       "      <td>4</td>\n",
       "      <td>1008</td>\n",
       "      <td>10.0</td>\n",
       "      <td>71.0</td>\n",
       "      <td>476.0</td>\n",
       "      <td>21.0</td>\n",
       "      <td>17106.99</td>\n",
       "      <td>Orlando-Kissimmee-Sanford, FL MSA</td>\n",
       "      <td>ultimate</td>\n",
       "      <td>1000</td>\n",
       "      <td>30720</td>\n",
       "      <td>3000</td>\n",
       "      <td>70</td>\n",
       "      <td>7</td>\n",
       "      <td>0.01</td>\n",
       "      <td>0.01</td>\n",
       "      <td>0.0</td>\n",
       "      <td>0.00</td>\n",
       "      <td>0.0</td>\n",
       "      <td>0.00</td>\n",
       "    </tr>\n",
       "    <tr>\n",
       "      <td>3</td>\n",
       "      <td>1008</td>\n",
       "      <td>11.0</td>\n",
       "      <td>63.0</td>\n",
       "      <td>446.0</td>\n",
       "      <td>37.0</td>\n",
       "      <td>23676.72</td>\n",
       "      <td>Orlando-Kissimmee-Sanford, FL MSA</td>\n",
       "      <td>ultimate</td>\n",
       "      <td>1000</td>\n",
       "      <td>30720</td>\n",
       "      <td>3000</td>\n",
       "      <td>70</td>\n",
       "      <td>7</td>\n",
       "      <td>0.01</td>\n",
       "      <td>0.01</td>\n",
       "      <td>0.0</td>\n",
       "      <td>0.00</td>\n",
       "      <td>0.0</td>\n",
       "      <td>0.00</td>\n",
       "    </tr>\n",
       "    <tr>\n",
       "      <td>671</td>\n",
       "      <td>1009</td>\n",
       "      <td>8.0</td>\n",
       "      <td>109.0</td>\n",
       "      <td>731.0</td>\n",
       "      <td>NaN</td>\n",
       "      <td>24557.52</td>\n",
       "      <td>San Jose-Sunnyvale-Santa Clara, CA MSA</td>\n",
       "      <td>surf</td>\n",
       "      <td>50</td>\n",
       "      <td>15360</td>\n",
       "      <td>500</td>\n",
       "      <td>20</td>\n",
       "      <td>10</td>\n",
       "      <td>0.03</td>\n",
       "      <td>0.03</td>\n",
       "      <td>231.0</td>\n",
       "      <td>6.93</td>\n",
       "      <td>0.0</td>\n",
       "      <td>0.00</td>\n",
       "    </tr>\n",
       "    <tr>\n",
       "      <td>665</td>\n",
       "      <td>1009</td>\n",
       "      <td>5.0</td>\n",
       "      <td>71.0</td>\n",
       "      <td>534.0</td>\n",
       "      <td>NaN</td>\n",
       "      <td>20389.40</td>\n",
       "      <td>San Jose-Sunnyvale-Santa Clara, CA MSA</td>\n",
       "      <td>surf</td>\n",
       "      <td>50</td>\n",
       "      <td>15360</td>\n",
       "      <td>500</td>\n",
       "      <td>20</td>\n",
       "      <td>10</td>\n",
       "      <td>0.03</td>\n",
       "      <td>0.03</td>\n",
       "      <td>34.0</td>\n",
       "      <td>1.02</td>\n",
       "      <td>0.0</td>\n",
       "      <td>0.00</td>\n",
       "    </tr>\n",
       "    <tr>\n",
       "      <td>666</td>\n",
       "      <td>1009</td>\n",
       "      <td>9.0</td>\n",
       "      <td>116.0</td>\n",
       "      <td>776.0</td>\n",
       "      <td>NaN</td>\n",
       "      <td>20962.40</td>\n",
       "      <td>San Jose-Sunnyvale-Santa Clara, CA MSA</td>\n",
       "      <td>surf</td>\n",
       "      <td>50</td>\n",
       "      <td>15360</td>\n",
       "      <td>500</td>\n",
       "      <td>20</td>\n",
       "      <td>10</td>\n",
       "      <td>0.03</td>\n",
       "      <td>0.03</td>\n",
       "      <td>276.0</td>\n",
       "      <td>8.28</td>\n",
       "      <td>0.0</td>\n",
       "      <td>0.00</td>\n",
       "    </tr>\n",
       "  </tbody>\n",
       "</table>\n",
       "</div>"
      ],
      "text/plain": [
       "      user_id  month  call_count  duration_total  message_count   mb_used  \\\n",
       "0        1000   12.0        16.0           124.0           11.0   1901.47   \n",
       "645      1001   12.0        56.0           412.0           44.0  19369.18   \n",
       "646      1001   11.0        64.0           426.0           36.0  18504.30   \n",
       "647      1001    8.0        27.0           182.0           30.0   6919.15   \n",
       "644      1001   10.0        65.0           393.0           53.0  22330.49   \n",
       "643      1001    9.0        49.0           315.0           44.0  13314.82   \n",
       "650      1002   10.0        11.0            59.0           15.0   6552.01   \n",
       "649      1002   12.0        47.0           384.0           41.0  14396.24   \n",
       "648      1002   11.0        55.0           386.0           32.0  19345.08   \n",
       "2084     1003    NaN         NaN             NaN            NaN       NaN   \n",
       "652      1004    8.0        49.0           354.0           25.0  27981.74   \n",
       "651      1004   11.0        54.0           476.0           25.0  21850.78   \n",
       "655      1004    9.0        42.0           301.0           21.0  18852.72   \n",
       "653      1004    7.0        49.0           381.0           26.0  24516.62   \n",
       "656      1004   12.0        50.0           427.0           31.0  21389.29   \n",
       "657      1004   10.0        61.0           365.0           24.0  14541.63   \n",
       "658      1004    5.0        21.0           193.0            7.0   6547.21   \n",
       "654      1004    6.0        44.0           275.0           18.0  20672.82   \n",
       "659      1005   12.0        59.0           496.0           11.0  17140.17   \n",
       "1        1006   11.0         2.0            10.0           15.0   2068.37   \n",
       "660      1007   11.0        80.0           524.0           48.0  24334.00   \n",
       "661      1007    9.0        63.0           399.0           47.0  28123.95   \n",
       "662      1007   12.0        87.0           617.0           50.0  29069.28   \n",
       "663      1007    8.0        70.0           456.0           51.0  24439.88   \n",
       "2        1008   12.0        85.0           634.0           26.0  14689.33   \n",
       "4        1008   10.0        71.0           476.0           21.0  17106.99   \n",
       "3        1008   11.0        63.0           446.0           37.0  23676.72   \n",
       "671      1009    8.0       109.0           731.0            NaN  24557.52   \n",
       "665      1009    5.0        71.0           534.0            NaN  20389.40   \n",
       "666      1009    9.0       116.0           776.0            NaN  20962.40   \n",
       "\n",
       "                                        city      plan  messages_included  \\\n",
       "0      Atlanta-Sandy Springs-Roswell, GA MSA  ultimate               1000   \n",
       "645          Seattle-Tacoma-Bellevue, WA MSA      surf                 50   \n",
       "646          Seattle-Tacoma-Bellevue, WA MSA      surf                 50   \n",
       "647          Seattle-Tacoma-Bellevue, WA MSA      surf                 50   \n",
       "644          Seattle-Tacoma-Bellevue, WA MSA      surf                 50   \n",
       "643          Seattle-Tacoma-Bellevue, WA MSA      surf                 50   \n",
       "650     Las Vegas-Henderson-Paradise, NV MSA      surf                 50   \n",
       "649     Las Vegas-Henderson-Paradise, NV MSA      surf                 50   \n",
       "648     Las Vegas-Henderson-Paradise, NV MSA      surf                 50   \n",
       "2084                           Tulsa, OK MSA      surf                 50   \n",
       "652          Seattle-Tacoma-Bellevue, WA MSA      surf                 50   \n",
       "651          Seattle-Tacoma-Bellevue, WA MSA      surf                 50   \n",
       "655          Seattle-Tacoma-Bellevue, WA MSA      surf                 50   \n",
       "653          Seattle-Tacoma-Bellevue, WA MSA      surf                 50   \n",
       "656          Seattle-Tacoma-Bellevue, WA MSA      surf                 50   \n",
       "657          Seattle-Tacoma-Bellevue, WA MSA      surf                 50   \n",
       "658          Seattle-Tacoma-Bellevue, WA MSA      surf                 50   \n",
       "654          Seattle-Tacoma-Bellevue, WA MSA      surf                 50   \n",
       "659      Dallas-Fort Worth-Arlington, TX MSA      surf                 50   \n",
       "1     San Francisco-Oakland-Berkeley, CA MSA  ultimate               1000   \n",
       "660            Grand Rapids-Kentwood, MI MSA      surf                 50   \n",
       "661            Grand Rapids-Kentwood, MI MSA      surf                 50   \n",
       "662            Grand Rapids-Kentwood, MI MSA      surf                 50   \n",
       "663            Grand Rapids-Kentwood, MI MSA      surf                 50   \n",
       "2          Orlando-Kissimmee-Sanford, FL MSA  ultimate               1000   \n",
       "4          Orlando-Kissimmee-Sanford, FL MSA  ultimate               1000   \n",
       "3          Orlando-Kissimmee-Sanford, FL MSA  ultimate               1000   \n",
       "671   San Jose-Sunnyvale-Santa Clara, CA MSA      surf                 50   \n",
       "665   San Jose-Sunnyvale-Santa Clara, CA MSA      surf                 50   \n",
       "666   San Jose-Sunnyvale-Santa Clara, CA MSA      surf                 50   \n",
       "\n",
       "      mb_per_month_included  minutes_included  usd_monthly_pay  usd_per_gb  \\\n",
       "0                     30720              3000               70           7   \n",
       "645                   15360               500               20          10   \n",
       "646                   15360               500               20          10   \n",
       "647                   15360               500               20          10   \n",
       "644                   15360               500               20          10   \n",
       "643                   15360               500               20          10   \n",
       "650                   15360               500               20          10   \n",
       "649                   15360               500               20          10   \n",
       "648                   15360               500               20          10   \n",
       "2084                  15360               500               20          10   \n",
       "652                   15360               500               20          10   \n",
       "651                   15360               500               20          10   \n",
       "655                   15360               500               20          10   \n",
       "653                   15360               500               20          10   \n",
       "656                   15360               500               20          10   \n",
       "657                   15360               500               20          10   \n",
       "658                   15360               500               20          10   \n",
       "654                   15360               500               20          10   \n",
       "659                   15360               500               20          10   \n",
       "1                     30720              3000               70           7   \n",
       "660                   15360               500               20          10   \n",
       "661                   15360               500               20          10   \n",
       "662                   15360               500               20          10   \n",
       "663                   15360               500               20          10   \n",
       "2                     30720              3000               70           7   \n",
       "4                     30720              3000               70           7   \n",
       "3                     30720              3000               70           7   \n",
       "671                   15360               500               20          10   \n",
       "665                   15360               500               20          10   \n",
       "666                   15360               500               20          10   \n",
       "\n",
       "      usd_per_message  usd_per_minute  minutes_topay  rev_min_monthly  \\\n",
       "0                0.01            0.01            0.0             0.00   \n",
       "645              0.03            0.03            0.0             0.00   \n",
       "646              0.03            0.03            0.0             0.00   \n",
       "647              0.03            0.03            0.0             0.00   \n",
       "644              0.03            0.03            0.0             0.00   \n",
       "643              0.03            0.03            0.0             0.00   \n",
       "650              0.03            0.03            0.0             0.00   \n",
       "649              0.03            0.03            0.0             0.00   \n",
       "648              0.03            0.03            0.0             0.00   \n",
       "2084             0.03            0.03            0.0             0.00   \n",
       "652              0.03            0.03            0.0             0.00   \n",
       "651              0.03            0.03            0.0             0.00   \n",
       "655              0.03            0.03            0.0             0.00   \n",
       "653              0.03            0.03            0.0             0.00   \n",
       "656              0.03            0.03            0.0             0.00   \n",
       "657              0.03            0.03            0.0             0.00   \n",
       "658              0.03            0.03            0.0             0.00   \n",
       "654              0.03            0.03            0.0             0.00   \n",
       "659              0.03            0.03            0.0             0.00   \n",
       "1                0.01            0.01            0.0             0.00   \n",
       "660              0.03            0.03           24.0             0.72   \n",
       "661              0.03            0.03            0.0             0.00   \n",
       "662              0.03            0.03          117.0             3.51   \n",
       "663              0.03            0.03            0.0             0.00   \n",
       "2                0.01            0.01            0.0             0.00   \n",
       "4                0.01            0.01            0.0             0.00   \n",
       "3                0.01            0.01            0.0             0.00   \n",
       "671              0.03            0.03          231.0             6.93   \n",
       "665              0.03            0.03           34.0             1.02   \n",
       "666              0.03            0.03          276.0             8.28   \n",
       "\n",
       "      messages_topay  rev_mess_monthly  \n",
       "0                0.0              0.00  \n",
       "645              0.0              0.00  \n",
       "646              0.0              0.00  \n",
       "647              0.0              0.00  \n",
       "644              3.0              0.09  \n",
       "643              0.0              0.00  \n",
       "650              0.0              0.00  \n",
       "649              0.0              0.00  \n",
       "648              0.0              0.00  \n",
       "2084             0.0              0.00  \n",
       "652              0.0              0.00  \n",
       "651              0.0              0.00  \n",
       "655              0.0              0.00  \n",
       "653              0.0              0.00  \n",
       "656              0.0              0.00  \n",
       "657              0.0              0.00  \n",
       "658              0.0              0.00  \n",
       "654              0.0              0.00  \n",
       "659              0.0              0.00  \n",
       "1                0.0              0.00  \n",
       "660              0.0              0.00  \n",
       "661              0.0              0.00  \n",
       "662              0.0              0.00  \n",
       "663              1.0              0.03  \n",
       "2                0.0              0.00  \n",
       "4                0.0              0.00  \n",
       "3                0.0              0.00  \n",
       "671              0.0              0.00  \n",
       "665              0.0              0.00  \n",
       "666              0.0              0.00  "
      ]
     },
     "execution_count": 28,
     "metadata": {},
     "output_type": "execute_result"
    }
   ],
   "source": [
    "#calculate messages to pay\n",
    "revenue['messages_topay'] = np.where(\n",
    "    (revenue['message_count'] - revenue['messages_included']) > 0.\n",
    "    , revenue['message_count'] - revenue['messages_included'], 0.)\n",
    "\n",
    "#calculate revenue from messages\n",
    "revenue['rev_mess_monthly'] = np.where(\n",
    "    revenue['messages_topay'] > 0.\n",
    "    , revenue['messages_topay'] * revenue['usd_per_message'], 0.)\n",
    "\n",
    "revenue.head(30)"
   ]
  },
  {
   "cell_type": "code",
   "execution_count": 29,
   "metadata": {
    "scrolled": true
   },
   "outputs": [
    {
     "data": {
      "text/html": [
       "<div>\n",
       "<style scoped>\n",
       "    .dataframe tbody tr th:only-of-type {\n",
       "        vertical-align: middle;\n",
       "    }\n",
       "\n",
       "    .dataframe tbody tr th {\n",
       "        vertical-align: top;\n",
       "    }\n",
       "\n",
       "    .dataframe thead th {\n",
       "        text-align: right;\n",
       "    }\n",
       "</style>\n",
       "<table border=\"1\" class=\"dataframe\">\n",
       "  <thead>\n",
       "    <tr style=\"text-align: right;\">\n",
       "      <th></th>\n",
       "      <th>user_id</th>\n",
       "      <th>month</th>\n",
       "      <th>call_count</th>\n",
       "      <th>duration_total</th>\n",
       "      <th>message_count</th>\n",
       "      <th>mb_used</th>\n",
       "      <th>city</th>\n",
       "      <th>plan</th>\n",
       "      <th>messages_included</th>\n",
       "      <th>mb_per_month_included</th>\n",
       "      <th>...</th>\n",
       "      <th>usd_monthly_pay</th>\n",
       "      <th>usd_per_gb</th>\n",
       "      <th>usd_per_message</th>\n",
       "      <th>usd_per_minute</th>\n",
       "      <th>minutes_topay</th>\n",
       "      <th>rev_min_monthly</th>\n",
       "      <th>messages_topay</th>\n",
       "      <th>rev_mess_monthly</th>\n",
       "      <th>gb_topay</th>\n",
       "      <th>rev_data_monthly</th>\n",
       "    </tr>\n",
       "  </thead>\n",
       "  <tbody>\n",
       "    <tr>\n",
       "      <td>0</td>\n",
       "      <td>1000</td>\n",
       "      <td>12.0</td>\n",
       "      <td>16.0</td>\n",
       "      <td>124.0</td>\n",
       "      <td>11.0</td>\n",
       "      <td>1901.47</td>\n",
       "      <td>Atlanta-Sandy Springs-Roswell, GA MSA</td>\n",
       "      <td>ultimate</td>\n",
       "      <td>1000</td>\n",
       "      <td>30720</td>\n",
       "      <td>...</td>\n",
       "      <td>70</td>\n",
       "      <td>7</td>\n",
       "      <td>0.01</td>\n",
       "      <td>0.01</td>\n",
       "      <td>0.0</td>\n",
       "      <td>0.00</td>\n",
       "      <td>0.0</td>\n",
       "      <td>0.00</td>\n",
       "      <td>0.0</td>\n",
       "      <td>0.0</td>\n",
       "    </tr>\n",
       "    <tr>\n",
       "      <td>645</td>\n",
       "      <td>1001</td>\n",
       "      <td>12.0</td>\n",
       "      <td>56.0</td>\n",
       "      <td>412.0</td>\n",
       "      <td>44.0</td>\n",
       "      <td>19369.18</td>\n",
       "      <td>Seattle-Tacoma-Bellevue, WA MSA</td>\n",
       "      <td>surf</td>\n",
       "      <td>50</td>\n",
       "      <td>15360</td>\n",
       "      <td>...</td>\n",
       "      <td>20</td>\n",
       "      <td>10</td>\n",
       "      <td>0.03</td>\n",
       "      <td>0.03</td>\n",
       "      <td>0.0</td>\n",
       "      <td>0.00</td>\n",
       "      <td>0.0</td>\n",
       "      <td>0.00</td>\n",
       "      <td>5.0</td>\n",
       "      <td>50.0</td>\n",
       "    </tr>\n",
       "    <tr>\n",
       "      <td>646</td>\n",
       "      <td>1001</td>\n",
       "      <td>11.0</td>\n",
       "      <td>64.0</td>\n",
       "      <td>426.0</td>\n",
       "      <td>36.0</td>\n",
       "      <td>18504.30</td>\n",
       "      <td>Seattle-Tacoma-Bellevue, WA MSA</td>\n",
       "      <td>surf</td>\n",
       "      <td>50</td>\n",
       "      <td>15360</td>\n",
       "      <td>...</td>\n",
       "      <td>20</td>\n",
       "      <td>10</td>\n",
       "      <td>0.03</td>\n",
       "      <td>0.03</td>\n",
       "      <td>0.0</td>\n",
       "      <td>0.00</td>\n",
       "      <td>0.0</td>\n",
       "      <td>0.00</td>\n",
       "      <td>4.0</td>\n",
       "      <td>40.0</td>\n",
       "    </tr>\n",
       "    <tr>\n",
       "      <td>647</td>\n",
       "      <td>1001</td>\n",
       "      <td>8.0</td>\n",
       "      <td>27.0</td>\n",
       "      <td>182.0</td>\n",
       "      <td>30.0</td>\n",
       "      <td>6919.15</td>\n",
       "      <td>Seattle-Tacoma-Bellevue, WA MSA</td>\n",
       "      <td>surf</td>\n",
       "      <td>50</td>\n",
       "      <td>15360</td>\n",
       "      <td>...</td>\n",
       "      <td>20</td>\n",
       "      <td>10</td>\n",
       "      <td>0.03</td>\n",
       "      <td>0.03</td>\n",
       "      <td>0.0</td>\n",
       "      <td>0.00</td>\n",
       "      <td>0.0</td>\n",
       "      <td>0.00</td>\n",
       "      <td>0.0</td>\n",
       "      <td>0.0</td>\n",
       "    </tr>\n",
       "    <tr>\n",
       "      <td>644</td>\n",
       "      <td>1001</td>\n",
       "      <td>10.0</td>\n",
       "      <td>65.0</td>\n",
       "      <td>393.0</td>\n",
       "      <td>53.0</td>\n",
       "      <td>22330.49</td>\n",
       "      <td>Seattle-Tacoma-Bellevue, WA MSA</td>\n",
       "      <td>surf</td>\n",
       "      <td>50</td>\n",
       "      <td>15360</td>\n",
       "      <td>...</td>\n",
       "      <td>20</td>\n",
       "      <td>10</td>\n",
       "      <td>0.03</td>\n",
       "      <td>0.03</td>\n",
       "      <td>0.0</td>\n",
       "      <td>0.00</td>\n",
       "      <td>3.0</td>\n",
       "      <td>0.09</td>\n",
       "      <td>7.0</td>\n",
       "      <td>70.0</td>\n",
       "    </tr>\n",
       "    <tr>\n",
       "      <td>643</td>\n",
       "      <td>1001</td>\n",
       "      <td>9.0</td>\n",
       "      <td>49.0</td>\n",
       "      <td>315.0</td>\n",
       "      <td>44.0</td>\n",
       "      <td>13314.82</td>\n",
       "      <td>Seattle-Tacoma-Bellevue, WA MSA</td>\n",
       "      <td>surf</td>\n",
       "      <td>50</td>\n",
       "      <td>15360</td>\n",
       "      <td>...</td>\n",
       "      <td>20</td>\n",
       "      <td>10</td>\n",
       "      <td>0.03</td>\n",
       "      <td>0.03</td>\n",
       "      <td>0.0</td>\n",
       "      <td>0.00</td>\n",
       "      <td>0.0</td>\n",
       "      <td>0.00</td>\n",
       "      <td>0.0</td>\n",
       "      <td>0.0</td>\n",
       "    </tr>\n",
       "    <tr>\n",
       "      <td>650</td>\n",
       "      <td>1002</td>\n",
       "      <td>10.0</td>\n",
       "      <td>11.0</td>\n",
       "      <td>59.0</td>\n",
       "      <td>15.0</td>\n",
       "      <td>6552.01</td>\n",
       "      <td>Las Vegas-Henderson-Paradise, NV MSA</td>\n",
       "      <td>surf</td>\n",
       "      <td>50</td>\n",
       "      <td>15360</td>\n",
       "      <td>...</td>\n",
       "      <td>20</td>\n",
       "      <td>10</td>\n",
       "      <td>0.03</td>\n",
       "      <td>0.03</td>\n",
       "      <td>0.0</td>\n",
       "      <td>0.00</td>\n",
       "      <td>0.0</td>\n",
       "      <td>0.00</td>\n",
       "      <td>0.0</td>\n",
       "      <td>0.0</td>\n",
       "    </tr>\n",
       "    <tr>\n",
       "      <td>649</td>\n",
       "      <td>1002</td>\n",
       "      <td>12.0</td>\n",
       "      <td>47.0</td>\n",
       "      <td>384.0</td>\n",
       "      <td>41.0</td>\n",
       "      <td>14396.24</td>\n",
       "      <td>Las Vegas-Henderson-Paradise, NV MSA</td>\n",
       "      <td>surf</td>\n",
       "      <td>50</td>\n",
       "      <td>15360</td>\n",
       "      <td>...</td>\n",
       "      <td>20</td>\n",
       "      <td>10</td>\n",
       "      <td>0.03</td>\n",
       "      <td>0.03</td>\n",
       "      <td>0.0</td>\n",
       "      <td>0.00</td>\n",
       "      <td>0.0</td>\n",
       "      <td>0.00</td>\n",
       "      <td>0.0</td>\n",
       "      <td>0.0</td>\n",
       "    </tr>\n",
       "    <tr>\n",
       "      <td>648</td>\n",
       "      <td>1002</td>\n",
       "      <td>11.0</td>\n",
       "      <td>55.0</td>\n",
       "      <td>386.0</td>\n",
       "      <td>32.0</td>\n",
       "      <td>19345.08</td>\n",
       "      <td>Las Vegas-Henderson-Paradise, NV MSA</td>\n",
       "      <td>surf</td>\n",
       "      <td>50</td>\n",
       "      <td>15360</td>\n",
       "      <td>...</td>\n",
       "      <td>20</td>\n",
       "      <td>10</td>\n",
       "      <td>0.03</td>\n",
       "      <td>0.03</td>\n",
       "      <td>0.0</td>\n",
       "      <td>0.00</td>\n",
       "      <td>0.0</td>\n",
       "      <td>0.00</td>\n",
       "      <td>4.0</td>\n",
       "      <td>40.0</td>\n",
       "    </tr>\n",
       "    <tr>\n",
       "      <td>2084</td>\n",
       "      <td>1003</td>\n",
       "      <td>NaN</td>\n",
       "      <td>NaN</td>\n",
       "      <td>NaN</td>\n",
       "      <td>NaN</td>\n",
       "      <td>NaN</td>\n",
       "      <td>Tulsa, OK MSA</td>\n",
       "      <td>surf</td>\n",
       "      <td>50</td>\n",
       "      <td>15360</td>\n",
       "      <td>...</td>\n",
       "      <td>20</td>\n",
       "      <td>10</td>\n",
       "      <td>0.03</td>\n",
       "      <td>0.03</td>\n",
       "      <td>0.0</td>\n",
       "      <td>0.00</td>\n",
       "      <td>0.0</td>\n",
       "      <td>0.00</td>\n",
       "      <td>0.0</td>\n",
       "      <td>0.0</td>\n",
       "    </tr>\n",
       "    <tr>\n",
       "      <td>652</td>\n",
       "      <td>1004</td>\n",
       "      <td>8.0</td>\n",
       "      <td>49.0</td>\n",
       "      <td>354.0</td>\n",
       "      <td>25.0</td>\n",
       "      <td>27981.74</td>\n",
       "      <td>Seattle-Tacoma-Bellevue, WA MSA</td>\n",
       "      <td>surf</td>\n",
       "      <td>50</td>\n",
       "      <td>15360</td>\n",
       "      <td>...</td>\n",
       "      <td>20</td>\n",
       "      <td>10</td>\n",
       "      <td>0.03</td>\n",
       "      <td>0.03</td>\n",
       "      <td>0.0</td>\n",
       "      <td>0.00</td>\n",
       "      <td>0.0</td>\n",
       "      <td>0.00</td>\n",
       "      <td>13.0</td>\n",
       "      <td>130.0</td>\n",
       "    </tr>\n",
       "    <tr>\n",
       "      <td>651</td>\n",
       "      <td>1004</td>\n",
       "      <td>11.0</td>\n",
       "      <td>54.0</td>\n",
       "      <td>476.0</td>\n",
       "      <td>25.0</td>\n",
       "      <td>21850.78</td>\n",
       "      <td>Seattle-Tacoma-Bellevue, WA MSA</td>\n",
       "      <td>surf</td>\n",
       "      <td>50</td>\n",
       "      <td>15360</td>\n",
       "      <td>...</td>\n",
       "      <td>20</td>\n",
       "      <td>10</td>\n",
       "      <td>0.03</td>\n",
       "      <td>0.03</td>\n",
       "      <td>0.0</td>\n",
       "      <td>0.00</td>\n",
       "      <td>0.0</td>\n",
       "      <td>0.00</td>\n",
       "      <td>7.0</td>\n",
       "      <td>70.0</td>\n",
       "    </tr>\n",
       "    <tr>\n",
       "      <td>655</td>\n",
       "      <td>1004</td>\n",
       "      <td>9.0</td>\n",
       "      <td>42.0</td>\n",
       "      <td>301.0</td>\n",
       "      <td>21.0</td>\n",
       "      <td>18852.72</td>\n",
       "      <td>Seattle-Tacoma-Bellevue, WA MSA</td>\n",
       "      <td>surf</td>\n",
       "      <td>50</td>\n",
       "      <td>15360</td>\n",
       "      <td>...</td>\n",
       "      <td>20</td>\n",
       "      <td>10</td>\n",
       "      <td>0.03</td>\n",
       "      <td>0.03</td>\n",
       "      <td>0.0</td>\n",
       "      <td>0.00</td>\n",
       "      <td>0.0</td>\n",
       "      <td>0.00</td>\n",
       "      <td>4.0</td>\n",
       "      <td>40.0</td>\n",
       "    </tr>\n",
       "    <tr>\n",
       "      <td>653</td>\n",
       "      <td>1004</td>\n",
       "      <td>7.0</td>\n",
       "      <td>49.0</td>\n",
       "      <td>381.0</td>\n",
       "      <td>26.0</td>\n",
       "      <td>24516.62</td>\n",
       "      <td>Seattle-Tacoma-Bellevue, WA MSA</td>\n",
       "      <td>surf</td>\n",
       "      <td>50</td>\n",
       "      <td>15360</td>\n",
       "      <td>...</td>\n",
       "      <td>20</td>\n",
       "      <td>10</td>\n",
       "      <td>0.03</td>\n",
       "      <td>0.03</td>\n",
       "      <td>0.0</td>\n",
       "      <td>0.00</td>\n",
       "      <td>0.0</td>\n",
       "      <td>0.00</td>\n",
       "      <td>10.0</td>\n",
       "      <td>100.0</td>\n",
       "    </tr>\n",
       "    <tr>\n",
       "      <td>656</td>\n",
       "      <td>1004</td>\n",
       "      <td>12.0</td>\n",
       "      <td>50.0</td>\n",
       "      <td>427.0</td>\n",
       "      <td>31.0</td>\n",
       "      <td>21389.29</td>\n",
       "      <td>Seattle-Tacoma-Bellevue, WA MSA</td>\n",
       "      <td>surf</td>\n",
       "      <td>50</td>\n",
       "      <td>15360</td>\n",
       "      <td>...</td>\n",
       "      <td>20</td>\n",
       "      <td>10</td>\n",
       "      <td>0.03</td>\n",
       "      <td>0.03</td>\n",
       "      <td>0.0</td>\n",
       "      <td>0.00</td>\n",
       "      <td>0.0</td>\n",
       "      <td>0.00</td>\n",
       "      <td>7.0</td>\n",
       "      <td>70.0</td>\n",
       "    </tr>\n",
       "    <tr>\n",
       "      <td>657</td>\n",
       "      <td>1004</td>\n",
       "      <td>10.0</td>\n",
       "      <td>61.0</td>\n",
       "      <td>365.0</td>\n",
       "      <td>24.0</td>\n",
       "      <td>14541.63</td>\n",
       "      <td>Seattle-Tacoma-Bellevue, WA MSA</td>\n",
       "      <td>surf</td>\n",
       "      <td>50</td>\n",
       "      <td>15360</td>\n",
       "      <td>...</td>\n",
       "      <td>20</td>\n",
       "      <td>10</td>\n",
       "      <td>0.03</td>\n",
       "      <td>0.03</td>\n",
       "      <td>0.0</td>\n",
       "      <td>0.00</td>\n",
       "      <td>0.0</td>\n",
       "      <td>0.00</td>\n",
       "      <td>0.0</td>\n",
       "      <td>0.0</td>\n",
       "    </tr>\n",
       "    <tr>\n",
       "      <td>658</td>\n",
       "      <td>1004</td>\n",
       "      <td>5.0</td>\n",
       "      <td>21.0</td>\n",
       "      <td>193.0</td>\n",
       "      <td>7.0</td>\n",
       "      <td>6547.21</td>\n",
       "      <td>Seattle-Tacoma-Bellevue, WA MSA</td>\n",
       "      <td>surf</td>\n",
       "      <td>50</td>\n",
       "      <td>15360</td>\n",
       "      <td>...</td>\n",
       "      <td>20</td>\n",
       "      <td>10</td>\n",
       "      <td>0.03</td>\n",
       "      <td>0.03</td>\n",
       "      <td>0.0</td>\n",
       "      <td>0.00</td>\n",
       "      <td>0.0</td>\n",
       "      <td>0.00</td>\n",
       "      <td>0.0</td>\n",
       "      <td>0.0</td>\n",
       "    </tr>\n",
       "    <tr>\n",
       "      <td>654</td>\n",
       "      <td>1004</td>\n",
       "      <td>6.0</td>\n",
       "      <td>44.0</td>\n",
       "      <td>275.0</td>\n",
       "      <td>18.0</td>\n",
       "      <td>20672.82</td>\n",
       "      <td>Seattle-Tacoma-Bellevue, WA MSA</td>\n",
       "      <td>surf</td>\n",
       "      <td>50</td>\n",
       "      <td>15360</td>\n",
       "      <td>...</td>\n",
       "      <td>20</td>\n",
       "      <td>10</td>\n",
       "      <td>0.03</td>\n",
       "      <td>0.03</td>\n",
       "      <td>0.0</td>\n",
       "      <td>0.00</td>\n",
       "      <td>0.0</td>\n",
       "      <td>0.00</td>\n",
       "      <td>6.0</td>\n",
       "      <td>60.0</td>\n",
       "    </tr>\n",
       "    <tr>\n",
       "      <td>659</td>\n",
       "      <td>1005</td>\n",
       "      <td>12.0</td>\n",
       "      <td>59.0</td>\n",
       "      <td>496.0</td>\n",
       "      <td>11.0</td>\n",
       "      <td>17140.17</td>\n",
       "      <td>Dallas-Fort Worth-Arlington, TX MSA</td>\n",
       "      <td>surf</td>\n",
       "      <td>50</td>\n",
       "      <td>15360</td>\n",
       "      <td>...</td>\n",
       "      <td>20</td>\n",
       "      <td>10</td>\n",
       "      <td>0.03</td>\n",
       "      <td>0.03</td>\n",
       "      <td>0.0</td>\n",
       "      <td>0.00</td>\n",
       "      <td>0.0</td>\n",
       "      <td>0.00</td>\n",
       "      <td>2.0</td>\n",
       "      <td>20.0</td>\n",
       "    </tr>\n",
       "    <tr>\n",
       "      <td>1</td>\n",
       "      <td>1006</td>\n",
       "      <td>11.0</td>\n",
       "      <td>2.0</td>\n",
       "      <td>10.0</td>\n",
       "      <td>15.0</td>\n",
       "      <td>2068.37</td>\n",
       "      <td>San Francisco-Oakland-Berkeley, CA MSA</td>\n",
       "      <td>ultimate</td>\n",
       "      <td>1000</td>\n",
       "      <td>30720</td>\n",
       "      <td>...</td>\n",
       "      <td>70</td>\n",
       "      <td>7</td>\n",
       "      <td>0.01</td>\n",
       "      <td>0.01</td>\n",
       "      <td>0.0</td>\n",
       "      <td>0.00</td>\n",
       "      <td>0.0</td>\n",
       "      <td>0.00</td>\n",
       "      <td>0.0</td>\n",
       "      <td>0.0</td>\n",
       "    </tr>\n",
       "    <tr>\n",
       "      <td>660</td>\n",
       "      <td>1007</td>\n",
       "      <td>11.0</td>\n",
       "      <td>80.0</td>\n",
       "      <td>524.0</td>\n",
       "      <td>48.0</td>\n",
       "      <td>24334.00</td>\n",
       "      <td>Grand Rapids-Kentwood, MI MSA</td>\n",
       "      <td>surf</td>\n",
       "      <td>50</td>\n",
       "      <td>15360</td>\n",
       "      <td>...</td>\n",
       "      <td>20</td>\n",
       "      <td>10</td>\n",
       "      <td>0.03</td>\n",
       "      <td>0.03</td>\n",
       "      <td>24.0</td>\n",
       "      <td>0.72</td>\n",
       "      <td>0.0</td>\n",
       "      <td>0.00</td>\n",
       "      <td>9.0</td>\n",
       "      <td>90.0</td>\n",
       "    </tr>\n",
       "    <tr>\n",
       "      <td>661</td>\n",
       "      <td>1007</td>\n",
       "      <td>9.0</td>\n",
       "      <td>63.0</td>\n",
       "      <td>399.0</td>\n",
       "      <td>47.0</td>\n",
       "      <td>28123.95</td>\n",
       "      <td>Grand Rapids-Kentwood, MI MSA</td>\n",
       "      <td>surf</td>\n",
       "      <td>50</td>\n",
       "      <td>15360</td>\n",
       "      <td>...</td>\n",
       "      <td>20</td>\n",
       "      <td>10</td>\n",
       "      <td>0.03</td>\n",
       "      <td>0.03</td>\n",
       "      <td>0.0</td>\n",
       "      <td>0.00</td>\n",
       "      <td>0.0</td>\n",
       "      <td>0.00</td>\n",
       "      <td>13.0</td>\n",
       "      <td>130.0</td>\n",
       "    </tr>\n",
       "    <tr>\n",
       "      <td>662</td>\n",
       "      <td>1007</td>\n",
       "      <td>12.0</td>\n",
       "      <td>87.0</td>\n",
       "      <td>617.0</td>\n",
       "      <td>50.0</td>\n",
       "      <td>29069.28</td>\n",
       "      <td>Grand Rapids-Kentwood, MI MSA</td>\n",
       "      <td>surf</td>\n",
       "      <td>50</td>\n",
       "      <td>15360</td>\n",
       "      <td>...</td>\n",
       "      <td>20</td>\n",
       "      <td>10</td>\n",
       "      <td>0.03</td>\n",
       "      <td>0.03</td>\n",
       "      <td>117.0</td>\n",
       "      <td>3.51</td>\n",
       "      <td>0.0</td>\n",
       "      <td>0.00</td>\n",
       "      <td>14.0</td>\n",
       "      <td>140.0</td>\n",
       "    </tr>\n",
       "    <tr>\n",
       "      <td>663</td>\n",
       "      <td>1007</td>\n",
       "      <td>8.0</td>\n",
       "      <td>70.0</td>\n",
       "      <td>456.0</td>\n",
       "      <td>51.0</td>\n",
       "      <td>24439.88</td>\n",
       "      <td>Grand Rapids-Kentwood, MI MSA</td>\n",
       "      <td>surf</td>\n",
       "      <td>50</td>\n",
       "      <td>15360</td>\n",
       "      <td>...</td>\n",
       "      <td>20</td>\n",
       "      <td>10</td>\n",
       "      <td>0.03</td>\n",
       "      <td>0.03</td>\n",
       "      <td>0.0</td>\n",
       "      <td>0.00</td>\n",
       "      <td>1.0</td>\n",
       "      <td>0.03</td>\n",
       "      <td>10.0</td>\n",
       "      <td>100.0</td>\n",
       "    </tr>\n",
       "    <tr>\n",
       "      <td>2</td>\n",
       "      <td>1008</td>\n",
       "      <td>12.0</td>\n",
       "      <td>85.0</td>\n",
       "      <td>634.0</td>\n",
       "      <td>26.0</td>\n",
       "      <td>14689.33</td>\n",
       "      <td>Orlando-Kissimmee-Sanford, FL MSA</td>\n",
       "      <td>ultimate</td>\n",
       "      <td>1000</td>\n",
       "      <td>30720</td>\n",
       "      <td>...</td>\n",
       "      <td>70</td>\n",
       "      <td>7</td>\n",
       "      <td>0.01</td>\n",
       "      <td>0.01</td>\n",
       "      <td>0.0</td>\n",
       "      <td>0.00</td>\n",
       "      <td>0.0</td>\n",
       "      <td>0.00</td>\n",
       "      <td>0.0</td>\n",
       "      <td>0.0</td>\n",
       "    </tr>\n",
       "    <tr>\n",
       "      <td>4</td>\n",
       "      <td>1008</td>\n",
       "      <td>10.0</td>\n",
       "      <td>71.0</td>\n",
       "      <td>476.0</td>\n",
       "      <td>21.0</td>\n",
       "      <td>17106.99</td>\n",
       "      <td>Orlando-Kissimmee-Sanford, FL MSA</td>\n",
       "      <td>ultimate</td>\n",
       "      <td>1000</td>\n",
       "      <td>30720</td>\n",
       "      <td>...</td>\n",
       "      <td>70</td>\n",
       "      <td>7</td>\n",
       "      <td>0.01</td>\n",
       "      <td>0.01</td>\n",
       "      <td>0.0</td>\n",
       "      <td>0.00</td>\n",
       "      <td>0.0</td>\n",
       "      <td>0.00</td>\n",
       "      <td>0.0</td>\n",
       "      <td>0.0</td>\n",
       "    </tr>\n",
       "    <tr>\n",
       "      <td>3</td>\n",
       "      <td>1008</td>\n",
       "      <td>11.0</td>\n",
       "      <td>63.0</td>\n",
       "      <td>446.0</td>\n",
       "      <td>37.0</td>\n",
       "      <td>23676.72</td>\n",
       "      <td>Orlando-Kissimmee-Sanford, FL MSA</td>\n",
       "      <td>ultimate</td>\n",
       "      <td>1000</td>\n",
       "      <td>30720</td>\n",
       "      <td>...</td>\n",
       "      <td>70</td>\n",
       "      <td>7</td>\n",
       "      <td>0.01</td>\n",
       "      <td>0.01</td>\n",
       "      <td>0.0</td>\n",
       "      <td>0.00</td>\n",
       "      <td>0.0</td>\n",
       "      <td>0.00</td>\n",
       "      <td>0.0</td>\n",
       "      <td>0.0</td>\n",
       "    </tr>\n",
       "    <tr>\n",
       "      <td>671</td>\n",
       "      <td>1009</td>\n",
       "      <td>8.0</td>\n",
       "      <td>109.0</td>\n",
       "      <td>731.0</td>\n",
       "      <td>NaN</td>\n",
       "      <td>24557.52</td>\n",
       "      <td>San Jose-Sunnyvale-Santa Clara, CA MSA</td>\n",
       "      <td>surf</td>\n",
       "      <td>50</td>\n",
       "      <td>15360</td>\n",
       "      <td>...</td>\n",
       "      <td>20</td>\n",
       "      <td>10</td>\n",
       "      <td>0.03</td>\n",
       "      <td>0.03</td>\n",
       "      <td>231.0</td>\n",
       "      <td>6.93</td>\n",
       "      <td>0.0</td>\n",
       "      <td>0.00</td>\n",
       "      <td>10.0</td>\n",
       "      <td>100.0</td>\n",
       "    </tr>\n",
       "    <tr>\n",
       "      <td>665</td>\n",
       "      <td>1009</td>\n",
       "      <td>5.0</td>\n",
       "      <td>71.0</td>\n",
       "      <td>534.0</td>\n",
       "      <td>NaN</td>\n",
       "      <td>20389.40</td>\n",
       "      <td>San Jose-Sunnyvale-Santa Clara, CA MSA</td>\n",
       "      <td>surf</td>\n",
       "      <td>50</td>\n",
       "      <td>15360</td>\n",
       "      <td>...</td>\n",
       "      <td>20</td>\n",
       "      <td>10</td>\n",
       "      <td>0.03</td>\n",
       "      <td>0.03</td>\n",
       "      <td>34.0</td>\n",
       "      <td>1.02</td>\n",
       "      <td>0.0</td>\n",
       "      <td>0.00</td>\n",
       "      <td>6.0</td>\n",
       "      <td>60.0</td>\n",
       "    </tr>\n",
       "    <tr>\n",
       "      <td>666</td>\n",
       "      <td>1009</td>\n",
       "      <td>9.0</td>\n",
       "      <td>116.0</td>\n",
       "      <td>776.0</td>\n",
       "      <td>NaN</td>\n",
       "      <td>20962.40</td>\n",
       "      <td>San Jose-Sunnyvale-Santa Clara, CA MSA</td>\n",
       "      <td>surf</td>\n",
       "      <td>50</td>\n",
       "      <td>15360</td>\n",
       "      <td>...</td>\n",
       "      <td>20</td>\n",
       "      <td>10</td>\n",
       "      <td>0.03</td>\n",
       "      <td>0.03</td>\n",
       "      <td>276.0</td>\n",
       "      <td>8.28</td>\n",
       "      <td>0.0</td>\n",
       "      <td>0.00</td>\n",
       "      <td>6.0</td>\n",
       "      <td>60.0</td>\n",
       "    </tr>\n",
       "  </tbody>\n",
       "</table>\n",
       "<p>30 rows × 21 columns</p>\n",
       "</div>"
      ],
      "text/plain": [
       "      user_id  month  call_count  duration_total  message_count   mb_used  \\\n",
       "0        1000   12.0        16.0           124.0           11.0   1901.47   \n",
       "645      1001   12.0        56.0           412.0           44.0  19369.18   \n",
       "646      1001   11.0        64.0           426.0           36.0  18504.30   \n",
       "647      1001    8.0        27.0           182.0           30.0   6919.15   \n",
       "644      1001   10.0        65.0           393.0           53.0  22330.49   \n",
       "643      1001    9.0        49.0           315.0           44.0  13314.82   \n",
       "650      1002   10.0        11.0            59.0           15.0   6552.01   \n",
       "649      1002   12.0        47.0           384.0           41.0  14396.24   \n",
       "648      1002   11.0        55.0           386.0           32.0  19345.08   \n",
       "2084     1003    NaN         NaN             NaN            NaN       NaN   \n",
       "652      1004    8.0        49.0           354.0           25.0  27981.74   \n",
       "651      1004   11.0        54.0           476.0           25.0  21850.78   \n",
       "655      1004    9.0        42.0           301.0           21.0  18852.72   \n",
       "653      1004    7.0        49.0           381.0           26.0  24516.62   \n",
       "656      1004   12.0        50.0           427.0           31.0  21389.29   \n",
       "657      1004   10.0        61.0           365.0           24.0  14541.63   \n",
       "658      1004    5.0        21.0           193.0            7.0   6547.21   \n",
       "654      1004    6.0        44.0           275.0           18.0  20672.82   \n",
       "659      1005   12.0        59.0           496.0           11.0  17140.17   \n",
       "1        1006   11.0         2.0            10.0           15.0   2068.37   \n",
       "660      1007   11.0        80.0           524.0           48.0  24334.00   \n",
       "661      1007    9.0        63.0           399.0           47.0  28123.95   \n",
       "662      1007   12.0        87.0           617.0           50.0  29069.28   \n",
       "663      1007    8.0        70.0           456.0           51.0  24439.88   \n",
       "2        1008   12.0        85.0           634.0           26.0  14689.33   \n",
       "4        1008   10.0        71.0           476.0           21.0  17106.99   \n",
       "3        1008   11.0        63.0           446.0           37.0  23676.72   \n",
       "671      1009    8.0       109.0           731.0            NaN  24557.52   \n",
       "665      1009    5.0        71.0           534.0            NaN  20389.40   \n",
       "666      1009    9.0       116.0           776.0            NaN  20962.40   \n",
       "\n",
       "                                        city      plan  messages_included  \\\n",
       "0      Atlanta-Sandy Springs-Roswell, GA MSA  ultimate               1000   \n",
       "645          Seattle-Tacoma-Bellevue, WA MSA      surf                 50   \n",
       "646          Seattle-Tacoma-Bellevue, WA MSA      surf                 50   \n",
       "647          Seattle-Tacoma-Bellevue, WA MSA      surf                 50   \n",
       "644          Seattle-Tacoma-Bellevue, WA MSA      surf                 50   \n",
       "643          Seattle-Tacoma-Bellevue, WA MSA      surf                 50   \n",
       "650     Las Vegas-Henderson-Paradise, NV MSA      surf                 50   \n",
       "649     Las Vegas-Henderson-Paradise, NV MSA      surf                 50   \n",
       "648     Las Vegas-Henderson-Paradise, NV MSA      surf                 50   \n",
       "2084                           Tulsa, OK MSA      surf                 50   \n",
       "652          Seattle-Tacoma-Bellevue, WA MSA      surf                 50   \n",
       "651          Seattle-Tacoma-Bellevue, WA MSA      surf                 50   \n",
       "655          Seattle-Tacoma-Bellevue, WA MSA      surf                 50   \n",
       "653          Seattle-Tacoma-Bellevue, WA MSA      surf                 50   \n",
       "656          Seattle-Tacoma-Bellevue, WA MSA      surf                 50   \n",
       "657          Seattle-Tacoma-Bellevue, WA MSA      surf                 50   \n",
       "658          Seattle-Tacoma-Bellevue, WA MSA      surf                 50   \n",
       "654          Seattle-Tacoma-Bellevue, WA MSA      surf                 50   \n",
       "659      Dallas-Fort Worth-Arlington, TX MSA      surf                 50   \n",
       "1     San Francisco-Oakland-Berkeley, CA MSA  ultimate               1000   \n",
       "660            Grand Rapids-Kentwood, MI MSA      surf                 50   \n",
       "661            Grand Rapids-Kentwood, MI MSA      surf                 50   \n",
       "662            Grand Rapids-Kentwood, MI MSA      surf                 50   \n",
       "663            Grand Rapids-Kentwood, MI MSA      surf                 50   \n",
       "2          Orlando-Kissimmee-Sanford, FL MSA  ultimate               1000   \n",
       "4          Orlando-Kissimmee-Sanford, FL MSA  ultimate               1000   \n",
       "3          Orlando-Kissimmee-Sanford, FL MSA  ultimate               1000   \n",
       "671   San Jose-Sunnyvale-Santa Clara, CA MSA      surf                 50   \n",
       "665   San Jose-Sunnyvale-Santa Clara, CA MSA      surf                 50   \n",
       "666   San Jose-Sunnyvale-Santa Clara, CA MSA      surf                 50   \n",
       "\n",
       "      mb_per_month_included  ...  usd_monthly_pay  usd_per_gb  \\\n",
       "0                     30720  ...               70           7   \n",
       "645                   15360  ...               20          10   \n",
       "646                   15360  ...               20          10   \n",
       "647                   15360  ...               20          10   \n",
       "644                   15360  ...               20          10   \n",
       "643                   15360  ...               20          10   \n",
       "650                   15360  ...               20          10   \n",
       "649                   15360  ...               20          10   \n",
       "648                   15360  ...               20          10   \n",
       "2084                  15360  ...               20          10   \n",
       "652                   15360  ...               20          10   \n",
       "651                   15360  ...               20          10   \n",
       "655                   15360  ...               20          10   \n",
       "653                   15360  ...               20          10   \n",
       "656                   15360  ...               20          10   \n",
       "657                   15360  ...               20          10   \n",
       "658                   15360  ...               20          10   \n",
       "654                   15360  ...               20          10   \n",
       "659                   15360  ...               20          10   \n",
       "1                     30720  ...               70           7   \n",
       "660                   15360  ...               20          10   \n",
       "661                   15360  ...               20          10   \n",
       "662                   15360  ...               20          10   \n",
       "663                   15360  ...               20          10   \n",
       "2                     30720  ...               70           7   \n",
       "4                     30720  ...               70           7   \n",
       "3                     30720  ...               70           7   \n",
       "671                   15360  ...               20          10   \n",
       "665                   15360  ...               20          10   \n",
       "666                   15360  ...               20          10   \n",
       "\n",
       "      usd_per_message  usd_per_minute  minutes_topay  rev_min_monthly  \\\n",
       "0                0.01            0.01            0.0             0.00   \n",
       "645              0.03            0.03            0.0             0.00   \n",
       "646              0.03            0.03            0.0             0.00   \n",
       "647              0.03            0.03            0.0             0.00   \n",
       "644              0.03            0.03            0.0             0.00   \n",
       "643              0.03            0.03            0.0             0.00   \n",
       "650              0.03            0.03            0.0             0.00   \n",
       "649              0.03            0.03            0.0             0.00   \n",
       "648              0.03            0.03            0.0             0.00   \n",
       "2084             0.03            0.03            0.0             0.00   \n",
       "652              0.03            0.03            0.0             0.00   \n",
       "651              0.03            0.03            0.0             0.00   \n",
       "655              0.03            0.03            0.0             0.00   \n",
       "653              0.03            0.03            0.0             0.00   \n",
       "656              0.03            0.03            0.0             0.00   \n",
       "657              0.03            0.03            0.0             0.00   \n",
       "658              0.03            0.03            0.0             0.00   \n",
       "654              0.03            0.03            0.0             0.00   \n",
       "659              0.03            0.03            0.0             0.00   \n",
       "1                0.01            0.01            0.0             0.00   \n",
       "660              0.03            0.03           24.0             0.72   \n",
       "661              0.03            0.03            0.0             0.00   \n",
       "662              0.03            0.03          117.0             3.51   \n",
       "663              0.03            0.03            0.0             0.00   \n",
       "2                0.01            0.01            0.0             0.00   \n",
       "4                0.01            0.01            0.0             0.00   \n",
       "3                0.01            0.01            0.0             0.00   \n",
       "671              0.03            0.03          231.0             6.93   \n",
       "665              0.03            0.03           34.0             1.02   \n",
       "666              0.03            0.03          276.0             8.28   \n",
       "\n",
       "      messages_topay  rev_mess_monthly  gb_topay  rev_data_monthly  \n",
       "0                0.0              0.00       0.0               0.0  \n",
       "645              0.0              0.00       5.0              50.0  \n",
       "646              0.0              0.00       4.0              40.0  \n",
       "647              0.0              0.00       0.0               0.0  \n",
       "644              3.0              0.09       7.0              70.0  \n",
       "643              0.0              0.00       0.0               0.0  \n",
       "650              0.0              0.00       0.0               0.0  \n",
       "649              0.0              0.00       0.0               0.0  \n",
       "648              0.0              0.00       4.0              40.0  \n",
       "2084             0.0              0.00       0.0               0.0  \n",
       "652              0.0              0.00      13.0             130.0  \n",
       "651              0.0              0.00       7.0              70.0  \n",
       "655              0.0              0.00       4.0              40.0  \n",
       "653              0.0              0.00      10.0             100.0  \n",
       "656              0.0              0.00       7.0              70.0  \n",
       "657              0.0              0.00       0.0               0.0  \n",
       "658              0.0              0.00       0.0               0.0  \n",
       "654              0.0              0.00       6.0              60.0  \n",
       "659              0.0              0.00       2.0              20.0  \n",
       "1                0.0              0.00       0.0               0.0  \n",
       "660              0.0              0.00       9.0              90.0  \n",
       "661              0.0              0.00      13.0             130.0  \n",
       "662              0.0              0.00      14.0             140.0  \n",
       "663              1.0              0.03      10.0             100.0  \n",
       "2                0.0              0.00       0.0               0.0  \n",
       "4                0.0              0.00       0.0               0.0  \n",
       "3                0.0              0.00       0.0               0.0  \n",
       "671              0.0              0.00      10.0             100.0  \n",
       "665              0.0              0.00       6.0              60.0  \n",
       "666              0.0              0.00       6.0              60.0  \n",
       "\n",
       "[30 rows x 21 columns]"
      ]
     },
     "execution_count": 29,
     "metadata": {},
     "output_type": "execute_result"
    }
   ],
   "source": [
    "#calculate data to pay\n",
    "revenue['gb_topay'] = np.where(\n",
    "    (revenue['mb_used'] - revenue['mb_per_month_included']) > 0.\n",
    "    , ((revenue['mb_used'] - revenue['mb_per_month_included']) * 0.001)\n",
    "    .apply(np.ceil), 0.)\n",
    "#0.001 to convert to gb (since given usd/gb instead of usd/mb)\n",
    "#megaline rounds mb's -- any non-int gb are rounded up\n",
    "\n",
    "#calculate revenue from messages\n",
    "revenue['rev_data_monthly'] = np.where(\n",
    "    revenue['gb_topay'] > 0.\n",
    "    , revenue['gb_topay'] * revenue['usd_per_gb'], 0.)\n",
    "\n",
    "revenue.head(30)"
   ]
  },
  {
   "cell_type": "code",
   "execution_count": 30,
   "metadata": {
    "scrolled": true
   },
   "outputs": [
    {
     "data": {
      "text/html": [
       "<div>\n",
       "<style scoped>\n",
       "    .dataframe tbody tr th:only-of-type {\n",
       "        vertical-align: middle;\n",
       "    }\n",
       "\n",
       "    .dataframe tbody tr th {\n",
       "        vertical-align: top;\n",
       "    }\n",
       "\n",
       "    .dataframe thead th {\n",
       "        text-align: right;\n",
       "    }\n",
       "</style>\n",
       "<table border=\"1\" class=\"dataframe\">\n",
       "  <thead>\n",
       "    <tr style=\"text-align: right;\">\n",
       "      <th></th>\n",
       "      <th>user_id</th>\n",
       "      <th>month</th>\n",
       "      <th>call_count</th>\n",
       "      <th>duration_total</th>\n",
       "      <th>message_count</th>\n",
       "      <th>mb_used</th>\n",
       "      <th>city</th>\n",
       "      <th>plan</th>\n",
       "      <th>messages_included</th>\n",
       "      <th>mb_per_month_included</th>\n",
       "      <th>...</th>\n",
       "      <th>usd_per_gb</th>\n",
       "      <th>usd_per_message</th>\n",
       "      <th>usd_per_minute</th>\n",
       "      <th>minutes_topay</th>\n",
       "      <th>rev_min_monthly</th>\n",
       "      <th>messages_topay</th>\n",
       "      <th>rev_mess_monthly</th>\n",
       "      <th>gb_topay</th>\n",
       "      <th>rev_data_monthly</th>\n",
       "      <th>total_monthly_rev</th>\n",
       "    </tr>\n",
       "  </thead>\n",
       "  <tbody>\n",
       "    <tr>\n",
       "      <td>0</td>\n",
       "      <td>1000</td>\n",
       "      <td>12.0</td>\n",
       "      <td>16.0</td>\n",
       "      <td>124.0</td>\n",
       "      <td>11.0</td>\n",
       "      <td>1901.47</td>\n",
       "      <td>Atlanta-Sandy Springs-Roswell, GA MSA</td>\n",
       "      <td>ultimate</td>\n",
       "      <td>1000</td>\n",
       "      <td>30720</td>\n",
       "      <td>...</td>\n",
       "      <td>7</td>\n",
       "      <td>0.01</td>\n",
       "      <td>0.01</td>\n",
       "      <td>0.0</td>\n",
       "      <td>0.00</td>\n",
       "      <td>0.0</td>\n",
       "      <td>0.00</td>\n",
       "      <td>0.0</td>\n",
       "      <td>0.0</td>\n",
       "      <td>70.00</td>\n",
       "    </tr>\n",
       "    <tr>\n",
       "      <td>645</td>\n",
       "      <td>1001</td>\n",
       "      <td>12.0</td>\n",
       "      <td>56.0</td>\n",
       "      <td>412.0</td>\n",
       "      <td>44.0</td>\n",
       "      <td>19369.18</td>\n",
       "      <td>Seattle-Tacoma-Bellevue, WA MSA</td>\n",
       "      <td>surf</td>\n",
       "      <td>50</td>\n",
       "      <td>15360</td>\n",
       "      <td>...</td>\n",
       "      <td>10</td>\n",
       "      <td>0.03</td>\n",
       "      <td>0.03</td>\n",
       "      <td>0.0</td>\n",
       "      <td>0.00</td>\n",
       "      <td>0.0</td>\n",
       "      <td>0.00</td>\n",
       "      <td>5.0</td>\n",
       "      <td>50.0</td>\n",
       "      <td>70.00</td>\n",
       "    </tr>\n",
       "    <tr>\n",
       "      <td>646</td>\n",
       "      <td>1001</td>\n",
       "      <td>11.0</td>\n",
       "      <td>64.0</td>\n",
       "      <td>426.0</td>\n",
       "      <td>36.0</td>\n",
       "      <td>18504.30</td>\n",
       "      <td>Seattle-Tacoma-Bellevue, WA MSA</td>\n",
       "      <td>surf</td>\n",
       "      <td>50</td>\n",
       "      <td>15360</td>\n",
       "      <td>...</td>\n",
       "      <td>10</td>\n",
       "      <td>0.03</td>\n",
       "      <td>0.03</td>\n",
       "      <td>0.0</td>\n",
       "      <td>0.00</td>\n",
       "      <td>0.0</td>\n",
       "      <td>0.00</td>\n",
       "      <td>4.0</td>\n",
       "      <td>40.0</td>\n",
       "      <td>60.00</td>\n",
       "    </tr>\n",
       "    <tr>\n",
       "      <td>647</td>\n",
       "      <td>1001</td>\n",
       "      <td>8.0</td>\n",
       "      <td>27.0</td>\n",
       "      <td>182.0</td>\n",
       "      <td>30.0</td>\n",
       "      <td>6919.15</td>\n",
       "      <td>Seattle-Tacoma-Bellevue, WA MSA</td>\n",
       "      <td>surf</td>\n",
       "      <td>50</td>\n",
       "      <td>15360</td>\n",
       "      <td>...</td>\n",
       "      <td>10</td>\n",
       "      <td>0.03</td>\n",
       "      <td>0.03</td>\n",
       "      <td>0.0</td>\n",
       "      <td>0.00</td>\n",
       "      <td>0.0</td>\n",
       "      <td>0.00</td>\n",
       "      <td>0.0</td>\n",
       "      <td>0.0</td>\n",
       "      <td>20.00</td>\n",
       "    </tr>\n",
       "    <tr>\n",
       "      <td>644</td>\n",
       "      <td>1001</td>\n",
       "      <td>10.0</td>\n",
       "      <td>65.0</td>\n",
       "      <td>393.0</td>\n",
       "      <td>53.0</td>\n",
       "      <td>22330.49</td>\n",
       "      <td>Seattle-Tacoma-Bellevue, WA MSA</td>\n",
       "      <td>surf</td>\n",
       "      <td>50</td>\n",
       "      <td>15360</td>\n",
       "      <td>...</td>\n",
       "      <td>10</td>\n",
       "      <td>0.03</td>\n",
       "      <td>0.03</td>\n",
       "      <td>0.0</td>\n",
       "      <td>0.00</td>\n",
       "      <td>3.0</td>\n",
       "      <td>0.09</td>\n",
       "      <td>7.0</td>\n",
       "      <td>70.0</td>\n",
       "      <td>90.09</td>\n",
       "    </tr>\n",
       "    <tr>\n",
       "      <td>643</td>\n",
       "      <td>1001</td>\n",
       "      <td>9.0</td>\n",
       "      <td>49.0</td>\n",
       "      <td>315.0</td>\n",
       "      <td>44.0</td>\n",
       "      <td>13314.82</td>\n",
       "      <td>Seattle-Tacoma-Bellevue, WA MSA</td>\n",
       "      <td>surf</td>\n",
       "      <td>50</td>\n",
       "      <td>15360</td>\n",
       "      <td>...</td>\n",
       "      <td>10</td>\n",
       "      <td>0.03</td>\n",
       "      <td>0.03</td>\n",
       "      <td>0.0</td>\n",
       "      <td>0.00</td>\n",
       "      <td>0.0</td>\n",
       "      <td>0.00</td>\n",
       "      <td>0.0</td>\n",
       "      <td>0.0</td>\n",
       "      <td>20.00</td>\n",
       "    </tr>\n",
       "    <tr>\n",
       "      <td>650</td>\n",
       "      <td>1002</td>\n",
       "      <td>10.0</td>\n",
       "      <td>11.0</td>\n",
       "      <td>59.0</td>\n",
       "      <td>15.0</td>\n",
       "      <td>6552.01</td>\n",
       "      <td>Las Vegas-Henderson-Paradise, NV MSA</td>\n",
       "      <td>surf</td>\n",
       "      <td>50</td>\n",
       "      <td>15360</td>\n",
       "      <td>...</td>\n",
       "      <td>10</td>\n",
       "      <td>0.03</td>\n",
       "      <td>0.03</td>\n",
       "      <td>0.0</td>\n",
       "      <td>0.00</td>\n",
       "      <td>0.0</td>\n",
       "      <td>0.00</td>\n",
       "      <td>0.0</td>\n",
       "      <td>0.0</td>\n",
       "      <td>20.00</td>\n",
       "    </tr>\n",
       "    <tr>\n",
       "      <td>649</td>\n",
       "      <td>1002</td>\n",
       "      <td>12.0</td>\n",
       "      <td>47.0</td>\n",
       "      <td>384.0</td>\n",
       "      <td>41.0</td>\n",
       "      <td>14396.24</td>\n",
       "      <td>Las Vegas-Henderson-Paradise, NV MSA</td>\n",
       "      <td>surf</td>\n",
       "      <td>50</td>\n",
       "      <td>15360</td>\n",
       "      <td>...</td>\n",
       "      <td>10</td>\n",
       "      <td>0.03</td>\n",
       "      <td>0.03</td>\n",
       "      <td>0.0</td>\n",
       "      <td>0.00</td>\n",
       "      <td>0.0</td>\n",
       "      <td>0.00</td>\n",
       "      <td>0.0</td>\n",
       "      <td>0.0</td>\n",
       "      <td>20.00</td>\n",
       "    </tr>\n",
       "    <tr>\n",
       "      <td>648</td>\n",
       "      <td>1002</td>\n",
       "      <td>11.0</td>\n",
       "      <td>55.0</td>\n",
       "      <td>386.0</td>\n",
       "      <td>32.0</td>\n",
       "      <td>19345.08</td>\n",
       "      <td>Las Vegas-Henderson-Paradise, NV MSA</td>\n",
       "      <td>surf</td>\n",
       "      <td>50</td>\n",
       "      <td>15360</td>\n",
       "      <td>...</td>\n",
       "      <td>10</td>\n",
       "      <td>0.03</td>\n",
       "      <td>0.03</td>\n",
       "      <td>0.0</td>\n",
       "      <td>0.00</td>\n",
       "      <td>0.0</td>\n",
       "      <td>0.00</td>\n",
       "      <td>4.0</td>\n",
       "      <td>40.0</td>\n",
       "      <td>60.00</td>\n",
       "    </tr>\n",
       "    <tr>\n",
       "      <td>2084</td>\n",
       "      <td>1003</td>\n",
       "      <td>NaN</td>\n",
       "      <td>NaN</td>\n",
       "      <td>NaN</td>\n",
       "      <td>NaN</td>\n",
       "      <td>NaN</td>\n",
       "      <td>Tulsa, OK MSA</td>\n",
       "      <td>surf</td>\n",
       "      <td>50</td>\n",
       "      <td>15360</td>\n",
       "      <td>...</td>\n",
       "      <td>10</td>\n",
       "      <td>0.03</td>\n",
       "      <td>0.03</td>\n",
       "      <td>0.0</td>\n",
       "      <td>0.00</td>\n",
       "      <td>0.0</td>\n",
       "      <td>0.00</td>\n",
       "      <td>0.0</td>\n",
       "      <td>0.0</td>\n",
       "      <td>20.00</td>\n",
       "    </tr>\n",
       "    <tr>\n",
       "      <td>652</td>\n",
       "      <td>1004</td>\n",
       "      <td>8.0</td>\n",
       "      <td>49.0</td>\n",
       "      <td>354.0</td>\n",
       "      <td>25.0</td>\n",
       "      <td>27981.74</td>\n",
       "      <td>Seattle-Tacoma-Bellevue, WA MSA</td>\n",
       "      <td>surf</td>\n",
       "      <td>50</td>\n",
       "      <td>15360</td>\n",
       "      <td>...</td>\n",
       "      <td>10</td>\n",
       "      <td>0.03</td>\n",
       "      <td>0.03</td>\n",
       "      <td>0.0</td>\n",
       "      <td>0.00</td>\n",
       "      <td>0.0</td>\n",
       "      <td>0.00</td>\n",
       "      <td>13.0</td>\n",
       "      <td>130.0</td>\n",
       "      <td>150.00</td>\n",
       "    </tr>\n",
       "    <tr>\n",
       "      <td>651</td>\n",
       "      <td>1004</td>\n",
       "      <td>11.0</td>\n",
       "      <td>54.0</td>\n",
       "      <td>476.0</td>\n",
       "      <td>25.0</td>\n",
       "      <td>21850.78</td>\n",
       "      <td>Seattle-Tacoma-Bellevue, WA MSA</td>\n",
       "      <td>surf</td>\n",
       "      <td>50</td>\n",
       "      <td>15360</td>\n",
       "      <td>...</td>\n",
       "      <td>10</td>\n",
       "      <td>0.03</td>\n",
       "      <td>0.03</td>\n",
       "      <td>0.0</td>\n",
       "      <td>0.00</td>\n",
       "      <td>0.0</td>\n",
       "      <td>0.00</td>\n",
       "      <td>7.0</td>\n",
       "      <td>70.0</td>\n",
       "      <td>90.00</td>\n",
       "    </tr>\n",
       "    <tr>\n",
       "      <td>655</td>\n",
       "      <td>1004</td>\n",
       "      <td>9.0</td>\n",
       "      <td>42.0</td>\n",
       "      <td>301.0</td>\n",
       "      <td>21.0</td>\n",
       "      <td>18852.72</td>\n",
       "      <td>Seattle-Tacoma-Bellevue, WA MSA</td>\n",
       "      <td>surf</td>\n",
       "      <td>50</td>\n",
       "      <td>15360</td>\n",
       "      <td>...</td>\n",
       "      <td>10</td>\n",
       "      <td>0.03</td>\n",
       "      <td>0.03</td>\n",
       "      <td>0.0</td>\n",
       "      <td>0.00</td>\n",
       "      <td>0.0</td>\n",
       "      <td>0.00</td>\n",
       "      <td>4.0</td>\n",
       "      <td>40.0</td>\n",
       "      <td>60.00</td>\n",
       "    </tr>\n",
       "    <tr>\n",
       "      <td>653</td>\n",
       "      <td>1004</td>\n",
       "      <td>7.0</td>\n",
       "      <td>49.0</td>\n",
       "      <td>381.0</td>\n",
       "      <td>26.0</td>\n",
       "      <td>24516.62</td>\n",
       "      <td>Seattle-Tacoma-Bellevue, WA MSA</td>\n",
       "      <td>surf</td>\n",
       "      <td>50</td>\n",
       "      <td>15360</td>\n",
       "      <td>...</td>\n",
       "      <td>10</td>\n",
       "      <td>0.03</td>\n",
       "      <td>0.03</td>\n",
       "      <td>0.0</td>\n",
       "      <td>0.00</td>\n",
       "      <td>0.0</td>\n",
       "      <td>0.00</td>\n",
       "      <td>10.0</td>\n",
       "      <td>100.0</td>\n",
       "      <td>120.00</td>\n",
       "    </tr>\n",
       "    <tr>\n",
       "      <td>656</td>\n",
       "      <td>1004</td>\n",
       "      <td>12.0</td>\n",
       "      <td>50.0</td>\n",
       "      <td>427.0</td>\n",
       "      <td>31.0</td>\n",
       "      <td>21389.29</td>\n",
       "      <td>Seattle-Tacoma-Bellevue, WA MSA</td>\n",
       "      <td>surf</td>\n",
       "      <td>50</td>\n",
       "      <td>15360</td>\n",
       "      <td>...</td>\n",
       "      <td>10</td>\n",
       "      <td>0.03</td>\n",
       "      <td>0.03</td>\n",
       "      <td>0.0</td>\n",
       "      <td>0.00</td>\n",
       "      <td>0.0</td>\n",
       "      <td>0.00</td>\n",
       "      <td>7.0</td>\n",
       "      <td>70.0</td>\n",
       "      <td>90.00</td>\n",
       "    </tr>\n",
       "    <tr>\n",
       "      <td>657</td>\n",
       "      <td>1004</td>\n",
       "      <td>10.0</td>\n",
       "      <td>61.0</td>\n",
       "      <td>365.0</td>\n",
       "      <td>24.0</td>\n",
       "      <td>14541.63</td>\n",
       "      <td>Seattle-Tacoma-Bellevue, WA MSA</td>\n",
       "      <td>surf</td>\n",
       "      <td>50</td>\n",
       "      <td>15360</td>\n",
       "      <td>...</td>\n",
       "      <td>10</td>\n",
       "      <td>0.03</td>\n",
       "      <td>0.03</td>\n",
       "      <td>0.0</td>\n",
       "      <td>0.00</td>\n",
       "      <td>0.0</td>\n",
       "      <td>0.00</td>\n",
       "      <td>0.0</td>\n",
       "      <td>0.0</td>\n",
       "      <td>20.00</td>\n",
       "    </tr>\n",
       "    <tr>\n",
       "      <td>658</td>\n",
       "      <td>1004</td>\n",
       "      <td>5.0</td>\n",
       "      <td>21.0</td>\n",
       "      <td>193.0</td>\n",
       "      <td>7.0</td>\n",
       "      <td>6547.21</td>\n",
       "      <td>Seattle-Tacoma-Bellevue, WA MSA</td>\n",
       "      <td>surf</td>\n",
       "      <td>50</td>\n",
       "      <td>15360</td>\n",
       "      <td>...</td>\n",
       "      <td>10</td>\n",
       "      <td>0.03</td>\n",
       "      <td>0.03</td>\n",
       "      <td>0.0</td>\n",
       "      <td>0.00</td>\n",
       "      <td>0.0</td>\n",
       "      <td>0.00</td>\n",
       "      <td>0.0</td>\n",
       "      <td>0.0</td>\n",
       "      <td>20.00</td>\n",
       "    </tr>\n",
       "    <tr>\n",
       "      <td>654</td>\n",
       "      <td>1004</td>\n",
       "      <td>6.0</td>\n",
       "      <td>44.0</td>\n",
       "      <td>275.0</td>\n",
       "      <td>18.0</td>\n",
       "      <td>20672.82</td>\n",
       "      <td>Seattle-Tacoma-Bellevue, WA MSA</td>\n",
       "      <td>surf</td>\n",
       "      <td>50</td>\n",
       "      <td>15360</td>\n",
       "      <td>...</td>\n",
       "      <td>10</td>\n",
       "      <td>0.03</td>\n",
       "      <td>0.03</td>\n",
       "      <td>0.0</td>\n",
       "      <td>0.00</td>\n",
       "      <td>0.0</td>\n",
       "      <td>0.00</td>\n",
       "      <td>6.0</td>\n",
       "      <td>60.0</td>\n",
       "      <td>80.00</td>\n",
       "    </tr>\n",
       "    <tr>\n",
       "      <td>659</td>\n",
       "      <td>1005</td>\n",
       "      <td>12.0</td>\n",
       "      <td>59.0</td>\n",
       "      <td>496.0</td>\n",
       "      <td>11.0</td>\n",
       "      <td>17140.17</td>\n",
       "      <td>Dallas-Fort Worth-Arlington, TX MSA</td>\n",
       "      <td>surf</td>\n",
       "      <td>50</td>\n",
       "      <td>15360</td>\n",
       "      <td>...</td>\n",
       "      <td>10</td>\n",
       "      <td>0.03</td>\n",
       "      <td>0.03</td>\n",
       "      <td>0.0</td>\n",
       "      <td>0.00</td>\n",
       "      <td>0.0</td>\n",
       "      <td>0.00</td>\n",
       "      <td>2.0</td>\n",
       "      <td>20.0</td>\n",
       "      <td>40.00</td>\n",
       "    </tr>\n",
       "    <tr>\n",
       "      <td>1</td>\n",
       "      <td>1006</td>\n",
       "      <td>11.0</td>\n",
       "      <td>2.0</td>\n",
       "      <td>10.0</td>\n",
       "      <td>15.0</td>\n",
       "      <td>2068.37</td>\n",
       "      <td>San Francisco-Oakland-Berkeley, CA MSA</td>\n",
       "      <td>ultimate</td>\n",
       "      <td>1000</td>\n",
       "      <td>30720</td>\n",
       "      <td>...</td>\n",
       "      <td>7</td>\n",
       "      <td>0.01</td>\n",
       "      <td>0.01</td>\n",
       "      <td>0.0</td>\n",
       "      <td>0.00</td>\n",
       "      <td>0.0</td>\n",
       "      <td>0.00</td>\n",
       "      <td>0.0</td>\n",
       "      <td>0.0</td>\n",
       "      <td>70.00</td>\n",
       "    </tr>\n",
       "    <tr>\n",
       "      <td>660</td>\n",
       "      <td>1007</td>\n",
       "      <td>11.0</td>\n",
       "      <td>80.0</td>\n",
       "      <td>524.0</td>\n",
       "      <td>48.0</td>\n",
       "      <td>24334.00</td>\n",
       "      <td>Grand Rapids-Kentwood, MI MSA</td>\n",
       "      <td>surf</td>\n",
       "      <td>50</td>\n",
       "      <td>15360</td>\n",
       "      <td>...</td>\n",
       "      <td>10</td>\n",
       "      <td>0.03</td>\n",
       "      <td>0.03</td>\n",
       "      <td>24.0</td>\n",
       "      <td>0.72</td>\n",
       "      <td>0.0</td>\n",
       "      <td>0.00</td>\n",
       "      <td>9.0</td>\n",
       "      <td>90.0</td>\n",
       "      <td>110.72</td>\n",
       "    </tr>\n",
       "    <tr>\n",
       "      <td>661</td>\n",
       "      <td>1007</td>\n",
       "      <td>9.0</td>\n",
       "      <td>63.0</td>\n",
       "      <td>399.0</td>\n",
       "      <td>47.0</td>\n",
       "      <td>28123.95</td>\n",
       "      <td>Grand Rapids-Kentwood, MI MSA</td>\n",
       "      <td>surf</td>\n",
       "      <td>50</td>\n",
       "      <td>15360</td>\n",
       "      <td>...</td>\n",
       "      <td>10</td>\n",
       "      <td>0.03</td>\n",
       "      <td>0.03</td>\n",
       "      <td>0.0</td>\n",
       "      <td>0.00</td>\n",
       "      <td>0.0</td>\n",
       "      <td>0.00</td>\n",
       "      <td>13.0</td>\n",
       "      <td>130.0</td>\n",
       "      <td>150.00</td>\n",
       "    </tr>\n",
       "    <tr>\n",
       "      <td>662</td>\n",
       "      <td>1007</td>\n",
       "      <td>12.0</td>\n",
       "      <td>87.0</td>\n",
       "      <td>617.0</td>\n",
       "      <td>50.0</td>\n",
       "      <td>29069.28</td>\n",
       "      <td>Grand Rapids-Kentwood, MI MSA</td>\n",
       "      <td>surf</td>\n",
       "      <td>50</td>\n",
       "      <td>15360</td>\n",
       "      <td>...</td>\n",
       "      <td>10</td>\n",
       "      <td>0.03</td>\n",
       "      <td>0.03</td>\n",
       "      <td>117.0</td>\n",
       "      <td>3.51</td>\n",
       "      <td>0.0</td>\n",
       "      <td>0.00</td>\n",
       "      <td>14.0</td>\n",
       "      <td>140.0</td>\n",
       "      <td>163.51</td>\n",
       "    </tr>\n",
       "    <tr>\n",
       "      <td>663</td>\n",
       "      <td>1007</td>\n",
       "      <td>8.0</td>\n",
       "      <td>70.0</td>\n",
       "      <td>456.0</td>\n",
       "      <td>51.0</td>\n",
       "      <td>24439.88</td>\n",
       "      <td>Grand Rapids-Kentwood, MI MSA</td>\n",
       "      <td>surf</td>\n",
       "      <td>50</td>\n",
       "      <td>15360</td>\n",
       "      <td>...</td>\n",
       "      <td>10</td>\n",
       "      <td>0.03</td>\n",
       "      <td>0.03</td>\n",
       "      <td>0.0</td>\n",
       "      <td>0.00</td>\n",
       "      <td>1.0</td>\n",
       "      <td>0.03</td>\n",
       "      <td>10.0</td>\n",
       "      <td>100.0</td>\n",
       "      <td>120.03</td>\n",
       "    </tr>\n",
       "    <tr>\n",
       "      <td>2</td>\n",
       "      <td>1008</td>\n",
       "      <td>12.0</td>\n",
       "      <td>85.0</td>\n",
       "      <td>634.0</td>\n",
       "      <td>26.0</td>\n",
       "      <td>14689.33</td>\n",
       "      <td>Orlando-Kissimmee-Sanford, FL MSA</td>\n",
       "      <td>ultimate</td>\n",
       "      <td>1000</td>\n",
       "      <td>30720</td>\n",
       "      <td>...</td>\n",
       "      <td>7</td>\n",
       "      <td>0.01</td>\n",
       "      <td>0.01</td>\n",
       "      <td>0.0</td>\n",
       "      <td>0.00</td>\n",
       "      <td>0.0</td>\n",
       "      <td>0.00</td>\n",
       "      <td>0.0</td>\n",
       "      <td>0.0</td>\n",
       "      <td>70.00</td>\n",
       "    </tr>\n",
       "    <tr>\n",
       "      <td>4</td>\n",
       "      <td>1008</td>\n",
       "      <td>10.0</td>\n",
       "      <td>71.0</td>\n",
       "      <td>476.0</td>\n",
       "      <td>21.0</td>\n",
       "      <td>17106.99</td>\n",
       "      <td>Orlando-Kissimmee-Sanford, FL MSA</td>\n",
       "      <td>ultimate</td>\n",
       "      <td>1000</td>\n",
       "      <td>30720</td>\n",
       "      <td>...</td>\n",
       "      <td>7</td>\n",
       "      <td>0.01</td>\n",
       "      <td>0.01</td>\n",
       "      <td>0.0</td>\n",
       "      <td>0.00</td>\n",
       "      <td>0.0</td>\n",
       "      <td>0.00</td>\n",
       "      <td>0.0</td>\n",
       "      <td>0.0</td>\n",
       "      <td>70.00</td>\n",
       "    </tr>\n",
       "    <tr>\n",
       "      <td>3</td>\n",
       "      <td>1008</td>\n",
       "      <td>11.0</td>\n",
       "      <td>63.0</td>\n",
       "      <td>446.0</td>\n",
       "      <td>37.0</td>\n",
       "      <td>23676.72</td>\n",
       "      <td>Orlando-Kissimmee-Sanford, FL MSA</td>\n",
       "      <td>ultimate</td>\n",
       "      <td>1000</td>\n",
       "      <td>30720</td>\n",
       "      <td>...</td>\n",
       "      <td>7</td>\n",
       "      <td>0.01</td>\n",
       "      <td>0.01</td>\n",
       "      <td>0.0</td>\n",
       "      <td>0.00</td>\n",
       "      <td>0.0</td>\n",
       "      <td>0.00</td>\n",
       "      <td>0.0</td>\n",
       "      <td>0.0</td>\n",
       "      <td>70.00</td>\n",
       "    </tr>\n",
       "    <tr>\n",
       "      <td>671</td>\n",
       "      <td>1009</td>\n",
       "      <td>8.0</td>\n",
       "      <td>109.0</td>\n",
       "      <td>731.0</td>\n",
       "      <td>NaN</td>\n",
       "      <td>24557.52</td>\n",
       "      <td>San Jose-Sunnyvale-Santa Clara, CA MSA</td>\n",
       "      <td>surf</td>\n",
       "      <td>50</td>\n",
       "      <td>15360</td>\n",
       "      <td>...</td>\n",
       "      <td>10</td>\n",
       "      <td>0.03</td>\n",
       "      <td>0.03</td>\n",
       "      <td>231.0</td>\n",
       "      <td>6.93</td>\n",
       "      <td>0.0</td>\n",
       "      <td>0.00</td>\n",
       "      <td>10.0</td>\n",
       "      <td>100.0</td>\n",
       "      <td>126.93</td>\n",
       "    </tr>\n",
       "    <tr>\n",
       "      <td>665</td>\n",
       "      <td>1009</td>\n",
       "      <td>5.0</td>\n",
       "      <td>71.0</td>\n",
       "      <td>534.0</td>\n",
       "      <td>NaN</td>\n",
       "      <td>20389.40</td>\n",
       "      <td>San Jose-Sunnyvale-Santa Clara, CA MSA</td>\n",
       "      <td>surf</td>\n",
       "      <td>50</td>\n",
       "      <td>15360</td>\n",
       "      <td>...</td>\n",
       "      <td>10</td>\n",
       "      <td>0.03</td>\n",
       "      <td>0.03</td>\n",
       "      <td>34.0</td>\n",
       "      <td>1.02</td>\n",
       "      <td>0.0</td>\n",
       "      <td>0.00</td>\n",
       "      <td>6.0</td>\n",
       "      <td>60.0</td>\n",
       "      <td>81.02</td>\n",
       "    </tr>\n",
       "    <tr>\n",
       "      <td>666</td>\n",
       "      <td>1009</td>\n",
       "      <td>9.0</td>\n",
       "      <td>116.0</td>\n",
       "      <td>776.0</td>\n",
       "      <td>NaN</td>\n",
       "      <td>20962.40</td>\n",
       "      <td>San Jose-Sunnyvale-Santa Clara, CA MSA</td>\n",
       "      <td>surf</td>\n",
       "      <td>50</td>\n",
       "      <td>15360</td>\n",
       "      <td>...</td>\n",
       "      <td>10</td>\n",
       "      <td>0.03</td>\n",
       "      <td>0.03</td>\n",
       "      <td>276.0</td>\n",
       "      <td>8.28</td>\n",
       "      <td>0.0</td>\n",
       "      <td>0.00</td>\n",
       "      <td>6.0</td>\n",
       "      <td>60.0</td>\n",
       "      <td>88.28</td>\n",
       "    </tr>\n",
       "  </tbody>\n",
       "</table>\n",
       "<p>30 rows × 22 columns</p>\n",
       "</div>"
      ],
      "text/plain": [
       "      user_id  month  call_count  duration_total  message_count   mb_used  \\\n",
       "0        1000   12.0        16.0           124.0           11.0   1901.47   \n",
       "645      1001   12.0        56.0           412.0           44.0  19369.18   \n",
       "646      1001   11.0        64.0           426.0           36.0  18504.30   \n",
       "647      1001    8.0        27.0           182.0           30.0   6919.15   \n",
       "644      1001   10.0        65.0           393.0           53.0  22330.49   \n",
       "643      1001    9.0        49.0           315.0           44.0  13314.82   \n",
       "650      1002   10.0        11.0            59.0           15.0   6552.01   \n",
       "649      1002   12.0        47.0           384.0           41.0  14396.24   \n",
       "648      1002   11.0        55.0           386.0           32.0  19345.08   \n",
       "2084     1003    NaN         NaN             NaN            NaN       NaN   \n",
       "652      1004    8.0        49.0           354.0           25.0  27981.74   \n",
       "651      1004   11.0        54.0           476.0           25.0  21850.78   \n",
       "655      1004    9.0        42.0           301.0           21.0  18852.72   \n",
       "653      1004    7.0        49.0           381.0           26.0  24516.62   \n",
       "656      1004   12.0        50.0           427.0           31.0  21389.29   \n",
       "657      1004   10.0        61.0           365.0           24.0  14541.63   \n",
       "658      1004    5.0        21.0           193.0            7.0   6547.21   \n",
       "654      1004    6.0        44.0           275.0           18.0  20672.82   \n",
       "659      1005   12.0        59.0           496.0           11.0  17140.17   \n",
       "1        1006   11.0         2.0            10.0           15.0   2068.37   \n",
       "660      1007   11.0        80.0           524.0           48.0  24334.00   \n",
       "661      1007    9.0        63.0           399.0           47.0  28123.95   \n",
       "662      1007   12.0        87.0           617.0           50.0  29069.28   \n",
       "663      1007    8.0        70.0           456.0           51.0  24439.88   \n",
       "2        1008   12.0        85.0           634.0           26.0  14689.33   \n",
       "4        1008   10.0        71.0           476.0           21.0  17106.99   \n",
       "3        1008   11.0        63.0           446.0           37.0  23676.72   \n",
       "671      1009    8.0       109.0           731.0            NaN  24557.52   \n",
       "665      1009    5.0        71.0           534.0            NaN  20389.40   \n",
       "666      1009    9.0       116.0           776.0            NaN  20962.40   \n",
       "\n",
       "                                        city      plan  messages_included  \\\n",
       "0      Atlanta-Sandy Springs-Roswell, GA MSA  ultimate               1000   \n",
       "645          Seattle-Tacoma-Bellevue, WA MSA      surf                 50   \n",
       "646          Seattle-Tacoma-Bellevue, WA MSA      surf                 50   \n",
       "647          Seattle-Tacoma-Bellevue, WA MSA      surf                 50   \n",
       "644          Seattle-Tacoma-Bellevue, WA MSA      surf                 50   \n",
       "643          Seattle-Tacoma-Bellevue, WA MSA      surf                 50   \n",
       "650     Las Vegas-Henderson-Paradise, NV MSA      surf                 50   \n",
       "649     Las Vegas-Henderson-Paradise, NV MSA      surf                 50   \n",
       "648     Las Vegas-Henderson-Paradise, NV MSA      surf                 50   \n",
       "2084                           Tulsa, OK MSA      surf                 50   \n",
       "652          Seattle-Tacoma-Bellevue, WA MSA      surf                 50   \n",
       "651          Seattle-Tacoma-Bellevue, WA MSA      surf                 50   \n",
       "655          Seattle-Tacoma-Bellevue, WA MSA      surf                 50   \n",
       "653          Seattle-Tacoma-Bellevue, WA MSA      surf                 50   \n",
       "656          Seattle-Tacoma-Bellevue, WA MSA      surf                 50   \n",
       "657          Seattle-Tacoma-Bellevue, WA MSA      surf                 50   \n",
       "658          Seattle-Tacoma-Bellevue, WA MSA      surf                 50   \n",
       "654          Seattle-Tacoma-Bellevue, WA MSA      surf                 50   \n",
       "659      Dallas-Fort Worth-Arlington, TX MSA      surf                 50   \n",
       "1     San Francisco-Oakland-Berkeley, CA MSA  ultimate               1000   \n",
       "660            Grand Rapids-Kentwood, MI MSA      surf                 50   \n",
       "661            Grand Rapids-Kentwood, MI MSA      surf                 50   \n",
       "662            Grand Rapids-Kentwood, MI MSA      surf                 50   \n",
       "663            Grand Rapids-Kentwood, MI MSA      surf                 50   \n",
       "2          Orlando-Kissimmee-Sanford, FL MSA  ultimate               1000   \n",
       "4          Orlando-Kissimmee-Sanford, FL MSA  ultimate               1000   \n",
       "3          Orlando-Kissimmee-Sanford, FL MSA  ultimate               1000   \n",
       "671   San Jose-Sunnyvale-Santa Clara, CA MSA      surf                 50   \n",
       "665   San Jose-Sunnyvale-Santa Clara, CA MSA      surf                 50   \n",
       "666   San Jose-Sunnyvale-Santa Clara, CA MSA      surf                 50   \n",
       "\n",
       "      mb_per_month_included  ...  usd_per_gb  usd_per_message  usd_per_minute  \\\n",
       "0                     30720  ...           7             0.01            0.01   \n",
       "645                   15360  ...          10             0.03            0.03   \n",
       "646                   15360  ...          10             0.03            0.03   \n",
       "647                   15360  ...          10             0.03            0.03   \n",
       "644                   15360  ...          10             0.03            0.03   \n",
       "643                   15360  ...          10             0.03            0.03   \n",
       "650                   15360  ...          10             0.03            0.03   \n",
       "649                   15360  ...          10             0.03            0.03   \n",
       "648                   15360  ...          10             0.03            0.03   \n",
       "2084                  15360  ...          10             0.03            0.03   \n",
       "652                   15360  ...          10             0.03            0.03   \n",
       "651                   15360  ...          10             0.03            0.03   \n",
       "655                   15360  ...          10             0.03            0.03   \n",
       "653                   15360  ...          10             0.03            0.03   \n",
       "656                   15360  ...          10             0.03            0.03   \n",
       "657                   15360  ...          10             0.03            0.03   \n",
       "658                   15360  ...          10             0.03            0.03   \n",
       "654                   15360  ...          10             0.03            0.03   \n",
       "659                   15360  ...          10             0.03            0.03   \n",
       "1                     30720  ...           7             0.01            0.01   \n",
       "660                   15360  ...          10             0.03            0.03   \n",
       "661                   15360  ...          10             0.03            0.03   \n",
       "662                   15360  ...          10             0.03            0.03   \n",
       "663                   15360  ...          10             0.03            0.03   \n",
       "2                     30720  ...           7             0.01            0.01   \n",
       "4                     30720  ...           7             0.01            0.01   \n",
       "3                     30720  ...           7             0.01            0.01   \n",
       "671                   15360  ...          10             0.03            0.03   \n",
       "665                   15360  ...          10             0.03            0.03   \n",
       "666                   15360  ...          10             0.03            0.03   \n",
       "\n",
       "      minutes_topay  rev_min_monthly  messages_topay  rev_mess_monthly  \\\n",
       "0               0.0             0.00             0.0              0.00   \n",
       "645             0.0             0.00             0.0              0.00   \n",
       "646             0.0             0.00             0.0              0.00   \n",
       "647             0.0             0.00             0.0              0.00   \n",
       "644             0.0             0.00             3.0              0.09   \n",
       "643             0.0             0.00             0.0              0.00   \n",
       "650             0.0             0.00             0.0              0.00   \n",
       "649             0.0             0.00             0.0              0.00   \n",
       "648             0.0             0.00             0.0              0.00   \n",
       "2084            0.0             0.00             0.0              0.00   \n",
       "652             0.0             0.00             0.0              0.00   \n",
       "651             0.0             0.00             0.0              0.00   \n",
       "655             0.0             0.00             0.0              0.00   \n",
       "653             0.0             0.00             0.0              0.00   \n",
       "656             0.0             0.00             0.0              0.00   \n",
       "657             0.0             0.00             0.0              0.00   \n",
       "658             0.0             0.00             0.0              0.00   \n",
       "654             0.0             0.00             0.0              0.00   \n",
       "659             0.0             0.00             0.0              0.00   \n",
       "1               0.0             0.00             0.0              0.00   \n",
       "660            24.0             0.72             0.0              0.00   \n",
       "661             0.0             0.00             0.0              0.00   \n",
       "662           117.0             3.51             0.0              0.00   \n",
       "663             0.0             0.00             1.0              0.03   \n",
       "2               0.0             0.00             0.0              0.00   \n",
       "4               0.0             0.00             0.0              0.00   \n",
       "3               0.0             0.00             0.0              0.00   \n",
       "671           231.0             6.93             0.0              0.00   \n",
       "665            34.0             1.02             0.0              0.00   \n",
       "666           276.0             8.28             0.0              0.00   \n",
       "\n",
       "      gb_topay  rev_data_monthly  total_monthly_rev  \n",
       "0          0.0               0.0              70.00  \n",
       "645        5.0              50.0              70.00  \n",
       "646        4.0              40.0              60.00  \n",
       "647        0.0               0.0              20.00  \n",
       "644        7.0              70.0              90.09  \n",
       "643        0.0               0.0              20.00  \n",
       "650        0.0               0.0              20.00  \n",
       "649        0.0               0.0              20.00  \n",
       "648        4.0              40.0              60.00  \n",
       "2084       0.0               0.0              20.00  \n",
       "652       13.0             130.0             150.00  \n",
       "651        7.0              70.0              90.00  \n",
       "655        4.0              40.0              60.00  \n",
       "653       10.0             100.0             120.00  \n",
       "656        7.0              70.0              90.00  \n",
       "657        0.0               0.0              20.00  \n",
       "658        0.0               0.0              20.00  \n",
       "654        6.0              60.0              80.00  \n",
       "659        2.0              20.0              40.00  \n",
       "1          0.0               0.0              70.00  \n",
       "660        9.0              90.0             110.72  \n",
       "661       13.0             130.0             150.00  \n",
       "662       14.0             140.0             163.51  \n",
       "663       10.0             100.0             120.03  \n",
       "2          0.0               0.0              70.00  \n",
       "4          0.0               0.0              70.00  \n",
       "3          0.0               0.0              70.00  \n",
       "671       10.0             100.0             126.93  \n",
       "665        6.0              60.0              81.02  \n",
       "666        6.0              60.0              88.28  \n",
       "\n",
       "[30 rows x 22 columns]"
      ]
     },
     "execution_count": 30,
     "metadata": {},
     "output_type": "execute_result"
    }
   ],
   "source": [
    "#finally, add all the revenue columns and the monthly plan fee for total monthly revenue\n",
    "revenue['total_monthly_rev'] = (revenue['usd_monthly_pay'] \n",
    "                                + revenue['rev_min_monthly']\n",
    "                                + revenue['rev_mess_monthly']\n",
    "                                + revenue['rev_data_monthly'])\n",
    "revenue.head(30)\n",
    "#total monthly revenue per user successfully logged into revenue dataframe                              "
   ]
  },
  {
   "cell_type": "code",
   "execution_count": 31,
   "metadata": {},
   "outputs": [
    {
     "data": {
      "text/html": [
       "<div>\n",
       "<style scoped>\n",
       "    .dataframe tbody tr th:only-of-type {\n",
       "        vertical-align: middle;\n",
       "    }\n",
       "\n",
       "    .dataframe tbody tr th {\n",
       "        vertical-align: top;\n",
       "    }\n",
       "\n",
       "    .dataframe thead th {\n",
       "        text-align: right;\n",
       "    }\n",
       "</style>\n",
       "<table border=\"1\" class=\"dataframe\">\n",
       "  <thead>\n",
       "    <tr style=\"text-align: right;\">\n",
       "      <th></th>\n",
       "      <th>user_id</th>\n",
       "      <th>month</th>\n",
       "      <th>call_count</th>\n",
       "      <th>duration_total</th>\n",
       "      <th>message_count</th>\n",
       "      <th>mb_used</th>\n",
       "      <th>city</th>\n",
       "      <th>plan</th>\n",
       "      <th>rev_min_monthly</th>\n",
       "      <th>rev_mess_monthly</th>\n",
       "      <th>rev_data_monthly</th>\n",
       "      <th>total_monthly_rev</th>\n",
       "    </tr>\n",
       "  </thead>\n",
       "  <tbody>\n",
       "    <tr>\n",
       "      <td>0</td>\n",
       "      <td>1000</td>\n",
       "      <td>12.0</td>\n",
       "      <td>16.0</td>\n",
       "      <td>124.0</td>\n",
       "      <td>11.0</td>\n",
       "      <td>1901.47</td>\n",
       "      <td>Atlanta-Sandy Springs-Roswell, GA MSA</td>\n",
       "      <td>ultimate</td>\n",
       "      <td>0.0</td>\n",
       "      <td>0.00</td>\n",
       "      <td>0.0</td>\n",
       "      <td>70.00</td>\n",
       "    </tr>\n",
       "    <tr>\n",
       "      <td>645</td>\n",
       "      <td>1001</td>\n",
       "      <td>12.0</td>\n",
       "      <td>56.0</td>\n",
       "      <td>412.0</td>\n",
       "      <td>44.0</td>\n",
       "      <td>19369.18</td>\n",
       "      <td>Seattle-Tacoma-Bellevue, WA MSA</td>\n",
       "      <td>surf</td>\n",
       "      <td>0.0</td>\n",
       "      <td>0.00</td>\n",
       "      <td>50.0</td>\n",
       "      <td>70.00</td>\n",
       "    </tr>\n",
       "    <tr>\n",
       "      <td>646</td>\n",
       "      <td>1001</td>\n",
       "      <td>11.0</td>\n",
       "      <td>64.0</td>\n",
       "      <td>426.0</td>\n",
       "      <td>36.0</td>\n",
       "      <td>18504.30</td>\n",
       "      <td>Seattle-Tacoma-Bellevue, WA MSA</td>\n",
       "      <td>surf</td>\n",
       "      <td>0.0</td>\n",
       "      <td>0.00</td>\n",
       "      <td>40.0</td>\n",
       "      <td>60.00</td>\n",
       "    </tr>\n",
       "    <tr>\n",
       "      <td>647</td>\n",
       "      <td>1001</td>\n",
       "      <td>8.0</td>\n",
       "      <td>27.0</td>\n",
       "      <td>182.0</td>\n",
       "      <td>30.0</td>\n",
       "      <td>6919.15</td>\n",
       "      <td>Seattle-Tacoma-Bellevue, WA MSA</td>\n",
       "      <td>surf</td>\n",
       "      <td>0.0</td>\n",
       "      <td>0.00</td>\n",
       "      <td>0.0</td>\n",
       "      <td>20.00</td>\n",
       "    </tr>\n",
       "    <tr>\n",
       "      <td>644</td>\n",
       "      <td>1001</td>\n",
       "      <td>10.0</td>\n",
       "      <td>65.0</td>\n",
       "      <td>393.0</td>\n",
       "      <td>53.0</td>\n",
       "      <td>22330.49</td>\n",
       "      <td>Seattle-Tacoma-Bellevue, WA MSA</td>\n",
       "      <td>surf</td>\n",
       "      <td>0.0</td>\n",
       "      <td>0.09</td>\n",
       "      <td>70.0</td>\n",
       "      <td>90.09</td>\n",
       "    </tr>\n",
       "    <tr>\n",
       "      <td>643</td>\n",
       "      <td>1001</td>\n",
       "      <td>9.0</td>\n",
       "      <td>49.0</td>\n",
       "      <td>315.0</td>\n",
       "      <td>44.0</td>\n",
       "      <td>13314.82</td>\n",
       "      <td>Seattle-Tacoma-Bellevue, WA MSA</td>\n",
       "      <td>surf</td>\n",
       "      <td>0.0</td>\n",
       "      <td>0.00</td>\n",
       "      <td>0.0</td>\n",
       "      <td>20.00</td>\n",
       "    </tr>\n",
       "    <tr>\n",
       "      <td>650</td>\n",
       "      <td>1002</td>\n",
       "      <td>10.0</td>\n",
       "      <td>11.0</td>\n",
       "      <td>59.0</td>\n",
       "      <td>15.0</td>\n",
       "      <td>6552.01</td>\n",
       "      <td>Las Vegas-Henderson-Paradise, NV MSA</td>\n",
       "      <td>surf</td>\n",
       "      <td>0.0</td>\n",
       "      <td>0.00</td>\n",
       "      <td>0.0</td>\n",
       "      <td>20.00</td>\n",
       "    </tr>\n",
       "    <tr>\n",
       "      <td>649</td>\n",
       "      <td>1002</td>\n",
       "      <td>12.0</td>\n",
       "      <td>47.0</td>\n",
       "      <td>384.0</td>\n",
       "      <td>41.0</td>\n",
       "      <td>14396.24</td>\n",
       "      <td>Las Vegas-Henderson-Paradise, NV MSA</td>\n",
       "      <td>surf</td>\n",
       "      <td>0.0</td>\n",
       "      <td>0.00</td>\n",
       "      <td>0.0</td>\n",
       "      <td>20.00</td>\n",
       "    </tr>\n",
       "    <tr>\n",
       "      <td>648</td>\n",
       "      <td>1002</td>\n",
       "      <td>11.0</td>\n",
       "      <td>55.0</td>\n",
       "      <td>386.0</td>\n",
       "      <td>32.0</td>\n",
       "      <td>19345.08</td>\n",
       "      <td>Las Vegas-Henderson-Paradise, NV MSA</td>\n",
       "      <td>surf</td>\n",
       "      <td>0.0</td>\n",
       "      <td>0.00</td>\n",
       "      <td>40.0</td>\n",
       "      <td>60.00</td>\n",
       "    </tr>\n",
       "    <tr>\n",
       "      <td>2084</td>\n",
       "      <td>1003</td>\n",
       "      <td>NaN</td>\n",
       "      <td>NaN</td>\n",
       "      <td>NaN</td>\n",
       "      <td>NaN</td>\n",
       "      <td>NaN</td>\n",
       "      <td>Tulsa, OK MSA</td>\n",
       "      <td>surf</td>\n",
       "      <td>0.0</td>\n",
       "      <td>0.00</td>\n",
       "      <td>0.0</td>\n",
       "      <td>20.00</td>\n",
       "    </tr>\n",
       "  </tbody>\n",
       "</table>\n",
       "</div>"
      ],
      "text/plain": [
       "      user_id  month  call_count  duration_total  message_count   mb_used  \\\n",
       "0        1000   12.0        16.0           124.0           11.0   1901.47   \n",
       "645      1001   12.0        56.0           412.0           44.0  19369.18   \n",
       "646      1001   11.0        64.0           426.0           36.0  18504.30   \n",
       "647      1001    8.0        27.0           182.0           30.0   6919.15   \n",
       "644      1001   10.0        65.0           393.0           53.0  22330.49   \n",
       "643      1001    9.0        49.0           315.0           44.0  13314.82   \n",
       "650      1002   10.0        11.0            59.0           15.0   6552.01   \n",
       "649      1002   12.0        47.0           384.0           41.0  14396.24   \n",
       "648      1002   11.0        55.0           386.0           32.0  19345.08   \n",
       "2084     1003    NaN         NaN             NaN            NaN       NaN   \n",
       "\n",
       "                                       city      plan  rev_min_monthly  \\\n",
       "0     Atlanta-Sandy Springs-Roswell, GA MSA  ultimate              0.0   \n",
       "645         Seattle-Tacoma-Bellevue, WA MSA      surf              0.0   \n",
       "646         Seattle-Tacoma-Bellevue, WA MSA      surf              0.0   \n",
       "647         Seattle-Tacoma-Bellevue, WA MSA      surf              0.0   \n",
       "644         Seattle-Tacoma-Bellevue, WA MSA      surf              0.0   \n",
       "643         Seattle-Tacoma-Bellevue, WA MSA      surf              0.0   \n",
       "650    Las Vegas-Henderson-Paradise, NV MSA      surf              0.0   \n",
       "649    Las Vegas-Henderson-Paradise, NV MSA      surf              0.0   \n",
       "648    Las Vegas-Henderson-Paradise, NV MSA      surf              0.0   \n",
       "2084                          Tulsa, OK MSA      surf              0.0   \n",
       "\n",
       "      rev_mess_monthly  rev_data_monthly  total_monthly_rev  \n",
       "0                 0.00               0.0              70.00  \n",
       "645               0.00              50.0              70.00  \n",
       "646               0.00              40.0              60.00  \n",
       "647               0.00               0.0              20.00  \n",
       "644               0.09              70.0              90.09  \n",
       "643               0.00               0.0              20.00  \n",
       "650               0.00               0.0              20.00  \n",
       "649               0.00               0.0              20.00  \n",
       "648               0.00              40.0              60.00  \n",
       "2084              0.00               0.0              20.00  "
      ]
     },
     "execution_count": 31,
     "metadata": {},
     "output_type": "execute_result"
    }
   ],
   "source": [
    "#Now that revenue monthly has been calculated, minutes_topay, messages_topay, and gb_topay\n",
    "#along with the plan df's information can be removed for a neater table\n",
    "\n",
    "revenue = revenue.drop(['messages_included', 'mb_per_month_included', 'minutes_included', \n",
    "                        'usd_monthly_pay', 'usd_per_gb', 'usd_per_message', \n",
    "                        'usd_per_minute', 'minutes_topay', \n",
    "                        'messages_topay', 'gb_topay'], axis=1)\n",
    "revenue.head(10)"
   ]
  },
  {
   "cell_type": "markdown",
   "metadata": {},
   "source": [
    "**Conclusion 2.1**\n",
    "\n",
    "1) Monthly total revenue has been calculated from revenue accumulated due to minutes, data, messages, and the payment plan\n",
    "\n",
    "\n",
    "2) Any data not pertaining to revenue calculations have been excluded from revenue dataframe to make it less cluttered \n",
    "\n",
    "3) The roundup fees for seconds to minutes and mb to gb have been accounted for using .apply.(np.ceil)\n",
    "\n",
    "4) The data is ready for further analysis"
   ]
  },
  {
   "cell_type": "markdown",
   "metadata": {},
   "source": [
    "<div class=\"alert alert-success\" role=\"alert\">\n",
    "Reviewer's comment v. 2:\n",
    "    \n",
    "Ok :)\n",
    "</div>"
   ]
  },
  {
   "cell_type": "markdown",
   "metadata": {},
   "source": [
    "# Step 3: Analyze the data"
   ]
  },
  {
   "cell_type": "markdown",
   "metadata": {},
   "source": [
    "<div class=\"alert alert-danger\" role=\"alert\">\n",
    "Reviewer's comment v. 2:\n",
    "    \n",
    "You correctly noted that we have an outliers and well done that plotted boxplots, but please analyse these graphs. \n",
    "    \n",
    "Please note that as Data Analyst you should describe graphs in details and make a corresponding conclusion. Here it will be nice to describe the type of distribution, an outliers and so on.\n",
    "    \n",
    "Please see the following link how graphs can be described: http://explainwell.org/index.php/table-of-contents-handle-numbers/phrases-and-6-analysis-steps-to-interpret-a-graph/\n",
    "</div>"
   ]
  },
  {
   "cell_type": "markdown",
   "metadata": {},
   "source": [
    "<div class=\"alert alert-danger\" role=\"alert\">\n",
    "Reviewer's comment v. 2:\n",
    "    \n",
    "Could you please analyse an outliers clearly?\n",
    "    \n",
    "Please see for details: https://towardsdatascience.com/understanding-boxplots-5e2df7bcbd51\n",
    "</div>"
   ]
  },
  {
   "cell_type": "markdown",
   "metadata": {},
   "source": [
    "<div class=\"alert alert-success\" role=\"alert\">\n",
    "Reviewer's comment v. 3:\n",
    "    \n",
    "Ok :)\n",
    "</div>"
   ]
  },
  {
   "cell_type": "code",
   "execution_count": 32,
   "metadata": {
    "scrolled": true
   },
   "outputs": [
    {
     "name": "stdout",
     "output_type": "stream",
     "text": [
      "<class 'pandas.core.frame.DataFrame'>\n",
      "Int64Index: 2091 entries, 0 to 2059\n",
      "Data columns (total 5 columns):\n",
      "month                2077 non-null float64\n",
      "rev_min_monthly      2091 non-null float64\n",
      "rev_mess_monthly     2091 non-null float64\n",
      "rev_data_monthly     2091 non-null float64\n",
      "total_monthly_rev    2091 non-null float64\n",
      "dtypes: float64(5)\n",
      "memory usage: 98.0 KB\n"
     ]
    },
    {
     "data": {
      "text/plain": [
       "None"
      ]
     },
     "metadata": {},
     "output_type": "display_data"
    },
    {
     "data": {
      "text/html": [
       "<div>\n",
       "<style scoped>\n",
       "    .dataframe tbody tr th:only-of-type {\n",
       "        vertical-align: middle;\n",
       "    }\n",
       "\n",
       "    .dataframe tbody tr th {\n",
       "        vertical-align: top;\n",
       "    }\n",
       "\n",
       "    .dataframe thead th {\n",
       "        text-align: right;\n",
       "    }\n",
       "</style>\n",
       "<table border=\"1\" class=\"dataframe\">\n",
       "  <thead>\n",
       "    <tr style=\"text-align: right;\">\n",
       "      <th></th>\n",
       "      <th>month</th>\n",
       "      <th>rev_min_monthly</th>\n",
       "      <th>rev_mess_monthly</th>\n",
       "      <th>rev_data_monthly</th>\n",
       "      <th>total_monthly_rev</th>\n",
       "    </tr>\n",
       "  </thead>\n",
       "  <tbody>\n",
       "    <tr>\n",
       "      <td>0</td>\n",
       "      <td>12.0</td>\n",
       "      <td>0.0</td>\n",
       "      <td>0.00</td>\n",
       "      <td>0.0</td>\n",
       "      <td>70.00</td>\n",
       "    </tr>\n",
       "    <tr>\n",
       "      <td>645</td>\n",
       "      <td>12.0</td>\n",
       "      <td>0.0</td>\n",
       "      <td>0.00</td>\n",
       "      <td>50.0</td>\n",
       "      <td>70.00</td>\n",
       "    </tr>\n",
       "    <tr>\n",
       "      <td>646</td>\n",
       "      <td>11.0</td>\n",
       "      <td>0.0</td>\n",
       "      <td>0.00</td>\n",
       "      <td>40.0</td>\n",
       "      <td>60.00</td>\n",
       "    </tr>\n",
       "    <tr>\n",
       "      <td>647</td>\n",
       "      <td>8.0</td>\n",
       "      <td>0.0</td>\n",
       "      <td>0.00</td>\n",
       "      <td>0.0</td>\n",
       "      <td>20.00</td>\n",
       "    </tr>\n",
       "    <tr>\n",
       "      <td>644</td>\n",
       "      <td>10.0</td>\n",
       "      <td>0.0</td>\n",
       "      <td>0.09</td>\n",
       "      <td>70.0</td>\n",
       "      <td>90.09</td>\n",
       "    </tr>\n",
       "    <tr>\n",
       "      <td>643</td>\n",
       "      <td>9.0</td>\n",
       "      <td>0.0</td>\n",
       "      <td>0.00</td>\n",
       "      <td>0.0</td>\n",
       "      <td>20.00</td>\n",
       "    </tr>\n",
       "    <tr>\n",
       "      <td>650</td>\n",
       "      <td>10.0</td>\n",
       "      <td>0.0</td>\n",
       "      <td>0.00</td>\n",
       "      <td>0.0</td>\n",
       "      <td>20.00</td>\n",
       "    </tr>\n",
       "    <tr>\n",
       "      <td>649</td>\n",
       "      <td>12.0</td>\n",
       "      <td>0.0</td>\n",
       "      <td>0.00</td>\n",
       "      <td>0.0</td>\n",
       "      <td>20.00</td>\n",
       "    </tr>\n",
       "    <tr>\n",
       "      <td>648</td>\n",
       "      <td>11.0</td>\n",
       "      <td>0.0</td>\n",
       "      <td>0.00</td>\n",
       "      <td>40.0</td>\n",
       "      <td>60.00</td>\n",
       "    </tr>\n",
       "    <tr>\n",
       "      <td>2084</td>\n",
       "      <td>NaN</td>\n",
       "      <td>0.0</td>\n",
       "      <td>0.00</td>\n",
       "      <td>0.0</td>\n",
       "      <td>20.00</td>\n",
       "    </tr>\n",
       "    <tr>\n",
       "      <td>652</td>\n",
       "      <td>8.0</td>\n",
       "      <td>0.0</td>\n",
       "      <td>0.00</td>\n",
       "      <td>130.0</td>\n",
       "      <td>150.00</td>\n",
       "    </tr>\n",
       "    <tr>\n",
       "      <td>651</td>\n",
       "      <td>11.0</td>\n",
       "      <td>0.0</td>\n",
       "      <td>0.00</td>\n",
       "      <td>70.0</td>\n",
       "      <td>90.00</td>\n",
       "    </tr>\n",
       "    <tr>\n",
       "      <td>655</td>\n",
       "      <td>9.0</td>\n",
       "      <td>0.0</td>\n",
       "      <td>0.00</td>\n",
       "      <td>40.0</td>\n",
       "      <td>60.00</td>\n",
       "    </tr>\n",
       "    <tr>\n",
       "      <td>653</td>\n",
       "      <td>7.0</td>\n",
       "      <td>0.0</td>\n",
       "      <td>0.00</td>\n",
       "      <td>100.0</td>\n",
       "      <td>120.00</td>\n",
       "    </tr>\n",
       "    <tr>\n",
       "      <td>656</td>\n",
       "      <td>12.0</td>\n",
       "      <td>0.0</td>\n",
       "      <td>0.00</td>\n",
       "      <td>70.0</td>\n",
       "      <td>90.00</td>\n",
       "    </tr>\n",
       "  </tbody>\n",
       "</table>\n",
       "</div>"
      ],
      "text/plain": [
       "      month  rev_min_monthly  rev_mess_monthly  rev_data_monthly  \\\n",
       "0      12.0              0.0              0.00               0.0   \n",
       "645    12.0              0.0              0.00              50.0   \n",
       "646    11.0              0.0              0.00              40.0   \n",
       "647     8.0              0.0              0.00               0.0   \n",
       "644    10.0              0.0              0.09              70.0   \n",
       "643     9.0              0.0              0.00               0.0   \n",
       "650    10.0              0.0              0.00               0.0   \n",
       "649    12.0              0.0              0.00               0.0   \n",
       "648    11.0              0.0              0.00              40.0   \n",
       "2084    NaN              0.0              0.00               0.0   \n",
       "652     8.0              0.0              0.00             130.0   \n",
       "651    11.0              0.0              0.00              70.0   \n",
       "655     9.0              0.0              0.00              40.0   \n",
       "653     7.0              0.0              0.00             100.0   \n",
       "656    12.0              0.0              0.00              70.0   \n",
       "\n",
       "      total_monthly_rev  \n",
       "0                 70.00  \n",
       "645               70.00  \n",
       "646               60.00  \n",
       "647               20.00  \n",
       "644               90.09  \n",
       "643               20.00  \n",
       "650               20.00  \n",
       "649               20.00  \n",
       "648               60.00  \n",
       "2084              20.00  \n",
       "652              150.00  \n",
       "651               90.00  \n",
       "655               60.00  \n",
       "653              120.00  \n",
       "656               90.00  "
      ]
     },
     "metadata": {},
     "output_type": "display_data"
    }
   ],
   "source": [
    "#insert months and revenue into customer_behaviors -- goal is to understand monthly behavior\n",
    "#and how it effects monthly revenue\n",
    "\n",
    "month_rev = revenue[['month', 'rev_min_monthly', \n",
    "                     'rev_mess_monthly', 'rev_data_monthly', 'total_monthly_rev']]\n",
    "\n",
    "display(month_rev.info(), month_rev.head(15))\n"
   ]
  },
  {
   "cell_type": "code",
   "execution_count": 33,
   "metadata": {},
   "outputs": [
    {
     "data": {
      "text/plain": [
       "user_id              2.055374e+04\n",
       "month                5.250678e+00\n",
       "call_count           7.885766e+02\n",
       "duration_total       4.205733e+04\n",
       "message_count        7.022102e+02\n",
       "mb_used              4.506547e+07\n",
       "rev_min_monthly      5.776117e+00\n",
       "rev_mess_monthly     9.135565e-02\n",
       "rev_data_monthly     1.449295e+03\n",
       "total_monthly_rev    1.296646e+03\n",
       "dtype: float64"
      ]
     },
     "metadata": {},
     "output_type": "display_data"
    },
    {
     "data": {
      "text/plain": [
       "user_id               1245.083692\n",
       "month                    9.307655\n",
       "call_count              58.544700\n",
       "duration_total         418.171470\n",
       "message_count           37.666255\n",
       "mb_used              16132.445924\n",
       "rev_min_monthly          0.995022\n",
       "rev_mess_monthly         0.091291\n",
       "rev_data_monthly        23.279770\n",
       "total_monthly_rev       59.741502\n",
       "dtype: float64"
      ]
     },
     "metadata": {},
     "output_type": "display_data"
    },
    {
     "data": {
      "text/plain": [
       "user_id               143.365742\n",
       "month                   2.291436\n",
       "call_count             28.081606\n",
       "duration_total        205.078840\n",
       "message_count          26.499248\n",
       "mb_used              6713.081985\n",
       "rev_min_monthly         2.403355\n",
       "rev_mess_monthly        0.302251\n",
       "rev_data_monthly       38.069612\n",
       "total_monthly_rev      36.008965\n",
       "dtype: float64"
      ]
     },
     "metadata": {},
     "output_type": "display_data"
    }
   ],
   "source": [
    "display(revenue.var(), revenue.mean(), revenue.std())"
   ]
  },
  {
   "cell_type": "code",
   "execution_count": 34,
   "metadata": {
    "scrolled": true
   },
   "outputs": [
    {
     "data": {
      "image/png": "[encoded data removed]",
      "text/plain": [
       "<Figure size 864x864 with 6 Axes>"
      ]
     },
     "metadata": {
      "needs_background": "light"
     },
     "output_type": "display_data"
    }
   ],
   "source": [
    "#Histograms will now be used to get a more clear understanding of the customer's behavior\n",
    "\n",
    "month_rev.hist(figsize=(12,12))\n",
    "plt.show()"
   ]
  },
  {
   "cell_type": "markdown",
   "metadata": {},
   "source": [
    "**Conclusion 3.1**\n",
    "1) Data usage is the most profitable of all the customer behaviors (avg = $23/month). This is shown visually as count peaks continue to trail off to the right \n",
    "\n",
    "2) Messages are the least profitable amongs all customer behaviors (avg = $0.09/month). This is shown visually as there scarcely any values trailing to the right\n",
    "\n",
    "3) The peaks of 0's, data: 1350, messages: 1800, and minutes: 1700, also help support that data is the most profitable and messages is the least\n",
    "\n",
    "4) The summer months were outliers -- plan usage decreases in the summer\n",
    "\n",
    "5) Large peaks of 0 revenue exist in each graph -- customers follow a trend in staying within plan allowances"
   ]
  },
  {
   "cell_type": "markdown",
   "metadata": {},
   "source": [
    "<div class=\"alert alert-info\" role=\"alert\">\n",
    "Reviewer's comment v. 2:\n",
    "\n",
    "Before merging I recommend to analyse datasets: len(df_users['user_id'].unique(), len(df_messages['user_id'].unique(), len(df_calls['user_id'].unique(), len(df_internet['user_id'].unique().\n",
    "    \n",
    "Please use calls.merge(messages, on=['user_id', 'month'], how='outer') and so on. After merging I recommend to calculate revenue.\n",
    "</div>"
   ]
  },
  {
   "cell_type": "markdown",
   "metadata": {},
   "source": [
    "<div class=\"alert alert-success\" role=\"alert\">\n",
    "Reviewer's comment v. 3:\n",
    "    \n",
    "Good job that you calculated the average characteristics and clearly analsysed data.\n",
    "</div>"
   ]
  },
  {
   "cell_type": "markdown",
   "metadata": {
    "scrolled": true
   },
   "source": [
    "# Step 4: Test Hypothesis"
   ]
  },
  {
   "cell_type": "markdown",
   "metadata": {},
   "source": [
    "#### The average revenue from users of Ultimate and Surf calling plans differs:\n",
    "\n",
    "Null Hypothesis - the difference in average revenue for Ultimate and Surf plan customers are not significant (one plan does not make more revenue than the other, p-value >= 0.05)\n",
    "\n",
    "Alt Hypothesis - the difference in average revenue for Ultimate and Surf plan customer are significant (one plan makes more revenue than the other, p-value < 0.05)\n",
    "\n"
   ]
  },
  {
   "cell_type": "markdown",
   "metadata": {},
   "source": [
    "<div class=\"alert alert-success\" role=\"alert\">\n",
    "Reviewer's comment v. 4:\n",
    "    \n",
    "It's great that you formulated the null and alternative hypotheses explicitly.\n",
    "</div>"
   ]
  },
  {
   "cell_type": "code",
   "execution_count": 35,
   "metadata": {},
   "outputs": [
    {
     "data": {
      "text/plain": [
       "plan\n",
       "surf        55.070083\n",
       "ultimate    70.261275\n",
       "Name: total_monthly_rev, dtype: float64"
      ]
     },
     "execution_count": 35,
     "metadata": {},
     "output_type": "execute_result"
    }
   ],
   "source": [
    "revenue.groupby('plan')['total_monthly_rev'].mean()"
   ]
  },
  {
   "cell_type": "code",
   "execution_count": 36,
   "metadata": {
    "scrolled": true
   },
   "outputs": [
    {
     "data": {
      "text/html": [
       "<div>\n",
       "<style scoped>\n",
       "    .dataframe tbody tr th:only-of-type {\n",
       "        vertical-align: middle;\n",
       "    }\n",
       "\n",
       "    .dataframe tbody tr th {\n",
       "        vertical-align: top;\n",
       "    }\n",
       "\n",
       "    .dataframe thead th {\n",
       "        text-align: right;\n",
       "    }\n",
       "</style>\n",
       "<table border=\"1\" class=\"dataframe\">\n",
       "  <thead>\n",
       "    <tr style=\"text-align: right;\">\n",
       "      <th></th>\n",
       "      <th>total_monthly_rev</th>\n",
       "    </tr>\n",
       "  </thead>\n",
       "  <tbody>\n",
       "    <tr>\n",
       "      <td>645</td>\n",
       "      <td>70.00</td>\n",
       "    </tr>\n",
       "    <tr>\n",
       "      <td>646</td>\n",
       "      <td>60.00</td>\n",
       "    </tr>\n",
       "    <tr>\n",
       "      <td>647</td>\n",
       "      <td>20.00</td>\n",
       "    </tr>\n",
       "    <tr>\n",
       "      <td>644</td>\n",
       "      <td>90.09</td>\n",
       "    </tr>\n",
       "    <tr>\n",
       "      <td>643</td>\n",
       "      <td>20.00</td>\n",
       "    </tr>\n",
       "  </tbody>\n",
       "</table>\n",
       "</div>"
      ],
      "text/plain": [
       "     total_monthly_rev\n",
       "645              70.00\n",
       "646              60.00\n",
       "647              20.00\n",
       "644              90.09\n",
       "643              20.00"
      ]
     },
     "metadata": {},
     "output_type": "display_data"
    },
    {
     "data": {
      "text/html": [
       "<div>\n",
       "<style scoped>\n",
       "    .dataframe tbody tr th:only-of-type {\n",
       "        vertical-align: middle;\n",
       "    }\n",
       "\n",
       "    .dataframe tbody tr th {\n",
       "        vertical-align: top;\n",
       "    }\n",
       "\n",
       "    .dataframe thead th {\n",
       "        text-align: right;\n",
       "    }\n",
       "</style>\n",
       "<table border=\"1\" class=\"dataframe\">\n",
       "  <thead>\n",
       "    <tr style=\"text-align: right;\">\n",
       "      <th></th>\n",
       "      <th>total_monthly_rev</th>\n",
       "    </tr>\n",
       "  </thead>\n",
       "  <tbody>\n",
       "    <tr>\n",
       "      <td>0</td>\n",
       "      <td>70.0</td>\n",
       "    </tr>\n",
       "    <tr>\n",
       "      <td>1</td>\n",
       "      <td>70.0</td>\n",
       "    </tr>\n",
       "    <tr>\n",
       "      <td>2</td>\n",
       "      <td>70.0</td>\n",
       "    </tr>\n",
       "    <tr>\n",
       "      <td>4</td>\n",
       "      <td>70.0</td>\n",
       "    </tr>\n",
       "    <tr>\n",
       "      <td>3</td>\n",
       "      <td>70.0</td>\n",
       "    </tr>\n",
       "  </tbody>\n",
       "</table>\n",
       "</div>"
      ],
      "text/plain": [
       "   total_monthly_rev\n",
       "0               70.0\n",
       "1               70.0\n",
       "2               70.0\n",
       "4               70.0\n",
       "3               70.0"
      ]
     },
     "metadata": {},
     "output_type": "display_data"
    }
   ],
   "source": [
    "from scipy import stats as st\n",
    "\n",
    "surf = revenue.loc[revenue['plan'] == 'surf']\n",
    "surf = surf.drop(['user_id', 'month', 'call_count', \n",
    "                        'duration_total', 'message_count', 'mb_used', \n",
    "                        'city', 'plan', 'rev_min_monthly', 'rev_data_monthly',\n",
    "                        'rev_mess_monthly'], axis=1)\n",
    "\n",
    "ultimate = revenue.loc[revenue['plan'] == 'ultimate']\n",
    "ultimate = ultimate.drop(['user_id', 'month', 'call_count', \n",
    "                        'duration_total', 'message_count', 'mb_used', \n",
    "                        'city', 'plan', 'rev_min_monthly', 'rev_data_monthly',\n",
    "                        'rev_mess_monthly'], axis=1)\n",
    "display(surf.head(), ultimate.head())"
   ]
  },
  {
   "cell_type": "markdown",
   "metadata": {},
   "source": [
    "<div class=\"alert alert-danger\" role=\"alert\">\n",
    "Reviewer's comment v. 3:\n",
    "    \n",
    "Please formulate the null and alternative hypotheses explicitly. It's important point in the statistical tests.\n",
    "    \n",
    "Please see for details: https://docs.scipy.org/doc/scipy/reference/generated/scipy.stats.ttest_ind.html\n",
    "</div>"
   ]
  },
  {
   "cell_type": "code",
   "execution_count": 37,
   "metadata": {},
   "outputs": [
    {
     "name": "stdout",
     "output_type": "stream",
     "text": [
      "p-value:  [2.5856001e-19]\n",
      "We reject the null hypothesis\n"
     ]
    }
   ],
   "source": [
    "alpha = 0.05\n",
    "\n",
    "results = st.ttest_ind(surf, ultimate)\n",
    "\n",
    "print('p-value: ', results.pvalue)\n",
    "\n",
    "if results.pvalue < alpha:\n",
    "    print('We reject the null hypothesis')\n",
    "else:\n",
    "    print(\"We can't reject the null hypothesis\") "
   ]
  },
  {
   "cell_type": "markdown",
   "metadata": {},
   "source": [
    "**Conclusion 4.1**\n",
    "\n",
    "1) A t-test for two populations with equal variance was performed and resulting in a p-value, [2.5856001e-19], much less than the alpha value of 0.05\n",
    "\n",
    "2) The null hypothesis is then rejected, which means there alt hypothesis is accepted: one plan makes more revenue than the other"
   ]
  },
  {
   "cell_type": "markdown",
   "metadata": {},
   "source": [
    "<div class=\"alert alert-danger\" role=\"alert\">\n",
    "Reviewer's comment v. 3:\n",
    "    \n",
    "Could you please make conclusion for this statistical test?\n",
    "</div>"
   ]
  },
  {
   "cell_type": "markdown",
   "metadata": {},
   "source": [
    "<div class=\"alert alert-success\" role=\"alert\">\n",
    "Reviewer's comment v. 4:\n",
    "    \n",
    "Yes, you right. We have a statistically significant differences in the average revenue from users of Ultimate and Surf plans.\n",
    "</div>"
   ]
  },
  {
   "cell_type": "markdown",
   "metadata": {},
   "source": [
    "#### The average revenue from users in NY-NJ area is different from that of the users from other regions.\n",
    "\n",
    "null hypothesis - the difference between the average revenue of NY-NJ and other region's revenues are not significant (NY-NJ does not generate more revenue than other regions, p-value >= 0.05)\n",
    "\n",
    "alt hypothesis - the differences between the average revenue of NY-NJ and other region's revenues are significant (NY-NJ generates more revenue than other regions, p-value <0.05)"
   ]
  },
  {
   "cell_type": "markdown",
   "metadata": {},
   "source": [
    "<div class=\"alert alert-success\" role=\"alert\">\n",
    "Reviewer's comment v. 4:\n",
    "    \n",
    "Great, hypotheses formulation is correct :)\n",
    "</div>"
   ]
  },
  {
   "cell_type": "code",
   "execution_count": 38,
   "metadata": {},
   "outputs": [
    {
     "data": {
      "text/plain": [
       "'Atlanta-Sandy Springs-Roswell, GA MSA Seattle-Tacoma-Bellevue, WA MSA Seattle-Tacoma-Bellevue, WA MSA Seattle-Tacoma-Bellevue, WA MSA Seattle-Tacoma-Bellevue, WA MSA Seattle-Tacoma-Bellevue, WA MSA Las Vegas-Henderson-Paradise, NV MSA Las Vegas-Henderson-Paradise, NV MSA Las Vegas-Henderson-Paradise, NV MSA Tulsa, OK MSA Seattle-Tacoma-Bellevue, WA MSA Seattle-Tacoma-Bellevue, WA MSA Seattle-Tacoma-Bellevue, WA MSA Seattle-Tacoma-Bellevue, WA MSA Seattle-Tacoma-Bellevue, WA MSA Seattle-Tacoma-Bellevue, WA MSA Seattle-Tacoma-Bellevue, WA MSA Seattle-Tacoma-Bellevue, WA MSA Dallas-Fort Worth-Arlington, TX MSA San Francisco-Oakland-Berkeley, CA MSA Grand Rapids-Kentwood, MI MSA Grand Rapids-Kentwood, MI MSA Grand Rapids-Kentwood, MI MSA Grand Rapids-Kentwood, MI MSA Orlando-Kissimmee-Sanford, FL MSA Orlando-Kissimmee-Sanford, FL MSA Orlando-Kissimmee-Sanford, FL MSA San Jose-Sunnyvale-Santa Clara, CA MSA San Jose-Sunnyvale-Santa Clara, CA MSA San Jose-Sunnyvale-Santa Clara, CA MSA San Jose-Sunnyvale-Santa Clara, CA MSA San Jose-Sunnyvale-Santa Clara, CA MSA San Jose-Sunnyvale-Santa Clara, CA MSA San Jose-Sunnyvale-Santa Clara, CA MSA San Jose-Sunnyvale-Santa Clara, CA MSA Dallas-Fort Worth-Arlington, TX MSA Dallas-Fort Worth-Arlington, TX MSA Dallas-Fort Worth-Arlington, TX MSA Dallas-Fort Worth-Arlington, TX MSA Dallas-Fort Worth-Arlington, TX MSA Dallas-Fort Worth-Arlington, TX MSA Dallas-Fort Worth-Arlington, TX MSA Dallas-Fort Worth-Arlington, TX MSA Cleveland-Elyria, OH MSA Cleveland-Elyria, OH MSA Cleveland-Elyria, OH MSA Cleveland-Elyria, OH MSA Cleveland-Elyria, OH MSA Cleveland-Elyria, OH MSA Cleveland-Elyria, OH MSA Chicago-Naperville-Elgin, IL-IN-WI MSA Chicago-Naperville-Elgin, IL-IN-WI MSA Knoxville, TN MSA New York-Newark-Jersey City, NY-NJ-PA MSA Pittsburgh, PA MSA Fresno, CA MSA Fresno, CA MSA Fresno, CA MSA Washington-Arlington-Alexandria, DC-VA-MD-WV MSA Washington-Arlington-Alexandria, DC-VA-MD-WV MSA Washington-Arlington-Alexandria, DC-VA-MD-WV MSA Washington-Arlington-Alexandria, DC-VA-MD-WV MSA Washington-Arlington-Alexandria, DC-VA-MD-WV MSA Indianapolis-Carmel-Anderson, IN MSA Indianapolis-Carmel-Anderson, IN MSA Indianapolis-Carmel-Anderson, IN MSA Jacksonville, FL MSA Dallas-Fort Worth-Arlington, TX MSA Dallas-Fort Worth-Arlington, TX MSA Los Angeles-Long Beach-Anaheim, CA MSA New York-Newark-Jersey City, NY-NJ-PA MSA New York-Newark-Jersey City, NY-NJ-PA MSA New York-Newark-Jersey City, NY-NJ-PA MSA New York-Newark-Jersey City, NY-NJ-PA MSA New York-Newark-Jersey City, NY-NJ-PA MSA New York-Newark-Jersey City, NY-NJ-PA MSA New York-Newark-Jersey City, NY-NJ-PA MSA New York-Newark-Jersey City, NY-NJ-PA MSA Omaha-Council Bluffs, NE-IA MSA Omaha-Council Bluffs, NE-IA MSA New York-Newark-Jersey City, NY-NJ-PA MSA Atlanta-Sandy Springs-Roswell, GA MSA Houston-The Woodlands-Sugar Land, TX MSA Houston-The Woodlands-Sugar Land, TX MSA New York-Newark-Jersey City, NY-NJ-PA MSA New York-Newark-Jersey City, NY-NJ-PA MSA New York-Newark-Jersey City, NY-NJ-PA MSA New York-Newark-Jersey City, NY-NJ-PA MSA New York-Newark-Jersey City, NY-NJ-PA MSA New York-Newark-Jersey City, NY-NJ-PA MSA Philadelphia-Camden-Wilmington, PA-NJ-DE-MD MSA Philadelphia-Camden-Wilmington, PA-NJ-DE-MD MSA Tampa-St. Petersburg-Clearwater, FL MSA Tampa-St. Petersburg-Clearwater, FL MSA Tampa-St. Petersburg-Clearwater, FL MSA Tampa-St. Petersburg-Clearwater, FL MSA Tampa-St. Petersburg-Clearwater, FL MSA Chicago-Naperville-Elgin, IL-IN-WI MSA Chicago-Naperville-Elgin, IL-IN-WI MSA Chicago-Naperville-Elgin, IL-IN-WI MSA New York-Newark-Jersey City, NY-NJ-PA MSA New York-Newark-Jersey City, NY-NJ-PA MSA New York-Newark-Jersey City, NY-NJ-PA MSA New York-Newark-Jersey City, NY-NJ-PA MSA New York-Newark-Jersey City, NY-NJ-PA MSA New York-Newark-Jersey City, NY-NJ-PA MSA Birmingham-Hoover, AL MSA Birmingham-Hoover, AL MSA Oklahoma City, OK MSA Oklahoma City, OK MSA Oklahoma City, OK MSA Oklahoma City, OK MSA New York-Newark-Jersey City, NY-NJ-PA MSA Charlotte-Concord-Gastonia, NC-SC MSA Denver-Aurora-Lakewood, CO MSA Denver-Aurora-Lakewood, CO MSA Denver-Aurora-Lakewood, CO MSA Denver-Aurora-Lakewood, CO MSA Denver-Aurora-Lakewood, CO MSA Denver-Aurora-Lakewood, CO MSA Denver-Aurora-Lakewood, CO MSA Seattle-Tacoma-Bellevue, WA MSA Nashville-Davidson–Murfreesboro–Franklin, TN MSA Columbus, OH MSA Columbus, OH MSA Columbus, OH MSA Columbus, OH MSA Columbus, OH MSA Columbus, OH MSA Columbus, OH MSA Philadelphia-Camden-Wilmington, PA-NJ-DE-MD MSA Las Vegas-Henderson-Paradise, NV MSA Las Vegas-Henderson-Paradise, NV MSA Las Vegas-Henderson-Paradise, NV MSA Las Vegas-Henderson-Paradise, NV MSA Las Vegas-Henderson-Paradise, NV MSA Las Vegas-Henderson-Paradise, NV MSA Las Vegas-Henderson-Paradise, NV MSA Las Vegas-Henderson-Paradise, NV MSA Las Vegas-Henderson-Paradise, NV MSA Philadelphia-Camden-Wilmington, PA-NJ-DE-MD MSA Philadelphia-Camden-Wilmington, PA-NJ-DE-MD MSA Philadelphia-Camden-Wilmington, PA-NJ-DE-MD MSA Philadelphia-Camden-Wilmington, PA-NJ-DE-MD MSA Philadelphia-Camden-Wilmington, PA-NJ-DE-MD MSA Philadelphia-Camden-Wilmington, PA-NJ-DE-MD MSA Philadelphia-Camden-Wilmington, PA-NJ-DE-MD MSA Philadelphia-Camden-Wilmington, PA-NJ-DE-MD MSA Philadelphia-Camden-Wilmington, PA-NJ-DE-MD MSA New York-Newark-Jersey City, NY-NJ-PA MSA New York-Newark-Jersey City, NY-NJ-PA MSA New York-Newark-Jersey City, NY-NJ-PA MSA New York-Newark-Jersey City, NY-NJ-PA MSA New York-Newark-Jersey City, NY-NJ-PA MSA New York-Newark-Jersey City, NY-NJ-PA MSA Albuquerque, NM MSA Albuquerque, NM MSA Albuquerque, NM MSA Albuquerque, NM MSA Albuquerque, NM MSA New York-Newark-Jersey City, NY-NJ-PA MSA New York-Newark-Jersey City, NY-NJ-PA MSA New York-Newark-Jersey City, NY-NJ-PA MSA Boston-Cambridge-Newton, MA-NH MSA Boston-Cambridge-Newton, MA-NH MSA Boston-Cambridge-Newton, MA-NH MSA Boston-Cambridge-Newton, MA-NH MSA Boston-Cambridge-Newton, MA-NH MSA Boston-Cambridge-Newton, MA-NH MSA Boston-Cambridge-Newton, MA-NH MSA Indianapolis-Carmel-Anderson, IN MSA Miami-Fort Lauderdale-West Palm Beach, FL MSA Miami-Fort Lauderdale-West Palm Beach, FL MSA Miami-Fort Lauderdale-West Palm Beach, FL MSA Miami-Fort Lauderdale-West Palm Beach, FL MSA Miami-Fort Lauderdale-West Palm Beach, FL MSA New York-Newark-Jersey City, NY-NJ-PA MSA New York-Newark-Jersey City, NY-NJ-PA MSA New York-Newark-Jersey City, NY-NJ-PA MSA New York-Newark-Jersey City, NY-NJ-PA MSA New York-Newark-Jersey City, NY-NJ-PA MSA New York-Newark-Jersey City, NY-NJ-PA MSA New York-Newark-Jersey City, NY-NJ-PA MSA New York-Newark-Jersey City, NY-NJ-PA MSA New York-Newark-Jersey City, NY-NJ-PA MSA Miami-Fort Lauderdale-West Palm Beach, FL MSA Miami-Fort Lauderdale-West Palm Beach, FL MSA Miami-Fort Lauderdale-West Palm Beach, FL MSA Miami-Fort Lauderdale-West Palm Beach, FL MSA Miami-Fort Lauderdale-West Palm Beach, FL MSA Miami-Fort Lauderdale-West Palm Beach, FL MSA Miami-Fort Lauderdale-West Palm Beach, FL MSA Miami-Fort Lauderdale-West Palm Beach, FL MSA Miami-Fort Lauderdale-West Palm Beach, FL MSA San Diego-Chula Vista-Carlsbad, CA MSA Houston-The Woodlands-Sugar Land, TX MSA New York-Newark-Jersey City, NY-NJ-PA MSA New York-Newark-Jersey City, NY-NJ-PA MSA New York-Newark-Jersey City, NY-NJ-PA MSA New York-Newark-Jersey City, NY-NJ-PA MSA New York-Newark-Jersey City, NY-NJ-PA MSA New York-Newark-Jersey City, NY-NJ-PA MSA Phoenix-Mesa-Chandler, AZ MSA Phoenix-Mesa-Chandler, AZ MSA Phoenix-Mesa-Chandler, AZ MSA Phoenix-Mesa-Chandler, AZ MSA Phoenix-Mesa-Chandler, AZ MSA Phoenix-Mesa-Chandler, AZ MSA Phoenix-Mesa-Chandler, AZ MSA Phoenix-Mesa-Chandler, AZ MSA Phoenix-Mesa-Chandler, AZ MSA Portland-Vancouver-Hillsboro, OR-WA MSA Portland-Vancouver-Hillsboro, OR-WA MSA Portland-Vancouver-Hillsboro, OR-WA MSA Portland-Vancouver-Hillsboro, OR-WA MSA Portland-Vancouver-Hillsboro, OR-WA MSA Portland-Vancouver-Hillsboro, OR-WA MSA Portland-Vancouver-Hillsboro, OR-WA MSA Portland-Vancouver-Hillsboro, OR-WA MSA Cincinnati, OH-KY-IN MSA Cincinnati, OH-KY-IN MSA Cincinnati, OH-KY-IN MSA Cincinnati, OH-KY-IN MSA Cincinnati, OH-KY-IN MSA Cincinnati, OH-KY-IN MSA Atlanta-Sandy Springs-Roswell, GA MSA Los Angeles-Long Beach-Anaheim, CA MSA Los Angeles-Long Beach-Anaheim, CA MSA Chicago-Naperville-Elgin, IL-IN-WI MSA Chicago-Naperville-Elgin, IL-IN-WI MSA Chicago-Naperville-Elgin, IL-IN-WI MSA Chicago-Naperville-Elgin, IL-IN-WI MSA Chicago-Naperville-Elgin, IL-IN-WI MSA Chicago-Naperville-Elgin, IL-IN-WI MSA Chicago-Naperville-Elgin, IL-IN-WI MSA Chicago-Naperville-Elgin, IL-IN-WI MSA Chicago-Naperville-Elgin, IL-IN-WI MSA Atlanta-Sandy Springs-Roswell, GA MSA Atlanta-Sandy Springs-Roswell, GA MSA Atlanta-Sandy Springs-Roswell, GA MSA Atlanta-Sandy Springs-Roswell, GA MSA Atlanta-Sandy Springs-Roswell, GA MSA Columbia, SC MSA Columbia, SC MSA Columbia, SC MSA Columbia, SC MSA Columbia, SC MSA Columbia, SC MSA Columbia, SC MSA Columbia, SC MSA Columbia, SC MSA San Antonio-New Braunfels, TX MSA San Antonio-New Braunfels, TX MSA San Antonio-New Braunfels, TX MSA San Antonio-New Braunfels, TX MSA San Antonio-New Braunfels, TX MSA San Antonio-New Braunfels, TX MSA San Antonio-New Braunfels, TX MSA San Antonio-New Braunfels, TX MSA San Antonio-New Braunfels, TX MSA New York-Newark-Jersey City, NY-NJ-PA MSA New York-Newark-Jersey City, NY-NJ-PA MSA New York-Newark-Jersey City, NY-NJ-PA MSA New York-Newark-Jersey City, NY-NJ-PA MSA New York-Newark-Jersey City, NY-NJ-PA MSA New York-Newark-Jersey City, NY-NJ-PA MSA New York-Newark-Jersey City, NY-NJ-PA MSA New York-Newark-Jersey City, NY-NJ-PA MSA New York-Newark-Jersey City, NY-NJ-PA MSA Los Angeles-Long Beach-Anaheim, CA MSA Los Angeles-Long Beach-Anaheim, CA MSA Los Angeles-Long Beach-Anaheim, CA MSA Los Angeles-Long Beach-Anaheim, CA MSA Boston-Cambridge-Newton, MA-NH MSA Boston-Cambridge-Newton, MA-NH MSA Boston-Cambridge-Newton, MA-NH MSA Boston-Cambridge-Newton, MA-NH MSA Boston-Cambridge-Newton, MA-NH MSA Boston-Cambridge-Newton, MA-NH MSA Boston-Cambridge-Newton, MA-NH MSA Boston-Cambridge-Newton, MA-NH MSA Boston-Cambridge-Newton, MA-NH MSA Grand Rapids-Kentwood, MI MSA Grand Rapids-Kentwood, MI MSA Grand Rapids-Kentwood, MI MSA Grand Rapids-Kentwood, MI MSA New York-Newark-Jersey City, NY-NJ-PA MSA New York-Newark-Jersey City, NY-NJ-PA MSA New York-Newark-Jersey City, NY-NJ-PA MSA New York-Newark-Jersey City, NY-NJ-PA MSA New York-Newark-Jersey City, NY-NJ-PA MSA New York-Newark-Jersey City, NY-NJ-PA MSA New York-Newark-Jersey City, NY-NJ-PA MSA New York-Newark-Jersey City, NY-NJ-PA MSA Houston-The Woodlands-Sugar Land, TX MSA Houston-The Woodlands-Sugar Land, TX MSA Houston-The Woodlands-Sugar Land, TX MSA Houston-The Woodlands-Sugar Land, TX MSA Chicago-Naperville-Elgin, IL-IN-WI MSA New York-Newark-Jersey City, NY-NJ-PA MSA New York-Newark-Jersey City, NY-NJ-PA MSA New York-Newark-Jersey City, NY-NJ-PA MSA New York-Newark-Jersey City, NY-NJ-PA MSA New York-Newark-Jersey City, NY-NJ-PA MSA New York-Newark-Jersey City, NY-NJ-PA MSA New York-Newark-Jersey City, NY-NJ-PA MSA New York-Newark-Jersey City, NY-NJ-PA MSA Dallas-Fort Worth-Arlington, TX MSA Dallas-Fort Worth-Arlington, TX MSA Dallas-Fort Worth-Arlington, TX MSA Dallas-Fort Worth-Arlington, TX MSA Dallas-Fort Worth-Arlington, TX MSA Chicago-Naperville-Elgin, IL-IN-WI MSA Chicago-Naperville-Elgin, IL-IN-WI MSA Chicago-Naperville-Elgin, IL-IN-WI MSA Chicago-Naperville-Elgin, IL-IN-WI MSA Chicago-Naperville-Elgin, IL-IN-WI MSA Chicago-Naperville-Elgin, IL-IN-WI MSA Chicago-Naperville-Elgin, IL-IN-WI MSA Chicago-Naperville-Elgin, IL-IN-WI MSA Chicago-Naperville-Elgin, IL-IN-WI MSA Knoxville, TN MSA Knoxville, TN MSA Philadelphia-Camden-Wilmington, PA-NJ-DE-MD MSA Philadelphia-Camden-Wilmington, PA-NJ-DE-MD MSA Philadelphia-Camden-Wilmington, PA-NJ-DE-MD MSA Philadelphia-Camden-Wilmington, PA-NJ-DE-MD MSA Buffalo-Cheektowaga, NY MSA Charlotte-Concord-Gastonia, NC-SC MSA Charlotte-Concord-Gastonia, NC-SC MSA Charlotte-Concord-Gastonia, NC-SC MSA Charlotte-Concord-Gastonia, NC-SC MSA Charlotte-Concord-Gastonia, NC-SC MSA Charlotte-Concord-Gastonia, NC-SC MSA Charlotte-Concord-Gastonia, NC-SC MSA Charlotte-Concord-Gastonia, NC-SC MSA Charlotte-Concord-Gastonia, NC-SC MSA Seattle-Tacoma-Bellevue, WA MSA Seattle-Tacoma-Bellevue, WA MSA New York-Newark-Jersey City, NY-NJ-PA MSA New York-Newark-Jersey City, NY-NJ-PA MSA New York-Newark-Jersey City, NY-NJ-PA MSA New York-Newark-Jersey City, NY-NJ-PA MSA New York-Newark-Jersey City, NY-NJ-PA MSA New York-Newark-Jersey City, NY-NJ-PA MSA New York-Newark-Jersey City, NY-NJ-PA MSA New York-Newark-Jersey City, NY-NJ-PA MSA New York-Newark-Jersey City, NY-NJ-PA MSA New York-Newark-Jersey City, NY-NJ-PA MSA New York-Newark-Jersey City, NY-NJ-PA MSA Dallas-Fort Worth-Arlington, TX MSA Dallas-Fort Worth-Arlington, TX MSA Dallas-Fort Worth-Arlington, TX MSA Dallas-Fort Worth-Arlington, TX MSA Dallas-Fort Worth-Arlington, TX MSA Dallas-Fort Worth-Arlington, TX MSA Dallas-Fort Worth-Arlington, TX MSA Dallas-Fort Worth-Arlington, TX MSA Dallas-Fort Worth-Arlington, TX MSA Memphis, TN-MS-AR MSA Memphis, TN-MS-AR MSA Memphis, TN-MS-AR MSA Memphis, TN-MS-AR MSA Memphis, TN-MS-AR MSA Memphis, TN-MS-AR MSA Memphis, TN-MS-AR MSA Memphis, TN-MS-AR MSA Memphis, TN-MS-AR MSA Los Angeles-Long Beach-Anaheim, CA MSA Los Angeles-Long Beach-Anaheim, CA MSA Los Angeles-Long Beach-Anaheim, CA MSA Miami-Fort Lauderdale-West Palm Beach, FL MSA Miami-Fort Lauderdale-West Palm Beach, FL MSA Miami-Fort Lauderdale-West Palm Beach, FL MSA Atlanta-Sandy Springs-Roswell, GA MSA Atlanta-Sandy Springs-Roswell, GA MSA Atlanta-Sandy Springs-Roswell, GA MSA Atlanta-Sandy Springs-Roswell, GA MSA Atlanta-Sandy Springs-Roswell, GA MSA New York-Newark-Jersey City, NY-NJ-PA MSA Washington-Arlington-Alexandria, DC-VA-MD-WV MSA Washington-Arlington-Alexandria, DC-VA-MD-WV MSA Phoenix-Mesa-Chandler, AZ MSA Phoenix-Mesa-Chandler, AZ MSA Phoenix-Mesa-Chandler, AZ MSA Phoenix-Mesa-Chandler, AZ MSA Phoenix-Mesa-Chandler, AZ MSA Phoenix-Mesa-Chandler, AZ MSA Phoenix-Mesa-Chandler, AZ MSA Phoenix-Mesa-Chandler, AZ MSA Philadelphia-Camden-Wilmington, PA-NJ-DE-MD MSA Indianapolis-Carmel-Anderson, IN MSA Indianapolis-Carmel-Anderson, IN MSA Indianapolis-Carmel-Anderson, IN MSA Indianapolis-Carmel-Anderson, IN MSA Indianapolis-Carmel-Anderson, IN MSA Indianapolis-Carmel-Anderson, IN MSA Indianapolis-Carmel-Anderson, IN MSA Indianapolis-Carmel-Anderson, IN MSA Riverside-San Bernardino-Ontario, CA MSA Riverside-San Bernardino-Ontario, CA MSA Dallas-Fort Worth-Arlington, TX MSA Nashville-Davidson–Murfreesboro–Franklin, TN MSA Los Angeles-Long Beach-Anaheim, CA MSA Los Angeles-Long Beach-Anaheim, CA MSA Los Angeles-Long Beach-Anaheim, CA MSA Louisville/Jefferson County, KY-IN MSA Louisville/Jefferson County, KY-IN MSA Louisville/Jefferson County, KY-IN MSA Louisville/Jefferson County, KY-IN MSA Louisville/Jefferson County, KY-IN MSA Louisville/Jefferson County, KY-IN MSA Louisville/Jefferson County, KY-IN MSA Louisville/Jefferson County, KY-IN MSA Louisville/Jefferson County, KY-IN MSA New York-Newark-Jersey City, NY-NJ-PA MSA Washington-Arlington-Alexandria, DC-VA-MD-WV MSA Washington-Arlington-Alexandria, DC-VA-MD-WV MSA Washington-Arlington-Alexandria, DC-VA-MD-WV MSA Washington-Arlington-Alexandria, DC-VA-MD-WV MSA Washington-Arlington-Alexandria, DC-VA-MD-WV MSA Albany-Schenectady-Troy, NY MSA Albany-Schenectady-Troy, NY MSA Albany-Schenectady-Troy, NY MSA Albany-Schenectady-Troy, NY MSA Albany-Schenectady-Troy, NY MSA New York-Newark-Jersey City, NY-NJ-PA MSA New York-Newark-Jersey City, NY-NJ-PA MSA New York-Newark-Jersey City, NY-NJ-PA MSA New York-Newark-Jersey City, NY-NJ-PA MSA New York-Newark-Jersey City, NY-NJ-PA MSA New York-Newark-Jersey City, NY-NJ-PA MSA New York-Newark-Jersey City, NY-NJ-PA MSA New York-Newark-Jersey City, NY-NJ-PA MSA New York-Newark-Jersey City, NY-NJ-PA MSA New York-Newark-Jersey City, NY-NJ-PA MSA New York-Newark-Jersey City, NY-NJ-PA MSA New York-Newark-Jersey City, NY-NJ-PA MSA New York-Newark-Jersey City, NY-NJ-PA MSA New York-Newark-Jersey City, NY-NJ-PA MSA Washington-Arlington-Alexandria, DC-VA-MD-WV MSA Washington-Arlington-Alexandria, DC-VA-MD-WV MSA Washington-Arlington-Alexandria, DC-VA-MD-WV MSA Washington-Arlington-Alexandria, DC-VA-MD-WV MSA Washington-Arlington-Alexandria, DC-VA-MD-WV MSA Washington-Arlington-Alexandria, DC-VA-MD-WV MSA Washington-Arlington-Alexandria, DC-VA-MD-WV MSA Washington-Arlington-Alexandria, DC-VA-MD-WV MSA Washington-Arlington-Alexandria, DC-VA-MD-WV MSA Riverside-San Bernardino-Ontario, CA MSA Seattle-Tacoma-Bellevue, WA MSA Seattle-Tacoma-Bellevue, WA MSA Seattle-Tacoma-Bellevue, WA MSA Seattle-Tacoma-Bellevue, WA MSA Seattle-Tacoma-Bellevue, WA MSA Chicago-Naperville-Elgin, IL-IN-WI MSA Providence-Warwick, RI-MA MSA Providence-Warwick, RI-MA MSA Providence-Warwick, RI-MA MSA New York-Newark-Jersey City, NY-NJ-PA MSA New York-Newark-Jersey City, NY-NJ-PA MSA New York-Newark-Jersey City, NY-NJ-PA MSA New York-Newark-Jersey City, NY-NJ-PA MSA New York-Newark-Jersey City, NY-NJ-PA MSA New York-Newark-Jersey City, NY-NJ-PA MSA New York-Newark-Jersey City, NY-NJ-PA MSA New York-Newark-Jersey City, NY-NJ-PA MSA New York-Newark-Jersey City, NY-NJ-PA MSA New York-Newark-Jersey City, NY-NJ-PA MSA Salt Lake City, UT MSA New York-Newark-Jersey City, NY-NJ-PA MSA New York-Newark-Jersey City, NY-NJ-PA MSA New York-Newark-Jersey City, NY-NJ-PA MSA New York-Newark-Jersey City, NY-NJ-PA MSA New York-Newark-Jersey City, NY-NJ-PA MSA New York-Newark-Jersey City, NY-NJ-PA MSA New York-Newark-Jersey City, NY-NJ-PA MSA New York-Newark-Jersey City, NY-NJ-PA MSA New York-Newark-Jersey City, NY-NJ-PA MSA Washington-Arlington-Alexandria, DC-VA-MD-WV MSA Washington-Arlington-Alexandria, DC-VA-MD-WV MSA Washington-Arlington-Alexandria, DC-VA-MD-WV MSA Washington-Arlington-Alexandria, DC-VA-MD-WV MSA Washington-Arlington-Alexandria, DC-VA-MD-WV MSA Washington-Arlington-Alexandria, DC-VA-MD-WV MSA Washington-Arlington-Alexandria, DC-VA-MD-WV MSA Washington-Arlington-Alexandria, DC-VA-MD-WV MSA Urban Honolulu, HI MSA Urban Honolulu, HI MSA Urban Honolulu, HI MSA Urban Honolulu, HI MSA Grand Rapids-Kentwood, MI MSA Grand Rapids-Kentwood, MI MSA Grand Rapids-Kentwood, MI MSA New York-Newark-Jersey City, NY-NJ-PA MSA New York-Newark-Jersey City, NY-NJ-PA MSA New York-Newark-Jersey City, NY-NJ-PA MSA New York-Newark-Jersey City, NY-NJ-PA MSA New York-Newark-Jersey City, NY-NJ-PA MSA New York-Newark-Jersey City, NY-NJ-PA MSA New York-Newark-Jersey City, NY-NJ-PA MSA New York-Newark-Jersey City, NY-NJ-PA MSA New York-Newark-Jersey City, NY-NJ-PA MSA New York-Newark-Jersey City, NY-NJ-PA MSA New York-Newark-Jersey City, NY-NJ-PA MSA New York-Newark-Jersey City, NY-NJ-PA MSA New York-Newark-Jersey City, NY-NJ-PA MSA El Paso, TX MSA El Paso, TX MSA Cincinnati, OH-KY-IN MSA Dallas-Fort Worth-Arlington, TX MSA Dallas-Fort Worth-Arlington, TX MSA Dallas-Fort Worth-Arlington, TX MSA Dallas-Fort Worth-Arlington, TX MSA Dallas-Fort Worth-Arlington, TX MSA Dallas-Fort Worth-Arlington, TX MSA Dallas-Fort Worth-Arlington, TX MSA Dallas-Fort Worth-Arlington, TX MSA Columbus, OH MSA Louisville/Jefferson County, KY-IN MSA New York-Newark-Jersey City, NY-NJ-PA MSA New York-Newark-Jersey City, NY-NJ-PA MSA New York-Newark-Jersey City, NY-NJ-PA MSA New York-Newark-Jersey City, NY-NJ-PA MSA New York-Newark-Jersey City, NY-NJ-PA MSA New York-Newark-Jersey City, NY-NJ-PA MSA New York-Newark-Jersey City, NY-NJ-PA MSA New York-Newark-Jersey City, NY-NJ-PA MSA New York-Newark-Jersey City, NY-NJ-PA MSA Miami-Fort Lauderdale-West Palm Beach, FL MSA Miami-Fort Lauderdale-West Palm Beach, FL MSA Miami-Fort Lauderdale-West Palm Beach, FL MSA Miami-Fort Lauderdale-West Palm Beach, FL MSA Miami-Fort Lauderdale-West Palm Beach, FL MSA Miami-Fort Lauderdale-West Palm Beach, FL MSA Miami-Fort Lauderdale-West Palm Beach, FL MSA Miami-Fort Lauderdale-West Palm Beach, FL MSA Miami-Fort Lauderdale-West Palm Beach, FL MSA Philadelphia-Camden-Wilmington, PA-NJ-DE-MD MSA Philadelphia-Camden-Wilmington, PA-NJ-DE-MD MSA Philadelphia-Camden-Wilmington, PA-NJ-DE-MD MSA Philadelphia-Camden-Wilmington, PA-NJ-DE-MD MSA Philadelphia-Camden-Wilmington, PA-NJ-DE-MD MSA Philadelphia-Camden-Wilmington, PA-NJ-DE-MD MSA Philadelphia-Camden-Wilmington, PA-NJ-DE-MD MSA New Haven-Milford, CT MSA New Haven-Milford, CT MSA New Haven-Milford, CT MSA North Port-Sarasota-Bradenton, FL MSA Chicago-Naperville-Elgin, IL-IN-WI MSA Chicago-Naperville-Elgin, IL-IN-WI MSA Chicago-Naperville-Elgin, IL-IN-WI MSA Chicago-Naperville-Elgin, IL-IN-WI MSA Chicago-Naperville-Elgin, IL-IN-WI MSA New York-Newark-Jersey City, NY-NJ-PA MSA New York-Newark-Jersey City, NY-NJ-PA MSA New York-Newark-Jersey City, NY-NJ-PA MSA New York-Newark-Jersey City, NY-NJ-PA MSA New York-Newark-Jersey City, NY-NJ-PA MSA New York-Newark-Jersey City, NY-NJ-PA MSA New York-Newark-Jersey City, NY-NJ-PA MSA Knoxville, TN MSA Knoxville, TN MSA Knoxville, TN MSA Knoxville, TN MSA Knoxville, TN MSA Knoxville, TN MSA Knoxville, TN MSA Baton Rouge, LA MSA Philadelphia-Camden-Wilmington, PA-NJ-DE-MD MSA Philadelphia-Camden-Wilmington, PA-NJ-DE-MD MSA Philadelphia-Camden-Wilmington, PA-NJ-DE-MD MSA Philadelphia-Camden-Wilmington, PA-NJ-DE-MD MSA Los Angeles-Long Beach-Anaheim, CA MSA Los Angeles-Long Beach-Anaheim, CA MSA Los Angeles-Long Beach-Anaheim, CA MSA Los Angeles-Long Beach-Anaheim, CA MSA Los Angeles-Long Beach-Anaheim, CA MSA Los Angeles-Long Beach-Anaheim, CA MSA Los Angeles-Long Beach-Anaheim, CA MSA Los Angeles-Long Beach-Anaheim, CA MSA San Francisco-Oakland-Berkeley, CA MSA Cincinnati, OH-KY-IN MSA Cincinnati, OH-KY-IN MSA Cincinnati, OH-KY-IN MSA Cincinnati, OH-KY-IN MSA Cincinnati, OH-KY-IN MSA Cincinnati, OH-KY-IN MSA Chicago-Naperville-Elgin, IL-IN-WI MSA Chicago-Naperville-Elgin, IL-IN-WI MSA Chicago-Naperville-Elgin, IL-IN-WI MSA Chicago-Naperville-Elgin, IL-IN-WI MSA Miami-Fort Lauderdale-West Palm Beach, FL MSA Knoxville, TN MSA Knoxville, TN MSA Knoxville, TN MSA Chicago-Naperville-Elgin, IL-IN-WI MSA Chicago-Naperville-Elgin, IL-IN-WI MSA Chicago-Naperville-Elgin, IL-IN-WI MSA Riverside-San Bernardino-Ontario, CA MSA Riverside-San Bernardino-Ontario, CA MSA Riverside-San Bernardino-Ontario, CA MSA Riverside-San Bernardino-Ontario, CA MSA Riverside-San Bernardino-Ontario, CA MSA Riverside-San Bernardino-Ontario, CA MSA Riverside-San Bernardino-Ontario, CA MSA Riverside-San Bernardino-Ontario, CA MSA Riverside-San Bernardino-Ontario, CA MSA New Orleans-Metairie, LA MSA New Orleans-Metairie, LA MSA New York-Newark-Jersey City, NY-NJ-PA MSA New York-Newark-Jersey City, NY-NJ-PA MSA New York-Newark-Jersey City, NY-NJ-PA MSA New York-Newark-Jersey City, NY-NJ-PA MSA New York-Newark-Jersey City, NY-NJ-PA MSA New York-Newark-Jersey City, NY-NJ-PA MSA New York-Newark-Jersey City, NY-NJ-PA MSA New York-Newark-Jersey City, NY-NJ-PA MSA New York-Newark-Jersey City, NY-NJ-PA MSA New York-Newark-Jersey City, NY-NJ-PA MSA New York-Newark-Jersey City, NY-NJ-PA MSA New York-Newark-Jersey City, NY-NJ-PA MSA New Orleans-Metairie, LA MSA New Orleans-Metairie, LA MSA New Orleans-Metairie, LA MSA New Orleans-Metairie, LA MSA New Orleans-Metairie, LA MSA Cincinnati, OH-KY-IN MSA New York-Newark-Jersey City, NY-NJ-PA MSA New York-Newark-Jersey City, NY-NJ-PA MSA New York-Newark-Jersey City, NY-NJ-PA MSA New York-Newark-Jersey City, NY-NJ-PA MSA New York-Newark-Jersey City, NY-NJ-PA MSA San Jose-Sunnyvale-Santa Clara, CA MSA San Jose-Sunnyvale-Santa Clara, CA MSA San Jose-Sunnyvale-Santa Clara, CA MSA San Jose-Sunnyvale-Santa Clara, CA MSA San Jose-Sunnyvale-Santa Clara, CA MSA San Jose-Sunnyvale-Santa Clara, CA MSA San Jose-Sunnyvale-Santa Clara, CA MSA New York-Newark-Jersey City, NY-NJ-PA MSA New York-Newark-Jersey City, NY-NJ-PA MSA New York-Newark-Jersey City, NY-NJ-PA MSA Urban Honolulu, HI MSA Urban Honolulu, HI MSA Urban Honolulu, HI MSA Urban Honolulu, HI MSA Columbia, SC MSA Columbia, SC MSA San Francisco-Oakland-Berkeley, CA MSA San Francisco-Oakland-Berkeley, CA MSA San Francisco-Oakland-Berkeley, CA MSA San Francisco-Oakland-Berkeley, CA MSA Houston-The Woodlands-Sugar Land, TX MSA Houston-The Woodlands-Sugar Land, TX MSA Houston-The Woodlands-Sugar Land, TX MSA Houston-The Woodlands-Sugar Land, TX MSA New York-Newark-Jersey City, NY-NJ-PA MSA New York-Newark-Jersey City, NY-NJ-PA MSA New York-Newark-Jersey City, NY-NJ-PA MSA New York-Newark-Jersey City, NY-NJ-PA MSA New York-Newark-Jersey City, NY-NJ-PA MSA Orlando-Kissimmee-Sanford, FL MSA Orlando-Kissimmee-Sanford, FL MSA Bridgeport-Stamford-Norwalk, CT MSA Bridgeport-Stamford-Norwalk, CT MSA Bridgeport-Stamford-Norwalk, CT MSA Bridgeport-Stamford-Norwalk, CT MSA Bridgeport-Stamford-Norwalk, CT MSA Bridgeport-Stamford-Norwalk, CT MSA Bridgeport-Stamford-Norwalk, CT MSA Nashville-Davidson–Murfreesboro–Franklin, TN MSA Nashville-Davidson–Murfreesboro–Franklin, TN MSA Nashville-Davidson–Murfreesboro–Franklin, TN MSA Miami-Fort Lauderdale-West Palm Beach, FL MSA Miami-Fort Lauderdale-West Palm Beach, FL MSA Miami-Fort Lauderdale-West Palm Beach, FL MSA Miami-Fort Lauderdale-West Palm Beach, FL MSA Miami-Fort Lauderdale-West Palm Beach, FL MSA Miami-Fort Lauderdale-West Palm Beach, FL MSA Miami-Fort Lauderdale-West Palm Beach, FL MSA Miami-Fort Lauderdale-West Palm Beach, FL MSA Miami-Fort Lauderdale-West Palm Beach, FL MSA Albuquerque, NM MSA Albuquerque, NM MSA Albuquerque, NM MSA Albuquerque, NM MSA Albuquerque, NM MSA Albuquerque, NM MSA Albuquerque, NM MSA Albuquerque, NM MSA Albuquerque, NM MSA Los Angeles-Long Beach-Anaheim, CA MSA Los Angeles-Long Beach-Anaheim, CA MSA Los Angeles-Long Beach-Anaheim, CA MSA Los Angeles-Long Beach-Anaheim, CA MSA Los Angeles-Long Beach-Anaheim, CA MSA Los Angeles-Long Beach-Anaheim, CA MSA Virginia Beach-Norfolk-Newport News, VA-NC MSA Miami-Fort Lauderdale-West Palm Beach, FL MSA Miami-Fort Lauderdale-West Palm Beach, FL MSA Miami-Fort Lauderdale-West Palm Beach, FL MSA Miami-Fort Lauderdale-West Palm Beach, FL MSA Portland-Vancouver-Hillsboro, OR-WA MSA Portland-Vancouver-Hillsboro, OR-WA MSA Portland-Vancouver-Hillsboro, OR-WA MSA Portland-Vancouver-Hillsboro, OR-WA MSA Portland-Vancouver-Hillsboro, OR-WA MSA Portland-Vancouver-Hillsboro, OR-WA MSA Portland-Vancouver-Hillsboro, OR-WA MSA Portland-Vancouver-Hillsboro, OR-WA MSA Portland-Vancouver-Hillsboro, OR-WA MSA New York-Newark-Jersey City, NY-NJ-PA MSA New York-Newark-Jersey City, NY-NJ-PA MSA Los Angeles-Long Beach-Anaheim, CA MSA Los Angeles-Long Beach-Anaheim, CA MSA Los Angeles-Long Beach-Anaheim, CA MSA Los Angeles-Long Beach-Anaheim, CA MSA Los Angeles-Long Beach-Anaheim, CA MSA Los Angeles-Long Beach-Anaheim, CA MSA Los Angeles-Long Beach-Anaheim, CA MSA Los Angeles-Long Beach-Anaheim, CA MSA Chicago-Naperville-Elgin, IL-IN-WI MSA Chicago-Naperville-Elgin, IL-IN-WI MSA Chicago-Naperville-Elgin, IL-IN-WI MSA Chicago-Naperville-Elgin, IL-IN-WI MSA Chicago-Naperville-Elgin, IL-IN-WI MSA Chicago-Naperville-Elgin, IL-IN-WI MSA Chicago-Naperville-Elgin, IL-IN-WI MSA Chicago-Naperville-Elgin, IL-IN-WI MSA Chicago-Naperville-Elgin, IL-IN-WI MSA Philadelphia-Camden-Wilmington, PA-NJ-DE-MD MSA Philadelphia-Camden-Wilmington, PA-NJ-DE-MD MSA Philadelphia-Camden-Wilmington, PA-NJ-DE-MD MSA Baltimore-Columbia-Towson, MD MSA Baltimore-Columbia-Towson, MD MSA Baltimore-Columbia-Towson, MD MSA Baltimore-Columbia-Towson, MD MSA Denver-Aurora-Lakewood, CO MSA Denver-Aurora-Lakewood, CO MSA Denver-Aurora-Lakewood, CO MSA Denver-Aurora-Lakewood, CO MSA Denver-Aurora-Lakewood, CO MSA Denver-Aurora-Lakewood, CO MSA Denver-Aurora-Lakewood, CO MSA Denver-Aurora-Lakewood, CO MSA Milwaukee-Waukesha, WI MSA New York-Newark-Jersey City, NY-NJ-PA MSA Pittsburgh, PA MSA Pittsburgh, PA MSA Pittsburgh, PA MSA Pittsburgh, PA MSA Boston-Cambridge-Newton, MA-NH MSA Boston-Cambridge-Newton, MA-NH MSA Boston-Cambridge-Newton, MA-NH MSA Boston-Cambridge-Newton, MA-NH MSA Boston-Cambridge-Newton, MA-NH MSA Boston-Cambridge-Newton, MA-NH MSA Boston-Cambridge-Newton, MA-NH MSA Boston-Cambridge-Newton, MA-NH MSA Boston-Cambridge-Newton, MA-NH MSA Boston-Cambridge-Newton, MA-NH MSA Boston-Cambridge-Newton, MA-NH MSA Boston-Cambridge-Newton, MA-NH MSA Boston-Cambridge-Newton, MA-NH MSA Oxnard-Thousand Oaks-Ventura, CA MSA Oxnard-Thousand Oaks-Ventura, CA MSA Oxnard-Thousand Oaks-Ventura, CA MSA Oxnard-Thousand Oaks-Ventura, CA MSA Cleveland-Elyria, OH MSA Cleveland-Elyria, OH MSA Cleveland-Elyria, OH MSA Cleveland-Elyria, OH MSA Cleveland-Elyria, OH MSA Cleveland-Elyria, OH MSA Cleveland-Elyria, OH MSA Cleveland-Elyria, OH MSA New York-Newark-Jersey City, NY-NJ-PA MSA New York-Newark-Jersey City, NY-NJ-PA MSA New York-Newark-Jersey City, NY-NJ-PA MSA New York-Newark-Jersey City, NY-NJ-PA MSA New York-Newark-Jersey City, NY-NJ-PA MSA New York-Newark-Jersey City, NY-NJ-PA MSA Seattle-Tacoma-Bellevue, WA MSA Seattle-Tacoma-Bellevue, WA MSA Cincinnati, OH-KY-IN MSA Cincinnati, OH-KY-IN MSA Cincinnati, OH-KY-IN MSA Dallas-Fort Worth-Arlington, TX MSA Dallas-Fort Worth-Arlington, TX MSA Dallas-Fort Worth-Arlington, TX MSA Dallas-Fort Worth-Arlington, TX MSA Dallas-Fort Worth-Arlington, TX MSA Dallas-Fort Worth-Arlington, TX MSA New York-Newark-Jersey City, NY-NJ-PA MSA New York-Newark-Jersey City, NY-NJ-PA MSA New York-Newark-Jersey City, NY-NJ-PA MSA New York-Newark-Jersey City, NY-NJ-PA MSA New York-Newark-Jersey City, NY-NJ-PA MSA New York-Newark-Jersey City, NY-NJ-PA MSA New York-Newark-Jersey City, NY-NJ-PA MSA New York-Newark-Jersey City, NY-NJ-PA MSA New York-Newark-Jersey City, NY-NJ-PA MSA New York-Newark-Jersey City, NY-NJ-PA MSA Charlotte-Concord-Gastonia, NC-SC MSA Charlotte-Concord-Gastonia, NC-SC MSA Charlotte-Concord-Gastonia, NC-SC MSA Charlotte-Concord-Gastonia, NC-SC MSA Charlotte-Concord-Gastonia, NC-SC MSA Charlotte-Concord-Gastonia, NC-SC MSA Charlotte-Concord-Gastonia, NC-SC MSA Charlotte-Concord-Gastonia, NC-SC MSA Chicago-Naperville-Elgin, IL-IN-WI MSA Chicago-Naperville-Elgin, IL-IN-WI MSA Chicago-Naperville-Elgin, IL-IN-WI MSA Sacramento–Roseville–Folsom, CA MSA Louisville/Jefferson County, KY-IN MSA Louisville/Jefferson County, KY-IN MSA Louisville/Jefferson County, KY-IN MSA Louisville/Jefferson County, KY-IN MSA Louisville/Jefferson County, KY-IN MSA Louisville/Jefferson County, KY-IN MSA Louisville/Jefferson County, KY-IN MSA Louisville/Jefferson County, KY-IN MSA Louisville/Jefferson County, KY-IN MSA Las Vegas-Henderson-Paradise, NV MSA Austin-Round Rock-Georgetown, TX MSA Austin-Round Rock-Georgetown, TX MSA Austin-Round Rock-Georgetown, TX MSA Austin-Round Rock-Georgetown, TX MSA Austin-Round Rock-Georgetown, TX MSA Austin-Round Rock-Georgetown, TX MSA Austin-Round Rock-Georgetown, TX MSA Austin-Round Rock-Georgetown, TX MSA Austin-Round Rock-Georgetown, TX MSA Richmond, VA MSA Richmond, VA MSA Richmond, VA MSA Richmond, VA MSA Columbus, OH MSA Columbus, OH MSA Columbus, OH MSA Columbus, OH MSA Virginia Beach-Norfolk-Newport News, VA-NC MSA St. Louis, MO-IL MSA St. Louis, MO-IL MSA St. Louis, MO-IL MSA St. Louis, MO-IL MSA St. Louis, MO-IL MSA St. Louis, MO-IL MSA St. Louis, MO-IL MSA St. Louis, MO-IL MSA Buffalo-Cheektowaga, NY MSA Buffalo-Cheektowaga, NY MSA Buffalo-Cheektowaga, NY MSA Houston-The Woodlands-Sugar Land, TX MSA Houston-The Woodlands-Sugar Land, TX MSA Houston-The Woodlands-Sugar Land, TX MSA Houston-The Woodlands-Sugar Land, TX MSA Houston-The Woodlands-Sugar Land, TX MSA Houston-The Woodlands-Sugar Land, TX MSA San Jose-Sunnyvale-Santa Clara, CA MSA San Jose-Sunnyvale-Santa Clara, CA MSA San Jose-Sunnyvale-Santa Clara, CA MSA Portland-Vancouver-Hillsboro, OR-WA MSA Portland-Vancouver-Hillsboro, OR-WA MSA Portland-Vancouver-Hillsboro, OR-WA MSA Los Angeles-Long Beach-Anaheim, CA MSA Los Angeles-Long Beach-Anaheim, CA MSA Los Angeles-Long Beach-Anaheim, CA MSA Los Angeles-Long Beach-Anaheim, CA MSA Los Angeles-Long Beach-Anaheim, CA MSA Los Angeles-Long Beach-Anaheim, CA MSA Los Angeles-Long Beach-Anaheim, CA MSA Los Angeles-Long Beach-Anaheim, CA MSA Los Angeles-Long Beach-Anaheim, CA MSA New York-Newark-Jersey City, NY-NJ-PA MSA New York-Newark-Jersey City, NY-NJ-PA MSA New York-Newark-Jersey City, NY-NJ-PA MSA New York-Newark-Jersey City, NY-NJ-PA MSA New York-Newark-Jersey City, NY-NJ-PA MSA New York-Newark-Jersey City, NY-NJ-PA MSA San Antonio-New Braunfels, TX MSA San Antonio-New Braunfels, TX MSA San Antonio-New Braunfels, TX MSA San Antonio-New Braunfels, TX MSA San Antonio-New Braunfels, TX MSA Boston-Cambridge-Newton, MA-NH MSA Boston-Cambridge-Newton, MA-NH MSA Bridgeport-Stamford-Norwalk, CT MSA Bridgeport-Stamford-Norwalk, CT MSA Bridgeport-Stamford-Norwalk, CT MSA Bridgeport-Stamford-Norwalk, CT MSA Bridgeport-Stamford-Norwalk, CT MSA Minneapolis-St. Paul-Bloomington, MN-WI MSA Minneapolis-St. Paul-Bloomington, MN-WI MSA Minneapolis-St. Paul-Bloomington, MN-WI MSA Boston-Cambridge-Newton, MA-NH MSA Boston-Cambridge-Newton, MA-NH MSA Boston-Cambridge-Newton, MA-NH MSA Boston-Cambridge-Newton, MA-NH MSA Boston-Cambridge-Newton, MA-NH MSA Boston-Cambridge-Newton, MA-NH MSA Boston-Cambridge-Newton, MA-NH MSA Boston-Cambridge-Newton, MA-NH MSA Boston-Cambridge-Newton, MA-NH MSA Chicago-Naperville-Elgin, IL-IN-WI MSA New York-Newark-Jersey City, NY-NJ-PA MSA New York-Newark-Jersey City, NY-NJ-PA MSA Providence-Warwick, RI-MA MSA Providence-Warwick, RI-MA MSA Providence-Warwick, RI-MA MSA Providence-Warwick, RI-MA MSA Providence-Warwick, RI-MA MSA Providence-Warwick, RI-MA MSA Omaha-Council Bluffs, NE-IA MSA San Diego-Chula Vista-Carlsbad, CA MSA Los Angeles-Long Beach-Anaheim, CA MSA Los Angeles-Long Beach-Anaheim, CA MSA Los Angeles-Long Beach-Anaheim, CA MSA Los Angeles-Long Beach-Anaheim, CA MSA Los Angeles-Long Beach-Anaheim, CA MSA Oklahoma City, OK MSA Oklahoma City, OK MSA Oklahoma City, OK MSA Oklahoma City, OK MSA New York-Newark-Jersey City, NY-NJ-PA MSA New York-Newark-Jersey City, NY-NJ-PA MSA New York-Newark-Jersey City, NY-NJ-PA MSA New York-Newark-Jersey City, NY-NJ-PA MSA New York-Newark-Jersey City, NY-NJ-PA MSA New York-Newark-Jersey City, NY-NJ-PA MSA Austin-Round Rock-Georgetown, TX MSA Austin-Round Rock-Georgetown, TX MSA Austin-Round Rock-Georgetown, TX MSA Austin-Round Rock-Georgetown, TX MSA Austin-Round Rock-Georgetown, TX MSA Austin-Round Rock-Georgetown, TX MSA San Diego-Chula Vista-Carlsbad, CA MSA San Diego-Chula Vista-Carlsbad, CA MSA San Francisco-Oakland-Berkeley, CA MSA San Francisco-Oakland-Berkeley, CA MSA San Francisco-Oakland-Berkeley, CA MSA San Francisco-Oakland-Berkeley, CA MSA San Francisco-Oakland-Berkeley, CA MSA San Francisco-Oakland-Berkeley, CA MSA San Francisco-Oakland-Berkeley, CA MSA San Francisco-Oakland-Berkeley, CA MSA San Francisco-Oakland-Berkeley, CA MSA New York-Newark-Jersey City, NY-NJ-PA MSA New York-Newark-Jersey City, NY-NJ-PA MSA San Francisco-Oakland-Berkeley, CA MSA San Francisco-Oakland-Berkeley, CA MSA San Francisco-Oakland-Berkeley, CA MSA San Francisco-Oakland-Berkeley, CA MSA Dayton-Kettering, OH MSA Dayton-Kettering, OH MSA Dayton-Kettering, OH MSA Bakersfield, CA MSA Detroit-Warren-Dearborn, MI MSA Detroit-Warren-Dearborn, MI MSA Cincinnati, OH-KY-IN MSA Cincinnati, OH-KY-IN MSA Cincinnati, OH-KY-IN MSA Cincinnati, OH-KY-IN MSA Cincinnati, OH-KY-IN MSA Cincinnati, OH-KY-IN MSA Cincinnati, OH-KY-IN MSA Cincinnati, OH-KY-IN MSA Cincinnati, OH-KY-IN MSA Boston-Cambridge-Newton, MA-NH MSA Los Angeles-Long Beach-Anaheim, CA MSA Los Angeles-Long Beach-Anaheim, CA MSA Los Angeles-Long Beach-Anaheim, CA MSA Los Angeles-Long Beach-Anaheim, CA MSA Los Angeles-Long Beach-Anaheim, CA MSA Los Angeles-Long Beach-Anaheim, CA MSA Los Angeles-Long Beach-Anaheim, CA MSA Phoenix-Mesa-Chandler, AZ MSA Phoenix-Mesa-Chandler, AZ MSA Phoenix-Mesa-Chandler, AZ MSA Phoenix-Mesa-Chandler, AZ MSA Phoenix-Mesa-Chandler, AZ MSA Phoenix-Mesa-Chandler, AZ MSA Atlanta-Sandy Springs-Roswell, GA MSA Atlanta-Sandy Springs-Roswell, GA MSA Atlanta-Sandy Springs-Roswell, GA MSA Atlanta-Sandy Springs-Roswell, GA MSA Atlanta-Sandy Springs-Roswell, GA MSA Columbia, SC MSA Riverside-San Bernardino-Ontario, CA MSA Riverside-San Bernardino-Ontario, CA MSA Riverside-San Bernardino-Ontario, CA MSA Riverside-San Bernardino-Ontario, CA MSA Riverside-San Bernardino-Ontario, CA MSA Riverside-San Bernardino-Ontario, CA MSA Dallas-Fort Worth-Arlington, TX MSA Detroit-Warren-Dearborn, MI MSA Detroit-Warren-Dearborn, MI MSA Detroit-Warren-Dearborn, MI MSA Austin-Round Rock-Georgetown, TX MSA New York-Newark-Jersey City, NY-NJ-PA MSA San Jose-Sunnyvale-Santa Clara, CA MSA San Jose-Sunnyvale-Santa Clara, CA MSA San Jose-Sunnyvale-Santa Clara, CA MSA San Jose-Sunnyvale-Santa Clara, CA MSA San Jose-Sunnyvale-Santa Clara, CA MSA San Jose-Sunnyvale-Santa Clara, CA MSA San Jose-Sunnyvale-Santa Clara, CA MSA Chicago-Naperville-Elgin, IL-IN-WI MSA Chicago-Naperville-Elgin, IL-IN-WI MSA Chicago-Naperville-Elgin, IL-IN-WI MSA Chicago-Naperville-Elgin, IL-IN-WI MSA Chicago-Naperville-Elgin, IL-IN-WI MSA Chicago-Naperville-Elgin, IL-IN-WI MSA Chicago-Naperville-Elgin, IL-IN-WI MSA Chicago-Naperville-Elgin, IL-IN-WI MSA Chicago-Naperville-Elgin, IL-IN-WI MSA Atlanta-Sandy Springs-Roswell, GA MSA Atlanta-Sandy Springs-Roswell, GA MSA Atlanta-Sandy Springs-Roswell, GA MSA Seattle-Tacoma-Bellevue, WA MSA Minneapolis-St. Paul-Bloomington, MN-WI MSA Minneapolis-St. Paul-Bloomington, MN-WI MSA Minneapolis-St. Paul-Bloomington, MN-WI MSA Minneapolis-St. Paul-Bloomington, MN-WI MSA Minneapolis-St. Paul-Bloomington, MN-WI MSA Minneapolis-St. Paul-Bloomington, MN-WI MSA Minneapolis-St. Paul-Bloomington, MN-WI MSA Minneapolis-St. Paul-Bloomington, MN-WI MSA Minneapolis-St. Paul-Bloomington, MN-WI MSA Minneapolis-St. Paul-Bloomington, MN-WI MSA Minneapolis-St. Paul-Bloomington, MN-WI MSA New York-Newark-Jersey City, NY-NJ-PA MSA New York-Newark-Jersey City, NY-NJ-PA MSA New York-Newark-Jersey City, NY-NJ-PA MSA New York-Newark-Jersey City, NY-NJ-PA MSA Dallas-Fort Worth-Arlington, TX MSA Dallas-Fort Worth-Arlington, TX MSA Fresno, CA MSA Fresno, CA MSA Fresno, CA MSA Baton Rouge, LA MSA Richmond, VA MSA Richmond, VA MSA Richmond, VA MSA Richmond, VA MSA San Antonio-New Braunfels, TX MSA San Antonio-New Braunfels, TX MSA San Antonio-New Braunfels, TX MSA Phoenix-Mesa-Chandler, AZ MSA Phoenix-Mesa-Chandler, AZ MSA Phoenix-Mesa-Chandler, AZ MSA Birmingham-Hoover, AL MSA Birmingham-Hoover, AL MSA New York-Newark-Jersey City, NY-NJ-PA MSA New York-Newark-Jersey City, NY-NJ-PA MSA New York-Newark-Jersey City, NY-NJ-PA MSA New York-Newark-Jersey City, NY-NJ-PA MSA New York-Newark-Jersey City, NY-NJ-PA MSA New York-Newark-Jersey City, NY-NJ-PA MSA Tampa-St. Petersburg-Clearwater, FL MSA Tampa-St. Petersburg-Clearwater, FL MSA Tampa-St. Petersburg-Clearwater, FL MSA Tampa-St. Petersburg-Clearwater, FL MSA Tampa-St. Petersburg-Clearwater, FL MSA Tampa-St. Petersburg-Clearwater, FL MSA Los Angeles-Long Beach-Anaheim, CA MSA Los Angeles-Long Beach-Anaheim, CA MSA Los Angeles-Long Beach-Anaheim, CA MSA Los Angeles-Long Beach-Anaheim, CA MSA Los Angeles-Long Beach-Anaheim, CA MSA Los Angeles-Long Beach-Anaheim, CA MSA Nashville-Davidson–Murfreesboro–Franklin, TN MSA Cincinnati, OH-KY-IN MSA Cincinnati, OH-KY-IN MSA Cincinnati, OH-KY-IN MSA Cincinnati, OH-KY-IN MSA Cincinnati, OH-KY-IN MSA Cincinnati, OH-KY-IN MSA Houston-The Woodlands-Sugar Land, TX MSA Houston-The Woodlands-Sugar Land, TX MSA Houston-The Woodlands-Sugar Land, TX MSA New York-Newark-Jersey City, NY-NJ-PA MSA New York-Newark-Jersey City, NY-NJ-PA MSA New York-Newark-Jersey City, NY-NJ-PA MSA New York-Newark-Jersey City, NY-NJ-PA MSA New York-Newark-Jersey City, NY-NJ-PA MSA New York-Newark-Jersey City, NY-NJ-PA MSA New York-Newark-Jersey City, NY-NJ-PA MSA New York-Newark-Jersey City, NY-NJ-PA MSA Detroit-Warren-Dearborn, MI MSA Detroit-Warren-Dearborn, MI MSA Detroit-Warren-Dearborn, MI MSA Detroit-Warren-Dearborn, MI MSA Detroit-Warren-Dearborn, MI MSA Detroit-Warren-Dearborn, MI MSA Detroit-Warren-Dearborn, MI MSA Cleveland-Elyria, OH MSA Cleveland-Elyria, OH MSA Cleveland-Elyria, OH MSA Cleveland-Elyria, OH MSA Detroit-Warren-Dearborn, MI MSA Detroit-Warren-Dearborn, MI MSA Detroit-Warren-Dearborn, MI MSA Detroit-Warren-Dearborn, MI MSA Detroit-Warren-Dearborn, MI MSA Oklahoma City, OK MSA Oklahoma City, OK MSA Oklahoma City, OK MSA Oklahoma City, OK MSA Oklahoma City, OK MSA Chicago-Naperville-Elgin, IL-IN-WI MSA Chicago-Naperville-Elgin, IL-IN-WI MSA Chicago-Naperville-Elgin, IL-IN-WI MSA Chicago-Naperville-Elgin, IL-IN-WI MSA New York-Newark-Jersey City, NY-NJ-PA MSA New York-Newark-Jersey City, NY-NJ-PA MSA New York-Newark-Jersey City, NY-NJ-PA MSA New York-Newark-Jersey City, NY-NJ-PA MSA New York-Newark-Jersey City, NY-NJ-PA MSA New York-Newark-Jersey City, NY-NJ-PA MSA New York-Newark-Jersey City, NY-NJ-PA MSA New York-Newark-Jersey City, NY-NJ-PA MSA New York-Newark-Jersey City, NY-NJ-PA MSA Chicago-Naperville-Elgin, IL-IN-WI MSA Chicago-Naperville-Elgin, IL-IN-WI MSA Chicago-Naperville-Elgin, IL-IN-WI MSA Chicago-Naperville-Elgin, IL-IN-WI MSA Chicago-Naperville-Elgin, IL-IN-WI MSA Chicago-Naperville-Elgin, IL-IN-WI MSA Philadelphia-Camden-Wilmington, PA-NJ-DE-MD MSA Philadelphia-Camden-Wilmington, PA-NJ-DE-MD MSA Philadelphia-Camden-Wilmington, PA-NJ-DE-MD MSA Philadelphia-Camden-Wilmington, PA-NJ-DE-MD MSA Philadelphia-Camden-Wilmington, PA-NJ-DE-MD MSA Philadelphia-Camden-Wilmington, PA-NJ-DE-MD MSA Philadelphia-Camden-Wilmington, PA-NJ-DE-MD MSA Philadelphia-Camden-Wilmington, PA-NJ-DE-MD MSA Philadelphia-Camden-Wilmington, PA-NJ-DE-MD MSA Los Angeles-Long Beach-Anaheim, CA MSA Kansas City, MO-KS MSA Kansas City, MO-KS MSA Kansas City, MO-KS MSA Kansas City, MO-KS MSA Kansas City, MO-KS MSA Kansas City, MO-KS MSA Kansas City, MO-KS MSA Kansas City, MO-KS MSA Kansas City, MO-KS MSA Dallas-Fort Worth-Arlington, TX MSA Boston-Cambridge-Newton, MA-NH MSA Boston-Cambridge-Newton, MA-NH MSA Boston-Cambridge-Newton, MA-NH MSA Boston-Cambridge-Newton, MA-NH MSA Boston-Cambridge-Newton, MA-NH MSA Boston-Cambridge-Newton, MA-NH MSA Boston-Cambridge-Newton, MA-NH MSA Boston-Cambridge-Newton, MA-NH MSA Boston-Cambridge-Newton, MA-NH MSA Los Angeles-Long Beach-Anaheim, CA MSA Los Angeles-Long Beach-Anaheim, CA MSA Los Angeles-Long Beach-Anaheim, CA MSA Los Angeles-Long Beach-Anaheim, CA MSA Los Angeles-Long Beach-Anaheim, CA MSA Los Angeles-Long Beach-Anaheim, CA MSA Los Angeles-Long Beach-Anaheim, CA MSA Los Angeles-Long Beach-Anaheim, CA MSA Washington-Arlington-Alexandria, DC-VA-MD-WV MSA Washington-Arlington-Alexandria, DC-VA-MD-WV MSA New York-Newark-Jersey City, NY-NJ-PA MSA St. Louis, MO-IL MSA Fresno, CA MSA Fresno, CA MSA Fresno, CA MSA Fresno, CA MSA Fresno, CA MSA Dallas-Fort Worth-Arlington, TX MSA Philadelphia-Camden-Wilmington, PA-NJ-DE-MD MSA Philadelphia-Camden-Wilmington, PA-NJ-DE-MD MSA Philadelphia-Camden-Wilmington, PA-NJ-DE-MD MSA Philadelphia-Camden-Wilmington, PA-NJ-DE-MD MSA New York-Newark-Jersey City, NY-NJ-PA MSA Minneapolis-St. Paul-Bloomington, MN-WI MSA Baton Rouge, LA MSA Baton Rouge, LA MSA Baton Rouge, LA MSA Philadelphia-Camden-Wilmington, PA-NJ-DE-MD MSA New York-Newark-Jersey City, NY-NJ-PA MSA Phoenix-Mesa-Chandler, AZ MSA Phoenix-Mesa-Chandler, AZ MSA Phoenix-Mesa-Chandler, AZ MSA Phoenix-Mesa-Chandler, AZ MSA New York-Newark-Jersey City, NY-NJ-PA MSA New York-Newark-Jersey City, NY-NJ-PA MSA New York-Newark-Jersey City, NY-NJ-PA MSA New York-Newark-Jersey City, NY-NJ-PA MSA New York-Newark-Jersey City, NY-NJ-PA MSA New York-Newark-Jersey City, NY-NJ-PA MSA New York-Newark-Jersey City, NY-NJ-PA MSA New York-Newark-Jersey City, NY-NJ-PA MSA New York-Newark-Jersey City, NY-NJ-PA MSA Dayton-Kettering, OH MSA Dayton-Kettering, OH MSA Baton Rouge, LA MSA Baton Rouge, LA MSA Baton Rouge, LA MSA New York-Newark-Jersey City, NY-NJ-PA MSA New York-Newark-Jersey City, NY-NJ-PA MSA New York-Newark-Jersey City, NY-NJ-PA MSA New York-Newark-Jersey City, NY-NJ-PA MSA New York-Newark-Jersey City, NY-NJ-PA MSA New York-Newark-Jersey City, NY-NJ-PA MSA New York-Newark-Jersey City, NY-NJ-PA MSA Charlotte-Concord-Gastonia, NC-SC MSA Charlotte-Concord-Gastonia, NC-SC MSA Charlotte-Concord-Gastonia, NC-SC MSA Charlotte-Concord-Gastonia, NC-SC MSA Charlotte-Concord-Gastonia, NC-SC MSA Charlotte-Concord-Gastonia, NC-SC MSA San Francisco-Oakland-Berkeley, CA MSA San Francisco-Oakland-Berkeley, CA MSA Charleston-North Charleston, SC MSA Charleston-North Charleston, SC MSA Dayton-Kettering, OH MSA Dayton-Kettering, OH MSA Dayton-Kettering, OH MSA Dayton-Kettering, OH MSA Los Angeles-Long Beach-Anaheim, CA MSA Los Angeles-Long Beach-Anaheim, CA MSA Los Angeles-Long Beach-Anaheim, CA MSA Los Angeles-Long Beach-Anaheim, CA MSA Los Angeles-Long Beach-Anaheim, CA MSA New Haven-Milford, CT MSA Sacramento–Roseville–Folsom, CA MSA Sacramento–Roseville–Folsom, CA MSA Las Vegas-Henderson-Paradise, NV MSA Las Vegas-Henderson-Paradise, NV MSA Las Vegas-Henderson-Paradise, NV MSA Detroit-Warren-Dearborn, MI MSA Detroit-Warren-Dearborn, MI MSA New York-Newark-Jersey City, NY-NJ-PA MSA New York-Newark-Jersey City, NY-NJ-PA MSA Indianapolis-Carmel-Anderson, IN MSA Indianapolis-Carmel-Anderson, IN MSA Indianapolis-Carmel-Anderson, IN MSA Indianapolis-Carmel-Anderson, IN MSA Indianapolis-Carmel-Anderson, IN MSA Indianapolis-Carmel-Anderson, IN MSA Indianapolis-Carmel-Anderson, IN MSA Indianapolis-Carmel-Anderson, IN MSA Indianapolis-Carmel-Anderson, IN MSA Dallas-Fort Worth-Arlington, TX MSA Dallas-Fort Worth-Arlington, TX MSA Dallas-Fort Worth-Arlington, TX MSA Philadelphia-Camden-Wilmington, PA-NJ-DE-MD MSA Philadelphia-Camden-Wilmington, PA-NJ-DE-MD MSA Philadelphia-Camden-Wilmington, PA-NJ-DE-MD MSA Philadelphia-Camden-Wilmington, PA-NJ-DE-MD MSA New York-Newark-Jersey City, NY-NJ-PA MSA New York-Newark-Jersey City, NY-NJ-PA MSA Kansas City, MO-KS MSA Kansas City, MO-KS MSA Kansas City, MO-KS MSA Kansas City, MO-KS MSA Kansas City, MO-KS MSA Miami-Fort Lauderdale-West Palm Beach, FL MSA Miami-Fort Lauderdale-West Palm Beach, FL MSA Miami-Fort Lauderdale-West Palm Beach, FL MSA Los Angeles-Long Beach-Anaheim, CA MSA Los Angeles-Long Beach-Anaheim, CA MSA Nashville-Davidson–Murfreesboro–Franklin, TN MSA New York-Newark-Jersey City, NY-NJ-PA MSA New York-Newark-Jersey City, NY-NJ-PA MSA New York-Newark-Jersey City, NY-NJ-PA MSA New York-Newark-Jersey City, NY-NJ-PA MSA New York-Newark-Jersey City, NY-NJ-PA MSA New York-Newark-Jersey City, NY-NJ-PA MSA New York-Newark-Jersey City, NY-NJ-PA MSA New York-Newark-Jersey City, NY-NJ-PA MSA New York-Newark-Jersey City, NY-NJ-PA MSA New York-Newark-Jersey City, NY-NJ-PA MSA New York-Newark-Jersey City, NY-NJ-PA MSA New York-Newark-Jersey City, NY-NJ-PA MSA Chicago-Naperville-Elgin, IL-IN-WI MSA Rochester, NY MSA Rochester, NY MSA Rochester, NY MSA Rochester, NY MSA Detroit-Warren-Dearborn, MI MSA Birmingham-Hoover, AL MSA Birmingham-Hoover, AL MSA Birmingham-Hoover, AL MSA Los Angeles-Long Beach-Anaheim, CA MSA Los Angeles-Long Beach-Anaheim, CA MSA Los Angeles-Long Beach-Anaheim, CA MSA Los Angeles-Long Beach-Anaheim, CA MSA Los Angeles-Long Beach-Anaheim, CA MSA Los Angeles-Long Beach-Anaheim, CA MSA Los Angeles-Long Beach-Anaheim, CA MSA Los Angeles-Long Beach-Anaheim, CA MSA Washington-Arlington-Alexandria, DC-VA-MD-WV MSA Boston-Cambridge-Newton, MA-NH MSA Virginia Beach-Norfolk-Newport News, VA-NC MSA Virginia Beach-Norfolk-Newport News, VA-NC MSA San Diego-Chula Vista-Carlsbad, CA MSA San Diego-Chula Vista-Carlsbad, CA MSA Portland-Vancouver-Hillsboro, OR-WA MSA Portland-Vancouver-Hillsboro, OR-WA MSA Memphis, TN-MS-AR MSA Memphis, TN-MS-AR MSA Memphis, TN-MS-AR MSA Memphis, TN-MS-AR MSA Memphis, TN-MS-AR MSA Memphis, TN-MS-AR MSA Memphis, TN-MS-AR MSA Fresno, CA MSA Fresno, CA MSA Fresno, CA MSA Fresno, CA MSA Fresno, CA MSA Fresno, CA MSA Fresno, CA MSA Fresno, CA MSA San Francisco-Oakland-Berkeley, CA MSA San Francisco-Oakland-Berkeley, CA MSA San Francisco-Oakland-Berkeley, CA MSA San Francisco-Oakland-Berkeley, CA MSA San Francisco-Oakland-Berkeley, CA MSA San Francisco-Oakland-Berkeley, CA MSA San Francisco-Oakland-Berkeley, CA MSA Los Angeles-Long Beach-Anaheim, CA MSA Los Angeles-Long Beach-Anaheim, CA MSA Raleigh-Cary, NC MSA Raleigh-Cary, NC MSA Tulsa, OK MSA Tulsa, OK MSA Tulsa, OK MSA Tulsa, OK MSA Tulsa, OK MSA Tulsa, OK MSA Tulsa, OK MSA Tulsa, OK MSA Phoenix-Mesa-Chandler, AZ MSA Phoenix-Mesa-Chandler, AZ MSA Atlanta-Sandy Springs-Roswell, GA MSA Atlanta-Sandy Springs-Roswell, GA MSA Atlanta-Sandy Springs-Roswell, GA MSA Atlanta-Sandy Springs-Roswell, GA MSA Colorado Springs, CO MSA Los Angeles-Long Beach-Anaheim, CA MSA Los Angeles-Long Beach-Anaheim, CA MSA Los Angeles-Long Beach-Anaheim, CA MSA Los Angeles-Long Beach-Anaheim, CA MSA Los Angeles-Long Beach-Anaheim, CA MSA Los Angeles-Long Beach-Anaheim, CA MSA Los Angeles-Long Beach-Anaheim, CA MSA Los Angeles-Long Beach-Anaheim, CA MSA North Port-Sarasota-Bradenton, FL MSA North Port-Sarasota-Bradenton, FL MSA North Port-Sarasota-Bradenton, FL MSA North Port-Sarasota-Bradenton, FL MSA North Port-Sarasota-Bradenton, FL MSA North Port-Sarasota-Bradenton, FL MSA North Port-Sarasota-Bradenton, FL MSA Fresno, CA MSA Fresno, CA MSA Fresno, CA MSA Fresno, CA MSA Fresno, CA MSA Baltimore-Columbia-Towson, MD MSA Minneapolis-St. Paul-Bloomington, MN-WI MSA Dallas-Fort Worth-Arlington, TX MSA Dallas-Fort Worth-Arlington, TX MSA Greensboro-High Point, NC MSA Greensboro-High Point, NC MSA Greensboro-High Point, NC MSA New York-Newark-Jersey City, NY-NJ-PA MSA New York-Newark-Jersey City, NY-NJ-PA MSA New York-Newark-Jersey City, NY-NJ-PA MSA New York-Newark-Jersey City, NY-NJ-PA MSA New York-Newark-Jersey City, NY-NJ-PA MSA Minneapolis-St. Paul-Bloomington, MN-WI MSA Charleston-North Charleston, SC MSA Las Vegas-Henderson-Paradise, NV MSA Las Vegas-Henderson-Paradise, NV MSA Dallas-Fort Worth-Arlington, TX MSA Dallas-Fort Worth-Arlington, TX MSA Dallas-Fort Worth-Arlington, TX MSA Dallas-Fort Worth-Arlington, TX MSA Dallas-Fort Worth-Arlington, TX MSA Atlanta-Sandy Springs-Roswell, GA MSA Atlanta-Sandy Springs-Roswell, GA MSA Atlanta-Sandy Springs-Roswell, GA MSA Atlanta-Sandy Springs-Roswell, GA MSA Atlanta-Sandy Springs-Roswell, GA MSA Los Angeles-Long Beach-Anaheim, CA MSA Los Angeles-Long Beach-Anaheim, CA MSA Seattle-Tacoma-Bellevue, WA MSA Seattle-Tacoma-Bellevue, WA MSA Seattle-Tacoma-Bellevue, WA MSA Seattle-Tacoma-Bellevue, WA MSA Seattle-Tacoma-Bellevue, WA MSA Seattle-Tacoma-Bellevue, WA MSA Seattle-Tacoma-Bellevue, WA MSA Dallas-Fort Worth-Arlington, TX MSA Dallas-Fort Worth-Arlington, TX MSA Dallas-Fort Worth-Arlington, TX MSA Dallas-Fort Worth-Arlington, TX MSA Dallas-Fort Worth-Arlington, TX MSA Dallas-Fort Worth-Arlington, TX MSA Dallas-Fort Worth-Arlington, TX MSA Portland-Vancouver-Hillsboro, OR-WA MSA Portland-Vancouver-Hillsboro, OR-WA MSA Portland-Vancouver-Hillsboro, OR-WA MSA Portland-Vancouver-Hillsboro, OR-WA MSA Portland-Vancouver-Hillsboro, OR-WA MSA Portland-Vancouver-Hillsboro, OR-WA MSA Portland-Vancouver-Hillsboro, OR-WA MSA Portland-Vancouver-Hillsboro, OR-WA MSA Portland-Vancouver-Hillsboro, OR-WA MSA Riverside-San Bernardino-Ontario, CA MSA Riverside-San Bernardino-Ontario, CA MSA Minneapolis-St. Paul-Bloomington, MN-WI MSA Minneapolis-St. Paul-Bloomington, MN-WI MSA Minneapolis-St. Paul-Bloomington, MN-WI MSA Minneapolis-St. Paul-Bloomington, MN-WI MSA Minneapolis-St. Paul-Bloomington, MN-WI MSA Charlotte-Concord-Gastonia, NC-SC MSA Charlotte-Concord-Gastonia, NC-SC MSA Charlotte-Concord-Gastonia, NC-SC MSA Charlotte-Concord-Gastonia, NC-SC MSA Charlotte-Concord-Gastonia, NC-SC MSA Charlotte-Concord-Gastonia, NC-SC MSA Charlotte-Concord-Gastonia, NC-SC MSA Charlotte-Concord-Gastonia, NC-SC MSA Dallas-Fort Worth-Arlington, TX MSA Dallas-Fort Worth-Arlington, TX MSA Dallas-Fort Worth-Arlington, TX MSA Dallas-Fort Worth-Arlington, TX MSA Dallas-Fort Worth-Arlington, TX MSA Chicago-Naperville-Elgin, IL-IN-WI MSA Chicago-Naperville-Elgin, IL-IN-WI MSA Chicago-Naperville-Elgin, IL-IN-WI MSA Indianapolis-Carmel-Anderson, IN MSA Miami-Fort Lauderdale-West Palm Beach, FL MSA Miami-Fort Lauderdale-West Palm Beach, FL MSA Miami-Fort Lauderdale-West Palm Beach, FL MSA New York-Newark-Jersey City, NY-NJ-PA MSA Los Angeles-Long Beach-Anaheim, CA MSA Los Angeles-Long Beach-Anaheim, CA MSA Los Angeles-Long Beach-Anaheim, CA MSA Tucson, AZ MSA Tucson, AZ MSA Tucson, AZ MSA Tucson, AZ MSA Tucson, AZ MSA Tucson, AZ MSA Tucson, AZ MSA Tucson, AZ MSA Tucson, AZ MSA Charleston-North Charleston, SC MSA Charleston-North Charleston, SC MSA Charleston-North Charleston, SC MSA Charleston-North Charleston, SC MSA Charleston-North Charleston, SC MSA Charleston-North Charleston, SC MSA Detroit-Warren-Dearborn, MI MSA Detroit-Warren-Dearborn, MI MSA Detroit-Warren-Dearborn, MI MSA Boston-Cambridge-Newton, MA-NH MSA Boston-Cambridge-Newton, MA-NH MSA Boston-Cambridge-Newton, MA-NH MSA Atlanta-Sandy Springs-Roswell, GA MSA Atlanta-Sandy Springs-Roswell, GA MSA San Antonio-New Braunfels, TX MSA San Antonio-New Braunfels, TX MSA San Antonio-New Braunfels, TX MSA Seattle-Tacoma-Bellevue, WA MSA Seattle-Tacoma-Bellevue, WA MSA Seattle-Tacoma-Bellevue, WA MSA Seattle-Tacoma-Bellevue, WA MSA North Port-Sarasota-Bradenton, FL MSA North Port-Sarasota-Bradenton, FL MSA North Port-Sarasota-Bradenton, FL MSA North Port-Sarasota-Bradenton, FL MSA North Port-Sarasota-Bradenton, FL MSA North Port-Sarasota-Bradenton, FL MSA North Port-Sarasota-Bradenton, FL MSA North Port-Sarasota-Bradenton, FL MSA New York-Newark-Jersey City, NY-NJ-PA MSA New York-Newark-Jersey City, NY-NJ-PA MSA New York-Newark-Jersey City, NY-NJ-PA MSA New York-Newark-Jersey City, NY-NJ-PA MSA New York-Newark-Jersey City, NY-NJ-PA MSA Los Angeles-Long Beach-Anaheim, CA MSA Los Angeles-Long Beach-Anaheim, CA MSA Los Angeles-Long Beach-Anaheim, CA MSA Milwaukee-Waukesha, WI MSA Milwaukee-Waukesha, WI MSA Milwaukee-Waukesha, WI MSA Milwaukee-Waukesha, WI MSA Baton Rouge, LA MSA Baton Rouge, LA MSA Baton Rouge, LA MSA Baton Rouge, LA MSA Baton Rouge, LA MSA Baton Rouge, LA MSA New York-Newark-Jersey City, NY-NJ-PA MSA New York-Newark-Jersey City, NY-NJ-PA MSA New York-Newark-Jersey City, NY-NJ-PA MSA New York-Newark-Jersey City, NY-NJ-PA MSA New York-Newark-Jersey City, NY-NJ-PA MSA New York-Newark-Jersey City, NY-NJ-PA MSA New York-Newark-Jersey City, NY-NJ-PA MSA New York-Newark-Jersey City, NY-NJ-PA MSA New York-Newark-Jersey City, NY-NJ-PA MSA Colorado Springs, CO MSA Colorado Springs, CO MSA Colorado Springs, CO MSA Colorado Springs, CO MSA Colorado Springs, CO MSA Colorado Springs, CO MSA Colorado Springs, CO MSA Colorado Springs, CO MSA Charlotte-Concord-Gastonia, NC-SC MSA Birmingham-Hoover, AL MSA Birmingham-Hoover, AL MSA Birmingham-Hoover, AL MSA Birmingham-Hoover, AL MSA Birmingham-Hoover, AL MSA Birmingham-Hoover, AL MSA Birmingham-Hoover, AL MSA Birmingham-Hoover, AL MSA Denver-Aurora-Lakewood, CO MSA Denver-Aurora-Lakewood, CO MSA Denver-Aurora-Lakewood, CO MSA Denver-Aurora-Lakewood, CO MSA Denver-Aurora-Lakewood, CO MSA Denver-Aurora-Lakewood, CO MSA Denver-Aurora-Lakewood, CO MSA Denver-Aurora-Lakewood, CO MSA Denver-Aurora-Lakewood, CO MSA Seattle-Tacoma-Bellevue, WA MSA Seattle-Tacoma-Bellevue, WA MSA Seattle-Tacoma-Bellevue, WA MSA Seattle-Tacoma-Bellevue, WA MSA San Diego-Chula Vista-Carlsbad, CA MSA San Diego-Chula Vista-Carlsbad, CA MSA San Diego-Chula Vista-Carlsbad, CA MSA San Diego-Chula Vista-Carlsbad, CA MSA San Diego-Chula Vista-Carlsbad, CA MSA Grand Rapids-Kentwood, MI MSA Cincinnati, OH-KY-IN MSA Cincinnati, OH-KY-IN MSA Cincinnati, OH-KY-IN MSA Cincinnati, OH-KY-IN MSA Cincinnati, OH-KY-IN MSA Baltimore-Columbia-Towson, MD MSA Baltimore-Columbia-Towson, MD MSA Baltimore-Columbia-Towson, MD MSA Baltimore-Columbia-Towson, MD MSA Baltimore-Columbia-Towson, MD MSA Baltimore-Columbia-Towson, MD MSA Pittsburgh, PA MSA Pittsburgh, PA MSA Pittsburgh, PA MSA Pittsburgh, PA MSA Pittsburgh, PA MSA Pittsburgh, PA MSA Pittsburgh, PA MSA Pittsburgh, PA MSA Milwaukee-Waukesha, WI MSA San Diego-Chula Vista-Carlsbad, CA MSA San Diego-Chula Vista-Carlsbad, CA MSA San Diego-Chula Vista-Carlsbad, CA MSA San Diego-Chula Vista-Carlsbad, CA MSA Portland-Vancouver-Hillsboro, OR-WA MSA Portland-Vancouver-Hillsboro, OR-WA MSA Portland-Vancouver-Hillsboro, OR-WA MSA New York-Newark-Jersey City, NY-NJ-PA MSA Minneapolis-St. Paul-Bloomington, MN-WI MSA Minneapolis-St. Paul-Bloomington, MN-WI MSA Minneapolis-St. Paul-Bloomington, MN-WI MSA Louisville/Jefferson County, KY-IN MSA Louisville/Jefferson County, KY-IN MSA Louisville/Jefferson County, KY-IN MSA Louisville/Jefferson County, KY-IN MSA Louisville/Jefferson County, KY-IN MSA Louisville/Jefferson County, KY-IN MSA Louisville/Jefferson County, KY-IN MSA Philadelphia-Camden-Wilmington, PA-NJ-DE-MD MSA Columbia, SC MSA Columbia, SC MSA Rochester, NY MSA Rochester, NY MSA Rochester, NY MSA Rochester, NY MSA Rochester, NY MSA Rochester, NY MSA Denver-Aurora-Lakewood, CO MSA Grand Rapids-Kentwood, MI MSA San Jose-Sunnyvale-Santa Clara, CA MSA San Jose-Sunnyvale-Santa Clara, CA MSA San Jose-Sunnyvale-Santa Clara, CA MSA San Jose-Sunnyvale-Santa Clara, CA MSA Austin-Round Rock-Georgetown, TX MSA San Diego-Chula Vista-Carlsbad, CA MSA Tampa-St. Petersburg-Clearwater, FL MSA Tampa-St. Petersburg-Clearwater, FL MSA Tampa-St. Petersburg-Clearwater, FL MSA Philadelphia-Camden-Wilmington, PA-NJ-DE-MD MSA Philadelphia-Camden-Wilmington, PA-NJ-DE-MD MSA Philadelphia-Camden-Wilmington, PA-NJ-DE-MD MSA Philadelphia-Camden-Wilmington, PA-NJ-DE-MD MSA Philadelphia-Camden-Wilmington, PA-NJ-DE-MD MSA Philadelphia-Camden-Wilmington, PA-NJ-DE-MD MSA Philadelphia-Camden-Wilmington, PA-NJ-DE-MD MSA New York-Newark-Jersey City, NY-NJ-PA MSA New York-Newark-Jersey City, NY-NJ-PA MSA New York-Newark-Jersey City, NY-NJ-PA MSA New York-Newark-Jersey City, NY-NJ-PA MSA New York-Newark-Jersey City, NY-NJ-PA MSA New York-Newark-Jersey City, NY-NJ-PA MSA New York-Newark-Jersey City, NY-NJ-PA MSA New York-Newark-Jersey City, NY-NJ-PA MSA New York-Newark-Jersey City, NY-NJ-PA MSA Seattle-Tacoma-Bellevue, WA MSA Seattle-Tacoma-Bellevue, WA MSA Bridgeport-Stamford-Norwalk, CT MSA Bridgeport-Stamford-Norwalk, CT MSA Bridgeport-Stamford-Norwalk, CT MSA Bridgeport-Stamford-Norwalk, CT MSA Bridgeport-Stamford-Norwalk, CT MSA New York-Newark-Jersey City, NY-NJ-PA MSA Miami-Fort Lauderdale-West Palm Beach, FL MSA Miami-Fort Lauderdale-West Palm Beach, FL MSA Miami-Fort Lauderdale-West Palm Beach, FL MSA Miami-Fort Lauderdale-West Palm Beach, FL MSA Miami-Fort Lauderdale-West Palm Beach, FL MSA Miami-Fort Lauderdale-West Palm Beach, FL MSA Miami-Fort Lauderdale-West Palm Beach, FL MSA Miami-Fort Lauderdale-West Palm Beach, FL MSA Chicago-Naperville-Elgin, IL-IN-WI MSA Chicago-Naperville-Elgin, IL-IN-WI MSA Chicago-Naperville-Elgin, IL-IN-WI MSA Chicago-Naperville-Elgin, IL-IN-WI MSA Chicago-Naperville-Elgin, IL-IN-WI MSA Chicago-Naperville-Elgin, IL-IN-WI MSA Chicago-Naperville-Elgin, IL-IN-WI MSA Chicago-Naperville-Elgin, IL-IN-WI MSA Chicago-Naperville-Elgin, IL-IN-WI MSA New York-Newark-Jersey City, NY-NJ-PA MSA New York-Newark-Jersey City, NY-NJ-PA MSA New York-Newark-Jersey City, NY-NJ-PA MSA New York-Newark-Jersey City, NY-NJ-PA MSA Seattle-Tacoma-Bellevue, WA MSA Seattle-Tacoma-Bellevue, WA MSA Seattle-Tacoma-Bellevue, WA MSA Seattle-Tacoma-Bellevue, WA MSA Seattle-Tacoma-Bellevue, WA MSA Seattle-Tacoma-Bellevue, WA MSA Knoxville, TN MSA Knoxville, TN MSA Knoxville, TN MSA Stockton, CA MSA Stockton, CA MSA Stockton, CA MSA Stockton, CA MSA New York-Newark-Jersey City, NY-NJ-PA MSA Salt Lake City, UT MSA Salt Lake City, UT MSA Salt Lake City, UT MSA Salt Lake City, UT MSA Oklahoma City, OK MSA Oklahoma City, OK MSA Oklahoma City, OK MSA Oklahoma City, OK MSA Oklahoma City, OK MSA Oklahoma City, OK MSA Oklahoma City, OK MSA Denver-Aurora-Lakewood, CO MSA Denver-Aurora-Lakewood, CO MSA Denver-Aurora-Lakewood, CO MSA San Antonio-New Braunfels, TX MSA San Antonio-New Braunfels, TX MSA San Antonio-New Braunfels, TX MSA San Antonio-New Braunfels, TX MSA San Antonio-New Braunfels, TX MSA San Antonio-New Braunfels, TX MSA San Antonio-New Braunfels, TX MSA Riverside-San Bernardino-Ontario, CA MSA Riverside-San Bernardino-Ontario, CA MSA Riverside-San Bernardino-Ontario, CA MSA Riverside-San Bernardino-Ontario, CA MSA Riverside-San Bernardino-Ontario, CA MSA Riverside-San Bernardino-Ontario, CA MSA Riverside-San Bernardino-Ontario, CA MSA Riverside-San Bernardino-Ontario, CA MSA Riverside-San Bernardino-Ontario, CA MSA Richmond, VA MSA Richmond, VA MSA Richmond, VA MSA Richmond, VA MSA Richmond, VA MSA New York-Newark-Jersey City, NY-NJ-PA MSA New York-Newark-Jersey City, NY-NJ-PA MSA New York-Newark-Jersey City, NY-NJ-PA MSA New York-Newark-Jersey City, NY-NJ-PA MSA Washington-Arlington-Alexandria, DC-VA-MD-WV MSA Washington-Arlington-Alexandria, DC-VA-MD-WV MSA Washington-Arlington-Alexandria, DC-VA-MD-WV MSA Washington-Arlington-Alexandria, DC-VA-MD-WV MSA Washington-Arlington-Alexandria, DC-VA-MD-WV MSA Washington-Arlington-Alexandria, DC-VA-MD-WV MSA Washington-Arlington-Alexandria, DC-VA-MD-WV MSA Washington-Arlington-Alexandria, DC-VA-MD-WV MSA New York-Newark-Jersey City, NY-NJ-PA MSA New York-Newark-Jersey City, NY-NJ-PA MSA New York-Newark-Jersey City, NY-NJ-PA MSA New York-Newark-Jersey City, NY-NJ-PA MSA New York-Newark-Jersey City, NY-NJ-PA MSA Indianapolis-Carmel-Anderson, IN MSA Indianapolis-Carmel-Anderson, IN MSA Indianapolis-Carmel-Anderson, IN MSA Indianapolis-Carmel-Anderson, IN MSA Indianapolis-Carmel-Anderson, IN MSA Indianapolis-Carmel-Anderson, IN MSA Indianapolis-Carmel-Anderson, IN MSA San Diego-Chula Vista-Carlsbad, CA MSA San Diego-Chula Vista-Carlsbad, CA MSA San Diego-Chula Vista-Carlsbad, CA MSA San Diego-Chula Vista-Carlsbad, CA MSA San Diego-Chula Vista-Carlsbad, CA MSA San Diego-Chula Vista-Carlsbad, CA MSA San Diego-Chula Vista-Carlsbad, CA MSA San Diego-Chula Vista-Carlsbad, CA MSA San Diego-Chula Vista-Carlsbad, CA MSA New York-Newark-Jersey City, NY-NJ-PA MSA New York-Newark-Jersey City, NY-NJ-PA MSA Baltimore-Columbia-Towson, MD MSA Baltimore-Columbia-Towson, MD MSA Baltimore-Columbia-Towson, MD MSA Baltimore-Columbia-Towson, MD MSA Baltimore-Columbia-Towson, MD MSA Baltimore-Columbia-Towson, MD MSA Baltimore-Columbia-Towson, MD MSA Baltimore-Columbia-Towson, MD MSA Baltimore-Columbia-Towson, MD MSA Charlotte-Concord-Gastonia, NC-SC MSA Charlotte-Concord-Gastonia, NC-SC MSA Charlotte-Concord-Gastonia, NC-SC MSA Los Angeles-Long Beach-Anaheim, CA MSA Los Angeles-Long Beach-Anaheim, CA MSA Los Angeles-Long Beach-Anaheim, CA MSA Rochester, NY MSA Rochester, NY MSA Rochester, NY MSA Rochester, NY MSA Rochester, NY MSA Detroit-Warren-Dearborn, MI MSA Detroit-Warren-Dearborn, MI MSA Detroit-Warren-Dearborn, MI MSA Bakersfield, CA MSA Urban Honolulu, HI MSA Urban Honolulu, HI MSA Urban Honolulu, HI MSA Urban Honolulu, HI MSA Urban Honolulu, HI MSA Boston-Cambridge-Newton, MA-NH MSA Boston-Cambridge-Newton, MA-NH MSA Boston-Cambridge-Newton, MA-NH MSA Boston-Cambridge-Newton, MA-NH MSA Boston-Cambridge-Newton, MA-NH MSA Boston-Cambridge-Newton, MA-NH MSA Minneapolis-St. Paul-Bloomington, MN-WI MSA Minneapolis-St. Paul-Bloomington, MN-WI MSA Minneapolis-St. Paul-Bloomington, MN-WI MSA Minneapolis-St. Paul-Bloomington, MN-WI MSA Minneapolis-St. Paul-Bloomington, MN-WI MSA Minneapolis-St. Paul-Bloomington, MN-WI MSA Minneapolis-St. Paul-Bloomington, MN-WI MSA Minneapolis-St. Paul-Bloomington, MN-WI MSA Minneapolis-St. Paul-Bloomington, MN-WI MSA New York-Newark-Jersey City, NY-NJ-PA MSA New York-Newark-Jersey City, NY-NJ-PA MSA New York-Newark-Jersey City, NY-NJ-PA MSA Phoenix-Mesa-Chandler, AZ MSA San Francisco-Oakland-Berkeley, CA MSA San Francisco-Oakland-Berkeley, CA MSA San Francisco-Oakland-Berkeley, CA MSA San Francisco-Oakland-Berkeley, CA MSA San Francisco-Oakland-Berkeley, CA MSA San Francisco-Oakland-Berkeley, CA MSA Phoenix-Mesa-Chandler, AZ MSA Phoenix-Mesa-Chandler, AZ MSA Phoenix-Mesa-Chandler, AZ MSA Los Angeles-Long Beach-Anaheim, CA MSA Los Angeles-Long Beach-Anaheim, CA MSA Los Angeles-Long Beach-Anaheim, CA MSA Philadelphia-Camden-Wilmington, PA-NJ-DE-MD MSA Philadelphia-Camden-Wilmington, PA-NJ-DE-MD MSA Virginia Beach-Norfolk-Newport News, VA-NC MSA Virginia Beach-Norfolk-Newport News, VA-NC MSA Las Vegas-Henderson-Paradise, NV MSA Las Vegas-Henderson-Paradise, NV MSA Las Vegas-Henderson-Paradise, NV MSA Las Vegas-Henderson-Paradise, NV MSA San Francisco-Oakland-Berkeley, CA MSA San Francisco-Oakland-Berkeley, CA MSA Washington-Arlington-Alexandria, DC-VA-MD-WV MSA Washington-Arlington-Alexandria, DC-VA-MD-WV MSA Washington-Arlington-Alexandria, DC-VA-MD-WV MSA Washington-Arlington-Alexandria, DC-VA-MD-WV MSA Washington-Arlington-Alexandria, DC-VA-MD-WV MSA Washington-Arlington-Alexandria, DC-VA-MD-WV MSA Washington-Arlington-Alexandria, DC-VA-MD-WV MSA Washington-Arlington-Alexandria, DC-VA-MD-WV MSA Phoenix-Mesa-Chandler, AZ MSA Phoenix-Mesa-Chandler, AZ MSA Phoenix-Mesa-Chandler, AZ MSA New York-Newark-Jersey City, NY-NJ-PA MSA New York-Newark-Jersey City, NY-NJ-PA MSA Sacramento–Roseville–Folsom, CA MSA Sacramento–Roseville–Folsom, CA MSA Sacramento–Roseville–Folsom, CA MSA Salt Lake City, UT MSA Salt Lake City, UT MSA Salt Lake City, UT MSA Philadelphia-Camden-Wilmington, PA-NJ-DE-MD MSA New York-Newark-Jersey City, NY-NJ-PA MSA New York-Newark-Jersey City, NY-NJ-PA MSA New York-Newark-Jersey City, NY-NJ-PA MSA New York-Newark-Jersey City, NY-NJ-PA MSA New York-Newark-Jersey City, NY-NJ-PA MSA New York-Newark-Jersey City, NY-NJ-PA MSA New York-Newark-Jersey City, NY-NJ-PA MSA New York-Newark-Jersey City, NY-NJ-PA MSA New York-Newark-Jersey City, NY-NJ-PA MSA Washington-Arlington-Alexandria, DC-VA-MD-WV MSA Philadelphia-Camden-Wilmington, PA-NJ-DE-MD MSA Philadelphia-Camden-Wilmington, PA-NJ-DE-MD MSA Philadelphia-Camden-Wilmington, PA-NJ-DE-MD MSA Philadelphia-Camden-Wilmington, PA-NJ-DE-MD MSA Philadelphia-Camden-Wilmington, PA-NJ-DE-MD MSA Dallas-Fort Worth-Arlington, TX MSA Dallas-Fort Worth-Arlington, TX MSA Orlando-Kissimmee-Sanford, FL MSA Orlando-Kissimmee-Sanford, FL MSA Orlando-Kissimmee-Sanford, FL MSA Orlando-Kissimmee-Sanford, FL MSA Riverside-San Bernardino-Ontario, CA MSA Riverside-San Bernardino-Ontario, CA MSA Riverside-San Bernardino-Ontario, CA MSA Riverside-San Bernardino-Ontario, CA MSA Riverside-San Bernardino-Ontario, CA MSA Riverside-San Bernardino-Ontario, CA MSA Riverside-San Bernardino-Ontario, CA MSA Riverside-San Bernardino-Ontario, CA MSA Nashville-Davidson–Murfreesboro–Franklin, TN MSA Nashville-Davidson–Murfreesboro–Franklin, TN MSA Nashville-Davidson–Murfreesboro–Franklin, TN MSA Nashville-Davidson–Murfreesboro–Franklin, TN MSA Nashville-Davidson–Murfreesboro–Franklin, TN MSA Nashville-Davidson–Murfreesboro–Franklin, TN MSA Nashville-Davidson–Murfreesboro–Franklin, TN MSA Nashville-Davidson–Murfreesboro–Franklin, TN MSA Atlanta-Sandy Springs-Roswell, GA MSA Atlanta-Sandy Springs-Roswell, GA MSA New York-Newark-Jersey City, NY-NJ-PA MSA Atlanta-Sandy Springs-Roswell, GA MSA Atlanta-Sandy Springs-Roswell, GA MSA New Haven-Milford, CT MSA New Haven-Milford, CT MSA New Haven-Milford, CT MSA New Haven-Milford, CT MSA New Haven-Milford, CT MSA Dallas-Fort Worth-Arlington, TX MSA Dallas-Fort Worth-Arlington, TX MSA Dallas-Fort Worth-Arlington, TX MSA Dallas-Fort Worth-Arlington, TX MSA Dallas-Fort Worth-Arlington, TX MSA Dallas-Fort Worth-Arlington, TX MSA Austin-Round Rock-Georgetown, TX MSA Austin-Round Rock-Georgetown, TX MSA Austin-Round Rock-Georgetown, TX MSA Austin-Round Rock-Georgetown, TX MSA Orlando-Kissimmee-Sanford, FL MSA Urban Honolulu, HI MSA Urban Honolulu, HI MSA Urban Honolulu, HI MSA Seattle-Tacoma-Bellevue, WA MSA Seattle-Tacoma-Bellevue, WA MSA Seattle-Tacoma-Bellevue, WA MSA Bakersfield, CA MSA Charlotte-Concord-Gastonia, NC-SC MSA Charlotte-Concord-Gastonia, NC-SC MSA Charlotte-Concord-Gastonia, NC-SC MSA Charlotte-Concord-Gastonia, NC-SC MSA Charlotte-Concord-Gastonia, NC-SC MSA Tucson, AZ MSA Los Angeles-Long Beach-Anaheim, CA MSA Los Angeles-Long Beach-Anaheim, CA MSA San Antonio-New Braunfels, TX MSA San Antonio-New Braunfels, TX MSA San Antonio-New Braunfels, TX MSA San Antonio-New Braunfels, TX MSA San Antonio-New Braunfels, TX MSA San Antonio-New Braunfels, TX MSA Denver-Aurora-Lakewood, CO MSA Denver-Aurora-Lakewood, CO MSA Minneapolis-St. Paul-Bloomington, MN-WI MSA Minneapolis-St. Paul-Bloomington, MN-WI MSA Minneapolis-St. Paul-Bloomington, MN-WI MSA Minneapolis-St. Paul-Bloomington, MN-WI MSA Minneapolis-St. Paul-Bloomington, MN-WI MSA Minneapolis-St. Paul-Bloomington, MN-WI MSA Minneapolis-St. Paul-Bloomington, MN-WI MSA New York-Newark-Jersey City, NY-NJ-PA MSA Detroit-Warren-Dearborn, MI MSA Detroit-Warren-Dearborn, MI MSA Detroit-Warren-Dearborn, MI MSA Detroit-Warren-Dearborn, MI MSA Detroit-Warren-Dearborn, MI MSA Detroit-Warren-Dearborn, MI MSA San Francisco-Oakland-Berkeley, CA MSA San Francisco-Oakland-Berkeley, CA MSA Fresno, CA MSA Fresno, CA MSA Fresno, CA MSA Fresno, CA MSA Fresno, CA MSA Fresno, CA MSA Fresno, CA MSA Pittsburgh, PA MSA Pittsburgh, PA MSA Pittsburgh, PA MSA Pittsburgh, PA MSA Las Vegas-Henderson-Paradise, NV MSA Las Vegas-Henderson-Paradise, NV MSA Las Vegas-Henderson-Paradise, NV MSA Atlanta-Sandy Springs-Roswell, GA MSA Providence-Warwick, RI-MA MSA Providence-Warwick, RI-MA MSA Pittsburgh, PA MSA Pittsburgh, PA MSA Pittsburgh, PA MSA Pittsburgh, PA MSA Pittsburgh, PA MSA Pittsburgh, PA MSA Pittsburgh, PA MSA Los Angeles-Long Beach-Anaheim, CA MSA Los Angeles-Long Beach-Anaheim, CA MSA Los Angeles-Long Beach-Anaheim, CA MSA Los Angeles-Long Beach-Anaheim, CA MSA Los Angeles-Long Beach-Anaheim, CA MSA Los Angeles-Long Beach-Anaheim, CA MSA Los Angeles-Long Beach-Anaheim, CA MSA Los Angeles-Long Beach-Anaheim, CA MSA Atlanta-Sandy Springs-Roswell, GA MSA Atlanta-Sandy Springs-Roswell, GA MSA Atlanta-Sandy Springs-Roswell, GA MSA Atlanta-Sandy Springs-Roswell, GA MSA Atlanta-Sandy Springs-Roswell, GA MSA Atlanta-Sandy Springs-Roswell, GA MSA Atlanta-Sandy Springs-Roswell, GA MSA Atlanta-Sandy Springs-Roswell, GA MSA Atlanta-Sandy Springs-Roswell, GA MSA Denver-Aurora-Lakewood, CO MSA Denver-Aurora-Lakewood, CO MSA Denver-Aurora-Lakewood, CO MSA Denver-Aurora-Lakewood, CO MSA New York-Newark-Jersey City, NY-NJ-PA MSA New York-Newark-Jersey City, NY-NJ-PA MSA Washington-Arlington-Alexandria, DC-VA-MD-WV MSA Richmond, VA MSA Richmond, VA MSA San Francisco-Oakland-Berkeley, CA MSA San Francisco-Oakland-Berkeley, CA MSA San Francisco-Oakland-Berkeley, CA MSA San Francisco-Oakland-Berkeley, CA MSA San Francisco-Oakland-Berkeley, CA MSA San Francisco-Oakland-Berkeley, CA MSA San Francisco-Oakland-Berkeley, CA MSA Louisville/Jefferson County, KY-IN MSA Bakersfield, CA MSA Bakersfield, CA MSA Bakersfield, CA MSA Bakersfield, CA MSA Bakersfield, CA MSA Dallas-Fort Worth-Arlington, TX MSA Dallas-Fort Worth-Arlington, TX MSA Dallas-Fort Worth-Arlington, TX MSA Dallas-Fort Worth-Arlington, TX MSA Dallas-Fort Worth-Arlington, TX MSA Dallas-Fort Worth-Arlington, TX MSA Los Angeles-Long Beach-Anaheim, CA MSA Los Angeles-Long Beach-Anaheim, CA MSA Los Angeles-Long Beach-Anaheim, CA MSA Los Angeles-Long Beach-Anaheim, CA MSA Los Angeles-Long Beach-Anaheim, CA MSA Los Angeles-Long Beach-Anaheim, CA MSA Los Angeles-Long Beach-Anaheim, CA MSA Riverside-San Bernardino-Ontario, CA MSA Riverside-San Bernardino-Ontario, CA MSA Riverside-San Bernardino-Ontario, CA MSA Portland-Vancouver-Hillsboro, OR-WA MSA Portland-Vancouver-Hillsboro, OR-WA MSA Portland-Vancouver-Hillsboro, OR-WA MSA Portland-Vancouver-Hillsboro, OR-WA MSA Portland-Vancouver-Hillsboro, OR-WA MSA Riverside-San Bernardino-Ontario, CA MSA St. Louis, MO-IL MSA Urban Honolulu, HI MSA New York-Newark-Jersey City, NY-NJ-PA MSA New York-Newark-Jersey City, NY-NJ-PA MSA New York-Newark-Jersey City, NY-NJ-PA MSA Chicago-Naperville-Elgin, IL-IN-WI MSA Chicago-Naperville-Elgin, IL-IN-WI MSA Chicago-Naperville-Elgin, IL-IN-WI MSA Chicago-Naperville-Elgin, IL-IN-WI MSA Chicago-Naperville-Elgin, IL-IN-WI MSA Chicago-Naperville-Elgin, IL-IN-WI MSA Chicago-Naperville-Elgin, IL-IN-WI MSA Chicago-Naperville-Elgin, IL-IN-WI MSA Dallas-Fort Worth-Arlington, TX MSA Dallas-Fort Worth-Arlington, TX MSA Nashville-Davidson–Murfreesboro–Franklin, TN MSA Orlando-Kissimmee-Sanford, FL MSA Cape Coral-Fort Myers, FL MSA Baton Rouge, LA MSA Baton Rouge, LA MSA Baton Rouge, LA MSA Baton Rouge, LA MSA Baton Rouge, LA MSA Baton Rouge, LA MSA Baton Rouge, LA MSA Baton Rouge, LA MSA Detroit-Warren-Dearborn, MI MSA Detroit-Warren-Dearborn, MI MSA Detroit-Warren-Dearborn, MI MSA Detroit-Warren-Dearborn, MI MSA Sacramento–Roseville–Folsom, CA MSA Sacramento–Roseville–Folsom, CA MSA Grand Rapids-Kentwood, MI MSA Grand Rapids-Kentwood, MI MSA Grand Rapids-Kentwood, MI MSA Grand Rapids-Kentwood, MI MSA Grand Rapids-Kentwood, MI MSA Grand Rapids-Kentwood, MI MSA Grand Rapids-Kentwood, MI MSA Grand Rapids-Kentwood, MI MSA Grand Rapids-Kentwood, MI MSA Portland-Vancouver-Hillsboro, OR-WA MSA Portland-Vancouver-Hillsboro, OR-WA MSA Portland-Vancouver-Hillsboro, OR-WA MSA Portland-Vancouver-Hillsboro, OR-WA MSA Boston-Cambridge-Newton, MA-NH MSA Boston-Cambridge-Newton, MA-NH MSA Boston-Cambridge-Newton, MA-NH MSA Boston-Cambridge-Newton, MA-NH MSA Boston-Cambridge-Newton, MA-NH MSA New York-Newark-Jersey City, NY-NJ-PA MSA New York-Newark-Jersey City, NY-NJ-PA MSA New York-Newark-Jersey City, NY-NJ-PA MSA New York-Newark-Jersey City, NY-NJ-PA MSA New York-Newark-Jersey City, NY-NJ-PA MSA New York-Newark-Jersey City, NY-NJ-PA MSA New York-Newark-Jersey City, NY-NJ-PA MSA New York-Newark-Jersey City, NY-NJ-PA MSA New York-Newark-Jersey City, NY-NJ-PA MSA New York-Newark-Jersey City, NY-NJ-PA MSA New Orleans-Metairie, LA MSA New Orleans-Metairie, LA MSA New Orleans-Metairie, LA MSA New Orleans-Metairie, LA MSA New Orleans-Metairie, LA MSA Los Angeles-Long Beach-Anaheim, CA MSA New York-Newark-Jersey City, NY-NJ-PA MSA New York-Newark-Jersey City, NY-NJ-PA MSA New York-Newark-Jersey City, NY-NJ-PA MSA New York-Newark-Jersey City, NY-NJ-PA MSA New York-Newark-Jersey City, NY-NJ-PA MSA New York-Newark-Jersey City, NY-NJ-PA MSA New York-Newark-Jersey City, NY-NJ-PA MSA New York-Newark-Jersey City, NY-NJ-PA MSA New York-Newark-Jersey City, NY-NJ-PA MSA Orlando-Kissimmee-Sanford, FL MSA Orlando-Kissimmee-Sanford, FL MSA Orlando-Kissimmee-Sanford, FL MSA Orlando-Kissimmee-Sanford, FL MSA'"
      ]
     },
     "execution_count": 38,
     "metadata": {},
     "output_type": "execute_result"
    }
   ],
   "source": [
    "#First, normalize the data: combine all purpose values into one string\n",
    "allwords= ' '.join(revenue['city'])\n",
    "allwords"
   ]
  },
  {
   "cell_type": "code",
   "execution_count": 39,
   "metadata": {},
   "outputs": [
    {
     "data": {
      "text/plain": [
       "['Atlanta-Sandy',\n",
       " 'Springs-Roswell',\n",
       " ',',\n",
       " 'GA',\n",
       " 'MSA',\n",
       " 'Seattle-Tacoma-Bellevue',\n",
       " ',',\n",
       " 'WA',\n",
       " 'MSA',\n",
       " 'Seattle-Tacoma-Bellevue',\n",
       " ',',\n",
       " 'WA',\n",
       " 'MSA',\n",
       " 'Seattle-Tacoma-Bellevue',\n",
       " ',',\n",
       " 'WA',\n",
       " 'MSA',\n",
       " 'Seattle-Tacoma-Bellevue',\n",
       " ',',\n",
       " 'WA',\n",
       " 'MSA',\n",
       " 'Seattle-Tacoma-Bellevue',\n",
       " ',',\n",
       " 'WA',\n",
       " 'MSA',\n",
       " 'Las',\n",
       " 'Vegas-Henderson-Paradise',\n",
       " ',',\n",
       " 'NV',\n",
       " 'MSA',\n",
       " 'Las',\n",
       " 'Vegas-Henderson-Paradise',\n",
       " ',',\n",
       " 'NV',\n",
       " 'MSA',\n",
       " 'Las',\n",
       " 'Vegas-Henderson-Paradise',\n",
       " ',',\n",
       " 'NV',\n",
       " 'MSA',\n",
       " 'Tulsa',\n",
       " ',',\n",
       " 'OK',\n",
       " 'MSA',\n",
       " 'Seattle-Tacoma-Bellevue',\n",
       " ',',\n",
       " 'WA',\n",
       " 'MSA',\n",
       " 'Seattle-Tacoma-Bellevue',\n",
       " ',',\n",
       " 'WA',\n",
       " 'MSA',\n",
       " 'Seattle-Tacoma-Bellevue',\n",
       " ',',\n",
       " 'WA',\n",
       " 'MSA',\n",
       " 'Seattle-Tacoma-Bellevue',\n",
       " ',',\n",
       " 'WA',\n",
       " 'MSA',\n",
       " 'Seattle-Tacoma-Bellevue',\n",
       " ',',\n",
       " 'WA',\n",
       " 'MSA',\n",
       " 'Seattle-Tacoma-Bellevue',\n",
       " ',',\n",
       " 'WA',\n",
       " 'MSA',\n",
       " 'Seattle-Tacoma-Bellevue',\n",
       " ',',\n",
       " 'WA',\n",
       " 'MSA',\n",
       " 'Seattle-Tacoma-Bellevue',\n",
       " ',',\n",
       " 'WA',\n",
       " 'MSA',\n",
       " 'Dallas-Fort',\n",
       " 'Worth-Arlington',\n",
       " ',',\n",
       " 'TX',\n",
       " 'MSA',\n",
       " 'San',\n",
       " 'Francisco-Oakland-Berkeley',\n",
       " ',',\n",
       " 'CA',\n",
       " 'MSA',\n",
       " 'Grand',\n",
       " 'Rapids-Kentwood',\n",
       " ',',\n",
       " 'MI',\n",
       " 'MSA',\n",
       " 'Grand',\n",
       " 'Rapids-Kentwood',\n",
       " ',',\n",
       " 'MI',\n",
       " 'MSA',\n",
       " 'Grand',\n",
       " 'Rapids-Kentwood',\n",
       " ',',\n",
       " 'MI',\n",
       " 'MSA',\n",
       " 'Grand',\n",
       " 'Rapids-Kentwood',\n",
       " ',',\n",
       " 'MI',\n",
       " 'MSA',\n",
       " 'Orlando-Kissimmee-Sanford',\n",
       " ',',\n",
       " 'FL',\n",
       " 'MSA',\n",
       " 'Orlando-Kissimmee-Sanford',\n",
       " ',',\n",
       " 'FL',\n",
       " 'MSA',\n",
       " 'Orlando-Kissimmee-Sanford',\n",
       " ',',\n",
       " 'FL',\n",
       " 'MSA',\n",
       " 'San',\n",
       " 'Jose-Sunnyvale-Santa',\n",
       " 'Clara',\n",
       " ',',\n",
       " 'CA',\n",
       " 'MSA',\n",
       " 'San',\n",
       " 'Jose-Sunnyvale-Santa',\n",
       " 'Clara',\n",
       " ',',\n",
       " 'CA',\n",
       " 'MSA',\n",
       " 'San',\n",
       " 'Jose-Sunnyvale-Santa',\n",
       " 'Clara',\n",
       " ',',\n",
       " 'CA',\n",
       " 'MSA',\n",
       " 'San',\n",
       " 'Jose-Sunnyvale-Santa',\n",
       " 'Clara',\n",
       " ',',\n",
       " 'CA',\n",
       " 'MSA',\n",
       " 'San',\n",
       " 'Jose-Sunnyvale-Santa',\n",
       " 'Clara',\n",
       " ',',\n",
       " 'CA',\n",
       " 'MSA',\n",
       " 'San',\n",
       " 'Jose-Sunnyvale-Santa',\n",
       " 'Clara',\n",
       " ',',\n",
       " 'CA',\n",
       " 'MSA',\n",
       " 'San',\n",
       " 'Jose-Sunnyvale-Santa',\n",
       " 'Clara',\n",
       " ',',\n",
       " 'CA',\n",
       " 'MSA',\n",
       " 'San',\n",
       " 'Jose-Sunnyvale-Santa',\n",
       " 'Clara',\n",
       " ',',\n",
       " 'CA',\n",
       " 'MSA',\n",
       " 'Dallas-Fort',\n",
       " 'Worth-Arlington',\n",
       " ',',\n",
       " 'TX',\n",
       " 'MSA',\n",
       " 'Dallas-Fort',\n",
       " 'Worth-Arlington',\n",
       " ',',\n",
       " 'TX',\n",
       " 'MSA',\n",
       " 'Dallas-Fort',\n",
       " 'Worth-Arlington',\n",
       " ',',\n",
       " 'TX',\n",
       " 'MSA',\n",
       " 'Dallas-Fort',\n",
       " 'Worth-Arlington',\n",
       " ',',\n",
       " 'TX',\n",
       " 'MSA',\n",
       " 'Dallas-Fort',\n",
       " 'Worth-Arlington',\n",
       " ',',\n",
       " 'TX',\n",
       " 'MSA',\n",
       " 'Dallas-Fort',\n",
       " 'Worth-Arlington',\n",
       " ',',\n",
       " 'TX',\n",
       " 'MSA',\n",
       " 'Dallas-Fort',\n",
       " 'Worth-Arlington',\n",
       " ',',\n",
       " 'TX',\n",
       " 'MSA',\n",
       " 'Dallas-Fort',\n",
       " 'Worth-Arlington',\n",
       " ',',\n",
       " 'TX',\n",
       " 'MSA',\n",
       " 'Cleveland-Elyria',\n",
       " ',',\n",
       " 'OH',\n",
       " 'MSA',\n",
       " 'Cleveland-Elyria',\n",
       " ',',\n",
       " 'OH',\n",
       " 'MSA',\n",
       " 'Cleveland-Elyria',\n",
       " ',',\n",
       " 'OH',\n",
       " 'MSA',\n",
       " 'Cleveland-Elyria',\n",
       " ',',\n",
       " 'OH',\n",
       " 'MSA',\n",
       " 'Cleveland-Elyria',\n",
       " ',',\n",
       " 'OH',\n",
       " 'MSA',\n",
       " 'Cleveland-Elyria',\n",
       " ',',\n",
       " 'OH',\n",
       " 'MSA',\n",
       " 'Cleveland-Elyria',\n",
       " ',',\n",
       " 'OH',\n",
       " 'MSA',\n",
       " 'Chicago-Naperville-Elgin',\n",
       " ',',\n",
       " 'IL-IN-WI',\n",
       " 'MSA',\n",
       " 'Chicago-Naperville-Elgin',\n",
       " ',',\n",
       " 'IL-IN-WI',\n",
       " 'MSA',\n",
       " 'Knoxville',\n",
       " ',',\n",
       " 'TN',\n",
       " 'MSA',\n",
       " 'New',\n",
       " 'York-Newark-Jersey',\n",
       " 'City',\n",
       " ',',\n",
       " 'NY-NJ-PA',\n",
       " 'MSA',\n",
       " 'Pittsburgh',\n",
       " ',',\n",
       " 'PA',\n",
       " 'MSA',\n",
       " 'Fresno',\n",
       " ',',\n",
       " 'CA',\n",
       " 'MSA',\n",
       " 'Fresno',\n",
       " ',',\n",
       " 'CA',\n",
       " 'MSA',\n",
       " 'Fresno',\n",
       " ',',\n",
       " 'CA',\n",
       " 'MSA',\n",
       " 'Washington-Arlington-Alexandria',\n",
       " ',',\n",
       " 'DC-VA-MD-WV',\n",
       " 'MSA',\n",
       " 'Washington-Arlington-Alexandria',\n",
       " ',',\n",
       " 'DC-VA-MD-WV',\n",
       " 'MSA',\n",
       " 'Washington-Arlington-Alexandria',\n",
       " ',',\n",
       " 'DC-VA-MD-WV',\n",
       " 'MSA',\n",
       " 'Washington-Arlington-Alexandria',\n",
       " ',',\n",
       " 'DC-VA-MD-WV',\n",
       " 'MSA',\n",
       " 'Washington-Arlington-Alexandria',\n",
       " ',',\n",
       " 'DC-VA-MD-WV',\n",
       " 'MSA',\n",
       " 'Indianapolis-Carmel-Anderson',\n",
       " ',',\n",
       " 'IN',\n",
       " 'MSA',\n",
       " 'Indianapolis-Carmel-Anderson',\n",
       " ',',\n",
       " 'IN',\n",
       " 'MSA',\n",
       " 'Indianapolis-Carmel-Anderson',\n",
       " ',',\n",
       " 'IN',\n",
       " 'MSA',\n",
       " 'Jacksonville',\n",
       " ',',\n",
       " 'FL',\n",
       " 'MSA',\n",
       " 'Dallas-Fort',\n",
       " 'Worth-Arlington',\n",
       " ',',\n",
       " 'TX',\n",
       " 'MSA',\n",
       " 'Dallas-Fort',\n",
       " 'Worth-Arlington',\n",
       " ',',\n",
       " 'TX',\n",
       " 'MSA',\n",
       " 'Los',\n",
       " 'Angeles-Long',\n",
       " 'Beach-Anaheim',\n",
       " ',',\n",
       " 'CA',\n",
       " 'MSA',\n",
       " 'New',\n",
       " 'York-Newark-Jersey',\n",
       " 'City',\n",
       " ',',\n",
       " 'NY-NJ-PA',\n",
       " 'MSA',\n",
       " 'New',\n",
       " 'York-Newark-Jersey',\n",
       " 'City',\n",
       " ',',\n",
       " 'NY-NJ-PA',\n",
       " 'MSA',\n",
       " 'New',\n",
       " 'York-Newark-Jersey',\n",
       " 'City',\n",
       " ',',\n",
       " 'NY-NJ-PA',\n",
       " 'MSA',\n",
       " 'New',\n",
       " 'York-Newark-Jersey',\n",
       " 'City',\n",
       " ',',\n",
       " 'NY-NJ-PA',\n",
       " 'MSA',\n",
       " 'New',\n",
       " 'York-Newark-Jersey',\n",
       " 'City',\n",
       " ',',\n",
       " 'NY-NJ-PA',\n",
       " 'MSA',\n",
       " 'New',\n",
       " 'York-Newark-Jersey',\n",
       " 'City',\n",
       " ',',\n",
       " 'NY-NJ-PA',\n",
       " 'MSA',\n",
       " 'New',\n",
       " 'York-Newark-Jersey',\n",
       " 'City',\n",
       " ',',\n",
       " 'NY-NJ-PA',\n",
       " 'MSA',\n",
       " 'New',\n",
       " 'York-Newark-Jersey',\n",
       " 'City',\n",
       " ',',\n",
       " 'NY-NJ-PA',\n",
       " 'MSA',\n",
       " 'Omaha-Council',\n",
       " 'Bluffs',\n",
       " ',',\n",
       " 'NE-IA',\n",
       " 'MSA',\n",
       " 'Omaha-Council',\n",
       " 'Bluffs',\n",
       " ',',\n",
       " 'NE-IA',\n",
       " 'MSA',\n",
       " 'New',\n",
       " 'York-Newark-Jersey',\n",
       " 'City',\n",
       " ',',\n",
       " 'NY-NJ-PA',\n",
       " 'MSA',\n",
       " 'Atlanta-Sandy',\n",
       " 'Springs-Roswell',\n",
       " ',',\n",
       " 'GA',\n",
       " 'MSA',\n",
       " 'Houston-The',\n",
       " 'Woodlands-Sugar',\n",
       " 'Land',\n",
       " ',',\n",
       " 'TX',\n",
       " 'MSA',\n",
       " 'Houston-The',\n",
       " 'Woodlands-Sugar',\n",
       " 'Land',\n",
       " ',',\n",
       " 'TX',\n",
       " 'MSA',\n",
       " 'New',\n",
       " 'York-Newark-Jersey',\n",
       " 'City',\n",
       " ',',\n",
       " 'NY-NJ-PA',\n",
       " 'MSA',\n",
       " 'New',\n",
       " 'York-Newark-Jersey',\n",
       " 'City',\n",
       " ',',\n",
       " 'NY-NJ-PA',\n",
       " 'MSA',\n",
       " 'New',\n",
       " 'York-Newark-Jersey',\n",
       " 'City',\n",
       " ',',\n",
       " 'NY-NJ-PA',\n",
       " 'MSA',\n",
       " 'New',\n",
       " 'York-Newark-Jersey',\n",
       " 'City',\n",
       " ',',\n",
       " 'NY-NJ-PA',\n",
       " 'MSA',\n",
       " 'New',\n",
       " 'York-Newark-Jersey',\n",
       " 'City',\n",
       " ',',\n",
       " 'NY-NJ-PA',\n",
       " 'MSA',\n",
       " 'New',\n",
       " 'York-Newark-Jersey',\n",
       " 'City',\n",
       " ',',\n",
       " 'NY-NJ-PA',\n",
       " 'MSA',\n",
       " 'Philadelphia-Camden-Wilmington',\n",
       " ',',\n",
       " 'PA-NJ-DE-MD',\n",
       " 'MSA',\n",
       " 'Philadelphia-Camden-Wilmington',\n",
       " ',',\n",
       " 'PA-NJ-DE-MD',\n",
       " 'MSA',\n",
       " 'Tampa-St.',\n",
       " 'Petersburg-Clearwater',\n",
       " ',',\n",
       " 'FL',\n",
       " 'MSA',\n",
       " 'Tampa-St.',\n",
       " 'Petersburg-Clearwater',\n",
       " ',',\n",
       " 'FL',\n",
       " 'MSA',\n",
       " 'Tampa-St.',\n",
       " 'Petersburg-Clearwater',\n",
       " ',',\n",
       " 'FL',\n",
       " 'MSA',\n",
       " 'Tampa-St.',\n",
       " 'Petersburg-Clearwater',\n",
       " ',',\n",
       " 'FL',\n",
       " 'MSA',\n",
       " 'Tampa-St.',\n",
       " 'Petersburg-Clearwater',\n",
       " ',',\n",
       " 'FL',\n",
       " 'MSA',\n",
       " 'Chicago-Naperville-Elgin',\n",
       " ',',\n",
       " 'IL-IN-WI',\n",
       " 'MSA',\n",
       " 'Chicago-Naperville-Elgin',\n",
       " ',',\n",
       " 'IL-IN-WI',\n",
       " 'MSA',\n",
       " 'Chicago-Naperville-Elgin',\n",
       " ',',\n",
       " 'IL-IN-WI',\n",
       " 'MSA',\n",
       " 'New',\n",
       " 'York-Newark-Jersey',\n",
       " 'City',\n",
       " ',',\n",
       " 'NY-NJ-PA',\n",
       " 'MSA',\n",
       " 'New',\n",
       " 'York-Newark-Jersey',\n",
       " 'City',\n",
       " ',',\n",
       " 'NY-NJ-PA',\n",
       " 'MSA',\n",
       " 'New',\n",
       " 'York-Newark-Jersey',\n",
       " 'City',\n",
       " ',',\n",
       " 'NY-NJ-PA',\n",
       " 'MSA',\n",
       " 'New',\n",
       " 'York-Newark-Jersey',\n",
       " 'City',\n",
       " ',',\n",
       " 'NY-NJ-PA',\n",
       " 'MSA',\n",
       " 'New',\n",
       " 'York-Newark-Jersey',\n",
       " 'City',\n",
       " ',',\n",
       " 'NY-NJ-PA',\n",
       " 'MSA',\n",
       " 'New',\n",
       " 'York-Newark-Jersey',\n",
       " 'City',\n",
       " ',',\n",
       " 'NY-NJ-PA',\n",
       " 'MSA',\n",
       " 'Birmingham-Hoover',\n",
       " ',',\n",
       " 'AL',\n",
       " 'MSA',\n",
       " 'Birmingham-Hoover',\n",
       " ',',\n",
       " 'AL',\n",
       " 'MSA',\n",
       " 'Oklahoma',\n",
       " 'City',\n",
       " ',',\n",
       " 'OK',\n",
       " 'MSA',\n",
       " 'Oklahoma',\n",
       " 'City',\n",
       " ',',\n",
       " 'OK',\n",
       " 'MSA',\n",
       " 'Oklahoma',\n",
       " 'City',\n",
       " ',',\n",
       " 'OK',\n",
       " 'MSA',\n",
       " 'Oklahoma',\n",
       " 'City',\n",
       " ',',\n",
       " 'OK',\n",
       " 'MSA',\n",
       " 'New',\n",
       " 'York-Newark-Jersey',\n",
       " 'City',\n",
       " ',',\n",
       " 'NY-NJ-PA',\n",
       " 'MSA',\n",
       " 'Charlotte-Concord-Gastonia',\n",
       " ',',\n",
       " 'NC-SC',\n",
       " 'MSA',\n",
       " 'Denver-Aurora-Lakewood',\n",
       " ',',\n",
       " 'CO',\n",
       " 'MSA',\n",
       " 'Denver-Aurora-Lakewood',\n",
       " ',',\n",
       " 'CO',\n",
       " 'MSA',\n",
       " 'Denver-Aurora-Lakewood',\n",
       " ',',\n",
       " 'CO',\n",
       " 'MSA',\n",
       " 'Denver-Aurora-Lakewood',\n",
       " ',',\n",
       " 'CO',\n",
       " 'MSA',\n",
       " 'Denver-Aurora-Lakewood',\n",
       " ',',\n",
       " 'CO',\n",
       " 'MSA',\n",
       " 'Denver-Aurora-Lakewood',\n",
       " ',',\n",
       " 'CO',\n",
       " 'MSA',\n",
       " 'Denver-Aurora-Lakewood',\n",
       " ',',\n",
       " 'CO',\n",
       " 'MSA',\n",
       " 'Seattle-Tacoma-Bellevue',\n",
       " ',',\n",
       " 'WA',\n",
       " 'MSA',\n",
       " 'Nashville-Davidson–Murfreesboro–Franklin',\n",
       " ',',\n",
       " 'TN',\n",
       " 'MSA',\n",
       " 'Columbus',\n",
       " ',',\n",
       " 'OH',\n",
       " 'MSA',\n",
       " 'Columbus',\n",
       " ',',\n",
       " 'OH',\n",
       " 'MSA',\n",
       " 'Columbus',\n",
       " ',',\n",
       " 'OH',\n",
       " 'MSA',\n",
       " 'Columbus',\n",
       " ',',\n",
       " 'OH',\n",
       " 'MSA',\n",
       " 'Columbus',\n",
       " ',',\n",
       " 'OH',\n",
       " 'MSA',\n",
       " 'Columbus',\n",
       " ',',\n",
       " 'OH',\n",
       " 'MSA',\n",
       " 'Columbus',\n",
       " ',',\n",
       " 'OH',\n",
       " 'MSA',\n",
       " 'Philadelphia-Camden-Wilmington',\n",
       " ',',\n",
       " 'PA-NJ-DE-MD',\n",
       " 'MSA',\n",
       " 'Las',\n",
       " 'Vegas-Henderson-Paradise',\n",
       " ',',\n",
       " 'NV',\n",
       " 'MSA',\n",
       " 'Las',\n",
       " 'Vegas-Henderson-Paradise',\n",
       " ',',\n",
       " 'NV',\n",
       " 'MSA',\n",
       " 'Las',\n",
       " 'Vegas-Henderson-Paradise',\n",
       " ',',\n",
       " 'NV',\n",
       " 'MSA',\n",
       " 'Las',\n",
       " 'Vegas-Henderson-Paradise',\n",
       " ',',\n",
       " 'NV',\n",
       " 'MSA',\n",
       " 'Las',\n",
       " 'Vegas-Henderson-Paradise',\n",
       " ',',\n",
       " 'NV',\n",
       " 'MSA',\n",
       " 'Las',\n",
       " 'Vegas-Henderson-Paradise',\n",
       " ',',\n",
       " 'NV',\n",
       " 'MSA',\n",
       " 'Las',\n",
       " 'Vegas-Henderson-Paradise',\n",
       " ',',\n",
       " 'NV',\n",
       " 'MSA',\n",
       " 'Las',\n",
       " 'Vegas-Henderson-Paradise',\n",
       " ',',\n",
       " 'NV',\n",
       " 'MSA',\n",
       " 'Las',\n",
       " 'Vegas-Henderson-Paradise',\n",
       " ',',\n",
       " 'NV',\n",
       " 'MSA',\n",
       " 'Philadelphia-Camden-Wilmington',\n",
       " ',',\n",
       " 'PA-NJ-DE-MD',\n",
       " 'MSA',\n",
       " 'Philadelphia-Camden-Wilmington',\n",
       " ',',\n",
       " 'PA-NJ-DE-MD',\n",
       " 'MSA',\n",
       " 'Philadelphia-Camden-Wilmington',\n",
       " ',',\n",
       " 'PA-NJ-DE-MD',\n",
       " 'MSA',\n",
       " 'Philadelphia-Camden-Wilmington',\n",
       " ',',\n",
       " 'PA-NJ-DE-MD',\n",
       " 'MSA',\n",
       " 'Philadelphia-Camden-Wilmington',\n",
       " ',',\n",
       " 'PA-NJ-DE-MD',\n",
       " 'MSA',\n",
       " 'Philadelphia-Camden-Wilmington',\n",
       " ',',\n",
       " 'PA-NJ-DE-MD',\n",
       " 'MSA',\n",
       " 'Philadelphia-Camden-Wilmington',\n",
       " ',',\n",
       " 'PA-NJ-DE-MD',\n",
       " 'MSA',\n",
       " 'Philadelphia-Camden-Wilmington',\n",
       " ',',\n",
       " 'PA-NJ-DE-MD',\n",
       " 'MSA',\n",
       " 'Philadelphia-Camden-Wilmington',\n",
       " ',',\n",
       " 'PA-NJ-DE-MD',\n",
       " 'MSA',\n",
       " 'New',\n",
       " 'York-Newark-Jersey',\n",
       " 'City',\n",
       " ',',\n",
       " 'NY-NJ-PA',\n",
       " 'MSA',\n",
       " 'New',\n",
       " 'York-Newark-Jersey',\n",
       " 'City',\n",
       " ',',\n",
       " 'NY-NJ-PA',\n",
       " 'MSA',\n",
       " 'New',\n",
       " 'York-Newark-Jersey',\n",
       " 'City',\n",
       " ',',\n",
       " 'NY-NJ-PA',\n",
       " 'MSA',\n",
       " 'New',\n",
       " 'York-Newark-Jersey',\n",
       " 'City',\n",
       " ',',\n",
       " 'NY-NJ-PA',\n",
       " 'MSA',\n",
       " 'New',\n",
       " 'York-Newark-Jersey',\n",
       " 'City',\n",
       " ',',\n",
       " 'NY-NJ-PA',\n",
       " 'MSA',\n",
       " 'New',\n",
       " 'York-Newark-Jersey',\n",
       " 'City',\n",
       " ',',\n",
       " 'NY-NJ-PA',\n",
       " 'MSA',\n",
       " 'Albuquerque',\n",
       " ',',\n",
       " 'NM',\n",
       " 'MSA',\n",
       " 'Albuquerque',\n",
       " ',',\n",
       " 'NM',\n",
       " 'MSA',\n",
       " 'Albuquerque',\n",
       " ',',\n",
       " 'NM',\n",
       " 'MSA',\n",
       " 'Albuquerque',\n",
       " ',',\n",
       " 'NM',\n",
       " 'MSA',\n",
       " 'Albuquerque',\n",
       " ',',\n",
       " 'NM',\n",
       " 'MSA',\n",
       " 'New',\n",
       " 'York-Newark-Jersey',\n",
       " 'City',\n",
       " ',',\n",
       " 'NY-NJ-PA',\n",
       " 'MSA',\n",
       " 'New',\n",
       " 'York-Newark-Jersey',\n",
       " 'City',\n",
       " ',',\n",
       " 'NY-NJ-PA',\n",
       " 'MSA',\n",
       " 'New',\n",
       " 'York-Newark-Jersey',\n",
       " 'City',\n",
       " ',',\n",
       " 'NY-NJ-PA',\n",
       " 'MSA',\n",
       " 'Boston-Cambridge-Newton',\n",
       " ',',\n",
       " 'MA-NH',\n",
       " 'MSA',\n",
       " 'Boston-Cambridge-Newton',\n",
       " ',',\n",
       " 'MA-NH',\n",
       " 'MSA',\n",
       " 'Boston-Cambridge-Newton',\n",
       " ',',\n",
       " 'MA-NH',\n",
       " 'MSA',\n",
       " 'Boston-Cambridge-Newton',\n",
       " ',',\n",
       " 'MA-NH',\n",
       " 'MSA',\n",
       " 'Boston-Cambridge-Newton',\n",
       " ',',\n",
       " 'MA-NH',\n",
       " 'MSA',\n",
       " 'Boston-Cambridge-Newton',\n",
       " ',',\n",
       " 'MA-NH',\n",
       " 'MSA',\n",
       " 'Boston-Cambridge-Newton',\n",
       " ',',\n",
       " 'MA-NH',\n",
       " 'MSA',\n",
       " 'Indianapolis-Carmel-Anderson',\n",
       " ',',\n",
       " 'IN',\n",
       " 'MSA',\n",
       " 'Miami-Fort',\n",
       " 'Lauderdale-West',\n",
       " 'Palm',\n",
       " 'Beach',\n",
       " ',',\n",
       " 'FL',\n",
       " 'MSA',\n",
       " 'Miami-Fort',\n",
       " 'Lauderdale-West',\n",
       " 'Palm',\n",
       " 'Beach',\n",
       " ',',\n",
       " 'FL',\n",
       " 'MSA',\n",
       " 'Miami-Fort',\n",
       " 'Lauderdale-West',\n",
       " 'Palm',\n",
       " 'Beach',\n",
       " ',',\n",
       " 'FL',\n",
       " 'MSA',\n",
       " 'Miami-Fort',\n",
       " 'Lauderdale-West',\n",
       " 'Palm',\n",
       " 'Beach',\n",
       " ',',\n",
       " 'FL',\n",
       " 'MSA',\n",
       " 'Miami-Fort',\n",
       " 'Lauderdale-West',\n",
       " 'Palm',\n",
       " 'Beach',\n",
       " ',',\n",
       " 'FL',\n",
       " 'MSA',\n",
       " 'New',\n",
       " 'York-Newark-Jersey',\n",
       " 'City',\n",
       " ',',\n",
       " 'NY-NJ-PA',\n",
       " 'MSA',\n",
       " 'New',\n",
       " 'York-Newark-Jersey',\n",
       " 'City',\n",
       " ',',\n",
       " 'NY-NJ-PA',\n",
       " 'MSA',\n",
       " 'New',\n",
       " 'York-Newark-Jersey',\n",
       " 'City',\n",
       " ',',\n",
       " 'NY-NJ-PA',\n",
       " 'MSA',\n",
       " 'New',\n",
       " 'York-Newark-Jersey',\n",
       " 'City',\n",
       " ',',\n",
       " 'NY-NJ-PA',\n",
       " 'MSA',\n",
       " 'New',\n",
       " 'York-Newark-Jersey',\n",
       " 'City',\n",
       " ',',\n",
       " 'NY-NJ-PA',\n",
       " 'MSA',\n",
       " 'New',\n",
       " 'York-Newark-Jersey',\n",
       " 'City',\n",
       " ',',\n",
       " 'NY-NJ-PA',\n",
       " 'MSA',\n",
       " 'New',\n",
       " 'York-Newark-Jersey',\n",
       " 'City',\n",
       " ',',\n",
       " 'NY-NJ-PA',\n",
       " 'MSA',\n",
       " 'New',\n",
       " 'York-Newark-Jersey',\n",
       " 'City',\n",
       " ',',\n",
       " 'NY-NJ-PA',\n",
       " 'MSA',\n",
       " 'New',\n",
       " 'York-Newark-Jersey',\n",
       " 'City',\n",
       " ',',\n",
       " 'NY-NJ-PA',\n",
       " 'MSA',\n",
       " 'Miami-Fort',\n",
       " 'Lauderdale-West',\n",
       " 'Palm',\n",
       " 'Beach',\n",
       " ',',\n",
       " 'FL',\n",
       " 'MSA',\n",
       " 'Miami-Fort',\n",
       " 'Lauderdale-West',\n",
       " 'Palm',\n",
       " 'Beach',\n",
       " ',',\n",
       " 'FL',\n",
       " 'MSA',\n",
       " 'Miami-Fort',\n",
       " 'Lauderdale-West',\n",
       " 'Palm',\n",
       " 'Beach',\n",
       " ',',\n",
       " 'FL',\n",
       " 'MSA',\n",
       " 'Miami-Fort',\n",
       " 'Lauderdale-West',\n",
       " 'Palm',\n",
       " 'Beach',\n",
       " ',',\n",
       " 'FL',\n",
       " 'MSA',\n",
       " 'Miami-Fort',\n",
       " 'Lauderdale-West',\n",
       " 'Palm',\n",
       " 'Beach',\n",
       " ',',\n",
       " 'FL',\n",
       " 'MSA',\n",
       " 'Miami-Fort',\n",
       " 'Lauderdale-West',\n",
       " 'Palm',\n",
       " 'Beach',\n",
       " ',',\n",
       " 'FL',\n",
       " 'MSA',\n",
       " 'Miami-Fort',\n",
       " 'Lauderdale-West',\n",
       " 'Palm',\n",
       " 'Beach',\n",
       " ',',\n",
       " 'FL',\n",
       " 'MSA',\n",
       " 'Miami-Fort',\n",
       " 'Lauderdale-West',\n",
       " 'Palm',\n",
       " 'Beach',\n",
       " ',',\n",
       " 'FL',\n",
       " 'MSA',\n",
       " 'Miami-Fort',\n",
       " 'Lauderdale-West',\n",
       " 'Palm',\n",
       " 'Beach',\n",
       " ',',\n",
       " 'FL',\n",
       " 'MSA',\n",
       " 'San',\n",
       " 'Diego-Chula',\n",
       " 'Vista-Carlsbad',\n",
       " ',',\n",
       " 'CA',\n",
       " 'MSA',\n",
       " 'Houston-The',\n",
       " 'Woodlands-Sugar',\n",
       " 'Land',\n",
       " ',',\n",
       " 'TX',\n",
       " 'MSA',\n",
       " 'New',\n",
       " 'York-Newark-Jersey',\n",
       " 'City',\n",
       " ',',\n",
       " 'NY-NJ-PA',\n",
       " 'MSA',\n",
       " 'New',\n",
       " 'York-Newark-Jersey',\n",
       " 'City',\n",
       " ',',\n",
       " 'NY-NJ-PA',\n",
       " 'MSA',\n",
       " 'New',\n",
       " 'York-Newark-Jersey',\n",
       " 'City',\n",
       " ',',\n",
       " 'NY-NJ-PA',\n",
       " 'MSA',\n",
       " 'New',\n",
       " 'York-Newark-Jersey',\n",
       " 'City',\n",
       " ',',\n",
       " 'NY-NJ-PA',\n",
       " 'MSA',\n",
       " 'New',\n",
       " ...]"
      ]
     },
     "execution_count": 39,
     "metadata": {},
     "output_type": "execute_result"
    }
   ],
   "source": [
    "#Next step in normalization: lemmatization, so it does not confuse different versions of the\n",
    "#same word\n",
    "import nltk\n",
    "from nltk.stem import WordNetLemmatizer\n",
    "wordnet_lemma = WordNetLemmatizer()\n",
    "\n",
    "#change allwords to a list of words: lemmas\n",
    "allwords = nltk.word_tokenize(allwords)\n",
    "lemmas = [wordnet_lemma.lemmatize(w, pos='n') for w in allwords]\n",
    "lemmas"
   ]
  },
  {
   "cell_type": "code",
   "execution_count": 40,
   "metadata": {},
   "outputs": [
    {
     "data": {
      "text/plain": [
       "Counter({'Atlanta-Sandy': 46,\n",
       "         'Springs-Roswell': 46,\n",
       "         ',': 2091,\n",
       "         'GA': 46,\n",
       "         'MSA': 2091,\n",
       "         'Seattle-Tacoma-Bellevue': 50,\n",
       "         'WA': 50,\n",
       "         'Las': 25,\n",
       "         'Vegas-Henderson-Paradise': 25,\n",
       "         'NV': 25,\n",
       "         'Tulsa': 9,\n",
       "         'OK': 29,\n",
       "         'Dallas-Fort': 83,\n",
       "         'Worth-Arlington': 83,\n",
       "         'TX': 159,\n",
       "         'San': 132,\n",
       "         'Francisco-Oakland-Berkeley': 45,\n",
       "         'CA': 323,\n",
       "         'Grand': 22,\n",
       "         'Rapids-Kentwood': 22,\n",
       "         'MI': 58,\n",
       "         'Orlando-Kissimmee-Sanford': 15,\n",
       "         'FL': 101,\n",
       "         'Jose-Sunnyvale-Santa': 29,\n",
       "         'Clara': 29,\n",
       "         'Cleveland-Elyria': 19,\n",
       "         'OH': 40,\n",
       "         'Chicago-Naperville-Elgin': 90,\n",
       "         'IL-IN-WI': 90,\n",
       "         'Knoxville': 16,\n",
       "         'TN': 32,\n",
       "         'New': 378,\n",
       "         'York-Newark-Jersey': 357,\n",
       "         'City': 399,\n",
       "         'NY-NJ-PA': 357,\n",
       "         'Pittsburgh': 24,\n",
       "         'PA': 24,\n",
       "         'Fresno': 31,\n",
       "         'Washington-Arlington-Alexandria': 50,\n",
       "         'DC-VA-MD-WV': 50,\n",
       "         'Indianapolis-Carmel-Anderson': 29,\n",
       "         'IN': 29,\n",
       "         'Jacksonville': 1,\n",
       "         'Los': 128,\n",
       "         'Angeles-Long': 128,\n",
       "         'Beach-Anaheim': 128,\n",
       "         'Omaha-Council': 3,\n",
       "         'Bluffs': 3,\n",
       "         'NE-IA': 3,\n",
       "         'Houston-The': 20,\n",
       "         'Woodlands-Sugar': 20,\n",
       "         'Land': 20,\n",
       "         'Philadelphia-Camden-Wilmington': 65,\n",
       "         'PA-NJ-DE-MD': 65,\n",
       "         'Tampa-St.': 14,\n",
       "         'Petersburg-Clearwater': 14,\n",
       "         'Birmingham-Hoover': 15,\n",
       "         'AL': 15,\n",
       "         'Oklahoma': 20,\n",
       "         'Charlotte-Concord-Gastonia': 41,\n",
       "         'NC-SC': 41,\n",
       "         'Denver-Aurora-Lakewood': 34,\n",
       "         'CO': 43,\n",
       "         'Nashville-Davidson–Murfreesboro–Franklin': 16,\n",
       "         'Columbus': 12,\n",
       "         'Albuquerque': 14,\n",
       "         'NM': 14,\n",
       "         'Boston-Cambridge-Newton': 65,\n",
       "         'MA-NH': 65,\n",
       "         'Miami-Fort': 54,\n",
       "         'Lauderdale-West': 54,\n",
       "         'Palm': 54,\n",
       "         'Beach': 54,\n",
       "         'Diego-Chula': 25,\n",
       "         'Vista-Carlsbad': 25,\n",
       "         'Phoenix-Mesa-Chandler': 39,\n",
       "         'AZ': 49,\n",
       "         'Portland-Vancouver-Hillsboro': 43,\n",
       "         'OR-WA': 43,\n",
       "         'Cincinnati': 37,\n",
       "         'OH-KY-IN': 37,\n",
       "         'Columbia': 14,\n",
       "         'SC': 23,\n",
       "         'Antonio-New': 33,\n",
       "         'Braunfels': 33,\n",
       "         'Buffalo-Cheektowaga': 4,\n",
       "         'NY': 24,\n",
       "         'Memphis': 16,\n",
       "         'TN-MS-AR': 16,\n",
       "         'Riverside-San': 41,\n",
       "         'Bernardino-Ontario': 41,\n",
       "         'Louisville/Jefferson': 27,\n",
       "         'County': 27,\n",
       "         'KY-IN': 27,\n",
       "         'Albany-Schenectady-Troy': 5,\n",
       "         'Providence-Warwick': 11,\n",
       "         'RI-MA': 11,\n",
       "         'Salt': 8,\n",
       "         'Lake': 8,\n",
       "         'UT': 8,\n",
       "         'Urban': 17,\n",
       "         'Honolulu': 17,\n",
       "         'HI': 17,\n",
       "         'El': 2,\n",
       "         'Paso': 2,\n",
       "         'Haven-Milford': 9,\n",
       "         'CT': 26,\n",
       "         'North': 16,\n",
       "         'Port-Sarasota-Bradenton': 16,\n",
       "         'Baton': 22,\n",
       "         'Rouge': 22,\n",
       "         'LA': 34,\n",
       "         'Orleans-Metairie': 12,\n",
       "         'Bridgeport-Stamford-Norwalk': 17,\n",
       "         'Virginia': 6,\n",
       "         'Beach-Norfolk-Newport': 6,\n",
       "         'News': 6,\n",
       "         'VA-NC': 6,\n",
       "         'Baltimore-Columbia-Towson': 20,\n",
       "         'MD': 20,\n",
       "         'Milwaukee-Waukesha': 6,\n",
       "         'WI': 6,\n",
       "         'Oxnard-Thousand': 4,\n",
       "         'Oaks-Ventura': 4,\n",
       "         'Sacramento–Roseville–Folsom': 8,\n",
       "         'Austin-Round': 21,\n",
       "         'Rock-Georgetown': 21,\n",
       "         'Richmond': 15,\n",
       "         'VA': 15,\n",
       "         'St.': 10,\n",
       "         'Louis': 10,\n",
       "         'MO-IL': 10,\n",
       "         'Minneapolis-St.': 41,\n",
       "         'Paul-Bloomington': 41,\n",
       "         'MN-WI': 41,\n",
       "         'Dayton-Kettering': 9,\n",
       "         'Bakersfield': 8,\n",
       "         'Detroit-Warren-Dearborn': 36,\n",
       "         'Kansas': 14,\n",
       "         'MO-KS': 14,\n",
       "         'Charleston-North': 9,\n",
       "         'Charleston': 9,\n",
       "         'Rochester': 15,\n",
       "         'Raleigh-Cary': 2,\n",
       "         'NC': 5,\n",
       "         'Colorado': 9,\n",
       "         'Springs': 9,\n",
       "         'Greensboro-High': 3,\n",
       "         'Point': 3,\n",
       "         'Tucson': 10,\n",
       "         'Stockton': 4,\n",
       "         'Cape': 1,\n",
       "         'Coral-Fort': 1,\n",
       "         'Myers': 1})"
      ]
     },
     "execution_count": 40,
     "metadata": {},
     "output_type": "execute_result"
    }
   ],
   "source": [
    "#Analyze the frequency of each word\n",
    "from collections import Counter\n",
    "Counter(lemmas)\n",
    "#This will be helpful in choosing key lemmas to filter str values and assign a city group"
   ]
  },
  {
   "cell_type": "code",
   "execution_count": 41,
   "metadata": {},
   "outputs": [
    {
     "data": {
      "text/plain": [
       "other    1734\n",
       "NY-NJ     357\n",
       "Name: city_group, dtype: int64"
      ]
     },
     "execution_count": 41,
     "metadata": {},
     "output_type": "execute_result"
    }
   ],
   "source": [
    "#Now it is time to assign customers to \"NYNJ\" or \"other\" category by creating a city_assign function\n",
    "\n",
    "revenue['city_lemmas'] = revenue['city'].str.split().apply(lambda x: [wordnet_lemma.lemmatize(y, pos='n') for y in x])\n",
    "#split turns str values in 'city' into a list that can be used to use the apply method -- apply is useful for applyin\n",
    "#the lemmatization for each row\n",
    "def city_assign(city):\n",
    "        if 'NY-NJ-PA' in city or 'York-Newark-Jersey' in city:\n",
    "            return 'NY-NJ'\n",
    "        else:\n",
    "            return 'other'\n",
    "\n",
    "revenue['city_group'] = revenue['city'].apply(city_assign)\n",
    "\n",
    "revenue['city_group'].value_counts()\n",
    "        "
   ]
  },
  {
   "cell_type": "code",
   "execution_count": 42,
   "metadata": {
    "scrolled": true
   },
   "outputs": [
    {
     "data": {
      "text/html": [
       "<div>\n",
       "<style scoped>\n",
       "    .dataframe tbody tr th:only-of-type {\n",
       "        vertical-align: middle;\n",
       "    }\n",
       "\n",
       "    .dataframe tbody tr th {\n",
       "        vertical-align: top;\n",
       "    }\n",
       "\n",
       "    .dataframe thead th {\n",
       "        text-align: right;\n",
       "    }\n",
       "</style>\n",
       "<table border=\"1\" class=\"dataframe\">\n",
       "  <thead>\n",
       "    <tr style=\"text-align: right;\">\n",
       "      <th></th>\n",
       "      <th>total_monthly_rev</th>\n",
       "    </tr>\n",
       "  </thead>\n",
       "  <tbody>\n",
       "    <tr>\n",
       "      <td>682</td>\n",
       "      <td>20.0</td>\n",
       "    </tr>\n",
       "    <tr>\n",
       "      <td>699</td>\n",
       "      <td>20.0</td>\n",
       "    </tr>\n",
       "    <tr>\n",
       "      <td>700</td>\n",
       "      <td>110.0</td>\n",
       "    </tr>\n",
       "    <tr>\n",
       "      <td>701</td>\n",
       "      <td>90.0</td>\n",
       "    </tr>\n",
       "    <tr>\n",
       "      <td>702</td>\n",
       "      <td>20.0</td>\n",
       "    </tr>\n",
       "  </tbody>\n",
       "</table>\n",
       "</div>"
      ],
      "text/plain": [
       "     total_monthly_rev\n",
       "682               20.0\n",
       "699               20.0\n",
       "700              110.0\n",
       "701               90.0\n",
       "702               20.0"
      ]
     },
     "metadata": {},
     "output_type": "display_data"
    },
    {
     "data": {
      "text/html": [
       "<div>\n",
       "<style scoped>\n",
       "    .dataframe tbody tr th:only-of-type {\n",
       "        vertical-align: middle;\n",
       "    }\n",
       "\n",
       "    .dataframe tbody tr th {\n",
       "        vertical-align: top;\n",
       "    }\n",
       "\n",
       "    .dataframe thead th {\n",
       "        text-align: right;\n",
       "    }\n",
       "</style>\n",
       "<table border=\"1\" class=\"dataframe\">\n",
       "  <thead>\n",
       "    <tr style=\"text-align: right;\">\n",
       "      <th></th>\n",
       "      <th>total_monthly_rev</th>\n",
       "    </tr>\n",
       "  </thead>\n",
       "  <tbody>\n",
       "    <tr>\n",
       "      <td>0</td>\n",
       "      <td>70.00</td>\n",
       "    </tr>\n",
       "    <tr>\n",
       "      <td>645</td>\n",
       "      <td>70.00</td>\n",
       "    </tr>\n",
       "    <tr>\n",
       "      <td>646</td>\n",
       "      <td>60.00</td>\n",
       "    </tr>\n",
       "    <tr>\n",
       "      <td>647</td>\n",
       "      <td>20.00</td>\n",
       "    </tr>\n",
       "    <tr>\n",
       "      <td>644</td>\n",
       "      <td>90.09</td>\n",
       "    </tr>\n",
       "  </tbody>\n",
       "</table>\n",
       "</div>"
      ],
      "text/plain": [
       "     total_monthly_rev\n",
       "0                70.00\n",
       "645              70.00\n",
       "646              60.00\n",
       "647              20.00\n",
       "644              90.09"
      ]
     },
     "metadata": {},
     "output_type": "display_data"
    }
   ],
   "source": [
    "#Follow similar procedure as with revenue of ultimate vs. surf\n",
    "\n",
    "nynj = revenue.loc[revenue['city_group'] == 'NY-NJ']\n",
    "nynj = nynj.drop(['user_id', 'month', 'call_count', \n",
    "                        'duration_total', 'message_count', 'mb_used', \n",
    "                        'city', 'plan', 'rev_min_monthly', 'rev_data_monthly',\n",
    "                        'rev_mess_monthly', 'city_group', 'city_lemmas'], axis=1)\n",
    "\n",
    "other = revenue.loc[revenue['city_group'] == 'other']\n",
    "other = other.drop(['user_id', 'month', 'call_count', \n",
    "                        'duration_total', 'message_count', 'mb_used', \n",
    "                        'city', 'plan', 'rev_min_monthly', 'rev_data_monthly',\n",
    "                        'rev_mess_monthly', 'city_group', 'city_lemmas'], axis=1)\n",
    "\n",
    "display(nynj.head(), other.head())"
   ]
  },
  {
   "cell_type": "code",
   "execution_count": 43,
   "metadata": {
    "scrolled": true
   },
   "outputs": [
    {
     "data": {
      "text/plain": [
       "city_group\n",
       "NY-NJ    57.343782\n",
       "other    60.235150\n",
       "Name: total_monthly_rev, dtype: float64"
      ]
     },
     "execution_count": 43,
     "metadata": {},
     "output_type": "execute_result"
    }
   ],
   "source": [
    "revenue.groupby('city_group')['total_monthly_rev'].mean()\n",
    "#The test will determine whether the difference in average is significant "
   ]
  },
  {
   "cell_type": "markdown",
   "metadata": {},
   "source": [
    "<div class=\"alert alert-danger\" role=\"alert\">\n",
    "Reviewer's comment v. 3:\n",
    "    \n",
    "Could you please formulate the null and alternative hypotheses clearly before the statistical test?\n",
    "</div>"
   ]
  },
  {
   "cell_type": "code",
   "execution_count": 44,
   "metadata": {},
   "outputs": [
    {
     "name": "stdout",
     "output_type": "stream",
     "text": [
      "p-value:  [0.16715769]\n",
      "We can't reject the null hypothesis\n"
     ]
    }
   ],
   "source": [
    "alpha = 0.05\n",
    "\n",
    "results = st.ttest_ind(nynj, other)\n",
    "\n",
    "print('p-value: ', results.pvalue)\n",
    "\n",
    "if results.pvalue < alpha:\n",
    "    print('We reject the null hypothesis')\n",
    "else:\n",
    "    print(\"We can't reject the null hypothesis\") \n",
    "#Since we cannot reject the null hypothesis, the differences are not significant"
   ]
  },
  {
   "cell_type": "markdown",
   "metadata": {},
   "source": [
    "**Conclusion 4.2**\n",
    "\n",
    "1) A t-test for two populations (NYNJ and other regions) with equal variance was performed and resulting in a p-value, [0.16715769], which is more than the alpha value of 0.05\n",
    "\n",
    "2) The alt hypothesis is then rejected, which means there null hypothesis is accepted: one region does not make more revenue than the other"
   ]
  },
  {
   "cell_type": "markdown",
   "metadata": {},
   "source": [
    "<div class=\"alert alert-danger\" role=\"alert\">\n",
    "Reviewer's comment v. 3:\n",
    "    \n",
    "Please make a conclusion for the statistical test result.\n",
    "</div>"
   ]
  },
  {
   "cell_type": "markdown",
   "metadata": {},
   "source": [
    "<div class=\"alert alert-success\" role=\"alert\">\n",
    "Reviewer's comment v. 4:\n",
    "    \n",
    "Yes, there is no a statistically significant differences in the average revenue from users in NY-NJ area and users from other regions.\n",
    "</div>"
   ]
  },
  {
   "cell_type": "markdown",
   "metadata": {},
   "source": [
    "# Step 5: General Conclusion\n",
    "\n",
    "1) To answer the main question, the ultimate plan brings in the most revenue and marketing should be focused on advertising this plan more thoroughly\n",
    "\n",
    "2) According to the histograms used to display customer behavior, many of the customers stay within the free activity allotment\n",
    "\n",
    "3) The company could consider decreasing the free allotted activity in order to gain revenue, however, this may have an effect on customer plan enrollments\n",
    "\n",
    "4) The summer months, speciically July, was considered an outlier in the data -- not many people were using the phone plans this month. This could mean that marketing efforts should increase durring this time to bring in more customer enrollment\n",
    "\n",
    "5) The average revenue for the NYNJ did not differ from other regions significantly -- there's no need to worry about different ad campaigns for different regions.\n"
   ]
  },
  {
   "cell_type": "markdown",
   "metadata": {},
   "source": [
    "<div class=\"alert alert-danger\" role=\"alert\">\n",
    "Reviewer's comment v. 2:\n",
    "    \n",
    "Could you please analyse each of the graphs in details? It's important part of the data analysis.\n",
    "</div>"
   ]
  },
  {
   "cell_type": "markdown",
   "metadata": {},
   "source": [
    "<div class=\"alert alert-danger\" role=\"alert\">\n",
    "Reviewer's comment v. 1:\n",
    "    \n",
    "Please analyse data (anomalies, an outliers and so on)  and for revenue calculation please use revenue = calls.merge(messages, on=['user_id', 'month'], how='outer').\n",
    "</div>"
   ]
  },
  {
   "cell_type": "markdown",
   "metadata": {},
   "source": [
    "<div class=\"alert alert-danger\" role=\"alert\">\n",
    "Reviewer's comment v. 2:\n",
    "    \n",
    "Please continue the project.\n",
    "</div>"
   ]
  },
  {
   "cell_type": "markdown",
   "metadata": {},
   "source": [
    "<div class=\"alert alert-danger\" role=\"alert\">\n",
    "Reviewer's comment v. 3:\n",
    "    \n",
    "Could you please describe all main results of the project (data preparation, anomalies, main findings and so on)?\n",
    "    \n",
    "The conclusion is intended to help the reader understand why your research should matter to them after they have finished reading the paper. A conclusion is not merely a summary of your points or a re-statement of your research problem but a synthesis of key points. \n",
    "</div>"
   ]
  },
  {
   "cell_type": "markdown",
   "metadata": {},
   "source": [
    "<div class=\"alert alert-success\" role=\"alert\">\n",
    "Reviewer's comment v. 4:\n",
    "    \n",
    "Ok :)\n",
    "</div>"
   ]
  },
  {
   "cell_type": "code",
   "execution_count": null,
   "metadata": {},
   "outputs": [],
   "source": []
  }
 ],
 "metadata": {
  "ExecuteTimeLog": [
   {
    "duration": 1098,
    "start_time": "2021-09-26T08:33:08.912Z"
   },
   {
    "duration": 407,
    "start_time": "2021-09-26T08:34:05.518Z"
   },
   {
    "duration": -57,
    "start_time": "2021-09-27T14:41:21.293Z"
   },
   {
    "duration": -62,
    "start_time": "2021-09-27T14:41:21.299Z"
   },
   {
    "duration": 239,
    "start_time": "2021-09-27T14:41:30.003Z"
   },
   {
    "duration": 1534,
    "start_time": "2021-09-27T14:41:57.738Z"
   },
   {
    "duration": 21,
    "start_time": "2021-09-27T14:42:02.323Z"
   },
   {
    "duration": 44,
    "start_time": "2021-09-27T14:42:50.906Z"
   },
   {
    "duration": 427,
    "start_time": "2021-09-28T18:56:26.846Z"
   },
   {
    "duration": 1380,
    "start_time": "2021-09-28T18:56:59.627Z"
   },
   {
    "duration": 96,
    "start_time": "2021-09-28T18:57:01.010Z"
   },
   {
    "duration": 571,
    "start_time": "2021-09-28T18:57:01.109Z"
   },
   {
    "duration": 385,
    "start_time": "2021-09-28T19:00:09.797Z"
   },
   {
    "duration": 367,
    "start_time": "2021-09-28T19:00:42.025Z"
   },
   {
    "duration": 382,
    "start_time": "2021-09-28T19:02:03.393Z"
   },
   {
    "duration": 66,
    "start_time": "2021-09-28T19:08:40.730Z"
   },
   {
    "duration": 58,
    "start_time": "2021-09-28T19:08:50.077Z"
   },
   {
    "duration": 361,
    "start_time": "2021-09-28T22:42:09.232Z"
   },
   {
    "duration": 1309,
    "start_time": "2021-09-28T22:42:30.388Z"
   },
   {
    "duration": 87,
    "start_time": "2021-09-28T22:42:31.701Z"
   },
   {
    "duration": 76,
    "start_time": "2021-09-28T22:42:31.791Z"
   },
   {
    "duration": 37,
    "start_time": "2021-09-28T22:42:31.870Z"
   },
   {
    "duration": 1291,
    "start_time": "2021-09-28T22:42:55.992Z"
   },
   {
    "duration": 21,
    "start_time": "2021-09-28T22:43:14.806Z"
   },
   {
    "duration": 2880,
    "start_time": "2021-09-28T22:44:00.704Z"
   },
   {
    "duration": 173,
    "start_time": "2021-09-28T22:44:12.598Z"
   },
   {
    "duration": 460,
    "start_time": "2021-09-28T22:44:19.997Z"
   },
   {
    "duration": 19,
    "start_time": "2021-09-28T22:46:23.597Z"
   },
   {
    "duration": 1231,
    "start_time": "2021-09-28T22:46:38.629Z"
   },
   {
    "duration": 60,
    "start_time": "2021-09-28T22:46:39.862Z"
   },
   {
    "duration": 71,
    "start_time": "2021-09-28T22:46:39.924Z"
   },
   {
    "duration": 20,
    "start_time": "2021-09-28T22:46:39.997Z"
   },
   {
    "duration": 96,
    "start_time": "2021-09-28T22:47:19.258Z"
   },
   {
    "duration": 15,
    "start_time": "2021-09-28T22:48:18.354Z"
   },
   {
    "duration": 1200,
    "start_time": "2021-09-28T22:48:27.364Z"
   },
   {
    "duration": 59,
    "start_time": "2021-09-28T22:48:28.566Z"
   },
   {
    "duration": 74,
    "start_time": "2021-09-28T22:48:28.628Z"
   },
   {
    "duration": 22,
    "start_time": "2021-09-28T22:48:28.704Z"
   },
   {
    "duration": 1207,
    "start_time": "2021-09-28T22:48:46.267Z"
   },
   {
    "duration": 165,
    "start_time": "2021-09-28T22:49:49.017Z"
   },
   {
    "duration": 1259,
    "start_time": "2021-09-28T22:50:05.673Z"
   },
   {
    "duration": 70,
    "start_time": "2021-09-28T22:50:06.935Z"
   },
   {
    "duration": 91,
    "start_time": "2021-09-28T22:50:07.008Z"
   },
   {
    "duration": 185,
    "start_time": "2021-09-28T22:50:07.102Z"
   },
   {
    "duration": 50,
    "start_time": "2021-09-28T22:54:31.975Z"
   },
   {
    "duration": 27,
    "start_time": "2021-09-28T22:54:43.184Z"
   },
   {
    "duration": 32,
    "start_time": "2021-09-28T22:55:29.444Z"
   },
   {
    "duration": 23,
    "start_time": "2021-09-28T22:55:38.594Z"
   },
   {
    "duration": 36,
    "start_time": "2021-09-28T22:55:51.657Z"
   },
   {
    "duration": 39,
    "start_time": "2021-09-28T22:57:06.962Z"
   },
   {
    "duration": 32,
    "start_time": "2021-09-28T22:59:15.574Z"
   },
   {
    "duration": 22,
    "start_time": "2021-09-29T00:03:26.278Z"
   },
   {
    "duration": 25,
    "start_time": "2021-09-29T00:03:37.303Z"
   },
   {
    "duration": 356,
    "start_time": "2021-09-29T00:09:48.264Z"
   },
   {
    "duration": 1296,
    "start_time": "2021-09-29T00:10:12.216Z"
   },
   {
    "duration": 85,
    "start_time": "2021-09-29T00:10:13.515Z"
   },
   {
    "duration": 75,
    "start_time": "2021-09-29T00:10:13.603Z"
   },
   {
    "duration": 37,
    "start_time": "2021-09-29T00:10:13.681Z"
   },
   {
    "duration": 686,
    "start_time": "2021-09-29T00:10:13.720Z"
   },
   {
    "duration": 13,
    "start_time": "2021-09-29T00:10:59.091Z"
   },
   {
    "duration": 7160,
    "start_time": "2021-09-29T00:13:05.316Z"
   },
   {
    "duration": 300,
    "start_time": "2021-09-29T00:14:21.006Z"
   },
   {
    "duration": 32,
    "start_time": "2021-09-29T00:14:55.252Z"
   },
   {
    "duration": 31,
    "start_time": "2021-09-29T00:19:28.599Z"
   },
   {
    "duration": 1366,
    "start_time": "2021-09-29T00:20:28.580Z"
   },
   {
    "duration": 32,
    "start_time": "2021-09-29T00:20:56.781Z"
   },
   {
    "duration": 216,
    "start_time": "2021-09-29T00:27:10.067Z"
   },
   {
    "duration": 201,
    "start_time": "2021-09-29T00:27:43.211Z"
   },
   {
    "duration": 209,
    "start_time": "2021-09-29T00:28:14.966Z"
   },
   {
    "duration": 328,
    "start_time": "2021-09-29T00:32:16.822Z"
   },
   {
    "duration": 272,
    "start_time": "2021-09-29T00:32:32.402Z"
   },
   {
    "duration": 1244,
    "start_time": "2021-09-29T00:32:49.547Z"
   },
   {
    "duration": 89,
    "start_time": "2021-09-29T00:32:50.795Z"
   },
   {
    "duration": 83,
    "start_time": "2021-09-29T00:32:50.888Z"
   },
   {
    "duration": 240,
    "start_time": "2021-09-29T00:32:50.974Z"
   },
   {
    "duration": 91,
    "start_time": "2021-09-29T00:32:51.217Z"
   },
   {
    "duration": 109,
    "start_time": "2021-09-29T00:39:18.400Z"
   },
   {
    "duration": 60,
    "start_time": "2021-09-29T00:39:27.924Z"
   },
   {
    "duration": 54,
    "start_time": "2021-09-29T00:40:46.017Z"
   },
   {
    "duration": 374,
    "start_time": "2021-09-29T00:41:12.914Z"
   },
   {
    "duration": 52,
    "start_time": "2021-09-29T00:41:18.049Z"
   },
   {
    "duration": 293,
    "start_time": "2021-09-29T03:53:49.806Z"
   },
   {
    "duration": 1119,
    "start_time": "2021-09-29T03:54:03.532Z"
   },
   {
    "duration": 38,
    "start_time": "2021-09-29T03:54:04.653Z"
   },
   {
    "duration": 34,
    "start_time": "2021-09-29T03:54:04.693Z"
   },
   {
    "duration": 137,
    "start_time": "2021-09-29T03:54:04.745Z"
   },
   {
    "duration": 85,
    "start_time": "2021-09-29T03:54:04.883Z"
   },
   {
    "duration": 22,
    "start_time": "2021-09-29T03:54:46.892Z"
   },
   {
    "duration": 132,
    "start_time": "2021-09-29T03:55:36.585Z"
   },
   {
    "duration": 370,
    "start_time": "2021-09-29T03:55:42.872Z"
   },
   {
    "duration": 859,
    "start_time": "2021-09-29T03:55:55.953Z"
   },
   {
    "duration": 40,
    "start_time": "2021-09-29T03:55:56.813Z"
   },
   {
    "duration": 35,
    "start_time": "2021-09-29T03:55:56.855Z"
   },
   {
    "duration": 153,
    "start_time": "2021-09-29T03:55:56.892Z"
   },
   {
    "duration": 186,
    "start_time": "2021-09-29T03:55:57.046Z"
   },
   {
    "duration": 356,
    "start_time": "2021-09-29T03:56:43.786Z"
   },
   {
    "duration": 1071,
    "start_time": "2021-09-29T03:56:59.117Z"
   },
   {
    "duration": 40,
    "start_time": "2021-09-29T03:57:00.190Z"
   },
   {
    "duration": 44,
    "start_time": "2021-09-29T03:57:00.232Z"
   },
   {
    "duration": 163,
    "start_time": "2021-09-29T03:57:00.278Z"
   },
   {
    "duration": 191,
    "start_time": "2021-09-29T03:57:00.444Z"
   },
   {
    "duration": 88,
    "start_time": "2021-09-29T04:02:29.452Z"
   },
   {
    "duration": 832,
    "start_time": "2021-09-29T04:17:48.217Z"
   },
   {
    "duration": 1035,
    "start_time": "2021-09-29T04:18:02.763Z"
   },
   {
    "duration": 261,
    "start_time": "2021-09-29T04:19:16.300Z"
   },
   {
    "duration": 906,
    "start_time": "2021-09-29T04:19:26.213Z"
   },
   {
    "duration": 38,
    "start_time": "2021-09-29T04:19:27.121Z"
   },
   {
    "duration": 36,
    "start_time": "2021-09-29T04:19:27.161Z"
   },
   {
    "duration": 142,
    "start_time": "2021-09-29T04:19:27.198Z"
   },
   {
    "duration": 503,
    "start_time": "2021-09-29T04:19:27.341Z"
   },
   {
    "duration": -154,
    "start_time": "2021-09-29T04:19:28.000Z"
   },
   {
    "duration": 2174,
    "start_time": "2021-09-29T04:20:47.607Z"
   },
   {
    "duration": 838,
    "start_time": "2021-09-29T04:21:10.228Z"
   },
   {
    "duration": 881,
    "start_time": "2021-09-29T04:21:26.264Z"
   },
   {
    "duration": 43,
    "start_time": "2021-09-29T04:21:27.147Z"
   },
   {
    "duration": 58,
    "start_time": "2021-09-29T04:21:27.192Z"
   },
   {
    "duration": 152,
    "start_time": "2021-09-29T04:21:27.253Z"
   },
   {
    "duration": 472,
    "start_time": "2021-09-29T04:21:27.407Z"
   },
   {
    "duration": -125,
    "start_time": "2021-09-29T04:21:28.006Z"
   },
   {
    "duration": 122,
    "start_time": "2021-09-29T04:22:46.693Z"
   },
   {
    "duration": 17,
    "start_time": "2021-09-29T04:28:19.819Z"
   },
   {
    "duration": 79,
    "start_time": "2021-09-29T04:28:41.949Z"
   },
   {
    "duration": 1958,
    "start_time": "2021-09-29T04:29:07.892Z"
   },
   {
    "duration": 835,
    "start_time": "2021-09-29T04:29:25.382Z"
   },
   {
    "duration": 37,
    "start_time": "2021-09-29T04:29:26.218Z"
   },
   {
    "duration": 34,
    "start_time": "2021-09-29T04:29:26.257Z"
   },
   {
    "duration": 139,
    "start_time": "2021-09-29T04:29:26.293Z"
   },
   {
    "duration": 1365,
    "start_time": "2021-09-29T04:29:26.434Z"
   },
   {
    "duration": -170,
    "start_time": "2021-09-29T04:29:27.971Z"
   },
   {
    "duration": 1987,
    "start_time": "2021-09-29T04:31:09.191Z"
   },
   {
    "duration": 908,
    "start_time": "2021-09-29T04:31:20.807Z"
   },
   {
    "duration": 40,
    "start_time": "2021-09-29T04:31:21.717Z"
   },
   {
    "duration": 35,
    "start_time": "2021-09-29T04:31:21.760Z"
   },
   {
    "duration": 151,
    "start_time": "2021-09-29T04:31:21.797Z"
   },
   {
    "duration": 479,
    "start_time": "2021-09-29T04:31:21.950Z"
   },
   {
    "duration": -127,
    "start_time": "2021-09-29T04:31:22.558Z"
   },
   {
    "duration": 120,
    "start_time": "2021-09-29T04:31:58.573Z"
   },
   {
    "duration": 17,
    "start_time": "2021-09-29T04:32:48.679Z"
   },
   {
    "duration": 67,
    "start_time": "2021-09-29T04:32:55.432Z"
   },
   {
    "duration": 78,
    "start_time": "2021-09-29T04:33:11.609Z"
   },
   {
    "duration": 17,
    "start_time": "2021-09-29T04:43:46.889Z"
   },
   {
    "duration": 78,
    "start_time": "2021-09-29T04:44:03.009Z"
   },
   {
    "duration": 17,
    "start_time": "2021-09-29T04:44:28.138Z"
   },
   {
    "duration": 433,
    "start_time": "2021-09-29T04:44:43.438Z"
   },
   {
    "duration": 386,
    "start_time": "2021-09-29T04:44:49.631Z"
   },
   {
    "duration": 138,
    "start_time": "2021-09-29T04:44:53.339Z"
   },
   {
    "duration": 17,
    "start_time": "2021-09-29T04:45:19.933Z"
   },
   {
    "duration": 79,
    "start_time": "2021-09-29T04:45:35.084Z"
   },
   {
    "duration": 1002,
    "start_time": "2021-09-29T04:45:57.214Z"
   },
   {
    "duration": 858,
    "start_time": "2021-09-29T04:46:07.374Z"
   },
   {
    "duration": 994,
    "start_time": "2021-09-29T04:46:17.015Z"
   },
   {
    "duration": 40,
    "start_time": "2021-09-29T04:46:18.011Z"
   },
   {
    "duration": 34,
    "start_time": "2021-09-29T04:46:18.053Z"
   },
   {
    "duration": 143,
    "start_time": "2021-09-29T04:46:18.089Z"
   },
   {
    "duration": 485,
    "start_time": "2021-09-29T04:46:18.234Z"
   },
   {
    "duration": -164,
    "start_time": "2021-09-29T04:46:18.884Z"
   },
   {
    "duration": 1044,
    "start_time": "2021-09-29T04:47:06.773Z"
   },
   {
    "duration": 1507,
    "start_time": "2021-09-29T04:48:16.102Z"
   },
   {
    "duration": 883,
    "start_time": "2021-09-29T04:48:31.006Z"
   },
   {
    "duration": 41,
    "start_time": "2021-09-29T04:48:31.890Z"
   },
   {
    "duration": 51,
    "start_time": "2021-09-29T04:48:31.933Z"
   },
   {
    "duration": 450,
    "start_time": "2021-09-29T07:15:38.553Z"
   },
   {
    "duration": 1216,
    "start_time": "2021-09-29T07:15:49.883Z"
   },
   {
    "duration": 66,
    "start_time": "2021-09-29T07:15:51.102Z"
   },
   {
    "duration": 476,
    "start_time": "2021-09-29T07:15:51.171Z"
   },
   {
    "duration": 75,
    "start_time": "2021-09-29T07:17:07.102Z"
   },
   {
    "duration": 7736,
    "start_time": "2021-09-29T07:18:28.183Z"
   },
   {
    "duration": 1136,
    "start_time": "2021-09-29T07:18:50.524Z"
   },
   {
    "duration": 78,
    "start_time": "2021-09-29T07:18:51.663Z"
   },
   {
    "duration": 94,
    "start_time": "2021-09-29T07:18:51.744Z"
   },
   {
    "duration": 71,
    "start_time": "2021-09-29T07:20:54.259Z"
   },
   {
    "duration": 179,
    "start_time": "2021-09-29T07:21:40.502Z"
   },
   {
    "duration": 1703,
    "start_time": "2021-09-29T07:22:15.726Z"
   },
   {
    "duration": 1196,
    "start_time": "2021-09-29T07:22:36.038Z"
   },
   {
    "duration": 58,
    "start_time": "2021-09-29T07:22:37.236Z"
   },
   {
    "duration": 101,
    "start_time": "2021-09-29T07:22:37.297Z"
   },
   {
    "duration": 229,
    "start_time": "2021-09-29T07:22:37.401Z"
   },
   {
    "duration": 1400,
    "start_time": "2021-09-29T07:23:37.339Z"
   },
   {
    "duration": 383,
    "start_time": "2021-09-29T07:25:08.203Z"
   },
   {
    "duration": 1146,
    "start_time": "2021-09-29T07:25:35.564Z"
   },
   {
    "duration": 62,
    "start_time": "2021-09-29T07:25:36.713Z"
   },
   {
    "duration": 101,
    "start_time": "2021-09-29T07:25:36.779Z"
   },
   {
    "duration": 375,
    "start_time": "2021-09-29T07:25:36.883Z"
   },
   {
    "duration": 11,
    "start_time": "2021-09-29T07:29:07.288Z"
   },
   {
    "duration": 12,
    "start_time": "2021-09-29T07:29:21.341Z"
   },
   {
    "duration": 296,
    "start_time": "2021-09-29T07:31:04.495Z"
   },
   {
    "duration": 1144,
    "start_time": "2021-09-29T07:31:36.205Z"
   },
   {
    "duration": 86,
    "start_time": "2021-09-29T07:31:37.352Z"
   },
   {
    "duration": 98,
    "start_time": "2021-09-29T07:31:37.442Z"
   },
   {
    "duration": 530,
    "start_time": "2021-09-29T07:31:37.543Z"
   },
   {
    "duration": 12,
    "start_time": "2021-09-29T07:32:10.416Z"
   },
   {
    "duration": 292,
    "start_time": "2021-09-29T07:32:53.506Z"
   },
   {
    "duration": 75,
    "start_time": "2021-09-29T07:35:03.842Z"
   },
   {
    "duration": 72,
    "start_time": "2021-09-29T07:35:31.680Z"
   },
   {
    "duration": 73,
    "start_time": "2021-09-29T07:36:05.611Z"
   },
   {
    "duration": 69,
    "start_time": "2021-09-29T07:36:27.516Z"
   },
   {
    "duration": 75,
    "start_time": "2021-09-29T07:37:22.300Z"
   },
   {
    "duration": 1163,
    "start_time": "2021-09-29T07:40:20.908Z"
   },
   {
    "duration": 1167,
    "start_time": "2021-09-29T07:40:29.299Z"
   },
   {
    "duration": 76,
    "start_time": "2021-09-29T07:40:30.469Z"
   },
   {
    "duration": 1785,
    "start_time": "2021-09-29T07:40:30.549Z"
   },
   {
    "duration": -255,
    "start_time": "2021-09-29T07:40:32.591Z"
   },
   {
    "duration": 74,
    "start_time": "2021-09-29T07:40:57.034Z"
   },
   {
    "duration": 1219,
    "start_time": "2021-09-29T07:41:09.646Z"
   },
   {
    "duration": 1253,
    "start_time": "2021-09-29T07:42:29.594Z"
   },
   {
    "duration": 74,
    "start_time": "2021-09-29T07:42:51.982Z"
   },
   {
    "duration": 73,
    "start_time": "2021-09-29T07:43:32.538Z"
   },
   {
    "duration": 1123,
    "start_time": "2021-09-29T07:43:44.283Z"
   },
   {
    "duration": 58,
    "start_time": "2021-09-29T07:43:45.409Z"
   },
   {
    "duration": 105,
    "start_time": "2021-09-29T07:43:45.469Z"
   },
   {
    "duration": 361,
    "start_time": "2021-09-29T07:43:45.576Z"
   },
   {
    "duration": 348,
    "start_time": "2021-09-29T07:46:49.840Z"
   },
   {
    "duration": 81,
    "start_time": "2021-09-29T07:48:37.705Z"
   },
   {
    "duration": 300,
    "start_time": "2021-09-29T07:49:34.419Z"
   },
   {
    "duration": 20,
    "start_time": "2021-09-29T07:49:49.650Z"
   },
   {
    "duration": 22,
    "start_time": "2021-09-29T07:50:19.059Z"
   },
   {
    "duration": 23,
    "start_time": "2021-09-29T07:50:33.789Z"
   },
   {
    "duration": 15,
    "start_time": "2021-09-29T07:52:07.009Z"
   },
   {
    "duration": 299,
    "start_time": "2021-09-29T07:53:00.831Z"
   },
   {
    "duration": 1213,
    "start_time": "2021-09-29T07:53:11.922Z"
   },
   {
    "duration": 58,
    "start_time": "2021-09-29T07:53:13.138Z"
   },
   {
    "duration": 79,
    "start_time": "2021-09-29T07:53:13.222Z"
   },
   {
    "duration": 391,
    "start_time": "2021-09-29T07:53:13.303Z"
   },
   {
    "duration": 19,
    "start_time": "2021-09-29T07:53:23.602Z"
   },
   {
    "duration": 31,
    "start_time": "2021-09-29T07:53:35.656Z"
   },
   {
    "duration": 20,
    "start_time": "2021-09-29T07:54:48.189Z"
   },
   {
    "duration": 21,
    "start_time": "2021-09-29T07:55:03.768Z"
   },
   {
    "duration": 1115,
    "start_time": "2021-09-29T07:55:13.832Z"
   },
   {
    "duration": 79,
    "start_time": "2021-09-29T07:55:14.950Z"
   },
   {
    "duration": 101,
    "start_time": "2021-09-29T07:55:15.033Z"
   },
   {
    "duration": 23,
    "start_time": "2021-09-29T07:55:15.137Z"
   },
   {
    "duration": 17,
    "start_time": "2021-09-29T07:55:42.742Z"
   },
   {
    "duration": 19,
    "start_time": "2021-09-29T07:56:24.230Z"
   },
   {
    "duration": 17,
    "start_time": "2021-09-29T07:56:44.861Z"
   },
   {
    "duration": 77,
    "start_time": "2021-09-29T07:58:04.696Z"
   },
   {
    "duration": 7139,
    "start_time": "2021-09-29T07:58:35.703Z"
   },
   {
    "duration": 1174,
    "start_time": "2021-09-29T07:59:01.633Z"
   },
   {
    "duration": 63,
    "start_time": "2021-09-29T07:59:02.810Z"
   },
   {
    "duration": 1432,
    "start_time": "2021-09-29T07:59:02.876Z"
   },
   {
    "duration": -435,
    "start_time": "2021-09-29T07:59:04.747Z"
   },
   {
    "duration": 74,
    "start_time": "2021-09-29T08:00:15.939Z"
   },
   {
    "duration": 73,
    "start_time": "2021-09-29T08:00:52.935Z"
   },
   {
    "duration": 1234,
    "start_time": "2021-09-29T08:05:07.414Z"
   },
   {
    "duration": 338,
    "start_time": "2021-09-29T08:07:57.371Z"
   },
   {
    "duration": 1245,
    "start_time": "2021-09-29T08:09:31.995Z"
   },
   {
    "duration": 73,
    "start_time": "2021-09-29T08:14:39.560Z"
   },
   {
    "duration": 55,
    "start_time": "2021-09-29T08:14:54.650Z"
   },
   {
    "duration": 72,
    "start_time": "2021-09-29T08:15:06.788Z"
   },
   {
    "duration": 85,
    "start_time": "2021-09-29T08:17:04.650Z"
   },
   {
    "duration": 495,
    "start_time": "2021-09-29T19:08:59.333Z"
   },
   {
    "duration": 1232,
    "start_time": "2021-09-29T19:09:09.733Z"
   },
   {
    "duration": 81,
    "start_time": "2021-09-29T19:09:10.968Z"
   },
   {
    "duration": 68,
    "start_time": "2021-09-29T19:09:11.052Z"
   },
   {
    "duration": 19,
    "start_time": "2021-09-29T19:09:11.122Z"
   },
   {
    "duration": 21,
    "start_time": "2021-09-29T19:09:20.634Z"
   },
   {
    "duration": 40,
    "start_time": "2021-09-29T19:11:20.913Z"
   },
   {
    "duration": 34,
    "start_time": "2021-09-29T19:11:28.930Z"
   },
   {
    "duration": 1797,
    "start_time": "2021-09-29T19:13:22.737Z"
   },
   {
    "duration": 25,
    "start_time": "2021-09-29T19:13:52.007Z"
   },
   {
    "duration": 432,
    "start_time": "2021-09-29T19:18:07.025Z"
   },
   {
    "duration": 26,
    "start_time": "2021-09-29T19:19:14.415Z"
   },
   {
    "duration": 406,
    "start_time": "2021-09-29T19:19:50.801Z"
   },
   {
    "duration": 25,
    "start_time": "2021-09-29T19:20:20.530Z"
   },
   {
    "duration": 31,
    "start_time": "2021-09-29T19:20:32.214Z"
   },
   {
    "duration": 1675,
    "start_time": "2021-09-29T19:21:14.054Z"
   },
   {
    "duration": 34,
    "start_time": "2021-09-29T19:21:35.362Z"
   },
   {
    "duration": 158,
    "start_time": "2021-09-29T19:21:57.925Z"
   },
   {
    "duration": 182,
    "start_time": "2021-09-29T19:22:07.774Z"
   },
   {
    "duration": 134,
    "start_time": "2021-09-29T19:22:39.224Z"
   },
   {
    "duration": 102,
    "start_time": "2021-09-29T19:22:51.618Z"
   },
   {
    "duration": 1112,
    "start_time": "2021-09-29T19:22:58.610Z"
   },
   {
    "duration": 1362,
    "start_time": "2021-09-29T19:23:44.072Z"
   },
   {
    "duration": 83,
    "start_time": "2021-09-29T19:23:45.437Z"
   },
   {
    "duration": 50,
    "start_time": "2021-09-29T19:23:45.523Z"
   },
   {
    "duration": 237,
    "start_time": "2021-09-29T19:23:45.576Z"
   },
   {
    "duration": 42,
    "start_time": "2021-09-29T19:23:45.816Z"
   },
   {
    "duration": 186,
    "start_time": "2021-09-29T19:23:45.861Z"
   },
   {
    "duration": 1095,
    "start_time": "2021-09-29T19:34:19.004Z"
   },
   {
    "duration": 484,
    "start_time": "2021-09-29T19:38:21.830Z"
   },
   {
    "duration": 1201,
    "start_time": "2021-09-29T19:38:32.656Z"
   },
   {
    "duration": 78,
    "start_time": "2021-09-29T19:38:33.861Z"
   },
   {
    "duration": 42,
    "start_time": "2021-09-29T19:38:33.942Z"
   },
   {
    "duration": 58,
    "start_time": "2021-09-29T19:38:33.987Z"
   },
   {
    "duration": 39,
    "start_time": "2021-09-29T19:38:34.047Z"
   },
   {
    "duration": 547,
    "start_time": "2021-09-29T19:38:34.088Z"
   },
   {
    "duration": 27,
    "start_time": "2021-09-29T19:39:05.645Z"
   },
   {
    "duration": 26,
    "start_time": "2021-09-29T19:39:24.995Z"
   },
   {
    "duration": 26,
    "start_time": "2021-09-29T19:39:38.406Z"
   },
   {
    "duration": 1278,
    "start_time": "2021-09-29T19:39:50.910Z"
   },
   {
    "duration": 67,
    "start_time": "2021-09-29T19:39:52.190Z"
   },
   {
    "duration": 69,
    "start_time": "2021-09-29T19:39:52.260Z"
   },
   {
    "duration": 35,
    "start_time": "2021-09-29T19:39:52.332Z"
   },
   {
    "duration": 61,
    "start_time": "2021-09-29T19:39:52.370Z"
   },
   {
    "duration": 480,
    "start_time": "2021-09-29T19:39:52.434Z"
   },
   {
    "duration": 28,
    "start_time": "2021-09-29T19:40:06.130Z"
   },
   {
    "duration": 1214,
    "start_time": "2021-09-29T19:40:22.448Z"
   },
   {
    "duration": 74,
    "start_time": "2021-09-29T19:40:23.665Z"
   },
   {
    "duration": 46,
    "start_time": "2021-09-29T19:40:23.742Z"
   },
   {
    "duration": 35,
    "start_time": "2021-09-29T19:40:23.816Z"
   },
   {
    "duration": 34,
    "start_time": "2021-09-29T19:40:23.854Z"
   },
   {
    "duration": 700,
    "start_time": "2021-09-29T19:40:23.890Z"
   },
   {
    "duration": 131,
    "start_time": "2021-09-29T19:49:43.337Z"
   },
   {
    "duration": 473,
    "start_time": "2021-09-29T19:49:55.461Z"
   },
   {
    "duration": 1156,
    "start_time": "2021-09-29T19:50:07.566Z"
   },
   {
    "duration": 61,
    "start_time": "2021-09-29T19:50:08.725Z"
   },
   {
    "duration": 62,
    "start_time": "2021-09-29T19:50:08.789Z"
   },
   {
    "duration": 36,
    "start_time": "2021-09-29T19:50:08.853Z"
   },
   {
    "duration": 51,
    "start_time": "2021-09-29T19:50:08.892Z"
   },
   {
    "duration": 154,
    "start_time": "2021-09-29T19:50:08.945Z"
   },
   {
    "duration": 529,
    "start_time": "2021-09-29T19:50:37.231Z"
   },
   {
    "duration": 1223,
    "start_time": "2021-09-29T19:50:47.018Z"
   },
   {
    "duration": 76,
    "start_time": "2021-09-29T19:50:48.244Z"
   },
   {
    "duration": 44,
    "start_time": "2021-09-29T19:50:48.324Z"
   },
   {
    "duration": 63,
    "start_time": "2021-09-29T19:50:48.370Z"
   },
   {
    "duration": 32,
    "start_time": "2021-09-29T19:50:48.436Z"
   },
   {
    "duration": 149,
    "start_time": "2021-09-29T19:50:48.470Z"
   },
   {
    "duration": 509,
    "start_time": "2021-09-29T19:51:06.262Z"
   },
   {
    "duration": 1226,
    "start_time": "2021-09-29T19:51:15.966Z"
   },
   {
    "duration": 60,
    "start_time": "2021-09-29T19:51:17.195Z"
   },
   {
    "duration": 67,
    "start_time": "2021-09-29T19:51:17.258Z"
   },
   {
    "duration": 35,
    "start_time": "2021-09-29T19:51:17.327Z"
   },
   {
    "duration": 59,
    "start_time": "2021-09-29T19:51:17.365Z"
   },
   {
    "duration": 138,
    "start_time": "2021-09-29T19:51:17.426Z"
   },
   {
    "duration": 555,
    "start_time": "2021-09-29T19:51:33.910Z"
   },
   {
    "duration": 408,
    "start_time": "2021-09-29T19:52:03.585Z"
   },
   {
    "duration": 1199,
    "start_time": "2021-09-29T19:52:15.354Z"
   },
   {
    "duration": 83,
    "start_time": "2021-09-29T19:52:16.556Z"
   },
   {
    "duration": 76,
    "start_time": "2021-09-29T19:52:16.641Z"
   },
   {
    "duration": 34,
    "start_time": "2021-09-29T19:52:16.720Z"
   },
   {
    "duration": 33,
    "start_time": "2021-09-29T19:52:16.757Z"
   },
   {
    "duration": 147,
    "start_time": "2021-09-29T19:52:16.817Z"
   },
   {
    "duration": 1030,
    "start_time": "2021-09-29T19:52:31.896Z"
   },
   {
    "duration": 1542,
    "start_time": "2021-09-29T19:53:10.250Z"
   },
   {
    "duration": 1215,
    "start_time": "2021-09-29T19:53:16.580Z"
   },
   {
    "duration": 1213,
    "start_time": "2021-09-29T19:53:28.873Z"
   },
   {
    "duration": 71,
    "start_time": "2021-09-29T19:53:30.089Z"
   },
   {
    "duration": 78,
    "start_time": "2021-09-29T19:53:30.164Z"
   },
   {
    "duration": 38,
    "start_time": "2021-09-29T19:53:30.244Z"
   },
   {
    "duration": 147,
    "start_time": "2021-09-29T19:53:30.285Z"
   },
   {
    "duration": 153,
    "start_time": "2021-09-29T19:53:30.435Z"
   },
   {
    "duration": 531,
    "start_time": "2021-09-29T19:53:53.309Z"
   },
   {
    "duration": 1248,
    "start_time": "2021-09-29T19:54:01.440Z"
   },
   {
    "duration": 63,
    "start_time": "2021-09-29T19:54:02.691Z"
   },
   {
    "duration": 73,
    "start_time": "2021-09-29T19:54:02.757Z"
   },
   {
    "duration": 35,
    "start_time": "2021-09-29T19:54:02.834Z"
   },
   {
    "duration": 60,
    "start_time": "2021-09-29T19:54:02.872Z"
   },
   {
    "duration": 160,
    "start_time": "2021-09-29T19:54:02.934Z"
   },
   {
    "duration": 525,
    "start_time": "2021-09-29T19:55:18.775Z"
   },
   {
    "duration": 455,
    "start_time": "2021-09-29T19:55:24.894Z"
   },
   {
    "duration": 1234,
    "start_time": "2021-09-29T19:55:39.948Z"
   },
   {
    "duration": 83,
    "start_time": "2021-09-29T19:55:41.185Z"
   },
   {
    "duration": 75,
    "start_time": "2021-09-29T19:55:41.272Z"
   },
   {
    "duration": 36,
    "start_time": "2021-09-29T19:55:41.350Z"
   },
   {
    "duration": 59,
    "start_time": "2021-09-29T19:55:41.390Z"
   },
   {
    "duration": 178,
    "start_time": "2021-09-29T19:56:17.240Z"
   },
   {
    "duration": 1496,
    "start_time": "2021-09-29T19:56:39.961Z"
   },
   {
    "duration": 1482,
    "start_time": "2021-09-29T19:57:08.924Z"
   },
   {
    "duration": 1345,
    "start_time": "2021-09-29T19:57:23.382Z"
   },
   {
    "duration": 65,
    "start_time": "2021-09-29T19:57:24.731Z"
   },
   {
    "duration": 45,
    "start_time": "2021-09-29T19:57:24.816Z"
   },
   {
    "duration": 60,
    "start_time": "2021-09-29T19:57:24.864Z"
   },
   {
    "duration": 33,
    "start_time": "2021-09-29T19:57:24.927Z"
   },
   {
    "duration": 190,
    "start_time": "2021-09-29T19:57:24.963Z"
   },
   {
    "duration": 1516,
    "start_time": "2021-09-29T19:57:32.813Z"
   },
   {
    "duration": 348,
    "start_time": "2021-09-29T22:38:08.328Z"
   },
   {
    "duration": 1637,
    "start_time": "2021-09-29T22:38:22.622Z"
   },
   {
    "duration": 66,
    "start_time": "2021-09-29T22:38:24.261Z"
   },
   {
    "duration": 68,
    "start_time": "2021-09-29T22:38:24.330Z"
   },
   {
    "duration": 25,
    "start_time": "2021-09-29T22:38:24.401Z"
   },
   {
    "duration": 376,
    "start_time": "2021-09-29T22:38:24.429Z"
   },
   {
    "duration": -118,
    "start_time": "2021-09-29T22:38:24.926Z"
   },
   {
    "duration": 27,
    "start_time": "2021-09-29T22:42:40.553Z"
   },
   {
    "duration": 3495,
    "start_time": "2021-09-29T22:42:47.413Z"
   },
   {
    "duration": 3292,
    "start_time": "2021-09-29T22:43:06.557Z"
   },
   {
    "duration": 1164,
    "start_time": "2021-09-29T22:43:19.048Z"
   },
   {
    "duration": 79,
    "start_time": "2021-09-29T22:43:20.215Z"
   },
   {
    "duration": 69,
    "start_time": "2021-09-29T22:43:20.297Z"
   },
   {
    "duration": 35,
    "start_time": "2021-09-29T22:43:20.369Z"
   },
   {
    "duration": 57,
    "start_time": "2021-09-29T22:43:20.406Z"
   },
   {
    "duration": 176,
    "start_time": "2021-09-29T22:43:20.465Z"
   },
   {
    "duration": 426,
    "start_time": "2021-09-29T22:45:11.966Z"
   },
   {
    "duration": 20,
    "start_time": "2021-09-29T22:45:30.281Z"
   },
   {
    "duration": 1247,
    "start_time": "2021-09-29T22:45:44.520Z"
   },
   {
    "duration": 67,
    "start_time": "2021-09-29T22:45:45.770Z"
   },
   {
    "duration": 47,
    "start_time": "2021-09-29T22:45:45.862Z"
   },
   {
    "duration": 60,
    "start_time": "2021-09-29T22:45:45.912Z"
   },
   {
    "duration": 35,
    "start_time": "2021-09-29T22:45:45.974Z"
   },
   {
    "duration": 19,
    "start_time": "2021-09-29T22:45:46.011Z"
   },
   {
    "duration": 21,
    "start_time": "2021-09-29T22:46:08.954Z"
   },
   {
    "duration": 177,
    "start_time": "2021-09-29T22:46:59.547Z"
   },
   {
    "duration": 1237,
    "start_time": "2021-09-29T22:47:34.796Z"
   },
   {
    "duration": 346,
    "start_time": "2021-09-29T22:48:17.589Z"
   },
   {
    "duration": 1640,
    "start_time": "2021-09-29T22:48:28.211Z"
   },
   {
    "duration": 66,
    "start_time": "2021-09-29T22:48:29.855Z"
   },
   {
    "duration": 70,
    "start_time": "2021-09-29T22:48:29.925Z"
   },
   {
    "duration": 40,
    "start_time": "2021-09-29T22:48:29.999Z"
   },
   {
    "duration": 50,
    "start_time": "2021-09-29T22:48:30.041Z"
   },
   {
    "duration": 22,
    "start_time": "2021-09-29T22:48:30.094Z"
   },
   {
    "duration": 165,
    "start_time": "2021-09-29T22:48:30.118Z"
   },
   {
    "duration": 1129,
    "start_time": "2021-09-29T22:54:37.401Z"
   },
   {
    "duration": 79,
    "start_time": "2021-09-29T22:54:38.532Z"
   },
   {
    "duration": 75,
    "start_time": "2021-09-29T22:54:38.614Z"
   },
   {
    "duration": 38,
    "start_time": "2021-09-29T22:54:38.693Z"
   },
   {
    "duration": 470,
    "start_time": "2021-09-29T22:54:38.733Z"
   },
   {
    "duration": -178,
    "start_time": "2021-09-29T22:54:39.383Z"
   },
   {
    "duration": -179,
    "start_time": "2021-09-29T22:54:39.385Z"
   },
   {
    "duration": 1151,
    "start_time": "2021-09-29T22:55:07.963Z"
   },
   {
    "duration": 75,
    "start_time": "2021-09-29T22:55:09.117Z"
   },
   {
    "duration": 69,
    "start_time": "2021-09-29T22:55:09.196Z"
   },
   {
    "duration": 35,
    "start_time": "2021-09-29T22:55:09.268Z"
   },
   {
    "duration": 339,
    "start_time": "2021-09-29T22:55:09.305Z"
   },
   {
    "duration": -235,
    "start_time": "2021-09-29T22:55:09.881Z"
   },
   {
    "duration": -235,
    "start_time": "2021-09-29T22:55:09.883Z"
   },
   {
    "duration": 1294,
    "start_time": "2021-09-29T22:55:57.476Z"
   },
   {
    "duration": 59,
    "start_time": "2021-09-29T22:55:58.773Z"
   },
   {
    "duration": 67,
    "start_time": "2021-09-29T22:55:58.834Z"
   },
   {
    "duration": 37,
    "start_time": "2021-09-29T22:55:58.904Z"
   },
   {
    "duration": 34,
    "start_time": "2021-09-29T22:55:58.961Z"
   },
   {
    "duration": 21,
    "start_time": "2021-09-29T22:55:58.997Z"
   },
   {
    "duration": 320,
    "start_time": "2021-09-29T22:55:59.020Z"
   },
   {
    "duration": 1198,
    "start_time": "2021-09-29T22:56:36.871Z"
   },
   {
    "duration": 90,
    "start_time": "2021-09-29T22:56:38.072Z"
   },
   {
    "duration": 45,
    "start_time": "2021-09-29T22:56:38.165Z"
   },
   {
    "duration": 60,
    "start_time": "2021-09-29T22:56:38.213Z"
   },
   {
    "duration": 35,
    "start_time": "2021-09-29T22:56:38.276Z"
   },
   {
    "duration": 22,
    "start_time": "2021-09-29T22:56:38.313Z"
   },
   {
    "duration": 627,
    "start_time": "2021-09-29T22:56:38.337Z"
   },
   {
    "duration": 1300,
    "start_time": "2021-09-29T22:56:56.086Z"
   },
   {
    "duration": 94,
    "start_time": "2021-09-29T22:56:57.389Z"
   },
   {
    "duration": 77,
    "start_time": "2021-09-29T22:56:57.486Z"
   },
   {
    "duration": 37,
    "start_time": "2021-09-29T22:56:57.566Z"
   },
   {
    "duration": 65,
    "start_time": "2021-09-29T22:56:57.606Z"
   },
   {
    "duration": 21,
    "start_time": "2021-09-29T22:56:57.674Z"
   },
   {
    "duration": 157,
    "start_time": "2021-09-29T22:56:57.698Z"
   },
   {
    "duration": 1183,
    "start_time": "2021-09-30T02:25:23.985Z"
   },
   {
    "duration": 65,
    "start_time": "2021-09-30T02:25:25.171Z"
   },
   {
    "duration": 64,
    "start_time": "2021-09-30T02:25:25.239Z"
   },
   {
    "duration": 56,
    "start_time": "2021-09-30T02:25:25.307Z"
   },
   {
    "duration": 469,
    "start_time": "2021-09-30T02:25:25.366Z"
   },
   {
    "duration": -265,
    "start_time": "2021-09-30T02:25:26.103Z"
   },
   {
    "duration": -266,
    "start_time": "2021-09-30T02:25:26.106Z"
   },
   {
    "duration": 31,
    "start_time": "2021-09-30T02:44:21.634Z"
   },
   {
    "duration": 552,
    "start_time": "2021-09-30T02:52:40.359Z"
   },
   {
    "duration": 27,
    "start_time": "2021-09-30T03:04:57.135Z"
   },
   {
    "duration": 1342,
    "start_time": "2021-09-30T03:05:24.492Z"
   },
   {
    "duration": 70,
    "start_time": "2021-09-30T03:05:25.837Z"
   },
   {
    "duration": 72,
    "start_time": "2021-09-30T03:05:25.910Z"
   },
   {
    "duration": 37,
    "start_time": "2021-09-30T03:05:25.984Z"
   },
   {
    "duration": 52,
    "start_time": "2021-09-30T03:05:26.023Z"
   },
   {
    "duration": 83,
    "start_time": "2021-09-30T03:05:26.078Z"
   },
   {
    "duration": -92,
    "start_time": "2021-09-30T03:05:26.256Z"
   },
   {
    "duration": 24,
    "start_time": "2021-09-30T03:05:32.520Z"
   },
   {
    "duration": 125,
    "start_time": "2021-09-30T03:05:35.582Z"
   },
   {
    "duration": 1063,
    "start_time": "2021-09-30T03:07:22.162Z"
   },
   {
    "duration": 504,
    "start_time": "2021-09-30T03:07:35.259Z"
   },
   {
    "duration": 1252,
    "start_time": "2021-09-30T03:07:44.222Z"
   },
   {
    "duration": 89,
    "start_time": "2021-09-30T03:07:45.476Z"
   },
   {
    "duration": 46,
    "start_time": "2021-09-30T03:07:45.567Z"
   },
   {
    "duration": 60,
    "start_time": "2021-09-30T03:07:45.615Z"
   },
   {
    "duration": 34,
    "start_time": "2021-09-30T03:07:45.677Z"
   },
   {
    "duration": 161,
    "start_time": "2021-09-30T03:07:45.714Z"
   },
   {
    "duration": 374,
    "start_time": "2021-09-30T03:10:51.378Z"
   },
   {
    "duration": 1187,
    "start_time": "2021-09-30T03:10:59.935Z"
   },
   {
    "duration": 75,
    "start_time": "2021-09-30T03:11:01.125Z"
   },
   {
    "duration": 68,
    "start_time": "2021-09-30T03:11:01.202Z"
   },
   {
    "duration": 36,
    "start_time": "2021-09-30T03:11:01.272Z"
   },
   {
    "duration": 60,
    "start_time": "2021-09-30T03:11:01.311Z"
   },
   {
    "duration": 152,
    "start_time": "2021-09-30T03:11:01.373Z"
   },
   {
    "duration": 87,
    "start_time": "2021-09-30T03:11:23.683Z"
   },
   {
    "duration": 356,
    "start_time": "2021-09-30T03:11:26.950Z"
   },
   {
    "duration": 1164,
    "start_time": "2021-09-30T03:11:36.176Z"
   },
   {
    "duration": 64,
    "start_time": "2021-09-30T03:11:37.343Z"
   },
   {
    "duration": 78,
    "start_time": "2021-09-30T03:11:37.412Z"
   },
   {
    "duration": 37,
    "start_time": "2021-09-30T03:11:37.494Z"
   },
   {
    "duration": 61,
    "start_time": "2021-09-30T03:11:37.534Z"
   },
   {
    "duration": 157,
    "start_time": "2021-09-30T03:11:37.598Z"
   },
   {
    "duration": 360,
    "start_time": "2021-09-30T03:12:44.847Z"
   },
   {
    "duration": 1121,
    "start_time": "2021-09-30T03:12:52.684Z"
   },
   {
    "duration": 86,
    "start_time": "2021-09-30T03:12:53.808Z"
   },
   {
    "duration": 65,
    "start_time": "2021-09-30T03:12:53.897Z"
   },
   {
    "duration": 33,
    "start_time": "2021-09-30T03:12:53.965Z"
   },
   {
    "duration": 33,
    "start_time": "2021-09-30T03:12:54.001Z"
   },
   {
    "duration": 143,
    "start_time": "2021-09-30T03:12:54.061Z"
   },
   {
    "duration": 1109,
    "start_time": "2021-09-30T23:59:15.396Z"
   },
   {
    "duration": 109,
    "start_time": "2021-09-30T23:59:16.507Z"
   },
   {
    "duration": 73,
    "start_time": "2021-09-30T23:59:16.619Z"
   },
   {
    "duration": 34,
    "start_time": "2021-09-30T23:59:16.695Z"
   },
   {
    "duration": 58,
    "start_time": "2021-09-30T23:59:16.732Z"
   },
   {
    "duration": 145,
    "start_time": "2021-09-30T23:59:16.793Z"
   },
   {
    "duration": 1064,
    "start_time": "2021-10-01T07:08:06.164Z"
   },
   {
    "duration": 100,
    "start_time": "2021-10-01T07:08:07.230Z"
   },
   {
    "duration": 77,
    "start_time": "2021-10-01T07:08:07.333Z"
   },
   {
    "duration": 63,
    "start_time": "2021-10-01T07:08:07.412Z"
   },
   {
    "duration": 35,
    "start_time": "2021-10-01T07:08:07.477Z"
   },
   {
    "duration": 176,
    "start_time": "2021-10-01T07:08:07.516Z"
   },
   {
    "duration": 275,
    "start_time": "2021-10-01T18:20:12.038Z"
   },
   {
    "duration": 1145,
    "start_time": "2021-10-01T18:20:22.808Z"
   },
   {
    "duration": 62,
    "start_time": "2021-10-01T18:20:23.955Z"
   },
   {
    "duration": 65,
    "start_time": "2021-10-01T18:20:24.019Z"
   },
   {
    "duration": 34,
    "start_time": "2021-10-01T18:20:24.087Z"
   },
   {
    "duration": 53,
    "start_time": "2021-10-01T18:20:24.123Z"
   },
   {
    "duration": 351,
    "start_time": "2021-10-01T18:20:24.178Z"
   },
   {
    "duration": 232,
    "start_time": "2021-10-01T18:20:48.855Z"
   },
   {
    "duration": 1173,
    "start_time": "2021-10-01T18:21:00.651Z"
   },
   {
    "duration": 74,
    "start_time": "2021-10-01T18:21:01.826Z"
   },
   {
    "duration": 66,
    "start_time": "2021-10-01T18:21:01.903Z"
   },
   {
    "duration": 36,
    "start_time": "2021-10-01T18:21:01.971Z"
   },
   {
    "duration": 58,
    "start_time": "2021-10-01T18:21:02.010Z"
   },
   {
    "duration": 331,
    "start_time": "2021-10-01T18:21:02.071Z"
   },
   {
    "duration": 136,
    "start_time": "2021-10-01T18:21:55.629Z"
   },
   {
    "duration": 275,
    "start_time": "2021-10-01T18:29:39.433Z"
   },
   {
    "duration": 1185,
    "start_time": "2021-10-01T18:29:50.638Z"
   },
   {
    "duration": 85,
    "start_time": "2021-10-01T18:29:51.827Z"
   },
   {
    "duration": 79,
    "start_time": "2021-10-01T18:29:51.916Z"
   },
   {
    "duration": 37,
    "start_time": "2021-10-01T18:29:51.998Z"
   },
   {
    "duration": 55,
    "start_time": "2021-10-01T18:29:52.038Z"
   },
   {
    "duration": 28,
    "start_time": "2021-10-01T18:30:47.081Z"
   },
   {
    "duration": 1171,
    "start_time": "2021-10-01T18:30:57.706Z"
   },
   {
    "duration": 63,
    "start_time": "2021-10-01T18:30:58.880Z"
   },
   {
    "duration": 62,
    "start_time": "2021-10-01T18:30:58.947Z"
   },
   {
    "duration": 58,
    "start_time": "2021-10-01T18:30:59.011Z"
   },
   {
    "duration": 6114,
    "start_time": "2021-10-01T18:30:59.071Z"
   },
   {
    "duration": 1312,
    "start_time": "2021-10-01T18:31:51.737Z"
   },
   {
    "duration": 64,
    "start_time": "2021-10-01T18:31:53.052Z"
   },
   {
    "duration": 68,
    "start_time": "2021-10-01T18:31:53.119Z"
   },
   {
    "duration": 37,
    "start_time": "2021-10-01T18:31:53.190Z"
   },
   {
    "duration": 5894,
    "start_time": "2021-10-01T18:31:53.229Z"
   },
   {
    "duration": 28,
    "start_time": "2021-10-01T18:32:27.427Z"
   },
   {
    "duration": 56,
    "start_time": "2021-10-01T18:33:52.115Z"
   },
   {
    "duration": 83,
    "start_time": "2021-10-01T18:34:00.119Z"
   },
   {
    "duration": 1229,
    "start_time": "2021-10-01T18:36:08.192Z"
   },
   {
    "duration": 88,
    "start_time": "2021-10-01T18:36:09.424Z"
   },
   {
    "duration": 74,
    "start_time": "2021-10-01T18:36:09.515Z"
   },
   {
    "duration": 36,
    "start_time": "2021-10-01T18:36:09.591Z"
   },
   {
    "duration": 57,
    "start_time": "2021-10-01T18:36:09.629Z"
   },
   {
    "duration": 51,
    "start_time": "2021-10-01T18:36:09.689Z"
   },
   {
    "duration": 1587,
    "start_time": "2021-10-01T18:45:45.770Z"
   },
   {
    "duration": 114,
    "start_time": "2021-10-01T18:45:47.369Z"
   },
   {
    "duration": 89,
    "start_time": "2021-10-01T18:45:47.487Z"
   },
   {
    "duration": 50,
    "start_time": "2021-10-01T18:45:47.579Z"
   },
   {
    "duration": 137,
    "start_time": "2021-10-01T18:45:47.632Z"
   },
   {
    "duration": 1554,
    "start_time": "2021-10-01T18:45:47.772Z"
   },
   {
    "duration": 83,
    "start_time": "2021-10-01T18:45:49.329Z"
   },
   {
    "duration": 1176,
    "start_time": "2021-10-01T18:46:06.621Z"
   },
   {
    "duration": 84,
    "start_time": "2021-10-01T18:46:07.799Z"
   },
   {
    "duration": 45,
    "start_time": "2021-10-01T18:46:07.886Z"
   },
   {
    "duration": 64,
    "start_time": "2021-10-01T18:46:07.934Z"
   },
   {
    "duration": 33,
    "start_time": "2021-10-01T18:46:08.000Z"
   },
   {
    "duration": 68,
    "start_time": "2021-10-01T18:46:08.036Z"
   },
   {
    "duration": 84,
    "start_time": "2021-10-01T18:46:08.107Z"
   },
   {
    "duration": 79,
    "start_time": "2021-10-01T18:47:38.589Z"
   },
   {
    "duration": 415,
    "start_time": "2021-10-01T18:48:03.665Z"
   },
   {
    "duration": 1216,
    "start_time": "2021-10-01T18:48:20.558Z"
   },
   {
    "duration": 102,
    "start_time": "2021-10-01T18:48:21.776Z"
   },
   {
    "duration": 44,
    "start_time": "2021-10-01T18:48:21.881Z"
   },
   {
    "duration": 64,
    "start_time": "2021-10-01T18:48:21.928Z"
   },
   {
    "duration": 32,
    "start_time": "2021-10-01T18:48:21.994Z"
   },
   {
    "duration": 78,
    "start_time": "2021-10-01T18:48:22.029Z"
   },
   {
    "duration": 448,
    "start_time": "2021-10-01T18:48:22.109Z"
   },
   {
    "duration": 259,
    "start_time": "2021-10-01T18:48:36.046Z"
   },
   {
    "duration": 1667,
    "start_time": "2021-10-01T18:48:49.845Z"
   },
   {
    "duration": 85,
    "start_time": "2021-10-01T18:48:51.515Z"
   },
   {
    "duration": 94,
    "start_time": "2021-10-01T18:48:51.602Z"
   },
   {
    "duration": 51,
    "start_time": "2021-10-01T18:48:51.700Z"
   },
   {
    "duration": 47,
    "start_time": "2021-10-01T18:48:51.766Z"
   },
   {
    "duration": 89,
    "start_time": "2021-10-01T18:48:51.816Z"
   },
   {
    "duration": 428,
    "start_time": "2021-10-01T18:48:51.909Z"
   },
   {
    "duration": 54,
    "start_time": "2021-10-01T18:49:12.098Z"
   },
   {
    "duration": 100,
    "start_time": "2021-10-01T18:49:40.192Z"
   },
   {
    "duration": 436,
    "start_time": "2021-10-01T18:55:20.916Z"
   },
   {
    "duration": 34,
    "start_time": "2021-10-01T18:55:30.139Z"
   },
   {
    "duration": 984,
    "start_time": "2021-10-01T18:56:52.150Z"
   },
   {
    "duration": 35,
    "start_time": "2021-10-01T18:57:11.778Z"
   },
   {
    "duration": 220,
    "start_time": "2021-10-01T18:58:57.170Z"
   },
   {
    "duration": 56,
    "start_time": "2021-10-01T18:59:06.008Z"
   },
   {
    "duration": 289,
    "start_time": "2021-10-02T01:26:24.707Z"
   },
   {
    "duration": 1168,
    "start_time": "2021-10-02T01:26:36.555Z"
   },
   {
    "duration": 74,
    "start_time": "2021-10-02T01:26:37.725Z"
   },
   {
    "duration": 68,
    "start_time": "2021-10-02T01:26:37.802Z"
   },
   {
    "duration": 36,
    "start_time": "2021-10-02T01:26:37.873Z"
   },
   {
    "duration": 32,
    "start_time": "2021-10-02T01:26:37.911Z"
   },
   {
    "duration": 68,
    "start_time": "2021-10-02T01:26:37.945Z"
   },
   {
    "duration": 59,
    "start_time": "2021-10-02T01:26:38.015Z"
   },
   {
    "duration": 48,
    "start_time": "2021-10-02T01:26:38.077Z"
   },
   {
    "duration": 41,
    "start_time": "2021-10-02T01:26:38.127Z"
   },
   {
    "duration": 3210,
    "start_time": "2021-10-02T01:27:11.463Z"
   },
   {
    "duration": 1581,
    "start_time": "2021-10-02T01:27:24.660Z"
   },
   {
    "duration": 62,
    "start_time": "2021-10-02T01:27:26.244Z"
   },
   {
    "duration": 67,
    "start_time": "2021-10-02T01:27:26.309Z"
   },
   {
    "duration": 34,
    "start_time": "2021-10-02T01:27:26.379Z"
   },
   {
    "duration": 52,
    "start_time": "2021-10-02T01:27:26.415Z"
   },
   {
    "duration": 46,
    "start_time": "2021-10-02T01:27:26.470Z"
   },
   {
    "duration": 53,
    "start_time": "2021-10-02T01:27:26.518Z"
   },
   {
    "duration": 53,
    "start_time": "2021-10-02T01:27:26.573Z"
   },
   {
    "duration": 51,
    "start_time": "2021-10-02T01:27:26.629Z"
   },
   {
    "duration": 30,
    "start_time": "2021-10-02T01:30:00.598Z"
   },
   {
    "duration": 309,
    "start_time": "2021-10-02T01:31:37.307Z"
   },
   {
    "duration": 206,
    "start_time": "2021-10-02T01:31:46.250Z"
   },
   {
    "duration": 14,
    "start_time": "2021-10-02T01:32:44.298Z"
   },
   {
    "duration": 20,
    "start_time": "2021-10-02T01:33:05.123Z"
   },
   {
    "duration": 30,
    "start_time": "2021-10-02T01:34:18.513Z"
   },
   {
    "duration": 49,
    "start_time": "2021-10-02T01:40:13.327Z"
   },
   {
    "duration": 26,
    "start_time": "2021-10-02T01:42:36.473Z"
   },
   {
    "duration": 21,
    "start_time": "2021-10-02T01:42:43.302Z"
   },
   {
    "duration": 1079,
    "start_time": "2021-10-02T01:45:45.544Z"
   },
   {
    "duration": 23,
    "start_time": "2021-10-02T01:46:42.188Z"
   },
   {
    "duration": 37,
    "start_time": "2021-10-02T01:48:25.157Z"
   },
   {
    "duration": 6121,
    "start_time": "2021-10-02T01:49:24.849Z"
   },
   {
    "duration": 1130,
    "start_time": "2021-10-02T01:49:37.307Z"
   },
   {
    "duration": 73,
    "start_time": "2021-10-02T01:49:38.440Z"
   },
   {
    "duration": 77,
    "start_time": "2021-10-02T01:49:38.517Z"
   },
   {
    "duration": 37,
    "start_time": "2021-10-02T01:49:38.598Z"
   },
   {
    "duration": 57,
    "start_time": "2021-10-02T01:49:38.638Z"
   },
   {
    "duration": 71,
    "start_time": "2021-10-02T01:49:38.698Z"
   },
   {
    "duration": 38,
    "start_time": "2021-10-02T01:49:38.772Z"
   },
   {
    "duration": 76,
    "start_time": "2021-10-02T01:49:38.813Z"
   },
   {
    "duration": 40,
    "start_time": "2021-10-02T01:49:38.894Z"
   },
   {
    "duration": 48,
    "start_time": "2021-10-02T01:49:38.937Z"
   },
   {
    "duration": 32,
    "start_time": "2021-10-02T01:49:38.988Z"
   },
   {
    "duration": 82,
    "start_time": "2021-10-02T01:49:39.023Z"
   },
   {
    "duration": 26,
    "start_time": "2021-10-02T01:49:39.108Z"
   },
   {
    "duration": 40,
    "start_time": "2021-10-02T01:49:51.741Z"
   },
   {
    "duration": 1134,
    "start_time": "2021-10-02T02:31:51.782Z"
   },
   {
    "duration": 80,
    "start_time": "2021-10-02T02:31:52.918Z"
   },
   {
    "duration": 43,
    "start_time": "2021-10-02T02:31:53.001Z"
   },
   {
    "duration": 51,
    "start_time": "2021-10-02T02:31:53.047Z"
   },
   {
    "duration": 32,
    "start_time": "2021-10-02T02:31:53.100Z"
   },
   {
    "duration": 78,
    "start_time": "2021-10-02T02:31:53.134Z"
   },
   {
    "duration": 53,
    "start_time": "2021-10-02T02:31:53.214Z"
   },
   {
    "duration": 44,
    "start_time": "2021-10-02T02:31:53.270Z"
   },
   {
    "duration": 60,
    "start_time": "2021-10-02T02:31:53.318Z"
   },
   {
    "duration": 21,
    "start_time": "2021-10-02T02:31:53.380Z"
   },
   {
    "duration": 31,
    "start_time": "2021-10-02T02:31:53.403Z"
   },
   {
    "duration": 78,
    "start_time": "2021-10-02T02:31:53.437Z"
   },
   {
    "duration": 26,
    "start_time": "2021-10-02T02:31:53.518Z"
   },
   {
    "duration": 40,
    "start_time": "2021-10-02T02:31:53.567Z"
   },
   {
    "duration": 1227,
    "start_time": "2021-10-02T02:31:53.609Z"
   },
   {
    "duration": 1248,
    "start_time": "2021-10-02T02:35:03.084Z"
   },
   {
    "duration": 1291,
    "start_time": "2021-10-02T02:38:03.040Z"
   },
   {
    "duration": 5434,
    "start_time": "2021-10-02T02:38:39.788Z"
   },
   {
    "duration": 1164,
    "start_time": "2021-10-02T02:38:56.691Z"
   },
   {
    "duration": 66,
    "start_time": "2021-10-02T02:38:57.859Z"
   },
   {
    "duration": 75,
    "start_time": "2021-10-02T02:38:57.930Z"
   },
   {
    "duration": 57,
    "start_time": "2021-10-02T02:38:58.009Z"
   },
   {
    "duration": 34,
    "start_time": "2021-10-02T02:38:58.069Z"
   },
   {
    "duration": 80,
    "start_time": "2021-10-02T02:38:58.106Z"
   },
   {
    "duration": 38,
    "start_time": "2021-10-02T02:38:58.190Z"
   },
   {
    "duration": 76,
    "start_time": "2021-10-02T02:38:58.231Z"
   },
   {
    "duration": 63,
    "start_time": "2021-10-02T02:38:58.312Z"
   },
   {
    "duration": 24,
    "start_time": "2021-10-02T02:38:58.378Z"
   },
   {
    "duration": 33,
    "start_time": "2021-10-02T02:38:58.405Z"
   },
   {
    "duration": 49,
    "start_time": "2021-10-02T02:38:58.467Z"
   },
   {
    "duration": 25,
    "start_time": "2021-10-02T02:38:58.518Z"
   },
   {
    "duration": 59,
    "start_time": "2021-10-02T02:38:58.545Z"
   },
   {
    "duration": 5641,
    "start_time": "2021-10-02T02:38:58.607Z"
   },
   {
    "duration": 1358,
    "start_time": "2021-10-02T02:40:08.333Z"
   },
   {
    "duration": 5757,
    "start_time": "2021-10-02T02:40:38.138Z"
   },
   {
    "duration": 1138,
    "start_time": "2021-10-02T02:41:07.210Z"
   },
   {
    "duration": 61,
    "start_time": "2021-10-02T02:41:08.350Z"
   },
   {
    "duration": 68,
    "start_time": "2021-10-02T02:41:08.414Z"
   },
   {
    "duration": 36,
    "start_time": "2021-10-02T02:41:08.485Z"
   },
   {
    "duration": 58,
    "start_time": "2021-10-02T02:41:08.523Z"
   },
   {
    "duration": 47,
    "start_time": "2021-10-02T02:41:08.583Z"
   },
   {
    "duration": 59,
    "start_time": "2021-10-02T02:41:08.632Z"
   },
   {
    "duration": 48,
    "start_time": "2021-10-02T02:41:08.693Z"
   },
   {
    "duration": 60,
    "start_time": "2021-10-02T02:41:08.744Z"
   },
   {
    "duration": 23,
    "start_time": "2021-10-02T02:41:08.806Z"
   },
   {
    "duration": 61,
    "start_time": "2021-10-02T02:41:08.831Z"
   },
   {
    "duration": 50,
    "start_time": "2021-10-02T02:41:08.894Z"
   },
   {
    "duration": 39,
    "start_time": "2021-10-02T02:41:08.947Z"
   },
   {
    "duration": 39,
    "start_time": "2021-10-02T02:41:08.988Z"
   },
   {
    "duration": 5484,
    "start_time": "2021-10-02T02:41:09.029Z"
   },
   {
    "duration": 5433,
    "start_time": "2021-10-02T02:43:00.595Z"
   },
   {
    "duration": 5468,
    "start_time": "2021-10-02T02:43:27.085Z"
   },
   {
    "duration": 2835,
    "start_time": "2021-10-02T02:50:50.428Z"
   },
   {
    "duration": 1184,
    "start_time": "2021-10-02T02:51:16.433Z"
   },
   {
    "duration": 87,
    "start_time": "2021-10-02T02:51:17.621Z"
   },
   {
    "duration": 74,
    "start_time": "2021-10-02T02:51:17.711Z"
   },
   {
    "duration": 35,
    "start_time": "2021-10-02T02:51:17.788Z"
   },
   {
    "duration": 61,
    "start_time": "2021-10-02T02:51:17.826Z"
   },
   {
    "duration": 48,
    "start_time": "2021-10-02T02:51:17.889Z"
   },
   {
    "duration": 51,
    "start_time": "2021-10-02T02:51:17.940Z"
   },
   {
    "duration": 45,
    "start_time": "2021-10-02T02:51:17.994Z"
   },
   {
    "duration": 61,
    "start_time": "2021-10-02T02:51:18.041Z"
   },
   {
    "duration": 21,
    "start_time": "2021-10-02T02:51:18.104Z"
   },
   {
    "duration": 57,
    "start_time": "2021-10-02T02:51:18.127Z"
   },
   {
    "duration": 51,
    "start_time": "2021-10-02T02:51:18.186Z"
   },
   {
    "duration": 46,
    "start_time": "2021-10-02T02:51:18.240Z"
   },
   {
    "duration": 38,
    "start_time": "2021-10-02T02:51:18.288Z"
   },
   {
    "duration": 3339,
    "start_time": "2021-10-02T02:51:18.329Z"
   },
   {
    "duration": 2275,
    "start_time": "2021-10-02T02:52:27.741Z"
   },
   {
    "duration": 2715,
    "start_time": "2021-10-02T02:53:54.199Z"
   },
   {
    "duration": 1419,
    "start_time": "2021-10-02T02:54:13.590Z"
   },
   {
    "duration": 2098,
    "start_time": "2021-10-02T02:57:36.808Z"
   },
   {
    "duration": 64,
    "start_time": "2021-10-02T03:01:16.478Z"
   },
   {
    "duration": 258,
    "start_time": "2021-10-02T03:01:41.666Z"
   },
   {
    "duration": 1158,
    "start_time": "2021-10-02T03:01:56.793Z"
   },
   {
    "duration": 67,
    "start_time": "2021-10-02T03:01:57.955Z"
   },
   {
    "duration": 73,
    "start_time": "2021-10-02T03:01:58.024Z"
   },
   {
    "duration": 36,
    "start_time": "2021-10-02T03:01:58.099Z"
   },
   {
    "duration": 51,
    "start_time": "2021-10-02T03:01:58.137Z"
   },
   {
    "duration": 50,
    "start_time": "2021-10-02T03:01:58.190Z"
   },
   {
    "duration": 59,
    "start_time": "2021-10-02T03:01:58.242Z"
   },
   {
    "duration": 84,
    "start_time": "2021-10-02T03:01:58.304Z"
   },
   {
    "duration": 40,
    "start_time": "2021-10-02T03:01:58.391Z"
   },
   {
    "duration": 40,
    "start_time": "2021-10-02T03:01:58.433Z"
   },
   {
    "duration": 30,
    "start_time": "2021-10-02T03:01:58.476Z"
   },
   {
    "duration": 74,
    "start_time": "2021-10-02T03:01:58.508Z"
   },
   {
    "duration": 27,
    "start_time": "2021-10-02T03:01:58.584Z"
   },
   {
    "duration": 64,
    "start_time": "2021-10-02T03:01:58.613Z"
   },
   {
    "duration": 375,
    "start_time": "2021-10-02T03:01:58.679Z"
   },
   {
    "duration": 267,
    "start_time": "2021-10-02T03:05:27.063Z"
   },
   {
    "duration": 38,
    "start_time": "2021-10-02T03:05:38.244Z"
   },
   {
    "duration": 243,
    "start_time": "2021-10-02T03:06:47.215Z"
   },
   {
    "duration": 401,
    "start_time": "2021-10-02T03:06:50.692Z"
   },
   {
    "duration": 1157,
    "start_time": "2021-10-02T03:07:03.714Z"
   },
   {
    "duration": 61,
    "start_time": "2021-10-02T03:07:04.874Z"
   },
   {
    "duration": 68,
    "start_time": "2021-10-02T03:07:04.939Z"
   },
   {
    "duration": 35,
    "start_time": "2021-10-02T03:07:05.010Z"
   },
   {
    "duration": 31,
    "start_time": "2021-10-02T03:07:05.068Z"
   },
   {
    "duration": 70,
    "start_time": "2021-10-02T03:07:05.102Z"
   },
   {
    "duration": 35,
    "start_time": "2021-10-02T03:07:05.175Z"
   },
   {
    "duration": 93,
    "start_time": "2021-10-02T03:07:05.213Z"
   },
   {
    "duration": 39,
    "start_time": "2021-10-02T03:07:05.310Z"
   },
   {
    "duration": 20,
    "start_time": "2021-10-02T03:07:05.367Z"
   },
   {
    "duration": 322,
    "start_time": "2021-10-02T03:07:05.390Z"
   },
   {
    "duration": -386,
    "start_time": "2021-10-02T03:07:06.101Z"
   },
   {
    "duration": -389,
    "start_time": "2021-10-02T03:07:06.105Z"
   },
   {
    "duration": -391,
    "start_time": "2021-10-02T03:07:06.108Z"
   },
   {
    "duration": -393,
    "start_time": "2021-10-02T03:07:06.111Z"
   },
   {
    "duration": 39,
    "start_time": "2021-10-02T03:07:23.416Z"
   },
   {
    "duration": 1216,
    "start_time": "2021-10-02T03:08:01.226Z"
   },
   {
    "duration": 61,
    "start_time": "2021-10-02T03:08:02.445Z"
   },
   {
    "duration": 65,
    "start_time": "2021-10-02T03:08:02.510Z"
   },
   {
    "duration": 36,
    "start_time": "2021-10-02T03:08:02.578Z"
   },
   {
    "duration": 59,
    "start_time": "2021-10-02T03:08:02.617Z"
   },
   {
    "duration": 49,
    "start_time": "2021-10-02T03:08:02.679Z"
   },
   {
    "duration": 62,
    "start_time": "2021-10-02T03:08:02.730Z"
   },
   {
    "duration": 78,
    "start_time": "2021-10-02T03:08:02.796Z"
   },
   {
    "duration": 40,
    "start_time": "2021-10-02T03:08:02.877Z"
   },
   {
    "duration": 47,
    "start_time": "2021-10-02T03:08:02.920Z"
   },
   {
    "duration": 31,
    "start_time": "2021-10-02T03:08:02.970Z"
   },
   {
    "duration": 77,
    "start_time": "2021-10-02T03:08:03.003Z"
   },
   {
    "duration": 27,
    "start_time": "2021-10-02T03:08:03.082Z"
   },
   {
    "duration": 65,
    "start_time": "2021-10-02T03:08:03.111Z"
   },
   {
    "duration": 388,
    "start_time": "2021-10-02T03:08:03.179Z"
   },
   {
    "duration": 38,
    "start_time": "2021-10-02T03:08:31.063Z"
   },
   {
    "duration": 250,
    "start_time": "2021-10-02T03:09:34.775Z"
   },
   {
    "duration": 260,
    "start_time": "2021-10-02T03:09:48.165Z"
   },
   {
    "duration": 1205,
    "start_time": "2021-10-02T03:10:07.386Z"
   },
   {
    "duration": 83,
    "start_time": "2021-10-02T03:10:08.594Z"
   },
   {
    "duration": 48,
    "start_time": "2021-10-02T03:10:08.681Z"
   },
   {
    "duration": 65,
    "start_time": "2021-10-02T03:10:08.733Z"
   },
   {
    "duration": 34,
    "start_time": "2021-10-02T03:10:08.802Z"
   },
   {
    "duration": 52,
    "start_time": "2021-10-02T03:10:08.867Z"
   },
   {
    "duration": 69,
    "start_time": "2021-10-02T03:10:08.922Z"
   },
   {
    "duration": 93,
    "start_time": "2021-10-02T03:10:08.994Z"
   },
   {
    "duration": 41,
    "start_time": "2021-10-02T03:10:09.092Z"
   },
   {
    "duration": 42,
    "start_time": "2021-10-02T03:10:09.136Z"
   },
   {
    "duration": 341,
    "start_time": "2021-10-02T03:10:09.180Z"
   },
   {
    "duration": -100,
    "start_time": "2021-10-02T03:10:09.624Z"
   },
   {
    "duration": -120,
    "start_time": "2021-10-02T03:10:09.645Z"
   },
   {
    "duration": -140,
    "start_time": "2021-10-02T03:10:09.667Z"
   },
   {
    "duration": -142,
    "start_time": "2021-10-02T03:10:09.670Z"
   },
   {
    "duration": 51,
    "start_time": "2021-10-02T03:10:58.944Z"
   },
   {
    "duration": 24,
    "start_time": "2021-10-02T03:11:06.346Z"
   },
   {
    "duration": 216,
    "start_time": "2021-10-02T03:11:41.188Z"
   },
   {
    "duration": 1203,
    "start_time": "2021-10-02T03:11:49.037Z"
   },
   {
    "duration": 62,
    "start_time": "2021-10-02T03:11:50.243Z"
   },
   {
    "duration": 63,
    "start_time": "2021-10-02T03:11:50.308Z"
   },
   {
    "duration": 35,
    "start_time": "2021-10-02T03:11:50.375Z"
   },
   {
    "duration": 55,
    "start_time": "2021-10-02T03:11:50.412Z"
   },
   {
    "duration": 48,
    "start_time": "2021-10-02T03:11:50.470Z"
   },
   {
    "duration": 56,
    "start_time": "2021-10-02T03:11:50.521Z"
   },
   {
    "duration": 67,
    "start_time": "2021-10-02T03:11:50.580Z"
   },
   {
    "duration": 58,
    "start_time": "2021-10-02T03:11:50.651Z"
   },
   {
    "duration": 15,
    "start_time": "2021-10-02T03:11:50.711Z"
   },
   {
    "duration": 308,
    "start_time": "2021-10-02T03:11:50.728Z"
   },
   {
    "duration": -321,
    "start_time": "2021-10-02T03:11:51.360Z"
   },
   {
    "duration": -321,
    "start_time": "2021-10-02T03:11:51.361Z"
   },
   {
    "duration": -324,
    "start_time": "2021-10-02T03:11:51.365Z"
   },
   {
    "duration": -324,
    "start_time": "2021-10-02T03:11:51.367Z"
   },
   {
    "duration": 19,
    "start_time": "2021-10-02T03:12:12.495Z"
   },
   {
    "duration": 235,
    "start_time": "2021-10-02T03:12:31.154Z"
   },
   {
    "duration": 237,
    "start_time": "2021-10-02T03:12:40.724Z"
   },
   {
    "duration": 1152,
    "start_time": "2021-10-02T03:12:48.989Z"
   },
   {
    "duration": 66,
    "start_time": "2021-10-02T03:12:50.145Z"
   },
   {
    "duration": 64,
    "start_time": "2021-10-02T03:12:50.213Z"
   },
   {
    "duration": 34,
    "start_time": "2021-10-02T03:12:50.281Z"
   },
   {
    "duration": 56,
    "start_time": "2021-10-02T03:12:50.318Z"
   },
   {
    "duration": 46,
    "start_time": "2021-10-02T03:12:50.376Z"
   },
   {
    "duration": 57,
    "start_time": "2021-10-02T03:12:50.424Z"
   },
   {
    "duration": 66,
    "start_time": "2021-10-02T03:12:50.484Z"
   },
   {
    "duration": 38,
    "start_time": "2021-10-02T03:12:50.569Z"
   },
   {
    "duration": 20,
    "start_time": "2021-10-02T03:12:50.610Z"
   },
   {
    "duration": 59,
    "start_time": "2021-10-02T03:12:50.632Z"
   },
   {
    "duration": 74,
    "start_time": "2021-10-02T03:12:50.693Z"
   },
   {
    "duration": 27,
    "start_time": "2021-10-02T03:12:50.769Z"
   },
   {
    "duration": 38,
    "start_time": "2021-10-02T03:12:50.799Z"
   },
   {
    "duration": 361,
    "start_time": "2021-10-02T03:12:50.867Z"
   },
   {
    "duration": 34,
    "start_time": "2021-10-02T03:14:10.228Z"
   },
   {
    "duration": 294,
    "start_time": "2021-10-02T03:15:06.171Z"
   },
   {
    "duration": 1110,
    "start_time": "2021-10-02T03:15:17.107Z"
   },
   {
    "duration": 82,
    "start_time": "2021-10-02T03:15:18.220Z"
   },
   {
    "duration": 72,
    "start_time": "2021-10-02T03:15:18.306Z"
   },
   {
    "duration": 38,
    "start_time": "2021-10-02T03:15:18.380Z"
   },
   {
    "duration": 55,
    "start_time": "2021-10-02T03:15:18.421Z"
   },
   {
    "duration": 48,
    "start_time": "2021-10-02T03:15:18.478Z"
   },
   {
    "duration": 58,
    "start_time": "2021-10-02T03:15:18.528Z"
   },
   {
    "duration": 81,
    "start_time": "2021-10-02T03:15:18.589Z"
   },
   {
    "duration": 39,
    "start_time": "2021-10-02T03:15:18.672Z"
   },
   {
    "duration": 21,
    "start_time": "2021-10-02T03:15:18.713Z"
   },
   {
    "duration": 441,
    "start_time": "2021-10-02T03:15:18.736Z"
   },
   {
    "duration": -160,
    "start_time": "2021-10-02T03:15:19.340Z"
   },
   {
    "duration": -161,
    "start_time": "2021-10-02T03:15:19.342Z"
   },
   {
    "duration": -165,
    "start_time": "2021-10-02T03:15:19.347Z"
   },
   {
    "duration": -165,
    "start_time": "2021-10-02T03:15:19.349Z"
   },
   {
    "duration": 270,
    "start_time": "2021-10-02T03:15:28.085Z"
   },
   {
    "duration": 1126,
    "start_time": "2021-10-02T03:15:41.801Z"
   },
   {
    "duration": 73,
    "start_time": "2021-10-02T03:15:42.929Z"
   },
   {
    "duration": 64,
    "start_time": "2021-10-02T03:15:43.005Z"
   },
   {
    "duration": 34,
    "start_time": "2021-10-02T03:15:43.072Z"
   },
   {
    "duration": 32,
    "start_time": "2021-10-02T03:15:43.109Z"
   },
   {
    "duration": 48,
    "start_time": "2021-10-02T03:15:43.168Z"
   },
   {
    "duration": 65,
    "start_time": "2021-10-02T03:15:43.220Z"
   },
   {
    "duration": 80,
    "start_time": "2021-10-02T03:15:43.288Z"
   },
   {
    "duration": 40,
    "start_time": "2021-10-02T03:15:43.374Z"
   },
   {
    "duration": 51,
    "start_time": "2021-10-02T03:15:43.418Z"
   },
   {
    "duration": 34,
    "start_time": "2021-10-02T03:15:43.472Z"
   },
   {
    "duration": 73,
    "start_time": "2021-10-02T03:15:43.508Z"
   },
   {
    "duration": 26,
    "start_time": "2021-10-02T03:15:43.584Z"
   },
   {
    "duration": 60,
    "start_time": "2021-10-02T03:15:43.612Z"
   },
   {
    "duration": 1505,
    "start_time": "2021-10-02T03:15:43.674Z"
   },
   {
    "duration": 293,
    "start_time": "2021-10-02T03:16:33.742Z"
   },
   {
    "duration": 1118,
    "start_time": "2021-10-02T03:16:39.912Z"
   },
   {
    "duration": 69,
    "start_time": "2021-10-02T03:16:41.033Z"
   },
   {
    "duration": 62,
    "start_time": "2021-10-02T03:16:41.105Z"
   },
   {
    "duration": 34,
    "start_time": "2021-10-02T03:16:41.170Z"
   },
   {
    "duration": 30,
    "start_time": "2021-10-02T03:16:41.207Z"
   },
   {
    "duration": 70,
    "start_time": "2021-10-02T03:16:41.239Z"
   },
   {
    "duration": 34,
    "start_time": "2021-10-02T03:16:41.311Z"
   },
   {
    "duration": 64,
    "start_time": "2021-10-02T03:16:41.369Z"
   },
   {
    "duration": 56,
    "start_time": "2021-10-02T03:16:41.435Z"
   },
   {
    "duration": 22,
    "start_time": "2021-10-02T03:16:41.494Z"
   },
   {
    "duration": 67,
    "start_time": "2021-10-02T03:16:41.519Z"
   },
   {
    "duration": 49,
    "start_time": "2021-10-02T03:16:41.588Z"
   },
   {
    "duration": 45,
    "start_time": "2021-10-02T03:16:41.640Z"
   },
   {
    "duration": 38,
    "start_time": "2021-10-02T03:16:41.687Z"
   },
   {
    "duration": 348,
    "start_time": "2021-10-02T03:16:41.728Z"
   },
   {
    "duration": 25,
    "start_time": "2021-10-02T03:17:09.536Z"
   },
   {
    "duration": 1315,
    "start_time": "2021-10-02T03:18:15.799Z"
   },
   {
    "duration": 81,
    "start_time": "2021-10-02T03:18:17.116Z"
   },
   {
    "duration": 44,
    "start_time": "2021-10-02T03:18:17.200Z"
   },
   {
    "duration": 36,
    "start_time": "2021-10-02T03:18:17.267Z"
   },
   {
    "duration": 32,
    "start_time": "2021-10-02T03:18:17.306Z"
   },
   {
    "duration": 72,
    "start_time": "2021-10-02T03:18:17.340Z"
   },
   {
    "duration": 54,
    "start_time": "2021-10-02T03:18:17.415Z"
   },
   {
    "duration": 64,
    "start_time": "2021-10-02T03:18:17.473Z"
   },
   {
    "duration": 60,
    "start_time": "2021-10-02T03:18:17.539Z"
   },
   {
    "duration": 20,
    "start_time": "2021-10-02T03:18:17.601Z"
   },
   {
    "duration": 61,
    "start_time": "2021-10-02T03:18:17.624Z"
   },
   {
    "duration": 48,
    "start_time": "2021-10-02T03:18:17.687Z"
   },
   {
    "duration": 40,
    "start_time": "2021-10-02T03:18:17.737Z"
   },
   {
    "duration": 38,
    "start_time": "2021-10-02T03:18:17.779Z"
   },
   {
    "duration": 54,
    "start_time": "2021-10-02T03:18:17.819Z"
   },
   {
    "duration": 448,
    "start_time": "2021-10-03T01:57:42.674Z"
   },
   {
    "duration": 1245,
    "start_time": "2021-10-03T01:58:00.507Z"
   },
   {
    "duration": 86,
    "start_time": "2021-10-03T01:58:01.754Z"
   },
   {
    "duration": 43,
    "start_time": "2021-10-03T01:58:01.843Z"
   },
   {
    "duration": 35,
    "start_time": "2021-10-03T01:58:01.918Z"
   },
   {
    "duration": 32,
    "start_time": "2021-10-03T01:58:01.956Z"
   },
   {
    "duration": 70,
    "start_time": "2021-10-03T01:58:01.991Z"
   },
   {
    "duration": 59,
    "start_time": "2021-10-03T01:58:02.063Z"
   },
   {
    "duration": 69,
    "start_time": "2021-10-03T01:58:02.126Z"
   },
   {
    "duration": 55,
    "start_time": "2021-10-03T01:58:02.197Z"
   },
   {
    "duration": 21,
    "start_time": "2021-10-03T01:58:02.254Z"
   },
   {
    "duration": 61,
    "start_time": "2021-10-03T01:58:02.278Z"
   },
   {
    "duration": 48,
    "start_time": "2021-10-03T01:58:02.342Z"
   },
   {
    "duration": 23,
    "start_time": "2021-10-03T01:58:02.417Z"
   },
   {
    "duration": 38,
    "start_time": "2021-10-03T01:58:02.442Z"
   },
   {
    "duration": 52,
    "start_time": "2021-10-03T01:58:02.482Z"
   },
   {
    "duration": 26,
    "start_time": "2021-10-03T01:58:02.537Z"
   },
   {
    "duration": 499,
    "start_time": "2021-10-03T02:09:43.565Z"
   },
   {
    "duration": 11,
    "start_time": "2021-10-03T02:09:57.113Z"
   },
   {
    "duration": 567,
    "start_time": "2021-10-03T02:11:25.769Z"
   },
   {
    "duration": 1215,
    "start_time": "2021-10-03T02:11:37.713Z"
   },
   {
    "duration": 85,
    "start_time": "2021-10-03T02:11:38.931Z"
   },
   {
    "duration": 42,
    "start_time": "2021-10-03T02:11:39.019Z"
   },
   {
    "duration": 55,
    "start_time": "2021-10-03T02:11:39.063Z"
   },
   {
    "duration": 31,
    "start_time": "2021-10-03T02:11:39.120Z"
   },
   {
    "duration": 69,
    "start_time": "2021-10-03T02:11:39.154Z"
   },
   {
    "duration": 34,
    "start_time": "2021-10-03T02:11:39.225Z"
   },
   {
    "duration": 83,
    "start_time": "2021-10-03T02:11:39.262Z"
   },
   {
    "duration": 37,
    "start_time": "2021-10-03T02:11:39.347Z"
   },
   {
    "duration": 43,
    "start_time": "2021-10-03T02:11:39.386Z"
   },
   {
    "duration": 37,
    "start_time": "2021-10-03T02:11:39.432Z"
   },
   {
    "duration": 65,
    "start_time": "2021-10-03T02:11:39.472Z"
   },
   {
    "duration": 23,
    "start_time": "2021-10-03T02:11:39.539Z"
   },
   {
    "duration": 61,
    "start_time": "2021-10-03T02:11:39.564Z"
   },
   {
    "duration": 11,
    "start_time": "2021-10-03T02:11:39.628Z"
   },
   {
    "duration": 28,
    "start_time": "2021-10-03T02:11:39.642Z"
   },
   {
    "duration": 55,
    "start_time": "2021-10-03T02:11:39.673Z"
   },
   {
    "duration": 474,
    "start_time": "2021-10-03T02:11:39.730Z"
   },
   {
    "duration": 23,
    "start_time": "2021-10-03T02:11:48.838Z"
   },
   {
    "duration": 376,
    "start_time": "2021-10-03T02:16:18.894Z"
   },
   {
    "duration": 393,
    "start_time": "2021-10-03T02:16:36.014Z"
   },
   {
    "duration": 416,
    "start_time": "2021-10-03T02:19:04.857Z"
   },
   {
    "duration": 15,
    "start_time": "2021-10-03T02:19:36.046Z"
   },
   {
    "duration": 15,
    "start_time": "2021-10-03T02:19:48.848Z"
   },
   {
    "duration": 15,
    "start_time": "2021-10-03T02:21:51.670Z"
   },
   {
    "duration": 33,
    "start_time": "2021-10-03T02:22:00.224Z"
   },
   {
    "duration": 46,
    "start_time": "2021-10-03T02:22:49.935Z"
   },
   {
    "duration": 417,
    "start_time": "2021-10-03T02:23:20.168Z"
   },
   {
    "duration": 43,
    "start_time": "2021-10-03T02:23:57.968Z"
   },
   {
    "duration": 1213,
    "start_time": "2021-10-03T02:24:16.520Z"
   },
   {
    "duration": 81,
    "start_time": "2021-10-03T02:24:17.736Z"
   },
   {
    "duration": 44,
    "start_time": "2021-10-03T02:24:17.820Z"
   },
   {
    "duration": 60,
    "start_time": "2021-10-03T02:24:17.867Z"
   },
   {
    "duration": 31,
    "start_time": "2021-10-03T02:24:17.930Z"
   },
   {
    "duration": 71,
    "start_time": "2021-10-03T02:24:17.964Z"
   },
   {
    "duration": 36,
    "start_time": "2021-10-03T02:24:18.038Z"
   },
   {
    "duration": 91,
    "start_time": "2021-10-03T02:24:18.077Z"
   },
   {
    "duration": 50,
    "start_time": "2021-10-03T02:24:18.172Z"
   },
   {
    "duration": 19,
    "start_time": "2021-10-03T02:24:18.225Z"
   },
   {
    "duration": 36,
    "start_time": "2021-10-03T02:24:18.247Z"
   },
   {
    "duration": 75,
    "start_time": "2021-10-03T02:24:18.285Z"
   },
   {
    "duration": 23,
    "start_time": "2021-10-03T02:24:18.363Z"
   },
   {
    "duration": 63,
    "start_time": "2021-10-03T02:24:18.388Z"
   },
   {
    "duration": 11,
    "start_time": "2021-10-03T02:24:18.453Z"
   },
   {
    "duration": 52,
    "start_time": "2021-10-03T02:24:18.466Z"
   },
   {
    "duration": 29,
    "start_time": "2021-10-03T02:24:18.520Z"
   },
   {
    "duration": 23,
    "start_time": "2021-10-03T02:24:18.551Z"
   },
   {
    "duration": 57,
    "start_time": "2021-10-03T02:24:18.577Z"
   },
   {
    "duration": 43,
    "start_time": "2021-10-03T02:28:02.586Z"
   },
   {
    "duration": 43,
    "start_time": "2021-10-03T02:28:26.621Z"
   },
   {
    "duration": 23,
    "start_time": "2021-10-03T02:28:55.742Z"
   },
   {
    "duration": 10027,
    "start_time": "2021-10-03T02:29:38.121Z"
   },
   {
    "duration": 1438,
    "start_time": "2021-10-03T02:30:07.970Z"
   },
   {
    "duration": 59,
    "start_time": "2021-10-03T02:30:09.410Z"
   },
   {
    "duration": 68,
    "start_time": "2021-10-03T02:30:09.472Z"
   },
   {
    "duration": 35,
    "start_time": "2021-10-03T02:30:09.542Z"
   },
   {
    "duration": 55,
    "start_time": "2021-10-03T02:30:09.580Z"
   },
   {
    "duration": 46,
    "start_time": "2021-10-03T02:30:09.638Z"
   },
   {
    "duration": 60,
    "start_time": "2021-10-03T02:30:09.687Z"
   },
   {
    "duration": 77,
    "start_time": "2021-10-03T02:30:09.751Z"
   },
   {
    "duration": 38,
    "start_time": "2021-10-03T02:30:09.831Z"
   },
   {
    "duration": 49,
    "start_time": "2021-10-03T02:30:09.872Z"
   },
   {
    "duration": 35,
    "start_time": "2021-10-03T02:30:09.923Z"
   },
   {
    "duration": 67,
    "start_time": "2021-10-03T02:30:09.961Z"
   },
   {
    "duration": 22,
    "start_time": "2021-10-03T02:30:10.030Z"
   },
   {
    "duration": 62,
    "start_time": "2021-10-03T02:30:10.055Z"
   },
   {
    "duration": 11,
    "start_time": "2021-10-03T02:30:10.120Z"
   },
   {
    "duration": 30,
    "start_time": "2021-10-03T02:30:10.133Z"
   },
   {
    "duration": 53,
    "start_time": "2021-10-03T02:30:10.165Z"
   },
   {
    "duration": 16,
    "start_time": "2021-10-03T02:30:10.220Z"
   },
   {
    "duration": 30,
    "start_time": "2021-10-03T02:30:10.238Z"
   },
   {
    "duration": 11856,
    "start_time": "2021-10-03T02:30:39.146Z"
   },
   {
    "duration": 35,
    "start_time": "2021-10-03T02:31:05.885Z"
   },
   {
    "duration": 603,
    "start_time": "2021-10-03T02:38:11.066Z"
   },
   {
    "duration": 1160,
    "start_time": "2021-10-03T02:38:32.367Z"
   },
   {
    "duration": 60,
    "start_time": "2021-10-03T02:38:33.530Z"
   },
   {
    "duration": 45,
    "start_time": "2021-10-03T02:38:33.617Z"
   },
   {
    "duration": 56,
    "start_time": "2021-10-03T02:38:33.664Z"
   },
   {
    "duration": 32,
    "start_time": "2021-10-03T02:38:33.723Z"
   },
   {
    "duration": 78,
    "start_time": "2021-10-03T02:38:33.757Z"
   },
   {
    "duration": 38,
    "start_time": "2021-10-03T02:38:33.837Z"
   },
   {
    "duration": 87,
    "start_time": "2021-10-03T02:38:33.877Z"
   },
   {
    "duration": 52,
    "start_time": "2021-10-03T02:38:33.967Z"
   },
   {
    "duration": 21,
    "start_time": "2021-10-03T02:38:34.021Z"
   },
   {
    "duration": 43,
    "start_time": "2021-10-03T02:38:34.044Z"
   },
   {
    "duration": 68,
    "start_time": "2021-10-03T02:38:34.090Z"
   },
   {
    "duration": 24,
    "start_time": "2021-10-03T02:38:34.160Z"
   },
   {
    "duration": 64,
    "start_time": "2021-10-03T02:38:34.186Z"
   },
   {
    "duration": 12,
    "start_time": "2021-10-03T02:38:34.252Z"
   },
   {
    "duration": 49,
    "start_time": "2021-10-03T02:38:34.267Z"
   },
   {
    "duration": 27,
    "start_time": "2021-10-03T02:38:34.319Z"
   },
   {
    "duration": 487,
    "start_time": "2021-10-03T02:38:34.349Z"
   },
   {
    "duration": -108,
    "start_time": "2021-10-03T02:38:34.946Z"
   },
   {
    "duration": 21,
    "start_time": "2021-10-03T02:40:10.673Z"
   },
   {
    "duration": 24,
    "start_time": "2021-10-03T02:40:19.512Z"
   },
   {
    "duration": 1221,
    "start_time": "2021-10-03T02:41:02.997Z"
   },
   {
    "duration": 60,
    "start_time": "2021-10-03T02:41:04.220Z"
   },
   {
    "duration": 60,
    "start_time": "2021-10-03T02:41:04.283Z"
   },
   {
    "duration": 33,
    "start_time": "2021-10-03T02:41:04.346Z"
   },
   {
    "duration": 55,
    "start_time": "2021-10-03T02:41:04.382Z"
   },
   {
    "duration": 46,
    "start_time": "2021-10-03T02:41:04.439Z"
   },
   {
    "duration": 57,
    "start_time": "2021-10-03T02:41:04.488Z"
   },
   {
    "duration": 96,
    "start_time": "2021-10-03T02:41:04.551Z"
   },
   {
    "duration": 40,
    "start_time": "2021-10-03T02:41:04.651Z"
   },
   {
    "duration": 41,
    "start_time": "2021-10-03T02:41:04.694Z"
   },
   {
    "duration": 42,
    "start_time": "2021-10-03T02:41:04.738Z"
   },
   {
    "duration": 78,
    "start_time": "2021-10-03T02:41:04.782Z"
   },
   {
    "duration": 24,
    "start_time": "2021-10-03T02:41:04.862Z"
   },
   {
    "duration": 65,
    "start_time": "2021-10-03T02:41:04.888Z"
   },
   {
    "duration": 12,
    "start_time": "2021-10-03T02:41:04.956Z"
   },
   {
    "duration": 61,
    "start_time": "2021-10-03T02:41:04.971Z"
   },
   {
    "duration": 30,
    "start_time": "2021-10-03T02:41:05.035Z"
   },
   {
    "duration": 53,
    "start_time": "2021-10-03T02:41:05.068Z"
   },
   {
    "duration": 4,
    "start_time": "2021-10-03T02:41:05.124Z"
   },
   {
    "duration": 38,
    "start_time": "2021-10-03T02:42:13.020Z"
   },
   {
    "duration": 9704,
    "start_time": "2021-10-03T02:42:58.253Z"
   },
   {
    "duration": 1310,
    "start_time": "2021-10-03T02:43:32.406Z"
   },
   {
    "duration": 64,
    "start_time": "2021-10-03T02:43:33.719Z"
   },
   {
    "duration": 44,
    "start_time": "2021-10-03T02:43:33.815Z"
   },
   {
    "duration": 63,
    "start_time": "2021-10-03T02:43:33.863Z"
   },
   {
    "duration": 34,
    "start_time": "2021-10-03T02:43:33.929Z"
   },
   {
    "duration": 79,
    "start_time": "2021-10-03T02:43:33.967Z"
   },
   {
    "duration": 38,
    "start_time": "2021-10-03T02:43:34.049Z"
   },
   {
    "duration": 73,
    "start_time": "2021-10-03T02:43:34.116Z"
   },
   {
    "duration": 56,
    "start_time": "2021-10-03T02:43:34.192Z"
   },
   {
    "duration": 21,
    "start_time": "2021-10-03T02:43:34.250Z"
   },
   {
    "duration": 59,
    "start_time": "2021-10-03T02:43:34.273Z"
   },
   {
    "duration": 45,
    "start_time": "2021-10-03T02:43:34.335Z"
   },
   {
    "duration": 42,
    "start_time": "2021-10-03T02:43:34.383Z"
   },
   {
    "duration": 35,
    "start_time": "2021-10-03T02:43:34.428Z"
   },
   {
    "duration": 11,
    "start_time": "2021-10-03T02:43:34.465Z"
   },
   {
    "duration": 54,
    "start_time": "2021-10-03T02:43:34.478Z"
   },
   {
    "duration": 39,
    "start_time": "2021-10-03T02:43:34.534Z"
   },
   {
    "duration": 62,
    "start_time": "2021-10-03T02:43:34.576Z"
   },
   {
    "duration": 74,
    "start_time": "2021-10-03T02:43:34.642Z"
   },
   {
    "duration": 205,
    "start_time": "2021-10-03T18:00:27.542Z"
   },
   {
    "duration": 905,
    "start_time": "2021-10-03T18:00:38.367Z"
   },
   {
    "duration": 42,
    "start_time": "2021-10-03T18:00:39.274Z"
   },
   {
    "duration": 31,
    "start_time": "2021-10-03T18:00:39.319Z"
   },
   {
    "duration": 51,
    "start_time": "2021-10-03T18:00:39.353Z"
   },
   {
    "duration": 23,
    "start_time": "2021-10-03T18:00:39.406Z"
   },
   {
    "duration": 35,
    "start_time": "2021-10-03T18:00:39.431Z"
   },
   {
    "duration": 51,
    "start_time": "2021-10-03T18:00:39.468Z"
   },
   {
    "duration": 55,
    "start_time": "2021-10-03T18:00:39.522Z"
   },
   {
    "duration": 43,
    "start_time": "2021-10-03T18:00:39.580Z"
   },
   {
    "duration": 14,
    "start_time": "2021-10-03T18:00:39.625Z"
   },
   {
    "duration": 28,
    "start_time": "2021-10-03T18:00:39.641Z"
   },
   {
    "duration": 60,
    "start_time": "2021-10-03T18:00:39.671Z"
   },
   {
    "duration": 17,
    "start_time": "2021-10-03T18:00:39.733Z"
   },
   {
    "duration": 48,
    "start_time": "2021-10-03T18:00:39.752Z"
   },
   {
    "duration": 8,
    "start_time": "2021-10-03T18:00:39.802Z"
   },
   {
    "duration": 19,
    "start_time": "2021-10-03T18:00:39.812Z"
   },
   {
    "duration": 18,
    "start_time": "2021-10-03T18:00:39.833Z"
   },
   {
    "duration": 49,
    "start_time": "2021-10-03T18:00:39.853Z"
   },
   {
    "duration": 23,
    "start_time": "2021-10-03T18:00:39.904Z"
   },
   {
    "duration": 5,
    "start_time": "2021-10-03T18:00:39.929Z"
   },
   {
    "duration": 3,
    "start_time": "2021-10-03T18:00:39.936Z"
   },
   {
    "duration": 233,
    "start_time": "2021-10-03T18:03:34.677Z"
   },
   {
    "duration": 288,
    "start_time": "2021-10-03T18:09:40.140Z"
   },
   {
    "duration": 865,
    "start_time": "2021-10-03T18:09:51.748Z"
   },
   {
    "duration": 52,
    "start_time": "2021-10-03T18:09:52.615Z"
   },
   {
    "duration": 56,
    "start_time": "2021-10-03T18:09:52.669Z"
   },
   {
    "duration": 24,
    "start_time": "2021-10-03T18:09:52.726Z"
   },
   {
    "duration": 23,
    "start_time": "2021-10-03T18:09:52.751Z"
   },
   {
    "duration": 54,
    "start_time": "2021-10-03T18:09:52.776Z"
   },
   {
    "duration": 23,
    "start_time": "2021-10-03T18:09:52.832Z"
   },
   {
    "duration": 384,
    "start_time": "2021-10-03T18:09:52.858Z"
   },
   {
    "duration": -161,
    "start_time": "2021-10-03T18:09:53.405Z"
   },
   {
    "duration": -163,
    "start_time": "2021-10-03T18:09:53.408Z"
   },
   {
    "duration": -166,
    "start_time": "2021-10-03T18:09:53.412Z"
   },
   {
    "duration": -168,
    "start_time": "2021-10-03T18:09:53.415Z"
   },
   {
    "duration": -169,
    "start_time": "2021-10-03T18:09:53.417Z"
   },
   {
    "duration": -171,
    "start_time": "2021-10-03T18:09:53.420Z"
   },
   {
    "duration": -173,
    "start_time": "2021-10-03T18:09:53.423Z"
   },
   {
    "duration": -178,
    "start_time": "2021-10-03T18:09:53.429Z"
   },
   {
    "duration": -180,
    "start_time": "2021-10-03T18:09:53.432Z"
   },
   {
    "duration": -181,
    "start_time": "2021-10-03T18:09:53.434Z"
   },
   {
    "duration": -182,
    "start_time": "2021-10-03T18:09:53.436Z"
   },
   {
    "duration": -183,
    "start_time": "2021-10-03T18:09:53.438Z"
   },
   {
    "duration": -185,
    "start_time": "2021-10-03T18:09:53.441Z"
   },
   {
    "duration": 176,
    "start_time": "2021-10-03T18:10:27.230Z"
   },
   {
    "duration": 862,
    "start_time": "2021-10-03T18:10:48.894Z"
   },
   {
    "duration": 39,
    "start_time": "2021-10-03T18:10:49.758Z"
   },
   {
    "duration": 30,
    "start_time": "2021-10-03T18:10:49.799Z"
   },
   {
    "duration": 22,
    "start_time": "2021-10-03T18:10:49.831Z"
   },
   {
    "duration": 21,
    "start_time": "2021-10-03T18:10:49.855Z"
   },
   {
    "duration": 53,
    "start_time": "2021-10-03T18:10:49.877Z"
   },
   {
    "duration": 23,
    "start_time": "2021-10-03T18:10:49.932Z"
   },
   {
    "duration": 63,
    "start_time": "2021-10-03T18:10:49.956Z"
   },
   {
    "duration": 27,
    "start_time": "2021-10-03T18:10:50.022Z"
   },
   {
    "duration": 14,
    "start_time": "2021-10-03T18:10:50.052Z"
   },
   {
    "duration": 57,
    "start_time": "2021-10-03T18:10:50.068Z"
   },
   {
    "duration": 37,
    "start_time": "2021-10-03T18:10:50.127Z"
   },
   {
    "duration": 14,
    "start_time": "2021-10-03T18:10:50.166Z"
   },
   {
    "duration": 42,
    "start_time": "2021-10-03T18:10:50.182Z"
   },
   {
    "duration": 6,
    "start_time": "2021-10-03T18:10:50.226Z"
   },
   {
    "duration": 16,
    "start_time": "2021-10-03T18:10:50.234Z"
   },
   {
    "duration": 15,
    "start_time": "2021-10-03T18:10:50.251Z"
   },
   {
    "duration": 43,
    "start_time": "2021-10-03T18:10:50.267Z"
   },
   {
    "duration": 22,
    "start_time": "2021-10-03T18:10:50.312Z"
   },
   {
    "duration": 11,
    "start_time": "2021-10-03T18:10:50.336Z"
   },
   {
    "duration": 2,
    "start_time": "2021-10-03T18:10:50.349Z"
   },
   {
    "duration": 12,
    "start_time": "2021-10-03T18:11:43.397Z"
   },
   {
    "duration": 868,
    "start_time": "2021-10-03T18:12:03.509Z"
   },
   {
    "duration": 38,
    "start_time": "2021-10-03T18:12:04.379Z"
   },
   {
    "duration": 31,
    "start_time": "2021-10-03T18:12:04.418Z"
   },
   {
    "duration": 22,
    "start_time": "2021-10-03T18:12:04.451Z"
   },
   {
    "duration": 41,
    "start_time": "2021-10-03T18:12:04.474Z"
   },
   {
    "duration": 32,
    "start_time": "2021-10-03T18:12:04.517Z"
   },
   {
    "duration": 22,
    "start_time": "2021-10-03T18:12:04.550Z"
   },
   {
    "duration": 65,
    "start_time": "2021-10-03T18:12:04.575Z"
   },
   {
    "duration": 25,
    "start_time": "2021-10-03T18:12:04.642Z"
   },
   {
    "duration": 33,
    "start_time": "2021-10-03T18:12:04.669Z"
   },
   {
    "duration": 25,
    "start_time": "2021-10-03T18:12:04.704Z"
   },
   {
    "duration": 32,
    "start_time": "2021-10-03T18:12:04.730Z"
   },
   {
    "duration": 15,
    "start_time": "2021-10-03T18:12:04.763Z"
   },
   {
    "duration": 26,
    "start_time": "2021-10-03T18:12:04.799Z"
   },
   {
    "duration": 6,
    "start_time": "2021-10-03T18:12:04.827Z"
   },
   {
    "duration": 24,
    "start_time": "2021-10-03T18:12:04.834Z"
   },
   {
    "duration": 16,
    "start_time": "2021-10-03T18:12:04.860Z"
   },
   {
    "duration": 36,
    "start_time": "2021-10-03T18:12:04.877Z"
   },
   {
    "duration": 24,
    "start_time": "2021-10-03T18:12:04.914Z"
   },
   {
    "duration": 12,
    "start_time": "2021-10-03T18:12:04.939Z"
   },
   {
    "duration": 2,
    "start_time": "2021-10-03T18:12:04.953Z"
   },
   {
    "duration": 284,
    "start_time": "2021-10-03T18:12:29.516Z"
   },
   {
    "duration": 182,
    "start_time": "2021-10-03T18:12:48.120Z"
   },
   {
    "duration": 887,
    "start_time": "2021-10-03T18:13:02.399Z"
   },
   {
    "duration": 42,
    "start_time": "2021-10-03T18:13:03.288Z"
   },
   {
    "duration": 29,
    "start_time": "2021-10-03T18:13:03.332Z"
   },
   {
    "duration": 39,
    "start_time": "2021-10-03T18:13:03.363Z"
   },
   {
    "duration": 23,
    "start_time": "2021-10-03T18:13:03.403Z"
   },
   {
    "duration": 34,
    "start_time": "2021-10-03T18:13:03.427Z"
   },
   {
    "duration": 48,
    "start_time": "2021-10-03T18:13:03.462Z"
   },
   {
    "duration": 45,
    "start_time": "2021-10-03T18:13:03.512Z"
   },
   {
    "duration": 25,
    "start_time": "2021-10-03T18:13:03.558Z"
   },
   {
    "duration": 26,
    "start_time": "2021-10-03T18:13:03.584Z"
   },
   {
    "duration": 24,
    "start_time": "2021-10-03T18:13:03.612Z"
   },
   {
    "duration": 32,
    "start_time": "2021-10-03T18:13:03.637Z"
   },
   {
    "duration": 38,
    "start_time": "2021-10-03T18:13:03.670Z"
   },
   {
    "duration": 29,
    "start_time": "2021-10-03T18:13:03.710Z"
   },
   {
    "duration": 8,
    "start_time": "2021-10-03T18:13:03.741Z"
   },
   {
    "duration": 50,
    "start_time": "2021-10-03T18:13:03.751Z"
   },
   {
    "duration": 20,
    "start_time": "2021-10-03T18:13:03.803Z"
   },
   {
    "duration": 18,
    "start_time": "2021-10-03T18:13:03.825Z"
   },
   {
    "duration": 24,
    "start_time": "2021-10-03T18:13:03.845Z"
   },
   {
    "duration": 304,
    "start_time": "2021-10-03T18:13:03.900Z"
   },
   {
    "duration": -183,
    "start_time": "2021-10-03T18:13:04.389Z"
   },
   {
    "duration": 13,
    "start_time": "2021-10-03T18:13:10.435Z"
   },
   {
    "duration": 15,
    "start_time": "2021-10-03T18:13:37.551Z"
   },
   {
    "duration": 34,
    "start_time": "2021-10-03T18:14:24.040Z"
   },
   {
    "duration": 875,
    "start_time": "2021-10-03T18:14:50.374Z"
   },
   {
    "duration": 51,
    "start_time": "2021-10-03T18:14:51.251Z"
   },
   {
    "duration": 31,
    "start_time": "2021-10-03T18:14:51.305Z"
   },
   {
    "duration": 22,
    "start_time": "2021-10-03T18:14:51.338Z"
   },
   {
    "duration": 49,
    "start_time": "2021-10-03T18:14:51.362Z"
   },
   {
    "duration": 31,
    "start_time": "2021-10-03T18:14:51.412Z"
   },
   {
    "duration": 22,
    "start_time": "2021-10-03T18:14:51.445Z"
   },
   {
    "duration": 75,
    "start_time": "2021-10-03T18:14:51.470Z"
   },
   {
    "duration": 26,
    "start_time": "2021-10-03T18:14:51.547Z"
   },
   {
    "duration": 38,
    "start_time": "2021-10-03T18:14:51.574Z"
   },
   {
    "duration": 34,
    "start_time": "2021-10-03T18:14:51.614Z"
   },
   {
    "duration": 62,
    "start_time": "2021-10-03T18:14:51.650Z"
   },
   {
    "duration": 14,
    "start_time": "2021-10-03T18:14:51.714Z"
   },
   {
    "duration": 27,
    "start_time": "2021-10-03T18:14:51.729Z"
   },
   {
    "duration": 7,
    "start_time": "2021-10-03T18:14:51.758Z"
   },
   {
    "duration": 40,
    "start_time": "2021-10-03T18:14:51.767Z"
   },
   {
    "duration": 17,
    "start_time": "2021-10-03T18:14:51.809Z"
   },
   {
    "duration": 16,
    "start_time": "2021-10-03T18:14:51.828Z"
   },
   {
    "duration": 22,
    "start_time": "2021-10-03T18:14:51.845Z"
   },
   {
    "duration": 13,
    "start_time": "2021-10-03T18:14:51.900Z"
   },
   {
    "duration": 2,
    "start_time": "2021-10-03T18:14:51.915Z"
   },
   {
    "duration": 414,
    "start_time": "2021-10-04T01:16:49.392Z"
   },
   {
    "duration": 1174,
    "start_time": "2021-10-04T01:17:01.597Z"
   },
   {
    "duration": 83,
    "start_time": "2021-10-04T01:17:02.774Z"
   },
   {
    "duration": 42,
    "start_time": "2021-10-04T01:17:02.861Z"
   },
   {
    "duration": 66,
    "start_time": "2021-10-04T01:17:02.906Z"
   },
   {
    "duration": 33,
    "start_time": "2021-10-04T01:17:02.974Z"
   },
   {
    "duration": 69,
    "start_time": "2021-10-04T01:17:03.010Z"
   },
   {
    "duration": 35,
    "start_time": "2021-10-04T01:17:03.081Z"
   },
   {
    "duration": 84,
    "start_time": "2021-10-04T01:17:03.119Z"
   },
   {
    "duration": 37,
    "start_time": "2021-10-04T01:17:03.205Z"
   },
   {
    "duration": 20,
    "start_time": "2021-10-04T01:17:03.258Z"
   },
   {
    "duration": 38,
    "start_time": "2021-10-04T01:17:03.281Z"
   },
   {
    "duration": 81,
    "start_time": "2021-10-04T01:17:03.322Z"
   },
   {
    "duration": 23,
    "start_time": "2021-10-04T01:17:03.405Z"
   },
   {
    "duration": 58,
    "start_time": "2021-10-04T01:17:03.430Z"
   },
   {
    "duration": 11,
    "start_time": "2021-10-04T01:17:03.490Z"
   },
   {
    "duration": 26,
    "start_time": "2021-10-04T01:17:03.503Z"
   },
   {
    "duration": 51,
    "start_time": "2021-10-04T01:17:03.531Z"
   },
   {
    "duration": 25,
    "start_time": "2021-10-04T01:17:03.585Z"
   },
   {
    "duration": 70,
    "start_time": "2021-10-04T01:17:03.612Z"
   },
   {
    "duration": 10722,
    "start_time": "2021-10-04T01:17:03.685Z"
   },
   {
    "duration": 9548,
    "start_time": "2021-10-04T01:31:12.577Z"
   },
   {
    "duration": 8649,
    "start_time": "2021-10-04T01:46:57.202Z"
   },
   {
    "duration": 1291,
    "start_time": "2021-10-04T01:47:19.429Z"
   },
   {
    "duration": 86,
    "start_time": "2021-10-04T01:47:20.723Z"
   },
   {
    "duration": 63,
    "start_time": "2021-10-04T01:47:20.812Z"
   },
   {
    "duration": 32,
    "start_time": "2021-10-04T01:47:20.878Z"
   },
   {
    "duration": 51,
    "start_time": "2021-10-04T01:47:20.912Z"
   },
   {
    "duration": 45,
    "start_time": "2021-10-04T01:47:20.965Z"
   },
   {
    "duration": 55,
    "start_time": "2021-10-04T01:47:21.012Z"
   },
   {
    "duration": 61,
    "start_time": "2021-10-04T01:47:21.071Z"
   },
   {
    "duration": 59,
    "start_time": "2021-10-04T01:47:21.135Z"
   },
   {
    "duration": 20,
    "start_time": "2021-10-04T01:47:21.196Z"
   },
   {
    "duration": 61,
    "start_time": "2021-10-04T01:47:21.218Z"
   },
   {
    "duration": 46,
    "start_time": "2021-10-04T01:47:21.282Z"
   },
   {
    "duration": 43,
    "start_time": "2021-10-04T01:47:21.330Z"
   },
   {
    "duration": 37,
    "start_time": "2021-10-04T01:47:21.375Z"
   },
   {
    "duration": 10,
    "start_time": "2021-10-04T01:47:21.415Z"
   },
   {
    "duration": 54,
    "start_time": "2021-10-04T01:47:21.427Z"
   },
   {
    "duration": 27,
    "start_time": "2021-10-04T01:47:21.483Z"
   },
   {
    "duration": 53,
    "start_time": "2021-10-04T01:47:21.512Z"
   },
   {
    "duration": 39,
    "start_time": "2021-10-04T01:47:21.567Z"
   },
   {
    "duration": 12594,
    "start_time": "2021-10-04T01:47:21.608Z"
   },
   {
    "duration": 362,
    "start_time": "2021-10-04T02:13:07.112Z"
   },
   {
    "duration": 1178,
    "start_time": "2021-10-04T02:13:17.770Z"
   },
   {
    "duration": 66,
    "start_time": "2021-10-04T02:13:18.952Z"
   },
   {
    "duration": 48,
    "start_time": "2021-10-04T02:13:19.021Z"
   },
   {
    "duration": 32,
    "start_time": "2021-10-04T02:13:19.072Z"
   },
   {
    "duration": 54,
    "start_time": "2021-10-04T02:13:19.106Z"
   },
   {
    "duration": 44,
    "start_time": "2021-10-04T02:13:19.162Z"
   },
   {
    "duration": 54,
    "start_time": "2021-10-04T02:13:19.208Z"
   },
   {
    "duration": 65,
    "start_time": "2021-10-04T02:13:19.266Z"
   },
   {
    "duration": 58,
    "start_time": "2021-10-04T02:13:19.334Z"
   },
   {
    "duration": 20,
    "start_time": "2021-10-04T02:13:19.394Z"
   },
   {
    "duration": 63,
    "start_time": "2021-10-04T02:13:19.416Z"
   },
   {
    "duration": 49,
    "start_time": "2021-10-04T02:13:19.482Z"
   },
   {
    "duration": 40,
    "start_time": "2021-10-04T02:13:19.533Z"
   },
   {
    "duration": 36,
    "start_time": "2021-10-04T02:13:19.575Z"
   },
   {
    "duration": 14,
    "start_time": "2021-10-04T02:13:19.614Z"
   },
   {
    "duration": 25,
    "start_time": "2021-10-04T02:13:19.658Z"
   },
   {
    "duration": 27,
    "start_time": "2021-10-04T02:13:19.685Z"
   },
   {
    "duration": 58,
    "start_time": "2021-10-04T02:13:19.714Z"
   },
   {
    "duration": 35,
    "start_time": "2021-10-04T02:13:19.774Z"
   },
   {
    "duration": 9066,
    "start_time": "2021-10-04T02:13:19.811Z"
   },
   {
    "duration": 9607,
    "start_time": "2021-10-04T03:27:05.794Z"
   },
   {
    "duration": 1600,
    "start_time": "2021-10-04T03:27:33.294Z"
   },
   {
    "duration": 93,
    "start_time": "2021-10-04T03:27:34.897Z"
   },
   {
    "duration": 73,
    "start_time": "2021-10-04T03:27:34.995Z"
   },
   {
    "duration": 34,
    "start_time": "2021-10-04T03:27:35.072Z"
   },
   {
    "duration": 57,
    "start_time": "2021-10-04T03:27:35.109Z"
   },
   {
    "duration": 48,
    "start_time": "2021-10-04T03:27:35.169Z"
   },
   {
    "duration": 64,
    "start_time": "2021-10-04T03:27:35.221Z"
   },
   {
    "duration": 86,
    "start_time": "2021-10-04T03:27:35.287Z"
   },
   {
    "duration": 38,
    "start_time": "2021-10-04T03:27:35.376Z"
   },
   {
    "duration": 44,
    "start_time": "2021-10-04T03:27:35.417Z"
   },
   {
    "duration": 39,
    "start_time": "2021-10-04T03:27:35.463Z"
   },
   {
    "duration": 71,
    "start_time": "2021-10-04T03:27:35.504Z"
   },
   {
    "duration": 22,
    "start_time": "2021-10-04T03:27:35.577Z"
   },
   {
    "duration": 60,
    "start_time": "2021-10-04T03:27:35.601Z"
   },
   {
    "duration": 11,
    "start_time": "2021-10-04T03:27:35.664Z"
   },
   {
    "duration": 25,
    "start_time": "2021-10-04T03:27:35.678Z"
   },
   {
    "duration": 54,
    "start_time": "2021-10-04T03:27:35.706Z"
   },
   {
    "duration": 26,
    "start_time": "2021-10-04T03:27:35.763Z"
   },
   {
    "duration": 37,
    "start_time": "2021-10-04T03:27:35.791Z"
   },
   {
    "duration": 9099,
    "start_time": "2021-10-04T03:27:35.858Z"
   },
   {
    "duration": 420,
    "start_time": "2021-10-04T07:01:26.646Z"
   },
   {
    "duration": 1198,
    "start_time": "2021-10-04T07:01:44.102Z"
   },
   {
    "duration": 85,
    "start_time": "2021-10-04T07:01:45.303Z"
   },
   {
    "duration": 68,
    "start_time": "2021-10-04T07:01:45.391Z"
   },
   {
    "duration": 35,
    "start_time": "2021-10-04T07:01:45.461Z"
   },
   {
    "duration": 59,
    "start_time": "2021-10-04T07:01:45.498Z"
   },
   {
    "duration": 45,
    "start_time": "2021-10-04T07:01:45.560Z"
   },
   {
    "duration": 53,
    "start_time": "2021-10-04T07:01:45.607Z"
   },
   {
    "duration": 61,
    "start_time": "2021-10-04T07:01:45.662Z"
   },
   {
    "duration": 56,
    "start_time": "2021-10-04T07:01:45.727Z"
   },
   {
    "duration": 20,
    "start_time": "2021-10-04T07:01:45.786Z"
   },
   {
    "duration": 62,
    "start_time": "2021-10-04T07:01:45.808Z"
   },
   {
    "duration": 49,
    "start_time": "2021-10-04T07:01:45.872Z"
   },
   {
    "duration": 52,
    "start_time": "2021-10-04T07:01:45.923Z"
   },
   {
    "duration": 39,
    "start_time": "2021-10-04T07:01:45.977Z"
   },
   {
    "duration": 11,
    "start_time": "2021-10-04T07:01:46.018Z"
   },
   {
    "duration": 50,
    "start_time": "2021-10-04T07:01:46.031Z"
   },
   {
    "duration": 26,
    "start_time": "2021-10-04T07:01:46.083Z"
   },
   {
    "duration": 55,
    "start_time": "2021-10-04T07:01:46.111Z"
   },
   {
    "duration": 35,
    "start_time": "2021-10-04T07:01:46.168Z"
   },
   {
    "duration": 447,
    "start_time": "2021-10-04T07:01:46.206Z"
   },
   {
    "duration": 8951,
    "start_time": "2021-10-04T07:05:22.697Z"
   },
   {
    "duration": 10848,
    "start_time": "2021-10-04T07:12:41.863Z"
   },
   {
    "duration": 1189,
    "start_time": "2021-10-04T07:13:13.055Z"
   },
   {
    "duration": 60,
    "start_time": "2021-10-04T07:13:14.247Z"
   },
   {
    "duration": 70,
    "start_time": "2021-10-04T07:13:14.310Z"
   },
   {
    "duration": 35,
    "start_time": "2021-10-04T07:13:14.382Z"
   },
   {
    "duration": 55,
    "start_time": "2021-10-04T07:13:14.420Z"
   },
   {
    "duration": 49,
    "start_time": "2021-10-04T07:13:14.478Z"
   },
   {
    "duration": 55,
    "start_time": "2021-10-04T07:13:14.530Z"
   },
   {
    "duration": 80,
    "start_time": "2021-10-04T07:13:14.588Z"
   },
   {
    "duration": 40,
    "start_time": "2021-10-04T07:13:14.670Z"
   },
   {
    "duration": 20,
    "start_time": "2021-10-04T07:13:14.712Z"
   },
   {
    "duration": 58,
    "start_time": "2021-10-04T07:13:14.734Z"
   },
   {
    "duration": 73,
    "start_time": "2021-10-04T07:13:14.795Z"
   },
   {
    "duration": 25,
    "start_time": "2021-10-04T07:13:14.870Z"
   },
   {
    "duration": 61,
    "start_time": "2021-10-04T07:13:14.897Z"
   },
   {
    "duration": 12,
    "start_time": "2021-10-04T07:13:14.960Z"
   },
   {
    "duration": 34,
    "start_time": "2021-10-04T07:13:14.974Z"
   },
   {
    "duration": 54,
    "start_time": "2021-10-04T07:13:15.011Z"
   },
   {
    "duration": 28,
    "start_time": "2021-10-04T07:13:15.068Z"
   },
   {
    "duration": 69,
    "start_time": "2021-10-04T07:13:15.099Z"
   },
   {
    "duration": 9146,
    "start_time": "2021-10-04T07:13:15.171Z"
   },
   {
    "duration": 64,
    "start_time": "2021-10-04T22:05:02.171Z"
   },
   {
    "duration": 229,
    "start_time": "2021-10-04T22:35:13.866Z"
   },
   {
    "duration": 859,
    "start_time": "2021-10-04T22:35:23.781Z"
   },
   {
    "duration": 44,
    "start_time": "2021-10-04T22:35:24.642Z"
   },
   {
    "duration": 30,
    "start_time": "2021-10-04T22:35:24.688Z"
   },
   {
    "duration": 47,
    "start_time": "2021-10-04T22:35:24.720Z"
   },
   {
    "duration": 22,
    "start_time": "2021-10-04T22:35:24.769Z"
   },
   {
    "duration": 33,
    "start_time": "2021-10-04T22:35:24.792Z"
   },
   {
    "duration": 41,
    "start_time": "2021-10-04T22:35:24.826Z"
   },
   {
    "duration": 49,
    "start_time": "2021-10-04T22:35:24.869Z"
   },
   {
    "duration": 43,
    "start_time": "2021-10-04T22:35:24.920Z"
   },
   {
    "duration": 14,
    "start_time": "2021-10-04T22:35:24.964Z"
   },
   {
    "duration": 25,
    "start_time": "2021-10-04T22:35:24.980Z"
   },
   {
    "duration": 57,
    "start_time": "2021-10-04T22:35:25.006Z"
   },
   {
    "duration": 16,
    "start_time": "2021-10-04T22:35:25.064Z"
   },
   {
    "duration": 27,
    "start_time": "2021-10-04T22:35:25.082Z"
   },
   {
    "duration": 8,
    "start_time": "2021-10-04T22:35:25.110Z"
   },
   {
    "duration": 42,
    "start_time": "2021-10-04T22:35:25.119Z"
   },
   {
    "duration": 18,
    "start_time": "2021-10-04T22:35:25.163Z"
   },
   {
    "duration": 16,
    "start_time": "2021-10-04T22:35:25.183Z"
   },
   {
    "duration": 51,
    "start_time": "2021-10-04T22:35:25.201Z"
   },
   {
    "duration": 8003,
    "start_time": "2021-10-04T22:35:25.253Z"
   },
   {
    "duration": 19,
    "start_time": "2021-10-04T22:35:54.494Z"
   },
   {
    "duration": 72,
    "start_time": "2021-10-04T22:40:22.982Z"
   },
   {
    "duration": 64,
    "start_time": "2021-10-04T22:40:34.648Z"
   },
   {
    "duration": 65,
    "start_time": "2021-10-04T22:40:37.732Z"
   },
   {
    "duration": 66,
    "start_time": "2021-10-04T22:43:11.553Z"
   },
   {
    "duration": 68,
    "start_time": "2021-10-04T22:43:32.937Z"
   },
   {
    "duration": 193,
    "start_time": "2021-10-04T22:44:32.727Z"
   },
   {
    "duration": 316,
    "start_time": "2021-10-04T22:44:42.653Z"
   },
   {
    "duration": 491,
    "start_time": "2021-10-04T22:52:52.282Z"
   },
   {
    "duration": 193,
    "start_time": "2021-10-04T22:56:08.216Z"
   },
   {
    "duration": 190,
    "start_time": "2021-10-04T22:56:43.467Z"
   },
   {
    "duration": 68,
    "start_time": "2021-10-04T22:57:38.098Z"
   },
   {
    "duration": 71,
    "start_time": "2021-10-04T22:57:57.116Z"
   },
   {
    "duration": 431,
    "start_time": "2021-10-04T22:58:05.382Z"
   },
   {
    "duration": 329,
    "start_time": "2021-10-04T22:59:20.869Z"
   },
   {
    "duration": 15,
    "start_time": "2021-10-04T23:05:16.589Z"
   },
   {
    "duration": 15,
    "start_time": "2021-10-04T23:05:48.550Z"
   },
   {
    "duration": 23,
    "start_time": "2021-10-04T23:06:32.832Z"
   },
   {
    "duration": 23,
    "start_time": "2021-10-05T00:36:34.264Z"
   },
   {
    "duration": 24,
    "start_time": "2021-10-05T00:46:23.300Z"
   },
   {
    "duration": 27,
    "start_time": "2021-10-05T00:50:26.241Z"
   },
   {
    "duration": 12,
    "start_time": "2021-10-05T00:58:20.135Z"
   },
   {
    "duration": 905,
    "start_time": "2021-10-05T00:58:48.441Z"
   },
   {
    "duration": 43,
    "start_time": "2021-10-05T00:58:49.348Z"
   },
   {
    "duration": 11,
    "start_time": "2021-10-05T00:58:49.392Z"
   },
   {
    "duration": 47,
    "start_time": "2021-10-05T00:58:49.405Z"
   },
   {
    "duration": 22,
    "start_time": "2021-10-05T00:58:49.454Z"
   },
   {
    "duration": 23,
    "start_time": "2021-10-05T00:58:49.478Z"
   },
   {
    "duration": 56,
    "start_time": "2021-10-05T00:58:49.503Z"
   },
   {
    "duration": 25,
    "start_time": "2021-10-05T00:58:49.561Z"
   },
   {
    "duration": 72,
    "start_time": "2021-10-05T00:58:49.589Z"
   },
   {
    "duration": 25,
    "start_time": "2021-10-05T00:58:49.663Z"
   },
   {
    "duration": 14,
    "start_time": "2021-10-05T00:58:49.689Z"
   },
   {
    "duration": 46,
    "start_time": "2021-10-05T00:58:49.705Z"
   },
   {
    "duration": 33,
    "start_time": "2021-10-05T00:58:49.752Z"
   },
   {
    "duration": 19,
    "start_time": "2021-10-05T00:58:49.786Z"
   },
   {
    "duration": 46,
    "start_time": "2021-10-05T00:58:49.806Z"
   },
   {
    "duration": 7,
    "start_time": "2021-10-05T00:58:49.853Z"
   },
   {
    "duration": 15,
    "start_time": "2021-10-05T00:58:49.862Z"
   },
   {
    "duration": 15,
    "start_time": "2021-10-05T00:58:49.879Z"
   },
   {
    "duration": 14,
    "start_time": "2021-10-05T00:58:49.896Z"
   },
   {
    "duration": 51,
    "start_time": "2021-10-05T00:58:49.912Z"
   },
   {
    "duration": 20,
    "start_time": "2021-10-05T00:58:49.965Z"
   },
   {
    "duration": 24,
    "start_time": "2021-10-05T00:58:49.987Z"
   },
   {
    "duration": 45,
    "start_time": "2021-10-05T00:58:50.012Z"
   },
   {
    "duration": 14,
    "start_time": "2021-10-05T01:05:34.761Z"
   },
   {
    "duration": 891,
    "start_time": "2021-10-05T01:05:45.912Z"
   },
   {
    "duration": 39,
    "start_time": "2021-10-05T01:05:46.805Z"
   },
   {
    "duration": 11,
    "start_time": "2021-10-05T01:05:46.848Z"
   },
   {
    "duration": 30,
    "start_time": "2021-10-05T01:05:46.861Z"
   },
   {
    "duration": 22,
    "start_time": "2021-10-05T01:05:46.893Z"
   },
   {
    "duration": 42,
    "start_time": "2021-10-05T01:05:46.916Z"
   },
   {
    "duration": 34,
    "start_time": "2021-10-05T01:05:46.960Z"
   },
   {
    "duration": 25,
    "start_time": "2021-10-05T01:05:46.995Z"
   },
   {
    "duration": 73,
    "start_time": "2021-10-05T01:05:47.023Z"
   },
   {
    "duration": 25,
    "start_time": "2021-10-05T01:05:47.098Z"
   },
   {
    "duration": 35,
    "start_time": "2021-10-05T01:05:47.125Z"
   },
   {
    "duration": 26,
    "start_time": "2021-10-05T01:05:47.162Z"
   },
   {
    "duration": 31,
    "start_time": "2021-10-05T01:05:47.189Z"
   },
   {
    "duration": 37,
    "start_time": "2021-10-05T01:05:47.221Z"
   },
   {
    "duration": 26,
    "start_time": "2021-10-05T01:05:47.260Z"
   },
   {
    "duration": 7,
    "start_time": "2021-10-05T01:05:47.288Z"
   },
   {
    "duration": 18,
    "start_time": "2021-10-05T01:05:47.296Z"
   },
   {
    "duration": 35,
    "start_time": "2021-10-05T01:05:47.315Z"
   },
   {
    "duration": 16,
    "start_time": "2021-10-05T01:05:47.352Z"
   },
   {
    "duration": 21,
    "start_time": "2021-10-05T01:05:47.369Z"
   },
   {
    "duration": 21,
    "start_time": "2021-10-05T01:05:47.391Z"
   },
   {
    "duration": 51,
    "start_time": "2021-10-05T01:05:47.413Z"
   },
   {
    "duration": 26,
    "start_time": "2021-10-05T01:05:47.465Z"
   },
   {
    "duration": 14,
    "start_time": "2021-10-05T01:08:10.303Z"
   },
   {
    "duration": 911,
    "start_time": "2021-10-05T01:08:31.821Z"
   },
   {
    "duration": 41,
    "start_time": "2021-10-05T01:08:32.734Z"
   },
   {
    "duration": 12,
    "start_time": "2021-10-05T01:08:32.777Z"
   },
   {
    "duration": 36,
    "start_time": "2021-10-05T01:08:32.791Z"
   },
   {
    "duration": 40,
    "start_time": "2021-10-05T01:08:32.828Z"
   },
   {
    "duration": 24,
    "start_time": "2021-10-05T01:08:32.870Z"
   },
   {
    "duration": 57,
    "start_time": "2021-10-05T01:08:32.896Z"
   },
   {
    "duration": 27,
    "start_time": "2021-10-05T01:08:32.955Z"
   },
   {
    "duration": 73,
    "start_time": "2021-10-05T01:08:32.984Z"
   },
   {
    "duration": 26,
    "start_time": "2021-10-05T01:08:33.059Z"
   },
   {
    "duration": 14,
    "start_time": "2021-10-05T01:08:33.086Z"
   },
   {
    "duration": 48,
    "start_time": "2021-10-05T01:08:33.102Z"
   },
   {
    "duration": 32,
    "start_time": "2021-10-05T01:08:33.152Z"
   },
   {
    "duration": 17,
    "start_time": "2021-10-05T01:08:33.186Z"
   },
   {
    "duration": 46,
    "start_time": "2021-10-05T01:08:33.205Z"
   },
   {
    "duration": 8,
    "start_time": "2021-10-05T01:08:33.253Z"
   },
   {
    "duration": 20,
    "start_time": "2021-10-05T01:08:33.262Z"
   },
   {
    "duration": 17,
    "start_time": "2021-10-05T01:08:33.283Z"
   },
   {
    "duration": 16,
    "start_time": "2021-10-05T01:08:33.301Z"
   },
   {
    "duration": 52,
    "start_time": "2021-10-05T01:08:33.319Z"
   },
   {
    "duration": 24,
    "start_time": "2021-10-05T01:08:33.373Z"
   },
   {
    "duration": 54,
    "start_time": "2021-10-05T01:08:33.399Z"
   },
   {
    "duration": 28,
    "start_time": "2021-10-05T01:08:33.456Z"
   },
   {
    "duration": 15,
    "start_time": "2021-10-05T01:08:57.141Z"
   },
   {
    "duration": 13,
    "start_time": "2021-10-05T01:11:16.499Z"
   },
   {
    "duration": 834,
    "start_time": "2021-10-05T01:11:22.994Z"
   },
   {
    "duration": 39,
    "start_time": "2021-10-05T01:11:23.830Z"
   },
   {
    "duration": 10,
    "start_time": "2021-10-05T01:11:23.871Z"
   },
   {
    "duration": 29,
    "start_time": "2021-10-05T01:11:23.883Z"
   },
   {
    "duration": 46,
    "start_time": "2021-10-05T01:11:23.914Z"
   },
   {
    "duration": 21,
    "start_time": "2021-10-05T01:11:23.962Z"
   },
   {
    "duration": 34,
    "start_time": "2021-10-05T01:11:23.984Z"
   },
   {
    "duration": 49,
    "start_time": "2021-10-05T01:11:24.021Z"
   },
   {
    "duration": 52,
    "start_time": "2021-10-05T01:11:24.071Z"
   },
   {
    "duration": 38,
    "start_time": "2021-10-05T01:11:24.125Z"
   },
   {
    "duration": 13,
    "start_time": "2021-10-05T01:11:24.164Z"
   },
   {
    "duration": 26,
    "start_time": "2021-10-05T01:11:24.179Z"
   },
   {
    "duration": 50,
    "start_time": "2021-10-05T01:11:24.207Z"
   },
   {
    "duration": 18,
    "start_time": "2021-10-05T01:11:24.258Z"
   },
   {
    "duration": 27,
    "start_time": "2021-10-05T01:11:24.277Z"
   },
   {
    "duration": 7,
    "start_time": "2021-10-05T01:11:24.305Z"
   },
   {
    "duration": 43,
    "start_time": "2021-10-05T01:11:24.313Z"
   },
   {
    "duration": 16,
    "start_time": "2021-10-05T01:11:24.358Z"
   },
   {
    "duration": 15,
    "start_time": "2021-10-05T01:11:24.375Z"
   },
   {
    "duration": 19,
    "start_time": "2021-10-05T01:11:24.391Z"
   },
   {
    "duration": 46,
    "start_time": "2021-10-05T01:11:24.411Z"
   },
   {
    "duration": 22,
    "start_time": "2021-10-05T01:11:24.459Z"
   },
   {
    "duration": 29,
    "start_time": "2021-10-05T01:11:24.484Z"
   },
   {
    "duration": 25,
    "start_time": "2021-10-05T01:13:55.156Z"
   },
   {
    "duration": 837,
    "start_time": "2021-10-05T01:14:27.306Z"
   },
   {
    "duration": 42,
    "start_time": "2021-10-05T01:14:28.145Z"
   },
   {
    "duration": 27,
    "start_time": "2021-10-05T01:14:28.189Z"
   },
   {
    "duration": 50,
    "start_time": "2021-10-05T01:14:28.219Z"
   },
   {
    "duration": 23,
    "start_time": "2021-10-05T01:14:28.271Z"
   },
   {
    "duration": 23,
    "start_time": "2021-10-05T01:14:28.296Z"
   },
   {
    "duration": 62,
    "start_time": "2021-10-05T01:14:28.321Z"
   },
   {
    "duration": 26,
    "start_time": "2021-10-05T01:14:28.385Z"
   },
   {
    "duration": 81,
    "start_time": "2021-10-05T01:14:28.414Z"
   },
   {
    "duration": 31,
    "start_time": "2021-10-05T01:14:28.497Z"
   },
   {
    "duration": 26,
    "start_time": "2021-10-05T01:14:28.530Z"
   },
   {
    "duration": 28,
    "start_time": "2021-10-05T01:14:28.558Z"
   },
   {
    "duration": 34,
    "start_time": "2021-10-05T01:14:28.587Z"
   },
   {
    "duration": 5223,
    "start_time": "2021-10-05T01:14:28.623Z"
   },
   {
    "duration": -304,
    "start_time": "2021-10-05T01:14:34.152Z"
   },
   {
    "duration": -305,
    "start_time": "2021-10-05T01:14:34.154Z"
   },
   {
    "duration": -310,
    "start_time": "2021-10-05T01:14:34.159Z"
   },
   {
    "duration": -311,
    "start_time": "2021-10-05T01:14:34.161Z"
   },
   {
    "duration": -314,
    "start_time": "2021-10-05T01:14:34.165Z"
   },
   {
    "duration": -314,
    "start_time": "2021-10-05T01:14:34.166Z"
   },
   {
    "duration": -315,
    "start_time": "2021-10-05T01:14:34.168Z"
   },
   {
    "duration": -569,
    "start_time": "2021-10-05T01:14:34.423Z"
   },
   {
    "duration": -573,
    "start_time": "2021-10-05T01:14:34.428Z"
   },
   {
    "duration": 889,
    "start_time": "2021-10-05T01:16:16.714Z"
   },
   {
    "duration": 39,
    "start_time": "2021-10-05T01:16:17.604Z"
   },
   {
    "duration": 23,
    "start_time": "2021-10-05T01:16:17.645Z"
   },
   {
    "duration": 29,
    "start_time": "2021-10-05T01:16:17.670Z"
   },
   {
    "duration": 22,
    "start_time": "2021-10-05T01:16:17.701Z"
   },
   {
    "duration": 40,
    "start_time": "2021-10-05T01:16:17.725Z"
   },
   {
    "duration": 35,
    "start_time": "2021-10-05T01:16:17.767Z"
   },
   {
    "duration": 46,
    "start_time": "2021-10-05T01:16:17.804Z"
   },
   {
    "duration": 50,
    "start_time": "2021-10-05T01:16:17.852Z"
   },
   {
    "duration": 24,
    "start_time": "2021-10-05T01:16:17.904Z"
   },
   {
    "duration": 13,
    "start_time": "2021-10-05T01:16:17.949Z"
   },
   {
    "duration": 25,
    "start_time": "2021-10-05T01:16:17.963Z"
   },
   {
    "duration": 30,
    "start_time": "2021-10-05T01:16:17.990Z"
   },
   {
    "duration": 38,
    "start_time": "2021-10-05T01:16:18.022Z"
   },
   {
    "duration": 25,
    "start_time": "2021-10-05T01:16:18.062Z"
   },
   {
    "duration": 7,
    "start_time": "2021-10-05T01:16:18.089Z"
   },
   {
    "duration": 20,
    "start_time": "2021-10-05T01:16:18.097Z"
   },
   {
    "duration": 42,
    "start_time": "2021-10-05T01:16:18.118Z"
   },
   {
    "duration": 17,
    "start_time": "2021-10-05T01:16:18.161Z"
   },
   {
    "duration": 21,
    "start_time": "2021-10-05T01:16:18.179Z"
   },
   {
    "duration": 21,
    "start_time": "2021-10-05T01:16:18.201Z"
   },
   {
    "duration": 48,
    "start_time": "2021-10-05T01:16:18.223Z"
   },
   {
    "duration": 29,
    "start_time": "2021-10-05T01:16:18.272Z"
   },
   {
    "duration": 4671,
    "start_time": "2021-10-05T01:22:02.766Z"
   },
   {
    "duration": 938,
    "start_time": "2021-10-05T01:22:21.353Z"
   },
   {
    "duration": 60,
    "start_time": "2021-10-05T01:22:22.294Z"
   },
   {
    "duration": 25,
    "start_time": "2021-10-05T01:22:22.356Z"
   },
   {
    "duration": 10,
    "start_time": "2021-10-05T01:22:22.384Z"
   },
   {
    "duration": 56,
    "start_time": "2021-10-05T01:22:22.396Z"
   },
   {
    "duration": 24,
    "start_time": "2021-10-05T01:22:22.454Z"
   },
   {
    "duration": 28,
    "start_time": "2021-10-05T01:22:22.480Z"
   },
   {
    "duration": 63,
    "start_time": "2021-10-05T01:22:22.510Z"
   },
   {
    "duration": 24,
    "start_time": "2021-10-05T01:22:22.576Z"
   },
   {
    "duration": 69,
    "start_time": "2021-10-05T01:22:22.602Z"
   },
   {
    "duration": 25,
    "start_time": "2021-10-05T01:22:22.672Z"
   },
   {
    "duration": 12,
    "start_time": "2021-10-05T01:22:22.699Z"
   },
   {
    "duration": 48,
    "start_time": "2021-10-05T01:22:22.713Z"
   },
   {
    "duration": 32,
    "start_time": "2021-10-05T01:22:22.762Z"
   },
   {
    "duration": 17,
    "start_time": "2021-10-05T01:22:22.796Z"
   },
   {
    "duration": 53,
    "start_time": "2021-10-05T01:22:22.814Z"
   },
   {
    "duration": 7,
    "start_time": "2021-10-05T01:22:22.869Z"
   },
   {
    "duration": 19,
    "start_time": "2021-10-05T01:22:22.877Z"
   },
   {
    "duration": 15,
    "start_time": "2021-10-05T01:22:22.897Z"
   },
   {
    "duration": 36,
    "start_time": "2021-10-05T01:22:22.914Z"
   },
   {
    "duration": 21,
    "start_time": "2021-10-05T01:22:22.951Z"
   },
   {
    "duration": 21,
    "start_time": "2021-10-05T01:22:22.973Z"
   },
   {
    "duration": 21,
    "start_time": "2021-10-05T01:22:22.996Z"
   },
   {
    "duration": 55,
    "start_time": "2021-10-05T01:22:23.018Z"
   },
   {
    "duration": 950,
    "start_time": "2021-10-05T01:28:05.644Z"
   },
   {
    "duration": 53,
    "start_time": "2021-10-05T01:28:06.596Z"
   },
   {
    "duration": 293,
    "start_time": "2021-10-05T01:28:06.650Z"
   },
   {
    "duration": -135,
    "start_time": "2021-10-05T01:28:07.080Z"
   },
   {
    "duration": -160,
    "start_time": "2021-10-05T01:28:07.106Z"
   },
   {
    "duration": -163,
    "start_time": "2021-10-05T01:28:07.110Z"
   },
   {
    "duration": -251,
    "start_time": "2021-10-05T01:28:07.199Z"
   },
   {
    "duration": -253,
    "start_time": "2021-10-05T01:28:07.201Z"
   },
   {
    "duration": -254,
    "start_time": "2021-10-05T01:28:07.203Z"
   },
   {
    "duration": -255,
    "start_time": "2021-10-05T01:28:07.205Z"
   },
   {
    "duration": -256,
    "start_time": "2021-10-05T01:28:07.207Z"
   },
   {
    "duration": -257,
    "start_time": "2021-10-05T01:28:07.209Z"
   },
   {
    "duration": -258,
    "start_time": "2021-10-05T01:28:07.210Z"
   },
   {
    "duration": -259,
    "start_time": "2021-10-05T01:28:07.212Z"
   },
   {
    "duration": -259,
    "start_time": "2021-10-05T01:28:07.213Z"
   },
   {
    "duration": -260,
    "start_time": "2021-10-05T01:28:07.215Z"
   },
   {
    "duration": -261,
    "start_time": "2021-10-05T01:28:07.216Z"
   },
   {
    "duration": -262,
    "start_time": "2021-10-05T01:28:07.218Z"
   },
   {
    "duration": -262,
    "start_time": "2021-10-05T01:28:07.219Z"
   },
   {
    "duration": -268,
    "start_time": "2021-10-05T01:28:07.226Z"
   },
   {
    "duration": -275,
    "start_time": "2021-10-05T01:28:07.233Z"
   },
   {
    "duration": -276,
    "start_time": "2021-10-05T01:28:07.235Z"
   },
   {
    "duration": -277,
    "start_time": "2021-10-05T01:28:07.237Z"
   },
   {
    "duration": -278,
    "start_time": "2021-10-05T01:28:07.239Z"
   },
   {
    "duration": 1622,
    "start_time": "2021-10-05T01:28:31.548Z"
   },
   {
    "duration": 39,
    "start_time": "2021-10-05T01:28:33.172Z"
   },
   {
    "duration": 11,
    "start_time": "2021-10-05T01:28:33.212Z"
   },
   {
    "duration": 51,
    "start_time": "2021-10-05T01:28:33.225Z"
   },
   {
    "duration": 23,
    "start_time": "2021-10-05T01:28:33.278Z"
   },
   {
    "duration": 50,
    "start_time": "2021-10-05T01:28:33.303Z"
   },
   {
    "duration": 38,
    "start_time": "2021-10-05T01:28:33.355Z"
   },
   {
    "duration": 24,
    "start_time": "2021-10-05T01:28:33.396Z"
   },
   {
    "duration": 72,
    "start_time": "2021-10-05T01:28:33.422Z"
   },
   {
    "duration": 27,
    "start_time": "2021-10-05T01:28:33.495Z"
   },
   {
    "duration": 31,
    "start_time": "2021-10-05T01:28:33.524Z"
   },
   {
    "duration": 28,
    "start_time": "2021-10-05T01:28:33.557Z"
   },
   {
    "duration": 32,
    "start_time": "2021-10-05T01:28:33.586Z"
   },
   {
    "duration": 4715,
    "start_time": "2021-10-05T01:28:33.620Z"
   },
   {
    "duration": -338,
    "start_time": "2021-10-05T01:28:38.676Z"
   },
   {
    "duration": -341,
    "start_time": "2021-10-05T01:28:38.680Z"
   },
   {
    "duration": -351,
    "start_time": "2021-10-05T01:28:38.691Z"
   },
   {
    "duration": -355,
    "start_time": "2021-10-05T01:28:38.696Z"
   },
   {
    "duration": -356,
    "start_time": "2021-10-05T01:28:38.698Z"
   },
   {
    "duration": -367,
    "start_time": "2021-10-05T01:28:38.710Z"
   },
   {
    "duration": -482,
    "start_time": "2021-10-05T01:28:38.826Z"
   },
   {
    "duration": -483,
    "start_time": "2021-10-05T01:28:38.828Z"
   },
   {
    "duration": -485,
    "start_time": "2021-10-05T01:28:38.831Z"
   },
   {
    "duration": -493,
    "start_time": "2021-10-05T01:28:38.840Z"
   },
   {
    "duration": 909,
    "start_time": "2021-10-05T01:29:15.020Z"
   },
   {
    "duration": 41,
    "start_time": "2021-10-05T01:29:15.931Z"
   },
   {
    "duration": 11,
    "start_time": "2021-10-05T01:29:15.974Z"
   },
   {
    "duration": 27,
    "start_time": "2021-10-05T01:29:15.987Z"
   },
   {
    "duration": 49,
    "start_time": "2021-10-05T01:29:16.016Z"
   },
   {
    "duration": 23,
    "start_time": "2021-10-05T01:29:16.067Z"
   },
   {
    "duration": 37,
    "start_time": "2021-10-05T01:29:16.092Z"
   },
   {
    "duration": 40,
    "start_time": "2021-10-05T01:29:16.131Z"
   },
   {
    "duration": 50,
    "start_time": "2021-10-05T01:29:16.174Z"
   },
   {
    "duration": 41,
    "start_time": "2021-10-05T01:29:16.226Z"
   },
   {
    "duration": 15,
    "start_time": "2021-10-05T01:29:16.269Z"
   },
   {
    "duration": 30,
    "start_time": "2021-10-05T01:29:16.285Z"
   },
   {
    "duration": 57,
    "start_time": "2021-10-05T01:29:16.317Z"
   },
   {
    "duration": 18,
    "start_time": "2021-10-05T01:29:16.375Z"
   },
   {
    "duration": 27,
    "start_time": "2021-10-05T01:29:16.395Z"
   },
   {
    "duration": 27,
    "start_time": "2021-10-05T01:29:16.423Z"
   },
   {
    "duration": 15,
    "start_time": "2021-10-05T01:29:16.452Z"
   },
   {
    "duration": 15,
    "start_time": "2021-10-05T01:29:16.469Z"
   },
   {
    "duration": 15,
    "start_time": "2021-10-05T01:29:16.486Z"
   },
   {
    "duration": 50,
    "start_time": "2021-10-05T01:29:16.502Z"
   },
   {
    "duration": 25,
    "start_time": "2021-10-05T01:29:16.553Z"
   },
   {
    "duration": 22,
    "start_time": "2021-10-05T01:29:16.579Z"
   },
   {
    "duration": 48,
    "start_time": "2021-10-05T01:29:16.602Z"
   },
   {
    "duration": 5096,
    "start_time": "2021-10-05T01:29:16.652Z"
   },
   {
    "duration": 30,
    "start_time": "2021-10-05T02:02:43.278Z"
   },
   {
    "duration": 29,
    "start_time": "2021-10-05T02:05:20.748Z"
   },
   {
    "duration": 32,
    "start_time": "2021-10-05T02:14:51.640Z"
   },
   {
    "duration": 24,
    "start_time": "2021-10-05T03:38:19.403Z"
   },
   {
    "duration": 73,
    "start_time": "2021-10-05T03:41:32.997Z"
   },
   {
    "duration": 60,
    "start_time": "2021-10-05T03:41:36.502Z"
   },
   {
    "duration": 973,
    "start_time": "2021-10-05T04:50:40.462Z"
   },
   {
    "duration": 40,
    "start_time": "2021-10-05T04:50:41.437Z"
   },
   {
    "duration": 33,
    "start_time": "2021-10-05T04:50:41.478Z"
   },
   {
    "duration": 191,
    "start_time": "2021-10-05T04:50:41.513Z"
   },
   {
    "duration": 16,
    "start_time": "2021-10-05T04:50:41.707Z"
   },
   {
    "duration": 30,
    "start_time": "2021-10-05T04:50:41.724Z"
   },
   {
    "duration": 23,
    "start_time": "2021-10-05T04:50:41.755Z"
   },
   {
    "duration": 24,
    "start_time": "2021-10-05T04:50:41.780Z"
   },
   {
    "duration": 57,
    "start_time": "2021-10-05T04:50:41.806Z"
   },
   {
    "duration": 25,
    "start_time": "2021-10-05T04:50:41.865Z"
   },
   {
    "duration": 68,
    "start_time": "2021-10-05T04:50:41.891Z"
   },
   {
    "duration": 26,
    "start_time": "2021-10-05T04:50:41.961Z"
   },
   {
    "duration": 15,
    "start_time": "2021-10-05T04:50:41.988Z"
   },
   {
    "duration": 46,
    "start_time": "2021-10-05T04:50:42.005Z"
   },
   {
    "duration": 38,
    "start_time": "2021-10-05T04:50:42.053Z"
   },
   {
    "duration": 15,
    "start_time": "2021-10-05T04:50:42.092Z"
   },
   {
    "duration": 46,
    "start_time": "2021-10-05T04:50:42.109Z"
   },
   {
    "duration": 7,
    "start_time": "2021-10-05T04:50:42.157Z"
   },
   {
    "duration": 16,
    "start_time": "2021-10-05T04:50:42.166Z"
   },
   {
    "duration": 16,
    "start_time": "2021-10-05T04:50:42.183Z"
   },
   {
    "duration": 14,
    "start_time": "2021-10-05T04:50:42.201Z"
   },
   {
    "duration": 52,
    "start_time": "2021-10-05T04:50:42.217Z"
   },
   {
    "duration": 25,
    "start_time": "2021-10-05T04:50:42.271Z"
   },
   {
    "duration": 22,
    "start_time": "2021-10-05T04:50:42.298Z"
   },
   {
    "duration": 49,
    "start_time": "2021-10-05T04:50:42.321Z"
   },
   {
    "duration": 28,
    "start_time": "2021-10-05T04:50:42.371Z"
   },
   {
    "duration": 32,
    "start_time": "2021-10-05T04:50:42.401Z"
   },
   {
    "duration": 437,
    "start_time": "2021-10-05T04:50:42.435Z"
   },
   {
    "duration": 540,
    "start_time": "2021-10-05T05:08:43.746Z"
   },
   {
    "duration": 9,
    "start_time": "2021-10-05T05:09:41.163Z"
   },
   {
    "duration": 14,
    "start_time": "2021-10-05T05:17:40.814Z"
   },
   {
    "duration": 14,
    "start_time": "2021-10-05T05:19:13.135Z"
   },
   {
    "duration": 485,
    "start_time": "2021-10-05T05:20:56.941Z"
   },
   {
    "duration": 554,
    "start_time": "2021-10-05T05:21:37.600Z"
   },
   {
    "duration": 469,
    "start_time": "2021-10-05T05:23:25.900Z"
   },
   {
    "duration": 465,
    "start_time": "2021-10-05T05:24:10.813Z"
   },
   {
    "duration": 522,
    "start_time": "2021-10-06T21:26:54.700Z"
   },
   {
    "duration": 1937,
    "start_time": "2021-10-06T21:27:45.567Z"
   },
   {
    "duration": 65,
    "start_time": "2021-10-06T21:27:47.508Z"
   },
   {
    "duration": 55,
    "start_time": "2021-10-06T21:27:47.603Z"
   },
   {
    "duration": 205,
    "start_time": "2021-10-06T21:27:47.661Z"
   },
   {
    "duration": 37,
    "start_time": "2021-10-06T21:27:47.869Z"
   },
   {
    "duration": 63,
    "start_time": "2021-10-06T21:27:47.909Z"
   },
   {
    "duration": 52,
    "start_time": "2021-10-06T21:27:47.974Z"
   },
   {
    "duration": 33,
    "start_time": "2021-10-06T21:27:48.029Z"
   },
   {
    "duration": 78,
    "start_time": "2021-10-06T21:27:48.064Z"
   },
   {
    "duration": 34,
    "start_time": "2021-10-06T21:27:48.145Z"
   },
   {
    "duration": 81,
    "start_time": "2021-10-06T21:27:48.181Z"
   },
   {
    "duration": 58,
    "start_time": "2021-10-06T21:27:48.264Z"
   },
   {
    "duration": 22,
    "start_time": "2021-10-06T21:27:48.325Z"
   },
   {
    "duration": 62,
    "start_time": "2021-10-06T21:27:48.350Z"
   },
   {
    "duration": 49,
    "start_time": "2021-10-06T21:27:48.415Z"
   },
   {
    "duration": 43,
    "start_time": "2021-10-06T21:27:48.466Z"
   },
   {
    "duration": 37,
    "start_time": "2021-10-06T21:27:48.512Z"
   },
   {
    "duration": 11,
    "start_time": "2021-10-06T21:27:48.551Z"
   },
   {
    "duration": 58,
    "start_time": "2021-10-06T21:27:48.564Z"
   },
   {
    "duration": 28,
    "start_time": "2021-10-06T21:27:48.624Z"
   },
   {
    "duration": 50,
    "start_time": "2021-10-06T21:27:48.654Z"
   },
   {
    "duration": 38,
    "start_time": "2021-10-06T21:27:48.706Z"
   },
   {
    "duration": 66,
    "start_time": "2021-10-06T21:27:48.748Z"
   },
   {
    "duration": 39,
    "start_time": "2021-10-06T21:27:48.816Z"
   },
   {
    "duration": 67,
    "start_time": "2021-10-06T21:27:48.857Z"
   },
   {
    "duration": 50,
    "start_time": "2021-10-06T21:27:48.926Z"
   },
   {
    "duration": 54,
    "start_time": "2021-10-06T21:27:49.001Z"
   },
   {
    "duration": 1020,
    "start_time": "2021-10-06T21:27:49.057Z"
   },
   {
    "duration": 28,
    "start_time": "2021-10-06T21:27:50.080Z"
   },
   {
    "duration": 19,
    "start_time": "2021-10-06T21:27:50.110Z"
   },
   {
    "duration": 905,
    "start_time": "2021-10-06T21:27:50.133Z"
   },
   {
    "duration": 380,
    "start_time": "2021-10-06T21:27:51.041Z"
   },
   {
    "duration": 11,
    "start_time": "2021-10-06T21:36:42.667Z"
   },
   {
    "duration": 12,
    "start_time": "2021-10-06T21:36:47.181Z"
   },
   {
    "duration": 381,
    "start_time": "2021-10-06T21:42:01.306Z"
   },
   {
    "duration": 272,
    "start_time": "2021-10-06T21:48:48.892Z"
   },
   {
    "duration": 1179,
    "start_time": "2021-10-06T21:50:33.436Z"
   },
   {
    "duration": 61,
    "start_time": "2021-10-06T21:50:34.617Z"
   },
   {
    "duration": 53,
    "start_time": "2021-10-06T21:50:34.701Z"
   },
   {
    "duration": 197,
    "start_time": "2021-10-06T21:50:34.757Z"
   },
   {
    "duration": 17,
    "start_time": "2021-10-06T21:50:34.956Z"
   },
   {
    "duration": 59,
    "start_time": "2021-10-06T21:50:34.975Z"
   },
   {
    "duration": 36,
    "start_time": "2021-10-06T21:50:35.037Z"
   },
   {
    "duration": 56,
    "start_time": "2021-10-06T21:50:35.076Z"
   },
   {
    "duration": 72,
    "start_time": "2021-10-06T21:50:35.135Z"
   },
   {
    "duration": 36,
    "start_time": "2021-10-06T21:50:35.210Z"
   },
   {
    "duration": 88,
    "start_time": "2021-10-06T21:50:35.249Z"
   },
   {
    "duration": 41,
    "start_time": "2021-10-06T21:50:35.341Z"
   },
   {
    "duration": 38,
    "start_time": "2021-10-06T21:50:35.384Z"
   },
   {
    "duration": 40,
    "start_time": "2021-10-06T21:50:35.425Z"
   },
   {
    "duration": 55,
    "start_time": "2021-10-06T21:50:35.500Z"
   },
   {
    "duration": 51,
    "start_time": "2021-10-06T21:50:35.558Z"
   },
   {
    "duration": 40,
    "start_time": "2021-10-06T21:50:35.612Z"
   },
   {
    "duration": 13,
    "start_time": "2021-10-06T21:50:35.655Z"
   },
   {
    "duration": 60,
    "start_time": "2021-10-06T21:50:35.670Z"
   },
   {
    "duration": 30,
    "start_time": "2021-10-06T21:50:35.733Z"
   },
   {
    "duration": 29,
    "start_time": "2021-10-06T21:50:35.801Z"
   },
   {
    "duration": 72,
    "start_time": "2021-10-06T21:50:35.833Z"
   },
   {
    "duration": 42,
    "start_time": "2021-10-06T21:50:35.912Z"
   },
   {
    "duration": 75,
    "start_time": "2021-10-06T21:50:35.957Z"
   },
   {
    "duration": 70,
    "start_time": "2021-10-06T21:50:36.035Z"
   },
   {
    "duration": 55,
    "start_time": "2021-10-06T21:50:36.108Z"
   },
   {
    "duration": 80,
    "start_time": "2021-10-06T21:50:36.166Z"
   },
   {
    "duration": 1057,
    "start_time": "2021-10-06T21:50:36.249Z"
   },
   {
    "duration": 26,
    "start_time": "2021-10-06T21:50:37.309Z"
   },
   {
    "duration": 23,
    "start_time": "2021-10-06T21:50:37.338Z"
   },
   {
    "duration": 899,
    "start_time": "2021-10-06T21:50:37.402Z"
   },
   {
    "duration": 31,
    "start_time": "2021-10-06T21:50:38.304Z"
   },
   {
    "duration": 669,
    "start_time": "2021-10-06T21:50:38.337Z"
   },
   {
    "duration": -175,
    "start_time": "2021-10-06T21:50:39.183Z"
   },
   {
    "duration": 96,
    "start_time": "2021-10-06T21:53:03.822Z"
   },
   {
    "duration": 302,
    "start_time": "2021-10-06T21:53:08.119Z"
   },
   {
    "duration": 14,
    "start_time": "2021-10-06T21:54:03.735Z"
   },
   {
    "duration": 1208,
    "start_time": "2021-10-06T21:54:13.003Z"
   },
   {
    "duration": 62,
    "start_time": "2021-10-06T21:54:14.214Z"
   },
   {
    "duration": 70,
    "start_time": "2021-10-06T21:54:14.279Z"
   },
   {
    "duration": 187,
    "start_time": "2021-10-06T21:54:14.352Z"
   },
   {
    "duration": 16,
    "start_time": "2021-10-06T21:54:14.542Z"
   },
   {
    "duration": 67,
    "start_time": "2021-10-06T21:54:14.560Z"
   },
   {
    "duration": 36,
    "start_time": "2021-10-06T21:54:14.629Z"
   },
   {
    "duration": 53,
    "start_time": "2021-10-06T21:54:14.669Z"
   },
   {
    "duration": 52,
    "start_time": "2021-10-06T21:54:14.727Z"
   },
   {
    "duration": 46,
    "start_time": "2021-10-06T21:54:14.782Z"
   },
   {
    "duration": 88,
    "start_time": "2021-10-06T21:54:14.831Z"
   },
   {
    "duration": 39,
    "start_time": "2021-10-06T21:54:14.922Z"
   },
   {
    "duration": 44,
    "start_time": "2021-10-06T21:54:14.963Z"
   },
   {
    "duration": 47,
    "start_time": "2021-10-06T21:54:15.010Z"
   },
   {
    "duration": 74,
    "start_time": "2021-10-06T21:54:15.059Z"
   },
   {
    "duration": 27,
    "start_time": "2021-10-06T21:54:15.136Z"
   },
   {
    "duration": 60,
    "start_time": "2021-10-06T21:54:15.165Z"
   },
   {
    "duration": 11,
    "start_time": "2021-10-06T21:54:15.227Z"
   },
   {
    "duration": 26,
    "start_time": "2021-10-06T21:54:15.240Z"
   },
   {
    "duration": 52,
    "start_time": "2021-10-06T21:54:15.268Z"
   },
   {
    "duration": 25,
    "start_time": "2021-10-06T21:54:15.322Z"
   },
   {
    "duration": 64,
    "start_time": "2021-10-06T21:54:15.350Z"
   },
   {
    "duration": 42,
    "start_time": "2021-10-06T21:54:15.418Z"
   },
   {
    "duration": 59,
    "start_time": "2021-10-06T21:54:15.462Z"
   },
   {
    "duration": 48,
    "start_time": "2021-10-06T21:54:15.524Z"
   },
   {
    "duration": 70,
    "start_time": "2021-10-06T21:54:15.575Z"
   },
   {
    "duration": 73,
    "start_time": "2021-10-06T21:54:15.647Z"
   },
   {
    "duration": 1017,
    "start_time": "2021-10-06T21:54:15.723Z"
   },
   {
    "duration": 25,
    "start_time": "2021-10-06T21:54:16.743Z"
   },
   {
    "duration": 48,
    "start_time": "2021-10-06T21:54:16.771Z"
   },
   {
    "duration": 881,
    "start_time": "2021-10-06T21:54:16.822Z"
   },
   {
    "duration": 9,
    "start_time": "2021-10-06T21:54:17.706Z"
   },
   {
    "duration": 417,
    "start_time": "2021-10-06T21:54:17.717Z"
   },
   {
    "duration": -217,
    "start_time": "2021-10-06T21:54:18.353Z"
   },
   {
    "duration": -225,
    "start_time": "2021-10-06T21:54:18.362Z"
   },
   {
    "duration": 297,
    "start_time": "2021-10-06T21:54:38.338Z"
   },
   {
    "duration": 1222,
    "start_time": "2021-10-06T21:54:55.987Z"
   },
   {
    "duration": 60,
    "start_time": "2021-10-06T21:54:57.212Z"
   },
   {
    "duration": 70,
    "start_time": "2021-10-06T21:54:57.275Z"
   },
   {
    "duration": 191,
    "start_time": "2021-10-06T21:54:57.347Z"
   },
   {
    "duration": 17,
    "start_time": "2021-10-06T21:54:57.540Z"
   },
   {
    "duration": 71,
    "start_time": "2021-10-06T21:54:57.560Z"
   },
   {
    "duration": 34,
    "start_time": "2021-10-06T21:54:57.634Z"
   },
   {
    "duration": 55,
    "start_time": "2021-10-06T21:54:57.672Z"
   },
   {
    "duration": 76,
    "start_time": "2021-10-06T21:54:57.731Z"
   },
   {
    "duration": 36,
    "start_time": "2021-10-06T21:54:57.810Z"
   },
   {
    "duration": 99,
    "start_time": "2021-10-06T21:54:57.849Z"
   },
   {
    "duration": 59,
    "start_time": "2021-10-06T21:54:57.951Z"
   },
   {
    "duration": 23,
    "start_time": "2021-10-06T21:54:58.013Z"
   },
   {
    "duration": 67,
    "start_time": "2021-10-06T21:54:58.039Z"
   },
   {
    "duration": 51,
    "start_time": "2021-10-06T21:54:58.109Z"
   },
   {
    "duration": 52,
    "start_time": "2021-10-06T21:54:58.164Z"
   },
   {
    "duration": 39,
    "start_time": "2021-10-06T21:54:58.220Z"
   },
   {
    "duration": 12,
    "start_time": "2021-10-06T21:54:58.262Z"
   },
   {
    "duration": 27,
    "start_time": "2021-10-06T21:54:58.301Z"
   },
   {
    "duration": 28,
    "start_time": "2021-10-06T21:54:58.331Z"
   },
   {
    "duration": 61,
    "start_time": "2021-10-06T21:54:58.361Z"
   },
   {
    "duration": 38,
    "start_time": "2021-10-06T21:54:58.424Z"
   },
   {
    "duration": 70,
    "start_time": "2021-10-06T21:54:58.467Z"
   },
   {
    "duration": 39,
    "start_time": "2021-10-06T21:54:58.539Z"
   },
   {
    "duration": 64,
    "start_time": "2021-10-06T21:54:58.580Z"
   },
   {
    "duration": 81,
    "start_time": "2021-10-06T21:54:58.646Z"
   },
   {
    "duration": 71,
    "start_time": "2021-10-06T21:54:58.729Z"
   },
   {
    "duration": 1011,
    "start_time": "2021-10-06T21:54:58.803Z"
   },
   {
    "duration": 22,
    "start_time": "2021-10-06T21:54:59.817Z"
   },
   {
    "duration": 22,
    "start_time": "2021-10-06T21:54:59.842Z"
   },
   {
    "duration": 913,
    "start_time": "2021-10-06T21:54:59.867Z"
   },
   {
    "duration": 19,
    "start_time": "2021-10-06T21:55:00.782Z"
   },
   {
    "duration": 410,
    "start_time": "2021-10-06T21:55:00.803Z"
   },
   {
    "duration": -145,
    "start_time": "2021-10-06T21:55:01.361Z"
   },
   {
    "duration": -147,
    "start_time": "2021-10-06T21:55:01.365Z"
   },
   {
    "duration": 305,
    "start_time": "2021-10-06T21:55:22.023Z"
   },
   {
    "duration": 1172,
    "start_time": "2021-10-06T21:55:29.044Z"
   },
   {
    "duration": 85,
    "start_time": "2021-10-06T21:55:30.218Z"
   },
   {
    "duration": 52,
    "start_time": "2021-10-06T21:55:30.306Z"
   },
   {
    "duration": 211,
    "start_time": "2021-10-06T21:55:30.361Z"
   },
   {
    "duration": 30,
    "start_time": "2021-10-06T21:55:30.574Z"
   },
   {
    "duration": 44,
    "start_time": "2021-10-06T21:55:30.606Z"
   },
   {
    "duration": 58,
    "start_time": "2021-10-06T21:55:30.652Z"
   },
   {
    "duration": 36,
    "start_time": "2021-10-06T21:55:30.713Z"
   },
   {
    "duration": 73,
    "start_time": "2021-10-06T21:55:30.752Z"
   },
   {
    "duration": 36,
    "start_time": "2021-10-06T21:55:30.827Z"
   },
   {
    "duration": 96,
    "start_time": "2021-10-06T21:55:30.865Z"
   },
   {
    "duration": 48,
    "start_time": "2021-10-06T21:55:30.963Z"
   },
   {
    "duration": 21,
    "start_time": "2021-10-06T21:55:31.013Z"
   },
   {
    "duration": 35,
    "start_time": "2021-10-06T21:55:31.036Z"
   },
   {
    "duration": 76,
    "start_time": "2021-10-06T21:55:31.073Z"
   },
   {
    "duration": 24,
    "start_time": "2021-10-06T21:55:31.151Z"
   },
   {
    "duration": 60,
    "start_time": "2021-10-06T21:55:31.177Z"
   },
   {
    "duration": 11,
    "start_time": "2021-10-06T21:55:31.239Z"
   },
   {
    "duration": 54,
    "start_time": "2021-10-06T21:55:31.252Z"
   },
   {
    "duration": 28,
    "start_time": "2021-10-06T21:55:31.309Z"
   },
   {
    "duration": 27,
    "start_time": "2021-10-06T21:55:31.339Z"
   },
   {
    "duration": 39,
    "start_time": "2021-10-06T21:55:31.400Z"
   },
   {
    "duration": 61,
    "start_time": "2021-10-06T21:55:31.444Z"
   },
   {
    "duration": 40,
    "start_time": "2021-10-06T21:55:31.508Z"
   },
   {
    "duration": 69,
    "start_time": "2021-10-06T21:55:31.551Z"
   },
   {
    "duration": 51,
    "start_time": "2021-10-06T21:55:31.623Z"
   },
   {
    "duration": 73,
    "start_time": "2021-10-06T21:55:31.677Z"
   },
   {
    "duration": 1015,
    "start_time": "2021-10-06T21:55:31.752Z"
   },
   {
    "duration": 34,
    "start_time": "2021-10-06T21:55:32.770Z"
   },
   {
    "duration": 30,
    "start_time": "2021-10-06T21:55:32.807Z"
   },
   {
    "duration": 910,
    "start_time": "2021-10-06T21:55:32.840Z"
   },
   {
    "duration": 9,
    "start_time": "2021-10-06T21:55:33.752Z"
   },
   {
    "duration": 1429,
    "start_time": "2021-10-06T21:55:33.763Z"
   },
   {
    "duration": -1595,
    "start_time": "2021-10-06T21:55:36.789Z"
   },
   {
    "duration": -1597,
    "start_time": "2021-10-06T21:55:36.793Z"
   },
   {
    "duration": 1153,
    "start_time": "2021-10-06T21:56:15.247Z"
   },
   {
    "duration": 63,
    "start_time": "2021-10-06T21:56:16.402Z"
   },
   {
    "duration": 75,
    "start_time": "2021-10-06T21:56:16.468Z"
   },
   {
    "duration": 193,
    "start_time": "2021-10-06T21:56:16.545Z"
   },
   {
    "duration": 16,
    "start_time": "2021-10-06T21:56:16.740Z"
   },
   {
    "duration": 62,
    "start_time": "2021-10-06T21:56:16.758Z"
   },
   {
    "duration": 34,
    "start_time": "2021-10-06T21:56:16.823Z"
   },
   {
    "duration": 52,
    "start_time": "2021-10-06T21:56:16.860Z"
   },
   {
    "duration": 49,
    "start_time": "2021-10-06T21:56:16.916Z"
   },
   {
    "duration": 54,
    "start_time": "2021-10-06T21:56:16.968Z"
   },
   {
    "duration": 79,
    "start_time": "2021-10-06T21:56:17.024Z"
   },
   {
    "duration": 39,
    "start_time": "2021-10-06T21:56:17.105Z"
   },
   {
    "duration": 23,
    "start_time": "2021-10-06T21:56:17.146Z"
   },
   {
    "duration": 64,
    "start_time": "2021-10-06T21:56:17.171Z"
   },
   {
    "duration": 67,
    "start_time": "2021-10-06T21:56:17.237Z"
   },
   {
    "duration": 26,
    "start_time": "2021-10-06T21:56:17.306Z"
   },
   {
    "duration": 38,
    "start_time": "2021-10-06T21:56:17.334Z"
   },
   {
    "duration": 33,
    "start_time": "2021-10-06T21:56:17.374Z"
   },
   {
    "duration": 29,
    "start_time": "2021-10-06T21:56:17.410Z"
   },
   {
    "duration": 30,
    "start_time": "2021-10-06T21:56:17.441Z"
   },
   {
    "duration": 27,
    "start_time": "2021-10-06T21:56:17.500Z"
   },
   {
    "duration": 36,
    "start_time": "2021-10-06T21:56:17.529Z"
   },
   {
    "duration": 72,
    "start_time": "2021-10-06T21:56:17.567Z"
   },
   {
    "duration": 40,
    "start_time": "2021-10-06T21:56:17.641Z"
   },
   {
    "duration": 60,
    "start_time": "2021-10-06T21:56:17.683Z"
   },
   {
    "duration": 88,
    "start_time": "2021-10-06T21:56:17.746Z"
   },
   {
    "duration": 67,
    "start_time": "2021-10-06T21:56:17.840Z"
   },
   {
    "duration": 1038,
    "start_time": "2021-10-06T21:56:17.909Z"
   },
   {
    "duration": 20,
    "start_time": "2021-10-06T21:56:18.949Z"
   },
   {
    "duration": 43,
    "start_time": "2021-10-06T21:56:18.971Z"
   },
   {
    "duration": 888,
    "start_time": "2021-10-06T21:56:19.016Z"
   },
   {
    "duration": 9,
    "start_time": "2021-10-06T21:56:19.906Z"
   },
   {
    "duration": 430,
    "start_time": "2021-10-06T21:56:19.917Z"
   },
   {
    "duration": -127,
    "start_time": "2021-10-06T21:56:20.477Z"
   },
   {
    "duration": -130,
    "start_time": "2021-10-06T21:56:20.481Z"
   },
   {
    "duration": 1175,
    "start_time": "2021-10-06T21:58:20.813Z"
   },
   {
    "duration": 61,
    "start_time": "2021-10-06T21:58:21.991Z"
   },
   {
    "duration": 70,
    "start_time": "2021-10-06T21:58:22.055Z"
   },
   {
    "duration": 185,
    "start_time": "2021-10-06T21:58:22.127Z"
   },
   {
    "duration": 16,
    "start_time": "2021-10-06T21:58:22.315Z"
   },
   {
    "duration": 41,
    "start_time": "2021-10-06T21:58:22.334Z"
   },
   {
    "duration": 57,
    "start_time": "2021-10-06T21:58:22.377Z"
   },
   {
    "duration": 32,
    "start_time": "2021-10-06T21:58:22.438Z"
   },
   {
    "duration": 73,
    "start_time": "2021-10-06T21:58:22.473Z"
   },
   {
    "duration": 52,
    "start_time": "2021-10-06T21:58:22.548Z"
   },
   {
    "duration": 66,
    "start_time": "2021-10-06T21:58:22.603Z"
   },
   {
    "duration": 56,
    "start_time": "2021-10-06T21:58:22.671Z"
   },
   {
    "duration": 22,
    "start_time": "2021-10-06T21:58:22.729Z"
   },
   {
    "duration": 66,
    "start_time": "2021-10-06T21:58:22.754Z"
   },
   {
    "duration": 50,
    "start_time": "2021-10-06T21:58:22.823Z"
   },
   {
    "duration": 44,
    "start_time": "2021-10-06T21:58:22.875Z"
   },
   {
    "duration": 38,
    "start_time": "2021-10-06T21:58:22.921Z"
   },
   {
    "duration": 38,
    "start_time": "2021-10-06T21:58:22.961Z"
   },
   {
    "duration": 28,
    "start_time": "2021-10-06T21:58:23.002Z"
   },
   {
    "duration": 31,
    "start_time": "2021-10-06T21:58:23.033Z"
   },
   {
    "duration": 57,
    "start_time": "2021-10-06T21:58:23.067Z"
   },
   {
    "duration": 38,
    "start_time": "2021-10-06T21:58:23.127Z"
   },
   {
    "duration": 42,
    "start_time": "2021-10-06T21:58:23.204Z"
   },
   {
    "duration": 60,
    "start_time": "2021-10-06T21:58:23.249Z"
   },
   {
    "duration": 48,
    "start_time": "2021-10-06T21:58:23.312Z"
   },
   {
    "duration": 76,
    "start_time": "2021-10-06T21:58:23.362Z"
   },
   {
    "duration": 72,
    "start_time": "2021-10-06T21:58:23.440Z"
   },
   {
    "duration": 1140,
    "start_time": "2021-10-06T21:58:23.514Z"
   },
   {
    "duration": 20,
    "start_time": "2021-10-06T21:58:24.657Z"
   },
   {
    "duration": 33,
    "start_time": "2021-10-06T21:58:24.679Z"
   },
   {
    "duration": 888,
    "start_time": "2021-10-06T21:58:24.714Z"
   },
   {
    "duration": 9,
    "start_time": "2021-10-06T21:58:25.604Z"
   },
   {
    "duration": 422,
    "start_time": "2021-10-06T21:58:25.615Z"
   },
   {
    "duration": -229,
    "start_time": "2021-10-06T21:58:26.268Z"
   },
   {
    "duration": -231,
    "start_time": "2021-10-06T21:58:26.272Z"
   },
   {
    "duration": 1186,
    "start_time": "2021-10-06T21:58:58.858Z"
   },
   {
    "duration": 85,
    "start_time": "2021-10-06T21:59:00.047Z"
   },
   {
    "duration": 69,
    "start_time": "2021-10-06T21:59:00.135Z"
   },
   {
    "duration": 200,
    "start_time": "2021-10-06T21:59:00.207Z"
   },
   {
    "duration": 16,
    "start_time": "2021-10-06T21:59:00.410Z"
   },
   {
    "duration": 75,
    "start_time": "2021-10-06T21:59:00.429Z"
   },
   {
    "duration": 38,
    "start_time": "2021-10-06T21:59:00.508Z"
   },
   {
    "duration": 70,
    "start_time": "2021-10-06T21:59:00.550Z"
   },
   {
    "duration": 53,
    "start_time": "2021-10-06T21:59:00.626Z"
   },
   {
    "duration": 55,
    "start_time": "2021-10-06T21:59:00.682Z"
   },
   {
    "duration": 93,
    "start_time": "2021-10-06T21:59:00.740Z"
   },
   {
    "duration": 41,
    "start_time": "2021-10-06T21:59:00.835Z"
   },
   {
    "duration": 38,
    "start_time": "2021-10-06T21:59:00.878Z"
   },
   {
    "duration": 41,
    "start_time": "2021-10-06T21:59:00.919Z"
   },
   {
    "duration": 75,
    "start_time": "2021-10-06T21:59:00.962Z"
   },
   {
    "duration": 27,
    "start_time": "2021-10-06T21:59:01.040Z"
   },
   {
    "duration": 60,
    "start_time": "2021-10-06T21:59:01.069Z"
   },
   {
    "duration": 12,
    "start_time": "2021-10-06T21:59:01.131Z"
   },
   {
    "duration": 41,
    "start_time": "2021-10-06T21:59:01.145Z"
   },
   {
    "duration": 29,
    "start_time": "2021-10-06T21:59:01.201Z"
   },
   {
    "duration": 27,
    "start_time": "2021-10-06T21:59:01.233Z"
   },
   {
    "duration": 69,
    "start_time": "2021-10-06T21:59:01.263Z"
   },
   {
    "duration": 41,
    "start_time": "2021-10-06T21:59:01.335Z"
   },
   {
    "duration": 62,
    "start_time": "2021-10-06T21:59:01.378Z"
   },
   {
    "duration": 70,
    "start_time": "2021-10-06T21:59:01.443Z"
   },
   {
    "duration": 54,
    "start_time": "2021-10-06T21:59:01.516Z"
   },
   {
    "duration": 80,
    "start_time": "2021-10-06T21:59:01.574Z"
   },
   {
    "duration": 1037,
    "start_time": "2021-10-06T21:59:01.656Z"
   },
   {
    "duration": 21,
    "start_time": "2021-10-06T21:59:02.696Z"
   },
   {
    "duration": 21,
    "start_time": "2021-10-06T21:59:02.720Z"
   },
   {
    "duration": 927,
    "start_time": "2021-10-06T21:59:02.743Z"
   },
   {
    "duration": 28,
    "start_time": "2021-10-06T21:59:03.673Z"
   },
   {
    "duration": 393,
    "start_time": "2021-10-06T21:59:03.704Z"
   },
   {
    "duration": -132,
    "start_time": "2021-10-06T21:59:04.233Z"
   },
   {
    "duration": -135,
    "start_time": "2021-10-06T21:59:04.237Z"
   },
   {
    "duration": 777,
    "start_time": "2021-10-06T22:00:19.303Z"
   },
   {
    "duration": 1151,
    "start_time": "2021-10-06T22:00:31.150Z"
   },
   {
    "duration": 63,
    "start_time": "2021-10-06T22:00:32.303Z"
   },
   {
    "duration": 80,
    "start_time": "2021-10-06T22:00:32.369Z"
   },
   {
    "duration": 187,
    "start_time": "2021-10-06T22:00:32.452Z"
   },
   {
    "duration": 17,
    "start_time": "2021-10-06T22:00:32.641Z"
   },
   {
    "duration": 64,
    "start_time": "2021-10-06T22:00:32.660Z"
   },
   {
    "duration": 35,
    "start_time": "2021-10-06T22:00:32.727Z"
   },
   {
    "duration": 65,
    "start_time": "2021-10-06T22:00:32.764Z"
   },
   {
    "duration": 51,
    "start_time": "2021-10-06T22:00:32.834Z"
   },
   {
    "duration": 34,
    "start_time": "2021-10-06T22:00:32.900Z"
   },
   {
    "duration": 88,
    "start_time": "2021-10-06T22:00:32.936Z"
   },
   {
    "duration": 39,
    "start_time": "2021-10-06T22:00:33.026Z"
   },
   {
    "duration": 40,
    "start_time": "2021-10-06T22:00:33.068Z"
   },
   {
    "duration": 39,
    "start_time": "2021-10-06T22:00:33.110Z"
   },
   {
    "duration": 79,
    "start_time": "2021-10-06T22:00:33.152Z"
   },
   {
    "duration": 24,
    "start_time": "2021-10-06T22:00:33.234Z"
   },
   {
    "duration": 57,
    "start_time": "2021-10-06T22:00:33.261Z"
   },
   {
    "duration": 11,
    "start_time": "2021-10-06T22:00:33.320Z"
   },
   {
    "duration": 26,
    "start_time": "2021-10-06T22:00:33.334Z"
   },
   {
    "duration": 52,
    "start_time": "2021-10-06T22:00:33.362Z"
   },
   {
    "duration": 28,
    "start_time": "2021-10-06T22:00:33.416Z"
   },
   {
    "duration": 75,
    "start_time": "2021-10-06T22:00:33.447Z"
   },
   {
    "duration": 41,
    "start_time": "2021-10-06T22:00:33.525Z"
   },
   {
    "duration": 66,
    "start_time": "2021-10-06T22:00:33.568Z"
   },
   {
    "duration": 64,
    "start_time": "2021-10-06T22:00:33.636Z"
   },
   {
    "duration": 54,
    "start_time": "2021-10-06T22:00:33.702Z"
   },
   {
    "duration": 78,
    "start_time": "2021-10-06T22:00:33.761Z"
   },
   {
    "duration": 1002,
    "start_time": "2021-10-06T22:00:33.841Z"
   },
   {
    "duration": 21,
    "start_time": "2021-10-06T22:00:34.845Z"
   },
   {
    "duration": 44,
    "start_time": "2021-10-06T22:00:34.868Z"
   },
   {
    "duration": 853,
    "start_time": "2021-10-06T22:00:34.914Z"
   },
   {
    "duration": 8,
    "start_time": "2021-10-06T22:00:35.770Z"
   },
   {
    "duration": 414,
    "start_time": "2021-10-06T22:00:35.780Z"
   },
   {
    "duration": -220,
    "start_time": "2021-10-06T22:00:36.416Z"
   },
   {
    "duration": -223,
    "start_time": "2021-10-06T22:00:36.421Z"
   },
   {
    "duration": 1198,
    "start_time": "2021-10-06T22:01:56.859Z"
   },
   {
    "duration": 80,
    "start_time": "2021-10-06T22:01:58.059Z"
   },
   {
    "duration": 76,
    "start_time": "2021-10-06T22:01:58.142Z"
   },
   {
    "duration": 192,
    "start_time": "2021-10-06T22:01:58.221Z"
   },
   {
    "duration": 16,
    "start_time": "2021-10-06T22:01:58.415Z"
   },
   {
    "duration": 43,
    "start_time": "2021-10-06T22:01:58.433Z"
   },
   {
    "duration": 36,
    "start_time": "2021-10-06T22:01:58.501Z"
   },
   {
    "duration": 34,
    "start_time": "2021-10-06T22:01:58.539Z"
   },
   {
    "duration": 70,
    "start_time": "2021-10-06T22:01:58.577Z"
   },
   {
    "duration": 63,
    "start_time": "2021-10-06T22:01:58.651Z"
   },
   {
    "duration": 68,
    "start_time": "2021-10-06T22:01:58.716Z"
   },
   {
    "duration": 53,
    "start_time": "2021-10-06T22:01:58.786Z"
   },
   {
    "duration": 20,
    "start_time": "2021-10-06T22:01:58.841Z"
   },
   {
    "duration": 68,
    "start_time": "2021-10-06T22:01:58.863Z"
   },
   {
    "duration": 49,
    "start_time": "2021-10-06T22:01:58.933Z"
   },
   {
    "duration": 38,
    "start_time": "2021-10-06T22:01:58.984Z"
   },
   {
    "duration": 38,
    "start_time": "2021-10-06T22:01:59.024Z"
   },
   {
    "duration": 38,
    "start_time": "2021-10-06T22:01:59.064Z"
   },
   {
    "duration": 28,
    "start_time": "2021-10-06T22:01:59.104Z"
   },
   {
    "duration": 27,
    "start_time": "2021-10-06T22:01:59.135Z"
   },
   {
    "duration": 54,
    "start_time": "2021-10-06T22:01:59.165Z"
   },
   {
    "duration": 35,
    "start_time": "2021-10-06T22:01:59.221Z"
   },
   {
    "duration": 69,
    "start_time": "2021-10-06T22:01:59.258Z"
   },
   {
    "duration": 39,
    "start_time": "2021-10-06T22:01:59.330Z"
   },
   {
    "duration": 73,
    "start_time": "2021-10-06T22:01:59.371Z"
   },
   {
    "duration": 67,
    "start_time": "2021-10-06T22:01:59.446Z"
   },
   {
    "duration": 54,
    "start_time": "2021-10-06T22:01:59.518Z"
   },
   {
    "duration": 1049,
    "start_time": "2021-10-06T22:01:59.574Z"
   },
   {
    "duration": 21,
    "start_time": "2021-10-06T22:02:00.626Z"
   },
   {
    "duration": 21,
    "start_time": "2021-10-06T22:02:00.650Z"
   },
   {
    "duration": 859,
    "start_time": "2021-10-06T22:02:00.702Z"
   },
   {
    "duration": 9,
    "start_time": "2021-10-06T22:02:01.563Z"
   },
   {
    "duration": 110,
    "start_time": "2021-10-06T22:02:01.575Z"
   },
   {
    "duration": -103,
    "start_time": "2021-10-06T22:02:01.791Z"
   },
   {
    "duration": -191,
    "start_time": "2021-10-06T22:02:01.880Z"
   },
   {
    "duration": 40,
    "start_time": "2021-10-06T22:02:21.751Z"
   },
   {
    "duration": 30,
    "start_time": "2021-10-06T22:04:46.276Z"
   },
   {
    "duration": 1155,
    "start_time": "2021-10-06T22:04:56.623Z"
   },
   {
    "duration": 62,
    "start_time": "2021-10-06T22:04:57.780Z"
   },
   {
    "duration": 65,
    "start_time": "2021-10-06T22:04:57.845Z"
   },
   {
    "duration": 188,
    "start_time": "2021-10-06T22:04:57.913Z"
   },
   {
    "duration": 17,
    "start_time": "2021-10-06T22:04:58.104Z"
   },
   {
    "duration": 43,
    "start_time": "2021-10-06T22:04:58.124Z"
   },
   {
    "duration": 65,
    "start_time": "2021-10-06T22:04:58.170Z"
   },
   {
    "duration": 33,
    "start_time": "2021-10-06T22:04:58.239Z"
   },
   {
    "duration": 72,
    "start_time": "2021-10-06T22:04:58.275Z"
   },
   {
    "duration": 56,
    "start_time": "2021-10-06T22:04:58.349Z"
   },
   {
    "duration": 67,
    "start_time": "2021-10-06T22:04:58.408Z"
   },
   {
    "duration": 56,
    "start_time": "2021-10-06T22:04:58.478Z"
   },
   {
    "duration": 22,
    "start_time": "2021-10-06T22:04:58.536Z"
   },
   {
    "duration": 67,
    "start_time": "2021-10-06T22:04:58.561Z"
   },
   {
    "duration": 48,
    "start_time": "2021-10-06T22:04:58.630Z"
   },
   {
    "duration": 38,
    "start_time": "2021-10-06T22:04:58.681Z"
   },
   {
    "duration": 38,
    "start_time": "2021-10-06T22:04:58.722Z"
   },
   {
    "duration": 40,
    "start_time": "2021-10-06T22:04:58.762Z"
   },
   {
    "duration": 35,
    "start_time": "2021-10-06T22:04:58.804Z"
   },
   {
    "duration": 29,
    "start_time": "2021-10-06T22:04:58.841Z"
   },
   {
    "duration": 46,
    "start_time": "2021-10-06T22:04:58.872Z"
   },
   {
    "duration": 36,
    "start_time": "2021-10-06T22:04:58.920Z"
   },
   {
    "duration": 68,
    "start_time": "2021-10-06T22:04:58.961Z"
   },
   {
    "duration": 39,
    "start_time": "2021-10-06T22:04:59.031Z"
   },
   {
    "duration": 71,
    "start_time": "2021-10-06T22:04:59.072Z"
   },
   {
    "duration": 68,
    "start_time": "2021-10-06T22:04:59.145Z"
   },
   {
    "duration": 53,
    "start_time": "2021-10-06T22:04:59.215Z"
   },
   {
    "duration": 1055,
    "start_time": "2021-10-06T22:04:59.270Z"
   },
   {
    "duration": 25,
    "start_time": "2021-10-06T22:05:00.329Z"
   },
   {
    "duration": 55,
    "start_time": "2021-10-06T22:05:00.358Z"
   },
   {
    "duration": 902,
    "start_time": "2021-10-06T22:05:00.416Z"
   },
   {
    "duration": 26,
    "start_time": "2021-10-06T22:05:01.321Z"
   },
   {
    "duration": 77,
    "start_time": "2021-10-06T22:05:01.350Z"
   },
   {
    "duration": 759,
    "start_time": "2021-10-06T22:05:01.430Z"
   },
   {
    "duration": -98,
    "start_time": "2021-10-06T22:05:02.290Z"
   },
   {
    "duration": 1161,
    "start_time": "2021-10-06T22:12:44.743Z"
   },
   {
    "duration": 59,
    "start_time": "2021-10-06T22:12:45.907Z"
   },
   {
    "duration": 76,
    "start_time": "2021-10-06T22:12:45.968Z"
   },
   {
    "duration": 186,
    "start_time": "2021-10-06T22:12:46.047Z"
   },
   {
    "duration": 16,
    "start_time": "2021-10-06T22:12:46.236Z"
   },
   {
    "duration": 63,
    "start_time": "2021-10-06T22:12:46.254Z"
   },
   {
    "duration": 35,
    "start_time": "2021-10-06T22:12:46.320Z"
   },
   {
    "duration": 54,
    "start_time": "2021-10-06T22:12:46.358Z"
   },
   {
    "duration": 50,
    "start_time": "2021-10-06T22:12:46.415Z"
   },
   {
    "duration": 55,
    "start_time": "2021-10-06T22:12:46.467Z"
   },
   {
    "duration": 76,
    "start_time": "2021-10-06T22:12:46.524Z"
   },
   {
    "duration": 39,
    "start_time": "2021-10-06T22:12:46.602Z"
   },
   {
    "duration": 20,
    "start_time": "2021-10-06T22:12:46.644Z"
   },
   {
    "duration": 61,
    "start_time": "2021-10-06T22:12:46.666Z"
   },
   {
    "duration": 50,
    "start_time": "2021-10-06T22:12:46.729Z"
   },
   {
    "duration": 25,
    "start_time": "2021-10-06T22:12:46.800Z"
   },
   {
    "duration": 38,
    "start_time": "2021-10-06T22:12:46.827Z"
   },
   {
    "duration": 40,
    "start_time": "2021-10-06T22:12:46.869Z"
   },
   {
    "duration": 25,
    "start_time": "2021-10-06T22:12:46.911Z"
   },
   {
    "duration": 29,
    "start_time": "2021-10-06T22:12:46.939Z"
   },
   {
    "duration": 54,
    "start_time": "2021-10-06T22:12:46.970Z"
   },
   {
    "duration": 38,
    "start_time": "2021-10-06T22:12:47.026Z"
   },
   {
    "duration": 69,
    "start_time": "2021-10-06T22:12:47.068Z"
   },
   {
    "duration": 38,
    "start_time": "2021-10-06T22:12:47.139Z"
   },
   {
    "duration": 64,
    "start_time": "2021-10-06T22:12:47.180Z"
   },
   {
    "duration": 79,
    "start_time": "2021-10-06T22:12:47.246Z"
   },
   {
    "duration": 73,
    "start_time": "2021-10-06T22:12:47.327Z"
   },
   {
    "duration": 1145,
    "start_time": "2021-10-06T22:12:47.402Z"
   },
   {
    "duration": 24,
    "start_time": "2021-10-06T22:12:48.549Z"
   },
   {
    "duration": 47,
    "start_time": "2021-10-06T22:12:48.576Z"
   },
   {
    "duration": 863,
    "start_time": "2021-10-06T22:12:48.626Z"
   },
   {
    "duration": 34,
    "start_time": "2021-10-06T22:12:49.491Z"
   },
   {
    "duration": 77,
    "start_time": "2021-10-06T22:12:49.527Z"
   },
   {
    "duration": 708,
    "start_time": "2021-10-06T22:12:49.607Z"
   },
   {
    "duration": -106,
    "start_time": "2021-10-06T22:12:50.424Z"
   },
   {
    "duration": 1192,
    "start_time": "2021-10-06T22:16:09.758Z"
   },
   {
    "duration": 84,
    "start_time": "2021-10-06T22:16:10.953Z"
   },
   {
    "duration": 71,
    "start_time": "2021-10-06T22:16:11.040Z"
   },
   {
    "duration": 177,
    "start_time": "2021-10-06T22:16:11.113Z"
   },
   {
    "duration": 21,
    "start_time": "2021-10-06T22:16:11.293Z"
   },
   {
    "duration": 42,
    "start_time": "2021-10-06T22:16:11.317Z"
   },
   {
    "duration": 65,
    "start_time": "2021-10-06T22:16:11.362Z"
   },
   {
    "duration": 34,
    "start_time": "2021-10-06T22:16:11.431Z"
   },
   {
    "duration": 74,
    "start_time": "2021-10-06T22:16:11.469Z"
   },
   {
    "duration": 35,
    "start_time": "2021-10-06T22:16:11.545Z"
   },
   {
    "duration": 79,
    "start_time": "2021-10-06T22:16:11.582Z"
   },
   {
    "duration": 62,
    "start_time": "2021-10-06T22:16:11.663Z"
   },
   {
    "duration": 21,
    "start_time": "2021-10-06T22:16:11.728Z"
   },
   {
    "duration": 59,
    "start_time": "2021-10-06T22:16:11.752Z"
   },
   {
    "duration": 49,
    "start_time": "2021-10-06T22:16:11.813Z"
   },
   {
    "duration": 45,
    "start_time": "2021-10-06T22:16:11.864Z"
   },
   {
    "duration": 38,
    "start_time": "2021-10-06T22:16:11.911Z"
   },
   {
    "duration": 11,
    "start_time": "2021-10-06T22:16:11.951Z"
   },
   {
    "duration": 57,
    "start_time": "2021-10-06T22:16:11.965Z"
   },
   {
    "duration": 30,
    "start_time": "2021-10-06T22:16:12.025Z"
   },
   {
    "duration": 54,
    "start_time": "2021-10-06T22:16:12.058Z"
   },
   {
    "duration": 39,
    "start_time": "2021-10-06T22:16:12.115Z"
   },
   {
    "duration": 77,
    "start_time": "2021-10-06T22:16:12.160Z"
   },
   {
    "duration": 40,
    "start_time": "2021-10-06T22:16:12.241Z"
   },
   {
    "duration": 51,
    "start_time": "2021-10-06T22:16:12.302Z"
   },
   {
    "duration": 84,
    "start_time": "2021-10-06T22:16:12.356Z"
   },
   {
    "duration": 75,
    "start_time": "2021-10-06T22:16:12.444Z"
   },
   {
    "duration": 1018,
    "start_time": "2021-10-06T22:16:12.522Z"
   },
   {
    "duration": 22,
    "start_time": "2021-10-06T22:16:13.542Z"
   },
   {
    "duration": 44,
    "start_time": "2021-10-06T22:16:13.566Z"
   },
   {
    "duration": 860,
    "start_time": "2021-10-06T22:16:13.612Z"
   },
   {
    "duration": 39,
    "start_time": "2021-10-06T22:16:14.474Z"
   },
   {
    "duration": 43,
    "start_time": "2021-10-06T22:16:14.516Z"
   },
   {
    "duration": 719,
    "start_time": "2021-10-06T22:16:14.562Z"
   },
   {
    "duration": -107,
    "start_time": "2021-10-06T22:16:15.391Z"
   },
   {
    "duration": 61,
    "start_time": "2021-10-06T22:18:14.448Z"
   },
   {
    "duration": 1170,
    "start_time": "2021-10-06T22:18:22.630Z"
   },
   {
    "duration": 64,
    "start_time": "2021-10-06T22:18:23.802Z"
   },
   {
    "duration": 70,
    "start_time": "2021-10-06T22:18:23.869Z"
   },
   {
    "duration": 190,
    "start_time": "2021-10-06T22:18:23.942Z"
   },
   {
    "duration": 16,
    "start_time": "2021-10-06T22:18:24.134Z"
   },
   {
    "duration": 63,
    "start_time": "2021-10-06T22:18:24.152Z"
   },
   {
    "duration": 35,
    "start_time": "2021-10-06T22:18:24.217Z"
   },
   {
    "duration": 54,
    "start_time": "2021-10-06T22:18:24.257Z"
   },
   {
    "duration": 51,
    "start_time": "2021-10-06T22:18:24.314Z"
   },
   {
    "duration": 55,
    "start_time": "2021-10-06T22:18:24.367Z"
   },
   {
    "duration": 78,
    "start_time": "2021-10-06T22:18:24.424Z"
   },
   {
    "duration": 38,
    "start_time": "2021-10-06T22:18:24.505Z"
   },
   {
    "duration": 21,
    "start_time": "2021-10-06T22:18:24.546Z"
   },
   {
    "duration": 62,
    "start_time": "2021-10-06T22:18:24.569Z"
   },
   {
    "duration": 47,
    "start_time": "2021-10-06T22:18:24.634Z"
   },
   {
    "duration": 35,
    "start_time": "2021-10-06T22:18:24.684Z"
   },
   {
    "duration": 39,
    "start_time": "2021-10-06T22:18:24.721Z"
   },
   {
    "duration": 39,
    "start_time": "2021-10-06T22:18:24.763Z"
   },
   {
    "duration": 26,
    "start_time": "2021-10-06T22:18:24.804Z"
   },
   {
    "duration": 30,
    "start_time": "2021-10-06T22:18:24.832Z"
   },
   {
    "duration": 59,
    "start_time": "2021-10-06T22:18:24.864Z"
   },
   {
    "duration": 35,
    "start_time": "2021-10-06T22:18:24.925Z"
   },
   {
    "duration": 64,
    "start_time": "2021-10-06T22:18:24.965Z"
   },
   {
    "duration": 38,
    "start_time": "2021-10-06T22:18:25.032Z"
   },
   {
    "duration": 68,
    "start_time": "2021-10-06T22:18:25.073Z"
   },
   {
    "duration": 71,
    "start_time": "2021-10-06T22:18:25.143Z"
   },
   {
    "duration": 53,
    "start_time": "2021-10-06T22:18:25.216Z"
   },
   {
    "duration": 1044,
    "start_time": "2021-10-06T22:18:25.271Z"
   },
   {
    "duration": 22,
    "start_time": "2021-10-06T22:18:26.317Z"
   },
   {
    "duration": 21,
    "start_time": "2021-10-06T22:18:26.341Z"
   },
   {
    "duration": 901,
    "start_time": "2021-10-06T22:18:26.365Z"
   },
   {
    "duration": 40,
    "start_time": "2021-10-06T22:18:27.268Z"
   },
   {
    "duration": 46,
    "start_time": "2021-10-06T22:18:27.310Z"
   },
   {
    "duration": 733,
    "start_time": "2021-10-06T22:18:27.358Z"
   },
   {
    "duration": -140,
    "start_time": "2021-10-06T22:18:28.240Z"
   },
   {
    "duration": 1250,
    "start_time": "2021-10-06T22:19:00.891Z"
   },
   {
    "duration": 82,
    "start_time": "2021-10-06T22:19:02.143Z"
   },
   {
    "duration": 77,
    "start_time": "2021-10-06T22:19:02.228Z"
   },
   {
    "duration": 193,
    "start_time": "2021-10-06T22:19:02.307Z"
   },
   {
    "duration": 17,
    "start_time": "2021-10-06T22:19:02.502Z"
   },
   {
    "duration": 41,
    "start_time": "2021-10-06T22:19:02.521Z"
   },
   {
    "duration": 68,
    "start_time": "2021-10-06T22:19:02.565Z"
   },
   {
    "duration": 35,
    "start_time": "2021-10-06T22:19:02.636Z"
   },
   {
    "duration": 73,
    "start_time": "2021-10-06T22:19:02.673Z"
   },
   {
    "duration": 52,
    "start_time": "2021-10-06T22:19:02.748Z"
   },
   {
    "duration": 68,
    "start_time": "2021-10-06T22:19:02.803Z"
   },
   {
    "duration": 58,
    "start_time": "2021-10-06T22:19:02.874Z"
   },
   {
    "duration": 20,
    "start_time": "2021-10-06T22:19:02.934Z"
   },
   {
    "duration": 67,
    "start_time": "2021-10-06T22:19:02.957Z"
   },
   {
    "duration": 49,
    "start_time": "2021-10-06T22:19:03.027Z"
   },
   {
    "duration": 45,
    "start_time": "2021-10-06T22:19:03.079Z"
   },
   {
    "duration": 40,
    "start_time": "2021-10-06T22:19:03.127Z"
   },
   {
    "duration": 36,
    "start_time": "2021-10-06T22:19:03.170Z"
   },
   {
    "duration": 32,
    "start_time": "2021-10-06T22:19:03.209Z"
   },
   {
    "duration": 32,
    "start_time": "2021-10-06T22:19:03.244Z"
   },
   {
    "duration": 29,
    "start_time": "2021-10-06T22:19:03.301Z"
   },
   {
    "duration": 71,
    "start_time": "2021-10-06T22:19:03.334Z"
   },
   {
    "duration": 41,
    "start_time": "2021-10-06T22:19:03.412Z"
   },
   {
    "duration": 68,
    "start_time": "2021-10-06T22:19:03.457Z"
   },
   {
    "duration": 54,
    "start_time": "2021-10-06T22:19:03.528Z"
   },
   {
    "duration": 55,
    "start_time": "2021-10-06T22:19:03.601Z"
   },
   {
    "duration": 85,
    "start_time": "2021-10-06T22:19:03.659Z"
   },
   {
    "duration": 1035,
    "start_time": "2021-10-06T22:19:03.747Z"
   },
   {
    "duration": 31,
    "start_time": "2021-10-06T22:19:04.785Z"
   },
   {
    "duration": 20,
    "start_time": "2021-10-06T22:19:04.818Z"
   },
   {
    "duration": 878,
    "start_time": "2021-10-06T22:19:04.841Z"
   },
   {
    "duration": 23,
    "start_time": "2021-10-06T22:19:05.721Z"
   },
   {
    "duration": 76,
    "start_time": "2021-10-06T22:19:05.747Z"
   },
   {
    "duration": 729,
    "start_time": "2021-10-06T22:19:05.826Z"
   },
   {
    "duration": -91,
    "start_time": "2021-10-06T22:19:06.649Z"
   },
   {
    "duration": 1207,
    "start_time": "2021-10-06T22:19:47.450Z"
   },
   {
    "duration": 77,
    "start_time": "2021-10-06T22:19:48.660Z"
   },
   {
    "duration": 70,
    "start_time": "2021-10-06T22:19:48.740Z"
   },
   {
    "duration": 177,
    "start_time": "2021-10-06T22:19:48.813Z"
   },
   {
    "duration": 21,
    "start_time": "2021-10-06T22:19:48.993Z"
   },
   {
    "duration": 43,
    "start_time": "2021-10-06T22:19:49.016Z"
   },
   {
    "duration": 64,
    "start_time": "2021-10-06T22:19:49.062Z"
   },
   {
    "duration": 36,
    "start_time": "2021-10-06T22:19:49.130Z"
   },
   {
    "duration": 74,
    "start_time": "2021-10-06T22:19:49.169Z"
   },
   {
    "duration": 54,
    "start_time": "2021-10-06T22:19:49.246Z"
   },
   {
    "duration": 71,
    "start_time": "2021-10-06T22:19:49.303Z"
   },
   {
    "duration": 63,
    "start_time": "2021-10-06T22:19:49.378Z"
   },
   {
    "duration": 23,
    "start_time": "2021-10-06T22:19:49.444Z"
   },
   {
    "duration": 67,
    "start_time": "2021-10-06T22:19:49.470Z"
   },
   {
    "duration": 76,
    "start_time": "2021-10-06T22:19:49.540Z"
   },
   {
    "duration": 25,
    "start_time": "2021-10-06T22:19:49.619Z"
   },
   {
    "duration": 68,
    "start_time": "2021-10-06T22:19:49.647Z"
   },
   {
    "duration": 13,
    "start_time": "2021-10-06T22:19:49.718Z"
   },
   {
    "duration": 29,
    "start_time": "2021-10-06T22:19:49.734Z"
   },
   {
    "duration": 59,
    "start_time": "2021-10-06T22:19:49.767Z"
   },
   {
    "duration": 29,
    "start_time": "2021-10-06T22:19:49.829Z"
   },
   {
    "duration": 73,
    "start_time": "2021-10-06T22:19:49.861Z"
   },
   {
    "duration": 65,
    "start_time": "2021-10-06T22:19:49.941Z"
   },
   {
    "duration": 42,
    "start_time": "2021-10-06T22:19:50.009Z"
   },
   {
    "duration": 79,
    "start_time": "2021-10-06T22:19:50.054Z"
   },
   {
    "duration": 72,
    "start_time": "2021-10-06T22:19:50.136Z"
   },
   {
    "duration": 55,
    "start_time": "2021-10-06T22:19:50.211Z"
   },
   {
    "duration": 1062,
    "start_time": "2021-10-06T22:19:50.269Z"
   },
   {
    "duration": 21,
    "start_time": "2021-10-06T22:19:51.333Z"
   },
   {
    "duration": 46,
    "start_time": "2021-10-06T22:19:51.357Z"
   },
   {
    "duration": 901,
    "start_time": "2021-10-06T22:19:51.406Z"
   },
   {
    "duration": 24,
    "start_time": "2021-10-06T22:19:52.309Z"
   },
   {
    "duration": 70,
    "start_time": "2021-10-06T22:19:52.336Z"
   },
   {
    "duration": 700,
    "start_time": "2021-10-06T22:19:52.408Z"
   },
   {
    "duration": -102,
    "start_time": "2021-10-06T22:19:53.213Z"
   },
   {
    "duration": 1218,
    "start_time": "2021-10-06T22:20:20.643Z"
   },
   {
    "duration": 73,
    "start_time": "2021-10-06T22:20:21.864Z"
   },
   {
    "duration": 73,
    "start_time": "2021-10-06T22:20:21.940Z"
   },
   {
    "duration": 174,
    "start_time": "2021-10-06T22:20:22.016Z"
   },
   {
    "duration": 22,
    "start_time": "2021-10-06T22:20:22.192Z"
   },
   {
    "duration": 41,
    "start_time": "2021-10-06T22:20:22.216Z"
   },
   {
    "duration": 70,
    "start_time": "2021-10-06T22:20:22.260Z"
   },
   {
    "duration": 33,
    "start_time": "2021-10-06T22:20:22.332Z"
   },
   {
    "duration": 51,
    "start_time": "2021-10-06T22:20:22.402Z"
   },
   {
    "duration": 92,
    "start_time": "2021-10-06T22:20:22.456Z"
   },
   {
    "duration": 109,
    "start_time": "2021-10-06T22:20:22.552Z"
   },
   {
    "duration": 71,
    "start_time": "2021-10-06T22:20:22.663Z"
   },
   {
    "duration": 21,
    "start_time": "2021-10-06T22:20:22.738Z"
   },
   {
    "duration": 57,
    "start_time": "2021-10-06T22:20:22.762Z"
   },
   {
    "duration": 51,
    "start_time": "2021-10-06T22:20:22.821Z"
   },
   {
    "duration": 46,
    "start_time": "2021-10-06T22:20:22.875Z"
   },
   {
    "duration": 41,
    "start_time": "2021-10-06T22:20:22.924Z"
   },
   {
    "duration": 41,
    "start_time": "2021-10-06T22:20:22.968Z"
   },
   {
    "duration": 31,
    "start_time": "2021-10-06T22:20:23.012Z"
   },
   {
    "duration": 28,
    "start_time": "2021-10-06T22:20:23.045Z"
   },
   {
    "duration": 48,
    "start_time": "2021-10-06T22:20:23.076Z"
   },
   {
    "duration": 76,
    "start_time": "2021-10-06T22:20:23.126Z"
   },
   {
    "duration": 57,
    "start_time": "2021-10-06T22:20:23.205Z"
   },
   {
    "duration": 61,
    "start_time": "2021-10-06T22:20:23.264Z"
   },
   {
    "duration": 50,
    "start_time": "2021-10-06T22:20:23.327Z"
   },
   {
    "duration": 67,
    "start_time": "2021-10-06T22:20:23.379Z"
   },
   {
    "duration": 74,
    "start_time": "2021-10-06T22:20:23.450Z"
   },
   {
    "duration": 1024,
    "start_time": "2021-10-06T22:20:23.527Z"
   },
   {
    "duration": 21,
    "start_time": "2021-10-06T22:20:24.554Z"
   },
   {
    "duration": 41,
    "start_time": "2021-10-06T22:20:24.577Z"
   },
   {
    "duration": 870,
    "start_time": "2021-10-06T22:20:24.621Z"
   },
   {
    "duration": 23,
    "start_time": "2021-10-06T22:20:25.501Z"
   },
   {
    "duration": 40,
    "start_time": "2021-10-06T22:20:25.526Z"
   },
   {
    "duration": 752,
    "start_time": "2021-10-06T22:20:25.600Z"
   },
   {
    "duration": -100,
    "start_time": "2021-10-06T22:20:26.454Z"
   },
   {
    "duration": 86,
    "start_time": "2021-10-06T22:20:30.243Z"
   },
   {
    "duration": 1474,
    "start_time": "2021-10-06T22:20:37.820Z"
   },
   {
    "duration": 63,
    "start_time": "2021-10-06T22:20:39.297Z"
   },
   {
    "duration": 75,
    "start_time": "2021-10-06T22:20:39.364Z"
   },
   {
    "duration": 203,
    "start_time": "2021-10-06T22:20:39.442Z"
   },
   {
    "duration": 17,
    "start_time": "2021-10-06T22:20:39.648Z"
   },
   {
    "duration": 63,
    "start_time": "2021-10-06T22:20:39.667Z"
   },
   {
    "duration": 35,
    "start_time": "2021-10-06T22:20:39.733Z"
   },
   {
    "duration": 55,
    "start_time": "2021-10-06T22:20:39.770Z"
   },
   {
    "duration": 71,
    "start_time": "2021-10-06T22:20:39.832Z"
   },
   {
    "duration": 42,
    "start_time": "2021-10-06T22:20:39.908Z"
   },
   {
    "duration": 106,
    "start_time": "2021-10-06T22:20:39.953Z"
   },
   {
    "duration": 53,
    "start_time": "2021-10-06T22:20:40.061Z"
   },
   {
    "duration": 23,
    "start_time": "2021-10-06T22:20:40.117Z"
   },
   {
    "duration": 64,
    "start_time": "2021-10-06T22:20:40.142Z"
   },
   {
    "duration": 50,
    "start_time": "2021-10-06T22:20:40.208Z"
   },
   {
    "duration": 45,
    "start_time": "2021-10-06T22:20:40.260Z"
   },
   {
    "duration": 39,
    "start_time": "2021-10-06T22:20:40.307Z"
   },
   {
    "duration": 11,
    "start_time": "2021-10-06T22:20:40.348Z"
   },
   {
    "duration": 57,
    "start_time": "2021-10-06T22:20:40.361Z"
   },
   {
    "duration": 30,
    "start_time": "2021-10-06T22:20:40.421Z"
   },
   {
    "duration": 51,
    "start_time": "2021-10-06T22:20:40.453Z"
   },
   {
    "duration": 39,
    "start_time": "2021-10-06T22:20:40.506Z"
   },
   {
    "duration": 67,
    "start_time": "2021-10-06T22:20:40.547Z"
   },
   {
    "duration": 42,
    "start_time": "2021-10-06T22:20:40.616Z"
   },
   {
    "duration": 77,
    "start_time": "2021-10-06T22:20:40.660Z"
   },
   {
    "duration": 64,
    "start_time": "2021-10-06T22:20:40.739Z"
   },
   {
    "duration": 57,
    "start_time": "2021-10-06T22:20:40.807Z"
   },
   {
    "duration": 1049,
    "start_time": "2021-10-06T22:20:40.867Z"
   },
   {
    "duration": 22,
    "start_time": "2021-10-06T22:20:41.918Z"
   },
   {
    "duration": 21,
    "start_time": "2021-10-06T22:20:41.942Z"
   },
   {
    "duration": 935,
    "start_time": "2021-10-06T22:20:41.965Z"
   },
   {
    "duration": 24,
    "start_time": "2021-10-06T22:20:42.903Z"
   },
   {
    "duration": 72,
    "start_time": "2021-10-06T22:20:42.930Z"
   },
   {
    "duration": 740,
    "start_time": "2021-10-06T22:20:43.005Z"
   },
   {
    "duration": -212,
    "start_time": "2021-10-06T22:20:43.960Z"
   },
   {
    "duration": 1239,
    "start_time": "2021-10-06T22:21:45.371Z"
   },
   {
    "duration": 61,
    "start_time": "2021-10-06T22:21:46.612Z"
   },
   {
    "duration": 50,
    "start_time": "2021-10-06T22:21:46.700Z"
   },
   {
    "duration": 189,
    "start_time": "2021-10-06T22:21:46.752Z"
   },
   {
    "duration": 15,
    "start_time": "2021-10-06T22:21:46.944Z"
   },
   {
    "duration": 63,
    "start_time": "2021-10-06T22:21:46.962Z"
   },
   {
    "duration": 36,
    "start_time": "2021-10-06T22:21:47.027Z"
   },
   {
    "duration": 54,
    "start_time": "2021-10-06T22:21:47.066Z"
   },
   {
    "duration": 50,
    "start_time": "2021-10-06T22:21:47.124Z"
   },
   {
    "duration": 55,
    "start_time": "2021-10-06T22:21:47.176Z"
   },
   {
    "duration": 84,
    "start_time": "2021-10-06T22:21:47.233Z"
   },
   {
    "duration": 40,
    "start_time": "2021-10-06T22:21:47.319Z"
   },
   {
    "duration": 40,
    "start_time": "2021-10-06T22:21:47.361Z"
   },
   {
    "duration": 39,
    "start_time": "2021-10-06T22:21:47.404Z"
   },
   {
    "duration": 70,
    "start_time": "2021-10-06T22:21:47.445Z"
   },
   {
    "duration": 25,
    "start_time": "2021-10-06T22:21:47.518Z"
   },
   {
    "duration": 63,
    "start_time": "2021-10-06T22:21:47.545Z"
   },
   {
    "duration": 12,
    "start_time": "2021-10-06T22:21:47.610Z"
   },
   {
    "duration": 26,
    "start_time": "2021-10-06T22:21:47.624Z"
   },
   {
    "duration": 57,
    "start_time": "2021-10-06T22:21:47.653Z"
   },
   {
    "duration": 29,
    "start_time": "2021-10-06T22:21:47.713Z"
   },
   {
    "duration": 72,
    "start_time": "2021-10-06T22:21:47.745Z"
   },
   {
    "duration": 50,
    "start_time": "2021-10-06T22:21:47.822Z"
   },
   {
    "duration": 81,
    "start_time": "2021-10-06T22:21:47.876Z"
   },
   {
    "duration": 68,
    "start_time": "2021-10-06T22:21:47.960Z"
   },
   {
    "duration": 53,
    "start_time": "2021-10-06T22:21:48.031Z"
   },
   {
    "duration": 69,
    "start_time": "2021-10-06T22:21:48.086Z"
   },
   {
    "duration": 1043,
    "start_time": "2021-10-06T22:21:48.157Z"
   },
   {
    "duration": 23,
    "start_time": "2021-10-06T22:21:49.202Z"
   },
   {
    "duration": 21,
    "start_time": "2021-10-06T22:21:49.227Z"
   },
   {
    "duration": 899,
    "start_time": "2021-10-06T22:21:49.250Z"
   },
   {
    "duration": 24,
    "start_time": "2021-10-06T22:21:50.151Z"
   },
   {
    "duration": 42,
    "start_time": "2021-10-06T22:21:50.201Z"
   },
   {
    "duration": 702,
    "start_time": "2021-10-06T22:21:50.246Z"
   },
   {
    "duration": -134,
    "start_time": "2021-10-06T22:21:51.085Z"
   },
   {
    "duration": 1236,
    "start_time": "2021-10-06T22:22:08.276Z"
   },
   {
    "duration": 87,
    "start_time": "2021-10-06T22:22:09.515Z"
   },
   {
    "duration": 50,
    "start_time": "2021-10-06T22:22:09.605Z"
   },
   {
    "duration": 193,
    "start_time": "2021-10-06T22:22:09.658Z"
   },
   {
    "duration": 17,
    "start_time": "2021-10-06T22:22:09.853Z"
   },
   {
    "duration": 62,
    "start_time": "2021-10-06T22:22:09.873Z"
   },
   {
    "duration": 36,
    "start_time": "2021-10-06T22:22:09.937Z"
   },
   {
    "duration": 57,
    "start_time": "2021-10-06T22:22:09.976Z"
   },
   {
    "duration": 66,
    "start_time": "2021-10-06T22:22:10.036Z"
   },
   {
    "duration": 35,
    "start_time": "2021-10-06T22:22:10.104Z"
   },
   {
    "duration": 90,
    "start_time": "2021-10-06T22:22:10.142Z"
   },
   {
    "duration": 39,
    "start_time": "2021-10-06T22:22:10.235Z"
   },
   {
    "duration": 37,
    "start_time": "2021-10-06T22:22:10.276Z"
   },
   {
    "duration": 37,
    "start_time": "2021-10-06T22:22:10.316Z"
   },
   {
    "duration": 73,
    "start_time": "2021-10-06T22:22:10.355Z"
   },
   {
    "duration": 25,
    "start_time": "2021-10-06T22:22:10.431Z"
   },
   {
    "duration": 63,
    "start_time": "2021-10-06T22:22:10.459Z"
   },
   {
    "duration": 13,
    "start_time": "2021-10-06T22:22:10.524Z"
   },
   {
    "duration": 29,
    "start_time": "2021-10-06T22:22:10.539Z"
   },
   {
    "duration": 55,
    "start_time": "2021-10-06T22:22:10.570Z"
   },
   {
    "duration": 26,
    "start_time": "2021-10-06T22:22:10.627Z"
   },
   {
    "duration": 69,
    "start_time": "2021-10-06T22:22:10.655Z"
   },
   {
    "duration": 39,
    "start_time": "2021-10-06T22:22:10.729Z"
   },
   {
    "duration": 56,
    "start_time": "2021-10-06T22:22:10.771Z"
   },
   {
    "duration": 75,
    "start_time": "2021-10-06T22:22:10.830Z"
   },
   {
    "duration": 57,
    "start_time": "2021-10-06T22:22:10.908Z"
   },
   {
    "duration": 85,
    "start_time": "2021-10-06T22:22:10.968Z"
   },
   {
    "duration": 1062,
    "start_time": "2021-10-06T22:22:11.056Z"
   },
   {
    "duration": 25,
    "start_time": "2021-10-06T22:22:12.121Z"
   },
   {
    "duration": 50,
    "start_time": "2021-10-06T22:22:12.150Z"
   },
   {
    "duration": 889,
    "start_time": "2021-10-06T22:22:12.203Z"
   },
   {
    "duration": 31,
    "start_time": "2021-10-06T22:22:13.094Z"
   },
   {
    "duration": 82,
    "start_time": "2021-10-06T22:22:13.129Z"
   },
   {
    "duration": 677,
    "start_time": "2021-10-06T22:22:13.213Z"
   },
   {
    "duration": -107,
    "start_time": "2021-10-06T22:22:14.000Z"
   },
   {
    "duration": 1283,
    "start_time": "2021-10-06T22:22:42.473Z"
   },
   {
    "duration": 76,
    "start_time": "2021-10-06T22:22:43.759Z"
   },
   {
    "duration": 73,
    "start_time": "2021-10-06T22:22:43.837Z"
   },
   {
    "duration": 178,
    "start_time": "2021-10-06T22:22:43.913Z"
   },
   {
    "duration": 16,
    "start_time": "2021-10-06T22:22:44.101Z"
   },
   {
    "duration": 60,
    "start_time": "2021-10-06T22:22:44.119Z"
   },
   {
    "duration": 44,
    "start_time": "2021-10-06T22:22:44.181Z"
   },
   {
    "duration": 33,
    "start_time": "2021-10-06T22:22:44.228Z"
   },
   {
    "duration": 75,
    "start_time": "2021-10-06T22:22:44.263Z"
   },
   {
    "duration": 34,
    "start_time": "2021-10-06T22:22:44.340Z"
   },
   {
    "duration": 84,
    "start_time": "2021-10-06T22:22:44.376Z"
   },
   {
    "duration": 52,
    "start_time": "2021-10-06T22:22:44.462Z"
   },
   {
    "duration": 23,
    "start_time": "2021-10-06T22:22:44.516Z"
   },
   {
    "duration": 64,
    "start_time": "2021-10-06T22:22:44.541Z"
   },
   {
    "duration": 49,
    "start_time": "2021-10-06T22:22:44.607Z"
   },
   {
    "duration": 43,
    "start_time": "2021-10-06T22:22:44.658Z"
   },
   {
    "duration": 37,
    "start_time": "2021-10-06T22:22:44.704Z"
   },
   {
    "duration": 11,
    "start_time": "2021-10-06T22:22:44.743Z"
   },
   {
    "duration": 53,
    "start_time": "2021-10-06T22:22:44.756Z"
   },
   {
    "duration": 26,
    "start_time": "2021-10-06T22:22:44.812Z"
   },
   {
    "duration": 24,
    "start_time": "2021-10-06T22:22:44.841Z"
   },
   {
    "duration": 63,
    "start_time": "2021-10-06T22:22:44.868Z"
   },
   {
    "duration": 39,
    "start_time": "2021-10-06T22:22:44.936Z"
   },
   {
    "duration": 59,
    "start_time": "2021-10-06T22:22:44.978Z"
   },
   {
    "duration": 66,
    "start_time": "2021-10-06T22:22:45.039Z"
   },
   {
    "duration": 52,
    "start_time": "2021-10-06T22:22:45.107Z"
   },
   {
    "duration": 79,
    "start_time": "2021-10-06T22:22:45.161Z"
   },
   {
    "duration": 1015,
    "start_time": "2021-10-06T22:22:45.242Z"
   },
   {
    "duration": 40,
    "start_time": "2021-10-06T22:22:46.260Z"
   },
   {
    "duration": 22,
    "start_time": "2021-10-06T22:22:46.303Z"
   },
   {
    "duration": 976,
    "start_time": "2021-10-06T22:22:46.327Z"
   },
   {
    "duration": 25,
    "start_time": "2021-10-06T22:22:47.306Z"
   },
   {
    "duration": 73,
    "start_time": "2021-10-06T22:22:47.333Z"
   },
   {
    "duration": 722,
    "start_time": "2021-10-06T22:22:47.409Z"
   },
   {
    "duration": -102,
    "start_time": "2021-10-06T22:22:48.235Z"
   },
   {
    "duration": 1208,
    "start_time": "2021-10-06T22:23:09.083Z"
   },
   {
    "duration": 61,
    "start_time": "2021-10-06T22:23:10.293Z"
   },
   {
    "duration": 76,
    "start_time": "2021-10-06T22:23:10.356Z"
   },
   {
    "duration": 182,
    "start_time": "2021-10-06T22:23:10.434Z"
   },
   {
    "duration": 16,
    "start_time": "2021-10-06T22:23:10.618Z"
   },
   {
    "duration": 43,
    "start_time": "2021-10-06T22:23:10.636Z"
   },
   {
    "duration": 35,
    "start_time": "2021-10-06T22:23:10.701Z"
   },
   {
    "duration": 34,
    "start_time": "2021-10-06T22:23:10.740Z"
   },
   {
    "duration": 50,
    "start_time": "2021-10-06T22:23:10.800Z"
   },
   {
    "duration": 57,
    "start_time": "2021-10-06T22:23:10.853Z"
   },
   {
    "duration": 69,
    "start_time": "2021-10-06T22:23:10.913Z"
   },
   {
    "duration": 39,
    "start_time": "2021-10-06T22:23:11.001Z"
   },
   {
    "duration": 21,
    "start_time": "2021-10-06T22:23:11.042Z"
   },
   {
    "duration": 64,
    "start_time": "2021-10-06T22:23:11.066Z"
   },
   {
    "duration": 70,
    "start_time": "2021-10-06T22:23:11.132Z"
   },
   {
    "duration": 23,
    "start_time": "2021-10-06T22:23:11.204Z"
   },
   {
    "duration": 38,
    "start_time": "2021-10-06T22:23:11.229Z"
   },
   {
    "duration": 33,
    "start_time": "2021-10-06T22:23:11.269Z"
   },
   {
    "duration": 34,
    "start_time": "2021-10-06T22:23:11.304Z"
   },
   {
    "duration": 28,
    "start_time": "2021-10-06T22:23:11.341Z"
   },
   {
    "duration": 51,
    "start_time": "2021-10-06T22:23:11.372Z"
   },
   {
    "duration": 35,
    "start_time": "2021-10-06T22:23:11.425Z"
   },
   {
    "duration": 67,
    "start_time": "2021-10-06T22:23:11.465Z"
   },
   {
    "duration": 38,
    "start_time": "2021-10-06T22:23:11.535Z"
   },
   {
    "duration": 65,
    "start_time": "2021-10-06T22:23:11.575Z"
   },
   {
    "duration": 72,
    "start_time": "2021-10-06T22:23:11.643Z"
   },
   {
    "duration": 54,
    "start_time": "2021-10-06T22:23:11.717Z"
   },
   {
    "duration": 1048,
    "start_time": "2021-10-06T22:23:11.773Z"
   },
   {
    "duration": 22,
    "start_time": "2021-10-06T22:23:12.823Z"
   },
   {
    "duration": 21,
    "start_time": "2021-10-06T22:23:12.848Z"
   },
   {
    "duration": 908,
    "start_time": "2021-10-06T22:23:12.871Z"
   },
   {
    "duration": 37,
    "start_time": "2021-10-06T22:23:13.781Z"
   },
   {
    "duration": 37,
    "start_time": "2021-10-06T22:23:13.820Z"
   },
   {
    "duration": 717,
    "start_time": "2021-10-06T22:23:13.859Z"
   },
   {
    "duration": -105,
    "start_time": "2021-10-06T22:23:14.684Z"
   },
   {
    "duration": 1226,
    "start_time": "2021-10-06T22:24:06.286Z"
   },
   {
    "duration": 62,
    "start_time": "2021-10-06T22:24:07.516Z"
   },
   {
    "duration": 65,
    "start_time": "2021-10-06T22:24:07.581Z"
   },
   {
    "duration": 207,
    "start_time": "2021-10-06T22:24:07.648Z"
   },
   {
    "duration": 16,
    "start_time": "2021-10-06T22:24:07.858Z"
   },
   {
    "duration": 63,
    "start_time": "2021-10-06T22:24:07.877Z"
   },
   {
    "duration": 35,
    "start_time": "2021-10-06T22:24:07.942Z"
   },
   {
    "duration": 53,
    "start_time": "2021-10-06T22:24:07.981Z"
   },
   {
    "duration": 77,
    "start_time": "2021-10-06T22:24:08.037Z"
   },
   {
    "duration": 40,
    "start_time": "2021-10-06T22:24:08.117Z"
   },
   {
    "duration": 95,
    "start_time": "2021-10-06T22:24:08.159Z"
   },
   {
    "duration": 57,
    "start_time": "2021-10-06T22:24:08.258Z"
   },
   {
    "duration": 22,
    "start_time": "2021-10-06T22:24:08.318Z"
   },
   {
    "duration": 70,
    "start_time": "2021-10-06T22:24:08.343Z"
   },
   {
    "duration": 51,
    "start_time": "2021-10-06T22:24:08.415Z"
   },
   {
    "duration": 46,
    "start_time": "2021-10-06T22:24:08.468Z"
   },
   {
    "duration": 37,
    "start_time": "2021-10-06T22:24:08.516Z"
   },
   {
    "duration": 11,
    "start_time": "2021-10-06T22:24:08.555Z"
   },
   {
    "duration": 54,
    "start_time": "2021-10-06T22:24:08.569Z"
   },
   {
    "duration": 28,
    "start_time": "2021-10-06T22:24:08.625Z"
   },
   {
    "duration": 49,
    "start_time": "2021-10-06T22:24:08.655Z"
   },
   {
    "duration": 36,
    "start_time": "2021-10-06T22:24:08.706Z"
   },
   {
    "duration": 65,
    "start_time": "2021-10-06T22:24:08.746Z"
   },
   {
    "duration": 39,
    "start_time": "2021-10-06T22:24:08.814Z"
   },
   {
    "duration": 68,
    "start_time": "2021-10-06T22:24:08.855Z"
   },
   {
    "duration": 52,
    "start_time": "2021-10-06T22:24:08.925Z"
   },
   {
    "duration": 71,
    "start_time": "2021-10-06T22:24:08.980Z"
   },
   {
    "duration": 1024,
    "start_time": "2021-10-06T22:24:09.054Z"
   },
   {
    "duration": 34,
    "start_time": "2021-10-06T22:24:10.081Z"
   },
   {
    "duration": 21,
    "start_time": "2021-10-06T22:24:10.117Z"
   },
   {
    "duration": 874,
    "start_time": "2021-10-06T22:24:10.140Z"
   },
   {
    "duration": 22,
    "start_time": "2021-10-06T22:24:11.016Z"
   },
   {
    "duration": 64,
    "start_time": "2021-10-06T22:24:11.041Z"
   },
   {
    "duration": 711,
    "start_time": "2021-10-06T22:24:11.108Z"
   },
   {
    "duration": -121,
    "start_time": "2021-10-06T22:24:11.942Z"
   },
   {
    "duration": 564,
    "start_time": "2021-10-06T22:45:54.440Z"
   },
   {
    "duration": 1238,
    "start_time": "2021-10-06T22:46:09.370Z"
   },
   {
    "duration": 60,
    "start_time": "2021-10-06T22:46:10.611Z"
   },
   {
    "duration": 76,
    "start_time": "2021-10-06T22:46:10.674Z"
   },
   {
    "duration": 201,
    "start_time": "2021-10-06T22:46:10.753Z"
   },
   {
    "duration": 16,
    "start_time": "2021-10-06T22:46:10.957Z"
   },
   {
    "duration": 59,
    "start_time": "2021-10-06T22:46:10.975Z"
   },
   {
    "duration": 36,
    "start_time": "2021-10-06T22:46:11.036Z"
   },
   {
    "duration": 56,
    "start_time": "2021-10-06T22:46:11.075Z"
   },
   {
    "duration": 69,
    "start_time": "2021-10-06T22:46:11.134Z"
   },
   {
    "duration": 37,
    "start_time": "2021-10-06T22:46:11.205Z"
   },
   {
    "duration": 94,
    "start_time": "2021-10-06T22:46:11.244Z"
   },
   {
    "duration": 39,
    "start_time": "2021-10-06T22:46:11.341Z"
   },
   {
    "duration": 34,
    "start_time": "2021-10-06T22:46:11.383Z"
   },
   {
    "duration": 39,
    "start_time": "2021-10-06T22:46:11.419Z"
   },
   {
    "duration": 74,
    "start_time": "2021-10-06T22:46:11.460Z"
   },
   {
    "duration": 23,
    "start_time": "2021-10-06T22:46:11.536Z"
   },
   {
    "duration": 70,
    "start_time": "2021-10-06T22:46:11.562Z"
   },
   {
    "duration": 11,
    "start_time": "2021-10-06T22:46:11.635Z"
   },
   {
    "duration": 29,
    "start_time": "2021-10-06T22:46:11.649Z"
   },
   {
    "duration": 45,
    "start_time": "2021-10-06T22:46:11.680Z"
   },
   {
    "duration": 26,
    "start_time": "2021-10-06T22:46:11.728Z"
   },
   {
    "duration": 72,
    "start_time": "2021-10-06T22:46:11.756Z"
   },
   {
    "duration": 41,
    "start_time": "2021-10-06T22:46:11.833Z"
   },
   {
    "duration": 59,
    "start_time": "2021-10-06T22:46:11.877Z"
   },
   {
    "duration": 72,
    "start_time": "2021-10-06T22:46:11.939Z"
   },
   {
    "duration": 54,
    "start_time": "2021-10-06T22:46:12.014Z"
   },
   {
    "duration": 79,
    "start_time": "2021-10-06T22:46:12.071Z"
   },
   {
    "duration": 1051,
    "start_time": "2021-10-06T22:46:12.152Z"
   },
   {
    "duration": 22,
    "start_time": "2021-10-06T22:46:13.205Z"
   },
   {
    "duration": 21,
    "start_time": "2021-10-06T22:46:13.229Z"
   },
   {
    "duration": 893,
    "start_time": "2021-10-06T22:46:13.252Z"
   },
   {
    "duration": 23,
    "start_time": "2021-10-06T22:46:14.148Z"
   },
   {
    "duration": 36,
    "start_time": "2021-10-06T22:46:14.200Z"
   },
   {
    "duration": 624,
    "start_time": "2021-10-06T22:46:14.239Z"
   },
   {
    "duration": -94,
    "start_time": "2021-10-06T22:46:14.960Z"
   },
   {
    "duration": 1832,
    "start_time": "2021-10-06T22:47:16.037Z"
   },
   {
    "duration": 1220,
    "start_time": "2021-10-06T22:49:51.080Z"
   },
   {
    "duration": 62,
    "start_time": "2021-10-06T22:49:52.303Z"
   },
   {
    "duration": 79,
    "start_time": "2021-10-06T22:49:52.368Z"
   },
   {
    "duration": 184,
    "start_time": "2021-10-06T22:49:52.449Z"
   },
   {
    "duration": 16,
    "start_time": "2021-10-06T22:49:52.635Z"
   },
   {
    "duration": 65,
    "start_time": "2021-10-06T22:49:52.654Z"
   },
   {
    "duration": 40,
    "start_time": "2021-10-06T22:49:52.721Z"
   },
   {
    "duration": 55,
    "start_time": "2021-10-06T22:49:52.764Z"
   },
   {
    "duration": 51,
    "start_time": "2021-10-06T22:49:52.825Z"
   },
   {
    "duration": 36,
    "start_time": "2021-10-06T22:49:52.901Z"
   },
   {
    "duration": 101,
    "start_time": "2021-10-06T22:49:52.940Z"
   },
   {
    "duration": 41,
    "start_time": "2021-10-06T22:49:53.043Z"
   },
   {
    "duration": 35,
    "start_time": "2021-10-06T22:49:53.087Z"
   },
   {
    "duration": 40,
    "start_time": "2021-10-06T22:49:53.125Z"
   },
   {
    "duration": 80,
    "start_time": "2021-10-06T22:49:53.168Z"
   },
   {
    "duration": 51,
    "start_time": "2021-10-06T22:49:53.251Z"
   },
   {
    "duration": 41,
    "start_time": "2021-10-06T22:49:53.305Z"
   },
   {
    "duration": 12,
    "start_time": "2021-10-06T22:49:53.349Z"
   },
   {
    "duration": 60,
    "start_time": "2021-10-06T22:49:53.364Z"
   },
   {
    "duration": 30,
    "start_time": "2021-10-06T22:49:53.427Z"
   },
   {
    "duration": 63,
    "start_time": "2021-10-06T22:49:53.461Z"
   },
   {
    "duration": 38,
    "start_time": "2021-10-06T22:49:53.527Z"
   },
   {
    "duration": 40,
    "start_time": "2021-10-06T22:49:53.600Z"
   },
   {
    "duration": 40,
    "start_time": "2021-10-06T22:49:53.643Z"
   },
   {
    "duration": 50,
    "start_time": "2021-10-06T22:49:53.702Z"
   },
   {
    "duration": 88,
    "start_time": "2021-10-06T22:49:53.755Z"
   },
   {
    "duration": 78,
    "start_time": "2021-10-06T22:49:53.850Z"
   },
   {
    "duration": 1133,
    "start_time": "2021-10-06T22:49:53.930Z"
   },
   {
    "duration": 37,
    "start_time": "2021-10-06T22:49:55.065Z"
   },
   {
    "duration": 21,
    "start_time": "2021-10-06T22:49:55.105Z"
   },
   {
    "duration": 890,
    "start_time": "2021-10-06T22:49:55.129Z"
   },
   {
    "duration": 22,
    "start_time": "2021-10-06T22:49:56.021Z"
   },
   {
    "duration": 67,
    "start_time": "2021-10-06T22:49:56.045Z"
   },
   {
    "duration": 34391,
    "start_time": "2021-10-06T22:49:56.116Z"
   },
   {
    "duration": 21,
    "start_time": "2021-10-06T22:50:30.510Z"
   },
   {
    "duration": 612,
    "start_time": "2021-10-06T22:51:24.453Z"
   },
   {
    "duration": 1185,
    "start_time": "2021-10-06T22:51:52.209Z"
   },
   {
    "duration": 64,
    "start_time": "2021-10-06T22:51:53.396Z"
   },
   {
    "duration": 85,
    "start_time": "2021-10-06T22:51:53.464Z"
   },
   {
    "duration": 190,
    "start_time": "2021-10-06T22:51:53.552Z"
   },
   {
    "duration": 16,
    "start_time": "2021-10-06T22:51:53.744Z"
   },
   {
    "duration": 60,
    "start_time": "2021-10-06T22:51:53.762Z"
   },
   {
    "duration": 36,
    "start_time": "2021-10-06T22:51:53.824Z"
   },
   {
    "duration": 58,
    "start_time": "2021-10-06T22:51:53.863Z"
   },
   {
    "duration": 52,
    "start_time": "2021-10-06T22:51:53.924Z"
   },
   {
    "duration": 54,
    "start_time": "2021-10-06T22:51:53.979Z"
   },
   {
    "duration": 85,
    "start_time": "2021-10-06T22:51:54.036Z"
   },
   {
    "duration": 40,
    "start_time": "2021-10-06T22:51:54.124Z"
   },
   {
    "duration": 46,
    "start_time": "2021-10-06T22:51:54.166Z"
   },
   {
    "duration": 42,
    "start_time": "2021-10-06T22:51:54.214Z"
   },
   {
    "duration": 76,
    "start_time": "2021-10-06T22:51:54.259Z"
   },
   {
    "duration": 28,
    "start_time": "2021-10-06T22:51:54.338Z"
   },
   {
    "duration": 71,
    "start_time": "2021-10-06T22:51:54.369Z"
   },
   {
    "duration": 13,
    "start_time": "2021-10-06T22:51:54.443Z"
   },
   {
    "duration": 64,
    "start_time": "2021-10-06T22:51:54.459Z"
   },
   {
    "duration": 31,
    "start_time": "2021-10-06T22:51:54.526Z"
   },
   {
    "duration": 59,
    "start_time": "2021-10-06T22:51:54.560Z"
   },
   {
    "duration": 39,
    "start_time": "2021-10-06T22:51:54.622Z"
   },
   {
    "duration": 42,
    "start_time": "2021-10-06T22:51:54.701Z"
   },
   {
    "duration": 63,
    "start_time": "2021-10-06T22:51:54.747Z"
   },
   {
    "duration": 51,
    "start_time": "2021-10-06T22:51:54.813Z"
   },
   {
    "duration": 80,
    "start_time": "2021-10-06T22:51:54.866Z"
   },
   {
    "duration": 71,
    "start_time": "2021-10-06T22:51:54.948Z"
   },
   {
    "duration": 1038,
    "start_time": "2021-10-06T22:51:55.022Z"
   },
   {
    "duration": 39,
    "start_time": "2021-10-06T22:51:56.062Z"
   },
   {
    "duration": 21,
    "start_time": "2021-10-06T22:51:56.104Z"
   },
   {
    "duration": 902,
    "start_time": "2021-10-06T22:51:56.127Z"
   },
   {
    "duration": 26,
    "start_time": "2021-10-06T22:51:57.032Z"
   },
   {
    "duration": 76,
    "start_time": "2021-10-06T22:51:57.061Z"
   },
   {
    "duration": 637,
    "start_time": "2021-10-06T22:51:57.139Z"
   },
   {
    "duration": 25,
    "start_time": "2021-10-06T22:51:57.779Z"
   },
   {
    "duration": 35073,
    "start_time": "2021-10-06T22:52:12.871Z"
   },
   {
    "duration": 36195,
    "start_time": "2021-10-06T22:58:15.555Z"
   },
   {
    "duration": 623,
    "start_time": "2021-10-06T23:04:06.017Z"
   },
   {
    "duration": 83482,
    "start_time": "2021-10-06T23:04:18.653Z"
   },
   {
    "duration": 68183,
    "start_time": "2021-10-06T23:06:44.598Z"
   },
   {
    "duration": 45466,
    "start_time": "2021-10-06T23:10:00.550Z"
   },
   {
    "duration": 9,
    "start_time": "2021-10-06T23:14:34.795Z"
   },
   {
    "duration": 1185,
    "start_time": "2021-10-06T23:17:47.611Z"
   },
   {
    "duration": 66,
    "start_time": "2021-10-06T23:17:48.800Z"
   },
   {
    "duration": 83,
    "start_time": "2021-10-06T23:17:48.871Z"
   },
   {
    "duration": 196,
    "start_time": "2021-10-06T23:17:48.957Z"
   },
   {
    "duration": 19,
    "start_time": "2021-10-06T23:17:49.156Z"
   },
   {
    "duration": 48,
    "start_time": "2021-10-06T23:17:49.201Z"
   },
   {
    "duration": 57,
    "start_time": "2021-10-06T23:17:49.252Z"
   },
   {
    "duration": 35,
    "start_time": "2021-10-06T23:17:49.313Z"
   },
   {
    "duration": 80,
    "start_time": "2021-10-06T23:17:49.351Z"
   },
   {
    "duration": 35,
    "start_time": "2021-10-06T23:17:49.434Z"
   },
   {
    "duration": 87,
    "start_time": "2021-10-06T23:17:49.471Z"
   },
   {
    "duration": 50,
    "start_time": "2021-10-06T23:17:49.560Z"
   },
   {
    "duration": 21,
    "start_time": "2021-10-06T23:17:49.613Z"
   },
   {
    "duration": 38,
    "start_time": "2021-10-06T23:17:49.636Z"
   },
   {
    "duration": 50,
    "start_time": "2021-10-06T23:17:49.700Z"
   },
   {
    "duration": 22,
    "start_time": "2021-10-06T23:17:49.753Z"
   },
   {
    "duration": 60,
    "start_time": "2021-10-06T23:17:49.778Z"
   },
   {
    "duration": 11,
    "start_time": "2021-10-06T23:17:49.841Z"
   },
   {
    "duration": 56,
    "start_time": "2021-10-06T23:17:49.855Z"
   },
   {
    "duration": 29,
    "start_time": "2021-10-06T23:17:49.913Z"
   },
   {
    "duration": 27,
    "start_time": "2021-10-06T23:17:49.945Z"
   },
   {
    "duration": 40,
    "start_time": "2021-10-06T23:17:50.001Z"
   },
   {
    "duration": 66,
    "start_time": "2021-10-06T23:17:50.046Z"
   },
   {
    "duration": 41,
    "start_time": "2021-10-06T23:17:50.115Z"
   },
   {
    "duration": 78,
    "start_time": "2021-10-06T23:17:50.159Z"
   },
   {
    "duration": 70,
    "start_time": "2021-10-06T23:17:50.240Z"
   },
   {
    "duration": 54,
    "start_time": "2021-10-06T23:17:50.312Z"
   },
   {
    "duration": 1032,
    "start_time": "2021-10-06T23:17:50.368Z"
   },
   {
    "duration": 21,
    "start_time": "2021-10-06T23:17:51.403Z"
   },
   {
    "duration": 21,
    "start_time": "2021-10-06T23:17:51.426Z"
   },
   {
    "duration": 890,
    "start_time": "2021-10-06T23:17:51.450Z"
   },
   {
    "duration": 23,
    "start_time": "2021-10-06T23:17:52.342Z"
   },
   {
    "duration": 64,
    "start_time": "2021-10-06T23:17:52.367Z"
   },
   {
    "duration": 4,
    "start_time": "2021-10-06T23:17:52.433Z"
   },
   {
    "duration": 34249,
    "start_time": "2021-10-06T23:17:52.439Z"
   },
   {
    "duration": 20,
    "start_time": "2021-10-06T23:18:26.699Z"
   },
   {
    "duration": 368,
    "start_time": "2021-10-06T23:20:57.457Z"
   },
   {
    "duration": 2061,
    "start_time": "2021-10-06T23:21:08.028Z"
   },
   {
    "duration": 1273,
    "start_time": "2021-10-06T23:23:16.386Z"
   },
   {
    "duration": 87,
    "start_time": "2021-10-06T23:23:17.662Z"
   },
   {
    "duration": 91,
    "start_time": "2021-10-06T23:23:17.752Z"
   },
   {
    "duration": 210,
    "start_time": "2021-10-06T23:23:17.850Z"
   },
   {
    "duration": 17,
    "start_time": "2021-10-06T23:23:18.062Z"
   },
   {
    "duration": 61,
    "start_time": "2021-10-06T23:23:18.081Z"
   },
   {
    "duration": 57,
    "start_time": "2021-10-06T23:23:18.144Z"
   },
   {
    "duration": 38,
    "start_time": "2021-10-06T23:23:18.207Z"
   },
   {
    "duration": 84,
    "start_time": "2021-10-06T23:23:18.248Z"
   },
   {
    "duration": 36,
    "start_time": "2021-10-06T23:23:18.335Z"
   },
   {
    "duration": 89,
    "start_time": "2021-10-06T23:23:18.374Z"
   },
   {
    "duration": 57,
    "start_time": "2021-10-06T23:23:18.466Z"
   },
   {
    "duration": 23,
    "start_time": "2021-10-06T23:23:18.526Z"
   },
   {
    "duration": 72,
    "start_time": "2021-10-06T23:23:18.551Z"
   },
   {
    "duration": 49,
    "start_time": "2021-10-06T23:23:18.625Z"
   },
   {
    "duration": 38,
    "start_time": "2021-10-06T23:23:18.677Z"
   },
   {
    "duration": 41,
    "start_time": "2021-10-06T23:23:18.717Z"
   },
   {
    "duration": 10,
    "start_time": "2021-10-06T23:23:18.761Z"
   },
   {
    "duration": 31,
    "start_time": "2021-10-06T23:23:18.800Z"
   },
   {
    "duration": 29,
    "start_time": "2021-10-06T23:23:18.834Z"
   },
   {
    "duration": 53,
    "start_time": "2021-10-06T23:23:18.866Z"
   },
   {
    "duration": 40,
    "start_time": "2021-10-06T23:23:18.921Z"
   },
   {
    "duration": 77,
    "start_time": "2021-10-06T23:23:18.966Z"
   },
   {
    "duration": 56,
    "start_time": "2021-10-06T23:23:19.046Z"
   },
   {
    "duration": 58,
    "start_time": "2021-10-06T23:23:19.105Z"
   },
   {
    "duration": 76,
    "start_time": "2021-10-06T23:23:19.165Z"
   },
   {
    "duration": 80,
    "start_time": "2021-10-06T23:23:19.243Z"
   },
   {
    "duration": 1057,
    "start_time": "2021-10-06T23:23:19.326Z"
   },
   {
    "duration": 40,
    "start_time": "2021-10-06T23:23:20.386Z"
   },
   {
    "duration": 23,
    "start_time": "2021-10-06T23:23:20.428Z"
   },
   {
    "duration": 910,
    "start_time": "2021-10-06T23:23:20.453Z"
   },
   {
    "duration": 52,
    "start_time": "2021-10-06T23:23:21.366Z"
   },
   {
    "duration": 34,
    "start_time": "2021-10-06T23:23:21.420Z"
   },
   {
    "duration": 3,
    "start_time": "2021-10-06T23:23:21.456Z"
   },
   {
    "duration": 2146,
    "start_time": "2021-10-06T23:23:21.461Z"
   },
   {
    "duration": 19,
    "start_time": "2021-10-06T23:23:23.610Z"
   },
   {
    "duration": 2663,
    "start_time": "2021-10-06T23:23:29.251Z"
   },
   {
    "duration": 1242,
    "start_time": "2021-10-06T23:25:11.494Z"
   },
   {
    "duration": 94,
    "start_time": "2021-10-06T23:25:12.738Z"
   },
   {
    "duration": 81,
    "start_time": "2021-10-06T23:25:12.836Z"
   },
   {
    "duration": 196,
    "start_time": "2021-10-06T23:25:12.921Z"
   },
   {
    "duration": 16,
    "start_time": "2021-10-06T23:25:13.119Z"
   },
   {
    "duration": 63,
    "start_time": "2021-10-06T23:25:13.138Z"
   },
   {
    "duration": 41,
    "start_time": "2021-10-06T23:25:13.205Z"
   },
   {
    "duration": 76,
    "start_time": "2021-10-06T23:25:13.251Z"
   },
   {
    "duration": 54,
    "start_time": "2021-10-06T23:25:13.331Z"
   },
   {
    "duration": 45,
    "start_time": "2021-10-06T23:25:13.388Z"
   },
   {
    "duration": 96,
    "start_time": "2021-10-06T23:25:13.435Z"
   },
   {
    "duration": 40,
    "start_time": "2021-10-06T23:25:13.534Z"
   },
   {
    "duration": 46,
    "start_time": "2021-10-06T23:25:13.576Z"
   },
   {
    "duration": 39,
    "start_time": "2021-10-06T23:25:13.625Z"
   },
   {
    "duration": 75,
    "start_time": "2021-10-06T23:25:13.666Z"
   },
   {
    "duration": 24,
    "start_time": "2021-10-06T23:25:13.743Z"
   },
   {
    "duration": 63,
    "start_time": "2021-10-06T23:25:13.769Z"
   },
   {
    "duration": 12,
    "start_time": "2021-10-06T23:25:13.834Z"
   },
   {
    "duration": 43,
    "start_time": "2021-10-06T23:25:13.848Z"
   },
   {
    "duration": 32,
    "start_time": "2021-10-06T23:25:13.893Z"
   },
   {
    "duration": 25,
    "start_time": "2021-10-06T23:25:13.927Z"
   },
   {
    "duration": 75,
    "start_time": "2021-10-06T23:25:13.954Z"
   },
   {
    "duration": 40,
    "start_time": "2021-10-06T23:25:14.033Z"
   },
   {
    "duration": 65,
    "start_time": "2021-10-06T23:25:14.075Z"
   },
   {
    "duration": 60,
    "start_time": "2021-10-06T23:25:14.143Z"
   },
   {
    "duration": 58,
    "start_time": "2021-10-06T23:25:14.205Z"
   },
   {
    "duration": 76,
    "start_time": "2021-10-06T23:25:14.266Z"
   },
   {
    "duration": 1341,
    "start_time": "2021-10-06T23:25:14.346Z"
   },
   {
    "duration": 32,
    "start_time": "2021-10-06T23:25:15.689Z"
   },
   {
    "duration": 20,
    "start_time": "2021-10-06T23:25:15.723Z"
   },
   {
    "duration": 919,
    "start_time": "2021-10-06T23:25:15.745Z"
   },
   {
    "duration": 44,
    "start_time": "2021-10-06T23:25:16.667Z"
   },
   {
    "duration": 39,
    "start_time": "2021-10-06T23:25:16.713Z"
   },
   {
    "duration": 4,
    "start_time": "2021-10-06T23:25:16.754Z"
   },
   {
    "duration": 2625,
    "start_time": "2021-10-06T23:25:16.761Z"
   },
   {
    "duration": 26,
    "start_time": "2021-10-06T23:25:19.389Z"
   },
   {
    "duration": 48,
    "start_time": "2021-10-07T00:20:51.424Z"
   },
   {
    "duration": 1263,
    "start_time": "2021-10-07T00:21:00.588Z"
   },
   {
    "duration": 82,
    "start_time": "2021-10-07T00:21:01.854Z"
   },
   {
    "duration": 75,
    "start_time": "2021-10-07T00:21:01.940Z"
   },
   {
    "duration": 197,
    "start_time": "2021-10-07T00:21:02.018Z"
   },
   {
    "duration": 16,
    "start_time": "2021-10-07T00:21:02.217Z"
   },
   {
    "duration": 66,
    "start_time": "2021-10-07T00:21:02.236Z"
   },
   {
    "duration": 35,
    "start_time": "2021-10-07T00:21:02.305Z"
   },
   {
    "duration": 34,
    "start_time": "2021-10-07T00:21:02.344Z"
   },
   {
    "duration": 52,
    "start_time": "2021-10-07T00:21:02.402Z"
   },
   {
    "duration": 56,
    "start_time": "2021-10-07T00:21:02.457Z"
   },
   {
    "duration": 87,
    "start_time": "2021-10-07T00:21:02.515Z"
   },
   {
    "duration": 41,
    "start_time": "2021-10-07T00:21:02.604Z"
   },
   {
    "duration": 21,
    "start_time": "2021-10-07T00:21:02.647Z"
   },
   {
    "duration": 65,
    "start_time": "2021-10-07T00:21:02.670Z"
   },
   {
    "duration": 72,
    "start_time": "2021-10-07T00:21:02.738Z"
   },
   {
    "duration": 24,
    "start_time": "2021-10-07T00:21:02.812Z"
   },
   {
    "duration": 69,
    "start_time": "2021-10-07T00:21:02.839Z"
   },
   {
    "duration": 12,
    "start_time": "2021-10-07T00:21:02.911Z"
   },
   {
    "duration": 35,
    "start_time": "2021-10-07T00:21:02.925Z"
   },
   {
    "duration": 59,
    "start_time": "2021-10-07T00:21:02.962Z"
   },
   {
    "duration": 28,
    "start_time": "2021-10-07T00:21:03.023Z"
   },
   {
    "duration": 57,
    "start_time": "2021-10-07T00:21:03.054Z"
   },
   {
    "duration": 47,
    "start_time": "2021-10-07T00:21:03.116Z"
   },
   {
    "duration": 67,
    "start_time": "2021-10-07T00:21:03.166Z"
   },
   {
    "duration": 67,
    "start_time": "2021-10-07T00:21:03.236Z"
   },
   {
    "duration": 54,
    "start_time": "2021-10-07T00:21:03.306Z"
   },
   {
    "duration": 78,
    "start_time": "2021-10-07T00:21:03.363Z"
   },
   {
    "duration": 1046,
    "start_time": "2021-10-07T00:21:03.444Z"
   },
   {
    "duration": 26,
    "start_time": "2021-10-07T00:21:04.501Z"
   },
   {
    "duration": 23,
    "start_time": "2021-10-07T00:21:04.531Z"
   },
   {
    "duration": 956,
    "start_time": "2021-10-07T00:21:04.557Z"
   },
   {
    "duration": 22,
    "start_time": "2021-10-07T00:21:05.515Z"
   },
   {
    "duration": 74,
    "start_time": "2021-10-07T00:21:05.539Z"
   },
   {
    "duration": 2528,
    "start_time": "2021-10-07T00:21:05.615Z"
   },
   {
    "duration": 19,
    "start_time": "2021-10-07T00:21:08.145Z"
   },
   {
    "duration": 83,
    "start_time": "2021-10-07T00:21:27.306Z"
   },
   {
    "duration": 1228,
    "start_time": "2021-10-07T00:21:35.206Z"
   },
   {
    "duration": 84,
    "start_time": "2021-10-07T00:21:36.437Z"
   },
   {
    "duration": 83,
    "start_time": "2021-10-07T00:21:36.524Z"
   },
   {
    "duration": 191,
    "start_time": "2021-10-07T00:21:36.611Z"
   },
   {
    "duration": 17,
    "start_time": "2021-10-07T00:21:36.804Z"
   },
   {
    "duration": 49,
    "start_time": "2021-10-07T00:21:36.823Z"
   },
   {
    "duration": 51,
    "start_time": "2021-10-07T00:21:36.874Z"
   },
   {
    "duration": 33,
    "start_time": "2021-10-07T00:21:36.929Z"
   },
   {
    "duration": 76,
    "start_time": "2021-10-07T00:21:36.965Z"
   },
   {
    "duration": 55,
    "start_time": "2021-10-07T00:21:37.044Z"
   },
   {
    "duration": 71,
    "start_time": "2021-10-07T00:21:37.102Z"
   },
   {
    "duration": 57,
    "start_time": "2021-10-07T00:21:37.175Z"
   },
   {
    "duration": 22,
    "start_time": "2021-10-07T00:21:37.234Z"
   },
   {
    "duration": 65,
    "start_time": "2021-10-07T00:21:37.258Z"
   },
   {
    "duration": 50,
    "start_time": "2021-10-07T00:21:37.325Z"
   },
   {
    "duration": 44,
    "start_time": "2021-10-07T00:21:37.377Z"
   },
   {
    "duration": 38,
    "start_time": "2021-10-07T00:21:37.424Z"
   },
   {
    "duration": 10,
    "start_time": "2021-10-07T00:21:37.464Z"
   },
   {
    "duration": 26,
    "start_time": "2021-10-07T00:21:37.500Z"
   },
   {
    "duration": 28,
    "start_time": "2021-10-07T00:21:37.528Z"
   },
   {
    "duration": 60,
    "start_time": "2021-10-07T00:21:37.559Z"
   },
   {
    "duration": 37,
    "start_time": "2021-10-07T00:21:37.621Z"
   },
   {
    "duration": 69,
    "start_time": "2021-10-07T00:21:37.662Z"
   },
   {
    "duration": 43,
    "start_time": "2021-10-07T00:21:37.734Z"
   },
   {
    "duration": 68,
    "start_time": "2021-10-07T00:21:37.779Z"
   },
   {
    "duration": 64,
    "start_time": "2021-10-07T00:21:37.849Z"
   },
   {
    "duration": 54,
    "start_time": "2021-10-07T00:21:37.915Z"
   },
   {
    "duration": 1044,
    "start_time": "2021-10-07T00:21:37.971Z"
   },
   {
    "duration": 21,
    "start_time": "2021-10-07T00:21:39.018Z"
   },
   {
    "duration": 19,
    "start_time": "2021-10-07T00:21:39.042Z"
   },
   {
    "duration": 893,
    "start_time": "2021-10-07T00:21:39.063Z"
   },
   {
    "duration": 21,
    "start_time": "2021-10-07T00:21:39.959Z"
   },
   {
    "duration": 41,
    "start_time": "2021-10-07T00:21:40.001Z"
   },
   {
    "duration": 2455,
    "start_time": "2021-10-07T00:21:40.045Z"
   },
   {
    "duration": 18,
    "start_time": "2021-10-07T00:21:42.503Z"
   },
   {
    "duration": 55,
    "start_time": "2021-10-07T00:22:07.676Z"
   },
   {
    "duration": 1164,
    "start_time": "2021-10-07T00:22:14.448Z"
   },
   {
    "duration": 60,
    "start_time": "2021-10-07T00:22:15.615Z"
   },
   {
    "duration": 51,
    "start_time": "2021-10-07T00:22:15.702Z"
   },
   {
    "duration": 196,
    "start_time": "2021-10-07T00:22:15.756Z"
   },
   {
    "duration": 16,
    "start_time": "2021-10-07T00:22:15.955Z"
   },
   {
    "duration": 62,
    "start_time": "2021-10-07T00:22:15.973Z"
   },
   {
    "duration": 35,
    "start_time": "2021-10-07T00:22:16.038Z"
   },
   {
    "duration": 54,
    "start_time": "2021-10-07T00:22:16.077Z"
   },
   {
    "duration": 68,
    "start_time": "2021-10-07T00:22:16.134Z"
   },
   {
    "duration": 38,
    "start_time": "2021-10-07T00:22:16.205Z"
   },
   {
    "duration": 98,
    "start_time": "2021-10-07T00:22:16.246Z"
   },
   {
    "duration": 56,
    "start_time": "2021-10-07T00:22:16.346Z"
   },
   {
    "duration": 21,
    "start_time": "2021-10-07T00:22:16.405Z"
   },
   {
    "duration": 35,
    "start_time": "2021-10-07T00:22:16.428Z"
   },
   {
    "duration": 84,
    "start_time": "2021-10-07T00:22:16.465Z"
   },
   {
    "duration": 23,
    "start_time": "2021-10-07T00:22:16.551Z"
   },
   {
    "duration": 43,
    "start_time": "2021-10-07T00:22:16.603Z"
   },
   {
    "duration": 11,
    "start_time": "2021-10-07T00:22:16.649Z"
   },
   {
    "duration": 59,
    "start_time": "2021-10-07T00:22:16.662Z"
   },
   {
    "duration": 29,
    "start_time": "2021-10-07T00:22:16.724Z"
   },
   {
    "duration": 56,
    "start_time": "2021-10-07T00:22:16.756Z"
   },
   {
    "duration": 38,
    "start_time": "2021-10-07T00:22:16.814Z"
   },
   {
    "duration": 68,
    "start_time": "2021-10-07T00:22:16.857Z"
   },
   {
    "duration": 40,
    "start_time": "2021-10-07T00:22:16.928Z"
   },
   {
    "duration": 65,
    "start_time": "2021-10-07T00:22:16.970Z"
   },
   {
    "duration": 68,
    "start_time": "2021-10-07T00:22:17.038Z"
   },
   {
    "duration": 55,
    "start_time": "2021-10-07T00:22:17.109Z"
   },
   {
    "duration": 1057,
    "start_time": "2021-10-07T00:22:17.167Z"
   },
   {
    "duration": 21,
    "start_time": "2021-10-07T00:22:18.226Z"
   },
   {
    "duration": 20,
    "start_time": "2021-10-07T00:22:18.249Z"
   },
   {
    "duration": 901,
    "start_time": "2021-10-07T00:22:18.272Z"
   },
   {
    "duration": 34,
    "start_time": "2021-10-07T00:22:19.176Z"
   },
   {
    "duration": 36,
    "start_time": "2021-10-07T00:22:19.212Z"
   },
   {
    "duration": 2620,
    "start_time": "2021-10-07T00:22:19.250Z"
   },
   {
    "duration": 29,
    "start_time": "2021-10-07T00:22:21.873Z"
   },
   {
    "duration": 1186,
    "start_time": "2021-10-07T00:22:54.263Z"
   },
   {
    "duration": 78,
    "start_time": "2021-10-07T00:22:55.451Z"
   },
   {
    "duration": 76,
    "start_time": "2021-10-07T00:22:55.532Z"
   },
   {
    "duration": 190,
    "start_time": "2021-10-07T00:22:55.611Z"
   },
   {
    "duration": 19,
    "start_time": "2021-10-07T00:22:55.804Z"
   },
   {
    "duration": 43,
    "start_time": "2021-10-07T00:22:55.826Z"
   },
   {
    "duration": 60,
    "start_time": "2021-10-07T00:22:55.871Z"
   },
   {
    "duration": 35,
    "start_time": "2021-10-07T00:22:55.935Z"
   },
   {
    "duration": 53,
    "start_time": "2021-10-07T00:22:56.000Z"
   },
   {
    "duration": 57,
    "start_time": "2021-10-07T00:22:56.055Z"
   },
   {
    "duration": 69,
    "start_time": "2021-10-07T00:22:56.114Z"
   },
   {
    "duration": 55,
    "start_time": "2021-10-07T00:22:56.185Z"
   },
   {
    "duration": 22,
    "start_time": "2021-10-07T00:22:56.242Z"
   },
   {
    "duration": 64,
    "start_time": "2021-10-07T00:22:56.266Z"
   },
   {
    "duration": 78,
    "start_time": "2021-10-07T00:22:56.332Z"
   },
   {
    "duration": 26,
    "start_time": "2021-10-07T00:22:56.413Z"
   },
   {
    "duration": 73,
    "start_time": "2021-10-07T00:22:56.442Z"
   },
   {
    "duration": 11,
    "start_time": "2021-10-07T00:22:56.517Z"
   },
   {
    "duration": 27,
    "start_time": "2021-10-07T00:22:56.531Z"
   },
   {
    "duration": 66,
    "start_time": "2021-10-07T00:22:56.561Z"
   },
   {
    "duration": 27,
    "start_time": "2021-10-07T00:22:56.629Z"
   },
   {
    "duration": 75,
    "start_time": "2021-10-07T00:22:56.658Z"
   },
   {
    "duration": 42,
    "start_time": "2021-10-07T00:22:56.738Z"
   },
   {
    "duration": 57,
    "start_time": "2021-10-07T00:22:56.783Z"
   },
   {
    "duration": 66,
    "start_time": "2021-10-07T00:22:56.843Z"
   },
   {
    "duration": 51,
    "start_time": "2021-10-07T00:22:56.912Z"
   },
   {
    "duration": 82,
    "start_time": "2021-10-07T00:22:56.966Z"
   },
   {
    "duration": 1060,
    "start_time": "2021-10-07T00:22:57.051Z"
   },
   {
    "duration": 23,
    "start_time": "2021-10-07T00:22:58.114Z"
   },
   {
    "duration": 22,
    "start_time": "2021-10-07T00:22:58.139Z"
   },
   {
    "duration": 922,
    "start_time": "2021-10-07T00:22:58.163Z"
   },
   {
    "duration": 27,
    "start_time": "2021-10-07T00:22:59.088Z"
   },
   {
    "duration": 40,
    "start_time": "2021-10-07T00:22:59.118Z"
   },
   {
    "duration": 2522,
    "start_time": "2021-10-07T00:22:59.160Z"
   },
   {
    "duration": 31,
    "start_time": "2021-10-07T00:23:01.685Z"
   },
   {
    "duration": 1253,
    "start_time": "2021-10-07T00:35:08.576Z"
   },
   {
    "duration": 92,
    "start_time": "2021-10-07T00:35:09.832Z"
   },
   {
    "duration": 86,
    "start_time": "2021-10-07T00:35:09.928Z"
   },
   {
    "duration": 203,
    "start_time": "2021-10-07T00:35:10.017Z"
   },
   {
    "duration": 18,
    "start_time": "2021-10-07T00:35:10.223Z"
   },
   {
    "duration": 69,
    "start_time": "2021-10-07T00:35:10.243Z"
   },
   {
    "duration": 35,
    "start_time": "2021-10-07T00:35:10.314Z"
   },
   {
    "duration": 54,
    "start_time": "2021-10-07T00:35:10.353Z"
   },
   {
    "duration": 51,
    "start_time": "2021-10-07T00:35:10.410Z"
   },
   {
    "duration": 56,
    "start_time": "2021-10-07T00:35:10.464Z"
   },
   {
    "duration": 80,
    "start_time": "2021-10-07T00:35:10.523Z"
   },
   {
    "duration": 40,
    "start_time": "2021-10-07T00:35:10.605Z"
   },
   {
    "duration": 20,
    "start_time": "2021-10-07T00:35:10.647Z"
   },
   {
    "duration": 68,
    "start_time": "2021-10-07T00:35:10.669Z"
   },
   {
    "duration": 68,
    "start_time": "2021-10-07T00:35:10.739Z"
   },
   {
    "duration": 26,
    "start_time": "2021-10-07T00:35:10.809Z"
   },
   {
    "duration": 38,
    "start_time": "2021-10-07T00:35:10.837Z"
   },
   {
    "duration": 12,
    "start_time": "2021-10-07T00:35:10.901Z"
   },
   {
    "duration": 32,
    "start_time": "2021-10-07T00:35:10.915Z"
   },
   {
    "duration": 54,
    "start_time": "2021-10-07T00:35:10.949Z"
   },
   {
    "duration": 27,
    "start_time": "2021-10-07T00:35:11.005Z"
   },
   {
    "duration": 37,
    "start_time": "2021-10-07T00:35:11.034Z"
   },
   {
    "duration": 42,
    "start_time": "2021-10-07T00:35:11.102Z"
   },
   {
    "duration": 60,
    "start_time": "2021-10-07T00:35:11.147Z"
   },
   {
    "duration": 52,
    "start_time": "2021-10-07T00:35:11.210Z"
   },
   {
    "duration": 77,
    "start_time": "2021-10-07T00:35:11.264Z"
   },
   {
    "duration": 70,
    "start_time": "2021-10-07T00:35:11.344Z"
   },
   {
    "duration": 1041,
    "start_time": "2021-10-07T00:35:11.417Z"
   },
   {
    "duration": 21,
    "start_time": "2021-10-07T00:35:12.460Z"
   },
   {
    "duration": 27,
    "start_time": "2021-10-07T00:35:12.501Z"
   },
   {
    "duration": 900,
    "start_time": "2021-10-07T00:35:12.530Z"
   },
   {
    "duration": 21,
    "start_time": "2021-10-07T00:35:13.433Z"
   },
   {
    "duration": 402,
    "start_time": "2021-10-07T00:35:13.456Z"
   },
   {
    "duration": -189,
    "start_time": "2021-10-07T00:35:14.050Z"
   },
   {
    "duration": -194,
    "start_time": "2021-10-07T00:35:14.056Z"
   },
   {
    "duration": 1214,
    "start_time": "2021-10-07T00:35:44.491Z"
   },
   {
    "duration": 64,
    "start_time": "2021-10-07T00:35:45.707Z"
   },
   {
    "duration": 51,
    "start_time": "2021-10-07T00:35:45.802Z"
   },
   {
    "duration": 219,
    "start_time": "2021-10-07T00:35:45.855Z"
   },
   {
    "duration": 24,
    "start_time": "2021-10-07T00:35:46.077Z"
   },
   {
    "duration": 42,
    "start_time": "2021-10-07T00:35:46.104Z"
   },
   {
    "duration": 60,
    "start_time": "2021-10-07T00:35:46.148Z"
   },
   {
    "duration": 33,
    "start_time": "2021-10-07T00:35:46.210Z"
   },
   {
    "duration": 73,
    "start_time": "2021-10-07T00:35:46.247Z"
   },
   {
    "duration": 36,
    "start_time": "2021-10-07T00:35:46.323Z"
   },
   {
    "duration": 91,
    "start_time": "2021-10-07T00:35:46.362Z"
   },
   {
    "duration": 51,
    "start_time": "2021-10-07T00:35:46.455Z"
   },
   {
    "duration": 21,
    "start_time": "2021-10-07T00:35:46.509Z"
   },
   {
    "duration": 37,
    "start_time": "2021-10-07T00:35:46.532Z"
   },
   {
    "duration": 74,
    "start_time": "2021-10-07T00:35:46.572Z"
   },
   {
    "duration": 21,
    "start_time": "2021-10-07T00:35:46.649Z"
   },
   {
    "duration": 62,
    "start_time": "2021-10-07T00:35:46.672Z"
   },
   {
    "duration": 12,
    "start_time": "2021-10-07T00:35:46.737Z"
   },
   {
    "duration": 51,
    "start_time": "2021-10-07T00:35:46.751Z"
   },
   {
    "duration": 29,
    "start_time": "2021-10-07T00:35:46.804Z"
   },
   {
    "duration": 27,
    "start_time": "2021-10-07T00:35:46.835Z"
   },
   {
    "duration": 70,
    "start_time": "2021-10-07T00:35:46.864Z"
   },
   {
    "duration": 67,
    "start_time": "2021-10-07T00:35:46.937Z"
   },
   {
    "duration": 41,
    "start_time": "2021-10-07T00:35:47.007Z"
   },
   {
    "duration": 77,
    "start_time": "2021-10-07T00:35:47.051Z"
   },
   {
    "duration": 72,
    "start_time": "2021-10-07T00:35:47.131Z"
   },
   {
    "duration": 60,
    "start_time": "2021-10-07T00:35:47.210Z"
   },
   {
    "duration": 1057,
    "start_time": "2021-10-07T00:35:47.273Z"
   },
   {
    "duration": 20,
    "start_time": "2021-10-07T00:35:48.333Z"
   },
   {
    "duration": 45,
    "start_time": "2021-10-07T00:35:48.355Z"
   },
   {
    "duration": 855,
    "start_time": "2021-10-07T00:35:48.402Z"
   },
   {
    "duration": 21,
    "start_time": "2021-10-07T00:35:49.260Z"
   },
   {
    "duration": 410,
    "start_time": "2021-10-07T00:35:49.300Z"
   },
   {
    "duration": -177,
    "start_time": "2021-10-07T00:35:49.890Z"
   },
   {
    "duration": -183,
    "start_time": "2021-10-07T00:35:49.897Z"
   },
   {
    "duration": 1186,
    "start_time": "2021-10-07T00:36:20.194Z"
   },
   {
    "duration": 60,
    "start_time": "2021-10-07T00:36:21.383Z"
   },
   {
    "duration": 76,
    "start_time": "2021-10-07T00:36:21.446Z"
   },
   {
    "duration": 190,
    "start_time": "2021-10-07T00:36:21.525Z"
   },
   {
    "duration": 18,
    "start_time": "2021-10-07T00:36:21.718Z"
   },
   {
    "duration": 73,
    "start_time": "2021-10-07T00:36:21.739Z"
   },
   {
    "duration": 38,
    "start_time": "2021-10-07T00:36:21.815Z"
   },
   {
    "duration": 64,
    "start_time": "2021-10-07T00:36:21.856Z"
   },
   {
    "duration": 53,
    "start_time": "2021-10-07T00:36:21.926Z"
   },
   {
    "duration": 37,
    "start_time": "2021-10-07T00:36:22.000Z"
   },
   {
    "duration": 101,
    "start_time": "2021-10-07T00:36:22.040Z"
   },
   {
    "duration": 58,
    "start_time": "2021-10-07T00:36:22.144Z"
   },
   {
    "duration": 22,
    "start_time": "2021-10-07T00:36:22.205Z"
   },
   {
    "duration": 70,
    "start_time": "2021-10-07T00:36:22.230Z"
   },
   {
    "duration": 52,
    "start_time": "2021-10-07T00:36:22.303Z"
   },
   {
    "duration": 51,
    "start_time": "2021-10-07T00:36:22.358Z"
   },
   {
    "duration": 41,
    "start_time": "2021-10-07T00:36:22.412Z"
   },
   {
    "duration": 44,
    "start_time": "2021-10-07T00:36:22.456Z"
   },
   {
    "duration": 26,
    "start_time": "2021-10-07T00:36:22.503Z"
   },
   {
    "duration": 29,
    "start_time": "2021-10-07T00:36:22.531Z"
   },
   {
    "duration": 55,
    "start_time": "2021-10-07T00:36:22.562Z"
   },
   {
    "duration": 36,
    "start_time": "2021-10-07T00:36:22.619Z"
   },
   {
    "duration": 63,
    "start_time": "2021-10-07T00:36:22.657Z"
   },
   {
    "duration": 42,
    "start_time": "2021-10-07T00:36:22.723Z"
   },
   {
    "duration": 71,
    "start_time": "2021-10-07T00:36:22.767Z"
   },
   {
    "duration": 67,
    "start_time": "2021-10-07T00:36:22.840Z"
   },
   {
    "duration": 53,
    "start_time": "2021-10-07T00:36:22.912Z"
   },
   {
    "duration": 1041,
    "start_time": "2021-10-07T00:36:22.968Z"
   },
   {
    "duration": 24,
    "start_time": "2021-10-07T00:36:24.012Z"
   },
   {
    "duration": 22,
    "start_time": "2021-10-07T00:36:24.039Z"
   },
   {
    "duration": 886,
    "start_time": "2021-10-07T00:36:24.064Z"
   },
   {
    "duration": 22,
    "start_time": "2021-10-07T00:36:24.952Z"
   },
   {
    "duration": 40,
    "start_time": "2021-10-07T00:36:25.001Z"
   },
   {
    "duration": 3275,
    "start_time": "2021-10-07T00:36:25.044Z"
   },
   {
    "duration": 20,
    "start_time": "2021-10-07T00:36:28.322Z"
   },
   {
    "duration": 1239,
    "start_time": "2021-10-07T00:39:30.115Z"
   },
   {
    "duration": 80,
    "start_time": "2021-10-07T00:39:31.357Z"
   },
   {
    "duration": 77,
    "start_time": "2021-10-07T00:39:31.440Z"
   },
   {
    "duration": 203,
    "start_time": "2021-10-07T00:39:31.520Z"
   },
   {
    "duration": 17,
    "start_time": "2021-10-07T00:39:31.725Z"
   },
   {
    "duration": 63,
    "start_time": "2021-10-07T00:39:31.744Z"
   },
   {
    "duration": 36,
    "start_time": "2021-10-07T00:39:31.810Z"
   },
   {
    "duration": 61,
    "start_time": "2021-10-07T00:39:31.849Z"
   },
   {
    "duration": 50,
    "start_time": "2021-10-07T00:39:31.913Z"
   },
   {
    "duration": 57,
    "start_time": "2021-10-07T00:39:31.966Z"
   },
   {
    "duration": 84,
    "start_time": "2021-10-07T00:39:32.025Z"
   },
   {
    "duration": 41,
    "start_time": "2021-10-07T00:39:32.111Z"
   },
   {
    "duration": 22,
    "start_time": "2021-10-07T00:39:32.154Z"
   },
   {
    "duration": 42,
    "start_time": "2021-10-07T00:39:32.201Z"
   },
   {
    "duration": 70,
    "start_time": "2021-10-07T00:39:32.245Z"
   },
   {
    "duration": 24,
    "start_time": "2021-10-07T00:39:32.317Z"
   },
   {
    "duration": 61,
    "start_time": "2021-10-07T00:39:32.344Z"
   },
   {
    "duration": 12,
    "start_time": "2021-10-07T00:39:32.407Z"
   },
   {
    "duration": 26,
    "start_time": "2021-10-07T00:39:32.422Z"
   },
   {
    "duration": 62,
    "start_time": "2021-10-07T00:39:32.450Z"
   },
   {
    "duration": 28,
    "start_time": "2021-10-07T00:39:32.514Z"
   },
   {
    "duration": 63,
    "start_time": "2021-10-07T00:39:32.545Z"
   },
   {
    "duration": 40,
    "start_time": "2021-10-07T00:39:32.613Z"
   },
   {
    "duration": 67,
    "start_time": "2021-10-07T00:39:32.656Z"
   },
   {
    "duration": 48,
    "start_time": "2021-10-07T00:39:32.725Z"
   },
   {
    "duration": 86,
    "start_time": "2021-10-07T00:39:32.776Z"
   },
   {
    "duration": 83,
    "start_time": "2021-10-07T00:39:32.865Z"
   },
   {
    "duration": 1038,
    "start_time": "2021-10-07T00:39:32.951Z"
   },
   {
    "duration": 25,
    "start_time": "2021-10-07T00:39:33.991Z"
   },
   {
    "duration": 21,
    "start_time": "2021-10-07T00:39:34.018Z"
   },
   {
    "duration": 884,
    "start_time": "2021-10-07T00:39:34.042Z"
   },
   {
    "duration": 21,
    "start_time": "2021-10-07T00:39:34.929Z"
   },
   {
    "duration": 70,
    "start_time": "2021-10-07T00:39:34.953Z"
   },
   {
    "duration": 2667,
    "start_time": "2021-10-07T00:39:35.026Z"
   },
   {
    "duration": 20,
    "start_time": "2021-10-07T00:39:37.700Z"
   },
   {
    "duration": 1173,
    "start_time": "2021-10-07T00:39:53.234Z"
   },
   {
    "duration": 60,
    "start_time": "2021-10-07T00:39:54.409Z"
   },
   {
    "duration": 70,
    "start_time": "2021-10-07T00:39:54.471Z"
   },
   {
    "duration": 189,
    "start_time": "2021-10-07T00:39:54.543Z"
   },
   {
    "duration": 16,
    "start_time": "2021-10-07T00:39:54.735Z"
   },
   {
    "duration": 62,
    "start_time": "2021-10-07T00:39:54.754Z"
   },
   {
    "duration": 35,
    "start_time": "2021-10-07T00:39:54.819Z"
   },
   {
    "duration": 54,
    "start_time": "2021-10-07T00:39:54.858Z"
   },
   {
    "duration": 51,
    "start_time": "2021-10-07T00:39:54.916Z"
   },
   {
    "duration": 57,
    "start_time": "2021-10-07T00:39:54.970Z"
   },
   {
    "duration": 83,
    "start_time": "2021-10-07T00:39:55.030Z"
   },
   {
    "duration": 39,
    "start_time": "2021-10-07T00:39:55.115Z"
   },
   {
    "duration": 44,
    "start_time": "2021-10-07T00:39:55.156Z"
   },
   {
    "duration": 39,
    "start_time": "2021-10-07T00:39:55.202Z"
   },
   {
    "duration": 70,
    "start_time": "2021-10-07T00:39:55.243Z"
   },
   {
    "duration": 24,
    "start_time": "2021-10-07T00:39:55.315Z"
   },
   {
    "duration": 61,
    "start_time": "2021-10-07T00:39:55.341Z"
   },
   {
    "duration": 18,
    "start_time": "2021-10-07T00:39:55.406Z"
   },
   {
    "duration": 29,
    "start_time": "2021-10-07T00:39:55.426Z"
   },
   {
    "duration": 67,
    "start_time": "2021-10-07T00:39:55.458Z"
   },
   {
    "duration": 26,
    "start_time": "2021-10-07T00:39:55.528Z"
   },
   {
    "duration": 61,
    "start_time": "2021-10-07T00:39:55.556Z"
   },
   {
    "duration": 42,
    "start_time": "2021-10-07T00:39:55.622Z"
   },
   {
    "duration": 60,
    "start_time": "2021-10-07T00:39:55.667Z"
   },
   {
    "duration": 48,
    "start_time": "2021-10-07T00:39:55.729Z"
   },
   {
    "duration": 53,
    "start_time": "2021-10-07T00:39:55.800Z"
   },
   {
    "duration": 79,
    "start_time": "2021-10-07T00:39:55.855Z"
   },
   {
    "duration": 1026,
    "start_time": "2021-10-07T00:39:55.936Z"
   },
   {
    "duration": 38,
    "start_time": "2021-10-07T00:39:56.964Z"
   },
   {
    "duration": 21,
    "start_time": "2021-10-07T00:39:57.004Z"
   },
   {
    "duration": 893,
    "start_time": "2021-10-07T00:39:57.028Z"
   },
   {
    "duration": 22,
    "start_time": "2021-10-07T00:39:57.923Z"
   },
   {
    "duration": 66,
    "start_time": "2021-10-07T00:39:57.947Z"
   },
   {
    "duration": 2511,
    "start_time": "2021-10-07T00:39:58.015Z"
   },
   {
    "duration": 19,
    "start_time": "2021-10-07T00:40:00.528Z"
   },
   {
    "duration": 1153,
    "start_time": "2021-10-07T00:41:19.449Z"
   },
   {
    "duration": 60,
    "start_time": "2021-10-07T00:41:20.605Z"
   },
   {
    "duration": 70,
    "start_time": "2021-10-07T00:41:20.668Z"
   },
   {
    "duration": 188,
    "start_time": "2021-10-07T00:41:20.741Z"
   },
   {
    "duration": 17,
    "start_time": "2021-10-07T00:41:20.932Z"
   },
   {
    "duration": 68,
    "start_time": "2021-10-07T00:41:20.951Z"
   },
   {
    "duration": 36,
    "start_time": "2021-10-07T00:41:21.022Z"
   },
   {
    "duration": 54,
    "start_time": "2021-10-07T00:41:21.060Z"
   },
   {
    "duration": 50,
    "start_time": "2021-10-07T00:41:21.118Z"
   },
   {
    "duration": 56,
    "start_time": "2021-10-07T00:41:21.171Z"
   },
   {
    "duration": 81,
    "start_time": "2021-10-07T00:41:21.229Z"
   },
   {
    "duration": 39,
    "start_time": "2021-10-07T00:41:21.313Z"
   },
   {
    "duration": 21,
    "start_time": "2021-10-07T00:41:21.354Z"
   },
   {
    "duration": 39,
    "start_time": "2021-10-07T00:41:21.401Z"
   },
   {
    "duration": 71,
    "start_time": "2021-10-07T00:41:21.442Z"
   },
   {
    "duration": 23,
    "start_time": "2021-10-07T00:41:21.515Z"
   },
   {
    "duration": 61,
    "start_time": "2021-10-07T00:41:21.541Z"
   },
   {
    "duration": 11,
    "start_time": "2021-10-07T00:41:21.604Z"
   },
   {
    "duration": 25,
    "start_time": "2021-10-07T00:41:21.618Z"
   },
   {
    "duration": 59,
    "start_time": "2021-10-07T00:41:21.645Z"
   },
   {
    "duration": 27,
    "start_time": "2021-10-07T00:41:21.706Z"
   },
   {
    "duration": 35,
    "start_time": "2021-10-07T00:41:21.735Z"
   },
   {
    "duration": 41,
    "start_time": "2021-10-07T00:41:21.801Z"
   },
   {
    "duration": 64,
    "start_time": "2021-10-07T00:41:21.845Z"
   },
   {
    "duration": 47,
    "start_time": "2021-10-07T00:41:21.912Z"
   },
   {
    "duration": 76,
    "start_time": "2021-10-07T00:41:21.962Z"
   },
   {
    "duration": 70,
    "start_time": "2021-10-07T00:41:22.043Z"
   },
   {
    "duration": 1040,
    "start_time": "2021-10-07T00:41:22.115Z"
   },
   {
    "duration": 42,
    "start_time": "2021-10-07T00:41:23.158Z"
   },
   {
    "duration": 24,
    "start_time": "2021-10-07T00:41:23.203Z"
   },
   {
    "duration": 884,
    "start_time": "2021-10-07T00:41:23.230Z"
   },
   {
    "duration": 22,
    "start_time": "2021-10-07T00:41:24.116Z"
   },
   {
    "duration": 70,
    "start_time": "2021-10-07T00:41:24.141Z"
   },
   {
    "duration": 2749,
    "start_time": "2021-10-07T00:41:24.213Z"
   },
   {
    "duration": 35,
    "start_time": "2021-10-07T00:41:26.965Z"
   },
   {
    "duration": 1261,
    "start_time": "2021-10-07T00:50:45.065Z"
   },
   {
    "duration": 86,
    "start_time": "2021-10-07T00:50:46.330Z"
   },
   {
    "duration": 86,
    "start_time": "2021-10-07T00:50:46.420Z"
   },
   {
    "duration": 184,
    "start_time": "2021-10-07T00:50:46.509Z"
   },
   {
    "duration": 21,
    "start_time": "2021-10-07T00:50:46.695Z"
   },
   {
    "duration": 45,
    "start_time": "2021-10-07T00:50:46.719Z"
   },
   {
    "duration": 36,
    "start_time": "2021-10-07T00:50:46.800Z"
   },
   {
    "duration": 35,
    "start_time": "2021-10-07T00:50:46.839Z"
   },
   {
    "duration": 52,
    "start_time": "2021-10-07T00:50:46.904Z"
   },
   {
    "duration": 61,
    "start_time": "2021-10-07T00:50:46.961Z"
   },
   {
    "duration": 87,
    "start_time": "2021-10-07T00:50:47.026Z"
   },
   {
    "duration": 42,
    "start_time": "2021-10-07T00:50:47.116Z"
   },
   {
    "duration": 55,
    "start_time": "2021-10-07T00:50:47.161Z"
   },
   {
    "duration": 41,
    "start_time": "2021-10-07T00:50:47.219Z"
   },
   {
    "duration": 81,
    "start_time": "2021-10-07T00:50:47.263Z"
   },
   {
    "duration": 24,
    "start_time": "2021-10-07T00:50:47.348Z"
   },
   {
    "duration": 60,
    "start_time": "2021-10-07T00:50:47.376Z"
   },
   {
    "duration": 11,
    "start_time": "2021-10-07T00:50:47.438Z"
   },
   {
    "duration": 51,
    "start_time": "2021-10-07T00:50:47.451Z"
   },
   {
    "duration": 28,
    "start_time": "2021-10-07T00:50:47.504Z"
   },
   {
    "duration": 26,
    "start_time": "2021-10-07T00:50:47.534Z"
   },
   {
    "duration": 70,
    "start_time": "2021-10-07T00:50:47.562Z"
   },
   {
    "duration": 42,
    "start_time": "2021-10-07T00:50:47.635Z"
   },
   {
    "duration": 40,
    "start_time": "2021-10-07T00:50:47.700Z"
   },
   {
    "duration": 74,
    "start_time": "2021-10-07T00:50:47.743Z"
   },
   {
    "duration": 58,
    "start_time": "2021-10-07T00:50:47.819Z"
   },
   {
    "duration": 54,
    "start_time": "2021-10-07T00:50:47.901Z"
   },
   {
    "duration": 1136,
    "start_time": "2021-10-07T00:50:47.958Z"
   },
   {
    "duration": 20,
    "start_time": "2021-10-07T00:50:49.096Z"
   },
   {
    "duration": 19,
    "start_time": "2021-10-07T00:50:49.118Z"
   },
   {
    "duration": 875,
    "start_time": "2021-10-07T00:50:49.139Z"
   },
   {
    "duration": 21,
    "start_time": "2021-10-07T00:50:50.016Z"
   },
   {
    "duration": 67,
    "start_time": "2021-10-07T00:50:50.039Z"
   },
   {
    "duration": 2521,
    "start_time": "2021-10-07T00:50:50.108Z"
   },
   {
    "duration": 18,
    "start_time": "2021-10-07T00:50:52.632Z"
   },
   {
    "duration": 1247,
    "start_time": "2021-10-07T00:53:04.423Z"
   },
   {
    "duration": 64,
    "start_time": "2021-10-07T00:53:05.672Z"
   },
   {
    "duration": 50,
    "start_time": "2021-10-07T00:53:05.739Z"
   },
   {
    "duration": 310,
    "start_time": "2021-10-07T00:53:05.792Z"
   },
   {
    "duration": 17,
    "start_time": "2021-10-07T00:53:06.104Z"
   },
   {
    "duration": 95,
    "start_time": "2021-10-07T00:53:06.123Z"
   },
   {
    "duration": 35,
    "start_time": "2021-10-07T00:53:06.221Z"
   },
   {
    "duration": 42,
    "start_time": "2021-10-07T00:53:06.260Z"
   },
   {
    "duration": 49,
    "start_time": "2021-10-07T00:53:06.305Z"
   },
   {
    "duration": 74,
    "start_time": "2021-10-07T00:53:06.356Z"
   },
   {
    "duration": 117,
    "start_time": "2021-10-07T00:53:06.432Z"
   },
   {
    "duration": 83,
    "start_time": "2021-10-07T00:53:06.552Z"
   },
   {
    "duration": 68,
    "start_time": "2021-10-07T00:53:06.637Z"
   },
   {
    "duration": 39,
    "start_time": "2021-10-07T00:53:06.708Z"
   },
   {
    "duration": 80,
    "start_time": "2021-10-07T00:53:06.749Z"
   },
   {
    "duration": 25,
    "start_time": "2021-10-07T00:53:06.832Z"
   },
   {
    "duration": 65,
    "start_time": "2021-10-07T00:53:06.860Z"
   },
   {
    "duration": 12,
    "start_time": "2021-10-07T00:53:06.928Z"
   },
   {
    "duration": 39,
    "start_time": "2021-10-07T00:53:06.943Z"
   },
   {
    "duration": 29,
    "start_time": "2021-10-07T00:53:07.001Z"
   },
   {
    "duration": 26,
    "start_time": "2021-10-07T00:53:07.033Z"
   },
   {
    "duration": 65,
    "start_time": "2021-10-07T00:53:07.063Z"
   },
   {
    "duration": 39,
    "start_time": "2021-10-07T00:53:07.131Z"
   },
   {
    "duration": 63,
    "start_time": "2021-10-07T00:53:07.172Z"
   },
   {
    "duration": 78,
    "start_time": "2021-10-07T00:53:07.238Z"
   },
   {
    "duration": 53,
    "start_time": "2021-10-07T00:53:07.319Z"
   },
   {
    "duration": 73,
    "start_time": "2021-10-07T00:53:07.374Z"
   },
   {
    "duration": 1033,
    "start_time": "2021-10-07T00:53:07.449Z"
   },
   {
    "duration": 26,
    "start_time": "2021-10-07T00:53:08.484Z"
   },
   {
    "duration": 21,
    "start_time": "2021-10-07T00:53:08.512Z"
   },
   {
    "duration": 901,
    "start_time": "2021-10-07T00:53:08.536Z"
   },
   {
    "duration": 21,
    "start_time": "2021-10-07T00:53:09.439Z"
   },
   {
    "duration": 63,
    "start_time": "2021-10-07T00:53:09.463Z"
   },
   {
    "duration": 2516,
    "start_time": "2021-10-07T00:53:09.528Z"
   },
   {
    "duration": 18,
    "start_time": "2021-10-07T00:53:12.047Z"
   },
   {
    "duration": 1231,
    "start_time": "2021-10-07T01:00:57.385Z"
   },
   {
    "duration": 60,
    "start_time": "2021-10-07T01:00:58.618Z"
   },
   {
    "duration": 49,
    "start_time": "2021-10-07T01:00:58.702Z"
   },
   {
    "duration": 196,
    "start_time": "2021-10-07T01:00:58.753Z"
   },
   {
    "duration": 16,
    "start_time": "2021-10-07T01:00:58.951Z"
   },
   {
    "duration": 58,
    "start_time": "2021-10-07T01:00:58.970Z"
   },
   {
    "duration": 36,
    "start_time": "2021-10-07T01:00:59.030Z"
   },
   {
    "duration": 54,
    "start_time": "2021-10-07T01:00:59.069Z"
   },
   {
    "duration": 55,
    "start_time": "2021-10-07T01:00:59.126Z"
   },
   {
    "duration": 54,
    "start_time": "2021-10-07T01:00:59.183Z"
   },
   {
    "duration": 98,
    "start_time": "2021-10-07T01:00:59.240Z"
   },
   {
    "duration": 40,
    "start_time": "2021-10-07T01:00:59.340Z"
   },
   {
    "duration": 38,
    "start_time": "2021-10-07T01:00:59.382Z"
   },
   {
    "duration": 37,
    "start_time": "2021-10-07T01:00:59.422Z"
   },
   {
    "duration": 74,
    "start_time": "2021-10-07T01:00:59.461Z"
   },
   {
    "duration": 23,
    "start_time": "2021-10-07T01:00:59.537Z"
   },
   {
    "duration": 62,
    "start_time": "2021-10-07T01:00:59.562Z"
   },
   {
    "duration": 11,
    "start_time": "2021-10-07T01:00:59.626Z"
   },
   {
    "duration": 35,
    "start_time": "2021-10-07T01:00:59.639Z"
   },
   {
    "duration": 47,
    "start_time": "2021-10-07T01:00:59.677Z"
   },
   {
    "duration": 25,
    "start_time": "2021-10-07T01:00:59.727Z"
   },
   {
    "duration": 63,
    "start_time": "2021-10-07T01:00:59.754Z"
   },
   {
    "duration": 41,
    "start_time": "2021-10-07T01:00:59.822Z"
   },
   {
    "duration": 60,
    "start_time": "2021-10-07T01:00:59.865Z"
   },
   {
    "duration": 47,
    "start_time": "2021-10-07T01:00:59.927Z"
   },
   {
    "duration": 75,
    "start_time": "2021-10-07T01:00:59.976Z"
   },
   {
    "duration": 84,
    "start_time": "2021-10-07T01:01:00.053Z"
   },
   {
    "duration": 1060,
    "start_time": "2021-10-07T01:01:00.139Z"
   },
   {
    "duration": 23,
    "start_time": "2021-10-07T01:01:01.202Z"
   },
   {
    "duration": 22,
    "start_time": "2021-10-07T01:01:01.227Z"
   },
   {
    "duration": 928,
    "start_time": "2021-10-07T01:01:01.252Z"
   },
   {
    "duration": 32,
    "start_time": "2021-10-07T01:01:02.182Z"
   },
   {
    "duration": 56,
    "start_time": "2021-10-07T01:01:02.217Z"
   },
   {
    "duration": 2729,
    "start_time": "2021-10-07T01:01:02.275Z"
   },
   {
    "duration": 20,
    "start_time": "2021-10-07T01:01:05.006Z"
   },
   {
    "duration": 1252,
    "start_time": "2021-10-07T01:02:57.041Z"
   },
   {
    "duration": 59,
    "start_time": "2021-10-07T01:02:58.295Z"
   },
   {
    "duration": 73,
    "start_time": "2021-10-07T01:02:58.357Z"
   },
   {
    "duration": 189,
    "start_time": "2021-10-07T01:02:58.432Z"
   },
   {
    "duration": 17,
    "start_time": "2021-10-07T01:02:58.623Z"
   },
   {
    "duration": 63,
    "start_time": "2021-10-07T01:02:58.642Z"
   },
   {
    "duration": 37,
    "start_time": "2021-10-07T01:02:58.707Z"
   },
   {
    "duration": 54,
    "start_time": "2021-10-07T01:02:58.747Z"
   },
   {
    "duration": 53,
    "start_time": "2021-10-07T01:02:58.804Z"
   },
   {
    "duration": 55,
    "start_time": "2021-10-07T01:02:58.859Z"
   },
   {
    "duration": 69,
    "start_time": "2021-10-07T01:02:58.916Z"
   },
   {
    "duration": 40,
    "start_time": "2021-10-07T01:02:58.999Z"
   },
   {
    "duration": 21,
    "start_time": "2021-10-07T01:02:59.041Z"
   },
   {
    "duration": 63,
    "start_time": "2021-10-07T01:02:59.064Z"
   },
   {
    "duration": 48,
    "start_time": "2021-10-07T01:02:59.129Z"
   },
   {
    "duration": 42,
    "start_time": "2021-10-07T01:02:59.179Z"
   },
   {
    "duration": 39,
    "start_time": "2021-10-07T01:02:59.224Z"
   },
   {
    "duration": 37,
    "start_time": "2021-10-07T01:02:59.265Z"
   },
   {
    "duration": 37,
    "start_time": "2021-10-07T01:02:59.305Z"
   },
   {
    "duration": 67,
    "start_time": "2021-10-07T01:02:59.345Z"
   },
   {
    "duration": 36,
    "start_time": "2021-10-07T01:02:59.415Z"
   },
   {
    "duration": 78,
    "start_time": "2021-10-07T01:02:59.454Z"
   },
   {
    "duration": 67,
    "start_time": "2021-10-07T01:02:59.539Z"
   },
   {
    "duration": 41,
    "start_time": "2021-10-07T01:02:59.611Z"
   },
   {
    "duration": 65,
    "start_time": "2021-10-07T01:02:59.654Z"
   },
   {
    "duration": 54,
    "start_time": "2021-10-07T01:02:59.722Z"
   },
   {
    "duration": 68,
    "start_time": "2021-10-07T01:02:59.779Z"
   },
   {
    "duration": 1070,
    "start_time": "2021-10-07T01:02:59.849Z"
   },
   {
    "duration": 20,
    "start_time": "2021-10-07T01:03:00.922Z"
   },
   {
    "duration": 20,
    "start_time": "2021-10-07T01:03:00.944Z"
   },
   {
    "duration": 912,
    "start_time": "2021-10-07T01:03:00.966Z"
   },
   {
    "duration": 34,
    "start_time": "2021-10-07T01:03:01.880Z"
   },
   {
    "duration": 102,
    "start_time": "2021-10-07T01:03:01.916Z"
   },
   {
    "duration": -101,
    "start_time": "2021-10-07T01:03:02.122Z"
   },
   {
    "duration": -104,
    "start_time": "2021-10-07T01:03:02.126Z"
   },
   {
    "duration": 1205,
    "start_time": "2021-10-07T01:03:26.172Z"
   },
   {
    "duration": 69,
    "start_time": "2021-10-07T01:03:27.381Z"
   },
   {
    "duration": 79,
    "start_time": "2021-10-07T01:03:27.454Z"
   },
   {
    "duration": 203,
    "start_time": "2021-10-07T01:03:27.537Z"
   },
   {
    "duration": 19,
    "start_time": "2021-10-07T01:03:27.743Z"
   },
   {
    "duration": 68,
    "start_time": "2021-10-07T01:03:27.765Z"
   },
   {
    "duration": 36,
    "start_time": "2021-10-07T01:03:27.836Z"
   },
   {
    "duration": 56,
    "start_time": "2021-10-07T01:03:27.875Z"
   },
   {
    "duration": 76,
    "start_time": "2021-10-07T01:03:27.937Z"
   },
   {
    "duration": 35,
    "start_time": "2021-10-07T01:03:28.016Z"
   },
   {
    "duration": 87,
    "start_time": "2021-10-07T01:03:28.054Z"
   },
   {
    "duration": 37,
    "start_time": "2021-10-07T01:03:28.144Z"
   },
   {
    "duration": 38,
    "start_time": "2021-10-07T01:03:28.183Z"
   },
   {
    "duration": 39,
    "start_time": "2021-10-07T01:03:28.223Z"
   },
   {
    "duration": 74,
    "start_time": "2021-10-07T01:03:28.265Z"
   },
   {
    "duration": 26,
    "start_time": "2021-10-07T01:03:28.341Z"
   },
   {
    "duration": 59,
    "start_time": "2021-10-07T01:03:28.369Z"
   },
   {
    "duration": 11,
    "start_time": "2021-10-07T01:03:28.430Z"
   },
   {
    "duration": 33,
    "start_time": "2021-10-07T01:03:28.444Z"
   },
   {
    "duration": 35,
    "start_time": "2021-10-07T01:03:28.501Z"
   },
   {
    "duration": 25,
    "start_time": "2021-10-07T01:03:28.539Z"
   },
   {
    "duration": 71,
    "start_time": "2021-10-07T01:03:28.567Z"
   },
   {
    "duration": 62,
    "start_time": "2021-10-07T01:03:28.640Z"
   },
   {
    "duration": 38,
    "start_time": "2021-10-07T01:03:28.704Z"
   },
   {
    "duration": 72,
    "start_time": "2021-10-07T01:03:28.744Z"
   },
   {
    "duration": 54,
    "start_time": "2021-10-07T01:03:28.818Z"
   },
   {
    "duration": 73,
    "start_time": "2021-10-07T01:03:28.877Z"
   },
   {
    "duration": 1085,
    "start_time": "2021-10-07T01:03:28.953Z"
   },
   {
    "duration": 22,
    "start_time": "2021-10-07T01:03:30.041Z"
   },
   {
    "duration": 45,
    "start_time": "2021-10-07T01:03:30.066Z"
   },
   {
    "duration": 914,
    "start_time": "2021-10-07T01:03:30.114Z"
   },
   {
    "duration": 22,
    "start_time": "2021-10-07T01:03:31.030Z"
   },
   {
    "duration": 405,
    "start_time": "2021-10-07T01:03:31.054Z"
   },
   {
    "duration": -180,
    "start_time": "2021-10-07T01:03:31.642Z"
   },
   {
    "duration": -185,
    "start_time": "2021-10-07T01:03:31.648Z"
   },
   {
    "duration": 1131,
    "start_time": "2021-10-07T01:03:51.052Z"
   },
   {
    "duration": 65,
    "start_time": "2021-10-07T01:03:52.187Z"
   },
   {
    "duration": 79,
    "start_time": "2021-10-07T01:03:52.256Z"
   },
   {
    "duration": 192,
    "start_time": "2021-10-07T01:03:52.339Z"
   },
   {
    "duration": 18,
    "start_time": "2021-10-07T01:03:52.535Z"
   },
   {
    "duration": 73,
    "start_time": "2021-10-07T01:03:52.556Z"
   },
   {
    "duration": 36,
    "start_time": "2021-10-07T01:03:52.632Z"
   },
   {
    "duration": 60,
    "start_time": "2021-10-07T01:03:52.671Z"
   },
   {
    "duration": 69,
    "start_time": "2021-10-07T01:03:52.735Z"
   },
   {
    "duration": 35,
    "start_time": "2021-10-07T01:03:52.807Z"
   },
   {
    "duration": 98,
    "start_time": "2021-10-07T01:03:52.844Z"
   },
   {
    "duration": 40,
    "start_time": "2021-10-07T01:03:52.944Z"
   },
   {
    "duration": 39,
    "start_time": "2021-10-07T01:03:52.986Z"
   },
   {
    "duration": 38,
    "start_time": "2021-10-07T01:03:53.028Z"
   },
   {
    "duration": 76,
    "start_time": "2021-10-07T01:03:53.069Z"
   },
   {
    "duration": 23,
    "start_time": "2021-10-07T01:03:53.148Z"
   },
   {
    "duration": 60,
    "start_time": "2021-10-07T01:03:53.173Z"
   },
   {
    "duration": 11,
    "start_time": "2021-10-07T01:03:53.236Z"
   },
   {
    "duration": 53,
    "start_time": "2021-10-07T01:03:53.249Z"
   },
   {
    "duration": 28,
    "start_time": "2021-10-07T01:03:53.304Z"
   },
   {
    "duration": 26,
    "start_time": "2021-10-07T01:03:53.334Z"
   },
   {
    "duration": 67,
    "start_time": "2021-10-07T01:03:53.362Z"
   },
   {
    "duration": 41,
    "start_time": "2021-10-07T01:03:53.432Z"
   },
   {
    "duration": 58,
    "start_time": "2021-10-07T01:03:53.475Z"
   },
   {
    "duration": 67,
    "start_time": "2021-10-07T01:03:53.536Z"
   },
   {
    "duration": 60,
    "start_time": "2021-10-07T01:03:53.605Z"
   },
   {
    "duration": 68,
    "start_time": "2021-10-07T01:03:53.669Z"
   },
   {
    "duration": 1014,
    "start_time": "2021-10-07T01:03:53.739Z"
   },
   {
    "duration": 20,
    "start_time": "2021-10-07T01:03:54.755Z"
   },
   {
    "duration": 20,
    "start_time": "2021-10-07T01:03:54.801Z"
   },
   {
    "duration": 879,
    "start_time": "2021-10-07T01:03:54.823Z"
   },
   {
    "duration": 21,
    "start_time": "2021-10-07T01:03:55.705Z"
   },
   {
    "duration": 30,
    "start_time": "2021-10-07T01:03:55.729Z"
   },
   {
    "duration": 2529,
    "start_time": "2021-10-07T01:03:55.761Z"
   },
   {
    "duration": 19,
    "start_time": "2021-10-07T01:03:58.300Z"
   },
   {
    "duration": 1227,
    "start_time": "2021-10-07T19:44:18.304Z"
   },
   {
    "duration": 77,
    "start_time": "2021-10-07T19:44:19.533Z"
   },
   {
    "duration": 73,
    "start_time": "2021-10-07T19:44:19.613Z"
   },
   {
    "duration": 183,
    "start_time": "2021-10-07T19:44:19.689Z"
   },
   {
    "duration": 17,
    "start_time": "2021-10-07T19:44:19.874Z"
   },
   {
    "duration": 42,
    "start_time": "2021-10-07T19:44:19.894Z"
   },
   {
    "duration": 62,
    "start_time": "2021-10-07T19:44:19.939Z"
   },
   {
    "duration": 34,
    "start_time": "2021-10-07T19:44:20.004Z"
   },
   {
    "duration": 53,
    "start_time": "2021-10-07T19:44:20.068Z"
   },
   {
    "duration": 58,
    "start_time": "2021-10-07T19:44:20.124Z"
   },
   {
    "duration": 69,
    "start_time": "2021-10-07T19:44:20.184Z"
   },
   {
    "duration": 39,
    "start_time": "2021-10-07T19:44:20.268Z"
   },
   {
    "duration": 20,
    "start_time": "2021-10-07T19:44:20.309Z"
   },
   {
    "duration": 70,
    "start_time": "2021-10-07T19:44:20.331Z"
   },
   {
    "duration": 69,
    "start_time": "2021-10-07T19:44:20.403Z"
   },
   {
    "duration": 25,
    "start_time": "2021-10-07T19:44:20.474Z"
   },
   {
    "duration": 66,
    "start_time": "2021-10-07T19:44:20.501Z"
   },
   {
    "duration": 11,
    "start_time": "2021-10-07T19:44:20.570Z"
   },
   {
    "duration": 29,
    "start_time": "2021-10-07T19:44:20.583Z"
   },
   {
    "duration": 61,
    "start_time": "2021-10-07T19:44:20.614Z"
   },
   {
    "duration": 27,
    "start_time": "2021-10-07T19:44:20.677Z"
   },
   {
    "duration": 66,
    "start_time": "2021-10-07T19:44:20.706Z"
   },
   {
    "duration": 41,
    "start_time": "2021-10-07T19:44:20.775Z"
   },
   {
    "duration": 61,
    "start_time": "2021-10-07T19:44:20.818Z"
   },
   {
    "duration": 50,
    "start_time": "2021-10-07T19:44:20.882Z"
   },
   {
    "duration": 72,
    "start_time": "2021-10-07T19:44:20.935Z"
   },
   {
    "duration": 66,
    "start_time": "2021-10-07T19:44:21.012Z"
   },
   {
    "duration": 1021,
    "start_time": "2021-10-07T19:44:21.081Z"
   },
   {
    "duration": 454,
    "start_time": "2021-10-07T19:44:22.105Z"
   },
   {
    "duration": -2880,
    "start_time": "2021-10-07T19:44:25.441Z"
   },
   {
    "duration": -2881,
    "start_time": "2021-10-07T19:44:25.445Z"
   },
   {
    "duration": -2887,
    "start_time": "2021-10-07T19:44:25.453Z"
   },
   {
    "duration": -2889,
    "start_time": "2021-10-07T19:44:25.457Z"
   },
   {
    "duration": -2891,
    "start_time": "2021-10-07T19:44:25.461Z"
   },
   {
    "duration": -2893,
    "start_time": "2021-10-07T19:44:25.465Z"
   },
   {
    "duration": 1344,
    "start_time": "2021-10-07T19:44:49.131Z"
   },
   {
    "duration": 61,
    "start_time": "2021-10-07T19:44:50.478Z"
   },
   {
    "duration": 71,
    "start_time": "2021-10-07T19:44:50.542Z"
   },
   {
    "duration": 182,
    "start_time": "2021-10-07T19:44:50.615Z"
   },
   {
    "duration": 17,
    "start_time": "2021-10-07T19:44:50.799Z"
   },
   {
    "duration": 62,
    "start_time": "2021-10-07T19:44:50.818Z"
   },
   {
    "duration": 34,
    "start_time": "2021-10-07T19:44:50.882Z"
   },
   {
    "duration": 57,
    "start_time": "2021-10-07T19:44:50.920Z"
   },
   {
    "duration": 50,
    "start_time": "2021-10-07T19:44:50.980Z"
   },
   {
    "duration": 51,
    "start_time": "2021-10-07T19:44:51.032Z"
   },
   {
    "duration": 82,
    "start_time": "2021-10-07T19:44:51.085Z"
   },
   {
    "duration": 39,
    "start_time": "2021-10-07T19:44:51.170Z"
   },
   {
    "duration": 22,
    "start_time": "2021-10-07T19:44:51.212Z"
   },
   {
    "duration": 60,
    "start_time": "2021-10-07T19:44:51.237Z"
   },
   {
    "duration": 46,
    "start_time": "2021-10-07T19:44:51.300Z"
   },
   {
    "duration": 24,
    "start_time": "2021-10-07T19:44:51.368Z"
   },
   {
    "duration": 40,
    "start_time": "2021-10-07T19:44:51.394Z"
   },
   {
    "duration": 41,
    "start_time": "2021-10-07T19:44:51.437Z"
   },
   {
    "duration": 26,
    "start_time": "2021-10-07T19:44:51.480Z"
   },
   {
    "duration": 60,
    "start_time": "2021-10-07T19:44:51.508Z"
   },
   {
    "duration": 25,
    "start_time": "2021-10-07T19:44:51.571Z"
   },
   {
    "duration": 37,
    "start_time": "2021-10-07T19:44:51.598Z"
   },
   {
    "duration": 42,
    "start_time": "2021-10-07T19:44:51.670Z"
   },
   {
    "duration": 54,
    "start_time": "2021-10-07T19:44:51.714Z"
   },
   {
    "duration": 48,
    "start_time": "2021-10-07T19:44:51.771Z"
   },
   {
    "duration": 77,
    "start_time": "2021-10-07T19:44:51.821Z"
   },
   {
    "duration": 68,
    "start_time": "2021-10-07T19:44:51.900Z"
   },
   {
    "duration": 1019,
    "start_time": "2021-10-07T19:44:51.971Z"
   },
   {
    "duration": 21,
    "start_time": "2021-10-07T19:44:52.992Z"
   },
   {
    "duration": 20,
    "start_time": "2021-10-07T19:44:53.015Z"
   },
   {
    "duration": 861,
    "start_time": "2021-10-07T19:44:53.066Z"
   },
   {
    "duration": 46,
    "start_time": "2021-10-07T19:44:53.930Z"
   },
   {
    "duration": 448,
    "start_time": "2021-10-07T19:44:53.979Z"
   },
   {
    "duration": -132,
    "start_time": "2021-10-07T19:44:54.562Z"
   },
   {
    "duration": -136,
    "start_time": "2021-10-07T19:44:54.568Z"
   },
   {
    "duration": 1202,
    "start_time": "2021-10-07T19:46:58.246Z"
   },
   {
    "duration": 62,
    "start_time": "2021-10-07T19:46:59.450Z"
   },
   {
    "duration": 74,
    "start_time": "2021-10-07T19:46:59.515Z"
   },
   {
    "duration": 183,
    "start_time": "2021-10-07T19:46:59.593Z"
   },
   {
    "duration": 17,
    "start_time": "2021-10-07T19:46:59.778Z"
   },
   {
    "duration": 43,
    "start_time": "2021-10-07T19:46:59.797Z"
   },
   {
    "duration": 36,
    "start_time": "2021-10-07T19:46:59.867Z"
   },
   {
    "duration": 34,
    "start_time": "2021-10-07T19:46:59.908Z"
   },
   {
    "duration": 50,
    "start_time": "2021-10-07T19:46:59.968Z"
   },
   {
    "duration": 58,
    "start_time": "2021-10-07T19:47:00.021Z"
   },
   {
    "duration": 69,
    "start_time": "2021-10-07T19:47:00.081Z"
   },
   {
    "duration": 63,
    "start_time": "2021-10-07T19:47:00.153Z"
   },
   {
    "duration": 23,
    "start_time": "2021-10-07T19:47:00.219Z"
   },
   {
    "duration": 36,
    "start_time": "2021-10-07T19:47:00.268Z"
   },
   {
    "duration": 69,
    "start_time": "2021-10-07T19:47:00.306Z"
   },
   {
    "duration": 24,
    "start_time": "2021-10-07T19:47:00.378Z"
   },
   {
    "duration": 36,
    "start_time": "2021-10-07T19:47:00.404Z"
   },
   {
    "duration": 32,
    "start_time": "2021-10-07T19:47:00.443Z"
   },
   {
    "duration": 32,
    "start_time": "2021-10-07T19:47:00.478Z"
   },
   {
    "duration": 56,
    "start_time": "2021-10-07T19:47:00.513Z"
   },
   {
    "duration": 27,
    "start_time": "2021-10-07T19:47:00.572Z"
   },
   {
    "duration": 65,
    "start_time": "2021-10-07T19:47:00.602Z"
   },
   {
    "duration": 44,
    "start_time": "2021-10-07T19:47:00.672Z"
   },
   {
    "duration": 62,
    "start_time": "2021-10-07T19:47:00.719Z"
   },
   {
    "duration": 49,
    "start_time": "2021-10-07T19:47:00.784Z"
   },
   {
    "duration": 80,
    "start_time": "2021-10-07T19:47:00.836Z"
   },
   {
    "duration": 82,
    "start_time": "2021-10-07T19:47:00.919Z"
   },
   {
    "duration": 1050,
    "start_time": "2021-10-07T19:47:01.004Z"
   },
   {
    "duration": 31,
    "start_time": "2021-10-07T19:47:02.056Z"
   },
   {
    "duration": 21,
    "start_time": "2021-10-07T19:47:02.090Z"
   },
   {
    "duration": 893,
    "start_time": "2021-10-07T19:47:02.113Z"
   },
   {
    "duration": 23,
    "start_time": "2021-10-07T19:47:03.008Z"
   },
   {
    "duration": 371,
    "start_time": "2021-10-07T19:47:03.033Z"
   },
   {
    "duration": -122,
    "start_time": "2021-10-07T19:47:03.529Z"
   },
   {
    "duration": -133,
    "start_time": "2021-10-07T19:47:03.542Z"
   },
   {
    "duration": 1187,
    "start_time": "2021-10-07T19:47:34.373Z"
   },
   {
    "duration": 61,
    "start_time": "2021-10-07T19:47:35.563Z"
   },
   {
    "duration": 71,
    "start_time": "2021-10-07T19:47:35.627Z"
   },
   {
    "duration": 193,
    "start_time": "2021-10-07T19:47:35.701Z"
   },
   {
    "duration": 17,
    "start_time": "2021-10-07T19:47:35.896Z"
   },
   {
    "duration": 62,
    "start_time": "2021-10-07T19:47:35.916Z"
   },
   {
    "duration": 36,
    "start_time": "2021-10-07T19:47:35.981Z"
   },
   {
    "duration": 54,
    "start_time": "2021-10-07T19:47:36.019Z"
   },
   {
    "duration": 51,
    "start_time": "2021-10-07T19:47:36.077Z"
   },
   {
    "duration": 57,
    "start_time": "2021-10-07T19:47:36.131Z"
   },
   {
    "duration": 78,
    "start_time": "2021-10-07T19:47:36.190Z"
   },
   {
    "duration": 40,
    "start_time": "2021-10-07T19:47:36.270Z"
   },
   {
    "duration": 20,
    "start_time": "2021-10-07T19:47:36.313Z"
   },
   {
    "duration": 66,
    "start_time": "2021-10-07T19:47:36.336Z"
   },
   {
    "duration": 66,
    "start_time": "2021-10-07T19:47:36.404Z"
   },
   {
    "duration": 23,
    "start_time": "2021-10-07T19:47:36.472Z"
   },
   {
    "duration": 39,
    "start_time": "2021-10-07T19:47:36.497Z"
   },
   {
    "duration": 38,
    "start_time": "2021-10-07T19:47:36.538Z"
   },
   {
    "duration": 29,
    "start_time": "2021-10-07T19:47:36.578Z"
   },
   {
    "duration": 28,
    "start_time": "2021-10-07T19:47:36.609Z"
   },
   {
    "duration": 26,
    "start_time": "2021-10-07T19:47:36.668Z"
   },
   {
    "duration": 70,
    "start_time": "2021-10-07T19:47:36.696Z"
   },
   {
    "duration": 43,
    "start_time": "2021-10-07T19:47:36.769Z"
   },
   {
    "duration": 55,
    "start_time": "2021-10-07T19:47:36.814Z"
   },
   {
    "duration": 46,
    "start_time": "2021-10-07T19:47:36.872Z"
   },
   {
    "duration": 82,
    "start_time": "2021-10-07T19:47:36.920Z"
   },
   {
    "duration": 70,
    "start_time": "2021-10-07T19:47:37.006Z"
   },
   {
    "duration": 1047,
    "start_time": "2021-10-07T19:47:37.079Z"
   },
   {
    "duration": 41,
    "start_time": "2021-10-07T19:47:38.128Z"
   },
   {
    "duration": 24,
    "start_time": "2021-10-07T19:47:38.172Z"
   },
   {
    "duration": 907,
    "start_time": "2021-10-07T19:47:38.199Z"
   },
   {
    "duration": 26,
    "start_time": "2021-10-07T19:47:39.109Z"
   },
   {
    "duration": 366,
    "start_time": "2021-10-07T19:47:39.168Z"
   },
   {
    "duration": -127,
    "start_time": "2021-10-07T19:47:39.664Z"
   },
   {
    "duration": -137,
    "start_time": "2021-10-07T19:47:39.676Z"
   },
   {
    "duration": 1242,
    "start_time": "2021-10-07T19:50:41.142Z"
   },
   {
    "duration": 90,
    "start_time": "2021-10-07T19:50:42.387Z"
   },
   {
    "duration": 89,
    "start_time": "2021-10-07T19:50:42.480Z"
   },
   {
    "duration": 197,
    "start_time": "2021-10-07T19:50:42.572Z"
   },
   {
    "duration": 16,
    "start_time": "2021-10-07T19:50:42.772Z"
   },
   {
    "duration": 45,
    "start_time": "2021-10-07T19:50:42.790Z"
   },
   {
    "duration": 34,
    "start_time": "2021-10-07T19:50:42.868Z"
   },
   {
    "duration": 31,
    "start_time": "2021-10-07T19:50:42.906Z"
   },
   {
    "duration": 73,
    "start_time": "2021-10-07T19:50:42.940Z"
   },
   {
    "duration": 64,
    "start_time": "2021-10-07T19:50:43.015Z"
   },
   {
    "duration": 63,
    "start_time": "2021-10-07T19:50:43.081Z"
   },
   {
    "duration": 55,
    "start_time": "2021-10-07T19:50:43.146Z"
   },
   {
    "duration": 19,
    "start_time": "2021-10-07T19:50:43.203Z"
   },
   {
    "duration": 66,
    "start_time": "2021-10-07T19:50:43.224Z"
   },
   {
    "duration": 49,
    "start_time": "2021-10-07T19:50:43.292Z"
   },
   {
    "duration": 43,
    "start_time": "2021-10-07T19:50:43.343Z"
   },
   {
    "duration": 36,
    "start_time": "2021-10-07T19:50:43.388Z"
   },
   {
    "duration": 44,
    "start_time": "2021-10-07T19:50:43.426Z"
   },
   {
    "duration": 30,
    "start_time": "2021-10-07T19:50:43.472Z"
   },
   {
    "duration": 64,
    "start_time": "2021-10-07T19:50:43.504Z"
   },
   {
    "duration": 27,
    "start_time": "2021-10-07T19:50:43.571Z"
   },
   {
    "duration": 70,
    "start_time": "2021-10-07T19:50:43.601Z"
   },
   {
    "duration": 43,
    "start_time": "2021-10-07T19:50:43.676Z"
   },
   {
    "duration": 70,
    "start_time": "2021-10-07T19:50:43.722Z"
   },
   {
    "duration": 48,
    "start_time": "2021-10-07T19:50:43.794Z"
   },
   {
    "duration": 73,
    "start_time": "2021-10-07T19:50:43.845Z"
   },
   {
    "duration": 84,
    "start_time": "2021-10-07T19:50:43.920Z"
   },
   {
    "duration": 1038,
    "start_time": "2021-10-07T19:50:44.006Z"
   },
   {
    "duration": 29,
    "start_time": "2021-10-07T19:50:45.046Z"
   },
   {
    "duration": 24,
    "start_time": "2021-10-07T19:50:45.077Z"
   },
   {
    "duration": 902,
    "start_time": "2021-10-07T19:50:45.103Z"
   },
   {
    "duration": 23,
    "start_time": "2021-10-07T19:50:46.007Z"
   },
   {
    "duration": 501,
    "start_time": "2021-10-07T19:50:46.032Z"
   },
   {
    "duration": -188,
    "start_time": "2021-10-07T19:50:46.724Z"
   },
   {
    "duration": -191,
    "start_time": "2021-10-07T19:50:46.729Z"
   },
   {
    "duration": 1203,
    "start_time": "2021-10-07T20:09:22.157Z"
   },
   {
    "duration": 62,
    "start_time": "2021-10-07T20:09:23.363Z"
   },
   {
    "duration": 70,
    "start_time": "2021-10-07T20:09:23.428Z"
   },
   {
    "duration": 188,
    "start_time": "2021-10-07T20:09:23.501Z"
   },
   {
    "duration": 18,
    "start_time": "2021-10-07T20:09:23.691Z"
   },
   {
    "duration": 67,
    "start_time": "2021-10-07T20:09:23.711Z"
   },
   {
    "duration": 37,
    "start_time": "2021-10-07T20:09:23.781Z"
   },
   {
    "duration": 55,
    "start_time": "2021-10-07T20:09:23.821Z"
   },
   {
    "duration": 52,
    "start_time": "2021-10-07T20:09:23.880Z"
   },
   {
    "duration": 56,
    "start_time": "2021-10-07T20:09:23.935Z"
   },
   {
    "duration": 84,
    "start_time": "2021-10-07T20:09:23.993Z"
   },
   {
    "duration": 40,
    "start_time": "2021-10-07T20:09:24.080Z"
   },
   {
    "duration": 22,
    "start_time": "2021-10-07T20:09:24.123Z"
   },
   {
    "duration": 41,
    "start_time": "2021-10-07T20:09:24.168Z"
   },
   {
    "duration": 72,
    "start_time": "2021-10-07T20:09:24.211Z"
   },
   {
    "duration": 24,
    "start_time": "2021-10-07T20:09:24.285Z"
   },
   {
    "duration": 64,
    "start_time": "2021-10-07T20:09:24.312Z"
   },
   {
    "duration": 12,
    "start_time": "2021-10-07T20:09:24.378Z"
   },
   {
    "duration": 32,
    "start_time": "2021-10-07T20:09:24.392Z"
   },
   {
    "duration": 54,
    "start_time": "2021-10-07T20:09:24.427Z"
   },
   {
    "duration": 28,
    "start_time": "2021-10-07T20:09:24.483Z"
   },
   {
    "duration": 64,
    "start_time": "2021-10-07T20:09:24.514Z"
   },
   {
    "duration": 40,
    "start_time": "2021-10-07T20:09:24.581Z"
   },
   {
    "duration": 59,
    "start_time": "2021-10-07T20:09:24.623Z"
   },
   {
    "duration": 46,
    "start_time": "2021-10-07T20:09:24.685Z"
   },
   {
    "duration": 81,
    "start_time": "2021-10-07T20:09:24.733Z"
   },
   {
    "duration": 73,
    "start_time": "2021-10-07T20:09:24.819Z"
   },
   {
    "duration": 1034,
    "start_time": "2021-10-07T20:09:24.895Z"
   },
   {
    "duration": 38,
    "start_time": "2021-10-07T20:09:25.932Z"
   },
   {
    "duration": 21,
    "start_time": "2021-10-07T20:09:25.972Z"
   },
   {
    "duration": 880,
    "start_time": "2021-10-07T20:09:25.995Z"
   },
   {
    "duration": 24,
    "start_time": "2021-10-07T20:09:26.877Z"
   },
   {
    "duration": 95,
    "start_time": "2021-10-07T20:09:26.904Z"
   },
   {
    "duration": -103,
    "start_time": "2021-10-07T20:09:27.104Z"
   },
   {
    "duration": -105,
    "start_time": "2021-10-07T20:09:27.108Z"
   },
   {
    "duration": 1181,
    "start_time": "2021-10-07T20:09:45.082Z"
   },
   {
    "duration": 63,
    "start_time": "2021-10-07T20:09:46.266Z"
   },
   {
    "duration": 76,
    "start_time": "2021-10-07T20:09:46.332Z"
   },
   {
    "duration": 188,
    "start_time": "2021-10-07T20:09:46.411Z"
   },
   {
    "duration": 17,
    "start_time": "2021-10-07T20:09:46.602Z"
   },
   {
    "duration": 69,
    "start_time": "2021-10-07T20:09:46.622Z"
   },
   {
    "duration": 35,
    "start_time": "2021-10-07T20:09:46.694Z"
   },
   {
    "duration": 55,
    "start_time": "2021-10-07T20:09:46.733Z"
   },
   {
    "duration": 50,
    "start_time": "2021-10-07T20:09:46.791Z"
   },
   {
    "duration": 57,
    "start_time": "2021-10-07T20:09:46.843Z"
   },
   {
    "duration": 84,
    "start_time": "2021-10-07T20:09:46.903Z"
   },
   {
    "duration": 40,
    "start_time": "2021-10-07T20:09:46.990Z"
   },
   {
    "duration": 53,
    "start_time": "2021-10-07T20:09:47.032Z"
   },
   {
    "duration": 41,
    "start_time": "2021-10-07T20:09:47.087Z"
   },
   {
    "duration": 75,
    "start_time": "2021-10-07T20:09:47.131Z"
   },
   {
    "duration": 28,
    "start_time": "2021-10-07T20:09:47.210Z"
   },
   {
    "duration": 40,
    "start_time": "2021-10-07T20:09:47.268Z"
   },
   {
    "duration": 11,
    "start_time": "2021-10-07T20:09:47.311Z"
   },
   {
    "duration": 55,
    "start_time": "2021-10-07T20:09:47.324Z"
   },
   {
    "duration": 30,
    "start_time": "2021-10-07T20:09:47.381Z"
   },
   {
    "duration": 53,
    "start_time": "2021-10-07T20:09:47.413Z"
   },
   {
    "duration": 39,
    "start_time": "2021-10-07T20:09:47.469Z"
   },
   {
    "duration": 67,
    "start_time": "2021-10-07T20:09:47.512Z"
   },
   {
    "duration": 39,
    "start_time": "2021-10-07T20:09:47.582Z"
   },
   {
    "duration": 80,
    "start_time": "2021-10-07T20:09:47.625Z"
   },
   {
    "duration": 71,
    "start_time": "2021-10-07T20:09:47.708Z"
   },
   {
    "duration": 56,
    "start_time": "2021-10-07T20:09:47.782Z"
   },
   {
    "duration": 1063,
    "start_time": "2021-10-07T20:09:47.866Z"
   },
   {
    "duration": 42,
    "start_time": "2021-10-07T20:09:48.932Z"
   },
   {
    "duration": 23,
    "start_time": "2021-10-07T20:09:48.977Z"
   },
   {
    "duration": 913,
    "start_time": "2021-10-07T20:09:49.002Z"
   },
   {
    "duration": 50,
    "start_time": "2021-10-07T20:09:49.917Z"
   },
   {
    "duration": 10,
    "start_time": "2021-10-07T20:09:49.970Z"
   },
   {
    "duration": 1840,
    "start_time": "2021-10-07T20:09:49.982Z"
   },
   {
    "duration": 15,
    "start_time": "2021-10-07T20:09:51.824Z"
   },
   {
    "duration": 1227,
    "start_time": "2021-10-07T23:49:04.587Z"
   },
   {
    "duration": 64,
    "start_time": "2021-10-07T23:49:05.817Z"
   },
   {
    "duration": 82,
    "start_time": "2021-10-07T23:49:05.885Z"
   },
   {
    "duration": 199,
    "start_time": "2021-10-07T23:49:05.970Z"
   },
   {
    "duration": 16,
    "start_time": "2021-10-07T23:49:06.171Z"
   },
   {
    "duration": 88,
    "start_time": "2021-10-07T23:49:06.191Z"
   },
   {
    "duration": 54,
    "start_time": "2021-10-07T23:49:06.282Z"
   },
   {
    "duration": 33,
    "start_time": "2021-10-07T23:49:06.340Z"
   },
   {
    "duration": 79,
    "start_time": "2021-10-07T23:49:06.376Z"
   },
   {
    "duration": 36,
    "start_time": "2021-10-07T23:49:06.457Z"
   },
   {
    "duration": 82,
    "start_time": "2021-10-07T23:49:06.496Z"
   },
   {
    "duration": 64,
    "start_time": "2021-10-07T23:49:06.580Z"
   },
   {
    "duration": 22,
    "start_time": "2021-10-07T23:49:06.646Z"
   },
   {
    "duration": 67,
    "start_time": "2021-10-07T23:49:06.671Z"
   },
   {
    "duration": 50,
    "start_time": "2021-10-07T23:49:06.740Z"
   },
   {
    "duration": 45,
    "start_time": "2021-10-07T23:49:06.792Z"
   },
   {
    "duration": 40,
    "start_time": "2021-10-07T23:49:06.840Z"
   },
   {
    "duration": 42,
    "start_time": "2021-10-07T23:49:06.882Z"
   },
   {
    "duration": 34,
    "start_time": "2021-10-07T23:49:06.927Z"
   },
   {
    "duration": 61,
    "start_time": "2021-10-07T23:49:06.963Z"
   },
   {
    "duration": 26,
    "start_time": "2021-10-07T23:49:07.027Z"
   },
   {
    "duration": 66,
    "start_time": "2021-10-07T23:49:07.056Z"
   },
   {
    "duration": 43,
    "start_time": "2021-10-07T23:49:07.127Z"
   },
   {
    "duration": 55,
    "start_time": "2021-10-07T23:49:07.172Z"
   },
   {
    "duration": 46,
    "start_time": "2021-10-07T23:49:07.230Z"
   },
   {
    "duration": 110,
    "start_time": "2021-10-07T23:49:07.279Z"
   },
   {
    "duration": 69,
    "start_time": "2021-10-07T23:49:07.392Z"
   },
   {
    "duration": 1144,
    "start_time": "2021-10-07T23:49:07.464Z"
   },
   {
    "duration": 29,
    "start_time": "2021-10-07T23:49:08.611Z"
   },
   {
    "duration": 23,
    "start_time": "2021-10-07T23:49:08.643Z"
   },
   {
    "duration": 877,
    "start_time": "2021-10-07T23:49:08.668Z"
   },
   {
    "duration": 21,
    "start_time": "2021-10-07T23:49:09.547Z"
   },
   {
    "duration": 81,
    "start_time": "2021-10-07T23:49:09.571Z"
   },
   {
    "duration": -158,
    "start_time": "2021-10-07T23:49:09.813Z"
   },
   {
    "duration": -160,
    "start_time": "2021-10-07T23:49:09.817Z"
   },
   {
    "duration": 1195,
    "start_time": "2021-10-07T23:49:49.189Z"
   },
   {
    "duration": 70,
    "start_time": "2021-10-07T23:49:50.387Z"
   },
   {
    "duration": 74,
    "start_time": "2021-10-07T23:49:50.460Z"
   },
   {
    "duration": 174,
    "start_time": "2021-10-07T23:49:50.537Z"
   },
   {
    "duration": 24,
    "start_time": "2021-10-07T23:49:50.714Z"
   },
   {
    "duration": 64,
    "start_time": "2021-10-07T23:49:50.741Z"
   },
   {
    "duration": 47,
    "start_time": "2021-10-07T23:49:50.824Z"
   },
   {
    "duration": 67,
    "start_time": "2021-10-07T23:49:50.876Z"
   },
   {
    "duration": 84,
    "start_time": "2021-10-07T23:49:50.947Z"
   },
   {
    "duration": 49,
    "start_time": "2021-10-07T23:49:51.034Z"
   },
   {
    "duration": 121,
    "start_time": "2021-10-07T23:49:51.086Z"
   },
   {
    "duration": 66,
    "start_time": "2021-10-07T23:49:51.210Z"
   },
   {
    "duration": 46,
    "start_time": "2021-10-07T23:49:51.279Z"
   },
   {
    "duration": 55,
    "start_time": "2021-10-07T23:49:51.329Z"
   },
   {
    "duration": 92,
    "start_time": "2021-10-07T23:49:51.387Z"
   },
   {
    "duration": 46,
    "start_time": "2021-10-07T23:49:51.482Z"
   },
   {
    "duration": 56,
    "start_time": "2021-10-07T23:49:51.531Z"
   },
   {
    "duration": 37,
    "start_time": "2021-10-07T23:49:51.590Z"
   },
   {
    "duration": 45,
    "start_time": "2021-10-07T23:49:51.630Z"
   },
   {
    "duration": 49,
    "start_time": "2021-10-07T23:49:51.678Z"
   },
   {
    "duration": 31,
    "start_time": "2021-10-07T23:49:51.730Z"
   },
   {
    "duration": 65,
    "start_time": "2021-10-07T23:49:51.763Z"
   },
   {
    "duration": 47,
    "start_time": "2021-10-07T23:49:51.833Z"
   },
   {
    "duration": 58,
    "start_time": "2021-10-07T23:49:51.883Z"
   },
   {
    "duration": 90,
    "start_time": "2021-10-07T23:49:51.944Z"
   },
   {
    "duration": 95,
    "start_time": "2021-10-07T23:49:52.037Z"
   },
   {
    "duration": 98,
    "start_time": "2021-10-07T23:49:52.135Z"
   },
   {
    "duration": 1520,
    "start_time": "2021-10-07T23:49:52.236Z"
   },
   {
    "duration": 29,
    "start_time": "2021-10-07T23:49:53.759Z"
   },
   {
    "duration": 53,
    "start_time": "2021-10-07T23:49:53.791Z"
   },
   {
    "duration": 1213,
    "start_time": "2021-10-07T23:49:53.848Z"
   },
   {
    "duration": 29,
    "start_time": "2021-10-07T23:49:55.064Z"
   },
   {
    "duration": 114,
    "start_time": "2021-10-07T23:49:55.096Z"
   },
   {
    "duration": -97,
    "start_time": "2021-10-07T23:49:55.310Z"
   },
   {
    "duration": -105,
    "start_time": "2021-10-07T23:49:55.320Z"
   },
   {
    "duration": 1130,
    "start_time": "2021-10-07T23:50:38.962Z"
   },
   {
    "duration": 76,
    "start_time": "2021-10-07T23:50:40.096Z"
   },
   {
    "duration": 77,
    "start_time": "2021-10-07T23:50:40.177Z"
   },
   {
    "duration": 176,
    "start_time": "2021-10-07T23:50:40.257Z"
   },
   {
    "duration": 16,
    "start_time": "2021-10-07T23:50:40.435Z"
   },
   {
    "duration": 40,
    "start_time": "2021-10-07T23:50:40.454Z"
   },
   {
    "duration": 35,
    "start_time": "2021-10-07T23:50:40.523Z"
   },
   {
    "duration": 32,
    "start_time": "2021-10-07T23:50:40.562Z"
   },
   {
    "duration": 70,
    "start_time": "2021-10-07T23:50:40.597Z"
   },
   {
    "duration": 54,
    "start_time": "2021-10-07T23:50:40.669Z"
   },
   {
    "duration": 62,
    "start_time": "2021-10-07T23:50:40.726Z"
   },
   {
    "duration": 54,
    "start_time": "2021-10-07T23:50:40.791Z"
   },
   {
    "duration": 20,
    "start_time": "2021-10-07T23:50:40.847Z"
   },
   {
    "duration": 59,
    "start_time": "2021-10-07T23:50:40.870Z"
   },
   {
    "duration": 51,
    "start_time": "2021-10-07T23:50:40.932Z"
   },
   {
    "duration": 47,
    "start_time": "2021-10-07T23:50:40.986Z"
   },
   {
    "duration": 54,
    "start_time": "2021-10-07T23:50:41.037Z"
   },
   {
    "duration": 40,
    "start_time": "2021-10-07T23:50:41.094Z"
   },
   {
    "duration": 39,
    "start_time": "2021-10-07T23:50:41.138Z"
   },
   {
    "duration": 69,
    "start_time": "2021-10-07T23:50:41.180Z"
   },
   {
    "duration": 38,
    "start_time": "2021-10-07T23:50:41.252Z"
   },
   {
    "duration": 59,
    "start_time": "2021-10-07T23:50:41.292Z"
   },
   {
    "duration": 44,
    "start_time": "2021-10-07T23:50:41.355Z"
   },
   {
    "duration": 56,
    "start_time": "2021-10-07T23:50:41.401Z"
   },
   {
    "duration": 68,
    "start_time": "2021-10-07T23:50:41.460Z"
   },
   {
    "duration": 50,
    "start_time": "2021-10-07T23:50:41.531Z"
   },
   {
    "duration": 77,
    "start_time": "2021-10-07T23:50:41.583Z"
   },
   {
    "duration": 1007,
    "start_time": "2021-10-07T23:50:41.662Z"
   },
   {
    "duration": 21,
    "start_time": "2021-10-07T23:50:42.672Z"
   },
   {
    "duration": 38,
    "start_time": "2021-10-07T23:50:42.696Z"
   },
   {
    "duration": 855,
    "start_time": "2021-10-07T23:50:42.736Z"
   },
   {
    "duration": 38,
    "start_time": "2021-10-07T23:50:43.593Z"
   },
   {
    "duration": 27,
    "start_time": "2021-10-07T23:50:43.634Z"
   },
   {
    "duration": 2310,
    "start_time": "2021-10-07T23:50:43.663Z"
   },
   {
    "duration": 16,
    "start_time": "2021-10-07T23:50:45.976Z"
   },
   {
    "duration": 1186,
    "start_time": "2021-10-07T23:51:19.493Z"
   },
   {
    "duration": 81,
    "start_time": "2021-10-07T23:51:20.682Z"
   },
   {
    "duration": 80,
    "start_time": "2021-10-07T23:51:20.766Z"
   },
   {
    "duration": 190,
    "start_time": "2021-10-07T23:51:20.849Z"
   },
   {
    "duration": 17,
    "start_time": "2021-10-07T23:51:21.042Z"
   },
   {
    "duration": 73,
    "start_time": "2021-10-07T23:51:21.061Z"
   },
   {
    "duration": 35,
    "start_time": "2021-10-07T23:51:21.137Z"
   },
   {
    "duration": 62,
    "start_time": "2021-10-07T23:51:21.175Z"
   },
   {
    "duration": 48,
    "start_time": "2021-10-07T23:51:21.241Z"
   },
   {
    "duration": 58,
    "start_time": "2021-10-07T23:51:21.292Z"
   },
   {
    "duration": 86,
    "start_time": "2021-10-07T23:51:21.352Z"
   },
   {
    "duration": 40,
    "start_time": "2021-10-07T23:51:21.461Z"
   },
   {
    "duration": 24,
    "start_time": "2021-10-07T23:51:21.503Z"
   },
   {
    "duration": 36,
    "start_time": "2021-10-07T23:51:21.530Z"
   },
   {
    "duration": 84,
    "start_time": "2021-10-07T23:51:21.568Z"
   },
   {
    "duration": 22,
    "start_time": "2021-10-07T23:51:21.655Z"
   },
   {
    "duration": 66,
    "start_time": "2021-10-07T23:51:21.679Z"
   },
   {
    "duration": 11,
    "start_time": "2021-10-07T23:51:21.747Z"
   },
   {
    "duration": 27,
    "start_time": "2021-10-07T23:51:21.760Z"
   },
   {
    "duration": 59,
    "start_time": "2021-10-07T23:51:21.790Z"
   },
   {
    "duration": 29,
    "start_time": "2021-10-07T23:51:21.852Z"
   },
   {
    "duration": 72,
    "start_time": "2021-10-07T23:51:21.884Z"
   },
   {
    "duration": 64,
    "start_time": "2021-10-07T23:51:21.960Z"
   },
   {
    "duration": 38,
    "start_time": "2021-10-07T23:51:22.027Z"
   },
   {
    "duration": 69,
    "start_time": "2021-10-07T23:51:22.067Z"
   },
   {
    "duration": 64,
    "start_time": "2021-10-07T23:51:22.138Z"
   },
   {
    "duration": 82,
    "start_time": "2021-10-07T23:51:22.208Z"
   },
   {
    "duration": 1524,
    "start_time": "2021-10-07T23:51:22.294Z"
   },
   {
    "duration": 30,
    "start_time": "2021-10-07T23:51:23.823Z"
   },
   {
    "duration": 30,
    "start_time": "2021-10-07T23:51:23.856Z"
   },
   {
    "duration": 1357,
    "start_time": "2021-10-07T23:51:23.889Z"
   },
   {
    "duration": 32,
    "start_time": "2021-10-07T23:51:25.249Z"
   },
   {
    "duration": 77,
    "start_time": "2021-10-07T23:51:25.284Z"
   },
   {
    "duration": 3607,
    "start_time": "2021-10-07T23:51:25.364Z"
   },
   {
    "duration": 25,
    "start_time": "2021-10-07T23:51:28.974Z"
   },
   {
    "duration": 2647,
    "start_time": "2021-10-07T23:55:05.300Z"
   },
   {
    "duration": 75,
    "start_time": "2021-10-07T23:55:07.949Z"
   },
   {
    "duration": 50,
    "start_time": "2021-10-07T23:55:08.028Z"
   },
   {
    "duration": 194,
    "start_time": "2021-10-07T23:55:08.080Z"
   },
   {
    "duration": 17,
    "start_time": "2021-10-07T23:55:08.276Z"
   },
   {
    "duration": 63,
    "start_time": "2021-10-07T23:55:08.295Z"
   },
   {
    "duration": 35,
    "start_time": "2021-10-07T23:55:08.361Z"
   },
   {
    "duration": 58,
    "start_time": "2021-10-07T23:55:08.400Z"
   },
   {
    "duration": 69,
    "start_time": "2021-10-07T23:55:08.461Z"
   },
   {
    "duration": 36,
    "start_time": "2021-10-07T23:55:08.533Z"
   },
   {
    "duration": 95,
    "start_time": "2021-10-07T23:55:08.571Z"
   },
   {
    "duration": 61,
    "start_time": "2021-10-07T23:55:08.669Z"
   },
   {
    "duration": 23,
    "start_time": "2021-10-07T23:55:08.733Z"
   },
   {
    "duration": 67,
    "start_time": "2021-10-07T23:55:08.759Z"
   },
   {
    "duration": 49,
    "start_time": "2021-10-07T23:55:08.829Z"
   },
   {
    "duration": 45,
    "start_time": "2021-10-07T23:55:08.881Z"
   },
   {
    "duration": 39,
    "start_time": "2021-10-07T23:55:08.928Z"
   },
   {
    "duration": 11,
    "start_time": "2021-10-07T23:55:08.969Z"
   },
   {
    "duration": 61,
    "start_time": "2021-10-07T23:55:08.982Z"
   },
   {
    "duration": 28,
    "start_time": "2021-10-07T23:55:09.046Z"
   },
   {
    "duration": 52,
    "start_time": "2021-10-07T23:55:09.076Z"
   },
   {
    "duration": 40,
    "start_time": "2021-10-07T23:55:09.131Z"
   },
   {
    "duration": 72,
    "start_time": "2021-10-07T23:55:09.176Z"
   },
   {
    "duration": 38,
    "start_time": "2021-10-07T23:55:09.250Z"
   },
   {
    "duration": 71,
    "start_time": "2021-10-07T23:55:09.290Z"
   },
   {
    "duration": 70,
    "start_time": "2021-10-07T23:55:09.363Z"
   },
   {
    "duration": 53,
    "start_time": "2021-10-07T23:55:09.436Z"
   },
   {
    "duration": 1011,
    "start_time": "2021-10-07T23:55:09.491Z"
   },
   {
    "duration": 37,
    "start_time": "2021-10-07T23:55:10.505Z"
   },
   {
    "duration": 20,
    "start_time": "2021-10-07T23:55:10.545Z"
   },
   {
    "duration": 918,
    "start_time": "2021-10-07T23:55:10.567Z"
   },
   {
    "duration": 40,
    "start_time": "2021-10-07T23:55:11.487Z"
   },
   {
    "duration": 36,
    "start_time": "2021-10-07T23:55:11.530Z"
   },
   {
    "duration": 2483,
    "start_time": "2021-10-07T23:55:11.569Z"
   },
   {
    "duration": 18,
    "start_time": "2021-10-07T23:55:14.054Z"
   },
   {
    "duration": 1235,
    "start_time": "2021-10-07T23:55:41.045Z"
   },
   {
    "duration": 82,
    "start_time": "2021-10-07T23:55:42.282Z"
   },
   {
    "duration": 77,
    "start_time": "2021-10-07T23:55:42.367Z"
   },
   {
    "duration": 177,
    "start_time": "2021-10-07T23:55:42.447Z"
   },
   {
    "duration": 20,
    "start_time": "2021-10-07T23:55:42.628Z"
   },
   {
    "duration": 41,
    "start_time": "2021-10-07T23:55:42.650Z"
   },
   {
    "duration": 62,
    "start_time": "2021-10-07T23:55:42.693Z"
   },
   {
    "duration": 31,
    "start_time": "2021-10-07T23:55:42.758Z"
   },
   {
    "duration": 113,
    "start_time": "2021-10-07T23:55:42.793Z"
   },
   {
    "duration": 48,
    "start_time": "2021-10-07T23:55:42.910Z"
   },
   {
    "duration": 83,
    "start_time": "2021-10-07T23:55:42.961Z"
   },
   {
    "duration": 47,
    "start_time": "2021-10-07T23:55:43.046Z"
   },
   {
    "duration": 46,
    "start_time": "2021-10-07T23:55:43.095Z"
   },
   {
    "duration": 42,
    "start_time": "2021-10-07T23:55:43.144Z"
   },
   {
    "duration": 72,
    "start_time": "2021-10-07T23:55:43.188Z"
   },
   {
    "duration": 22,
    "start_time": "2021-10-07T23:55:43.262Z"
   },
   {
    "duration": 66,
    "start_time": "2021-10-07T23:55:43.286Z"
   },
   {
    "duration": 11,
    "start_time": "2021-10-07T23:55:43.354Z"
   },
   {
    "duration": 29,
    "start_time": "2021-10-07T23:55:43.367Z"
   },
   {
    "duration": 29,
    "start_time": "2021-10-07T23:55:43.421Z"
   },
   {
    "duration": 26,
    "start_time": "2021-10-07T23:55:43.452Z"
   },
   {
    "duration": 78,
    "start_time": "2021-10-07T23:55:43.481Z"
   },
   {
    "duration": 44,
    "start_time": "2021-10-07T23:55:43.562Z"
   },
   {
    "duration": 42,
    "start_time": "2021-10-07T23:55:43.623Z"
   },
   {
    "duration": 73,
    "start_time": "2021-10-07T23:55:43.668Z"
   },
   {
    "duration": 50,
    "start_time": "2021-10-07T23:55:43.743Z"
   },
   {
    "duration": 55,
    "start_time": "2021-10-07T23:55:43.822Z"
   },
   {
    "duration": 1033,
    "start_time": "2021-10-07T23:55:43.880Z"
   },
   {
    "duration": 29,
    "start_time": "2021-10-07T23:55:44.921Z"
   },
   {
    "duration": 20,
    "start_time": "2021-10-07T23:55:44.952Z"
   },
   {
    "duration": 905,
    "start_time": "2021-10-07T23:55:44.974Z"
   },
   {
    "duration": 21,
    "start_time": "2021-10-07T23:55:45.881Z"
   },
   {
    "duration": 44,
    "start_time": "2021-10-07T23:55:45.923Z"
   },
   {
    "duration": 2391,
    "start_time": "2021-10-07T23:55:45.970Z"
   },
   {
    "duration": 17,
    "start_time": "2021-10-07T23:55:48.364Z"
   },
   {
    "duration": 1255,
    "start_time": "2021-10-07T23:56:31.827Z"
   },
   {
    "duration": 88,
    "start_time": "2021-10-07T23:56:33.086Z"
   },
   {
    "duration": 84,
    "start_time": "2021-10-07T23:56:33.178Z"
   },
   {
    "duration": 198,
    "start_time": "2021-10-07T23:56:33.265Z"
   },
   {
    "duration": 17,
    "start_time": "2021-10-07T23:56:33.465Z"
   },
   {
    "duration": 63,
    "start_time": "2021-10-07T23:56:33.484Z"
   },
   {
    "duration": 41,
    "start_time": "2021-10-07T23:56:33.550Z"
   },
   {
    "duration": 59,
    "start_time": "2021-10-07T23:56:33.596Z"
   },
   {
    "duration": 84,
    "start_time": "2021-10-07T23:56:33.659Z"
   },
   {
    "duration": 34,
    "start_time": "2021-10-07T23:56:33.746Z"
   },
   {
    "duration": 100,
    "start_time": "2021-10-07T23:56:33.783Z"
   },
   {
    "duration": 59,
    "start_time": "2021-10-07T23:56:33.886Z"
   },
   {
    "duration": 23,
    "start_time": "2021-10-07T23:56:33.948Z"
   },
   {
    "duration": 70,
    "start_time": "2021-10-07T23:56:33.974Z"
   },
   {
    "duration": 47,
    "start_time": "2021-10-07T23:56:34.047Z"
   },
   {
    "duration": 48,
    "start_time": "2021-10-07T23:56:34.097Z"
   },
   {
    "duration": 35,
    "start_time": "2021-10-07T23:56:34.148Z"
   },
   {
    "duration": 48,
    "start_time": "2021-10-07T23:56:34.185Z"
   },
   {
    "duration": 25,
    "start_time": "2021-10-07T23:56:34.237Z"
   },
   {
    "duration": 28,
    "start_time": "2021-10-07T23:56:34.265Z"
   },
   {
    "duration": 33,
    "start_time": "2021-10-07T23:56:34.322Z"
   },
   {
    "duration": 66,
    "start_time": "2021-10-07T23:56:34.357Z"
   },
   {
    "duration": 45,
    "start_time": "2021-10-07T23:56:34.431Z"
   },
   {
    "duration": 66,
    "start_time": "2021-10-07T23:56:34.479Z"
   },
   {
    "duration": 48,
    "start_time": "2021-10-07T23:56:34.548Z"
   },
   {
    "duration": 56,
    "start_time": "2021-10-07T23:56:34.624Z"
   },
   {
    "duration": 80,
    "start_time": "2021-10-07T23:56:34.683Z"
   },
   {
    "duration": 1025,
    "start_time": "2021-10-07T23:56:34.766Z"
   },
   {
    "duration": 38,
    "start_time": "2021-10-07T23:56:35.794Z"
   },
   {
    "duration": 24,
    "start_time": "2021-10-07T23:56:35.834Z"
   },
   {
    "duration": 893,
    "start_time": "2021-10-07T23:56:35.861Z"
   },
   {
    "duration": 22,
    "start_time": "2021-10-07T23:56:36.757Z"
   },
   {
    "duration": 66,
    "start_time": "2021-10-07T23:56:36.781Z"
   },
   {
    "duration": 2364,
    "start_time": "2021-10-07T23:56:36.849Z"
   },
   {
    "duration": 23,
    "start_time": "2021-10-07T23:56:39.221Z"
   },
   {
    "duration": 1215,
    "start_time": "2021-10-07T23:58:00.566Z"
   },
   {
    "duration": 91,
    "start_time": "2021-10-07T23:58:01.784Z"
   },
   {
    "duration": 84,
    "start_time": "2021-10-07T23:58:01.880Z"
   },
   {
    "duration": 194,
    "start_time": "2021-10-07T23:58:01.967Z"
   },
   {
    "duration": 20,
    "start_time": "2021-10-07T23:58:02.164Z"
   },
   {
    "duration": 69,
    "start_time": "2021-10-07T23:58:02.187Z"
   },
   {
    "duration": 35,
    "start_time": "2021-10-07T23:58:02.258Z"
   },
   {
    "duration": 56,
    "start_time": "2021-10-07T23:58:02.297Z"
   },
   {
    "duration": 81,
    "start_time": "2021-10-07T23:58:02.357Z"
   },
   {
    "duration": 36,
    "start_time": "2021-10-07T23:58:02.441Z"
   },
   {
    "duration": 90,
    "start_time": "2021-10-07T23:58:02.479Z"
   },
   {
    "duration": 52,
    "start_time": "2021-10-07T23:58:02.571Z"
   },
   {
    "duration": 20,
    "start_time": "2021-10-07T23:58:02.626Z"
   },
   {
    "duration": 37,
    "start_time": "2021-10-07T23:58:02.650Z"
   },
   {
    "duration": 86,
    "start_time": "2021-10-07T23:58:02.690Z"
   },
   {
    "duration": 52,
    "start_time": "2021-10-07T23:58:02.778Z"
   },
   {
    "duration": 40,
    "start_time": "2021-10-07T23:58:02.834Z"
   },
   {
    "duration": 12,
    "start_time": "2021-10-07T23:58:02.877Z"
   },
   {
    "duration": 33,
    "start_time": "2021-10-07T23:58:02.923Z"
   },
   {
    "duration": 28,
    "start_time": "2021-10-07T23:58:02.959Z"
   },
   {
    "duration": 63,
    "start_time": "2021-10-07T23:58:02.990Z"
   },
   {
    "duration": 37,
    "start_time": "2021-10-07T23:58:03.055Z"
   },
   {
    "duration": 61,
    "start_time": "2021-10-07T23:58:03.127Z"
   },
   {
    "duration": 69,
    "start_time": "2021-10-07T23:58:03.191Z"
   },
   {
    "duration": 63,
    "start_time": "2021-10-07T23:58:03.262Z"
   },
   {
    "duration": 54,
    "start_time": "2021-10-07T23:58:03.328Z"
   },
   {
    "duration": 88,
    "start_time": "2021-10-07T23:58:03.385Z"
   },
   {
    "duration": 1041,
    "start_time": "2021-10-07T23:58:03.476Z"
   },
   {
    "duration": 31,
    "start_time": "2021-10-07T23:58:04.522Z"
   },
   {
    "duration": 22,
    "start_time": "2021-10-07T23:58:04.556Z"
   },
   {
    "duration": 921,
    "start_time": "2021-10-07T23:58:04.580Z"
   },
   {
    "duration": 34,
    "start_time": "2021-10-07T23:58:05.503Z"
   },
   {
    "duration": 23,
    "start_time": "2021-10-07T23:58:05.540Z"
   },
   {
    "duration": 64,
    "start_time": "2021-10-07T23:58:05.565Z"
   },
   {
    "duration": 2651,
    "start_time": "2021-10-07T23:58:05.631Z"
   },
   {
    "duration": 17,
    "start_time": "2021-10-07T23:58:08.285Z"
   },
   {
    "duration": 1239,
    "start_time": "2021-10-14T07:14:11.249Z"
   },
   {
    "duration": 64,
    "start_time": "2021-10-14T07:14:12.491Z"
   },
   {
    "duration": 80,
    "start_time": "2021-10-14T07:14:12.559Z"
   },
   {
    "duration": 201,
    "start_time": "2021-10-14T07:14:12.643Z"
   },
   {
    "duration": 19,
    "start_time": "2021-10-14T07:14:12.847Z"
   },
   {
    "duration": 70,
    "start_time": "2021-10-14T07:14:12.869Z"
   },
   {
    "duration": 38,
    "start_time": "2021-10-14T07:14:12.941Z"
   },
   {
    "duration": 35,
    "start_time": "2021-10-14T07:14:13.003Z"
   },
   {
    "duration": 68,
    "start_time": "2021-10-14T07:14:13.041Z"
   },
   {
    "duration": 38,
    "start_time": "2021-10-14T07:14:13.112Z"
   },
   {
    "duration": 96,
    "start_time": "2021-10-14T07:14:13.153Z"
   },
   {
    "duration": 50,
    "start_time": "2021-10-14T07:14:13.252Z"
   },
   {
    "duration": 22,
    "start_time": "2021-10-14T07:14:13.304Z"
   },
   {
    "duration": 39,
    "start_time": "2021-10-14T07:14:13.329Z"
   },
   {
    "duration": 77,
    "start_time": "2021-10-14T07:14:13.370Z"
   },
   {
    "duration": 26,
    "start_time": "2021-10-14T07:14:13.449Z"
   },
   {
    "duration": 38,
    "start_time": "2021-10-14T07:14:13.500Z"
   },
   {
    "duration": 12,
    "start_time": "2021-10-14T07:14:13.540Z"
   },
   {
    "duration": 55,
    "start_time": "2021-10-14T07:14:13.554Z"
   },
   {
    "duration": 29,
    "start_time": "2021-10-14T07:14:13.611Z"
   },
   {
    "duration": 27,
    "start_time": "2021-10-14T07:14:13.642Z"
   },
   {
    "duration": 63,
    "start_time": "2021-10-14T07:14:13.671Z"
   },
   {
    "duration": 70,
    "start_time": "2021-10-14T07:14:13.739Z"
   },
   {
    "duration": 39,
    "start_time": "2021-10-14T07:14:13.812Z"
   },
   {
    "duration": 73,
    "start_time": "2021-10-14T07:14:13.853Z"
   },
   {
    "duration": 74,
    "start_time": "2021-10-14T07:14:13.928Z"
   },
   {
    "duration": 54,
    "start_time": "2021-10-14T07:14:14.004Z"
   },
   {
    "duration": 1060,
    "start_time": "2021-10-14T07:14:14.061Z"
   },
   {
    "duration": 22,
    "start_time": "2021-10-14T07:14:15.123Z"
   },
   {
    "duration": 21,
    "start_time": "2021-10-14T07:14:15.147Z"
   },
   {
    "duration": 883,
    "start_time": "2021-10-14T07:14:15.200Z"
   },
   {
    "duration": 31,
    "start_time": "2021-10-14T07:14:16.085Z"
   },
   {
    "duration": 24,
    "start_time": "2021-10-14T07:14:16.119Z"
   },
   {
    "duration": 74,
    "start_time": "2021-10-14T07:14:16.146Z"
   },
   {
    "duration": 2387,
    "start_time": "2021-10-14T07:14:16.222Z"
   },
   {
    "duration": 17,
    "start_time": "2021-10-14T07:14:18.612Z"
   },
   {
    "duration": 1714,
    "start_time": "2021-10-14T08:10:58.153Z"
   },
   {
    "duration": 77,
    "start_time": "2021-10-14T08:10:59.870Z"
   },
   {
    "duration": 83,
    "start_time": "2021-10-14T08:10:59.950Z"
   },
   {
    "duration": 203,
    "start_time": "2021-10-14T08:11:00.036Z"
   },
   {
    "duration": 20,
    "start_time": "2021-10-14T08:11:00.242Z"
   },
   {
    "duration": 71,
    "start_time": "2021-10-14T08:11:00.265Z"
   },
   {
    "duration": 38,
    "start_time": "2021-10-14T08:11:00.339Z"
   },
   {
    "duration": 36,
    "start_time": "2021-10-14T08:11:00.403Z"
   },
   {
    "duration": 87,
    "start_time": "2021-10-14T08:11:00.443Z"
   },
   {
    "duration": 39,
    "start_time": "2021-10-14T08:11:00.533Z"
   },
   {
    "duration": 91,
    "start_time": "2021-10-14T08:11:00.575Z"
   },
   {
    "duration": 58,
    "start_time": "2021-10-14T08:11:00.670Z"
   },
   {
    "duration": 21,
    "start_time": "2021-10-14T08:11:00.730Z"
   },
   {
    "duration": 68,
    "start_time": "2021-10-14T08:11:00.754Z"
   },
   {
    "duration": 51,
    "start_time": "2021-10-14T08:11:00.824Z"
   },
   {
    "duration": 43,
    "start_time": "2021-10-14T08:11:00.878Z"
   },
   {
    "duration": 41,
    "start_time": "2021-10-14T08:11:00.923Z"
   },
   {
    "duration": 41,
    "start_time": "2021-10-14T08:11:00.966Z"
   },
   {
    "duration": 41,
    "start_time": "2021-10-14T08:11:01.009Z"
   },
   {
    "duration": 28,
    "start_time": "2021-10-14T08:11:01.052Z"
   },
   {
    "duration": 40,
    "start_time": "2021-10-14T08:11:01.082Z"
   },
   {
    "duration": 38,
    "start_time": "2021-10-14T08:11:01.124Z"
   },
   {
    "duration": 75,
    "start_time": "2021-10-14T08:11:01.166Z"
   },
   {
    "duration": 41,
    "start_time": "2021-10-14T08:11:01.244Z"
   },
   {
    "duration": 101,
    "start_time": "2021-10-14T08:11:01.300Z"
   },
   {
    "duration": 100,
    "start_time": "2021-10-14T08:11:01.405Z"
   },
   {
    "duration": 111,
    "start_time": "2021-10-14T08:11:01.508Z"
   },
   {
    "duration": 1262,
    "start_time": "2021-10-14T08:11:01.622Z"
   },
   {
    "duration": 31,
    "start_time": "2021-10-14T08:11:02.887Z"
   },
   {
    "duration": 29,
    "start_time": "2021-10-14T08:11:02.921Z"
   },
   {
    "duration": 893,
    "start_time": "2021-10-14T08:11:02.953Z"
   },
   {
    "duration": 22,
    "start_time": "2021-10-14T08:11:03.848Z"
   },
   {
    "duration": 47,
    "start_time": "2021-10-14T08:11:03.873Z"
   },
   {
    "duration": 33,
    "start_time": "2021-10-14T08:11:03.923Z"
   },
   {
    "duration": 2384,
    "start_time": "2021-10-14T08:11:03.959Z"
   },
   {
    "duration": 18,
    "start_time": "2021-10-14T08:11:06.345Z"
   },
   {
    "duration": 81,
    "start_time": "2021-10-15T01:03:54.896Z"
   },
   {
    "duration": 93,
    "start_time": "2021-10-15T01:04:06.959Z"
   },
   {
    "duration": 292,
    "start_time": "2021-10-15T01:05:02.563Z"
   },
   {
    "duration": 253,
    "start_time": "2021-10-15T01:05:22.456Z"
   },
   {
    "duration": 989,
    "start_time": "2021-10-15T01:06:20.259Z"
   },
   {
    "duration": 44,
    "start_time": "2021-10-15T01:06:21.250Z"
   },
   {
    "duration": 55,
    "start_time": "2021-10-15T01:06:21.296Z"
   },
   {
    "duration": 127,
    "start_time": "2021-10-15T01:06:21.353Z"
   },
   {
    "duration": 11,
    "start_time": "2021-10-15T01:06:21.482Z"
   },
   {
    "duration": 33,
    "start_time": "2021-10-15T01:06:21.495Z"
   },
   {
    "duration": 37,
    "start_time": "2021-10-15T01:06:21.529Z"
   },
   {
    "duration": 10,
    "start_time": "2021-10-15T01:06:21.569Z"
   },
   {
    "duration": 25,
    "start_time": "2021-10-15T01:06:21.581Z"
   },
   {
    "duration": 62,
    "start_time": "2021-10-15T01:06:21.608Z"
   },
   {
    "duration": 24,
    "start_time": "2021-10-15T01:06:21.672Z"
   },
   {
    "duration": 67,
    "start_time": "2021-10-15T01:06:21.698Z"
   },
   {
    "duration": 27,
    "start_time": "2021-10-15T01:06:21.767Z"
   },
   {
    "duration": 15,
    "start_time": "2021-10-15T01:06:21.796Z"
   },
   {
    "duration": 53,
    "start_time": "2021-10-15T01:06:21.813Z"
   },
   {
    "duration": 33,
    "start_time": "2021-10-15T01:06:21.867Z"
   },
   {
    "duration": 16,
    "start_time": "2021-10-15T01:06:21.902Z"
   },
   {
    "duration": 48,
    "start_time": "2021-10-15T01:06:21.920Z"
   },
   {
    "duration": 8,
    "start_time": "2021-10-15T01:06:21.969Z"
   },
   {
    "duration": 23,
    "start_time": "2021-10-15T01:06:21.979Z"
   },
   {
    "duration": 18,
    "start_time": "2021-10-15T01:06:22.004Z"
   },
   {
    "duration": 36,
    "start_time": "2021-10-15T01:06:22.024Z"
   },
   {
    "duration": 22,
    "start_time": "2021-10-15T01:06:22.063Z"
   },
   {
    "duration": 27,
    "start_time": "2021-10-15T01:06:22.087Z"
   },
   {
    "duration": 49,
    "start_time": "2021-10-15T01:06:22.116Z"
   },
   {
    "duration": 26,
    "start_time": "2021-10-15T01:06:22.167Z"
   },
   {
    "duration": 49,
    "start_time": "2021-10-15T01:06:22.195Z"
   },
   {
    "duration": 32,
    "start_time": "2021-10-15T01:06:22.246Z"
   },
   {
    "duration": 728,
    "start_time": "2021-10-15T01:06:22.280Z"
   },
   {
    "duration": 13,
    "start_time": "2021-10-15T01:06:23.009Z"
   },
   {
    "duration": 41,
    "start_time": "2021-10-15T01:06:23.024Z"
   },
   {
    "duration": 487,
    "start_time": "2021-10-15T01:06:23.066Z"
   },
   {
    "duration": 13,
    "start_time": "2021-10-15T01:06:23.554Z"
   },
   {
    "duration": 19,
    "start_time": "2021-10-15T01:06:23.569Z"
   },
   {
    "duration": 26,
    "start_time": "2021-10-15T01:06:23.590Z"
   },
   {
    "duration": 1341,
    "start_time": "2021-10-15T01:06:23.617Z"
   },
   {
    "duration": 11,
    "start_time": "2021-10-15T01:06:24.960Z"
   },
   {
    "duration": 210,
    "start_time": "2021-10-15T22:15:54.443Z"
   },
   {
    "duration": 863,
    "start_time": "2021-10-15T22:16:02.615Z"
   },
   {
    "duration": 39,
    "start_time": "2021-10-15T22:16:03.480Z"
   },
   {
    "duration": 32,
    "start_time": "2021-10-15T22:16:03.521Z"
   },
   {
    "duration": 126,
    "start_time": "2021-10-15T22:16:03.554Z"
   },
   {
    "duration": 19,
    "start_time": "2021-10-15T22:16:03.681Z"
   },
   {
    "duration": 30,
    "start_time": "2021-10-15T22:16:03.702Z"
   },
   {
    "duration": 25,
    "start_time": "2021-10-15T22:16:03.734Z"
   },
   {
    "duration": 34,
    "start_time": "2021-10-15T22:16:03.762Z"
   },
   {
    "duration": 24,
    "start_time": "2021-10-15T22:16:03.799Z"
   },
   {
    "duration": 35,
    "start_time": "2021-10-15T22:16:03.825Z"
   },
   {
    "duration": 51,
    "start_time": "2021-10-15T22:16:03.862Z"
   },
   {
    "duration": 50,
    "start_time": "2021-10-15T22:16:03.914Z"
   },
   {
    "duration": 45,
    "start_time": "2021-10-15T22:16:03.966Z"
   },
   {
    "duration": 13,
    "start_time": "2021-10-15T22:16:04.012Z"
   },
   {
    "duration": 25,
    "start_time": "2021-10-15T22:16:04.026Z"
   },
   {
    "duration": 52,
    "start_time": "2021-10-15T22:16:04.053Z"
   },
   {
    "duration": 53,
    "start_time": "2021-10-15T22:16:04.107Z"
   },
   {
    "duration": -637,
    "start_time": "2021-10-15T22:16:04.799Z"
   },
   {
    "duration": -642,
    "start_time": "2021-10-15T22:16:04.805Z"
   },
   {
    "duration": -656,
    "start_time": "2021-10-15T22:16:04.820Z"
   },
   {
    "duration": -658,
    "start_time": "2021-10-15T22:16:04.823Z"
   },
   {
    "duration": -783,
    "start_time": "2021-10-15T22:16:04.949Z"
   },
   {
    "duration": -787,
    "start_time": "2021-10-15T22:16:04.954Z"
   },
   {
    "duration": -791,
    "start_time": "2021-10-15T22:16:04.959Z"
   },
   {
    "duration": -794,
    "start_time": "2021-10-15T22:16:04.962Z"
   },
   {
    "duration": -797,
    "start_time": "2021-10-15T22:16:04.966Z"
   },
   {
    "duration": -799,
    "start_time": "2021-10-15T22:16:04.969Z"
   },
   {
    "duration": -801,
    "start_time": "2021-10-15T22:16:04.972Z"
   },
   {
    "duration": -803,
    "start_time": "2021-10-15T22:16:04.975Z"
   },
   {
    "duration": -805,
    "start_time": "2021-10-15T22:16:04.978Z"
   },
   {
    "duration": -807,
    "start_time": "2021-10-15T22:16:04.981Z"
   },
   {
    "duration": -810,
    "start_time": "2021-10-15T22:16:04.985Z"
   },
   {
    "duration": -813,
    "start_time": "2021-10-15T22:16:04.988Z"
   },
   {
    "duration": -829,
    "start_time": "2021-10-15T22:16:05.005Z"
   },
   {
    "duration": -831,
    "start_time": "2021-10-15T22:16:05.008Z"
   },
   {
    "duration": -871,
    "start_time": "2021-10-15T22:16:05.049Z"
   },
   {
    "duration": -876,
    "start_time": "2021-10-15T22:16:05.055Z"
   },
   {
    "duration": -878,
    "start_time": "2021-10-15T22:16:05.058Z"
   },
   {
    "duration": -880,
    "start_time": "2021-10-15T22:16:05.061Z"
   },
   {
    "duration": 7,
    "start_time": "2021-10-15T22:18:16.169Z"
   },
   {
    "duration": 15,
    "start_time": "2021-10-15T22:18:29.107Z"
   },
   {
    "duration": 31,
    "start_time": "2021-10-15T22:21:14.676Z"
   },
   {
    "duration": 5130,
    "start_time": "2021-10-15T22:23:43.271Z"
   },
   {
    "duration": 842,
    "start_time": "2021-10-15T22:24:05.144Z"
   },
   {
    "duration": 41,
    "start_time": "2021-10-15T22:24:05.988Z"
   },
   {
    "duration": 34,
    "start_time": "2021-10-15T22:24:06.030Z"
   },
   {
    "duration": 132,
    "start_time": "2021-10-15T22:24:06.065Z"
   },
   {
    "duration": 11,
    "start_time": "2021-10-15T22:24:06.199Z"
   },
   {
    "duration": 30,
    "start_time": "2021-10-15T22:24:06.212Z"
   },
   {
    "duration": 24,
    "start_time": "2021-10-15T22:24:06.243Z"
   },
   {
    "duration": 29,
    "start_time": "2021-10-15T22:24:06.269Z"
   },
   {
    "duration": 25,
    "start_time": "2021-10-15T22:24:06.299Z"
   },
   {
    "duration": 36,
    "start_time": "2021-10-15T22:24:06.325Z"
   },
   {
    "duration": 51,
    "start_time": "2021-10-15T22:24:06.362Z"
   },
   {
    "duration": 47,
    "start_time": "2021-10-15T22:24:06.415Z"
   },
   {
    "duration": 48,
    "start_time": "2021-10-15T22:24:06.464Z"
   },
   {
    "duration": 17,
    "start_time": "2021-10-15T22:24:06.513Z"
   },
   {
    "duration": 26,
    "start_time": "2021-10-15T22:24:06.531Z"
   },
   {
    "duration": 63,
    "start_time": "2021-10-15T22:24:06.558Z"
   },
   {
    "duration": 18,
    "start_time": "2021-10-15T22:24:06.623Z"
   },
   {
    "duration": 385,
    "start_time": "2021-10-15T22:24:06.643Z"
   },
   {
    "duration": -179,
    "start_time": "2021-10-15T22:24:07.210Z"
   },
   {
    "duration": -184,
    "start_time": "2021-10-15T22:24:07.216Z"
   },
   {
    "duration": -186,
    "start_time": "2021-10-15T22:24:07.219Z"
   },
   {
    "duration": -189,
    "start_time": "2021-10-15T22:24:07.223Z"
   },
   {
    "duration": -192,
    "start_time": "2021-10-15T22:24:07.226Z"
   },
   {
    "duration": -195,
    "start_time": "2021-10-15T22:24:07.230Z"
   },
   {
    "duration": -199,
    "start_time": "2021-10-15T22:24:07.235Z"
   },
   {
    "duration": -200,
    "start_time": "2021-10-15T22:24:07.237Z"
   },
   {
    "duration": -203,
    "start_time": "2021-10-15T22:24:07.241Z"
   },
   {
    "duration": -211,
    "start_time": "2021-10-15T22:24:07.250Z"
   },
   {
    "duration": -214,
    "start_time": "2021-10-15T22:24:07.253Z"
   },
   {
    "duration": -217,
    "start_time": "2021-10-15T22:24:07.257Z"
   },
   {
    "duration": -219,
    "start_time": "2021-10-15T22:24:07.260Z"
   },
   {
    "duration": -223,
    "start_time": "2021-10-15T22:24:07.265Z"
   },
   {
    "duration": -225,
    "start_time": "2021-10-15T22:24:07.268Z"
   },
   {
    "duration": -229,
    "start_time": "2021-10-15T22:24:07.272Z"
   },
   {
    "duration": -231,
    "start_time": "2021-10-15T22:24:07.275Z"
   },
   {
    "duration": -234,
    "start_time": "2021-10-15T22:24:07.279Z"
   },
   {
    "duration": -237,
    "start_time": "2021-10-15T22:24:07.283Z"
   },
   {
    "duration": -240,
    "start_time": "2021-10-15T22:24:07.287Z"
   },
   {
    "duration": -242,
    "start_time": "2021-10-15T22:24:07.290Z"
   },
   {
    "duration": 4687,
    "start_time": "2021-10-15T22:25:01.687Z"
   },
   {
    "duration": 844,
    "start_time": "2021-10-15T22:25:12.961Z"
   },
   {
    "duration": 41,
    "start_time": "2021-10-15T22:25:13.806Z"
   },
   {
    "duration": 60,
    "start_time": "2021-10-15T22:25:13.849Z"
   },
   {
    "duration": 109,
    "start_time": "2021-10-15T22:25:13.911Z"
   },
   {
    "duration": 11,
    "start_time": "2021-10-15T22:25:14.021Z"
   },
   {
    "duration": 28,
    "start_time": "2021-10-15T22:25:14.033Z"
   },
   {
    "duration": 42,
    "start_time": "2021-10-15T22:25:14.063Z"
   },
   {
    "duration": 9,
    "start_time": "2021-10-15T22:25:14.107Z"
   },
   {
    "duration": 23,
    "start_time": "2021-10-15T22:25:14.117Z"
   },
   {
    "duration": 56,
    "start_time": "2021-10-15T22:25:14.141Z"
   },
   {
    "duration": 23,
    "start_time": "2021-10-15T22:25:14.198Z"
   },
   {
    "duration": 47,
    "start_time": "2021-10-15T22:25:14.223Z"
   },
   {
    "duration": 42,
    "start_time": "2021-10-15T22:25:14.272Z"
   },
   {
    "duration": 13,
    "start_time": "2021-10-15T22:25:14.315Z"
   },
   {
    "duration": 27,
    "start_time": "2021-10-15T22:25:14.330Z"
   },
   {
    "duration": 306,
    "start_time": "2021-10-15T22:25:14.359Z"
   },
   {
    "duration": -561,
    "start_time": "2021-10-15T22:25:15.228Z"
   },
   {
    "duration": -564,
    "start_time": "2021-10-15T22:25:15.232Z"
   },
   {
    "duration": -565,
    "start_time": "2021-10-15T22:25:15.234Z"
   },
   {
    "duration": -568,
    "start_time": "2021-10-15T22:25:15.238Z"
   },
   {
    "duration": -571,
    "start_time": "2021-10-15T22:25:15.242Z"
   },
   {
    "duration": -578,
    "start_time": "2021-10-15T22:25:15.250Z"
   },
   {
    "duration": -622,
    "start_time": "2021-10-15T22:25:15.295Z"
   },
   {
    "duration": -632,
    "start_time": "2021-10-15T22:25:15.306Z"
   },
   {
    "duration": -638,
    "start_time": "2021-10-15T22:25:15.312Z"
   },
   {
    "duration": -644,
    "start_time": "2021-10-15T22:25:15.319Z"
   },
   {
    "duration": -646,
    "start_time": "2021-10-15T22:25:15.322Z"
   },
   {
    "duration": -652,
    "start_time": "2021-10-15T22:25:15.329Z"
   },
   {
    "duration": -654,
    "start_time": "2021-10-15T22:25:15.332Z"
   },
   {
    "duration": -657,
    "start_time": "2021-10-15T22:25:15.336Z"
   },
   {
    "duration": -659,
    "start_time": "2021-10-15T22:25:15.339Z"
   },
   {
    "duration": -661,
    "start_time": "2021-10-15T22:25:15.342Z"
   },
   {
    "duration": -664,
    "start_time": "2021-10-15T22:25:15.345Z"
   },
   {
    "duration": -664,
    "start_time": "2021-10-15T22:25:15.347Z"
   },
   {
    "duration": -667,
    "start_time": "2021-10-15T22:25:15.350Z"
   },
   {
    "duration": -670,
    "start_time": "2021-10-15T22:25:15.354Z"
   },
   {
    "duration": -671,
    "start_time": "2021-10-15T22:25:15.356Z"
   },
   {
    "duration": -673,
    "start_time": "2021-10-15T22:25:15.359Z"
   },
   {
    "duration": -738,
    "start_time": "2021-10-15T22:25:15.425Z"
   },
   {
    "duration": 853,
    "start_time": "2021-10-15T22:25:51.396Z"
   },
   {
    "duration": 40,
    "start_time": "2021-10-15T22:25:52.250Z"
   },
   {
    "duration": 33,
    "start_time": "2021-10-15T22:25:52.292Z"
   },
   {
    "duration": 136,
    "start_time": "2021-10-15T22:25:52.327Z"
   },
   {
    "duration": 10,
    "start_time": "2021-10-15T22:25:52.464Z"
   },
   {
    "duration": 39,
    "start_time": "2021-10-15T22:25:52.476Z"
   },
   {
    "duration": 21,
    "start_time": "2021-10-15T22:25:52.517Z"
   },
   {
    "duration": 8,
    "start_time": "2021-10-15T22:25:52.539Z"
   },
   {
    "duration": 23,
    "start_time": "2021-10-15T22:25:52.549Z"
   },
   {
    "duration": 41,
    "start_time": "2021-10-15T22:25:52.574Z"
   },
   {
    "duration": 21,
    "start_time": "2021-10-15T22:25:52.617Z"
   },
   {
    "duration": 53,
    "start_time": "2021-10-15T22:25:52.639Z"
   },
   {
    "duration": 25,
    "start_time": "2021-10-15T22:25:52.693Z"
   },
   {
    "duration": 12,
    "start_time": "2021-10-15T22:25:52.720Z"
   },
   {
    "duration": 26,
    "start_time": "2021-10-15T22:25:52.733Z"
   },
   {
    "duration": 51,
    "start_time": "2021-10-15T22:25:52.761Z"
   },
   {
    "duration": 19,
    "start_time": "2021-10-15T22:25:52.813Z"
   },
   {
    "duration": 302,
    "start_time": "2021-10-15T22:25:52.834Z"
   },
   {
    "duration": -597,
    "start_time": "2021-10-15T22:25:53.735Z"
   },
   {
    "duration": -600,
    "start_time": "2021-10-15T22:25:53.739Z"
   },
   {
    "duration": -602,
    "start_time": "2021-10-15T22:25:53.742Z"
   },
   {
    "duration": -603,
    "start_time": "2021-10-15T22:25:53.744Z"
   },
   {
    "duration": -604,
    "start_time": "2021-10-15T22:25:53.746Z"
   },
   {
    "duration": -645,
    "start_time": "2021-10-15T22:25:53.788Z"
   },
   {
    "duration": -773,
    "start_time": "2021-10-15T22:25:53.917Z"
   },
   {
    "duration": -775,
    "start_time": "2021-10-15T22:25:53.919Z"
   },
   {
    "duration": -779,
    "start_time": "2021-10-15T22:25:53.924Z"
   },
   {
    "duration": -784,
    "start_time": "2021-10-15T22:25:53.930Z"
   },
   {
    "duration": -786,
    "start_time": "2021-10-15T22:25:53.933Z"
   },
   {
    "duration": -788,
    "start_time": "2021-10-15T22:25:53.936Z"
   },
   {
    "duration": -790,
    "start_time": "2021-10-15T22:25:53.939Z"
   },
   {
    "duration": -791,
    "start_time": "2021-10-15T22:25:53.941Z"
   },
   {
    "duration": -793,
    "start_time": "2021-10-15T22:25:53.944Z"
   },
   {
    "duration": -795,
    "start_time": "2021-10-15T22:25:53.947Z"
   },
   {
    "duration": -797,
    "start_time": "2021-10-15T22:25:53.950Z"
   },
   {
    "duration": -800,
    "start_time": "2021-10-15T22:25:53.954Z"
   },
   {
    "duration": -1032,
    "start_time": "2021-10-15T22:25:54.187Z"
   },
   {
    "duration": -1038,
    "start_time": "2021-10-15T22:25:54.194Z"
   },
   {
    "duration": -1044,
    "start_time": "2021-10-15T22:25:54.201Z"
   },
   {
    "duration": 4744,
    "start_time": "2021-10-15T22:27:57.638Z"
   },
   {
    "duration": 532,
    "start_time": "2021-10-15T22:30:18.915Z"
   },
   {
    "duration": 332,
    "start_time": "2021-10-16T02:36:57.131Z"
   },
   {
    "duration": 1582,
    "start_time": "2021-10-16T02:37:12.260Z"
   },
   {
    "duration": 77,
    "start_time": "2021-10-16T02:37:13.845Z"
   },
   {
    "duration": 70,
    "start_time": "2021-10-16T02:37:13.925Z"
   },
   {
    "duration": 171,
    "start_time": "2021-10-16T02:37:13.998Z"
   },
   {
    "duration": 26,
    "start_time": "2021-10-16T02:37:14.171Z"
   },
   {
    "duration": 39,
    "start_time": "2021-10-16T02:37:14.199Z"
   },
   {
    "duration": 58,
    "start_time": "2021-10-16T02:37:14.241Z"
   },
   {
    "duration": 14,
    "start_time": "2021-10-16T02:37:14.303Z"
   },
   {
    "duration": 63,
    "start_time": "2021-10-16T02:37:14.320Z"
   },
   {
    "duration": 46,
    "start_time": "2021-10-16T02:37:14.385Z"
   },
   {
    "duration": 53,
    "start_time": "2021-10-16T02:37:14.434Z"
   },
   {
    "duration": 64,
    "start_time": "2021-10-16T02:37:14.490Z"
   },
   {
    "duration": 59,
    "start_time": "2021-10-16T02:37:14.556Z"
   },
   {
    "duration": 19,
    "start_time": "2021-10-16T02:37:14.617Z"
   },
   {
    "duration": 62,
    "start_time": "2021-10-16T02:37:14.639Z"
   },
   {
    "duration": 82,
    "start_time": "2021-10-16T02:37:14.703Z"
   },
   {
    "duration": 30,
    "start_time": "2021-10-16T02:37:14.787Z"
   },
   {
    "duration": 984,
    "start_time": "2021-10-16T02:37:14.820Z"
   },
   {
    "duration": 20,
    "start_time": "2021-10-16T02:37:15.806Z"
   },
   {
    "duration": 11,
    "start_time": "2021-10-16T02:37:15.828Z"
   },
   {
    "duration": 52,
    "start_time": "2021-10-16T02:37:15.841Z"
   },
   {
    "duration": 335,
    "start_time": "2021-10-16T02:37:15.895Z"
   },
   {
    "duration": -175,
    "start_time": "2021-10-16T02:37:16.409Z"
   },
   {
    "duration": -178,
    "start_time": "2021-10-16T02:37:16.413Z"
   },
   {
    "duration": -179,
    "start_time": "2021-10-16T02:37:16.416Z"
   },
   {
    "duration": -181,
    "start_time": "2021-10-16T02:37:16.419Z"
   },
   {
    "duration": -184,
    "start_time": "2021-10-16T02:37:16.424Z"
   },
   {
    "duration": -188,
    "start_time": "2021-10-16T02:37:16.429Z"
   },
   {
    "duration": -191,
    "start_time": "2021-10-16T02:37:16.434Z"
   },
   {
    "duration": -193,
    "start_time": "2021-10-16T02:37:16.437Z"
   },
   {
    "duration": -194,
    "start_time": "2021-10-16T02:37:16.440Z"
   },
   {
    "duration": -196,
    "start_time": "2021-10-16T02:37:16.443Z"
   },
   {
    "duration": -197,
    "start_time": "2021-10-16T02:37:16.446Z"
   },
   {
    "duration": -198,
    "start_time": "2021-10-16T02:37:16.448Z"
   },
   {
    "duration": -201,
    "start_time": "2021-10-16T02:37:16.452Z"
   },
   {
    "duration": -201,
    "start_time": "2021-10-16T02:37:16.454Z"
   },
   {
    "duration": -204,
    "start_time": "2021-10-16T02:37:16.458Z"
   },
   {
    "duration": -204,
    "start_time": "2021-10-16T02:37:16.460Z"
   },
   {
    "duration": 24,
    "start_time": "2021-10-16T02:38:48.182Z"
   },
   {
    "duration": 8876,
    "start_time": "2021-10-16T02:41:19.936Z"
   },
   {
    "duration": 917,
    "start_time": "2021-10-16T02:41:38.715Z"
   },
   {
    "duration": 255,
    "start_time": "2021-10-16T02:54:01.442Z"
   },
   {
    "duration": 1231,
    "start_time": "2021-10-16T02:54:08.198Z"
   },
   {
    "duration": 87,
    "start_time": "2021-10-16T02:54:09.431Z"
   },
   {
    "duration": 72,
    "start_time": "2021-10-16T02:54:09.521Z"
   },
   {
    "duration": 166,
    "start_time": "2021-10-16T02:54:09.596Z"
   },
   {
    "duration": 26,
    "start_time": "2021-10-16T02:54:09.765Z"
   },
   {
    "duration": 40,
    "start_time": "2021-10-16T02:54:09.793Z"
   },
   {
    "duration": 58,
    "start_time": "2021-10-16T02:54:09.835Z"
   },
   {
    "duration": 14,
    "start_time": "2021-10-16T02:54:09.897Z"
   },
   {
    "duration": 33,
    "start_time": "2021-10-16T02:54:09.914Z"
   },
   {
    "duration": 82,
    "start_time": "2021-10-16T02:54:09.949Z"
   },
   {
    "duration": 55,
    "start_time": "2021-10-16T02:54:10.034Z"
   },
   {
    "duration": 64,
    "start_time": "2021-10-16T02:54:10.091Z"
   },
   {
    "duration": 59,
    "start_time": "2021-10-16T02:54:10.158Z"
   },
   {
    "duration": 22,
    "start_time": "2021-10-16T02:54:10.219Z"
   },
   {
    "duration": 67,
    "start_time": "2021-10-16T02:54:10.243Z"
   },
   {
    "duration": 72,
    "start_time": "2021-10-16T02:54:10.312Z"
   },
   {
    "duration": 12,
    "start_time": "2021-10-16T02:54:10.386Z"
   },
   {
    "duration": 32,
    "start_time": "2021-10-16T02:54:10.400Z"
   },
   {
    "duration": 954,
    "start_time": "2021-10-16T02:54:10.435Z"
   },
   {
    "duration": 20,
    "start_time": "2021-10-16T02:54:11.391Z"
   },
   {
    "duration": 21,
    "start_time": "2021-10-16T02:54:11.414Z"
   },
   {
    "duration": 814,
    "start_time": "2021-10-16T02:54:11.437Z"
   },
   {
    "duration": 332,
    "start_time": "2021-10-16T02:54:12.256Z"
   },
   {
    "duration": -123,
    "start_time": "2021-10-16T02:54:12.714Z"
   },
   {
    "duration": -125,
    "start_time": "2021-10-16T02:54:12.718Z"
   },
   {
    "duration": -127,
    "start_time": "2021-10-16T02:54:12.721Z"
   },
   {
    "duration": -129,
    "start_time": "2021-10-16T02:54:12.725Z"
   },
   {
    "duration": -131,
    "start_time": "2021-10-16T02:54:12.728Z"
   },
   {
    "duration": -135,
    "start_time": "2021-10-16T02:54:12.733Z"
   },
   {
    "duration": -136,
    "start_time": "2021-10-16T02:54:12.736Z"
   },
   {
    "duration": -138,
    "start_time": "2021-10-16T02:54:12.739Z"
   },
   {
    "duration": -140,
    "start_time": "2021-10-16T02:54:12.743Z"
   },
   {
    "duration": -142,
    "start_time": "2021-10-16T02:54:12.746Z"
   },
   {
    "duration": -145,
    "start_time": "2021-10-16T02:54:12.751Z"
   },
   {
    "duration": -147,
    "start_time": "2021-10-16T02:54:12.754Z"
   },
   {
    "duration": -149,
    "start_time": "2021-10-16T02:54:12.758Z"
   },
   {
    "duration": -151,
    "start_time": "2021-10-16T02:54:12.761Z"
   },
   {
    "duration": -154,
    "start_time": "2021-10-16T02:54:12.765Z"
   },
   {
    "duration": -156,
    "start_time": "2021-10-16T02:54:12.769Z"
   },
   {
    "duration": -159,
    "start_time": "2021-10-16T02:54:12.773Z"
   },
   {
    "duration": 23,
    "start_time": "2021-10-16T03:00:20.718Z"
   },
   {
    "duration": 25,
    "start_time": "2021-10-16T03:01:38.856Z"
   },
   {
    "duration": 34,
    "start_time": "2021-10-16T03:01:53.607Z"
   },
   {
    "duration": 48,
    "start_time": "2021-10-16T03:03:19.932Z"
   },
   {
    "duration": 1094,
    "start_time": "2021-10-16T03:03:28.235Z"
   },
   {
    "duration": 83,
    "start_time": "2021-10-16T03:03:29.331Z"
   },
   {
    "duration": 70,
    "start_time": "2021-10-16T03:03:29.417Z"
   },
   {
    "duration": 163,
    "start_time": "2021-10-16T03:03:29.490Z"
   },
   {
    "duration": 15,
    "start_time": "2021-10-16T03:03:29.656Z"
   },
   {
    "duration": 39,
    "start_time": "2021-10-16T03:03:29.683Z"
   },
   {
    "duration": 34,
    "start_time": "2021-10-16T03:03:29.725Z"
   },
   {
    "duration": 13,
    "start_time": "2021-10-16T03:03:29.784Z"
   },
   {
    "duration": 33,
    "start_time": "2021-10-16T03:03:29.800Z"
   },
   {
    "duration": 86,
    "start_time": "2021-10-16T03:03:29.836Z"
   },
   {
    "duration": 35,
    "start_time": "2021-10-16T03:03:29.924Z"
   },
   {
    "duration": 70,
    "start_time": "2021-10-16T03:03:29.982Z"
   },
   {
    "duration": 55,
    "start_time": "2021-10-16T03:03:30.054Z"
   },
   {
    "duration": 19,
    "start_time": "2021-10-16T03:03:30.112Z"
   },
   {
    "duration": 56,
    "start_time": "2021-10-16T03:03:30.133Z"
   },
   {
    "duration": 63,
    "start_time": "2021-10-16T03:03:30.192Z"
   },
   {
    "duration": 32,
    "start_time": "2021-10-16T03:03:30.257Z"
   },
   {
    "duration": 59,
    "start_time": "2021-10-16T03:03:30.292Z"
   },
   {
    "duration": 978,
    "start_time": "2021-10-16T03:03:30.354Z"
   },
   {
    "duration": 20,
    "start_time": "2021-10-16T03:03:31.334Z"
   },
   {
    "duration": 40,
    "start_time": "2021-10-16T03:03:31.356Z"
   },
   {
    "duration": 827,
    "start_time": "2021-10-16T03:03:31.399Z"
   },
   {
    "duration": 21,
    "start_time": "2021-10-16T03:03:32.231Z"
   },
   {
    "duration": 48,
    "start_time": "2021-10-16T03:03:32.254Z"
   },
   {
    "duration": 36,
    "start_time": "2021-10-16T03:03:32.304Z"
   },
   {
    "duration": 61,
    "start_time": "2021-10-16T03:03:32.342Z"
   },
   {
    "duration": 42,
    "start_time": "2021-10-16T03:03:32.405Z"
   },
   {
    "duration": 68,
    "start_time": "2021-10-16T03:03:32.450Z"
   },
   {
    "duration": 7186,
    "start_time": "2021-10-16T03:03:32.520Z"
   },
   {
    "duration": -278,
    "start_time": "2021-10-16T03:03:39.987Z"
   },
   {
    "duration": -282,
    "start_time": "2021-10-16T03:03:39.992Z"
   },
   {
    "duration": -286,
    "start_time": "2021-10-16T03:03:39.998Z"
   },
   {
    "duration": -288,
    "start_time": "2021-10-16T03:03:40.001Z"
   },
   {
    "duration": -291,
    "start_time": "2021-10-16T03:03:40.005Z"
   },
   {
    "duration": 26,
    "start_time": "2021-10-16T03:04:20.658Z"
   },
   {
    "duration": 1120,
    "start_time": "2021-10-16T03:05:07.394Z"
   },
   {
    "duration": 82,
    "start_time": "2021-10-16T03:05:08.517Z"
   },
   {
    "duration": 80,
    "start_time": "2021-10-16T03:05:08.604Z"
   },
   {
    "duration": 174,
    "start_time": "2021-10-16T03:05:08.688Z"
   },
   {
    "duration": 31,
    "start_time": "2021-10-16T03:05:08.866Z"
   },
   {
    "duration": 42,
    "start_time": "2021-10-16T03:05:08.900Z"
   },
   {
    "duration": 63,
    "start_time": "2021-10-16T03:05:08.945Z"
   },
   {
    "duration": 16,
    "start_time": "2021-10-16T03:05:09.014Z"
   },
   {
    "duration": 70,
    "start_time": "2021-10-16T03:05:09.034Z"
   },
   {
    "duration": 46,
    "start_time": "2021-10-16T03:05:09.107Z"
   },
   {
    "duration": 47,
    "start_time": "2021-10-16T03:05:09.156Z"
   },
   {
    "duration": 82,
    "start_time": "2021-10-16T03:05:09.206Z"
   },
   {
    "duration": 36,
    "start_time": "2021-10-16T03:05:09.290Z"
   },
   {
    "duration": 19,
    "start_time": "2021-10-16T03:05:09.329Z"
   },
   {
    "duration": 58,
    "start_time": "2021-10-16T03:05:09.350Z"
   },
   {
    "duration": 75,
    "start_time": "2021-10-16T03:05:09.411Z"
   },
   {
    "duration": 11,
    "start_time": "2021-10-16T03:05:09.488Z"
   },
   {
    "duration": 32,
    "start_time": "2021-10-16T03:05:09.501Z"
   },
   {
    "duration": 966,
    "start_time": "2021-10-16T03:05:09.536Z"
   },
   {
    "duration": 20,
    "start_time": "2021-10-16T03:05:10.504Z"
   },
   {
    "duration": 19,
    "start_time": "2021-10-16T03:05:10.527Z"
   },
   {
    "duration": 841,
    "start_time": "2021-10-16T03:05:10.548Z"
   },
   {
    "duration": 22,
    "start_time": "2021-10-16T03:05:11.394Z"
   },
   {
    "duration": 26,
    "start_time": "2021-10-16T03:05:11.419Z"
   },
   {
    "duration": 35,
    "start_time": "2021-10-16T03:05:11.482Z"
   },
   {
    "duration": 48,
    "start_time": "2021-10-16T03:05:11.519Z"
   },
   {
    "duration": 39,
    "start_time": "2021-10-16T03:05:11.582Z"
   },
   {
    "duration": 68,
    "start_time": "2021-10-16T03:05:11.624Z"
   },
   {
    "duration": 6877,
    "start_time": "2021-10-16T03:05:11.695Z"
   },
   {
    "duration": -342,
    "start_time": "2021-10-16T03:05:18.916Z"
   },
   {
    "duration": -345,
    "start_time": "2021-10-16T03:05:18.921Z"
   },
   {
    "duration": -358,
    "start_time": "2021-10-16T03:05:18.935Z"
   },
   {
    "duration": -366,
    "start_time": "2021-10-16T03:05:18.945Z"
   },
   {
    "duration": -383,
    "start_time": "2021-10-16T03:05:18.963Z"
   },
   {
    "duration": 1150,
    "start_time": "2021-10-16T03:06:18.068Z"
   },
   {
    "duration": 81,
    "start_time": "2021-10-16T03:06:19.220Z"
   },
   {
    "duration": 47,
    "start_time": "2021-10-16T03:06:19.304Z"
   },
   {
    "duration": 162,
    "start_time": "2021-10-16T03:06:19.381Z"
   },
   {
    "duration": 16,
    "start_time": "2021-10-16T03:06:19.545Z"
   },
   {
    "duration": 57,
    "start_time": "2021-10-16T03:06:19.564Z"
   },
   {
    "duration": 35,
    "start_time": "2021-10-16T03:06:19.623Z"
   },
   {
    "duration": 13,
    "start_time": "2021-10-16T03:06:19.682Z"
   },
   {
    "duration": 31,
    "start_time": "2021-10-16T03:06:19.700Z"
   },
   {
    "duration": 80,
    "start_time": "2021-10-16T03:06:19.735Z"
   },
   {
    "duration": 32,
    "start_time": "2021-10-16T03:06:19.818Z"
   },
   {
    "duration": 86,
    "start_time": "2021-10-16T03:06:19.853Z"
   },
   {
    "duration": 53,
    "start_time": "2021-10-16T03:06:19.941Z"
   },
   {
    "duration": 22,
    "start_time": "2021-10-16T03:06:19.997Z"
   },
   {
    "duration": 63,
    "start_time": "2021-10-16T03:06:20.022Z"
   },
   {
    "duration": 63,
    "start_time": "2021-10-16T03:06:20.087Z"
   },
   {
    "duration": 33,
    "start_time": "2021-10-16T03:06:20.152Z"
   },
   {
    "duration": 33,
    "start_time": "2021-10-16T03:06:20.187Z"
   },
   {
    "duration": 960,
    "start_time": "2021-10-16T03:06:20.223Z"
   },
   {
    "duration": 19,
    "start_time": "2021-10-16T03:06:21.185Z"
   },
   {
    "duration": 20,
    "start_time": "2021-10-16T03:06:21.207Z"
   },
   {
    "duration": 855,
    "start_time": "2021-10-16T03:06:21.229Z"
   },
   {
    "duration": 21,
    "start_time": "2021-10-16T03:06:22.086Z"
   },
   {
    "duration": 25,
    "start_time": "2021-10-16T03:06:22.109Z"
   },
   {
    "duration": 71,
    "start_time": "2021-10-16T03:06:22.137Z"
   },
   {
    "duration": 35,
    "start_time": "2021-10-16T03:06:22.210Z"
   },
   {
    "duration": 61,
    "start_time": "2021-10-16T03:06:22.249Z"
   },
   {
    "duration": 41,
    "start_time": "2021-10-16T03:06:22.313Z"
   },
   {
    "duration": 7381,
    "start_time": "2021-10-16T03:06:22.356Z"
   },
   {
    "duration": -343,
    "start_time": "2021-10-16T03:06:30.083Z"
   },
   {
    "duration": -348,
    "start_time": "2021-10-16T03:06:30.089Z"
   },
   {
    "duration": -351,
    "start_time": "2021-10-16T03:06:30.093Z"
   },
   {
    "duration": -352,
    "start_time": "2021-10-16T03:06:30.096Z"
   },
   {
    "duration": -357,
    "start_time": "2021-10-16T03:06:30.102Z"
   },
   {
    "duration": 48,
    "start_time": "2021-10-16T03:09:39.348Z"
   },
   {
    "duration": 53,
    "start_time": "2021-10-16T03:10:48.855Z"
   },
   {
    "duration": 28,
    "start_time": "2021-10-16T03:15:11.105Z"
   },
   {
    "duration": 1239,
    "start_time": "2021-10-16T03:18:32.347Z"
   },
   {
    "duration": 61,
    "start_time": "2021-10-16T03:18:33.589Z"
   },
   {
    "duration": 76,
    "start_time": "2021-10-16T03:18:33.654Z"
   },
   {
    "duration": 200,
    "start_time": "2021-10-16T03:18:33.734Z"
   },
   {
    "duration": 17,
    "start_time": "2021-10-16T03:18:33.937Z"
   },
   {
    "duration": 58,
    "start_time": "2021-10-16T03:18:33.957Z"
   },
   {
    "duration": 34,
    "start_time": "2021-10-16T03:18:34.018Z"
   },
   {
    "duration": 15,
    "start_time": "2021-10-16T03:18:34.083Z"
   },
   {
    "duration": 33,
    "start_time": "2021-10-16T03:18:34.102Z"
   },
   {
    "duration": 80,
    "start_time": "2021-10-16T03:18:34.138Z"
   },
   {
    "duration": 34,
    "start_time": "2021-10-16T03:18:34.220Z"
   },
   {
    "duration": 85,
    "start_time": "2021-10-16T03:18:34.256Z"
   },
   {
    "duration": 50,
    "start_time": "2021-10-16T03:18:34.343Z"
   },
   {
    "duration": 20,
    "start_time": "2021-10-16T03:18:34.395Z"
   },
   {
    "duration": 37,
    "start_time": "2021-10-16T03:18:34.417Z"
   },
   {
    "duration": 87,
    "start_time": "2021-10-16T03:18:34.456Z"
   },
   {
    "duration": 11,
    "start_time": "2021-10-16T03:18:34.545Z"
   },
   {
    "duration": 53,
    "start_time": "2021-10-16T03:18:34.559Z"
   },
   {
    "duration": 958,
    "start_time": "2021-10-16T03:18:34.614Z"
   },
   {
    "duration": 24,
    "start_time": "2021-10-16T03:18:35.575Z"
   },
   {
    "duration": 19,
    "start_time": "2021-10-16T03:18:35.601Z"
   },
   {
    "duration": 812,
    "start_time": "2021-10-16T03:18:35.623Z"
   },
   {
    "duration": 45,
    "start_time": "2021-10-16T03:18:36.437Z"
   },
   {
    "duration": 27,
    "start_time": "2021-10-16T03:18:36.485Z"
   },
   {
    "duration": 35,
    "start_time": "2021-10-16T03:18:36.514Z"
   },
   {
    "duration": 39,
    "start_time": "2021-10-16T03:18:36.583Z"
   },
   {
    "duration": 61,
    "start_time": "2021-10-16T03:18:36.627Z"
   },
   {
    "duration": 47,
    "start_time": "2021-10-16T03:18:36.691Z"
   },
   {
    "duration": 64,
    "start_time": "2021-10-16T03:18:36.740Z"
   },
   {
    "duration": 51,
    "start_time": "2021-10-16T03:18:36.806Z"
   },
   {
    "duration": 337,
    "start_time": "2021-10-16T03:18:36.883Z"
   },
   {
    "duration": -209,
    "start_time": "2021-10-16T03:18:37.431Z"
   },
   {
    "duration": -211,
    "start_time": "2021-10-16T03:18:37.435Z"
   },
   {
    "duration": -214,
    "start_time": "2021-10-16T03:18:37.439Z"
   },
   {
    "duration": -217,
    "start_time": "2021-10-16T03:18:37.443Z"
   },
   {
    "duration": 23,
    "start_time": "2021-10-16T03:19:21.772Z"
   },
   {
    "duration": 242,
    "start_time": "2021-10-16T03:28:55.734Z"
   },
   {
    "duration": 25,
    "start_time": "2021-10-16T03:30:23.018Z"
   },
   {
    "duration": 1478,
    "start_time": "2021-10-16T03:32:20.687Z"
   },
   {
    "duration": 389,
    "start_time": "2021-10-17T19:53:55.720Z"
   },
   {
    "duration": 1269,
    "start_time": "2021-10-17T19:54:12.984Z"
   },
   {
    "duration": 81,
    "start_time": "2021-10-17T19:54:14.256Z"
   },
   {
    "duration": 71,
    "start_time": "2021-10-17T19:54:14.339Z"
   },
   {
    "duration": 188,
    "start_time": "2021-10-17T19:54:14.413Z"
   },
   {
    "duration": 16,
    "start_time": "2021-10-17T19:54:14.604Z"
   },
   {
    "duration": 43,
    "start_time": "2021-10-17T19:54:14.623Z"
   },
   {
    "duration": 79,
    "start_time": "2021-10-17T19:54:14.670Z"
   },
   {
    "duration": 63,
    "start_time": "2021-10-17T19:54:14.755Z"
   },
   {
    "duration": 32,
    "start_time": "2021-10-17T19:54:14.821Z"
   },
   {
    "duration": 58,
    "start_time": "2021-10-17T19:54:14.856Z"
   },
   {
    "duration": 35,
    "start_time": "2021-10-17T19:54:14.916Z"
   },
   {
    "duration": 86,
    "start_time": "2021-10-17T19:54:14.954Z"
   },
   {
    "duration": 40,
    "start_time": "2021-10-17T19:54:15.042Z"
   },
   {
    "duration": 31,
    "start_time": "2021-10-17T19:54:15.085Z"
   },
   {
    "duration": 39,
    "start_time": "2021-10-17T19:54:15.118Z"
   },
   {
    "duration": 69,
    "start_time": "2021-10-17T19:54:15.159Z"
   },
   {
    "duration": 10,
    "start_time": "2021-10-17T19:54:15.230Z"
   },
   {
    "duration": 43,
    "start_time": "2021-10-17T19:54:15.242Z"
   },
   {
    "duration": 1794,
    "start_time": "2021-10-17T19:54:15.287Z"
   },
   {
    "duration": 38,
    "start_time": "2021-10-17T19:54:17.084Z"
   },
   {
    "duration": 33,
    "start_time": "2021-10-17T19:54:17.125Z"
   },
   {
    "duration": 1141,
    "start_time": "2021-10-17T19:54:17.161Z"
   },
   {
    "duration": 24,
    "start_time": "2021-10-17T19:54:18.307Z"
   },
   {
    "duration": 28,
    "start_time": "2021-10-17T19:54:18.334Z"
   },
   {
    "duration": 36,
    "start_time": "2021-10-17T19:54:18.400Z"
   },
   {
    "duration": 66,
    "start_time": "2021-10-17T19:54:18.439Z"
   },
   {
    "duration": 44,
    "start_time": "2021-10-17T19:54:18.508Z"
   },
   {
    "duration": 75,
    "start_time": "2021-10-17T19:54:18.555Z"
   },
   {
    "duration": 71,
    "start_time": "2021-10-17T19:54:18.633Z"
   },
   {
    "duration": 53,
    "start_time": "2021-10-17T19:54:18.707Z"
   },
   {
    "duration": 49,
    "start_time": "2021-10-17T19:54:18.763Z"
   },
   {
    "duration": 25,
    "start_time": "2021-10-17T19:54:18.814Z"
   },
   {
    "duration": 1640,
    "start_time": "2021-10-17T19:54:18.842Z"
   },
   {
    "duration": 17,
    "start_time": "2021-10-17T19:54:20.485Z"
   },
   {
    "duration": 1739,
    "start_time": "2021-10-17T19:54:20.504Z"
   },
   {
    "duration": 8877,
    "start_time": "2021-10-17T19:59:39.744Z"
   },
   {
    "duration": 1241,
    "start_time": "2021-10-17T20:00:24.834Z"
   },
   {
    "duration": 71,
    "start_time": "2021-10-17T20:00:26.078Z"
   },
   {
    "duration": 53,
    "start_time": "2021-10-17T20:00:27.733Z"
   },
   {
    "duration": 177,
    "start_time": "2021-10-17T20:00:27.789Z"
   },
   {
    "duration": 30,
    "start_time": "2021-10-17T20:00:27.970Z"
   },
   {
    "duration": 45,
    "start_time": "2021-10-17T20:00:28.004Z"
   },
   {
    "duration": 71,
    "start_time": "2021-10-17T20:00:28.052Z"
   },
   {
    "duration": 18,
    "start_time": "2021-10-17T20:00:28.126Z"
   },
   {
    "duration": 76,
    "start_time": "2021-10-17T20:00:28.147Z"
   },
   {
    "duration": 77,
    "start_time": "2021-10-17T20:00:28.229Z"
   },
   {
    "duration": 36,
    "start_time": "2021-10-17T20:00:28.310Z"
   },
   {
    "duration": 99,
    "start_time": "2021-10-17T20:00:28.348Z"
   },
   {
    "duration": 39,
    "start_time": "2021-10-17T20:00:28.449Z"
   },
   {
    "duration": 22,
    "start_time": "2021-10-17T20:00:28.502Z"
   },
   {
    "duration": 40,
    "start_time": "2021-10-17T20:00:28.526Z"
   },
   {
    "duration": 93,
    "start_time": "2021-10-17T20:00:28.570Z"
   },
   {
    "duration": 11,
    "start_time": "2021-10-17T20:00:28.666Z"
   },
   {
    "duration": 33,
    "start_time": "2021-10-17T20:00:28.700Z"
   },
   {
    "duration": 1059,
    "start_time": "2021-10-17T20:00:28.736Z"
   },
   {
    "duration": 23,
    "start_time": "2021-10-17T20:00:29.801Z"
   },
   {
    "duration": 23,
    "start_time": "2021-10-17T20:00:29.827Z"
   },
   {
    "duration": 916,
    "start_time": "2021-10-17T20:00:29.852Z"
   },
   {
    "duration": 35,
    "start_time": "2021-10-17T20:00:30.770Z"
   },
   {
    "duration": 30,
    "start_time": "2021-10-17T20:00:30.808Z"
   },
   {
    "duration": 92,
    "start_time": "2021-10-17T20:00:30.846Z"
   },
   {
    "duration": 78,
    "start_time": "2021-10-17T20:00:30.942Z"
   },
   {
    "duration": 92,
    "start_time": "2021-10-17T20:00:31.023Z"
   },
   {
    "duration": 49,
    "start_time": "2021-10-17T20:00:31.117Z"
   },
   {
    "duration": 84,
    "start_time": "2021-10-17T20:00:31.168Z"
   },
   {
    "duration": 73,
    "start_time": "2021-10-17T20:00:31.255Z"
   },
   {
    "duration": 27,
    "start_time": "2021-10-17T20:00:31.330Z"
   },
   {
    "duration": 57,
    "start_time": "2021-10-17T20:00:31.360Z"
   },
   {
    "duration": 1816,
    "start_time": "2021-10-17T20:00:31.419Z"
   },
   {
    "duration": 8504,
    "start_time": "2021-10-17T20:00:33.238Z"
   },
   {
    "duration": -306,
    "start_time": "2021-10-17T20:00:42.051Z"
   },
   {
    "duration": 9034,
    "start_time": "2021-10-17T20:04:06.929Z"
   },
   {
    "duration": 21,
    "start_time": "2021-10-17T20:04:36.918Z"
   },
   {
    "duration": 48,
    "start_time": "2021-10-17T20:05:13.345Z"
   },
   {
    "duration": 49,
    "start_time": "2021-10-17T20:07:23.624Z"
   },
   {
    "duration": 1809,
    "start_time": "2021-10-18T18:13:37.704Z"
   },
   {
    "duration": 61,
    "start_time": "2021-10-18T18:13:39.515Z"
   },
   {
    "duration": 73,
    "start_time": "2021-10-18T18:13:39.579Z"
   },
   {
    "duration": 172,
    "start_time": "2021-10-18T18:13:39.654Z"
   },
   {
    "duration": 17,
    "start_time": "2021-10-18T18:13:39.828Z"
   },
   {
    "duration": 43,
    "start_time": "2021-10-18T18:13:39.847Z"
   },
   {
    "duration": 59,
    "start_time": "2021-10-18T18:13:39.892Z"
   },
   {
    "duration": 13,
    "start_time": "2021-10-18T18:13:39.955Z"
   },
   {
    "duration": 68,
    "start_time": "2021-10-18T18:13:39.971Z"
   },
   {
    "duration": 49,
    "start_time": "2021-10-18T18:13:40.042Z"
   },
   {
    "duration": 51,
    "start_time": "2021-10-18T18:13:40.093Z"
   },
   {
    "duration": 80,
    "start_time": "2021-10-18T18:13:40.147Z"
   },
   {
    "duration": 38,
    "start_time": "2021-10-18T18:13:40.230Z"
   },
   {
    "duration": 20,
    "start_time": "2021-10-18T18:13:40.271Z"
   },
   {
    "duration": 63,
    "start_time": "2021-10-18T18:13:40.293Z"
   },
   {
    "duration": 86,
    "start_time": "2021-10-18T18:13:40.359Z"
   },
   {
    "duration": 12,
    "start_time": "2021-10-18T18:13:40.447Z"
   },
   {
    "duration": 33,
    "start_time": "2021-10-18T18:13:40.462Z"
   },
   {
    "duration": 1013,
    "start_time": "2021-10-18T18:13:40.497Z"
   },
   {
    "duration": 26,
    "start_time": "2021-10-18T18:13:41.512Z"
   },
   {
    "duration": 22,
    "start_time": "2021-10-18T18:13:41.540Z"
   },
   {
    "duration": 875,
    "start_time": "2021-10-18T18:13:41.564Z"
   },
   {
    "duration": 24,
    "start_time": "2021-10-18T18:13:42.444Z"
   },
   {
    "duration": 55,
    "start_time": "2021-10-18T18:13:42.471Z"
   },
   {
    "duration": 36,
    "start_time": "2021-10-18T18:13:42.529Z"
   },
   {
    "duration": 64,
    "start_time": "2021-10-18T18:13:42.567Z"
   },
   {
    "duration": 45,
    "start_time": "2021-10-18T18:13:42.633Z"
   },
   {
    "duration": 68,
    "start_time": "2021-10-18T18:13:42.680Z"
   },
   {
    "duration": 75,
    "start_time": "2021-10-18T18:13:42.750Z"
   },
   {
    "duration": 55,
    "start_time": "2021-10-18T18:13:42.827Z"
   },
   {
    "duration": 54,
    "start_time": "2021-10-18T18:13:42.885Z"
   },
   {
    "duration": 24,
    "start_time": "2021-10-18T18:13:42.942Z"
   },
   {
    "duration": 127,
    "start_time": "2021-10-18T18:13:42.969Z"
   },
   {
    "duration": 1557,
    "start_time": "2021-10-18T18:13:43.099Z"
   },
   {
    "duration": 29,
    "start_time": "2021-10-18T18:13:44.659Z"
   },
   {
    "duration": 10,
    "start_time": "2021-10-18T18:16:59.159Z"
   },
   {
    "duration": 345,
    "start_time": "2021-10-18T18:36:19.789Z"
   },
   {
    "duration": 6763,
    "start_time": "2021-10-18T18:38:44.710Z"
   },
   {
    "duration": 1324,
    "start_time": "2021-10-18T18:39:07.727Z"
   },
   {
    "duration": 76,
    "start_time": "2021-10-18T18:39:09.054Z"
   },
   {
    "duration": 48,
    "start_time": "2021-10-18T18:39:09.133Z"
   },
   {
    "duration": 200,
    "start_time": "2021-10-18T18:39:09.184Z"
   },
   {
    "duration": 16,
    "start_time": "2021-10-18T18:39:09.387Z"
   },
   {
    "duration": 53,
    "start_time": "2021-10-18T18:39:09.405Z"
   },
   {
    "duration": 33,
    "start_time": "2021-10-18T18:39:09.461Z"
   },
   {
    "duration": 34,
    "start_time": "2021-10-18T18:39:09.498Z"
   },
   {
    "duration": 32,
    "start_time": "2021-10-18T18:39:09.535Z"
   },
   {
    "duration": 81,
    "start_time": "2021-10-18T18:39:09.569Z"
   },
   {
    "duration": 33,
    "start_time": "2021-10-18T18:39:09.653Z"
   },
   {
    "duration": 89,
    "start_time": "2021-10-18T18:39:09.688Z"
   },
   {
    "duration": 52,
    "start_time": "2021-10-18T18:39:09.780Z"
   },
   {
    "duration": 22,
    "start_time": "2021-10-18T18:39:09.835Z"
   },
   {
    "duration": 62,
    "start_time": "2021-10-18T18:39:09.860Z"
   },
   {
    "duration": 63,
    "start_time": "2021-10-18T18:39:09.925Z"
   },
   {
    "duration": 33,
    "start_time": "2021-10-18T18:39:09.991Z"
   },
   {
    "duration": 38,
    "start_time": "2021-10-18T18:39:10.027Z"
   },
   {
    "duration": 1004,
    "start_time": "2021-10-18T18:39:10.068Z"
   },
   {
    "duration": 20,
    "start_time": "2021-10-18T18:39:11.075Z"
   },
   {
    "duration": 43,
    "start_time": "2021-10-18T18:39:11.097Z"
   },
   {
    "duration": 841,
    "start_time": "2021-10-18T18:39:11.143Z"
   },
   {
    "duration": 42,
    "start_time": "2021-10-18T18:39:11.989Z"
   },
   {
    "duration": 26,
    "start_time": "2021-10-18T18:39:12.034Z"
   },
   {
    "duration": 62,
    "start_time": "2021-10-18T18:39:12.062Z"
   },
   {
    "duration": 40,
    "start_time": "2021-10-18T18:39:12.127Z"
   },
   {
    "duration": 73,
    "start_time": "2021-10-18T18:39:12.170Z"
   },
   {
    "duration": 48,
    "start_time": "2021-10-18T18:39:12.246Z"
   },
   {
    "duration": 83,
    "start_time": "2021-10-18T18:39:12.296Z"
   },
   {
    "duration": 139,
    "start_time": "2021-10-18T18:39:12.382Z"
   },
   {
    "duration": 27,
    "start_time": "2021-10-18T18:39:12.524Z"
   },
   {
    "duration": 26,
    "start_time": "2021-10-18T18:39:12.553Z"
   },
   {
    "duration": 125,
    "start_time": "2021-10-18T18:39:12.581Z"
   },
   {
    "duration": 1906,
    "start_time": "2021-10-18T18:39:12.709Z"
   },
   {
    "duration": 6582,
    "start_time": "2021-10-18T18:39:14.618Z"
   },
   {
    "duration": -389,
    "start_time": "2021-10-18T18:39:21.591Z"
   },
   {
    "duration": 8405,
    "start_time": "2021-10-18T18:39:56.022Z"
   },
   {
    "duration": 265,
    "start_time": "2021-10-18T18:43:13.533Z"
   },
   {
    "duration": 467,
    "start_time": "2021-10-18T18:43:39.859Z"
   },
   {
    "duration": 11,
    "start_time": "2021-10-18T18:44:06.537Z"
   },
   {
    "duration": 982,
    "start_time": "2021-10-18T18:53:09.697Z"
   },
   {
    "duration": 19,
    "start_time": "2021-10-18T18:55:14.566Z"
   },
   {
    "duration": 22,
    "start_time": "2021-10-18T18:55:18.240Z"
   },
   {
    "duration": 268,
    "start_time": "2021-10-18T18:58:19.788Z"
   },
   {
    "duration": 15,
    "start_time": "2021-10-18T18:58:32.165Z"
   },
   {
    "duration": 7,
    "start_time": "2021-10-18T19:00:31.611Z"
   },
   {
    "duration": 7,
    "start_time": "2021-10-18T19:00:51.222Z"
   },
   {
    "duration": 22,
    "start_time": "2021-10-18T19:07:57.789Z"
   },
   {
    "duration": 289,
    "start_time": "2021-10-18T19:10:57.543Z"
   },
   {
    "duration": 257,
    "start_time": "2021-10-18T19:11:03.767Z"
   },
   {
    "duration": 7,
    "start_time": "2021-10-18T19:11:28.270Z"
   },
   {
    "duration": 310,
    "start_time": "2021-10-18T20:00:30.353Z"
   },
   {
    "duration": 86,
    "start_time": "2021-10-18T20:01:18.669Z"
   },
   {
    "duration": 262,
    "start_time": "2021-10-18T20:01:23.276Z"
   },
   {
    "duration": 277,
    "start_time": "2021-10-18T20:01:33.000Z"
   },
   {
    "duration": 324,
    "start_time": "2021-10-18T20:02:21.843Z"
   },
   {
    "duration": 9,
    "start_time": "2021-10-18T20:02:33.620Z"
   },
   {
    "duration": 2542,
    "start_time": "2021-10-18T20:03:38.161Z"
   },
   {
    "duration": 12,
    "start_time": "2021-10-18T20:04:17.748Z"
   },
   {
    "duration": 56,
    "start_time": "2021-10-18T20:12:00.413Z"
   },
   {
    "duration": 24,
    "start_time": "2021-10-18T20:16:59.785Z"
   },
   {
    "duration": 28,
    "start_time": "2021-10-18T20:17:43.812Z"
   },
   {
    "duration": 1131,
    "start_time": "2021-10-18T20:18:15.055Z"
   },
   {
    "duration": 87,
    "start_time": "2021-10-18T20:18:16.190Z"
   },
   {
    "duration": 83,
    "start_time": "2021-10-18T20:18:16.281Z"
   },
   {
    "duration": 204,
    "start_time": "2021-10-18T20:18:16.367Z"
   },
   {
    "duration": 16,
    "start_time": "2021-10-18T20:18:16.574Z"
   },
   {
    "duration": 67,
    "start_time": "2021-10-18T20:18:16.593Z"
   },
   {
    "duration": 36,
    "start_time": "2021-10-18T20:18:16.662Z"
   },
   {
    "duration": 30,
    "start_time": "2021-10-18T20:18:16.701Z"
   },
   {
    "duration": 35,
    "start_time": "2021-10-18T20:18:16.734Z"
   },
   {
    "duration": 99,
    "start_time": "2021-10-18T20:18:16.773Z"
   },
   {
    "duration": 70,
    "start_time": "2021-10-18T20:18:16.876Z"
   },
   {
    "duration": 93,
    "start_time": "2021-10-18T20:18:16.949Z"
   },
   {
    "duration": 43,
    "start_time": "2021-10-18T20:18:17.046Z"
   },
   {
    "duration": 50,
    "start_time": "2021-10-18T20:18:17.093Z"
   },
   {
    "duration": 77,
    "start_time": "2021-10-18T20:18:17.147Z"
   },
   {
    "duration": 69,
    "start_time": "2021-10-18T20:18:17.227Z"
   },
   {
    "duration": 37,
    "start_time": "2021-10-18T20:18:17.299Z"
   },
   {
    "duration": 36,
    "start_time": "2021-10-18T20:18:17.339Z"
   },
   {
    "duration": 1017,
    "start_time": "2021-10-18T20:18:17.378Z"
   },
   {
    "duration": 38,
    "start_time": "2021-10-18T20:18:18.397Z"
   },
   {
    "duration": 21,
    "start_time": "2021-10-18T20:18:18.438Z"
   },
   {
    "duration": 883,
    "start_time": "2021-10-18T20:18:18.461Z"
   },
   {
    "duration": 23,
    "start_time": "2021-10-18T20:18:19.349Z"
   },
   {
    "duration": 64,
    "start_time": "2021-10-18T20:18:19.375Z"
   },
   {
    "duration": 36,
    "start_time": "2021-10-18T20:18:19.442Z"
   },
   {
    "duration": 69,
    "start_time": "2021-10-18T20:18:19.480Z"
   },
   {
    "duration": 41,
    "start_time": "2021-10-18T20:18:19.551Z"
   },
   {
    "duration": 49,
    "start_time": "2021-10-18T20:18:19.623Z"
   },
   {
    "duration": 92,
    "start_time": "2021-10-18T20:18:19.674Z"
   },
   {
    "duration": 76,
    "start_time": "2021-10-18T20:18:19.769Z"
   },
   {
    "duration": 26,
    "start_time": "2021-10-18T20:18:19.848Z"
   },
   {
    "duration": 56,
    "start_time": "2021-10-18T20:18:19.876Z"
   },
   {
    "duration": 119,
    "start_time": "2021-10-18T20:18:19.935Z"
   },
   {
    "duration": 1542,
    "start_time": "2021-10-18T20:18:20.057Z"
   },
   {
    "duration": 22,
    "start_time": "2021-10-18T20:18:21.601Z"
   },
   {
    "duration": 490,
    "start_time": "2021-10-18T20:18:21.626Z"
   },
   {
    "duration": 7,
    "start_time": "2021-10-18T20:18:22.122Z"
   },
   {
    "duration": 18,
    "start_time": "2021-10-18T20:18:22.131Z"
   },
   {
    "duration": 2859,
    "start_time": "2021-10-18T20:18:22.152Z"
   },
   {
    "duration": 17,
    "start_time": "2021-10-18T20:18:25.013Z"
   },
   {
    "duration": 90,
    "start_time": "2021-10-18T20:18:25.032Z"
   },
   {
    "duration": 28,
    "start_time": "2021-10-18T20:18:25.125Z"
   },
   {
    "duration": 25,
    "start_time": "2021-10-18T20:19:26.458Z"
   },
   {
    "duration": 9,
    "start_time": "2021-10-18T20:21:56.715Z"
   },
   {
    "duration": 979,
    "start_time": "2021-10-18T20:25:14.074Z"
   },
   {
    "duration": 1198,
    "start_time": "2021-10-18T20:25:58.895Z"
   },
   {
    "duration": 70,
    "start_time": "2021-10-18T20:26:00.096Z"
   },
   {
    "duration": 77,
    "start_time": "2021-10-18T20:26:00.169Z"
   },
   {
    "duration": 194,
    "start_time": "2021-10-18T20:26:00.249Z"
   },
   {
    "duration": 17,
    "start_time": "2021-10-18T20:26:00.445Z"
   },
   {
    "duration": 70,
    "start_time": "2021-10-18T20:26:00.464Z"
   },
   {
    "duration": 35,
    "start_time": "2021-10-18T20:26:00.536Z"
   },
   {
    "duration": 48,
    "start_time": "2021-10-18T20:26:00.574Z"
   },
   {
    "duration": 40,
    "start_time": "2021-10-18T20:26:00.627Z"
   },
   {
    "duration": 74,
    "start_time": "2021-10-18T20:26:00.670Z"
   },
   {
    "duration": 35,
    "start_time": "2021-10-18T20:26:00.746Z"
   },
   {
    "duration": 95,
    "start_time": "2021-10-18T20:26:00.784Z"
   },
   {
    "duration": 57,
    "start_time": "2021-10-18T20:26:00.881Z"
   },
   {
    "duration": 22,
    "start_time": "2021-10-18T20:26:00.940Z"
   },
   {
    "duration": 71,
    "start_time": "2021-10-18T20:26:00.965Z"
   },
   {
    "duration": 86,
    "start_time": "2021-10-18T20:26:01.038Z"
   },
   {
    "duration": 14,
    "start_time": "2021-10-18T20:26:01.127Z"
   },
   {
    "duration": 49,
    "start_time": "2021-10-18T20:26:01.144Z"
   },
   {
    "duration": 1052,
    "start_time": "2021-10-18T20:26:01.195Z"
   },
   {
    "duration": 25,
    "start_time": "2021-10-18T20:26:02.250Z"
   },
   {
    "duration": 49,
    "start_time": "2021-10-18T20:26:02.277Z"
   },
   {
    "duration": 878,
    "start_time": "2021-10-18T20:26:02.329Z"
   },
   {
    "duration": 33,
    "start_time": "2021-10-18T20:26:03.210Z"
   },
   {
    "duration": 28,
    "start_time": "2021-10-18T20:26:03.245Z"
   },
   {
    "duration": 82,
    "start_time": "2021-10-18T20:26:03.276Z"
   },
   {
    "duration": 68,
    "start_time": "2021-10-18T20:26:03.361Z"
   },
   {
    "duration": 45,
    "start_time": "2021-10-18T20:26:03.437Z"
   },
   {
    "duration": 85,
    "start_time": "2021-10-18T20:26:03.486Z"
   },
   {
    "duration": 91,
    "start_time": "2021-10-18T20:26:03.573Z"
   },
   {
    "duration": 72,
    "start_time": "2021-10-18T20:26:03.666Z"
   },
   {
    "duration": 28,
    "start_time": "2021-10-18T20:26:03.740Z"
   },
   {
    "duration": 61,
    "start_time": "2021-10-18T20:26:03.770Z"
   },
   {
    "duration": 123,
    "start_time": "2021-10-18T20:26:03.833Z"
   },
   {
    "duration": 1578,
    "start_time": "2021-10-18T20:26:03.959Z"
   },
   {
    "duration": 12,
    "start_time": "2021-10-18T20:26:05.540Z"
   },
   {
    "duration": 558,
    "start_time": "2021-10-18T20:26:05.555Z"
   },
   {
    "duration": 7,
    "start_time": "2021-10-18T20:26:06.123Z"
   },
   {
    "duration": 19,
    "start_time": "2021-10-18T20:26:06.133Z"
   },
   {
    "duration": 2572,
    "start_time": "2021-10-18T20:26:06.156Z"
   },
   {
    "duration": 12,
    "start_time": "2021-10-18T20:26:08.731Z"
   },
   {
    "duration": 98,
    "start_time": "2021-10-18T20:26:08.746Z"
   },
   {
    "duration": 22,
    "start_time": "2021-10-18T20:26:08.847Z"
   },
   {
    "duration": 8,
    "start_time": "2021-10-18T20:26:08.872Z"
   },
   {
    "duration": 43,
    "start_time": "2021-10-18T20:26:08.882Z"
   },
   {
    "duration": 935,
    "start_time": "2021-10-19T17:54:02.494Z"
   },
   {
    "duration": 45,
    "start_time": "2021-10-19T17:54:03.431Z"
   },
   {
    "duration": 37,
    "start_time": "2021-10-19T17:54:03.478Z"
   },
   {
    "duration": 154,
    "start_time": "2021-10-19T17:54:03.517Z"
   },
   {
    "duration": 11,
    "start_time": "2021-10-19T17:54:03.673Z"
   },
   {
    "duration": 30,
    "start_time": "2021-10-19T17:54:03.686Z"
   },
   {
    "duration": 50,
    "start_time": "2021-10-19T17:54:03.718Z"
   },
   {
    "duration": 10,
    "start_time": "2021-10-19T17:54:03.771Z"
   },
   {
    "duration": 24,
    "start_time": "2021-10-19T17:54:03.783Z"
   },
   {
    "duration": 63,
    "start_time": "2021-10-19T17:54:03.808Z"
   },
   {
    "duration": 25,
    "start_time": "2021-10-19T17:54:03.873Z"
   },
   {
    "duration": 72,
    "start_time": "2021-10-19T17:54:03.900Z"
   },
   {
    "duration": 31,
    "start_time": "2021-10-19T17:54:03.974Z"
   },
   {
    "duration": 16,
    "start_time": "2021-10-19T17:54:04.006Z"
   },
   {
    "duration": 54,
    "start_time": "2021-10-19T17:54:04.023Z"
   },
   {
    "duration": 44,
    "start_time": "2021-10-19T17:54:04.079Z"
   },
   {
    "duration": 8,
    "start_time": "2021-10-19T17:54:04.124Z"
   },
   {
    "duration": 42,
    "start_time": "2021-10-19T17:54:04.134Z"
   },
   {
    "duration": 703,
    "start_time": "2021-10-19T17:54:04.178Z"
   },
   {
    "duration": 16,
    "start_time": "2021-10-19T17:54:04.883Z"
   },
   {
    "duration": 25,
    "start_time": "2021-10-19T17:54:04.900Z"
   },
   {
    "duration": 546,
    "start_time": "2021-10-19T17:54:04.927Z"
   },
   {
    "duration": 16,
    "start_time": "2021-10-19T17:54:05.476Z"
   },
   {
    "duration": 20,
    "start_time": "2021-10-19T17:54:05.494Z"
   },
   {
    "duration": 53,
    "start_time": "2021-10-19T17:54:05.516Z"
   },
   {
    "duration": 25,
    "start_time": "2021-10-19T17:54:05.571Z"
   },
   {
    "duration": 38,
    "start_time": "2021-10-19T17:54:05.598Z"
   },
   {
    "duration": 42,
    "start_time": "2021-10-19T17:54:05.638Z"
   },
   {
    "duration": 36,
    "start_time": "2021-10-19T17:54:05.682Z"
   },
   {
    "duration": 57,
    "start_time": "2021-10-19T17:54:05.720Z"
   },
   {
    "duration": 16,
    "start_time": "2021-10-19T17:54:05.779Z"
   },
   {
    "duration": 15,
    "start_time": "2021-10-19T17:54:05.797Z"
   },
   {
    "duration": 80,
    "start_time": "2021-10-19T17:54:05.813Z"
   },
   {
    "duration": 946,
    "start_time": "2021-10-19T17:54:05.894Z"
   },
   {
    "duration": 6,
    "start_time": "2021-10-19T17:54:06.842Z"
   },
   {
    "duration": 431,
    "start_time": "2021-10-19T17:54:06.850Z"
   },
   {
    "duration": 5,
    "start_time": "2021-10-19T17:54:07.282Z"
   },
   {
    "duration": 17,
    "start_time": "2021-10-19T17:54:07.288Z"
   },
   {
    "duration": 1717,
    "start_time": "2021-10-19T17:54:07.307Z"
   },
   {
    "duration": 12,
    "start_time": "2021-10-19T17:54:09.026Z"
   },
   {
    "duration": 74,
    "start_time": "2021-10-19T17:54:09.040Z"
   },
   {
    "duration": 23,
    "start_time": "2021-10-19T17:54:09.116Z"
   },
   {
    "duration": 23,
    "start_time": "2021-10-19T17:54:09.141Z"
   },
   {
    "duration": 7,
    "start_time": "2021-10-19T17:54:09.166Z"
   },
   {
    "duration": 1133,
    "start_time": "2021-10-20T22:03:45.360Z"
   },
   {
    "duration": 59,
    "start_time": "2021-10-20T22:03:46.495Z"
   },
   {
    "duration": 76,
    "start_time": "2021-10-20T22:03:46.561Z"
   },
   {
    "duration": 176,
    "start_time": "2021-10-20T22:03:46.639Z"
   },
   {
    "duration": 16,
    "start_time": "2021-10-20T22:03:46.822Z"
   },
   {
    "duration": 42,
    "start_time": "2021-10-20T22:03:46.840Z"
   },
   {
    "duration": 62,
    "start_time": "2021-10-20T22:03:46.886Z"
   },
   {
    "duration": 12,
    "start_time": "2021-10-20T22:03:46.951Z"
   },
   {
    "duration": 61,
    "start_time": "2021-10-20T22:03:46.965Z"
   },
   {
    "duration": 51,
    "start_time": "2021-10-20T22:03:47.028Z"
   },
   {
    "duration": 53,
    "start_time": "2021-10-20T22:03:47.082Z"
   },
   {
    "duration": 65,
    "start_time": "2021-10-20T22:03:47.138Z"
   },
   {
    "duration": 53,
    "start_time": "2021-10-20T22:03:47.205Z"
   },
   {
    "duration": 21,
    "start_time": "2021-10-20T22:03:47.261Z"
   },
   {
    "duration": 63,
    "start_time": "2021-10-20T22:03:47.284Z"
   },
   {
    "duration": 78,
    "start_time": "2021-10-20T22:03:47.349Z"
   },
   {
    "duration": 12,
    "start_time": "2021-10-20T22:03:47.429Z"
   },
   {
    "duration": 36,
    "start_time": "2021-10-20T22:03:47.443Z"
   },
   {
    "duration": 1016,
    "start_time": "2021-10-20T22:03:47.482Z"
   },
   {
    "duration": 32,
    "start_time": "2021-10-20T22:03:48.500Z"
   },
   {
    "duration": 21,
    "start_time": "2021-10-20T22:03:48.534Z"
   },
   {
    "duration": 853,
    "start_time": "2021-10-20T22:03:48.560Z"
   },
   {
    "duration": 27,
    "start_time": "2021-10-20T22:03:49.416Z"
   },
   {
    "duration": 28,
    "start_time": "2021-10-20T22:03:49.446Z"
   },
   {
    "duration": 75,
    "start_time": "2021-10-20T22:03:49.476Z"
   },
   {
    "duration": 40,
    "start_time": "2021-10-20T22:03:49.553Z"
   },
   {
    "duration": 65,
    "start_time": "2021-10-20T22:03:49.595Z"
   },
   {
    "duration": 69,
    "start_time": "2021-10-20T22:03:49.662Z"
   },
   {
    "duration": 58,
    "start_time": "2021-10-20T22:03:49.734Z"
   },
   {
    "duration": 74,
    "start_time": "2021-10-20T22:03:49.794Z"
   },
   {
    "duration": 25,
    "start_time": "2021-10-20T22:03:49.870Z"
   },
   {
    "duration": 23,
    "start_time": "2021-10-20T22:03:49.921Z"
   },
   {
    "duration": 120,
    "start_time": "2021-10-20T22:03:49.946Z"
   },
   {
    "duration": 1516,
    "start_time": "2021-10-20T22:03:50.069Z"
   },
   {
    "duration": 10,
    "start_time": "2021-10-20T22:03:51.587Z"
   },
   {
    "duration": 504,
    "start_time": "2021-10-20T22:03:51.599Z"
   },
   {
    "duration": 16,
    "start_time": "2021-10-20T22:03:52.106Z"
   },
   {
    "duration": 9,
    "start_time": "2021-10-20T22:03:52.125Z"
   },
   {
    "duration": 2520,
    "start_time": "2021-10-20T22:03:52.137Z"
   },
   {
    "duration": 11,
    "start_time": "2021-10-20T22:03:54.660Z"
   },
   {
    "duration": 76,
    "start_time": "2021-10-20T22:03:54.674Z"
   },
   {
    "duration": 21,
    "start_time": "2021-10-20T22:03:54.753Z"
   },
   {
    "duration": 10,
    "start_time": "2021-10-20T22:03:54.776Z"
   },
   {
    "duration": 36,
    "start_time": "2021-10-20T22:03:54.788Z"
   }
  ],
  "kernelspec": {
   "display_name": "Python 3 (ipykernel)",
   "language": "python",
   "name": "python3"
  },
  "language_info": {
   "codemirror_mode": {
    "name": "ipython",
    "version": 3
   },
   "file_extension": ".py",
   "mimetype": "text/x-python",
   "name": "python",
   "nbconvert_exporter": "python",
   "pygments_lexer": "ipython3",
   "version": "3.9.5"
  },
  "toc": {
   "base_numbering": 1,
   "nav_menu": {},
   "number_sections": true,
   "sideBar": true,
   "skip_h1_title": true,
   "title_cell": "Table of Contents",
   "title_sidebar": "Contents",
   "toc_cell": false,
   "toc_position": {},
   "toc_section_display": true,
   "toc_window_display": false
  }
 },
 "nbformat": 4,
 "nbformat_minor": 2
}
